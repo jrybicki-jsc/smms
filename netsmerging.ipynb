{
 "cells": [
  {
   "cell_type": "code",
   "execution_count": 1,
   "metadata": {},
   "outputs": [],
   "source": [
    "from typing import Sequence, Callable\n",
    "from collections import defaultdict\n",
    "import operator\n",
    "import pandas as pd\n",
    "import numpy as np\n",
    "import random\n",
    "from sklearn.model_selection import train_test_split"
   ]
  },
  {
   "cell_type": "code",
   "execution_count": 2,
   "metadata": {},
   "outputs": [],
   "source": [
    "v = pd.read_csv('data/functions_encoded.csv')\n",
    "labels = pd.read_csv('./data/labels_encoded.csv')"
   ]
  },
  {
   "cell_type": "code",
   "execution_count": 3,
   "metadata": {},
   "outputs": [],
   "source": [
    "def mysample(v, sample_size):\n",
    "    r = random.sample(list(v.apn.unique()), k=sample_size)\n",
    "    #apns = v.apn.unique sample(sample_size, random_state=42)\n",
    "    return v[v.apn.isin(r)][['apn', 'nf']]"
   ]
  },
  {
   "cell_type": "code",
   "execution_count": 4,
   "metadata": {},
   "outputs": [],
   "source": [
    "smp = mysample(v, 100)\n",
    "funcs_smp = smp.groupby(by='apn')['nf'].apply(set)"
   ]
  },
  {
   "cell_type": "code",
   "execution_count": 5,
   "metadata": {},
   "outputs": [],
   "source": [
    "funcs = v.groupby(by='apn')['nf'].apply(set)\n",
    "\n",
    "\n",
    "def adf(apid1: int, apid2: int,funcs ) -> float:\n",
    "    p1 = funcs[apid1]\n",
    "    p2 = funcs[apid2]\n",
    "    \n",
    "    a= len(p1.difference(p2)) + len(p2.difference(p1))\n",
    "    return np.sqrt(a)"
   ]
  },
  {
   "cell_type": "code",
   "execution_count": 6,
   "metadata": {},
   "outputs": [],
   "source": [
    "def create_net(gamma:float, apns: Sequence[int], distance=lambda x, y: adf(x, y, funcs_smp)) -> Sequence[int]:   \n",
    "    np.random.shuffle(apns)\n",
    "    net = []\n",
    "\n",
    "    for a in apns:\n",
    "        insert = True\n",
    "        for n in net: \n",
    "            if distance(a, n) <= gamma:\n",
    "                insert = False\n",
    "                break\n",
    "        if insert:\n",
    "            net.append(a)\n",
    "            \n",
    "    return net\n",
    "\n",
    "def calculate_distances(net, distance: Callable)->Sequence[float]:\n",
    "    distances = []\n",
    "    for o in net:\n",
    "        for z in net:\n",
    "            if o == z:\n",
    "                continue\n",
    "            distances.append(distance(o, z))\n",
    "    return distances\n",
    "\n",
    "\n",
    "\n",
    "def create_aggregating_net(gamma:float, apns: Sequence[int], distance=lambda x, y: adf(x, y, funcs_smp)):   \n",
    "  #  np.random.shuffle(apns)\n",
    "    net = defaultdict(list)\n",
    "\n",
    "    for a in apns:\n",
    "        insert = True\n",
    "        for n in net.keys(): \n",
    "            if distance(a, n) <= gamma:\n",
    "                insert = False\n",
    "                net[n].append(a)\n",
    "                break #does it always belong to only one point? probably\n",
    "        if insert:\n",
    "            net[a] = list()\n",
    "            \n",
    "    return net\n",
    "\n",
    "def app_k_nearest(k, apps, new_app, distance):\n",
    "    byd = sorted(apps, key=lambda lp: distance(lp, new_app))\n",
    "    return byd[:k]"
   ]
  },
  {
   "cell_type": "markdown",
   "metadata": {},
   "source": [
    "## Marging methods"
   ]
  },
  {
   "cell_type": "code",
   "execution_count": 7,
   "metadata": {},
   "outputs": [],
   "source": [
    "# takes keys from both networks if key overlap the aggregates are merged\n",
    "def naive_merge(n1, n2):\n",
    "    nx = {**n1, **n2}\n",
    "    for key in nx.keys():\n",
    "        if key in n1:\n",
    "            nx[key] = list(set(nx[key]+n1[key]))\n",
    "    return nx\n",
    "\n",
    "# takes only keys that are at least gamma from each other, for keys closer than gamma, their aggregats are merged\n",
    "def key_based_merg(n1, n2, distance, gamma):\n",
    "    nx = {**n1}\n",
    "    for k, l in n2.items():\n",
    "        idf = True\n",
    "        for k2 in nx.keys():\n",
    "            if distance(k, k2)<gamma:\n",
    "                nx[k2]+=[li for li in l]\n",
    "                idf = False\n",
    "                break\n",
    "       \n",
    "        if idf:\n",
    "            if k not in nx:\n",
    "                nx[k]=[]\n",
    "            nx[k]+=[li for li in l]\n",
    "    \n",
    "    return nx\n",
    "\n",
    "#calculates net over point nets and use it as keys of the merged network (similar/same? to the key-based)\n",
    "def net_based_merge(n1, n2, distance, gamma):\n",
    "    nn = create_aggregating_net(gamma=gamma, \n",
    "                                apns=list(n1.keys())+list(n2.keys()), \n",
    "                                distance=distance)\n",
    "    targ = defaultdict(list)\n",
    "\n",
    "    for k,v in nn.items():\n",
    "        targ[k] = n1.get(k, []).copy()\n",
    "        targ[k] +=n2.get(k, []).copy()\n",
    "        for el in v:\n",
    "            targ[k] +=n1.get(el, []).copy()\n",
    "            targ[k] +=n2.get(el, []).copy()\n",
    "            targ[k].append(el)\n",
    "    \n",
    "    return targ"
   ]
  },
  {
   "cell_type": "markdown",
   "metadata": {},
   "source": [
    "## Merge Quality Measurements"
   ]
  },
  {
   "cell_type": "code",
   "execution_count": 8,
   "metadata": {},
   "outputs": [],
   "source": [
    "#checks if pairweise key distances are >= gamma (should be the case)\n",
    "def are_keys_correct(net, distance, gamma):\n",
    "    isok = True\n",
    "    keylist = list(net.keys())\n",
    "    for i,k in enumerate(keylist):\n",
    "        for j in keylist[i+1:]:\n",
    "            if (d:=distance(k, j)) < gamma:\n",
    "                #isok=False\n",
    "                return False\n",
    "                \n",
    "    return True\n",
    "\n",
    "# checks if distance between key and points it aggregates are < gamma (should be the case)\n",
    "def are_distances_correct(net, gamma, distance):\n",
    "    for k, l in net.items():\n",
    "        m = [distance(le, k) for le in l if distance(le, k) > gamma]\n",
    "        if len(m)> 0:\n",
    "            return False\n",
    "    return True\n",
    "\n",
    "def get_elements(net):\n",
    "    all_elements = []\n",
    "    for k, v in net.items():\n",
    "        l = [vi for vi in v]\n",
    "        all_elements = all_elements+l\n",
    "        all_elements.append(k)\n",
    "    return all_elements"
   ]
  },
  {
   "cell_type": "markdown",
   "metadata": {},
   "source": [
    "## Examples"
   ]
  },
  {
   "cell_type": "code",
   "execution_count": 238,
   "metadata": {},
   "outputs": [],
   "source": [
    "distance = lambda x,y: adf(x,y, funcs_smp)"
   ]
  },
  {
   "cell_type": "code",
   "execution_count": 239,
   "metadata": {},
   "outputs": [],
   "source": [
    "n_merged = naive_merge(n1, n2)"
   ]
  },
  {
   "cell_type": "code",
   "execution_count": 240,
   "metadata": {},
   "outputs": [
    {
     "data": {
      "text/plain": [
       "(False, True)"
      ]
     },
     "execution_count": 240,
     "metadata": {},
     "output_type": "execute_result"
    }
   ],
   "source": [
    "# distances between keys might be to small\n",
    "# distances within key will be ok (as they stam from a correct network)\n",
    "are_keys_correct(n_merged, distance=distance, gamma=30), are_distances_correct(n_merged, distance=distance, gamma=30)"
   ]
  },
  {
   "cell_type": "code",
   "execution_count": 241,
   "metadata": {},
   "outputs": [],
   "source": [
    "k_merged = key_based_merg(n1, n2, distance, 30)"
   ]
  },
  {
   "cell_type": "code",
   "execution_count": 242,
   "metadata": {},
   "outputs": [
    {
     "data": {
      "text/plain": [
       "(True, True)"
      ]
     },
     "execution_count": 242,
     "metadata": {},
     "output_type": "execute_result"
    }
   ],
   "source": [
    "# keys will be in proper distances\n",
    "# withing one key they might be some aggregates that are too far\n",
    "are_keys_correct(k_merged, distance=distance, gamma=30), are_distances_correct(k_merged, distance=distance, gamma=30)"
   ]
  },
  {
   "cell_type": "code",
   "execution_count": 243,
   "metadata": {},
   "outputs": [],
   "source": [
    "net_merged = net_based_merge(n1, n2, distance, 30)"
   ]
  },
  {
   "cell_type": "code",
   "execution_count": 244,
   "metadata": {},
   "outputs": [
    {
     "data": {
      "text/plain": [
       "(True, True)"
      ]
     },
     "execution_count": 244,
     "metadata": {},
     "output_type": "execute_result"
    }
   ],
   "source": [
    "# keys will be correct (they form a correct network)\n",
    "# agrregates might not be correct\n",
    "are_keys_correct(net_merged, distance=distance, gamma=30), are_distances_correct(net_merged, distance=distance, gamma=30)"
   ]
  },
  {
   "cell_type": "markdown",
   "metadata": {},
   "source": [
    "## Loop"
   ]
  },
  {
   "cell_type": "code",
   "execution_count": 9,
   "metadata": {},
   "outputs": [],
   "source": [
    "from tqdm.notebook import tqdm"
   ]
  },
  {
   "cell_type": "code",
   "execution_count": 246,
   "metadata": {},
   "outputs": [],
   "source": [
    "def get_stats(net, distance, gamma):\n",
    "    kc = are_keys_correct(net, distance=distance, gamma=gamma)\n",
    "    dc = are_distances_correct(net, distance=distance, gamma=gamma)\n",
    "    kl = len(net.keys())\n",
    "    \n",
    "    return {'kc': kc, 'dc': dc, 'kl':kl, 'gamma': gamma}"
   ]
  },
  {
   "cell_type": "code",
   "execution_count": 247,
   "metadata": {},
   "outputs": [
    {
     "data": {
      "application/vnd.jupyter.widget-view+json": {
       "model_id": "995180c65f7e4f129de1871b478fa9d6",
       "version_major": 2,
       "version_minor": 0
      },
      "text/plain": [
       "HBox(children=(FloatProgress(value=0.0), HTML(value='')))"
      ]
     },
     "metadata": {},
     "output_type": "display_data"
    },
    {
     "name": "stdout",
     "output_type": "stream",
     "text": [
      "\n"
     ]
    }
   ],
   "source": [
    "naive_stats = list()\n",
    "k_stats = list()\n",
    "net_stats = list()\n",
    "o_stats = list()\n",
    "\n",
    "gamma = 30\n",
    "distance = lambda x,y: adf(x,y, funcs_smp)\n",
    "\n",
    "for run in tqdm(range(100)):\n",
    "    gamma = random.randint(0, 90)\n",
    "    a1, a2 = train_test_split(smp.apn.unique(), test_size=.5)\n",
    "\n",
    "    n1 = create_aggregating_net(gamma=gamma, apns=a1, distance=lambda x,y: adf(x,y, funcs_smp) )\n",
    "    n2 = create_aggregating_net(gamma=gamma, apns=a2, distance=lambda x,y: adf(x,y, funcs_smp) )\n",
    "\n",
    "    n_merged = naive_merge(n1, n2)\n",
    "    naive_stats.append(get_stats(n_merged, distance=distance, gamma=gamma))\n",
    "    \n",
    "    #k_merged = key_based_merg(n1, n2, distance, gamma)\n",
    "    #k_stats.append(get_stats(k_merged, distance=distance, gamma=gamma))\n",
    "    \n",
    "    net_merged = net_based_merge(n1, n2, distance, gamma)\n",
    "    net_stats.append(get_stats(net_merged, distance=distance, gamma=gamma))\n",
    "    \n",
    "    op = create_aggregating_net(gamma=gamma, apns=smp.apn.unique(), distance=distance)\n",
    "    o_stats.append(get_stats(op, distance=distance, gamma=gamma))\n",
    "    \n",
    "    "
   ]
  },
  {
   "cell_type": "code",
   "execution_count": 8,
   "metadata": {},
   "outputs": [],
   "source": [
    "def print_distance_stats(s, distance):\n",
    "    dst = calculate_distances(s, distance)\n",
    "    print(f\"{min(dst)=} {max(dst)=} {np.mean(dst)=} {np.median(dst)=}\")"
   ]
  },
  {
   "cell_type": "code",
   "execution_count": 54,
   "metadata": {},
   "outputs": [
    {
     "name": "stdout",
     "output_type": "stream",
     "text": [
      "min(dst)=0.0 max(dst)=190.66462702871763 np.mean(dst)=73.68856945511949 np.median(dst)=74.16872656315464\n"
     ]
    }
   ],
   "source": [
    "print_distance_stats(smp.apn.unique(), distance=distance)"
   ]
  },
  {
   "cell_type": "code",
   "execution_count": 248,
   "metadata": {},
   "outputs": [],
   "source": [
    "netpd = pd.DataFrame(net_stats)\n",
    "npd = pd.DataFrame(naive_stats)\n",
    "opd = pd.DataFrame(o_stats)"
   ]
  },
  {
   "cell_type": "code",
   "execution_count": 249,
   "metadata": {},
   "outputs": [],
   "source": [
    "import matplotlib.pyplot as plt\n",
    "\n",
    "%matplotlib inline\n",
    "%config InlineBackend.figure_format = 'retina'"
   ]
  },
  {
   "cell_type": "code",
   "execution_count": 250,
   "metadata": {},
   "outputs": [
    {
     "data": {
      "text/plain": [
       "<matplotlib.legend.Legend at 0x7fdd5a4223a0>"
      ]
     },
     "execution_count": 250,
     "metadata": {},
     "output_type": "execute_result"
    },
    {
     "data": {
      "image/png": "[encoded data removed]",
      "text/plain": [
       "<Figure size 864x576 with 1 Axes>"
      ]
     },
     "metadata": {
      "image/png": {
       "height": 465,
       "width": 703
      },
      "needs_background": "light"
     },
     "output_type": "display_data"
    }
   ],
   "source": [
    "plt.figure(figsize=(12, 8))\n",
    "plt.scatter(netpd.gamma, netpd.kl, label='net-based')\n",
    "plt.scatter(npd.gamma, npd.kl, label='naive')\n",
    "plt.scatter(opd.gamma, opd.kl, label='optimal (no merge)')\n",
    "plt.legend()"
   ]
  },
  {
   "cell_type": "markdown",
   "metadata": {},
   "source": [
    "## KNN with merged"
   ]
  },
  {
   "cell_type": "code",
   "execution_count": 252,
   "metadata": {},
   "outputs": [],
   "source": [
    "gamma = 20\n",
    "a1, a2 = train_test_split(smp.apn.unique(), test_size=.5)\n",
    "\n",
    "n1 = create_aggregating_net(gamma=gamma, apns=a1, distance=lambda x,y: adf(x,y, funcs_smp) )\n",
    "n2 = create_aggregating_net(gamma=gamma, apns=a2, distance=lambda x,y: adf(x,y, funcs_smp) )\n",
    "n3 = create_aggregating_net(gamma=gamma, apns=smp.apn.unique(), distance=distance)"
   ]
  },
  {
   "cell_type": "code",
   "execution_count": 253,
   "metadata": {},
   "outputs": [],
   "source": [
    "apps = random.sample(list(smp.apn.unique()), k=80)"
   ]
  },
  {
   "cell_type": "code",
   "execution_count": 254,
   "metadata": {},
   "outputs": [],
   "source": [
    "net_merged = net_based_merge(n1, n2, distance, gamma)\n",
    "naive_merged = naive_merge(n1, n2)"
   ]
  },
  {
   "cell_type": "code",
   "execution_count": 10,
   "metadata": {},
   "outputs": [],
   "source": [
    "def find_closest(net, app, distance, k=1):\n",
    "    anchors = app_k_nearest(k=k, apps=net.keys(), new_app=app, distance=distance)\n",
    "    new_list = []\n",
    "    for a in anchors:\n",
    "        if len(net[a])> 0:\n",
    "            new_list+=net[a]\n",
    "        new_list.append(a)       \n",
    "    ns=app_k_nearest(k=1, apps=new_list, new_app=app, distance=distance)[0]\n",
    "        \n",
    "    return ns"
   ]
  },
  {
   "cell_type": "code",
   "execution_count": 269,
   "metadata": {},
   "outputs": [],
   "source": [
    "for app in apps:\n",
    "    ns = find_closest(net_merged, app, distance, k=2)\n",
    "    ns2 = find_closest(naive_merged, app, distance, k=1)\n",
    "    ns3 = find_closest(n3, app, distance, k=1)\n",
    "    #print(distance(ns, app), distance(ns2, app), distance(ns3, app))\n",
    "    if (d:=distance(ns, app)) > 0.0:\n",
    "        print(d, app)\n",
    "    "
   ]
  },
  {
   "cell_type": "markdown",
   "metadata": {},
   "source": [
    "## Influece of parameter k (how many anchors from point network should be considerd)\n",
    "\n",
    "For naive merge there is some error for $k=1$ other than that always a point a 0.0 is found."
   ]
  },
  {
   "cell_type": "code",
   "execution_count": 284,
   "metadata": {},
   "outputs": [],
   "source": [
    "smp = mysample(v, 200)"
   ]
  },
  {
   "cell_type": "code",
   "execution_count": 293,
   "metadata": {},
   "outputs": [],
   "source": [
    "funcs_smp = smp.groupby(by='apn')['nf'].apply(set)\n",
    "distance = lambda x,y: adf(x,y, funcs_smp)"
   ]
  },
  {
   "cell_type": "code",
   "execution_count": 294,
   "metadata": {},
   "outputs": [],
   "source": [
    "gamma = 20\n",
    "a1, a2 = train_test_split(smp.apn.unique(), test_size=.5)\n",
    "\n",
    "n1 = create_aggregating_net(gamma=gamma, apns=a1, distance=lambda x,y: adf(x,y, funcs_smp) )\n",
    "n2 = create_aggregating_net(gamma=gamma, apns=a2, distance=lambda x,y: adf(x,y, funcs_smp) )\n",
    "n3 = create_aggregating_net(gamma=gamma, apns=smp.apn.unique(), distance=distance)"
   ]
  },
  {
   "cell_type": "code",
   "execution_count": 295,
   "metadata": {},
   "outputs": [],
   "source": [
    "net_merged = net_based_merge(n1, n2, distance, gamma)\n",
    "naive_merged = naive_merge(n1, n2)"
   ]
  },
  {
   "cell_type": "code",
   "execution_count": 296,
   "metadata": {},
   "outputs": [],
   "source": [
    "apps = random.sample(list(smp.apn.unique()), k=80)"
   ]
  },
  {
   "cell_type": "code",
   "execution_count": 297,
   "metadata": {},
   "outputs": [
    {
     "name": "stdout",
     "output_type": "stream",
     "text": [
      "k=1  0.0 0.191062633671423 7.874007874011811\n",
      "k=1  0.0 0.0 0.0\n",
      "k=2  0.0 0.0 0.0\n",
      "k=2  0.0 0.0 0.0\n",
      "k=3  0.0 0.0 0.0\n",
      "k=3  0.0 0.0 0.0\n",
      "k=4  0.0 0.0 0.0\n",
      "k=4  0.0 0.0 0.0\n"
     ]
    }
   ],
   "source": [
    "for k in range(1, 5):\n",
    "    d2, d3 = [], []\n",
    "    for app in apps:\n",
    "        ns2 = find_closest(naive_merged, app, distance, k=k)\n",
    "        ns3 = find_closest(net_merged, app, distance, k=k)\n",
    "        ds2, ds3 = distance(ns2, app), distance(ns3, app)\n",
    "        #if (ds1+ds2+ds3>0):\n",
    "        #    print(ds1, ds2, ds3)\n",
    "        d2.append(ds2)\n",
    "        d3.append(ds3)\n",
    "    for distances in [d2, d3]:    \n",
    "        print(f\"{k=}  {np.min(distances)} {np.mean(distances)} {np.max(distances)}\")\n",
    "    "
   ]
  },
  {
   "cell_type": "markdown",
   "metadata": {},
   "source": [
    "## Multiple merge"
   ]
  },
  {
   "cell_type": "code",
   "execution_count": 11,
   "metadata": {},
   "outputs": [],
   "source": [
    "def net_based_multi_merge(nets, distance, gamma):\n",
    "    apns = []\n",
    "    for net in nets:\n",
    "        apns+=list(net.keys())\n",
    "        \n",
    "    nn = create_aggregating_net(gamma=gamma, \n",
    "                                apns=apns, \n",
    "                                distance=distance)\n",
    "    targ = defaultdict(list)\n",
    "\n",
    "    for k,v in nn.items():\n",
    "        for net in nets:\n",
    "            targ[k] += net.get(k, []).copy()\n",
    "            \n",
    "        for el in v:\n",
    "            for net in nets:\n",
    "                targ[k] +=net.get(el, []).copy()\n",
    "            targ[k].append(el)\n",
    "    \n",
    "    return targ"
   ]
  },
  {
   "cell_type": "code",
   "execution_count": 13,
   "metadata": {},
   "outputs": [],
   "source": [
    "funcs_smp = smp.groupby(by='apn')['nf'].apply(set)\n",
    "distance = lambda x,y: adf(x,y, funcs_smp)"
   ]
  },
  {
   "cell_type": "code",
   "execution_count": 14,
   "metadata": {},
   "outputs": [],
   "source": [
    "gamma = 20\n",
    "a1, a2 = train_test_split(smp.apn.unique(), test_size=.5)\n",
    "\n",
    "n1 = create_aggregating_net(gamma=gamma, apns=a1, distance=lambda x,y: adf(x,y, funcs_smp) )\n",
    "n2 = create_aggregating_net(gamma=gamma, apns=a2, distance=lambda x,y: adf(x,y, funcs_smp) )"
   ]
  },
  {
   "cell_type": "code",
   "execution_count": 15,
   "metadata": {},
   "outputs": [
    {
     "data": {
      "text/plain": [
       "True"
      ]
     },
     "execution_count": 15,
     "metadata": {},
     "output_type": "execute_result"
    }
   ],
   "source": [
    "multim = net_based_multi_merge(nets=[n1, n2], gamma=gamma, distance=distance)\n",
    "sinim = net_based_merge(n1, n2, gamma=gamma, distance=distance)\n",
    "sinim == multim"
   ]
  },
  {
   "cell_type": "code",
   "execution_count": 16,
   "metadata": {},
   "outputs": [],
   "source": [
    "a1, a2 = train_test_split(smp.apn.unique(), test_size=.5)"
   ]
  },
  {
   "cell_type": "code",
   "execution_count": 17,
   "metadata": {},
   "outputs": [],
   "source": [
    "a11, a12 = train_test_split(a1, test_size=.5)\n",
    "a21, a22 = train_test_split(a2, test_size=.5)"
   ]
  },
  {
   "cell_type": "code",
   "execution_count": 18,
   "metadata": {},
   "outputs": [],
   "source": [
    "als = [a11, a12, a21, a22]\n",
    "nets = [create_aggregating_net(gamma=gamma, apns=ax, distance=distance) for ax in als]"
   ]
  },
  {
   "cell_type": "code",
   "execution_count": 19,
   "metadata": {},
   "outputs": [],
   "source": [
    "m4 = net_based_multi_merge(nets, distance=distance, gamma=gamma)"
   ]
  },
  {
   "cell_type": "code",
   "execution_count": 20,
   "metadata": {},
   "outputs": [
    {
     "data": {
      "text/plain": [
       "(True, True)"
      ]
     },
     "execution_count": 20,
     "metadata": {},
     "output_type": "execute_result"
    }
   ],
   "source": [
    "are_keys_correct(m4, distance, gamma), are_distances_correct(m4, distance=distance, gamma=gamma)"
   ]
  },
  {
   "cell_type": "code",
   "execution_count": 21,
   "metadata": {},
   "outputs": [
    {
     "data": {
      "text/plain": [
       "(62, 55)"
      ]
     },
     "execution_count": 21,
     "metadata": {},
     "output_type": "execute_result"
    }
   ],
   "source": [
    "sum([len(x) for x in nets]), len(m4)"
   ]
  },
  {
   "cell_type": "code",
   "execution_count": 22,
   "metadata": {},
   "outputs": [
    {
     "data": {
      "text/plain": [
       "(100, 100)"
      ]
     },
     "execution_count": 22,
     "metadata": {},
     "output_type": "execute_result"
    }
   ],
   "source": [
    "len(get_elements(m4)), len(smp.apn.unique())"
   ]
  },
  {
   "cell_type": "markdown",
   "metadata": {},
   "source": [
    "## Voting networks"
   ]
  },
  {
   "cell_type": "code",
   "execution_count": 12,
   "metadata": {},
   "outputs": [],
   "source": [
    "def classify_app(appid, labels):\n",
    "    return labels[labels.apn==appid]['malware_label'].values[0]\n"
   ]
  },
  {
   "cell_type": "code",
   "execution_count": 13,
   "metadata": {},
   "outputs": [],
   "source": [
    "labels = pd.read_csv('data/labels_encoded.csv')"
   ]
  },
  {
   "cell_type": "code",
   "execution_count": 14,
   "metadata": {},
   "outputs": [],
   "source": [
    "def votes_from_list(li, labels):\n",
    "    classes = [int(classify_app(a, labels)) for a in li]\n",
    "    su = sum(classes)\n",
    "    return len(classes)-su, su\n",
    "\n",
    "def convert_to_voting(net, labels):\n",
    "    voting_network = defaultdict(lambda: [0, 0])\n",
    "\n",
    "    for k, l in net.items():\n",
    "        bi, mal = votes_from_list(l+[k], labels)\n",
    "        voting_network[k]=[bi, mal]\n",
    "        \n",
    "    return voting_network"
   ]
  },
  {
   "cell_type": "code",
   "execution_count": 15,
   "metadata": {},
   "outputs": [],
   "source": [
    "def merge_voting_nets(nets, distance, gamma, labels):\n",
    "    print(\"This has to be tested\")\n",
    "    apns = []\n",
    "    for net in nets:\n",
    "        apns+=list(net.keys())\n",
    "        \n",
    "    nn = create_aggregating_net(gamma=gamma, \n",
    "                                apns=apns, \n",
    "                                distance=distance)\n",
    "    targ = defaultdict(lambda: [0, 0])\n",
    "\n",
    "    for k,v in nn.items():\n",
    "        for net in nets:\n",
    "            targ[k] = [i+j for i,j in zip(targ[k], net.get(k, [0, 0]))]\n",
    "            \n",
    "        for el in v:\n",
    "            for net in nets:\n",
    "                targ[k] = [i+j for i,j in zip(targ[k], net.get(el, [0, 0]))]\n",
    "            targ[k] = [i+j for i,j in zip(targ[k], convert_to_voting([el], labels))]\n",
    "    \n",
    "    return targ"
   ]
  },
  {
   "cell_type": "code",
   "execution_count": 27,
   "metadata": {},
   "outputs": [],
   "source": [
    "fn = create_aggregating_net(gamma=gamma, apns=smp.apn.unique(), distance=lambda x,y: adf(x,y, funcs_smp) )\n",
    "fn0 = create_aggregating_net(gamma=0, apns=smp.apn.unique(), distance=lambda x,y: adf(x,y, funcs_smp) )\n",
    "\n",
    "vfn = convert_to_voting(fn, labels)\n",
    "vfn0 = convert_to_voting(fn0, labels)"
   ]
  },
  {
   "cell_type": "code",
   "execution_count": 28,
   "metadata": {},
   "outputs": [],
   "source": [
    "allapns = smp.apn.unique()\n",
    "aps = np.random.choice(allapns, size=90)"
   ]
  },
  {
   "cell_type": "code",
   "execution_count": 29,
   "metadata": {},
   "outputs": [],
   "source": [
    "results = {}\n",
    "\n",
    "for ap in aps:\n",
    "    netknn = app_k_nearest(k=1, apps=vfn.keys(), new_app=ap, distance=distance)[0]\n",
    "    fullknn = app_k_nearest(k=1, apps=allapns, new_app=ap, distance=distance)[0]\n",
    "    net0knn = app_k_nearest(k=1, apps=vfn0.keys(), new_app=ap, distance=distance)[0]\n",
    "    \n",
    "    votes = vfn[netknn]\n",
    "    votes0 = vfn0[net0knn]\n",
    "    results[ap] = {\n",
    "        'true_value': int(classify_app(ap, labels)),\n",
    "        'majority_vote': int(votes0[0]< votes0[1]),\n",
    "        'net_vote': int(votes[0]<votes[1]),\n",
    "        'knn1_value': int(classify_app(fullknn, labels)),\n",
    "        'net_node': netknn,\n",
    "        'net0_node': net0knn\n",
    "    }\n",
    "    "
   ]
  },
  {
   "cell_type": "code",
   "execution_count": 30,
   "metadata": {},
   "outputs": [],
   "source": [
    "rs = pd.DataFrame.from_dict(results, orient='index')"
   ]
  },
  {
   "cell_type": "code",
   "execution_count": 31,
   "metadata": {},
   "outputs": [
    {
     "data": {
      "text/html": [
       "<div>\n",
       "<style scoped>\n",
       "    .dataframe tbody tr th:only-of-type {\n",
       "        vertical-align: middle;\n",
       "    }\n",
       "\n",
       "    .dataframe tbody tr th {\n",
       "        vertical-align: top;\n",
       "    }\n",
       "\n",
       "    .dataframe thead th {\n",
       "        text-align: right;\n",
       "    }\n",
       "</style>\n",
       "<table border=\"1\" class=\"dataframe\">\n",
       "  <thead>\n",
       "    <tr style=\"text-align: right;\">\n",
       "      <th></th>\n",
       "      <th>true_value</th>\n",
       "      <th>majority_vote</th>\n",
       "      <th>net_vote</th>\n",
       "      <th>knn1_value</th>\n",
       "      <th>net_node</th>\n",
       "      <th>net0_node</th>\n",
       "    </tr>\n",
       "  </thead>\n",
       "  <tbody>\n",
       "    <tr>\n",
       "      <th>4145</th>\n",
       "      <td>0</td>\n",
       "      <td>0</td>\n",
       "      <td>1</td>\n",
       "      <td>0</td>\n",
       "      <td>24167</td>\n",
       "      <td>19026</td>\n",
       "    </tr>\n",
       "    <tr>\n",
       "      <th>18153</th>\n",
       "      <td>0</td>\n",
       "      <td>0</td>\n",
       "      <td>1</td>\n",
       "      <td>0</td>\n",
       "      <td>24167</td>\n",
       "      <td>19706</td>\n",
       "    </tr>\n",
       "    <tr>\n",
       "      <th>19026</th>\n",
       "      <td>0</td>\n",
       "      <td>0</td>\n",
       "      <td>1</td>\n",
       "      <td>0</td>\n",
       "      <td>24167</td>\n",
       "      <td>19026</td>\n",
       "    </tr>\n",
       "    <tr>\n",
       "      <th>18145</th>\n",
       "      <td>0</td>\n",
       "      <td>0</td>\n",
       "      <td>1</td>\n",
       "      <td>0</td>\n",
       "      <td>24167</td>\n",
       "      <td>18145</td>\n",
       "    </tr>\n",
       "    <tr>\n",
       "      <th>4788</th>\n",
       "      <td>0</td>\n",
       "      <td>0</td>\n",
       "      <td>1</td>\n",
       "      <td>0</td>\n",
       "      <td>24167</td>\n",
       "      <td>19026</td>\n",
       "    </tr>\n",
       "    <tr>\n",
       "      <th>19706</th>\n",
       "      <td>0</td>\n",
       "      <td>0</td>\n",
       "      <td>1</td>\n",
       "      <td>0</td>\n",
       "      <td>24167</td>\n",
       "      <td>19706</td>\n",
       "    </tr>\n",
       "  </tbody>\n",
       "</table>\n",
       "</div>"
      ],
      "text/plain": [
       "       true_value  majority_vote  net_vote  knn1_value  net_node  net0_node\n",
       "4145            0              0         1           0     24167      19026\n",
       "18153           0              0         1           0     24167      19706\n",
       "19026           0              0         1           0     24167      19026\n",
       "18145           0              0         1           0     24167      18145\n",
       "4788            0              0         1           0     24167      19026\n",
       "19706           0              0         1           0     24167      19706"
      ]
     },
     "execution_count": 31,
     "metadata": {},
     "output_type": "execute_result"
    }
   ],
   "source": [
    "# misses:\n",
    "rs[rs.majority_vote!=rs.net_vote]"
   ]
  },
  {
   "cell_type": "code",
   "execution_count": 32,
   "metadata": {},
   "outputs": [
    {
     "data": {
      "text/plain": [
       "([0, 0], [0, 0], 20)"
      ]
     },
     "execution_count": 32,
     "metadata": {},
     "output_type": "execute_result"
    }
   ],
   "source": [
    "vfn[13716], vfn0[13716], gamma"
   ]
  },
  {
   "cell_type": "markdown",
   "metadata": {},
   "source": [
    "## Large experiment\n",
    "\n",
    "1. distribute the data on \"workers\"\n",
    "2. create network of increasing gammas (0, 1, 2, 4, 8,...)\n",
    "3. merge (from smalles gamma upwards?)\n",
    "4. use knn to evaluate the quality of the network"
   ]
  },
  {
   "cell_type": "code",
   "execution_count": 16,
   "metadata": {},
   "outputs": [],
   "source": [
    "def partition_data(data: Sequence[int], partitions: int) -> Sequence[Sequence[int]]:\n",
    "    np.random.shuffle(data)\n",
    "    part_len = int(len(data)/partitions)\n",
    "    if part_len < 1:\n",
    "        print(\"Partition number to high\")\n",
    "        return []\n",
    "        \n",
    "    return [data[i:i+part_len] for i in range(0, len(data), part_len)]\n",
    "        "
   ]
  },
  {
   "cell_type": "code",
   "execution_count": 11,
   "metadata": {},
   "outputs": [],
   "source": [
    "smp = mysample(v, 1000)\n",
    "funcs_smp = smp.groupby(by='apn')['nf'].apply(set)\n",
    "pots = v[~v.apn.isin(smp.apn.unique())]\n",
    "distance=lambda x,y: adf(x,y, funcs_smp) "
   ]
  },
  {
   "cell_type": "markdown",
   "metadata": {},
   "source": [
    "#### Stats:\n",
    "\n",
    "| stat | value|\n",
    "| - | - |\n",
    "|max dist| 247|\n",
    "|min dist|   0|\n",
    "|median dist| 62|\n"
   ]
  },
  {
   "cell_type": "code",
   "execution_count": 106,
   "metadata": {},
   "outputs": [
    {
     "name": "stdout",
     "output_type": "stream",
     "text": [
      "Number of partitions: 143. Calculating network with gamma=0\n",
      "Number of partitions: 72. Calculating network with gamma=1\n",
      "Number of partitions: 36. Calculating network with gamma=2\n",
      "Number of partitions: 18. Calculating network with gamma=4\n",
      "Number of partitions: 9. Calculating network with gamma=8\n",
      "Number of partitions: 5. Calculating network with gamma=16\n",
      "Number of partitions: 3. Calculating network with gamma=32\n",
      "Number of partitions: 2. Calculating network with gamma=64\n",
      "Number of partitions: 1. Calculating network with gamma=128\n"
     ]
    }
   ],
   "source": [
    "data = smp.apn.unique()\n",
    "distance=lambda x,y: adf(x,y, funcs_smp) \n",
    "partitions = partition_data(data, 128)\n",
    "ntw = defaultdict(list)\n",
    "g = 0\n",
    "\n",
    "while len(partitions)>0:\n",
    "    print(f\"Number of partitions: {len(partitions)}. Calculating network with gamma={g}\")\n",
    "    networks = [create_aggregating_net(gamma=g, apns=part, distance=distance) for part in partitions]\n",
    "    ntw[g] = networks\n",
    "    merged = [net_based_multi_merge(nets, distance, g) for nets in zip(networks[::2], networks[1::2])]\n",
    "    if (len(networks)>1) and (len(networks) %2==1):\n",
    "        merged.append(networks[-1])\n",
    "        \n",
    "    partitions = [get_elements(a) for a in merged]\n",
    "    if g ==0:\n",
    "        g+=1\n",
    "    else:\n",
    "        g*=2"
   ]
  },
  {
   "cell_type": "code",
   "execution_count": 13,
   "metadata": {},
   "outputs": [],
   "source": [
    "funcs = v.groupby(by='apn')['nf'].apply(set)"
   ]
  },
  {
   "cell_type": "code",
   "execution_count": 15,
   "metadata": {},
   "outputs": [],
   "source": [
    "reference_network = create_aggregating_net(gamma=128, apns=v.apn.unique(), distance=lambda x,y: adf(x,y, funcs))"
   ]
  },
  {
   "cell_type": "code",
   "execution_count": 29,
   "metadata": {},
   "outputs": [],
   "source": [
    "def compare_nets(new_apps, net1, net2, distance):\n",
    "    mi1 = list()\n",
    "    mi2 = list()\n",
    "    \n",
    "    for new_app in new_apps:\n",
    "        ck = find_closest(net1, new_app, distance, k=1)\n",
    "        d1= distance(ck, new_app)\n",
    "\n",
    "        cl = find_closest(net2, new_app, distance, k=1)\n",
    "        d2 = distance(cl, new_app)\n",
    "\n",
    "        if d1!=d2:\n",
    "            #print(f\"{new_app} {ck}!={cl} {d1} {d2}\")\n",
    "            if d1>d2:\n",
    "                mi1+=[(new_app, ck)]\n",
    "            else:\n",
    "                mi2+=[(new_app, cl)]\n",
    "                \n",
    "    return mi1, mi2"
   ]
  },
  {
   "cell_type": "code",
   "execution_count": 20,
   "metadata": {},
   "outputs": [],
   "source": [
    "partitions = partition_data(v.apn.unique(), 8)\n",
    "nets = [create_aggregating_net(gamma=128, apns=part, distance=lambda x,y: adf(x,y, funcs)) for part in partitions]\n",
    "mer_res = net_based_multi_merge(nets, distance=lambda x,y: adf(x,y, funcs), gamma=128) "
   ]
  },
  {
   "cell_type": "code",
   "execution_count": 32,
   "metadata": {},
   "outputs": [],
   "source": [
    "new_apps = random.sample( list(smp.apn.unique()), k=5)"
   ]
  },
  {
   "cell_type": "code",
   "execution_count": 42,
   "metadata": {},
   "outputs": [],
   "source": [
    "ref_missed, mer_missed = compare_nets(new_apps, reference_network, mer_res, distance=lambda x,y: adf(x,y, funcs))"
   ]
  },
  {
   "cell_type": "code",
   "execution_count": 45,
   "metadata": {},
   "outputs": [],
   "source": [
    "print(f\"Ref network missed: {len(ref_missed)} vs. {len(mer_missed)} by merged network\")\n",
    "\n",
    "for d in ref_missed:\n",
    "    print(d, adf(d[0], d[1], funcs))\n",
    "\n",
    "for d in mer_missed:\n",
    "    print(d, adf(d[0], d[1], funcs))"
   ]
  },
  {
   "cell_type": "markdown",
   "metadata": {},
   "source": [
    "### Setup once more\n",
    "for different gammas =0, 1, 2, 4, 8, 16 create network in two ways: \n",
    "- centralized (all data)\n",
    "- distributed (constant number of partitions?)\n",
    "- possibly distributed with herarchical merging\n",
    "- compare their performance with a withhold dataset"
   ]
  },
  {
   "cell_type": "code",
   "execution_count": 19,
   "metadata": {},
   "outputs": [],
   "source": [
    "def one_shot_merge(parts, distance, gamma):\n",
    "    networks = [create_aggregating_net(gamma=gamma, apns=part, distance=distance) for part in parts]\n",
    "    merged = net_based_multi_merge(networks, distance, gamma)\n",
    "    return merged"
   ]
  },
  {
   "cell_type": "code",
   "execution_count": 17,
   "metadata": {},
   "outputs": [],
   "source": [
    "n_parts = 10"
   ]
  },
  {
   "cell_type": "code",
   "execution_count": 25,
   "metadata": {},
   "outputs": [],
   "source": [
    "data = smp.apn.unique()"
   ]
  },
  {
   "cell_type": "code",
   "execution_count": 26,
   "metadata": {},
   "outputs": [],
   "source": [
    "not_data = v[~v.apn.isin(data)]"
   ]
  },
  {
   "cell_type": "code",
   "execution_count": 33,
   "metadata": {},
   "outputs": [],
   "source": [
    "withhold = mysample(not_data, 100)\n",
    "withhold_data = withhold.apn.unique()"
   ]
  },
  {
   "cell_type": "code",
   "execution_count": 18,
   "metadata": {},
   "outputs": [],
   "source": [
    "\n",
    "distance=lambda x,y: adf(x,y, funcs_smp) \n",
    "partitions = partition_data(data, n_parts)"
   ]
  },
  {
   "cell_type": "code",
   "execution_count": 36,
   "metadata": {},
   "outputs": [],
   "source": [
    "from tqdm.notebook import tqdm"
   ]
  },
  {
   "cell_type": "code",
   "execution_count": 37,
   "metadata": {},
   "outputs": [
    {
     "data": {
      "application/vnd.jupyter.widget-view+json": {
       "model_id": "62b3df6bb2b343c1a05f7f4e8202f005",
       "version_major": 2,
       "version_minor": 0
      },
      "text/plain": [
       "HBox(children=(FloatProgress(value=0.0, max=6.0), HTML(value='')))"
      ]
     },
     "metadata": {},
     "output_type": "display_data"
    },
    {
     "name": "stdout",
     "output_type": "stream",
     "text": [
      "\n"
     ]
    }
   ],
   "source": [
    "res = dict()\n",
    "\n",
    "for gamma in tqdm([0, 1, 2, 4, 8, 16]):\n",
    "    os_merged = one_shot_merge(parts=partitions, distance=distance, gamma=gamma)\n",
    "    ref_network = create_aggregating_net(gamma=gamma, apns=data, distance=distance)\n",
    "    mi1, mi2 = compare_nets(withhold_data, os_merged, ref_network, distance=lambda x,y: adf(x, y, funcs))\n",
    "    res[gamma] = [mi1, mi2]"
   ]
  },
  {
   "cell_type": "code",
   "execution_count": 41,
   "metadata": {},
   "outputs": [
    {
     "name": "stdout",
     "output_type": "stream",
     "text": [
      "g  miss. merged  miss ref\n",
      "0 0 0\n",
      "1 0 0\n",
      "2 0 3\n",
      "4 0 1\n",
      "8 0 45\n",
      "16 0 0\n"
     ]
    }
   ],
   "source": [
    "print('g  miss. merged  miss ref')\n",
    "for gamma, misses in res.items():\n",
    "    print(f\"{gamma} {len(misses[0])} {len(misses[1])}\")"
   ]
  },
  {
   "cell_type": "code",
   "execution_count": null,
   "metadata": {},
   "outputs": [],
   "source": []
  }
 ],
 "metadata": {
  "kernelspec": {
   "display_name": "Python 3",
   "language": "python",
   "name": "python3"
  },
  "language_info": {
   "codemirror_mode": {
    "name": "ipython",
    "version": 3
   },
   "file_extension": ".py",
   "mimetype": "text/x-python",
   "name": "python",
   "nbconvert_exporter": "python",
   "pygments_lexer": "ipython3",
   "version": "3.8.5"
  }
 },
 "nbformat": 4,
 "nbformat_minor": 4
}
