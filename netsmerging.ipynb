{
 "cells": [
  {
   "cell_type": "code",
   "execution_count": 10,
   "metadata": {},
   "outputs": [],
   "source": [
    "from typing import Sequence, Callable\n",
    "from collections import defaultdict\n",
    "import operator\n",
    "import pandas as pd\n",
    "import numpy as np\n",
    "import random\n",
    "from sklearn.model_selection import train_test_split"
   ]
  },
  {
   "cell_type": "code",
   "execution_count": 4,
   "metadata": {},
   "outputs": [],
   "source": [
    "v = pd.read_csv('data/functions_encoded.csv')\n",
    "labels = pd.read_csv('./data/labels_encoded.csv')"
   ]
  },
  {
   "cell_type": "code",
   "execution_count": 6,
   "metadata": {},
   "outputs": [],
   "source": [
    "def mysample(v, sample_size):\n",
    "    r = random.sample(list(v.apn.unique()), k=sample_size)\n",
    "    #apns = v.apn.unique sample(sample_size, random_state=42)\n",
    "    return v[v.apn.isin(r)][['apn', 'nf']]"
   ]
  },
  {
   "cell_type": "code",
   "execution_count": 7,
   "metadata": {},
   "outputs": [],
   "source": [
    "smp = mysample(v, 100)\n",
    "funcs_smp = smp.groupby(by='apn')['nf'].apply(set)"
   ]
  },
  {
   "cell_type": "code",
   "execution_count": 8,
   "metadata": {},
   "outputs": [],
   "source": [
    "funcs = v.groupby(by='apn')['nf'].apply(set)\n",
    "\n",
    "\n",
    "def adf(apid1: int, apid2: int,funcs ) -> float:\n",
    "    p1 = funcs[apid1]\n",
    "    p2 = funcs[apid2]\n",
    "    \n",
    "    a= len(p1.difference(p2)) + len(p2.difference(p1))\n",
    "    return np.sqrt(a)"
   ]
  },
  {
   "cell_type": "code",
   "execution_count": 9,
   "metadata": {},
   "outputs": [],
   "source": [
    "def create_net(gamma:float, apns: Sequence[int], distance=lambda x, y: adf(x, y, funcs_smp)) -> Sequence[int]:   \n",
    "    np.random.shuffle(apns)\n",
    "    net = []\n",
    "\n",
    "    for a in apns:\n",
    "        insert = True\n",
    "        for n in net: \n",
    "            if distance(a, n) <= gamma:\n",
    "                insert = False\n",
    "                break\n",
    "        if insert:\n",
    "            net.append(a)\n",
    "            \n",
    "    return net\n",
    "\n",
    "def calculate_distances(net, distance: Callable)->Sequence[float]:\n",
    "    distances = []\n",
    "    for o in net:\n",
    "        for z in net:\n",
    "            if o == z:\n",
    "                continue\n",
    "            distances.append(distance(o, z))\n",
    "    return distances\n",
    "\n",
    "\n",
    "\n",
    "def create_aggregating_net(gamma:float, apns: Sequence[int], distance=lambda x, y: adf(x, y, funcs_smp)):   \n",
    "  #  np.random.shuffle(apns)\n",
    "    net = defaultdict(list)\n",
    "\n",
    "    for a in apns:\n",
    "        insert = True\n",
    "        for n in net.keys(): \n",
    "            if distance(a, n) <= gamma:\n",
    "                insert = False\n",
    "                net[n].append(a)\n",
    "                break #does it always belong to only one point? probably\n",
    "        if insert:\n",
    "            net[a] = list()\n",
    "            \n",
    "    return net\n",
    "\n",
    "def app_k_nearest(k, apps, new_app, distance):\n",
    "    byd = sorted(apps, key=lambda lp: distance(lp, new_app))\n",
    "    return byd[:k]"
   ]
  },
  {
   "cell_type": "code",
   "execution_count": 11,
   "metadata": {},
   "outputs": [],
   "source": [
    "a1, a2 = train_test_split(smp.apn.unique(), test_size=.5)\n",
    "s1 = smp[smp.apn.isin(a1)]\n",
    "s2 = smp[smp.apn.isin(a2)]"
   ]
  },
  {
   "cell_type": "code",
   "execution_count": 12,
   "metadata": {},
   "outputs": [],
   "source": [
    "n1 = create_aggregating_net(gamma=30, apns=a1, distance=lambda x,y: adf(x,y, funcs_smp) )\n",
    "n2 = create_aggregating_net(gamma=30, apns=a2, distance=lambda x,y: adf(x,y, funcs_smp) )"
   ]
  },
  {
   "cell_type": "markdown",
   "metadata": {},
   "source": [
    "## Marging methods"
   ]
  },
  {
   "cell_type": "code",
   "execution_count": 18,
   "metadata": {},
   "outputs": [],
   "source": [
    "# takes keys from both networks if key overlap the aggregates are merged\n",
    "def naive_merge(n1, n2):\n",
    "    nx = {**n1, **n2}\n",
    "    for key in nx.keys():\n",
    "        if key in n1:\n",
    "            nx[key] = list(set(nx[key]+n1[key]))\n",
    "    return nx\n",
    "\n",
    "# takes only keys that are at least gamma from each other, for keys closer than gamma, their aggregats are merged\n",
    "def key_based_merg(n1, n2, distance, gamma):\n",
    "    nx = {**n1}\n",
    "    for k, l in n2.items():\n",
    "        idf = True\n",
    "        for k2 in nx.keys():\n",
    "            if distance(k, k2)<gamma:\n",
    "                nx[k2]+=[li for li in l]\n",
    "                idf = False\n",
    "                break\n",
    "       \n",
    "        if idf:\n",
    "            if k not in nx:\n",
    "                nx[k]=[]\n",
    "            nx[k]+=[li for li in l]\n",
    "    \n",
    "    return nx\n",
    "\n",
    "#calculates net over point nets and use it as keys of the merged network (similar/same? to the key-based)\n",
    "def net_based_merge(n1, n2, distance, gamma):\n",
    "    nn = create_aggregating_net(gamma=gamma, \n",
    "                                apns=list(n1.keys())+list(n2.keys()), \n",
    "                                distance=distance)\n",
    "    targ = defaultdict(list)\n",
    "    nets = [n1, n2]\n",
    "    for k,v in nn.items():\n",
    "        nestr = [el for el in v]\n",
    "        nestr.append(k)\n",
    "        for kv in nestr:\n",
    "            for n in nets:\n",
    "                if kv in n.keys():\n",
    "                    targ[k] += n[kv]\n",
    "    \n",
    "    return targ"
   ]
  },
  {
   "cell_type": "markdown",
   "metadata": {},
   "source": [
    "## Merge Quality Measurements"
   ]
  },
  {
   "cell_type": "code",
   "execution_count": 17,
   "metadata": {},
   "outputs": [],
   "source": [
    "#checks if pairweise key distances are >= gamma (should be the case)\n",
    "def are_keys_correct(net, distance, gamma):\n",
    "    isok = True\n",
    "    keylist = list(net.keys())\n",
    "    for i,k in enumerate(keylist):\n",
    "        for j in keylist[i+1:]:\n",
    "            if (d:=distance(k, j)) < gamma:\n",
    "                #isok=False\n",
    "                return False\n",
    "                \n",
    "    return True\n",
    "\n",
    "# checks if distance between key and points it aggregates are < gamma (should be the case)\n",
    "def are_distances_correct(net, gamma, distance):\n",
    "    for k, l in net.items():\n",
    "        m = [distance(le, k) for le in l if distance(le, k) > gamma]\n",
    "        if len(m)> 0:\n",
    "            return False\n",
    "    return True\n",
    "\n",
    "def get_elements(net):\n",
    "    all_elements = []\n",
    "    for k, v in net.items():\n",
    "        l = [vi for vi in v]\n",
    "        all_elements = all_elements+l\n",
    "        all_elements.append(k)\n",
    "    return all_elements"
   ]
  },
  {
   "cell_type": "markdown",
   "metadata": {},
   "source": [
    "## Examples"
   ]
  },
  {
   "cell_type": "code",
   "execution_count": 23,
   "metadata": {},
   "outputs": [],
   "source": [
    "distance = lambda x,y: adf(x,y, funcs_smp)"
   ]
  },
  {
   "cell_type": "code",
   "execution_count": 33,
   "metadata": {},
   "outputs": [],
   "source": [
    "n_merged = naive_merge(n1, n2)"
   ]
  },
  {
   "cell_type": "code",
   "execution_count": 26,
   "metadata": {},
   "outputs": [
    {
     "data": {
      "text/plain": [
       "(False, True)"
      ]
     },
     "execution_count": 26,
     "metadata": {},
     "output_type": "execute_result"
    }
   ],
   "source": [
    "# distances between keys might be to small\n",
    "# distances within key will be ok (as they stam from a correct network)\n",
    "are_keys_correct(n_merged, distance=distance, gamma=30), are_distances_correct(n_merged, distance=distance, gamma=30)"
   ]
  },
  {
   "cell_type": "code",
   "execution_count": 27,
   "metadata": {},
   "outputs": [],
   "source": [
    "k_merged = key_based_merg(n1, n2, distance, 30)"
   ]
  },
  {
   "cell_type": "code",
   "execution_count": 30,
   "metadata": {},
   "outputs": [
    {
     "data": {
      "text/plain": [
       "(True, True)"
      ]
     },
     "execution_count": 30,
     "metadata": {},
     "output_type": "execute_result"
    }
   ],
   "source": [
    "# keys will be in proper distances\n",
    "# withing one key they might be some aggregates that are too far\n",
    "are_keys_correct(k_merged, distance=distance, gamma=30), are_distances_correct(k_merged, distance=distance, gamma=30)"
   ]
  },
  {
   "cell_type": "code",
   "execution_count": 32,
   "metadata": {},
   "outputs": [],
   "source": [
    "net_merged = net_based_merge(n1, n2, distance, 30)"
   ]
  },
  {
   "cell_type": "code",
   "execution_count": 36,
   "metadata": {},
   "outputs": [
    {
     "data": {
      "text/plain": [
       "(True, True)"
      ]
     },
     "execution_count": 36,
     "metadata": {},
     "output_type": "execute_result"
    }
   ],
   "source": [
    "# keys will be correct (they form a correct network)\n",
    "# agrregates might not be correct\n",
    "are_keys_correct(net_merged, distance=distance, gamma=30), are_distances_correct(net_merged, distance=distance, gamma=30)"
   ]
  },
  {
   "cell_type": "markdown",
   "metadata": {},
   "source": [
    "## Loop"
   ]
  },
  {
   "cell_type": "code",
   "execution_count": 38,
   "metadata": {},
   "outputs": [],
   "source": [
    "from tqdm.notebook import tqdm"
   ]
  },
  {
   "cell_type": "code",
   "execution_count": 39,
   "metadata": {},
   "outputs": [],
   "source": [
    "def get_stats(net, distance, gamma):\n",
    "    kc = are_keys_correct(net, distance=distance, gamma=gamma)\n",
    "    dc = are_distances_correct(net, distance=distance, gamma=gamma)\n",
    "    kl = len(net.keys())\n",
    "    \n",
    "    return {'kc': kc, 'dc': dc, 'kl':kl, 'gamma': gamma}"
   ]
  },
  {
   "cell_type": "code",
   "execution_count": 40,
   "metadata": {},
   "outputs": [
    {
     "data": {
      "application/vnd.jupyter.widget-view+json": {
       "model_id": "45df1f8b5d27479f9ef0163005dd4266",
       "version_major": 2,
       "version_minor": 0
      },
      "text/plain": [
       "HBox(children=(FloatProgress(value=0.0, max=10.0), HTML(value='')))"
      ]
     },
     "metadata": {},
     "output_type": "display_data"
    },
    {
     "name": "stdout",
     "output_type": "stream",
     "text": [
      "\n"
     ]
    }
   ],
   "source": [
    "naive_stats = list()\n",
    "k_stats = list()\n",
    "net_stats = list()\n",
    "\n",
    "gamma = 30\n",
    "distance = lambda x,y: adf(x,y, funcs_smp)\n",
    "\n",
    "for run in tqdm(range(10)):\n",
    "    a1, a2 = train_test_split(smp.apn.unique(), test_size=.5)\n",
    "\n",
    "    n1 = create_aggregating_net(gamma=gamma, apns=a1, distance=lambda x,y: adf(x,y, funcs_smp) )\n",
    "    n2 = create_aggregating_net(gamma=gamma, apns=a2, distance=lambda x,y: adf(x,y, funcs_smp) )\n",
    "\n",
    "    n_merged = naive_merge(n1, n2)\n",
    "    naive_stats.append(get_stats(n_merged, distance=distance, gamma=gamma))\n",
    "    \n",
    "    k_merged = key_based_merg(n1, n2, distance, gamma)\n",
    "    k_stats.append(get_stats(k_merged, distance=distance, gamma=gamma))\n",
    "    \n",
    "    net_merged = net_based_merge(n1, n2, distance, gamma)\n",
    "    net_stats.append(get_stats(net_merged, distance=distance, gamma=gamma))\n",
    "    "
   ]
  },
  {
   "cell_type": "code",
   "execution_count": 42,
   "metadata": {},
   "outputs": [
    {
     "data": {
      "text/html": [
       "<div>\n",
       "<style scoped>\n",
       "    .dataframe tbody tr th:only-of-type {\n",
       "        vertical-align: middle;\n",
       "    }\n",
       "\n",
       "    .dataframe tbody tr th {\n",
       "        vertical-align: top;\n",
       "    }\n",
       "\n",
       "    .dataframe thead th {\n",
       "        text-align: right;\n",
       "    }\n",
       "</style>\n",
       "<table border=\"1\" class=\"dataframe\">\n",
       "  <thead>\n",
       "    <tr style=\"text-align: right;\">\n",
       "      <th></th>\n",
       "      <th>kc</th>\n",
       "      <th>dc</th>\n",
       "      <th>kl</th>\n",
       "      <th>gamma</th>\n",
       "    </tr>\n",
       "  </thead>\n",
       "  <tbody>\n",
       "    <tr>\n",
       "      <th>0</th>\n",
       "      <td>True</td>\n",
       "      <td>True</td>\n",
       "      <td>49</td>\n",
       "      <td>30</td>\n",
       "    </tr>\n",
       "    <tr>\n",
       "      <th>1</th>\n",
       "      <td>True</td>\n",
       "      <td>True</td>\n",
       "      <td>51</td>\n",
       "      <td>30</td>\n",
       "    </tr>\n",
       "    <tr>\n",
       "      <th>2</th>\n",
       "      <td>True</td>\n",
       "      <td>False</td>\n",
       "      <td>53</td>\n",
       "      <td>30</td>\n",
       "    </tr>\n",
       "    <tr>\n",
       "      <th>3</th>\n",
       "      <td>True</td>\n",
       "      <td>False</td>\n",
       "      <td>52</td>\n",
       "      <td>30</td>\n",
       "    </tr>\n",
       "    <tr>\n",
       "      <th>4</th>\n",
       "      <td>True</td>\n",
       "      <td>True</td>\n",
       "      <td>49</td>\n",
       "      <td>30</td>\n",
       "    </tr>\n",
       "    <tr>\n",
       "      <th>5</th>\n",
       "      <td>True</td>\n",
       "      <td>True</td>\n",
       "      <td>49</td>\n",
       "      <td>30</td>\n",
       "    </tr>\n",
       "    <tr>\n",
       "      <th>6</th>\n",
       "      <td>True</td>\n",
       "      <td>True</td>\n",
       "      <td>49</td>\n",
       "      <td>30</td>\n",
       "    </tr>\n",
       "    <tr>\n",
       "      <th>7</th>\n",
       "      <td>True</td>\n",
       "      <td>False</td>\n",
       "      <td>50</td>\n",
       "      <td>30</td>\n",
       "    </tr>\n",
       "    <tr>\n",
       "      <th>8</th>\n",
       "      <td>True</td>\n",
       "      <td>True</td>\n",
       "      <td>49</td>\n",
       "      <td>30</td>\n",
       "    </tr>\n",
       "    <tr>\n",
       "      <th>9</th>\n",
       "      <td>True</td>\n",
       "      <td>True</td>\n",
       "      <td>49</td>\n",
       "      <td>30</td>\n",
       "    </tr>\n",
       "  </tbody>\n",
       "</table>\n",
       "</div>"
      ],
      "text/plain": [
       "     kc     dc  kl  gamma\n",
       "0  True   True  49     30\n",
       "1  True   True  51     30\n",
       "2  True  False  53     30\n",
       "3  True  False  52     30\n",
       "4  True   True  49     30\n",
       "5  True   True  49     30\n",
       "6  True   True  49     30\n",
       "7  True  False  50     30\n",
       "8  True   True  49     30\n",
       "9  True   True  49     30"
      ]
     },
     "execution_count": 42,
     "metadata": {},
     "output_type": "execute_result"
    }
   ],
   "source": [
    "pd.DataFrame(net_stats)"
   ]
  },
  {
   "cell_type": "code",
   "execution_count": 43,
   "metadata": {},
   "outputs": [
    {
     "data": {
      "text/html": [
       "<div>\n",
       "<style scoped>\n",
       "    .dataframe tbody tr th:only-of-type {\n",
       "        vertical-align: middle;\n",
       "    }\n",
       "\n",
       "    .dataframe tbody tr th {\n",
       "        vertical-align: top;\n",
       "    }\n",
       "\n",
       "    .dataframe thead th {\n",
       "        text-align: right;\n",
       "    }\n",
       "</style>\n",
       "<table border=\"1\" class=\"dataframe\">\n",
       "  <thead>\n",
       "    <tr style=\"text-align: right;\">\n",
       "      <th></th>\n",
       "      <th>kc</th>\n",
       "      <th>dc</th>\n",
       "      <th>kl</th>\n",
       "      <th>gamma</th>\n",
       "    </tr>\n",
       "  </thead>\n",
       "  <tbody>\n",
       "    <tr>\n",
       "      <th>0</th>\n",
       "      <td>True</td>\n",
       "      <td>True</td>\n",
       "      <td>49</td>\n",
       "      <td>30</td>\n",
       "    </tr>\n",
       "    <tr>\n",
       "      <th>1</th>\n",
       "      <td>True</td>\n",
       "      <td>True</td>\n",
       "      <td>51</td>\n",
       "      <td>30</td>\n",
       "    </tr>\n",
       "    <tr>\n",
       "      <th>2</th>\n",
       "      <td>True</td>\n",
       "      <td>False</td>\n",
       "      <td>53</td>\n",
       "      <td>30</td>\n",
       "    </tr>\n",
       "    <tr>\n",
       "      <th>3</th>\n",
       "      <td>True</td>\n",
       "      <td>False</td>\n",
       "      <td>52</td>\n",
       "      <td>30</td>\n",
       "    </tr>\n",
       "    <tr>\n",
       "      <th>4</th>\n",
       "      <td>True</td>\n",
       "      <td>True</td>\n",
       "      <td>49</td>\n",
       "      <td>30</td>\n",
       "    </tr>\n",
       "    <tr>\n",
       "      <th>5</th>\n",
       "      <td>True</td>\n",
       "      <td>True</td>\n",
       "      <td>49</td>\n",
       "      <td>30</td>\n",
       "    </tr>\n",
       "    <tr>\n",
       "      <th>6</th>\n",
       "      <td>True</td>\n",
       "      <td>True</td>\n",
       "      <td>49</td>\n",
       "      <td>30</td>\n",
       "    </tr>\n",
       "    <tr>\n",
       "      <th>7</th>\n",
       "      <td>True</td>\n",
       "      <td>False</td>\n",
       "      <td>50</td>\n",
       "      <td>30</td>\n",
       "    </tr>\n",
       "    <tr>\n",
       "      <th>8</th>\n",
       "      <td>True</td>\n",
       "      <td>True</td>\n",
       "      <td>49</td>\n",
       "      <td>30</td>\n",
       "    </tr>\n",
       "    <tr>\n",
       "      <th>9</th>\n",
       "      <td>True</td>\n",
       "      <td>True</td>\n",
       "      <td>49</td>\n",
       "      <td>30</td>\n",
       "    </tr>\n",
       "  </tbody>\n",
       "</table>\n",
       "</div>"
      ],
      "text/plain": [
       "     kc     dc  kl  gamma\n",
       "0  True   True  49     30\n",
       "1  True   True  51     30\n",
       "2  True  False  53     30\n",
       "3  True  False  52     30\n",
       "4  True   True  49     30\n",
       "5  True   True  49     30\n",
       "6  True   True  49     30\n",
       "7  True  False  50     30\n",
       "8  True   True  49     30\n",
       "9  True   True  49     30"
      ]
     },
     "execution_count": 43,
     "metadata": {},
     "output_type": "execute_result"
    }
   ],
   "source": [
    "pd.DataFrame(k_stats)"
   ]
  },
  {
   "cell_type": "code",
   "execution_count": null,
   "metadata": {},
   "outputs": [],
   "source": []
  }
 ],
 "metadata": {
  "kernelspec": {
   "display_name": "Python 3",
   "language": "python",
   "name": "python3"
  },
  "language_info": {
   "codemirror_mode": {
    "name": "ipython",
    "version": 3
   },
   "file_extension": ".py",
   "mimetype": "text/x-python",
   "name": "python",
   "nbconvert_exporter": "python",
   "pygments_lexer": "ipython3",
   "version": "3.8.5"
  }
 },
 "nbformat": 4,
 "nbformat_minor": 4
}
