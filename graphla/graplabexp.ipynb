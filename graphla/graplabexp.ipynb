{
 "cells": [
  {
   "cell_type": "code",
   "execution_count": 36,
   "metadata": {},
   "outputs": [],
   "source": [
    "import pandas as pd\n",
    "import numpy as np\n",
    "#import graphlab as tc\n",
    "import turicreate as tc\n",
    "from tqdm.notebook import tqdm\n",
    "import turicreate.aggregate as agg"
   ]
  },
  {
   "cell_type": "code",
   "execution_count": 27,
   "metadata": {},
   "outputs": [],
   "source": [
    "def read_labels():\n",
    "    apk_label_ds1_path = '../data/labels_vt_mal_2017_2020_az_2020_benign_hashed.csv'\n",
    "    ds1_labels_df = pd.read_csv(apk_label_ds1_path)\n",
    "    ds1_labels_df.set_index(ds1_labels_df.apk.apply(lambda x:x.upper()), inplace=True)\n",
    "    ds1_labels_df.drop(labels='apk',axis=1, inplace=True)\n",
    "#    ds1_labels_df.head(2)\n",
    "    print(\"Got data: \", len(ds1_labels_df))\n",
    "    return ds1_labels_df"
   ]
  },
  {
   "cell_type": "code",
   "execution_count": 76,
   "metadata": {},
   "outputs": [
    {
     "name": "stdout",
     "output_type": "stream",
     "text": [
      "('Unique APK:', 10003)\n",
      "('Unique functions:', 699854)\n"
     ]
    }
   ],
   "source": [
    "def transform_app_data(fname='../data/sample_10000_vt_mal_2017_2020_az_2020_benign_hashed_md5.csv'):\n",
    "    sf_ds1_full = gl.SFrame.read_csv(fname, header=False, verbose=False)\n",
    "    _=sf_ds1_full.rename({'X3':'fcount'})\n",
    "    sf_ds1_full['apk']=sf_ds1_full['X1'].apply(lambda x: x.upper())\n",
    "    sf_ds1_full['function'] = sf_ds1_full['X2'].apply(lambda x: x.upper())\n",
    "    \n",
    "    _=sf_ds1_full.remove_columns(['X1', 'X2'])\n",
    "    \n",
    "    print(\"Unique APK:\", len(set(sf_ds1_full['apk'].unique())))\n",
    "    print(\"Unique functions:\", len(set(sf_ds1_full['function'].unique())))\n",
    "\n",
    "    outname = fname.replace('data', 'binarydata').replace('.csv', '.sframe')\n",
    "    sf_ds1_full.save(outname, format='binary')\n",
    "\n",
    "transform_app_data()"
   ]
  },
  {
   "cell_type": "code",
   "execution_count": 2,
   "metadata": {},
   "outputs": [],
   "source": [
    "mw = tc.load_sframe('../binarydata/sample_10000_vt_mal_2017_2020_az_2020_benign_hashed_md5.sframe')"
   ]
  },
  {
   "cell_type": "code",
   "execution_count": 3,
   "metadata": {},
   "outputs": [
    {
     "data": {
      "text/html": [
       "<div style=\"max-height:1000px;max-width:1500px;overflow:auto;\"><table frame=\"box\" rules=\"cols\">\n",
       "    <tr>\n",
       "        <th style=\"padding-left: 1em; padding-right: 1em; text-align: center\">fcount</th>\n",
       "        <th style=\"padding-left: 1em; padding-right: 1em; text-align: center\">apk</th>\n",
       "        <th style=\"padding-left: 1em; padding-right: 1em; text-align: center\">function</th>\n",
       "    </tr>\n",
       "    <tr>\n",
       "        <td style=\"padding-left: 1em; padding-right: 1em; text-align: center; vertical-align: top\">1</td>\n",
       "        <td style=\"padding-left: 1em; padding-right: 1em; text-align: center; vertical-align: top\">3407F2E5AB21E8966BDFAF33D<br>805DE7AC97BED3A7454C1 ...</td>\n",
       "        <td style=\"padding-left: 1em; padding-right: 1em; text-align: center; vertical-align: top\">2D6877D28225C6E0F11527577<br>4CDA94C ...</td>\n",
       "    </tr>\n",
       "    <tr>\n",
       "        <td style=\"padding-left: 1em; padding-right: 1em; text-align: center; vertical-align: top\">1</td>\n",
       "        <td style=\"padding-left: 1em; padding-right: 1em; text-align: center; vertical-align: top\">006373DF53793664DDD73C7A9<br>6B18794A10DE6FAAD185B ...</td>\n",
       "        <td style=\"padding-left: 1em; padding-right: 1em; text-align: center; vertical-align: top\">4B673494945E9BF470675331F<br>C1D6B27 ...</td>\n",
       "    </tr>\n",
       "    <tr>\n",
       "        <td style=\"padding-left: 1em; padding-right: 1em; text-align: center; vertical-align: top\">2</td>\n",
       "        <td style=\"padding-left: 1em; padding-right: 1em; text-align: center; vertical-align: top\">238230D0B795F97E596FA7379<br>AF0769D74ED3810976092 ...</td>\n",
       "        <td style=\"padding-left: 1em; padding-right: 1em; text-align: center; vertical-align: top\">96D7A6B3A2BEA95CA0E3B74FE<br>3C4E7F8 ...</td>\n",
       "    </tr>\n",
       "    <tr>\n",
       "        <td style=\"padding-left: 1em; padding-right: 1em; text-align: center; vertical-align: top\">1</td>\n",
       "        <td style=\"padding-left: 1em; padding-right: 1em; text-align: center; vertical-align: top\">25A3382B3FAAAC9D5A14FE8DE<br>914D47B3BC6284599FD27 ...</td>\n",
       "        <td style=\"padding-left: 1em; padding-right: 1em; text-align: center; vertical-align: top\">A6D7D5D7968AE7BDC62AD696A<br>E7E6BD1 ...</td>\n",
       "    </tr>\n",
       "    <tr>\n",
       "        <td style=\"padding-left: 1em; padding-right: 1em; text-align: center; vertical-align: top\">1</td>\n",
       "        <td style=\"padding-left: 1em; padding-right: 1em; text-align: center; vertical-align: top\">4D0F5074E2A7579DBC87C0D84<br>83EFEB3D31B24E0008BD1 ...</td>\n",
       "        <td style=\"padding-left: 1em; padding-right: 1em; text-align: center; vertical-align: top\">20E0EB29F9F144A01276B87CF<br>C0AC2A1 ...</td>\n",
       "    </tr>\n",
       "    <tr>\n",
       "        <td style=\"padding-left: 1em; padding-right: 1em; text-align: center; vertical-align: top\">1</td>\n",
       "        <td style=\"padding-left: 1em; padding-right: 1em; text-align: center; vertical-align: top\">94F2FB12A21085764C85DB0E9<br>E4B381EEDD1DC65E4F2D7 ...</td>\n",
       "        <td style=\"padding-left: 1em; padding-right: 1em; text-align: center; vertical-align: top\">F66DB25FFCDEEB2D40CE70226<br>1BEEE83 ...</td>\n",
       "    </tr>\n",
       "    <tr>\n",
       "        <td style=\"padding-left: 1em; padding-right: 1em; text-align: center; vertical-align: top\">1</td>\n",
       "        <td style=\"padding-left: 1em; padding-right: 1em; text-align: center; vertical-align: top\">9AC8EDE1BF55180F0F90A8B12<br>7ACDF21AE9A8916FBE0E6 ...</td>\n",
       "        <td style=\"padding-left: 1em; padding-right: 1em; text-align: center; vertical-align: top\">B9AFD08C24947FE6E37A82672<br>795427B ...</td>\n",
       "    </tr>\n",
       "    <tr>\n",
       "        <td style=\"padding-left: 1em; padding-right: 1em; text-align: center; vertical-align: top\">1</td>\n",
       "        <td style=\"padding-left: 1em; padding-right: 1em; text-align: center; vertical-align: top\">005CDFD24DEF5924C91E68DC0<br>CF18D18B91D6118D4BE51 ...</td>\n",
       "        <td style=\"padding-left: 1em; padding-right: 1em; text-align: center; vertical-align: top\">4ABCBF64B57FAD928D0414890<br>D41CC95 ...</td>\n",
       "    </tr>\n",
       "    <tr>\n",
       "        <td style=\"padding-left: 1em; padding-right: 1em; text-align: center; vertical-align: top\">1</td>\n",
       "        <td style=\"padding-left: 1em; padding-right: 1em; text-align: center; vertical-align: top\">0461C5356AF1B678D91A87404<br>1AAF9978764BC8A3E1833 ...</td>\n",
       "        <td style=\"padding-left: 1em; padding-right: 1em; text-align: center; vertical-align: top\">7D72BE96A185F93BD36B92481<br>1C8EEC5 ...</td>\n",
       "    </tr>\n",
       "    <tr>\n",
       "        <td style=\"padding-left: 1em; padding-right: 1em; text-align: center; vertical-align: top\">1</td>\n",
       "        <td style=\"padding-left: 1em; padding-right: 1em; text-align: center; vertical-align: top\">4A69FD5D71F3010B08B2C2E51<br>CF942D2513D48ADD872C9 ...</td>\n",
       "        <td style=\"padding-left: 1em; padding-right: 1em; text-align: center; vertical-align: top\">4ABCBF64B57FAD928D0414890<br>D41CC95 ...</td>\n",
       "    </tr>\n",
       "</table>\n",
       "[10 rows x 3 columns]<br/>\n",
       "</div>"
      ],
      "text/plain": [
       "Columns:\n",
       "\tfcount\tint\n",
       "\tapk\tstr\n",
       "\tfunction\tstr\n",
       "\n",
       "Rows: 10\n",
       "\n",
       "Data:\n",
       "+--------+-------------------------------+-------------------------------+\n",
       "| fcount |              apk              |            function           |\n",
       "+--------+-------------------------------+-------------------------------+\n",
       "|   1    | 3407F2E5AB21E8966BDFAF33D8... | 2D6877D28225C6E0F115275774... |\n",
       "|   1    | 006373DF53793664DDD73C7A96... | 4B673494945E9BF470675331FC... |\n",
       "|   2    | 238230D0B795F97E596FA7379A... | 96D7A6B3A2BEA95CA0E3B74FE3... |\n",
       "|   1    | 25A3382B3FAAAC9D5A14FE8DE9... | A6D7D5D7968AE7BDC62AD696AE... |\n",
       "|   1    | 4D0F5074E2A7579DBC87C0D848... | 20E0EB29F9F144A01276B87CFC... |\n",
       "|   1    | 94F2FB12A21085764C85DB0E9E... | F66DB25FFCDEEB2D40CE702261... |\n",
       "|   1    | 9AC8EDE1BF55180F0F90A8B127... | B9AFD08C24947FE6E37A826727... |\n",
       "|   1    | 005CDFD24DEF5924C91E68DC0C... | 4ABCBF64B57FAD928D0414890D... |\n",
       "|   1    | 0461C5356AF1B678D91A874041... | 7D72BE96A185F93BD36B924811... |\n",
       "|   1    | 4A69FD5D71F3010B08B2C2E51C... | 4ABCBF64B57FAD928D0414890D... |\n",
       "+--------+-------------------------------+-------------------------------+\n",
       "[10 rows x 3 columns]"
      ]
     },
     "execution_count": 3,
     "metadata": {},
     "output_type": "execute_result"
    }
   ],
   "source": [
    "mw.head()"
   ]
  },
  {
   "cell_type": "code",
   "execution_count": 9,
   "metadata": {},
   "outputs": [
    {
     "name": "stdout",
     "output_type": "stream",
     "text": [
      "9389\n",
      "18329\n"
     ]
    }
   ],
   "source": [
    "benign_ds1 = ds1_labels_df[ds1_labels_df['malware_label'] == False]\n",
    "print(len(benign_ds1))\n",
    "malware_ds1 = ds1_labels_df[ds1_labels_df['malware_label'] == True]\n",
    "print(len(malware_ds1))"
   ]
  },
  {
   "cell_type": "markdown",
   "metadata": {},
   "source": [
    "## Gamma network \n"
   ]
  },
  {
   "cell_type": "code",
   "execution_count": 4,
   "metadata": {},
   "outputs": [],
   "source": [
    "mw = tc.load_sframe('../binarydata/sample_10000_vt_mal_2017_2020_az_2020_benign_hashed_md5.sframe')"
   ]
  },
  {
   "cell_type": "code",
   "execution_count": 4,
   "metadata": {},
   "outputs": [],
   "source": [
    "def get_sample(mw, frac):\n",
    "    apks = mw['apk'].unique()\n",
    "    sample_apks = apks.sample(fraction=frac, seed=42)\n",
    "    return mw.filter_by(sample_apks, column_name='apk')\n",
    "    "
   ]
  },
  {
   "cell_type": "code",
   "execution_count": 6,
   "metadata": {},
   "outputs": [],
   "source": [
    "subsamp = get_sample(mw=mw, frac=0.1)"
   ]
  },
  {
   "cell_type": "code",
   "execution_count": 7,
   "metadata": {},
   "outputs": [
    {
     "data": {
      "text/plain": [
       "993"
      ]
     },
     "execution_count": 7,
     "metadata": {},
     "output_type": "execute_result"
    }
   ],
   "source": [
    "len(subsamp['apk'].unique())"
   ]
  },
  {
   "cell_type": "markdown",
   "metadata": {},
   "source": [
    "### Right position for $k$\n",
    "\n",
    "it is not sufficient to set k for `get_similar_items`. The recomended performs a cut-off anyways. The $k$ has to be set in the `create` method (`only_top_k`). \n",
    "\n",
    "There is also a `threshold` in `create` initialization, but apparently this has less influece."
   ]
  },
  {
   "cell_type": "code",
   "execution_count": 8,
   "metadata": {
    "scrolled": true
   },
   "outputs": [],
   "source": [
    "k = len(subsamp['apk'].unique())\n",
    "\n",
    "\n",
    "sim_recom = tc.item_similarity_recommender.create(subsamp, \n",
    "                                                  user_id='function',\n",
    "                                                  item_id='apk',\n",
    "                                                  similarity_type='jaccard',\n",
    "                                                  verbose=False, only_top_k=k)"
   ]
  },
  {
   "cell_type": "code",
   "execution_count": 9,
   "metadata": {},
   "outputs": [],
   "source": [
    "def get_funcs(tab, apk):\n",
    "    return tab[tab['apk']==apk]['function']\n",
    "\n",
    "def alt_jaccard(apk1, apk2, tab):\n",
    "    ap1func = set(get_funcs(tab, apk1))\n",
    "    ap2func = set(get_funcs(tab, apk2))\n",
    "    \n",
    "    return float(len(ap1func & ap2func)) / float(len(ap1func| ap2func))"
   ]
  },
  {
   "cell_type": "code",
   "execution_count": 18,
   "metadata": {},
   "outputs": [],
   "source": [
    "def get_similar_apks(apk):\n",
    "    similar_items = sim_recom.get_similar_items([apk], k=k)['similar', 'score']\n",
    "    similar_items.materialize()\n",
    "    return similar_items\n",
    "\n",
    "def get_jaccard_sim(apk1, apk2):\n",
    "    similar_to_apk1 = get_similar_apks(apk1)\n",
    "    try:\n",
    "        return similar_to_apk1[similar_to_apk1['similar']==apk2]['score'][0]\n",
    "    except:\n",
    "        return 0\n",
    "\n",
    "def get_recommender(data):\n",
    "    k = len(data['apk'].unique())\n",
    "    return k, tc.item_similarity_recommender.create(data, \n",
    "                                                 user_id='function',\n",
    "                                                 item_id='apk',\n",
    "                                                 similarity_type='jaccard',\n",
    "                                                 verbose=False, only_top_k=k)\n",
    "    \n",
    "def jaccard_dist(apk1, apk2):\n",
    "    return 1 - get_jaccard_sim(apk1, apk2)\n",
    "\n",
    "def aio_distance(apk1, apk2, k, recommender):\n",
    "    similar_items = recommender.get_similar_items([apk1], k=k)['similar', 'score']\n",
    "    similar_items.materialize()\n",
    "    \n",
    "    try:\n",
    "        return 1-similar_items[similar_items['similar']==apk2]['score'][0]\n",
    "    except:\n",
    "        return 1\n",
    "    "
   ]
  },
  {
   "cell_type": "markdown",
   "metadata": {},
   "source": [
    "### Precision issues"
   ]
  },
  {
   "cell_type": "code",
   "execution_count": 14,
   "metadata": {},
   "outputs": [],
   "source": [
    "k, rec = get_recommender(subsamp)"
   ]
  },
  {
   "cell_type": "code",
   "execution_count": 15,
   "metadata": {},
   "outputs": [],
   "source": [
    "sample_apks = subsamp['apk'].unique()"
   ]
  },
  {
   "cell_type": "code",
   "execution_count": 16,
   "metadata": {},
   "outputs": [
    {
     "name": "stdout",
     "output_type": "stream",
     "text": [
      "2D151F82FA37F7E52342909747348C7613905B6CDB82CB8005A38299F0D908EB\n"
     ]
    }
   ],
   "source": [
    "apk1 = sample_apks[0]\n",
    "apk2 = sample_apks[1]\n",
    "print(apk1)"
   ]
  },
  {
   "cell_type": "code",
   "execution_count": 17,
   "metadata": {},
   "outputs": [
    {
     "data": {
      "text/plain": [
       "(0.00043523311614990234, 0.0004352557127312296)"
      ]
     },
     "execution_count": 17,
     "metadata": {},
     "output_type": "execute_result"
    }
   ],
   "source": [
    "get_jaccard_sim(apk1, apk2), alt_jaccard(apk1, apk2, subsamp)#aio_distance(apk1, apk2, rec)"
   ]
  },
  {
   "cell_type": "code",
   "execution_count": 18,
   "metadata": {},
   "outputs": [
    {
     "data": {
      "text/plain": [
       "(2, 4595)"
      ]
     },
     "execution_count": 18,
     "metadata": {},
     "output_type": "execute_result"
    }
   ],
   "source": [
    "ap1func = set(get_funcs(subsamp, apk1))\n",
    "ap2func = set(get_funcs(subsamp, apk2))\n",
    "\n",
    "len(ap1func & ap2func), len(ap1func | ap2func)"
   ]
  },
  {
   "cell_type": "code",
   "execution_count": 23,
   "metadata": {},
   "outputs": [
    {
     "data": {
      "text/plain": [
       "0.0004352557127312296"
      ]
     },
     "execution_count": 23,
     "metadata": {},
     "output_type": "execute_result"
    }
   ],
   "source": [
    "\n",
    "cup, cut = Out[18]\n",
    "cup/ cut"
   ]
  },
  {
   "cell_type": "code",
   "execution_count": 229,
   "metadata": {},
   "outputs": [
    {
     "name": "stdout",
     "output_type": "stream",
     "text": [
      "1 loop, best of 3: 603 ms per loop\n"
     ]
    }
   ],
   "source": [
    "%%timeit\n",
    "for apks in sample_apks[1:100]:\n",
    "    dist = get_jaccard_sim(apk1=apk1, apk2=apks)"
   ]
  },
  {
   "cell_type": "markdown",
   "metadata": {},
   "source": [
    "### Pandas seems to much faster for labels"
   ]
  },
  {
   "cell_type": "code",
   "execution_count": 28,
   "metadata": {},
   "outputs": [
    {
     "name": "stdout",
     "output_type": "stream",
     "text": [
      "Got data:  27718\n"
     ]
    }
   ],
   "source": [
    "labels = read_labels()"
   ]
  },
  {
   "cell_type": "code",
   "execution_count": 29,
   "metadata": {},
   "outputs": [],
   "source": [
    "def classifier(apk):\n",
    "    return [[0, 1], [1, 0]][int(labels.loc[apk]['malware_label'])]"
   ]
  },
  {
   "cell_type": "code",
   "execution_count": 30,
   "metadata": {},
   "outputs": [],
   "source": [
    "apk_label_ds1_path = '../data/labels_vt_mal_2017_2020_az_2020_benign_hashed.csv'\n",
    "ds1_labels = tc.SFrame.read_csv(apk_label_ds1_path, header=True, verbose=False)\n",
    "ds1_labels['mwl'] = ds1_labels['malware_label'].apply(lambda x: int(x=='TRUE'))\n",
    "ds1_labels['apk'] = ds1_labels['apk'].apply(lambda x: x.upper())\n",
    "_=ds1_labels.remove_columns(['malware_label'])"
   ]
  },
  {
   "cell_type": "code",
   "execution_count": 31,
   "metadata": {},
   "outputs": [],
   "source": [
    "def alt_classifier(apk):\n",
    "    return [[0, 1], [1, 0]][ds1_labels[ds1_labels['apk']==apk]['mwl'][0]]"
   ]
  },
  {
   "cell_type": "code",
   "execution_count": 36,
   "metadata": {},
   "outputs": [
    {
     "name": "stdout",
     "output_type": "stream",
     "text": [
      "44.2 s ± 5.91 s per loop (mean ± std. dev. of 7 runs, 1 loop each)\n"
     ]
    }
   ],
   "source": [
    "%%timeit\n",
    "# classify using turi\n",
    "for apk1 in sample_apks:\n",
    "    r = alt_classifier(apk1)"
   ]
  },
  {
   "cell_type": "code",
   "execution_count": 37,
   "metadata": {},
   "outputs": [
    {
     "name": "stdout",
     "output_type": "stream",
     "text": [
      "73.5 ms ± 3.02 ms per loop (mean ± std. dev. of 7 runs, 10 loops each)\n"
     ]
    }
   ],
   "source": [
    "%%timeit\n",
    "# the power of pandas\n",
    "for apk1 in sample_apks:\n",
    "    r = classifier(apk1)"
   ]
  },
  {
   "cell_type": "code",
   "execution_count": 38,
   "metadata": {},
   "outputs": [],
   "source": [
    "\n",
    "def create_voting_net_alt(gamma, apns, classifier, distance):\n",
    "    net = dict()\n",
    "    for a in apns:\n",
    "        insert = True\n",
    "        for n in net.keys():\n",
    "            if distance(a, n) <= gamma:\n",
    "                insert = False\n",
    "                net[n] = list(np.add(net[n], classifier(a)))\n",
    "                break\n",
    "        if insert:\n",
    "            net[a] = classifier(a)\n",
    "    return net"
   ]
  },
  {
   "cell_type": "code",
   "execution_count": 23,
   "metadata": {},
   "outputs": [],
   "source": [
    "net = create_voting_net_alt(gamma=0.6, apns=sample_apks, classifier=classifier, distance=jaccard_dist)"
   ]
  },
  {
   "cell_type": "code",
   "execution_count": 39,
   "metadata": {},
   "outputs": [],
   "source": [
    "k, rec = get_recommender(subsamp)\n",
    "distance = lambda x,y: aio_distance(x,y, k, rec)\n",
    "net2 = create_voting_net_alt(gamma=0.6, apns=sample_apks, classifier=classifier, distance=distance)"
   ]
  },
  {
   "cell_type": "code",
   "execution_count": 41,
   "metadata": {},
   "outputs": [],
   "source": [
    "apks = [a for a in sample_apks]"
   ]
  },
  {
   "cell_type": "code",
   "execution_count": 42,
   "metadata": {},
   "outputs": [
    {
     "data": {
      "text/plain": [
       "['2D151F82FA37F7E52342909747348C7613905B6CDB82CB8005A38299F0D908EB',\n",
       " '3CF1AFC667C2DFB9349FE53224E443BA6D0E2A38497DD2292AC1493D3E27AA1F',\n",
       " 'EECF57216C9E1E16CDD4765F2A6243BE4D0961D5A5511E1E7ACF297690578746',\n",
       " 'BDF4F232B65D7028755E3C94B3B79365AD9B97105440CB5413D42363D3FF0D26',\n",
       " 'B912DECE1499F3F73D6133E177C798F46144F9F84CA4754EC904FF44A4FC3AB0',\n",
       " '20F80085F87783EBA4793E55647877CDBA9E93866D79EBD43A4C00CF975B716F',\n",
       " 'A768F52C886CB9758EFD473EF30A65CFBD3CF6B81109D8639FFE352C2227CE98',\n",
       " '5FE31B640C07C1EF1FC4BA618CD795A8DB44BB3B0575A44349DF68424ED570B8',\n",
       " '62DC51A642A9FBB733E5A987B7E44757119BF4E2653B5BA3E489D518D3C42DA9',\n",
       " '7D017638CF9B903D248221E03686E88C3FE51F651996AD5DBFE98D527F3419E6',\n",
       " '9819225E3B41245C9EA4A4D64B63F715D5A5FEBBA8547442A86F9B32A0CFD196',\n",
       " '252828EC2E6157F9E7EBFBE0794AE141079323B860AAF0A222CD2EBA43B9E595',\n",
       " '9D052620A36838B4283328A77F31B5B6A8F7DB9314CDA4CE8C65784280FB82D9',\n",
       " 'EE88097C249E5C90529A79271D3571D1FF2573AFD842DFC97F56230838D23B6C',\n",
       " '7142D3AF63CDD8A7094315A3A2CB4335E4F56F350350610125FC8889E0157856',\n",
       " '39E536F58AF968BE8336641EBCD44148D6AE332A15F5471BF83CE3B8BA0FC786',\n",
       " '0836CF1A497318E10D5AB6A956E5189CD1D95BDB50224043B2E5DD9BB39446D9',\n",
       " '764BDF214C02DFDA655F9F31E910809CDD50B7F86585868FB7620BAF84400664',\n",
       " 'FE85F37A88CE612836AECBACE51084903A349A6D7468DD8AD57E9ED8BB4161BA',\n",
       " 'BF06E345EFD2B504805DAF7C5FC0971BDE4D925C489CC64D6354864DAF98192D',\n",
       " 'A37E3F86ED299CF1152348561DF47406536C91CE343C330AA13014F9704F5EDD',\n",
       " 'F59A7E1E20A9BF6CDF40E392348705B0BA50A6C71C6A619B029CB348DC08CD82',\n",
       " '5093951951A57FF61F9BFF0B19EFF212DBF68F6C3495BE4397ED794A421E90FD',\n",
       " '40B726FDC638E74D4400CB6E5D705A71D3E7177C1D6CC794D03D507171277706',\n",
       " '5F1616E49A8F959AA3482D2140851A306D975441F58FC446AEDBDF618E4C8435',\n",
       " '51BFC4B97095B9DB89E1098557D4051684EB8B71A40B22A86A964DBD620D4D21',\n",
       " '75C738027977B134918777259455B6653BCD72CF63A4DA53FC19215FA18FC5A0',\n",
       " '41A5C6510459834C60878147BD750AF131FE4167FD68381F1355ED068E2B9334',\n",
       " '49DE163CA5062B7DB64BD82C53A0441D95C1C264F424025FEE11D60A5AB37235',\n",
       " 'DB125DC3F90A83BBA5CD6FA9EB505C6B07ED338691FD99EB44EF30167611EB19',\n",
       " '09631C45588CAF56C4E0DA2741AD76D10027ECB0B7F34B1FD4F3F530E49D1985',\n",
       " '2C36D035EAB57FF37002CC6973C256A9F49CBF7602F93DD26489F8093579933B',\n",
       " 'B27FF2233875D3D407901EC6D38703006F9E33CF5A35D9D66F69EC73C7105C04',\n",
       " '75A5ED3368F9CB1FE9C35530C6F8016A70F60909D8A8D2D30CE7B1DA938D9959',\n",
       " 'ABCCFE2FCC23995BBF52AFE17E25443A68609B7E2386DED8D9EDFD86CC491E2F',\n",
       " 'E8DF7F2DF523F1200F48D2A4FCECC87480F7BC9C072AAE433BBFC8FFD0C8C8D4',\n",
       " '552D77BC09602043EC1BFAF5B961A62C9E0590EDBD9D8DFC2A9B31A18096E1E4',\n",
       " 'DF7257BB5D6BF4ACCF4477C66AA9401B99412CC859F8D02896486998B5F3F1D3',\n",
       " '3D009A1B7FD51323FF57B6E232D8A5652B975B3E91C773903422D978BFF16AEA',\n",
       " 'D5CAD811D8AD642F18F15DD568D5F515D6B265954AD8E3276508842ADA547ADE',\n",
       " 'DF1EE5B14E0780EE2C98023EC749D278501847FB9205C0947A09767CFD71F6B1',\n",
       " '7B5AB60A727859F3706F2FA17F115DE4FD52BB733FCE29D10F798B0FF639B3B9',\n",
       " 'B718B8CD2F63DB45485FA192715A440ED369B241D621278BB85000D613BFFAFE',\n",
       " 'CEBC0D6F9EEA7D601C2E2CD645521FEF83BB65572D486F09CC6FD7381025BEC9',\n",
       " '7C3E9A330F5B63B8BAB8D760699FC59E7C2731D177C924C2BD155A7D7DD5B7F3',\n",
       " 'D198D8E698AAA9E5E4DF396BAF77F23ED9355A80E62414D89D9715DC69991CB1',\n",
       " '3BE8A8523ABE292E7ED8536AE6312FA90161CB4FEAB373CD2CF97CFD566FA9E3',\n",
       " 'D861DC4143CC26EB77ED98E4EC9A7F477476FE87775C18303DBD7FF17545ADE3',\n",
       " 'D13FDD58651C745EA0DF108DCEAF94CB3D004261A479FD337CCCB66C62C0DDEF',\n",
       " '099B80E478118783DA5B1BECBF26FFE9E68FE629AB8FABB0439AE543071EE7C7',\n",
       " '4031FF88A39F2CC789A143EF7D7F353E254893D8DE1BCE4265A7A8B12CE5E4AC',\n",
       " 'AEF4E132184679E565DE37C44369AB2FA277D6B90D7E459F88ED78159DAEC84F',\n",
       " '337613AE89170DF1C4EF678AEEAF52CCFA3C598B8661E0E04A0493CB077AFAC1',\n",
       " 'C746F63D71669164E90C91881A34949DAF4A3F9B86DE2A6A97E9F3E736E42DF9',\n",
       " '0C5D6A955E9B19C95B3AFD1DF0279F6AC4693AB8026AA19B0B0455E46147B091',\n",
       " 'D824BDEBDBB483043C711D5972A1761CA2C2A0B71224CCC061BC412C07AEB234',\n",
       " '2A9B5051334C43E7A082E7F0883302D1D230F6C84ADBD516BC840072B506EB0A',\n",
       " '065ADFFBBB0D0A9B0E36F786D77E64D69FB4F2022C631647578FA56D6B66E40F',\n",
       " '2B7606A51AD72F29DAE13967D30317155EFACD69EC6FDF28FC1099623C968195',\n",
       " 'B4F86196CD13E209053C906EDA274E55ED406BA2FAEE728657ABCD9D0FD16D6C',\n",
       " 'DF6AB3810CCD11A79129089C6B00010C0341566C0EBBB0470748496862DDFC4E',\n",
       " '5C05631D966E650AE0E3EA251153333E031BB31561F40BD8C4C4139F8F8AF6F1',\n",
       " '6267339A2FDB22E1F9D86508E1C150C7C9C0C6655CC8C75D1B7C5E38D9965045',\n",
       " '1C583A0C93B95DE33E61686AE18B8FAFE25E01556B3B4C9FFFA0D43825DFC583',\n",
       " '641282091550B12F1C8CDC0D533EC3B50FD92F767C392142A514C2A199174C91',\n",
       " '62A4EF76F02DFED2AC4F6B874B6442823AA3A766BBC860D9ED507B6C03C5C746',\n",
       " 'C8DDA25BE87378B1C3317F00A0B5F6F947173A8273B0391EE412D9337075A165',\n",
       " '2F3395E8ED1DE2EFAF37CA76BE019C97E5C67C83CF7156FCBFCCD77A209C0C8B',\n",
       " '0BB26A965C3456AE319C1E77C980CEA02039838E38F961BAAA01598BABBC4C5A',\n",
       " 'B812B31B3CC96FE47179EB1F3873C9BC8F1C56F1E17AAA77842255094B736BD5',\n",
       " '0E27160A7389E9B616703689AD9001D9BAFDD99330419611887CE89151BC47CB',\n",
       " '445C19E79DDC3C13F59CB3094B2A6B91D5CDCD57542F5C06FBC51A312F1C9CF3',\n",
       " '2452AB65B971111A87FC88E1396F3603711AFCF8A2E6755513113EB6512813AF',\n",
       " 'EAE16E029C1F857FDBE09A5F46DAC1FE0E18AB802211863E56B419602FB2133C',\n",
       " '6C63112D48BED30534F7DD94641955136394956CAE9B6E528F86093DD7692B19',\n",
       " 'D73117665D13F9EFC20198364E9A078B6B71C3F44C851CC309B48B99C93C9074',\n",
       " '2D443E516A15A0E007BC1D225C506C277A1D5D43CB891DF3D6CF649A4822667A',\n",
       " 'DEAFE26997077A71D914401A50D04C252F3E2FFCB077EA3E42AA8FA45F8CEC1D',\n",
       " 'E897E2F5566F66067BB4040BCE91379CD304D54AA19875FD656C37F200508978',\n",
       " '27DABAA861FE4DC83A2951371E1F6C07D9E13259C1EEEEDA51AB97F91A162B5D',\n",
       " '1F04DD6C69479AA3390579E49744485398E95CE7A28183494F99BF6A7041E630',\n",
       " '149AB89B9156F24AE89F26F8533E4BA12ACB32C9B9089800EC52F4FEFFF504E8',\n",
       " 'D8B5A5317A3CC9597E2B4DC7E45E164397C3D3F49713F978F086C130AA8803A8',\n",
       " 'B9E0B27248661AD3FFB5342238262D8F340B0B190D78BBC73417A3137BC00598',\n",
       " 'ACBAC70367165AB5A09C3BAABA27723849A4FDF7FC07B82B8FB0391CDD7058F9',\n",
       " 'CC80E39DB432ABCD6660E6CF7B997A99F0FD9BD5F33EC7B2FCD96A34CBC87C85',\n",
       " '616E2C488353774C791CB32C821AFF015245FECE883A2DBB2541B17754951713',\n",
       " 'FB0883A0873A8E39862548383706EA0B075D1B9BB966BF29266CFC3FAC681BB3',\n",
       " 'CBF9EF7C457A5679407F211F5D319D3EF43846636F7D87B47B8E0FE0930E05DF',\n",
       " '04196281BD245ACD6C3A83F5975863EFC592034967ED7084E9465F0CEFDC9BD1',\n",
       " 'BC5F47026803D731D8C0D7492C97FA44BCAF2B13E94FFBF8A6635F1EE9F6FD66',\n",
       " 'A9A97C3725B2895E78EA43DB1F66138F36A8EDCE87918CE419BBAF2F22D45D64',\n",
       " '0C27A9BE535F682E7C67228E15CC21FE985664704A0D86F834AC4F6B12F90C92',\n",
       " '0639F35BAAF2958151069F81F2212A694C6F28D292DBFBC9B4425BE20EC3CA9F',\n",
       " '6350166860B96994A3AFC7DADDBB645412427AEBFB0B2C9A6DA51639A2790A69',\n",
       " 'CD7C1FC904541ED50F0A35C2D9756A2A2EF23D9ABC5DD1C4E0619516230FCD7F',\n",
       " '5D4F257E1A5CA253D95CC57AB498B380A5B3D8E2E6F7DEE83727424C327A55F7',\n",
       " '32D725650095CF9168AA1F1C4F2F907B2B84D827218F71DA3B14CF83F556A4DE',\n",
       " '50618603BBC740FD19E5E36867B5F1079F7BAFB677A59F1CF248B4EBA7EE21AB',\n",
       " '6818715C03B0B5666A95D0DB086F5194B7F80E4F5C4C729DFCFEEB9420688643',\n",
       " 'AB2D6BDDBD48AD82EDFF6C524657BA8F2DC89DDA3BBCA69C8ACEBA87D85E4CA2',\n",
       " '0CD4070CBF0977F26227B44CFE13E34F7837CF2EA7F32A50041E8C22BFE26C55',\n",
       " '9326AF731F8D64946AA2F769C9B3DC5E85235757A49CAD8EC5D7E1A5D5846E6E',\n",
       " '3097997BAC1BB6F7F520C8F2E74DD7CEFD00A822AB1EBD38244528EA05CDEB7B',\n",
       " '2D25A9E37FCA4BE7B11F7865908620479A975FCE8E436A05F0295EAF1689C0E0',\n",
       " 'C411DF7622557491B834EA0CA1DC66F55B49FBAE8BF1DB797640EB9A6B4619FF',\n",
       " '28F8AFA8AC04C02ACED1161E96FF48A5EFB8F2009357BAD25469B2FDA27A1265',\n",
       " '692BC2504919029E13592D514744FE1CB9B3987BF58522AC7D94CD1B91FC5478',\n",
       " 'F16E2C171662B3C264CBD035AAD72270CFA278B02561E4A5C660D123CB2B4A7E',\n",
       " 'CF281D119A03ECDEA451AC216DCA1DF125E813DED84D3EE86C9CEC74BC850771',\n",
       " '08CB7E0C97BAA92ADF178C52CE0CED09263A10B68C27C75E398742921D13FE05',\n",
       " '608D9D1E23893DBEB8CD6B0F42C3B24C84D1B7526A052FC18CF9FB5036FBE4D0',\n",
       " '5246B98462D4EBDC588C9FEA9FA600ACAE242B32480823C754D7643E4A829CBB',\n",
       " '13D0178E1EB3EA61963415614DF2061F773B4EC097CDC75D7A8A6C86E3BBEE1F',\n",
       " 'B423D934F1178B5D3BBE0395F7721C408CCE9D97DFFD938BF36961FAABBC2DB3',\n",
       " '4080AAF4119AEE675B1D56C9E6FE4B6716FE56BCB9FFD2DB9DBE9AF51F88939A',\n",
       " 'B5EDBA6AC16CAC319F1EB053FC36D5CB652FB2F649BA52B63C30F87356DBE5EB',\n",
       " '084E3206E27D49320EA2AA1C4A69CD2F1BF021BA333DA8CC61949CC53D4B2134',\n",
       " '1E05FC4A6D9FB70A83534CBFC4C01AC293059AAACC800659FC7D78E9802139EB',\n",
       " '0C08BB96C95BEC011C8C9716B9C79AF97F41FFD3157A3007C94981CC7A07DA9D',\n",
       " 'AC427C2F55513B178C9975FD5E2A4C0B391A5161E4E33EED01E419BBE31102AB',\n",
       " '272F142EF7A5B3DAB2BDF369AD90E94151331E1F8CA6250E1CF6A41E38E1C208',\n",
       " '6664BD28A35B16421676AC68A90EDD1B5C0D9F78A099070E8463F5CD3E29C019',\n",
       " 'A0F1839B41CE2DEC45E9DF22A05903CD075615F18B6AF8905CC4DBD0776EF66B',\n",
       " '80C20358FC2ABAC7018CC54CF8B6F12DC782E6E542522509CC84B355C043314B',\n",
       " '734C0279A4EE5E8190F8549EA59C3979AE14BA8784DDE7A9985D967955B986AE',\n",
       " 'B05E6F1447721CA66D7BCD3AE2C042A7B715CA6E466CFBE48CADEFEB491023F7',\n",
       " 'FFF5C9F9E59D79BB0F12E89C5AD02E5E1C07EE9F447FFB24C4A7EE8C9981BB22',\n",
       " '41459B18E716C0CF99A0C98F5C0B5AF0015A0F69E3B8843D67E63715D0B5E5A0',\n",
       " 'A2A35814B3514B618758E91103058318C2A8117AFA56C6B6D13DEAD719B51214',\n",
       " '899388DB4454FBE8560C891A6E3EBBD8E981C70AAF33825F996AD3105B2742A6',\n",
       " 'D8B6812321C928490BD0C13C3E911E20FC6826BB9498A99D63F9841FD01478DA',\n",
       " '400DBCBE70099669148DABD94D5AB57534547569DDF2979CFE272208B5B611A5',\n",
       " 'B61CDEC2E72A5C9CF7ECBEA3C6D4D2CC5EA37546A11C471CACCA2E1BA6FABAC3',\n",
       " 'C608F0E8DB37A0477FB069D99920E7B0D4B65090EBAF7E2C4A845DB65B2FB9CA',\n",
       " '4186302780EAF4740426078C9A0724F6AD1D49A46B213DEF3E89AB6B7BEE57E5',\n",
       " '0137312344CF17B944C152FFA7DE535EE1E0B14C7BDF36C60273F632E3533718',\n",
       " 'EEDF2CA27B308B4294E8EC083105A3067CDCC2449B3D249F82E1B0C6027AF0AE',\n",
       " '8EEA6733A435E88831F0650DE13983A5E1A9A62ADFD6C1DC56B46CD63F30A09E',\n",
       " '032EC689B24947FFB3772FDAC42ECC9661CC9887671EA9FB5A64208A9DB94F12',\n",
       " '617585288DA029C3F485840F4359043FD221ABA50B03BCB8FB75327DCE9240C7',\n",
       " 'ADF05BD80501ACC60D9F241E761E82E539FF40B84BC57AB10EDC22E5655C2E6A',\n",
       " '0A986FD7F204A842192855B08C531BC474D4DC627C9CF267AC8402647A67C483',\n",
       " '1C23DB989D0999D9EEA0E504EBD3281CA00C717B48ADA262E01DE0ACCCCCFC96',\n",
       " 'E1D73FEC19920AE443FD00D3318C23CF65E8F40DC7988755F8BE20601AE04A07',\n",
       " '6D52833948F110B20EDE65BEFC645A106C967B1BA13D5BB0C186AF5D617404A0',\n",
       " '5DF947CE265B5C8F8DDDA9FA8D3C8EE21FC25BA9EB9BE83B278135F79E53DBB8',\n",
       " '1DB4DF994C98EF780BFEB9418911B9C4A312AA2EBC323F2A6720F7F9EE8DC511',\n",
       " '0CB70D67A058797D814F8C839C6F4C641658278B3C62B0C34C4DC11D728AB6DB',\n",
       " 'A43BD4A3AB0DD8A97D1383D35EC814CA9A730C137ADE3AA582933121501E772B',\n",
       " 'B666E5B82FDBA52ADE0D391C79624B3FD8A275F25EF3B009C840F6C317C593F9',\n",
       " '0CD3342F756208A920ECCF8A7442B64790C7B5A14316D4464A1A77B63D77D4A5',\n",
       " '3743DD3DC33C7F73AF93C001819B0D04C4AF738CFF66DA0151F1ABA2717CCE1C',\n",
       " 'DAFE3B0412C5621BC81962C115ADE59F791799E9ACBF66733D65DA8C6F60BA2B',\n",
       " '773B90A53AB5F1BFF90D2294414D1C96001BB7D19CBA37AF63C6EA75A337D4B4',\n",
       " 'E1AF47BFFCD945C33E439D026AA72C5B23B99B26FB614419B8D185D90E80AED4',\n",
       " 'D049F1E9239F3DA783872D875A9291C42512B435440CCA89CC49ADCB93305BC6',\n",
       " '799E77AA838DC8DA80FC56B0152FC58024E14928C824CC8B9783391397FE6479',\n",
       " '8525368E7F63D4DD2C084528D006A21E4CE7AE9A2A5F312E12507015EB8DEBDE',\n",
       " '602FF44AF5902439416432F3578693F50740624488FB0D361AF425ED82AE8445',\n",
       " '9968C1153C72F8B7FEF6A386DB87E94D2D75137F5630F86C84EDFB95FBA06D84',\n",
       " '8B708335F633D7A3597FCEB8D69C721CF1641DDAF051C5EAF70FEE26C64176FA',\n",
       " '7A0F769D223CE648A747D524CA11A648CB4DE98307D464AEF4A1E4B11F42251D',\n",
       " '665036F80030A70E269A2615CEA4401EBC3B2F69E0C1B4923A14F5961F8DB1AB',\n",
       " '0D6161C36941032977F9C153553C5115AF71C6F33E16D7F4081DDA7F99C79EDD',\n",
       " '600D4C0CCAAF0104E3A8FD9F584D6E96196DC9019BF05EB5B374901E920EBEE5',\n",
       " '02B07D22A78527ECA218129B3A863A5F24AAB8C4B57530F7068C73D81F5FD053',\n",
       " 'B59D2D336582142162886FA57EC0C437387F342FAB8DFD2A8B47416F90F665D1',\n",
       " 'FDC58796DCC3E7BE3D5E450251B72729D2D9E95548A6F66F8F3B6EAF2AD14E82',\n",
       " 'B4195588450EB8BC6B0D9CA4DD5ECD9B756EF76DE4CD6133940318465FC8CA6F',\n",
       " 'C293B5E1E82B5C27011BE7EAE5658A0E69D4A3926F5984E61D801AC83634DB5E',\n",
       " 'CD05ED9394213465E1DA27749C6753157B8180C3DC98F439D5936C6CC1F41612',\n",
       " '8ACA50B382F87250F7ED94869C4027E842863928F30E6444837AE6A9033D24FD',\n",
       " '19D733F4FEA8FD4ED54088F3D2993DF082736BE246A2B3F710FA6AA8DFAFA925',\n",
       " 'D6DEA8867F7F604CF0490C644656305F6B80F859E5386F49D8F7EC1BFD0F663B',\n",
       " '742D73FD6CFC8C4E1287991A94987F7157BC548B567EAE096C5CDE68B9B2A2C7',\n",
       " 'AF117CE8E84AF8864FA1C374070E6D120B4A8953E57C9ADC4D8C2BF3541E8CA9',\n",
       " '925DC1D99F872A779846A274E9A3402B5329806B96340BB506E1BE6626EE0094',\n",
       " 'E05988687E2350CEA077858977AC269B8F2B158B4A56D52C3B75ACF3ECABFEFD',\n",
       " '0CD87FCE8E5F2A476BAA06570FB47479770B42CB341B09CCACF2D34DED81D850',\n",
       " 'DFD8450230DCC75A9D4C00C5CB6D756F3C077259F65A42420D419D65F0E3E713',\n",
       " '64373BBC4FB779033B32AADE7DD82F7798A098F950DCEFC6AE2F57D8D59CDD44',\n",
       " '643EA7057996C7736E5CFD1416ADFC484FE3B8B1CD26CE81F7BF33AD2C7E73E3',\n",
       " 'C8361804C2923ED3FFA1FD4F1623C9C062B397950F49E9B102470412F91BD12F',\n",
       " '52BC18BEB8EC010DC6B32F6A537671039E3384EEBDA58D453A4B66D796C2FA14',\n",
       " '4214A8BDCC62163A98C0A01953D2C708B92864E936646D06CF37F7C083EA09CF',\n",
       " '3D89A98C58CE60E440AFE633842DAA0BE3203D37E84BD6DE3F08EAD3BA329D32',\n",
       " '48EFC9F7B082A8687445B89A672DCB1C3F1C3A9F33660E52179E55D0DF9C87DA',\n",
       " '150470D1A04B30D6B7A7F225FA343C3C10DA04DDF18AB594A9B7B57D7952FF49',\n",
       " 'A9D009431472760E2F50565CEA9AE91EA55F8DD9A44D6D83A58FBAD344BD11C3',\n",
       " 'A12B8CE4DE8D33ED120BB48ABC118FADEE3A16FF9F4C6B2019ACB01FC3D603C6',\n",
       " '92D3251FCFDA3FD2CA973C7FDEE30440BC895DB75EE4F25F7C5F032CBA4C288B',\n",
       " 'C029C93F1B87BEAC65D0996416D98F06A68FFF5489D31ECBFA4279290E4433D4',\n",
       " '82EC07685EDD15F43C06B1849717E0AD1C2F4D14FCC5CA94D610C92A716231B4',\n",
       " 'D75F992DBF16514C15A6CE8213D5C9B9D42E37D2FF06820B803DE9CA60EBDCE2',\n",
       " '331B40D3424CCB88D5A0573C7BDE429A691538414032F7E1CD62BF8B9EE27154',\n",
       " 'A523A9CD4E14F0E51663296231E46455782B0ADAB6ED38F0EC433367950DFCD9',\n",
       " '8D74FD2BDEC339E6D1FD9F7E2A97430AEB6814BD04A1C8ED2063DB67B707238B',\n",
       " 'DD05E5533CD950C55D0325FB3BBEBB21B0CA9E262634637BAC2674900729F8D2',\n",
       " '3025073F7D266FA841AA1DF200EC636834EFA4165DC50023B8087A40B51C322D',\n",
       " 'AFE677AB3D0142511F7D79593AF55C7DBEC474064A84779514EE9450B7F187A0',\n",
       " 'A6E23815CC6518B84BCA485D06A9B7B921F29D1ACD5F17B4B0678BE963D4B38E',\n",
       " '907A1902A8A0919AF5319041E90421C66C3888C3FEB20A221C9A4ECFFE16F0CE',\n",
       " '56894C5B106B7343653556712C2963C5C7AC74602D891C0B41D913BF6D7E0780',\n",
       " 'A419711F93C9304A74FF042442871BE42974AF7C6908195E34DA98AB05DFBBEB',\n",
       " '59B56BAE790FC5217033A53462045CFA0A3AA6371C9720C41FFB16E355C6802B',\n",
       " '412AAB8342C4F3FF33A3495B6BB64F1FA670D5221751D7EC0F3D171FB8DCC444',\n",
       " '10839B520E51E7305270F7AA594C73C6D657AB8FA6E2AB2AA7E51488C40B7A5C',\n",
       " '3EB8010FC0B521BE69E2224F8C89BA4B2052AFAD1151C1F280188D9BD4E05FD4',\n",
       " '16A2A3BD4D7B64B641A6332918BA8A7CF8030346EB8364825D7E2ABD153DC861',\n",
       " '84BB5852701E8263BB059E84DDC7E3B746EAA7844A185397A005244F6FD75BE3',\n",
       " '1A86E3B2E1B28BFD482310AF6471E1617635A6DFAFBCA23349CD646760350661',\n",
       " 'D1F59C39C805BA63FD5BE7E500083D678B13BA883FEB46E7C2D2F0AC1AECADB1',\n",
       " 'C7392F2014CCA0816F262B9F687C7841A318E5587493C0EA714C687E295D872F',\n",
       " '75AC282BDB08B7EB9392C55E6A4C2AD813584F87AE87F5E5FDDE8017A124A8A6',\n",
       " '860FB1E601A1FFB1640DEAAB34255072AD40E66764BD7253FB2A5062E7EF5227',\n",
       " '267D21B49552E2B8372ACDD96F60B36F1D8D274B36537554A6538E0B69BDF552',\n",
       " '019867B5277FF00822DCF85BFCD63FC6190EC22F940E232855DF0F37600261E1',\n",
       " 'A3D5ACFAFCA476A004E50F66BDE301AFA2975E7DB3FAD124616BC57D7FF7EFDF',\n",
       " '5F6E5A7D1CF7959006EC94D475B1FCBD4568709D85EE4380E1944FA21D8846F1',\n",
       " '47CAC01F89C633DA4C0B9916B5786838EBC04DBF065B41B07ABB20B6060EBA17',\n",
       " '003CED9C6263747AA9671B0F557326032AA1D861B08C70F17902933318BBF725',\n",
       " '7A379231EAB6FB026C8494C4AC16E03ED86979A9173BF21342D19A802940B476',\n",
       " '9CA5B2153B5C93B0C8AF2D2188E9CF2C85F1366DFBC1FE05B571B36ED786CF81',\n",
       " '6900899848366F427BB6E44573FA61B4A230365B71171C1471B42F289C84AC9C',\n",
       " '5C612E7106E8077BCDC52043AA857D13D9D108882C4E806050F96BCDA91F55BC',\n",
       " '7716EA3654FA2860037815D600513D59B3B3CD485265C184172311960A136518',\n",
       " 'BD33351410AB7205C7CA0E50BFC44831FAE1FD51420AA2559B84260C056F6904',\n",
       " '273E54CECBAABA1EC314EB1AD60C32EE56766ACBFDAEE1D72EE40D6B4183FE10',\n",
       " '36E23705E22CD9B17AB4F7CDC382954A44B5B96C421D5B87881EB1CC89BE3A05',\n",
       " '8D22A4638EBA1116AAA843012F18833619AFDB8415470D9E7DF1D8102608593B',\n",
       " 'ADB3F7BEBD7B855CC08640F52D77B66FCCD4AA09A77C17796B5405AD452AB4F5',\n",
       " '35BC7B7D4BD189E5330EDFC06D383E13618B9912768100C8565C88BCA721FF9C',\n",
       " 'CA3F0E1FBED34C2FDC5CFF3A1E22B6F3816E3B3849B936C06A72B3176F5706D8',\n",
       " '6BEF6384E04C42FFC074B0FCDDC8B1B51DC27EB728B59707DFB175BCFA66FC0C',\n",
       " 'B1AD308C8210021EFD604750EB1272BC6E4C255C62991EEB00BB7C70E81A40A2',\n",
       " '58E04743838187DFB17712D48B28A625665633248FF837885519529FC3DD59A7',\n",
       " '4A00463E7306F437BFCE6D6D5B6743D266C24C93F5C66B2EF0EE2FD9282D48C7',\n",
       " '2674C5DEE859D232D26D9995F53BBBFF45990B38FE6F21936BAEA6D5BC24935D',\n",
       " 'D05A2CF88676463CC16424B88710871F001FD083EB4273E81352036822CD1F1C',\n",
       " '7233AAF056C7FEEEAFEDC0D9C9099E301B9A346F310AC2D7656629858F46FE75',\n",
       " '484C2EA9AD7D0C60F1C0793B9666765A61DA3FF82D9731C257CF123221E17F55',\n",
       " 'CA2F40825EDE6337B2F403213011B74BA4C7005B654B7F59C86158974A5DB87E',\n",
       " '1DF58F7097A2788EF09D038768535271A36D2742F54F1D1BDC8414EC60607C6E',\n",
       " 'D30299AF2B4D319B9E329569D2CB1DAB991BF0DA2369A33C44216AF7EF84F390',\n",
       " '9B47091D0386B47855450F13CAEC17686379E71145D9BDCE5CFF772B61EC6D35',\n",
       " '8EE812BCBA6C1071E215FDD689DC5D8AEEEC9C02CDE9384D076FD0181B9930E2',\n",
       " '0907778EBBA4F16082D595C5500EE440CF1862F9F14C4F7A02BBBD0E90B9D37C',\n",
       " '771A245355C3363AE6FD957549F671F3D2AEBFF741CA559829BAAAB1D609794E',\n",
       " 'B48959BF02BEC675093D737C8417A489B3CE2B0FC7D41A2AB167376DE266F025',\n",
       " '5D887F6C6537D607AF626E70F719DF3916681EFFA67198AD098F0E0EF9B4E21F',\n",
       " 'B7D1F7FC3227F28079C906CB4F8CD00024E9B4B670CA7251BD70B37586542ACF',\n",
       " 'D78995FA16A05B240D5BAD7AA1D13E5D4812D20CE4CEC4523B0DDECBDF374C31',\n",
       " '2D4B43A79DC3BA8E164348CCA3CB2F69726899F0845939578C7D6611DA8452B3',\n",
       " '8AE870373FC66FB8DA62215BA8A1048F807EB83AEE91620A0E5AA5353C7D176E',\n",
       " 'CB6ADF10C31256BF78F55130C7C89F7C98EE02799C8490C1F0629F1B5DC67CF0',\n",
       " 'FF5AC1EC5F45C1968DD66FF51625D3ED646F552757632C443AF47DBCF2769BA6',\n",
       " 'FF2C0284090412A18E1797E282251FA0F303D562EBCC0B67EF85AECE43EF7606',\n",
       " '1928823F18BD9FF43ED36496C9CBB38273871467A41B4A0850E90A86683D9E5C',\n",
       " '1D93700BCFBE336AD81B3899536965F5CB30B68EDC343DA973025AD642D673B6',\n",
       " 'F9B24D04857986E20F8E9870C2D9EE20E6A2010CC5BA00907FF00DA20552DC6A',\n",
       " '0155410F1DB16B42E639F3D076D2D70AF6B1037FC4489279BE2D403339F4D89D',\n",
       " '0955EE240F34B9B580A319D590C540106C23B0F90827F4EDFEE0D558CFEF0EAC',\n",
       " 'F8CB88813A491D597B72A0D2C0145E35B3F74789AD35AA8944A3DE440E74F369',\n",
       " 'AF13DA0EDBDB940EFAAD46DBAC21A4E4F1CD195A6AECBA20FFA3588AC268101A',\n",
       " '2B433C46F2F5DE03990B413E05E4C80E0DFB3DB1D8ED39C72C67C9637304B544',\n",
       " 'F1EC28C3DDA4C4125029120147DBEB8C1EDACBF5FED7A4D88617271F8719C702',\n",
       " '877010FE2143C611353158B196E149CDC89C0FABB13D02B1341A07E964843E29',\n",
       " '9E16AE85464FF355FD9E971BFBFF90A82A49C90DEF9A46B1271C1431A06306AA',\n",
       " 'A2A4D0E17AB96615DB102E73640866891061117DA1F2C4DC72779CE1C382B8CB',\n",
       " '2522E398C810AD8C48C7842D3914D21F058E5E01FADDA539D5FD2C08F9DF2816',\n",
       " '8FFF139A7FCB442F15F69526563E4A8B2970A5CFE68EF4A4BBD081BC017A4D3A',\n",
       " '465E382165DE7D8C1D28E13896F6A6FBDC1D361F5891FFBA70954013EBC55875',\n",
       " '6F44FE6D5FF211653186B38091C3EF855034142D68AC343B9EBFFE873BB9A3F8',\n",
       " '706996A3A1CE8094A65CFC0B015B83FEFC89BCDF82B4523C96BC2C2E56EA5A58',\n",
       " 'ACFE7539978182798FD6C6636B2796F0C8E6494B1ACAAE6FBA0002A63E4E45FC',\n",
       " 'EF76ED76D38465F34FB8AFC2236816258DAB0F7CD830F16A71A9BBF2A65FDBD6',\n",
       " 'D2B5B92063B420766762DDCA9B10DADD08C762B17BD67B8641C7D5A27A18CB94',\n",
       " '4D13D4384A60D083D06BD7575740376AB5E6654DBFC7F345BFCE75D3FBC8344A',\n",
       " 'FBCDA4061FD2953F277E827BE2309F7BC59FEA3431996F1057758D2426495DF5',\n",
       " '86D7F1EDC7BC5B0C803132B74E8A47ECEBDC9B5E1DB954368803BCEDAE5C7F0E',\n",
       " '61B478CFF5422C0F5BF6AB142C6B2A029A2D95AA46BA1000B00BBAAC95FB5DB7',\n",
       " '568CF0B39485A7D2A4DD755281668B6251FF8D3A4DEA492E8118CDB31EEEA937',\n",
       " '58775F4EF3B79183FA0164D83826A32FC277E35C020687D0D0B5E080007C1D34',\n",
       " '28EA9AE295AB317958FB198C207723AD2B4719F5EC00D7BE9AB6ED10C001251A',\n",
       " '9656446A91CB1D321E7E1974993ADEF86C7BE43657194C29CC32FE10ED8BE94F',\n",
       " '01A02643D5FB3D7E6FD9FFFC091B22C3C63D10CFA983B39647BAC9FFAD6F9B17',\n",
       " '63A7E42D4E3B811144F618C993E6972EDBEC3394BE47FA430852972B73D5857C',\n",
       " '85DC30ACCA918359CDA88CF0AFD3783E8BFBF46A8C3C1988308CF8659A20DE98',\n",
       " '40EE22094A5C3AC2E1441FC9C65A1197D1D1088C2D02679538C26986626F2F4E',\n",
       " '22FA3E42B39D35FED790449B19B6294217F0379FA803BAA6C45C1F040BA710CF',\n",
       " '4433785B1E6C1CD580CC1F890861BF6BFDFDBCA1FE5DCC7F803398EC5B625A68',\n",
       " '39EA1B18CF7D5EBAEDA985DA10C7F5AE0D2E71993AB88F6B03A0A95801D87465',\n",
       " '99F92195F3FEDBA40D69B9892334CD8C3E7F0D233FEB8DDDF910C0F8F9E18EC2',\n",
       " 'F7824F2ED6172308AFA756B16CE99996EC8A684F2A283057C8C48FE1221AEBFF',\n",
       " '96A335FC998028396E771FBB03B98BEDEF60989E15261D6B9D7CF99B19E33808',\n",
       " '2F979565062B8BD215D714763D8F6002BDEE9C3B5AAFB6189BD220A595A5028C',\n",
       " '2D9F3D7F80B5528342C9DA1B334064529304906B227068CC60754BF2AB4A2012',\n",
       " 'E2EB892A12C3BE46E3D5624CE04353A1B7C1291107D839B1060F8DA6BB012A03',\n",
       " '8FB620B6B11211654E766F110D86F7B783E2818D72020688B50B6A9404516C74',\n",
       " '3C446946BB636B481D5566ADBEA23E5C355AFA2FC50DD794BB7BBA10C5708FA3',\n",
       " '9312E18A1872E45A0CF79DAE11DF010C583602CB184C15FDE1D20BF9E7B05C63',\n",
       " '9186F71B041D49B767D209665D0AD8D0893C30053B906A5D2DE702B3176D19A0',\n",
       " '061BB8148FB0DA8342555AA7AC0EC5DC995C17DE151B21FDE5968B1B57D40420',\n",
       " '111AE17C724346468AB8F9FE77847E8F04E4641808AC11E6C5CDB3F3E2868502',\n",
       " 'C4B84DA3BF2DA9CC5AA6ADF7907078A0E320722290A77637E06BAF9E15153F64',\n",
       " '9E43FFB4DB39693E87C97E23707533BFEE5CF4BC94E3FEB4841A44229B67CF82',\n",
       " '04732E9788B102A81564BB03BB905246F9C84E13D1A504844CB7E4DF4483C214',\n",
       " '18A26E033AEBF52CE26ACE3BE1FBA0CAE36EED23AF509229D1E5E6D8B5E1D3B3',\n",
       " '8B287D2584F952C3D4C672124B2B6EB0CCD3ADD7FC727B13AADE322837F337A9',\n",
       " 'A593E77F46A74FE856E75FB43A9221C7C53DF758EADC334C9B3191EAADB9A90A',\n",
       " 'E7CF9C348056AEC641DC26FD01E6925257215A8012A3AEC13824F3D8CDB0B55A',\n",
       " '93BB274C5B98552A0FBB1DB5DFB90607BA146A873FF5069E4D5B312F67318DD0',\n",
       " '681EDC8E79C2A759C66128824AE7FD7B31FAD54820320F8190515C966816280B',\n",
       " '659CCAF34E549FD63AC774B6257E2CC9A8047F703542E0D5D8E51043BE665540',\n",
       " '9E50C0B78094EB50C224FBC0A9961846830360ECEF6867BE1274AFB45DBF1BAB',\n",
       " '70B851CC1F0F922E2F55FEA6023BAEFDD512B593342C2F5E8E3677C58D00032A',\n",
       " 'E36C661F40BDBDE07BF04E1631C4AFA302E20E1C363BFB4AD4BAD70495A40AC7',\n",
       " '6AB98279E0588F76D823DF219CB2FF35920841B8DE30E2F58982507927C584AE',\n",
       " 'E88E1EC813248E324941918C88D25E1D9F065A4DD13FAF51F4D26938A5554B0B',\n",
       " '4BE824735FB5474C3D4E14BE36A0BC2EFE7AF5F5F60D495FC3FDD41E212E5B92',\n",
       " '0C13E52CA68F04929799B48D1C9F7FCD12DB9981B5F3A7DF3A8F47D4110829FB',\n",
       " '3512AAB22E00938583BD5957B6B93D4D3CDB70E919FFD98B2F2785260DF68387',\n",
       " 'AF6B0C033750E1D74A6E7255E0A75C323680CE3807A2241DBC24F2D52581D4D4',\n",
       " 'E609333278805808FA304F0B519E8CB7C2E406DE0F96798BE605EB42D2759858',\n",
       " 'D3E5CD7A0160C1AC5F857BC58E0E7C913739BF1FEB0641294013C1FCED3A4386',\n",
       " '5C6FF64B5CD3AE8657783D1FEC424EDF4AF60DB516FD94AE6773C965EEB1CBEC',\n",
       " '9C0109406B6109EBE1024DC9C87263EF572B0A78CEF0E5A9F7F1E2EB68791FF2',\n",
       " '9ADCB1B16243FA0AA4A7B406B4A7956522D4D59D072697028695CCAE89E99119',\n",
       " '610F22F0E8D04063725ED67FEDD463711839D6D3486A648B2B0581E4905F39C4',\n",
       " 'D5E8F9D0A4A68CA88C0DF6637048AC0D253727D1D93B8EB95DD4667F652C5126',\n",
       " 'B35CA4671F6F27F0659B60E40F8DFEDF385476E3F498DE12A797EC5E1E625248',\n",
       " '5BB98A4369F523F6D7CB59693C5AEC6526D2BB2F37D922AE1CA0E178E194FB8D',\n",
       " '864A7A3B8C9CFCE81FA70056DB58F49D2A7DC2BDC10F22B1165E20360615C598',\n",
       " '5E44C5AF3EE44FEC71682C827F1A5F274AFF854C626A98D936DE313A76B03552',\n",
       " '321CD8AE6B8EFF1E1FE03626D3F8B847BAF11190D90D57B0973FD909C872C66C',\n",
       " '63D4AC6493822C4F9FA069E385EB4870BF03418CBE7262F632593396FA09492B',\n",
       " 'B5C4C7849E8B3CB69D1DCC6DA04FB92818CF37CE62E2918B311ECEFE706837DE',\n",
       " '414C6855299504A5392EA8C6BD90387F474271D5C62EC754326BD64A155A5F49',\n",
       " '49EA5AF02A16E0C7E2589D1EA503D2E7587E4EDADDF9EC70610F72E6C8D1D855',\n",
       " '0E3BABA2E7363942987A25982986058D5C0D41BB44AF1F1049C424E753702EA7',\n",
       " '6263C73B72B2A38D8A308E5B0B42FB782B926B36FE2D8C20CAAF2106EBFD6E92',\n",
       " 'C073918159D92782FFAEAA8EA4C203B0247B5A0DF83FF174A005E608EF2CF7A3',\n",
       " '3467529CA25875A3F2FA13DB84D5DCBDAFEF8F276AFDBD4353D975DF6D5A825F',\n",
       " '6A25A5969B2D2FDF2B83EA2218DFC06A6675AB5D6CCC67A61BA6C0EE367722AD',\n",
       " 'AE5BB8841318816B8611E371509E64156407E7D196FBA6EB95BF63FB09B8794D',\n",
       " '1327C313F4E754E461706D7E5F2EB0C51AE523B276AFB1EFE20937FF64D044AB',\n",
       " 'E4D8BAF8D47FA2F32C7BB626A91881F092BBEA61F6051691E5BB2A06ED2C82CB',\n",
       " '80868606D098912B8DA5EBEBCDC18B25E78751ACB40C4C1D66772E076332471E',\n",
       " '17D57B6C2DCC954722DEC4BB544B025CD736572A272DAED14170128FA0B10576',\n",
       " 'B7A68F37EF31F7B388350A191643645FDA4C2564334A35BDFECAC0B04AB9CCBC',\n",
       " '9A05D04C38C249B03BC9F0ED936E5B2372D45C074E4945A96A8DC490DB2E0019',\n",
       " '875FE5F857B4DCCD8D22EB670E62D5ABB99DBAE966A86CFFE546766BE0D2E04C',\n",
       " 'E380FB9FD9D911963057B8250C4C9956BDBBC694161AE3E5232A2752BA55C83A',\n",
       " 'C53A4AA906E114BCFEC817DD31B4480E7A7E5A84AADABA6BF0757EA5BFF21842',\n",
       " 'FCF8BF8ECD42513B5B6C820C4C1E568E5ABA1000E1B3A81BAD71C1B07AA37C47',\n",
       " '4B1975EACBE513C7C7433591F56BD039B4C434136236E154E5786D15AB2CBA56',\n",
       " '1CF0838C3B9FD54816D1AA7D4A0BB582B127DC75AAB327329A13076DFEAA8884',\n",
       " '0B7FE9D0280B78EE4A9F38E0DD64BC8DC14701B72C76A85E1CCCAD5BAD76A0DE',\n",
       " '9EAF5B54D206D67CA7921ABE2ED85363F581D3E58F3242D007CF356D5DFF6606',\n",
       " '1AE997C588466DCD57E4E02BB50B1075C17B9E488F987B257A08CA02290584E4',\n",
       " '6D1513BDE5037D9D61919A0810CBA5F16109F8F884894298965C77FFF39C503C',\n",
       " '16158E9CDF47E564F9BD2DB62FB696034F978DDE223B56ED528A8C21185D0464',\n",
       " 'BADD71D43332E90B4886EAF3BDF965D975F733DC2CCE9523E92AD5AD7C7BC418',\n",
       " '16587C4CCC362730CA358F33836377FBBEC4C07E0A08D7BB4515EB7258F2B9CC',\n",
       " 'EC84E32F037AD373DE3846A51AC9D1E9556765B3599748E92ED5BE4A8E9C091D',\n",
       " '419C345BB64AB42A641172669358D6D9A775FB262D91B371FB4E4401BC1B77B9',\n",
       " '23C8D267EB5F6B12AE85B29FA0CB85F7C7375CF52D2D3DDD88FC5733AB53845B',\n",
       " '5C40880B26DADD23C731F5EE1C525EA92BFB2049BF5554966BEDE070EE2C7102',\n",
       " '03E2304AC108C04AE2300CCD63016C21F21DBADD1311C86C0B6C65137E051CF6',\n",
       " 'D1E8D8DF8DF178E89D104130A9176D12CB290D459A520996513FFA27BC567825',\n",
       " '0DF1F4E2A014E3126CD5486D4FC0B185C384056BBB6BAE46B0FA7652E8DF1613',\n",
       " 'E41867BF99D2EB99F7F22D57317F746485F97D3308DCEDB522C7115AABBA9D42',\n",
       " '4BB37D5B1E71CB47516BB04C41ED2E8E35924ECDB5422723DEBB462B66217D36',\n",
       " 'D29A8295C248D9362371006357306399073D9C6C9538F06C18BFE258EAB74137',\n",
       " 'AF5F80C2FAE74B21FCC6D729B2132EC7D215A97885D9E79635CF6570E071AB02',\n",
       " '8E14309EA8CA154AE7783670DE2342BAAF7AA0E8A04C94700AC724295E92C8CC',\n",
       " '22A3AC5956ADEA64309099DE98595CDD865BAF704390A2FD7D7201E00099E095',\n",
       " '2F7F2ABA0C38F62FC52E9E2910B9F56D51E80725819A3406B1ADF1FC45F593E7',\n",
       " '93572A39DD2E3CA7CAA869DE3D2CFC52110607C206FEE0D53C4F4AB2729CA58A',\n",
       " 'D6456E64B46B2F3FEE5BC893E2D2DC4ABC186872AD00259E79A1EE63647F0D31',\n",
       " '91781FC8C833EEA449230F83FD3DB3CF5BD09DE532A4B9CA9D63ED72023CBA9D',\n",
       " 'D426A280C9C947045B5D3AAF5CCC7A20CD35BCFCCF5ECBE00542CE8F33D9B5BA',\n",
       " '8573ED32ED3008B546CD80E4F5EE4135235D2E858D7CA6593253B380CA3EA8D8',\n",
       " 'CFCE85AF62EECD5F3F7EA7F60A9147594EA56B5DAC448626FA949411F598567F',\n",
       " 'EB3549218BA1AE9D4F4BF560D3107DEAE45FAFABB90636F164C98DBBF4CCDD92',\n",
       " '513075B08AFAF934A6A7E08C076DD7144B682AE0A30B1F3547B011DD847B3900',\n",
       " '2E4375522FEAD5721B1CEAB4C6DEC04926BE811D0299B29BFCB3BA5ADA7269D2',\n",
       " '757A0F48251CC1BE0EA620859CB78A3626ECC6401B319997CFA803918224D570',\n",
       " '02251CB500B29B7D0FE0EE988A88CBED2F46D9D74CC78C1EEC2E4F06DF4D91D9',\n",
       " '15614A7858FD4B03D8EB87ADB91A7B99AAAF2A7AA09ED5022BFBE29C25763768',\n",
       " '1F52D0293FCB5583F6B377103990494775514D1E0A0E0B1CD7A41BD6F824D841',\n",
       " '67C8EE629BAF3224035D3AE837E2CA1889F632421CC6BE0F616A82F846BE8E68',\n",
       " 'EAD5CB47455D5CEC919D97E6FB9BC17075341E4553FF003F557CA0DE37CCAEEA',\n",
       " 'C3470FAC847B8E890B10ED250D2A175F0BDD7FF031697758BF174AC38DCC26D9',\n",
       " '2033208EBB82ACA4C40E80BCD4444653F44D9AD7F09954F41DD33C5E5C8378E2',\n",
       " 'AF24846EDA1C0AD27605D50B4D24CCB5C65EB75B3C907963BE28D121A760D902',\n",
       " 'C6875EC27D421DFF6EEAB5D2EC8B9D51EE0464C1B8AAF8154901CEA4D1092E7C',\n",
       " '5AF00B91A67E742F4F1FBE81A0F6A5D1233EA25BF920F6816F0550C6ECCFF563',\n",
       " 'C625A5E00E32729D5CF0BD17C4FD1D5F186F6BA76C3A307612DF40968F344055',\n",
       " 'A825BF41BE2924D5D233ACCB719FFB66D8A5BF92FCB07BBEEBF4F55B339E2954',\n",
       " 'AE8935CCD5C4D48DF3FAB287E96412DCFDDBE2AEC288DBAC4F47F4C724E18101',\n",
       " '0E10947D7FE7D1C87E86F664C52D89D6CB6A4034FDE33CEA04BEC9AD52E2ABAC',\n",
       " 'E335F00CE1BF3B7A48990FAF29F055541241D203788CD4260B0B14A6B20B047E',\n",
       " 'A691F799939915C2CCA930A31275337E8172534CD00AEF6253B35559E4CF5988',\n",
       " '60BA9F8EB6F82008214F9A9FE8B3CD1C219BDBAA914F7ABD8CDE4C1662B3C1E1',\n",
       " '5D10A4F090FB50CACB76A5F1926CD8C61AE5D8182E90362F06C81B6414711102',\n",
       " '84CC1B34221EEE4CB628F4713D5A5A33902D3A15BE50833AD72FB597B0E63E69',\n",
       " '68DC21A6980C08F166451DB6DB72BA1509D7568EAA19861460EB3945FE89B319',\n",
       " '939E1F4B1B113E02FD4E7D31CFCCCB45ED7A5FCD9C9C46369389A4548641DFE3',\n",
       " 'D03B47830CC37F6555CC57A5AF005E8305CFD76F675E9C5EE9DAB43B788F023F',\n",
       " '7E77E6BF725398AFE77CF7B6DCB493CD158CACBCAED50028B52B4978DF0FF878',\n",
       " '1643EF720BACF2DE0ECCB5B98B5E401D8EC7DBF18A2A445A3DF15394CF997E9A',\n",
       " 'AEFC343A91142C9EEA93E1A9533FB67C19D254C474C09CE59EA8A05692C2BA20',\n",
       " '8212D60A13E1F8E24BBDE0CD5574CD17D8B4EF2C673082F5849D9FECE213FF9C',\n",
       " 'CBCE58407E9738B4A26FD778EFA1270EE00A4C67D65BC63A19308E301259D263',\n",
       " 'D3C89CCFF5133939BD091B359FC31556F47FEAB43F0359EEC71CB2B2EB7164E2',\n",
       " 'AE9DBAE5FC4768F30DA440A3BF3AB4973B87AAE5FA202AC0D7BF3349EBE2DC43',\n",
       " 'DEC47C079A276FCC02A86AEEFC58A3103F0B082471FC21D6AD1B7BCE97443122',\n",
       " '9E496241125D222575C9EB2EBAAFC934E2FB8FACDF5082382D9BE18E54809416',\n",
       " '37F46CD18E91317368B8FEFBE8F9E4C3D2AF9A75B174BDF619FB166916AD4BDD',\n",
       " '473C42E8E2898A5E7565252A5609BD81CFB01610EF1D6F435DEE4F098BBDC8DA',\n",
       " '57A9A440B5459DE6E212E84E5045C51B1D9AE493806202AFCE3324FAAF0CEE58',\n",
       " '495E2C66BF8DF374CC101D2BB16977A966E71FBD0F368471207DF30558982B09',\n",
       " 'B5A6A7639973AA94802CA297BD667A6D7B533E39EB5B89DFEF1B27DE04EA77EB',\n",
       " '0518A2547587E37FD311A2CCE19B9B5E078885BFF6C918C9BDB125E0181ADFCA',\n",
       " 'F12B8380F2EC751DD20E13BBE8B79E1BDB6D5858CA1766BB58C748D37D43614D',\n",
       " '4AB6A94A81D355DA1CD0B5809FE8DEF1B79C5D07D47B2CA8C26B96B3C96E782A',\n",
       " '54A8F0C87B63475374D272B0938DF8A0DEA2B6DBFC9ECE18E3C204AC09353C9D',\n",
       " '843F99486CFF2E1B513E6BFD89BEF5E81CF13D1453F4A92D62114051A92445B7',\n",
       " 'A343B019F29D6282B1F2D164A1F9D2695BAB0115D2F2A576CAAB4E1B5FC1CA1C',\n",
       " '14E0B472045353F925E1578B609D07C1B51745622D190EB133D35E7DC0511CDD',\n",
       " '3AC09116D854A11B272F15371DF50D89857C69C0C26B5D8F6C1BEA7F5023CF78',\n",
       " '852C1265E438A857A18A236249DC579FC38984EC95A7259A360E837D1EEC91CE',\n",
       " '2ADBF51B067C5A14EACB5AAFB32BB4EC4956AC0C79C09C9E005D0754F0C937BF',\n",
       " 'DD5811DC09DDE0E8A145179237A4800AEA1DA806CF9ABF2F6EB7D971A646FF03',\n",
       " '1DBA43A7CFA549AF753AAB9AC716C7AF60C0EB5B8EC0FE64CEE367BF5C7A4BED',\n",
       " '31A21DFBE3823858D184CC888AC44D66328F92F0B7DC82542FE6041AEA3EE555',\n",
       " '3B1DB36567A0F47B61EE157D6F5D8680EC7C969C250FE95BDD810A3E1FFB0354',\n",
       " '21F886F9324EBEB139B29FEFD8EE8D662362B289EB0CF7AD3CF0A337F3469FE7',\n",
       " 'E56AA3BB8B8D5CE16FC65B7A97DA169AD6220C00A27E8C7B761701E2E167E862',\n",
       " 'BCAE358F89AAD28A5B51388604B24FBF66DDEFFB5FA750FFB7E31EC09CA9EEBF',\n",
       " '9B2BB26D5562784349FDC8B8391EBF7D44F5A98D79D4A7BBF6A790C86FE1C5F3',\n",
       " 'A7821E0D043AC6136160FD20F1F7FD4AABC18A227200825B851A2221A13912D9',\n",
       " 'F5723E50B8881219D94075694E97F85AE085D1FF0232C88F6242FE34D5B98794',\n",
       " '86E753881B831B7A186A2A4A81682AF3A1786A9BBE9759A9D50AB0A517B4421C',\n",
       " '2FA5D6B0FE115BBD7C2796B0EADCC1DEDEC19E9BA5132D61890091213AB85E39',\n",
       " '842A1AECE19073E0658CB6D3683444B60862CBECAEE174DC6FA1FB8C472CD6A6',\n",
       " '8DB438B7E7E1EC6BD75D21E74C40559C4A161176FF80892B49067BF12CB2A7C8',\n",
       " '47B2F3E0D795B0FA51A07E1F3D9BEE745270A180DD4F18F52AC6677C4181DFC5',\n",
       " '5F5921965A73F842933383345DEBEFC7AE4A02DB2D2B3C61415F42BE72F13DB6',\n",
       " '6C7A5157E66E4F003A7FB7EA873C05B6F50A991D3028B7AA85B051BB948288D2',\n",
       " '30BDA02AF2A47107B3343E4BE643E04313C4962BD6ABE269D9288585698FBBB1',\n",
       " '4FC3C6D56199FB7D72F3CC4CD228ABE558D8B2F542A8FC6D83115B6D6BF0EBF8',\n",
       " '4F76DDCEA36D46FB16576122393267D584E2A31963F78B427A666311324FB817',\n",
       " '637232AC2632E057E0ED48896D738DCE3B232BFC84259F22AF1CC75A8A8FE726',\n",
       " '05BE3DAF2AF29488102A4C043135EDA26D9BCB2D8AEF1F9BCB06468AF2516352',\n",
       " 'E67A62BC321B46910123481A32E3F4669F1678407464C6F869951C790E0311D5',\n",
       " 'BEC86FBEB662BDC459BE813F3D11F8CAE73ADCFEEE6F9ED9AF4C011B96E12F55',\n",
       " '3FE0766011E2178AE16740534BBC34BE7CFC8BE71780AE3E47BCB3F3E7BB3254',\n",
       " 'E142EE2969A7E6A32F9F51CDF26BA4A0A15210E4FEAF1791067B0E62942C3ACD',\n",
       " 'DF8C0806693C10C958F1D545080CA7998D9F5A2D2A43BBA38C86835E9A48F18B',\n",
       " '292EA9A0D292033E467F4FA100AD216C23F74BA2D18A5FC2FA5B3D6E25CD20D7',\n",
       " '44ED09ADB7849B3F51BFD0201AAAC78A35DF480CE67737515542A4385AA705E8',\n",
       " '1F9233B1AA2C8B6E6B504815789BCF1CA2ECA60175477D27764A4A50AB17EAEA',\n",
       " '552684D609AB034F2408BA51A7660C066697164DD0C6EFF28F4548B5F8F5FF5C',\n",
       " '60F8DB21361BECAE85F29940B37C889707EA26AD7F3E7AED300802335DA61966',\n",
       " 'EB976917D314EDC7D237FD0D234900E3B6AA5551001D2A548DAE2DAAC427472B',\n",
       " '0957C39B9CD81A8540CCD92ABE89442D3B6161EB07A4B22EDD7EE949992CC399',\n",
       " 'C9CB767C0D3194EBBF02F4CE448A44771A1500A3CF7B7A8E4E9C3F167EABB697',\n",
       " '392BD46878EF21F86DB204066171E6769B91074CAA6AF3B25C66F1D63EAD8E23',\n",
       " '4B1669E05E21F489068AA768051B750A510D4AA57CFDB17DDE735CDC832A3024',\n",
       " '0422722A2EF978CB05A4606E65CC50F1DA5030DCCB590788877E11C85E368415',\n",
       " 'EA63A870F56AC69C561589A77583FE89168A9069F0B61CC6618ACA6D46C14B59',\n",
       " '1C09EDC223BD2822115C38B5A8F55B3E12E29C65755E9CB5376267CC948BB0AE',\n",
       " '3C5912CDA0C4D37FAFE3457DBB3B8CD71ADA1F136C5EA811D57CFCE75BC88B9B',\n",
       " '5299D10F0C2A1A26BDEA3B4C4DF9FBC69D3CF659715FFFBC975B348C956BFC2C',\n",
       " 'D3166BD15FF146B57358246DE48E6B59EB869E8256C9FF8143701A3D9A456AD9',\n",
       " '7621F8C31AA7295CBEC48EB8A9B850243D236983889459038B84F216C9A652D1',\n",
       " 'D14FBF3B5AD01DDD50856857B7DA14EBC9F8E50CA6891CDFB335918B4E93F8F8',\n",
       " '51C7D9E2712E20A9D9626B3B6221D929B6C9A232762E629DB4822977B600D77E',\n",
       " '408610F92AC5D21178BCD839922F225552A752ABF3D2835C37B185899ED08324',\n",
       " '988FC5D8A976A6C7A4465D67A30F0C80626C9AB5207018172F3EE4B08EC09939',\n",
       " 'F03FDB99F98B561CF95F9A25DAF35085F84190EA7D7F7B976CA5638A9AB68CD1',\n",
       " '035D5C0F7C1803322BC39B226041B8602B3ADDDCF4880D64B57F456B43FCD26F',\n",
       " '0F219417AEFEBAD886CC3C0D403F462EC170BBEBBE08B1221B930D3D5DDF4FFB',\n",
       " '623EE32B4BC276CEFF5009D4CCF57469A54611E49F5EFBCCC60A2471B4723531',\n",
       " '9DC98BE77625D0633C6AA315ED5F4A03524134E5A64D35349A6A03DFDC9BD67D',\n",
       " '530C8A64CC473347A8D49EE721CD3CC9C1FACFEEE0371EEEBA971864966B718D',\n",
       " '625EB8ADDC39862F46D1318F747D1522E4330B721CE0F811D6DFBE51916A4648',\n",
       " '1CE027128FEC815196DCD93ED9699F80C11652613CC6C6BEFA652735EE5F4E9C',\n",
       " '3E6629558A122342B991A584BEF92507BE3E73CA5EC5B385BFCADFC9360BEF22',\n",
       " 'D532E129A34A65DF5DC997A52BAFFD1AA2094AA4975706CF9667ADF69321B223',\n",
       " 'D877B642BCE84801F6F6F921C020313C0607FFDD8C29250036E6208A901542B3',\n",
       " 'CAB89AB5E389FFB8C357C74B8EE9ED93B36A0F54652872A53E2EE22745D5A354',\n",
       " '41A2802A9F2671397ABDAA03650E83B6B9D6661FC5B9A38B6C6D904FD049A88F',\n",
       " '0E6E62F299B1736B54036F10597F6B89A2AF3CB4E2AEEC5486BCBDCBC41CBA2D',\n",
       " 'D087B62C37CA63DF09ABDA8335AE78DCF63B6C17E4A5A0F6E94247F9DB6BD160',\n",
       " 'A95D3BD1C40131EE63A05EDCA86058AC840F827DB26070FB13A6211919D7F023',\n",
       " '6F2791C796D755EAC62B0D70D98CBEEBE37AE4C4B7CF5B92A9A0AAA9210906E5',\n",
       " '89B2ABC79D7D66D4DD58E8A67E38E2E4B5D286017497FFA2E57E816F0D5E9584',\n",
       " 'C24B18EC38FD94BE9FF8029AB27D481B80487EFDECCC2B45425217B9F8D3D67D',\n",
       " '94EB5FDBFEDABC4A295A2894D10E8535A3A61CE123C882BC74953B8655579C8C',\n",
       " 'BBBC8DD70B9E080512D575F418868FB58DACFE738CA4E12BC1A72A1A506EC7F1',\n",
       " '858766D98B0D06FB599A8BD98C072A39E157643B0E83D3505DEC43E6389A7F5D',\n",
       " '87C909B464420F89F4FB9E1BE24120D4703312F77A3232F1BBFB1703BCF755F3',\n",
       " '33BC3E390F52FB24849CD816E2669889CE788D3CDCC75482CB436C0797CE816B',\n",
       " '899F848A8C2688B5219769F75C7FE97489C7C14DA547352F542E4B02F0A5C65B',\n",
       " '01D98D6C3F8F07C5A6F403AD93894C69474C765A6D3FD81DE2718557CECA2257',\n",
       " '4C51AE799E4A418609365D106350546BD31C256909C109C3BA107FE341C18FE8',\n",
       " '40704A152AB0287D086DB4E1E3DD3B65A52EEBD14BE05AFACF4564245089BAD6',\n",
       " '35EF7B6F1D75AC2AEF8DA3B717F837FC2704825B27CB30DD9D573C367870B9AB',\n",
       " '4278C72C729A5FCFEE90C57144EDE2AC1F9E8C60BDCAE0298CE88056BE70CC2B',\n",
       " '2D5498328A631C36DED4EEECC59941B3CE45DEFFD4CC57162B65ADA90DF88FE8',\n",
       " '90F54CF4F5738606A8A6DD6B4CB0E9DC59C684CD141C2AD81F8BCB13D855B212',\n",
       " '0692D843C290785873122D15D5BFB4FA0936BA896EA82B3A6174365F0A13905D',\n",
       " '4ADD299C0D0577384BC4A862E5A390E139A774EC845AC687B222B7009714024C',\n",
       " 'DECBF3434335839465718C5C4DCCFFBF19DC444A6F64B35543545B636B5402BF',\n",
       " 'F22F237A6F947BA2636593F6E536B061CF712BA271BCF24B3432FF3300BA8713',\n",
       " '1CBB42ACCF55E53D768BD7B5E65694B35772792640253A3A3D9912EB2AB83D18',\n",
       " 'AD85EC4AEF76FDDE5BB8A0FD65F5C1BDF4CE09EE7DFA2B150ADA8DE1D3A144DE',\n",
       " '4A712F6F0A2D75BE6553F1F24E0C49FA637EE23B8483861A5C1FA0349049290A',\n",
       " '129645004C64187AEE51B249530FC80890F1C7562ED92C9A97A8C09153D16762',\n",
       " '1DBC5226CF759C06D3F618B05BD817C5D02523AE6705E0A967AF751597F87F69',\n",
       " '77F6DD5414E37934E80250B01F890AD8D6A8B70A7439C16AC03A290A76C9B6A1',\n",
       " 'BB0091580E37F5140776BAA956AD81113287B194EDFD6892530EFA281AF8BBF2',\n",
       " 'CF208D43CB8C5B5243CD408424A1560181FB67CE94AC6B579951E9D2ECA5EE01',\n",
       " '9054B5EAA6FF9CAF1B60DD9046BBDE1099867119C76DBE34E8C8ADE4B4837040',\n",
       " 'C0E7274D36FBC335EBA7C0716A8C1B99DF9135B4304A584065BEC9A1AF65A7C5',\n",
       " 'FCD26C3FC12F9ECF2876C77A0355AA49A44AC33F2238F8F9E2880E3BD85EFC64',\n",
       " 'A2FADA8A763221D3F0F634806110FE87CB7B200986E6883F8F9C315B943433E0',\n",
       " '8110665D93F4577315803215B87D04E86F37370C584E6E0FD2FE45B387F30BE1',\n",
       " 'E4DC2CE7E6DC68A71A4D178A483A5AC9CE9A70B7C5146BFC9A4FC4CD90C1C3F4',\n",
       " '424A20F2E95868A49A0E270427234256589181EA2A5E24F22E3F4D9AF424D771',\n",
       " '1AF0EE9CA6A25FAC9BC56662C423E033546E21CCBA131A9DEC89A8A788086AF8',\n",
       " 'EA6F748818CB24B52A0460FD8DB419405A30D08CBF334F28A0316AC22AB676B9',\n",
       " 'D0F58C73FA92BB056FE4D27ED537F7980D1E538E12F16A6AAF16013DCDE9BA06',\n",
       " '520F143E58EB486C2D8EA8C00F97379E9E5ACDCEC713C68ADE0620EE9BB52828',\n",
       " '8E00F49010D7AC53A67B8611482D7D20CC2AC9311F474172AB0A9EFCC44F4269',\n",
       " '4C49661EB7BBB326A41EA6390B0FF72B55FBE152EF5FA3AF2666CD70DDF33CA3',\n",
       " '0DC348FC57FEFC780D171B35F714CDA9DBB734C0AE19DD42A62BA0B29E6A4AD2',\n",
       " '6956265AA31F39B8CD8E7C6E99DF1707D34E80E0CB2567E2FE9DE38C1531A196',\n",
       " '0BFB5FF3A35090F3D18F5DF2E7DC93678021EF0A4F8F8F6ABB20D3B70204FB14',\n",
       " '644A5B66DA43EA6AA12E78F36A733ECE14A368CE3C8DF1E0FDB8C9E2A198F20E',\n",
       " '2AF5BBFAAC279DDB5E38BC1493B03F573B10C424E1C70ACCA7BE81A8E961A199',\n",
       " '4E48FEAE14AD327A7CDD60862882426668B998362AF5231CEF902080FCE2F4FE',\n",
       " 'AB23467D5A803C5D81E05CE81749F558DA0AB170419A05D68A8CA43CCEC33FE5',\n",
       " '77F8BC3F09B8E4B2E9C2DA3E433D53B6629AF14A412C4997492885C1C5C198AD',\n",
       " 'D72736D9345E9CDDEA929AF048AA65DB4ABBE6DBEE985888E7A7190DE1A521BF',\n",
       " 'A70E35611411B3FA026CB0D4AFC451321E09CDE64174F7512C52FE5B26575E5C',\n",
       " '5F2E5F1DE28E82CB677B111D80A23D46B22FEBC45A4E0C8F987797F0402F96E0',\n",
       " '3835892935F7EDDEEDABB1F73D9B897CBC836DAC8A73A3FC484490666E2FACE3',\n",
       " '67935C8E9F336F643A958CA3728CEA1814EFDC262B4F393FED54D05E996087C0',\n",
       " 'A18BF5A163BF72A9306E155F4CAF27373D430C081D373592EE65E58D0865741A',\n",
       " '72313E512422F27336CD199808F9C87C5B79801964E996CD395A7F0ED7373F77',\n",
       " '155DEBA5CF18B44E571B1DE18A5307A031DDD1A592237E3C22E3F8420BD36C94',\n",
       " 'FCFAEA24363BBD3117533A8821AC6E1C0A43491A65F5DB8DFAD835CB04C0C2E0',\n",
       " 'C889BB51828F98652663824C6C269565D292417DF697B73DE1275F93E081E934',\n",
       " '9867D413B6AB807F6F93530285552E55C84B3F0BADD594D03AC2F90038FF40AC',\n",
       " '0CC641D96DB67501B203603D9E00552AA4B58C08F0A28B4AE159C6E0492B5393',\n",
       " 'DDD41AE31D9846C58CD145035AADC6FB5D19F9B504B0933ADC0B61A859444AE4',\n",
       " 'FD00028AEFC173DD8BE5F0DB5E74DE4FAA1840C7DB188E3DFBF5D70868B71D0E',\n",
       " 'A0B409B552917956B8F0418FBF9ED37DCCA148146E86C2B68BD9B14EEBA13BD3',\n",
       " 'D4BAA342C698BAF84C29D3DF7FBEF9CABE3822BE27CC2E9741B680BA259E203A',\n",
       " '6A1562055011E6B30CA27080C5A04EC4AF268DE016C66674C058A9AAFF028822',\n",
       " '74745544FC51B81BE76F0E7EF43C2E55CF344CD6B2F672511A4B173385B1E2EE',\n",
       " '4131570FBB4A2D4E100041726FDB888D6C850C0FE10047650F37B56A98573435',\n",
       " '1A73FA87183EB3AF08C6570AA26AC4CA6404AB1FDDF50C31AAACB70D9369961B',\n",
       " 'A21408F21E9E368786768C1F5C844FC9E6ECC69B189DCE6C2FA861B030BEE9DE',\n",
       " 'C324D5F5F9B5ABC82C65CF0EE528FA5986C90C64AAE638E99F4036982D50A22B',\n",
       " '9C380A92D54D98B353B4DBE7681E0518E21FB7F0E2DCEA619C281478D3B0222B',\n",
       " '1FFC5F8F8762814B114211E563F4D3942E4AD839C971B02645D8B461ADDEA905',\n",
       " '36B1D08F1D19E73FA157F57C81719804CC220872AFCF29C6DB723F49F9D036E0',\n",
       " '5366C549726E06138893236BD7CD06B8D53D6597CDE28EA471CCFDC24E16752A',\n",
       " 'DC36F2D33748351EA316DD602427CEC3536A45FA658685598FEEBED409E61663',\n",
       " '4C500AB00E27A8DE585732FF539F4497BA271FCAC85E2F7F99B1B5F7F36C71FA',\n",
       " '3ABC1771E54986BB411B00DB9504CD5B7763CE9ABC8AAB4D466378600163AD46',\n",
       " '60746C5009EDC0BAB6F3778D5738B719DE78089EDC89CD51DE2BD98C275A5328',\n",
       " '34BC3E87797E010AC8AE79DB69C0137028407B26FDA1FB65B659517D6DD36392',\n",
       " '44E47A703996C437F645DE08A6D8B6F15752D921E3AA00D482F9DD104D6C366D',\n",
       " '2F4D6EC3C884466462D624A9ED1EE96F4FD47787FA64F1911689807BC7B38BDB',\n",
       " '8229264D08919E1ED76EB159A7490FE84F60C2B3868BFC55E1B54FECD0FC6F7D',\n",
       " '0D8ABEA76D6FC181FED3E349E86C0B4CBEF7A5644A3C7D1F9EC26C9414135F30',\n",
       " 'FD76FEE3AE941D151D1AAA2876B6AE6ACC4D363B55BB736E2DAAEAD99DA6B896',\n",
       " '5A6EACB89E5EA38212FBD3C50D6929702947C71DEA77572B2DD769EFDFCE3953',\n",
       " '113DAC0CB929AAB463F9871BE2DEC533FAFD794C47583AF619741AE1A486E082',\n",
       " 'F928E58412F20F617658F7858BA3CC05C14B1C1AAF393862BB038AB6B9D74367',\n",
       " 'DBD95A401EBA8D94A7477D7BA83FDE791090DC8C3A377D1FBE0AE4AA9AC74C8B',\n",
       " '9D7738A182FABC380931319C397F76D678C8ED886A7A9EB52F618664611CDA59',\n",
       " 'DBA39F2E5FFE90BC0FD18A2A70C003522E66D41D2916806CCD95B38DC49A73E4',\n",
       " '06D39F90A277A26370084FDEE67E180937CEA76CAF61FACF600FF1677CDFA92B',\n",
       " 'A3AC70B6E09E845B6147C278B623B9DF2AA4509C62908F12BC2001F54256F11F',\n",
       " '57E0FF5ADDD24446E1F611566046F7F88FCDD9CEEBC783F45224A7A253F6AD0D',\n",
       " '242D718601DEAE47208FE6FF96411CAB620B52F8204A5D5BEF93E17B5BF1B23C',\n",
       " '45430530C04E20B2BFBD7DC0C59732581E8727464A5A820B83B82FD7EFE763AC',\n",
       " 'A5FEE495B35EF7DB3315BB576441513240AAAEEE5CED64F226584B297F8C3A64',\n",
       " 'E332EE6B06829AAFB2EF91DF779E08ADF03CE2031A74E252CBBED929C1524EF1',\n",
       " '2DBDFE5E1D9FA1EF2A3ECD1CA0CC8B6B6184F08A2CF080F835D067FA7D134A2F',\n",
       " '5949DF54DCBEF008DE18A02D3861229D7130380BA909DDBA711A4B20B4192E20',\n",
       " 'D6B4F281702472BDE24A55B681057B064B3048816D1232B8380BFBC9897E552F',\n",
       " '4636911C7683BDFEDA5712CB692B29E052288F45208346D0DE0D41FCCF76CEA6',\n",
       " 'B9F1D3FFB6245E654EDF9B1D555EAA87DB3860EFF5515BC4E6692DFC22E287F4',\n",
       " '0E5D097BAFD8DEFB2B79D86E9C2C0D48B9FB3879908CBA20C99E0A6F534D2E71',\n",
       " 'B668CE5CFA74BF393F85E1649B8316A9054245874596434730257E12B279BA08',\n",
       " '783A8796BED45AB46981267C207FAC87FCACD58F44576D12152F64B9058C9E48',\n",
       " '6C19318CD7D905D80EA6D030A6E4183E32A11F8AF7995D81FC4396374E7B8E75',\n",
       " 'A08A80EFAD089548FF7971DDD26A3EBBE077E23604D396E0376454694C9794F3',\n",
       " 'A3412FE6F9620E6079CED60B158F56D123CABD5F88281E99773C4B341CD5D475',\n",
       " '423C268B4B00EE6FD4261DD8A7D93B2B9599507A21F38081F4BAFA7E3170B03B',\n",
       " 'D2E5FEA2E27CD378FFBF319CC30AB4F77BDBDE7DBA4D6E81102EBADCECA91DF4',\n",
       " '8AE2FED22F4F80A43C8A892A33FCE693BF6F07A354BE92197554E7B05614AB8D',\n",
       " 'FA060D36165831CEDD6AD7B1327F90B273911DFB9E7C3B1EA922E007F5A16CF1',\n",
       " 'D4F8274C66941D00825FDB197E4DF21A9BFFA28CE6AE9E2CE0969F6A6133513E',\n",
       " '40925C1F89C6D2CB3FD2B56A693338438A09A9C677438CA44D59FEDBEFD6EFD9',\n",
       " '91D3AFB7E0CDC617A563089D03AF35E662C69CA9A69A9BA4BCC2A73E45620B22',\n",
       " '9925ADACA203E294D038E4D6B4AC842C28602AD1D8BE13B5CB4958767C072507',\n",
       " 'A6015645A137A016799C7029243E275366D635E64C35EC01ACB572CAC5F11212',\n",
       " '6ED1F048E987C2AC709076CAC301AA13F4D2CF42E51C0A173328606C7BD195A9',\n",
       " '8FD8EE1E6B53B8D22738E928CE8A744F313CC166F87A6748A11B7C2F84BAFA7F',\n",
       " 'CE5E6141EE64D0EA1D434B32EF40F866B730CEA144310DA33D0E6F96290D536C',\n",
       " '80B7905BC26F19B6C7E82FACCD54E46366A5B5AA284F4584EC9FE78937B290AB',\n",
       " '892DA0FC4A767DF0BCDF7B52F7196268B1E76D2666961E865C1090DFED227459',\n",
       " 'B7F708F8C8511461D82464BEF5F90BB74BDD1DD2A0F84A2D7168E184051D69AE',\n",
       " '774A44BCE672E30635106A7A826B76F88B6377A8CD0E0ABC2836A738074BEB0A',\n",
       " '2A5426C2129E1215FB8FE72B26EAAD81D0D90DA3041700B813379CF8D775E31C',\n",
       " 'D6A16F5C3C5BD81F632123368D2D932E0FCEBFD21D68B32717DC2AA2E78741AD',\n",
       " '469A398CF3C1018B98AFBB3971A039F7198B18CC4211C694C715C268F413ACF3',\n",
       " '4A90E4C7EDCE73874756493C74DE10C1C6FA2C38B31363192162DA42B8B7B1E2',\n",
       " '3486C34B229E37F87EB200597FCE5F2EDD702180AD241729B23DDF202A2C5BDD',\n",
       " '3076D420E9C4EBBB655F5BB25F535F91555BCABB8A35C8FFFA6062A55476B1D1',\n",
       " '0FF3E326F0EC3397F1419448D8347FDC4A4C44D507CD47ED93A8E51FE1A65488',\n",
       " 'E869B9103DD753527B8B3B5C22E9B46214D4860CD8DE8C76D13597B621FB9906',\n",
       " 'BC3217E5F31953C2CF9051327F6ABD69BED8C60D8F60FF54B90FB7052A5921F6',\n",
       " 'CF72EB1CCE0F2F2FB98E34E5C5473ADDDBF4A79D18C6E8BA50635FBFA055CEBB',\n",
       " '77F5D1B01E3291C3ACA0EE6B0D16A6F0C622CF9300490E1E63E9F2929D2826D3',\n",
       " 'ADC173C180139AA855840AF26F3D1595D977E56F52EF52DB460C4A61418FE27D',\n",
       " '7408C85DD4C110D1FEC66EFF46C825658276EEFEA7CB5E2374974901FD89B411',\n",
       " '65AD2CD8F26A1299418BA61E8AF78451B9F6B7403A3EE9C765C64EA9E9D5DF67',\n",
       " '4C0BBB9C27DF7FB4F3A3B1FDBBC53A83AE0AFBFC6B67CAB6946E38C2BAD417D7',\n",
       " '83312DFA35AC85810DF79348C297BB7B46E4D27B3ADD6F8E92D6C7209C51C5E7',\n",
       " 'DB4F210AAAEA9E65A1B230202865FD2231497F524877CB7FA96DF15D4A642F5A',\n",
       " '52FC3232CB282FD74B9DE4AEBE8EE4F29EA23DCEF59298A28100503D3E2473D9',\n",
       " '7C4AD85FA2CE6C45A8ADC9A00E8878AB5C2E8E64FA33E582B62F6E9BDD57FA38',\n",
       " '6A2A1DC9F54605250CBC4037BC96222CAE2E5E4BAD1B16AF0A025AE491209443',\n",
       " 'D124A19D50E1E562DCB4CDDA8E83F42FF81C802BEEF35E4F57BDD8C6F7C9B8FB',\n",
       " '0679265228526941F8C71C3409D84E3C669B7B6176A5F954BAB0ABCCF25ACBEC',\n",
       " '86CE709255CE8C75A333166BB5ED64E01D172ECD7A0D321F8262D13E3A99967A',\n",
       " 'A32457BDDBCAD4B7857C61A0BBD4DB87F0220D75FDDF4F077C01C1B09C0FB939',\n",
       " 'A9D6A3C41CF3A944D1DA5A04D2169EC8ADB00394E5E97761DB47A5EAD9EB6C54',\n",
       " '6250BC6778FBF10DE460F95C33EA99D529A02B2DB5BB2D88CBA7AD52F4CCC26E',\n",
       " '507D2E71DEE16D6AF43477C44D05EAE2067210ECAA7433DCD0E5050372D83A50',\n",
       " '65CA4CC464EE6FB92205CD7D72B8B30912F8A80FC8BF4AC9235F08DF142F82E2',\n",
       " '36202022F3BA461A600EB7EACE3AABF6865DFB34DA77B6AC98956EDE9B18B25A',\n",
       " 'CE5ADA51A7BA9DDD5D38550EAA397A03C09600CD2AA30C4D84643F26D8B08A5E',\n",
       " '5D7B1284067BD5AAA9BFB9E2C55509C9A878D449A102C88166759A351730AE35',\n",
       " '9F4D2A11808DE9230E9CC1A5E5C4A1E3481BC7AB7C7B6937B48482A5E916BA3B',\n",
       " '19E4641C07E38180CFD4EB389BA6A301653A6922F35CB54FEDFBADFB9CC5DAB5',\n",
       " '36302A6609474F0AA1B21A30414B40B12C921147EED14CEC22F16966865BF032',\n",
       " '83F25CBBB6F528239E984892C38D68E1BC1CF4395A0CAEB0CF9A049546EE9C2C',\n",
       " '12DD39ABA3AB9E21673B2511D6CC4F9A5F68D50B7A3922B0BD803C0AB128A952',\n",
       " 'A865271AEA4D1A129D641AFF1BEA8D9D9CB35472B8776556CB4AA83DE7B023B5',\n",
       " '9AE22118C155E507702016662E1BA24218C278801D8E1D98FA4C33A879801CB7',\n",
       " 'CD03BF4589C034BAA92DD21B791091D55385009D2AFE7DCBD550FE79E68C9C81',\n",
       " '11B289FF1E8620CA696E0877FA753D9B83214A3755CC3F5FA9299832A55B647E',\n",
       " 'D34E28A5A47C76B7290C4C805CC4AD61D6CE460462E333476C815DCD8969BEF0',\n",
       " '4A182B3D0D0BD153C793D89616222AD5D9C3CBB59E14AC4EEF68918E7E73BB73',\n",
       " 'B4C643BC69A56A6F2BB7E0F29445F728E6ECB8BA8E9498BB871F1ED1357950E6',\n",
       " 'B7A7974CBE3CEF056934140A094F04B745E31C94ADDE61B3066A5FB4E9D56479',\n",
       " '9453E0629C33B4345E2F459C5F851E5ADE307B7257E3DF1637FA4D715064EADC',\n",
       " '652D551AB17E5CB43962D7C28DF1B084B44B63EC3B102FD6D9FA3064483D277D',\n",
       " 'D728C00F36512A865CC19DC54CCFF92CE67AE3A4047448B98FBCFCBA91ED041C',\n",
       " 'C47CB982CE12CD020735426BF7BFAA978AF0AAC3BBB6F95081A20A64474E4EEB',\n",
       " 'A352DE24C1C142856E8DF5874D95C002E062771B288AAE4D753F7CA9B3B6E53C',\n",
       " '3EACE31C11D602271603400F9CF92F7318FD23F3CB9F63B182DBE6AF872F4484',\n",
       " '08020A5E99916D1D3F1485335DB837B4769885FD5B8FF340E7BCDB213A136C87',\n",
       " '2CCF2CCED851B33E84494014D6F28A17357B63D8D762B5AB70EAEEEED4F5F8DD',\n",
       " 'C4C6D007D33F6C69416A6B7A369E438D39D4BBBF589488F8CC07909938342DDA',\n",
       " '7AC1007AD642DEBB2891CD0DDA4CE6C1A0C7D31512D9A8553A300B6A6BCAEBBA',\n",
       " '51F8E62CF4B562E14EE71944752645BE096477445C387326360F323B635F848A',\n",
       " '83A3C09370B28C2456FC8901B96979CE92C94F6602207D7F7F94879297F8F6FE',\n",
       " '51B7B82AD11A4B397C886C43C22C9B4A9C9813AEC1A5446A42DD78EE333F66ED',\n",
       " 'A97E14F76B46EA95FBE9CC78D5404BD41858533536F2A3FC22CADC19C5E29A59',\n",
       " '1B1AE33AEB712D26DF9C9A81073CB54D8F4A17E75C931E1822E8804B180A8185',\n",
       " '491005932CB67E7D1809C58601054D2A382EAC861E709C39DDE6125962137987',\n",
       " 'F3FE084C513945B9EF819D36510F399FC22225AA78B48C0B4BBE9C991C795500',\n",
       " '5ABF96BA70855948AA18F4F247E31C2D15A65E15CA2B7624B1C492C746DFF583',\n",
       " '3F6A86ACB17838094B564758D160A4B73D2951E0B088C312023B7588EF190CEF',\n",
       " '3B01C57647F18EE9DBBE5AB6059888ADBBC423A9900C35FEB7100F4071132EBD',\n",
       " '04450329301889B3AA8B15655090B89C28EDCA9816E56481BA1BFD07214F638E',\n",
       " 'CA6E6954AC2DDDAF8073F87EDDBFD11C20AE3ED6FBC707A59427A89285DCE034',\n",
       " 'BCDECA23714D4ABBB482958CAAA158E2D7614E7FE4EA2B5097E40F53B0080E27',\n",
       " 'A02C6232EEB1731AABF3F131BA5C931CCB9F819365C91DC5126464D27C714DAA',\n",
       " '90370AB06444BB094E7D656A366826274C9BECE50D41DBDC54C5D706A0614D3F',\n",
       " 'E33B36EA3467F1FB2D6CE5FAEDD0C678E502C64E71AF1C7174D0A761E7BB8CA6',\n",
       " 'D2508A566C8D8ECA3AA7D2CD415F8778607A6EFBC49CB3570888D16D6C2E639F',\n",
       " '83476E8844B73E02FC4D47444BD6FFBEFC43977824F6015522EFDCD17CCFC4F1',\n",
       " 'BB7CBBCDFB9936C66567214D23657140BEDA0E91E305437D06F13BEF0E1EE76A',\n",
       " '2C66E1977BF74586BCB9167F8062879D9D2A45A204D3574007674AA6067ACF2E',\n",
       " '05FDC810E8FCED44316BABF62D8B8C18960A9B472B6CEFB1812A3B6898C83CF2',\n",
       " 'D447C86E4AFEAA226E6B9EBBB310B387FF3EA9CB1DC6B927998608EBF6577717',\n",
       " '948276722F605E116333D3934FD5B57BCB08C59D56CFF7B2920B4EA0B27190AC',\n",
       " '9F68CDD432A70D365D32789ED14203DCE336A0897FF04FFBF81551ED0D1E5306',\n",
       " 'BECF6C1E8D64FFECBC4EC2D8BA138A6AE293311ED5D04CE1319E6A3E3E954875',\n",
       " '8F79F342382B3A850DC8419355743E1B8303CDB30CBBBCB46B243061507BDF26',\n",
       " 'F68A64E283ABFF885B4F6390948E42A1CA960C2C47E08F0EA89A9D96F2D515E5',\n",
       " 'C9D9525351C39A3E08676B66581C45B962484617BC3495D9A1AB1FA05FEBFF88',\n",
       " 'E4BE39081C6AC7F8215C2E766F51196C1A395F2EE3BFF3317BF476E6B5A82D76',\n",
       " '264864F1B20A0DFE24F869A3DB76BAD7AE9FEEC3650906A4E6E35BFE123F3C42',\n",
       " '698D5272F3B9F935506A714E3E0430BEC992692F62330A97BD27D5CE266FEA76',\n",
       " 'FFF8B8B6D87726C902D76B2159801CEE2A6D492E2970CE3A63F2651006CB76F0',\n",
       " 'B87D93095BC0B6755409A636ED13AC2C26039756AC58B6DA9AB2F8C0D7C1B732',\n",
       " '450B3FCEE5B8E36041F296BACFE013A42A36D598B6D8D6066074F4D2C8FB9525',\n",
       " 'C6DF21254B822C891F31253C505F0D4885B9EB9BD7C0FCD87A71E8E62E87147B',\n",
       " 'F8C552310B6E2A5D19CAAE927A0BE1C9FBB5671B25804D54E6E250132B62CC8A',\n",
       " '5F2DD1A3A4C136CC2B25568200C9553FE88B4394A32AD013834A9459252B829C',\n",
       " 'FAC61C52474E37D09D2015AA2841260E18AB1491BFCB37CC3D2F257C62EAE716',\n",
       " '9DC2F2860172F2B27E0CB132A92916A3E6DD08612B29DB413BCC74FBD5A82B5B',\n",
       " 'AE5678A5C36CE809D80D8D3B27D1B31707EDDC27A811FED1571855FE13B24CFB',\n",
       " 'EA2331442D0108A44CE83B0057CEA11A3676B238344E82C7DF988BF4213C1E1E',\n",
       " 'C90C2B60B8E9DFB319894D8450E60BB3D6C638F0EE8C40E4E9EF8ABA276EFCA7',\n",
       " '3FCC9F497C49667501280945CF6D3D1F6DD2FE0E33F128C20D8C891DEAC57EAC',\n",
       " 'B305B08251ABC0CFB9CAEA680121F4F465D432C51A16D31A6E6948A49D3C80EB',\n",
       " '5B09E18191FB224962889464B1DFA703903B8FD8884B3B3643B8260AA6291931',\n",
       " 'E2AAB6C80C9A9EC70E3D23EAA8173953C65FD734C5906F49413CF940D3E8E4C4',\n",
       " '96050D3C662C459E7665E850F53B6E906509873847E33D4F333F912BDF66FAEE',\n",
       " '76696EEB807F8F28782CE6951A2B3AB81DA324A20DBB98FE486245E593EDF362',\n",
       " 'B386D72A1EDD59AE0951D87A5D9506C6A4EB2D717B296BFF6AD6F204A407E865',\n",
       " '87728768203E8E6FE5BA679B17C2AEB6E11EBEC6CE4A643D52DC67DEF7CEEDF3',\n",
       " 'FB2FD8B9289DE9AEC85B1DDC57D0A11DCD40F076565BACCB631E5FCBAC672681',\n",
       " 'CB476612EE4F96EDCF9F75F9A0C8FFCD6C781F766968CF72AE349DD67B80856F',\n",
       " 'D060857B5551C707A7D5CFEBA256D3EFC9C0955928A90A7EBA7C3ABCC84846D4',\n",
       " 'F4A442D7F73A1222B6F48CA762ABAB7AF030D6041F599F493B31C2F43AF0EED7',\n",
       " '8F1185CAAD0BB1E7AB845B48174528311C30426E7B147611CF3C250D2CABFD0C',\n",
       " 'A87634E5916F804F62712A4E5A5228A39A542F5EFD0F0FAF7B7D394A50EF67A1',\n",
       " '25F4C0E294C6111BFD395389E091A250DFB9A6DB4EF9FE0578087C71A979F5DE',\n",
       " '24F624595B1AB0FF897B9BD520B00C7A5A96E25697F4F4BFAB2C12622CCDF996',\n",
       " '7A4418B3045D659BCBF60E20B325DA9745CAB559C8D9DD40DE4966BD1DFA97FD',\n",
       " '3C7FC24060AB3E9413AAEE1E4BE7997D5B7BC49BD2E7ABD020033D9948C26FE4',\n",
       " '3BE930DB5F020F556C1F702C11FAFABDC6D39497F1ECCB3F22184E2FE0706AE2',\n",
       " '1CF522CFB7918C2F80602A550763F27211B7D05AA2CAC40C35360BAD72C19A90',\n",
       " '491A0191D75274AF287C02122EB28D84CA78BE4D7529CDACA670BE8BAB0EC6DE',\n",
       " '90A789EDAFDADD30689F7C0D6C51AE366316C149AA3449CD0E8FF8AD3870F733',\n",
       " 'BC6E0DF11C1B87BB456F0A1617A06721D06AA4F5DFAE281A6204FC382506C3FD',\n",
       " '80636560DDE7DCA64761E5F259660568612B9E47810CE7844ADFBA9CE05556B5',\n",
       " 'F3003947D5745F29610749512C7D85F2DA949D13B13D647C2EAE52906EBFC6BC',\n",
       " 'D53260284246F829C75C7F7204BCA0C7EF61E6B0A8CBA209540B3C12C31314ED',\n",
       " '4572375579B6419C822310E2B1958B6E6DF2870E6A1E77D649BDB815729EEAFE',\n",
       " '07117F99C78D63B957AC05507DC5182C25246B386CDE9E348B4C29AF802DC943',\n",
       " '49B479DF207D27EB9C95CC529C3358507317E2BDE2F1E9AB476F93902AF5DA9A',\n",
       " '67B6D0B67D742F24202D73997F91BBB440A44A8CE8E334CE1C5B69DA63C67C1D',\n",
       " '1AB7B582C326543915E30BC14EA7F0A911F1CF02D97C6ED46493AA813EFB7FF0',\n",
       " '77A43858CB216BE0A1A00927FEFE86BD131939D4FFAA1B11741B4E3A3DA4A73D',\n",
       " '909302C81137DB713A1577C2DE024ADECD45224EC0B22539D969D0C09D359974',\n",
       " 'CC509DD8429D71BCCDF3DD7C915EABDDD6354E7FD186AA4D1508DF7F13044191',\n",
       " '489F003A5C46A00272B2AB449DB12D544BDDAEE9CD66160B15E3C28DFA188F0C',\n",
       " 'A722B844547119D6C0CBF6C59BE44C38327810EDE37E72FD4C78600B9FC69F88',\n",
       " 'ECA1B091B6519E90CB5660F1657416C91B45D5ABD6F4BA07B691EE8B17CB7757',\n",
       " '81B8488CD65077170B973E2B0F4BD7891FD0BB7275A806FBDBCB6C0EF567F43C',\n",
       " '9A694F989E68887D2155B60389B9DCF8CA3C86E2BBE5C82A96055D7B0075115D',\n",
       " '4C9DA201BFCDA954E55802C9176E9D41CC7BE733511BB8C05FAD42E5A282B902',\n",
       " 'E7E1E8D7E85BF472294541B34CECCCA34FFA1FC844BD78A05653F711EF7181CC',\n",
       " '296F6A229168553267DDECF442FC3F94356EACD3FA6A60143954F3CA03E99A12',\n",
       " '652591432901795F93CE5C6DA4315FCBEC41318A9A3B53BE2067EC6E70CDD66E',\n",
       " '3DAFFDA3BD9E5B99F2D9E521E1319BC0C5146D04921016D54804F85C6C1309BB',\n",
       " '15848F25262005D9E1C724ACFE4F84A8DB15B8C55A6D3641D02163A2C9C1F1AF',\n",
       " '64BB4FDEB8180A72E44ACB2B6730BDC50F7011C848B2DD330B34CE15DD2C08B4',\n",
       " 'D44CBDAAEE63B3B3036CF584863AA184C968EED1BC020474CAD75EA25372CC1C',\n",
       " '26BEA2E2C3D12A0303AFB86040E80D15D8E3DA5DC9F2C7081B9A4DC46EFFFEA9',\n",
       " '51BB2B64C49E3DA3988AC1083C1CD4B7A762725D28E3DD26FECB9DFC5FFA8DF5',\n",
       " 'BECC49A709708DA4FD22118E0944B621E949FE747EB56B37CBBDDFED765F1CCD',\n",
       " 'CAFFEA5BF333439899908B5E2D1503DFA7240E3096850F7E22AF189206A2AD12',\n",
       " 'A2A05CFEE4BF5E726F27B7A71C623F1CED79FE642C206795815890058D64B14E',\n",
       " '31E13D96691D797ED67090864AC3D69685F04EB79305FE46E82DD162D3ACD7D0',\n",
       " '62E58503E2B6E6DC12B7FAA7F9FB698B819C54B7DB2618DBBA6941C5AF3D3AC7',\n",
       " 'FFE031FC280A390071B7BF3F66DEFF702CA60092690AC3B4305664377A81CDE2',\n",
       " '221FA257E288BD5B966BDD10CA984A3B7E7C799596E5553D9497F086D0249540',\n",
       " '1F5978C7C415371748CA40EF4978E7AB52DCB1E6D6F998CF7878A639675DB8C5',\n",
       " '20BC66DE882EBFB08C001C62E3589F11DBC04780E0EC173A7F8438F6259FAF69',\n",
       " 'C5542AA4EF436B456965DF4844193E85088BD99689E351C4C4F3867D9A7A0439',\n",
       " 'CDD262EF8308BC504CBF511D1B6ACA519E70B61C2F3E245085F88560D34CEB0C',\n",
       " 'F3535AE9C11F57B3571D6FE02297BE8A4EE364C4F66BDE5A142D6280FD12AE19',\n",
       " '6AA4CA916E45E3ED24BB54D9997FA4213FE0F7ADA6F8C20A5843917A39CD65C7',\n",
       " '7895EAA7D58992FDB5AFB57319DA0FB344C42E113ABB7A7E4A1CC89BB168DEDD',\n",
       " 'BE12E1C4CF960D39534A38B1CF45869CE1CBBBCD6104F6010D280998389833B9',\n",
       " 'B0C1213E7BF18BE7874C21DD897E74FAFE13F6A5ED1B7BAC4149C1D413FD4F02',\n",
       " 'CB00A9FCA0FAB0F9861AC2F0046761D1C2D09F9FCBA7599029252886E9333D1E',\n",
       " '27F0DBF5D6B5C2C30BB100A5B23D802C0DE61555E85307BED881CCE3A4237EE7',\n",
       " '5BE9E2DEA515C0A5E8B878300577C55F94E8396B306F323AAE87C21D7B79C4AB',\n",
       " '3C5D205189BEE11AB5605365C5228503CB28DBCC5F286265320EEB946DBCE907',\n",
       " '7BDF78DF466AACC44A60BF287330AD55667073CC1D42EB1A08DA4EE9F1D163F0',\n",
       " '754CA7FCE86FC9EAEB5757AF7980F424C2A658DBEA8F8129EFE1D4DAFD2C5C31',\n",
       " '34C7BC483CABB688A5339B6031298580B217BA0798624888AC8A0CB2E0D050B9',\n",
       " '46ACE626DF3CBFBB060B065B855877D8166D4E60B2435A4DCCEBD6D89ECE53B6',\n",
       " '037D8EF26EE2EEC37E97FB82D90E3FC94D7F427CC056198B4EABBEF8CFC8C367',\n",
       " '6D2B6837927DA497C47981D116F1C5270ED63990BA1A243EDCE8A46E9945C0F5',\n",
       " 'E581C6A6FB531A5E8AF1B91C4D0197B5A5ACD0D89BD2B27D962E589E4EB3485F',\n",
       " 'FEC91E44A7EA2241309130C347F16AF8980017A12A4AA71C0871E4F6C8E70B8F',\n",
       " 'BAB0DC44E23D84E7AD2D70D362FDD2D251D8B4CA55BEAC278244F07E1AE4E57D',\n",
       " 'F4A789BBD21C97F818F780DC359FD721194A7FD21AD0A02D3E63A848F9B73FCF',\n",
       " '3AAF38F3DB0C938DE441BCF42014C80FC95AFFF59166B24A885BCEFF430D9B47',\n",
       " '3BBA38A1FA378DCC8EDDC5A3B8639C5DC75B6C5604998EE4CB00715A5A7E4579',\n",
       " '94EE47D46E7F45D7A0F86E3832C10A364B3068850DFF589A6146BB92247F380E',\n",
       " '5ED7CBCD1DACAFCFA8A0780143A59EFEDC6E2BD6A5448ABFB9167D241E1219A2',\n",
       " '159D1707357A878A1B54DD3A7268ED0C565E81B5DB3C67EF7784FD507221F5EE',\n",
       " 'DCC63D6D02AA32BA3E6432DE3A68D378A5DB3B5425906F915BF4C588FCC3B792',\n",
       " '5DA24F443A0E6895690B075C9C52AFBF6042F5DC6311B8FF93E8F558AF1FD002',\n",
       " '6111C693FD7782DCA58F283E819255A9687945C93889645AEF851FF92A55D101',\n",
       " '6B2F51F9848E4DD0CF7911A31557F11C658E7291B23DE4988D6380572E857DC4',\n",
       " '60F46BC490A77404643992F7C0A277BF80322371DCF04EBBBAFC49B4F0486645',\n",
       " '389AFFB6DB8EAD8A553F33FD8FC7EAD89B9A648FB56C720CD07F414CFDD99508',\n",
       " '204FE1578C0DCC20E69B0976EDCE78EBF615486F5FC12CD92A82F3420CFE206F',\n",
       " 'BB7255E3D40F5C55172FEF6B325A7D7C1E933ACD4154F1B86860413370EAE27B',\n",
       " '864E8BF4758B072BC780A8AD818256E1414451986C8254EC33ECAF5C47CFCD43',\n",
       " '94A843FD96553DB22637F127FB7F2BE100479DE2B9278D4B6E2A940FA387B2CE',\n",
       " '3C4FCCA96D9711ED0B2E0ACE37451AEA2B05778E2456E825E2232483787E8D09',\n",
       " '3170C2AB35C60FD0AC86C3D32F0E845AD56892B3795CF99C77DE2CF6BA28BB08',\n",
       " '0A36E540485B2BAA4C738E8BEDF2EEF9516A9BF0AD23B5E0F2AB25131A337B2D',\n",
       " 'FD53D5C30DA44D19E6498A344BB7050BC03113D570557ADCA57683E66CE2F933',\n",
       " '89E0375CB7D9E077051C338F92C71505725835214D449D7F6CD50974AA9581B3',\n",
       " 'E1F2669E135E48790FC45CCC3CB7F15825C94D93938F49B8382492CDD015A142',\n",
       " '2FE3BBE016667C02A09879BEF86C2C2C2F81D08A122082DF7CB9F7F39EC2BE62',\n",
       " '91B1CB16580E77A7A268EC40B948864413372227F8F0DDE7C623ED6200A8E509',\n",
       " '18C91637BF49322CA58C0FA4C96BB367CA045B040EB900BEFFB71FD95D1F6BA8',\n",
       " 'F39F85E569CC4DAE7CECAE031465FC4239C6202AFCFA575ED0FA6E112C0FFFF8',\n",
       " '3CD5DD169BF45CC0250AB6C1D33F795D7FDADEBDB0D81CFF06C52F63C3CA9B09',\n",
       " '3D8A32AEC246882CDCF558F2ACC1EBCE3FD99A0B1C4EFC85A6E73F05EA48688D',\n",
       " '3F708F727E2339C0EFC9355883A24FB271A21E1474DE9CF8AABE84F629CF2EE1',\n",
       " '72C90BE7B38B3DE82C36CBE30595FE0BCD728416182AE7D85377ECAFD9D09C4A',\n",
       " '0A3F3D5A541B93F77AA21BC86C0B521E3D4F3B5FFBCF44DC6BAE5A5BEE2F39F8',\n",
       " '4467F79B3D44A075280287F48BD5427C63A0716FA31D837C41AC654807DEE6AC',\n",
       " 'D24E4F7060F31FDF9040C7506D0BDB13EC980B3B03CEF889F033A88F1EAB0E76',\n",
       " 'FF28AA8CD7AFF5B7F682D004B39B73441161C25946BE4990F7AF1341D12ABF29',\n",
       " 'CF43A40CF61B22E1E718419B11EA2969EF0B59CE48F8839CC977ED2E4C2E2600',\n",
       " '5F69A043BE53E3440A0C25DDDBC72200495CF127DE86EE2BED7F6E5F4F735861',\n",
       " 'E4DE0439A5545A63D4948CA581B110A37C2C3BCEA2853E59C33573AF87FFF266',\n",
       " '60882AC25F6B4C7675B52276316230B9F460F5AA12D033018A17A03CB533880D',\n",
       " '4B38F527A1C5CEA3870B0FF11EA403147A8E3329EC50F886FCFDEFEE0EB67A21',\n",
       " 'AF3284AB9D88C501964F61AF5C1C7671B9FC5CDE12A414D5527C99272D452865',\n",
       " '79685F4DDD1CC9FB7F157DFB67E6C4B34D737D21427CC2D64E80F9218CCAE74C',\n",
       " '04C40A3E9176F066F9B3A0831DE7727EB334E1FE3890AE68631E6BB4FA255D96',\n",
       " '76012478348BE531A94DB55FA7C8FCD3FD5AC17441B2E657C2576FED94ACA6E9',\n",
       " '1C7F71705CE3B9D51809C9137E2B32C0B677979DED01852E2478C8C0A54D2681',\n",
       " 'E405D630F087760F3F813F0D9CE9D75F0D570D0F29AA6A287FD5577313697BC8',\n",
       " 'A3D18E54ED8EA92C24A4D445D108055777D00D57D5B7F7590C19E26FE89C3003',\n",
       " 'B4D3B42F093F13E779D54B746EAF7A6446064DAA916ADFE20A7E49C0657737D3',\n",
       " '2B55F8933094B654184F46D0A3AE5CEE3DB832AF79CD8DED8B9FD1B148D2742D',\n",
       " '75D184AC776C40ECC8E937BF68481729B2AF34AB2D11B07EDEBA85606C8CAC2B',\n",
       " '9230D767BBDDFED76235EBDCE1D2F49A172184DCEABA17BBC109A53EE4D311B3',\n",
       " 'D7184E7693963BC81816F549DC04AA0BE58C3D697442176E9BD1403087F39516',\n",
       " 'DAB4E4734B6A8EE3D1242FEC3E07C64270AF8B66CDEF65C0639AED30A728C60C',\n",
       " '852EF2489DE6D94FDF83243B293C33417D5D560F317796EDC762A74C9C8BEC5E',\n",
       " '7147EF895680B42133D5D8395EA0AE0FBC10D5854DEB5EB59C1E9CC7063D8DAB',\n",
       " '057DDD02EE145786E650BD0045BD24925F3942F8DAC866AA2FB246193BC24C27',\n",
       " '34C904D9E5440F2958BEB7634FE8E29D625DD9E3432D67B22DCCEAB89EFF1306',\n",
       " 'E77F0EA79CB5CA974A7DFB43557EBC52EEC004F03909B3D51CAE7F27A70A4093',\n",
       " 'C33C64E6FEFDDA04C1BEC77A6EF7B7580CECD6D9ADB78173D2EB393715F62864',\n",
       " '201C2EFC6DCACCFB551355594362E61649FA874FE16E0406CCF28750EB444317',\n",
       " 'BBA44693D4F4968A08946116E60D964944DAB66438935BD83A787DD3B5645D5E',\n",
       " 'B04E3595A70468ADA406D667F96172256CE93669DF9D26BC9CF4B180588172C6',\n",
       " 'BEFC051F18F4516994A120B5516C8718E8F99EF1745DB0E49138B9E496ECABD8',\n",
       " 'F7DB2110662129D2E1AF22455E725BE9E14B78817C4D7F1DA736FBBFDCAF521F',\n",
       " '3FE89C763B2E7B96EE3F73688BC5434B01A5D1CFF5A0780EED15DDF85CC03877',\n",
       " 'C078426B535ED749F74271D924AD6EBB5346F83FA2BEF2AF4E7B9376BEFF0A2B',\n",
       " '5F813F56321350738E67CAEE4C9267192CD5FA59D004B0AC4E488985E2CF067A',\n",
       " '2BB7DAA349485545AF554A01716B345A37C07CB2822E7818AB67729E39B00699',\n",
       " 'CD405B8C50B04A6BFD36C42B2A8D6BCD0804E38D070664F630EDC750607DA7DE',\n",
       " 'A50832020A95DED290FDAE9FC0C4651B16485604B9A93D5D41A85B402944A649',\n",
       " '091018C62D625C6C0E3B1771399038EDF2984085C39AA313E3ADA8CB17F52D83',\n",
       " 'BBB92CA802731C13C8C7CE7B4F94951EE70171077731CD82EEA800C32E70E90E',\n",
       " '3A781DA5463AA1CC074987B1D23FCB97DFF2CAF0CDDB34D0EE2F7A806ACDE0C3',\n",
       " '74EEC97EB6D845D11217958B47AD9205CAC677A0518AC75A0F65E9F206570A8B',\n",
       " '9C47508166631F0A0C6C24F98779A8C717FA2D4BC29FC5A614D68E4E9BB9D702',\n",
       " 'C27324FF40F9FB87663DAEA6553661F5898E657F8057A8969A6F78B016248350',\n",
       " '9862F65E9B4BD62A1B07F56D91F28F8A927491316B0FD097CAC3B63E8FF81835',\n",
       " 'C3BB9E456C8E1089136EFC8DAC8730734CD3C8A34B10E4B68D2D34A627F5666F',\n",
       " 'C7AA03C5C2E5A0BC8DA3BBDD14BF79DA9C7BFEF8E47D28482E0E95C58EA66247',\n",
       " 'C845600D9A860AD2712D9D85F0D64C43D55359717113F768F0D6E4BC5389564B',\n",
       " '223A6D185378D246ED7BB151A8FAD59F510E00E34A7E7F523E14C8E94BC7E6AE',\n",
       " 'FE0263C7CA00FE53CFCC3F68636492F154109A721493F7B6DC4861F859868C39',\n",
       " '4775915F8226BA286599E031A4D7F03CB21885433EA73F5D432BE5D0973AD21E',\n",
       " 'AB5E85432DA1F7EF45074495EE60A6C8C084606AD13B5EA9F42C142B2B818C43',\n",
       " '8EAE899782A5C405F179E9D01EA657B97DCB64D1A05C98282BA91E08E8B26F48',\n",
       " '0E15A3EC3CE85683383FD9E38DA4382B841819B70EEC403C453459F6B2F8D217',\n",
       " '8615E4E20CEC33799832514A0594330EEF28EB5E7AA69383FFBFCF5AB613949B',\n",
       " 'E082B851BEFCD6D364F08E3827E7CC7B18ACFB0E87D51BB397FCB994F765B1D9',\n",
       " '2BA81C1AF6BA14192C220ACB81027D99A3CB250BA7090AC79F37E953AA4ADBD2',\n",
       " '4FA103A91CE9BE98D9B15F9BCF4D12C04FB6912687B249C669C04F55DA79FFC9',\n",
       " 'A46C864B374E2BC58DBE107AF28222D0ADF768D4A55095DFA1CB073AA1380BE2',\n",
       " '0DB5AA7FC46B789426838A589D8823089B824B0A4678B7AC408A321D90A00992',\n",
       " '495ACC70859F400400BAF40FED85052988DFAB3F3780C2C7F678A3E10F3EE3E9',\n",
       " '431B16132DE00E4F6F0CFD717A2664F8C7BF4DB55C7F44DD64F4C5B6EB967440',\n",
       " '2E1B01C16B3FA13FFE7BF30840FAEA8BE9FDE5EFA2F64879B18D3A2438A536D0',\n",
       " 'F6F2CCDF577883F570727B338EDBD29A54E49CAE61E7D9B8F2A6AFA0FD5C7076',\n",
       " '461F570429E6DD345F4B5370F5000180D224AA6B54C80389203BDE8CC02A67C9',\n",
       " '71E7A7614DDE7C8E1E5044400FFC9818A8BCFF8F19CA8E7A2290B14E816E9047',\n",
       " '68CBB547E89B8A9DF25C73BDA993E63965BFA728326F0E3465B8B6111F77588E',\n",
       " 'DE7A031CD3BC8BE80499D99DB05A4B04DE5EB1C12FA03C5F2ECDA8E5B3472532',\n",
       " '79DE2016F82A1FB1FA0020F1A55ADA4BE479861B8B419450592412375D9EA136',\n",
       " '95FC9AF824688BFA576E0BD951E28A1A3C1658EE3A868450FFA900B7015411B7',\n",
       " '7E0526FC6834B1B0E6805FBC270951035810A26588881398FD18CE5E482C977E',\n",
       " '9A9CE76AE1B0A048969F771BE9D566D80534D8BFA9B9F37EB5D606DAA2AE5C80',\n",
       " 'C0A38605582F5DC64C13D4956E56B199FA1BCA71B28BB21137829F5E924363E5',\n",
       " '779D9A5E61ED08479B96B72468FB6989338B30A2E84D4537B0AE9EC9137326B8',\n",
       " 'C62C07253418ADEE7E8C370C5672CDB21C251C591D37BFE402A32D28157E97F8',\n",
       " '559E1B3DA00A86BCFCF01EAF49F1F93F83738C26A1192FCDFAEB50A16382EEE5',\n",
       " '2EAAC5960D3EFEDE51DA594715EEDAF696CF14FC00575FE52DB0EB6982F22BEA',\n",
       " '0128D0422B2C3766E9BF493E4AB4A0A6EE99E3827FF17A51F0C55147F16C6487',\n",
       " 'D2CF8A8009F5E7F5F8172562BD90B1B4755A410B96F8366F8E6391DB1A98C33E',\n",
       " 'B2AEEA2D782BE02F20120F1EF362E8E6BB78AF6EFB24F795644E13D9646D2DB8',\n",
       " 'A7111A177A639446DD10D911E0F16E7973098BEA740B0F30C9D7E041938F79F9',\n",
       " '79E82F9D776C5BC675B1BC24118DE5F055639771D185A557DFF417CC2C7B32B6',\n",
       " '6268AF2D3C49DC6E2D525BB732668E8ACF938DDA2B1BAA0A9FBDD65C465EC477',\n",
       " '3F75F8C31E021B60B9BD72DD271B63498F0E3F37E83E5749ADEE7BFFBDE3114F',\n",
       " '50FB5E8C5ED015FA0594F506FEC7228856A07764DD877149E86E1E42B669B939',\n",
       " 'B580799324587EA7A2488424275F6CE18E79CB02D939954A11759870339437DF',\n",
       " '879D422D3C34F4FAFB94422539242F5BA6565FBFB101E3E1E6B9AFF0A24E66DE',\n",
       " '2C94E167ABE82AE2D420EFE37BCAFD816B95815C6104A615A2BD9A0B095F75DB',\n",
       " '2A6EA3C9874E0AF0943B9651BE52CCFEAF3428C2EEEE2B78E90E2644267E8579',\n",
       " '8BA8413661874A56D81047E39CC15083600DD07E766A15F7E976D8FCED34A76A',\n",
       " 'A2A8B26B4B4C791EF4FB127D1A557A1E7BCEAD95AC8BC8D81657E9F3FE0903FC',\n",
       " 'C2274C35C5D2E3C338444B05AB6D2293B01F4793CB34AE2DE1CD22BAB2BD1C56',\n",
       " '6790CC49A4DA65A4BA40D0E37C19119688DC909DF92C702856EF137D9A970A6B',\n",
       " 'C12143E3FE8D9AF028AE2018B07E67FE3C59E28A4EDD872ED7545D337BB98A2A',\n",
       " '625F6E108BC9C46877FB6A8C9639499329E9BDDB4F84A2DBFB29C37D9C9A8409',\n",
       " 'B78054EC8804B965C20BF3BB0ACE12208AF2307B3B0C4BA699ED71529830C7FC',\n",
       " 'F0B1901C7D5BBA7D403C21B2DB9F269DCA0447EAE44CF03851C93BD28C78E3CB',\n",
       " '3F3A2421F2902595D63F964D8EB3D9D076744792F3CB0910D17741F99292EB8E',\n",
       " 'A1C03029B3FCCBEB9B64513AF970029EE74BF3FDBCC330259203BE3081A41ACB',\n",
       " '1BF15E45788B012557D4FD331103EC1010405368DFE66F7DC575EFE2EAFF7DD6',\n",
       " 'CDA7FB10B9573AFF2F58645A3A5CBFF5FD22C7DE958D8A6233248208E9B2A9A1',\n",
       " '5A8BACA2C747EA9A0F608088BFFAAAB54C7C8E0650A51F609C4F8466C141839E',\n",
       " '0D4FF651AA8815524EBF217BA267BE01D856D342C264317CFBD2D51C1C24C658',\n",
       " 'B4816CA91B0D149B75B04BD1CF50DB9EE5C5EF1CD49A705DF398B2CA1857FB3E',\n",
       " 'BE8B6A6A82042890B0844003244C3555EAC8AAD0337183FD8084E89D52B05D24',\n",
       " '9CBB1E97697D4A9DA676A09D0802DBF3FF898C80A3B868ECC1B0B7AA16BA60E6',\n",
       " 'C4540B2E123EDD30DB12EB41B0A068DF257919538F829605093DE518E5D6783E',\n",
       " 'E2BFEFE52C57A133D438A256F2FD6E73397913EE1D2D126B1EBEB63BDCC186DF',\n",
       " '4EC2217F8EE00053C4606CC13264220DEB0E306B12E56DADD05B1F11A3D18E50',\n",
       " '27E1A4648520A3E7F262CA541CECDECED4AADC08BE03B7F43DE0CF1F5CBE4D45',\n",
       " 'B8D55D6BC99174FDE18FDB70D0A0B26E93CC7CFC463AE98CA692BF57E2638B11',\n",
       " '859EDD207F0180D8F196F8E30D2941C6C1D28D491D8BFF51A98D9438487C78CB',\n",
       " '0AF707BDE26089B8C12F7BBAF888AE9308D4E1DABA92AD82E8FF0FB876B0FCC7',\n",
       " '7A0C3BAE49E8DDBDD194ED45D0BD30DC78793A17504FDB229D6A73CB57E04D5B',\n",
       " 'A1EF17BF3F23D1344CB9E0E5BF29D5EACD53BF12F651825F6CB70C1DA9090E27',\n",
       " '022D364B9F13CBF826DB82EFA5107D04DB16FDAE4C92FCBA01244C80FD869703',\n",
       " '7BD2F0488E7146DC5B81FDA79900ECA6D3ACF8B68A0CBF21E02D85837EC839BC',\n",
       " '53838BFA77FCAEFC37E959AEA620AADE0320AD313120BBC1517516F86938B3DF',\n",
       " 'D5F90D8D26B640EF7F2EE04E7AECA974444CDA7280254FBD9B72841133F7B8CB',\n",
       " '497CB0775DA26430F213A7441A586E1FDA5244D5C3728E57C7A554652D1B8EA2',\n",
       " '69468329C96973A689EB318C2D63D848385CBFEFF9712B07CF3B26CC393C0793',\n",
       " 'CCA504656DDACB11DDA465F2B817D67D8752D077FC73711501AF55B4D1456C1C',\n",
       " '6C5B0474E21E874E024E94A10C4F127D9FBD2FD91BC3AAD12DB3674AFA6A1213',\n",
       " 'CBFC60195B58E9409080E2FBB1209A6029C759CA65C83F2C6D9F58015448DE41',\n",
       " '7F3D97DF0DC3692452626A6FE08756FE890DEAB97EEFD5B5D8E1F55DDD688CEE',\n",
       " '134755175FCC77A50B4985A3DB85F95441B20028E79CC8B67CB094EEF91E7C53',\n",
       " '8A39C1510475D8E31AA4F749846B542BDB097344E147ACA1FF0CDAF8FD19D88E',\n",
       " 'B9E433E98B0B16E87B645DA8F4A56EAC6BFE8AC3E79E26529F673FA704E93590',\n",
       " '4DBB264136F5AEACFCE524621AE71B39E3A44771750B21F53854CF681F958A25',\n",
       " '45CABA1CCB2565007E9C819C5450EA7D3468FF154E696BFB149144F7FFB353A2',\n",
       " '443CA4E098726DEC75223A91DC431597D053F190D20DE3E234A15950A8740DBA',\n",
       " 'D296FBC92F989D385DA0DD3B1B15FA3CEB215567726D9092394368F5DEF3403D',\n",
       " '8E81B2C30B59D36290D05DC126C0550EE05636AAFA5FF4196FC72889E44CF522',\n",
       " 'DE05F5E32E478D5DDB6C4108706700EF914258A8382EE91C0CA290598C29ED03',\n",
       " '22A2EE5F17D1677120FF3D9A0BEE930ECF31227C05106A31F4C7112F0724A982',\n",
       " 'F1ED941176E14AA60DE47C094E6C7CE1449FD380E67A06A91B06C50F7DADBA86',\n",
       " 'B2C0D2E166E7D159999099A0FB9D702A03F625342E9D27ED5FC435BAE2EDFED5',\n",
       " '302E0AB4F4D83874CCD70E74FADF0F5533255D62682A6E6535D67DC5706A2491',\n",
       " '85A79BF925FDFEB6EE9667F4A2D4DB93FA7BB823037C322C72AABC3605FEF970',\n",
       " '7311FA58376CE7433F28F19DE67DBEECA82549F96BFAC058350C6862B0AE3154',\n",
       " '8FC5EF2E2D9B9C8893F08BF9AEE812D3379687ACE8E38ACA31AF586F8A398B7D',\n",
       " '6505DC47275CEC71E31AA293FB1DFBF127DA12DC1110298B5AF2913A58FF5A2B',\n",
       " '2DC374C953B544EEC999D189371EBCCC535D119EF3D274089F561B0243137B0A',\n",
       " '7A540D25DC513D4643D0E238A85CE5B553937F926F7A17B67DFDE0709E0A4243',\n",
       " '770343BD127D7F1E2D66439368B4559C64865CF559E638A2BFBD362F675D57FB',\n",
       " '9D89FAE5C906CCE6DC22922C6A8960F5E7C18204132D282B509DAB9D99CE4E9D',\n",
       " '12E94EB46E463A62CAE57CCA870393EEDF04D00C050BA6361809AA519B793001',\n",
       " '308B1F02461E59C22F7472425369F1FDC47A10686EBBD38BBD71E87D41522615',\n",
       " 'C0DE3D228F92B3F527BEE7D1FCE73DAF9154EA5FE096649EA22B8D9BD5CCA187',\n",
       " 'E188CFC041D1C60591793769A9A36F08CEF7E233A8B3374DBCF940EC0E5F1601',\n",
       " '26B978942E34665E207BC6570A8AA13231C551B962B14B3CA950FE4237D01406',\n",
       " '0E91035AB0BE84E474334BBE2869B19A4582FB01E206F699CF5E82150269EECF',\n",
       " 'C47E08BEC6742E72F2C3D122F580AB25A85B3F48683FAD0A1FDF5981357F0AA9',\n",
       " '32F7DA5A55103D0C8E976E322908C4B17D9D97099C955403024711E7E11C5750',\n",
       " 'A3B2A759285403ECB514B1BED855315C9FD528C0408236F4B962AD94C883C53D',\n",
       " 'CF5FE9039A9FA5DFDE5A982E05C5B755A6541975940D7CBB89393FCB89FDA25D',\n",
       " '6973EEBE56BF15700AECD8D8E73D4E8A43BDC33C4113D0DC0C65DAD1FAC2B574',\n",
       " '5DB1A5ABCF06ACBA513C4B1E253B0B5A61F977E671E8D854844F5A8622E73D79',\n",
       " 'B3FF84EAECAF7936436B987DAD37C2D0BE2E94697049D65BCCB0A7A5B4CD4B0B',\n",
       " '926A5659918390D420A5E96D05EF3984D7DA64BD84DC2C9B6609CAFAA7AE34D4',\n",
       " '063C006C74061F68DEEE22F0016798B9097C7925C843F679721B5FEC72DB3DBD',\n",
       " '2DF6E478090A55B5ABDEB945AE9A5882B1554B7D733E3A65C0BCCD224A3BEF58',\n",
       " 'AD464A721E6A9C9BEE771B5C159D0287911C4D75E4CBCC6BCE8104879A451A6F',\n",
       " '5447644C94BB5AEAD83C27E07B46C78ABE6C9E62501F7DF7F5D22E0E27710A6F']"
      ]
     },
     "execution_count": 42,
     "metadata": {},
     "output_type": "execute_result"
    }
   ],
   "source": [
    "create_voting_net_alt(gamma=0.6, apns=apks, classifier=classifier, \n",
    "                      distance=)"
   ]
  },
  {
   "cell_type": "code",
   "execution_count": 52,
   "metadata": {},
   "outputs": [],
   "source": [
    "df = subsamp.to_dataframe()\n",
    "\n",
    "df.drop(columns=['fcount'], axis=1, inplace=True)\n",
    "\n",
    "\n",
    "funcs_smp = df.groupby(by='apk')['function'].apply(set)"
   ]
  },
  {
   "cell_type": "code",
   "execution_count": 75,
   "metadata": {},
   "outputs": [],
   "source": [
    "def jaccard(apid1, apid2, funcs):\n",
    "    p1 = funcs[apid1]\n",
    "    p2 = funcs[apid2]\n",
    "\n",
    "    return 1 - len(p1 & p2)/len(p1|p2)\n",
    "\n",
    "def panda_jaccard(apid1, apid2, funcs):\n",
    "    p1 = funcs.loc[apid1]\n",
    "    p2 = funcs.loc[apid2]\n",
    "    return 1 - len(p1 & p2)/len(p1|p2)"
   ]
  },
  {
   "cell_type": "code",
   "execution_count": 57,
   "metadata": {},
   "outputs": [],
   "source": [
    "apk1 = funcs_smp.index[0]\n",
    "apk2 = funcs_smp.index[1]"
   ]
  },
  {
   "cell_type": "code",
   "execution_count": 58,
   "metadata": {},
   "outputs": [],
   "source": [
    "ffn = funcs_smp.to_numpy()"
   ]
  },
  {
   "cell_type": "code",
   "execution_count": 72,
   "metadata": {},
   "outputs": [],
   "source": [
    "pairs = [(np.random.randint(len(funcs_smp.index)), np.random.randint(len(funcs_smp.index))) for _ in range(1000)]\n",
    "apk_pairs = [(funcs_smp.index[a], funcs_smp.index[b]) for a,b in pairs]"
   ]
  },
  {
   "cell_type": "code",
   "execution_count": 80,
   "metadata": {},
   "outputs": [
    {
     "name": "stdout",
     "output_type": "stream",
     "text": [
      "624 ms ± 6.59 ms per loop (mean ± std. dev. of 7 runs, 1 loop each)\n"
     ]
    }
   ],
   "source": [
    "%%timeit\n",
    "dis = [jaccard(*a, ffn) for a in pairs]"
   ]
  },
  {
   "cell_type": "code",
   "execution_count": 81,
   "metadata": {},
   "outputs": [
    {
     "name": "stdout",
     "output_type": "stream",
     "text": [
      "3.12 s ± 85.8 ms per loop (mean ± std. dev. of 7 runs, 1 loop each)\n"
     ]
    }
   ],
   "source": [
    "%%timeit\n",
    "disa = [distance(*b) for b in apk_pairs]"
   ]
  },
  {
   "cell_type": "code",
   "execution_count": 76,
   "metadata": {},
   "outputs": [],
   "source": [
    "panda_distance = lambda x,y: panda_jaccard(x,y, funcs_smp)"
   ]
  },
  {
   "cell_type": "code",
   "execution_count": 82,
   "metadata": {},
   "outputs": [
    {
     "name": "stdout",
     "output_type": "stream",
     "text": [
      "674 ms ± 6.6 ms per loop (mean ± std. dev. of 7 runs, 1 loop each)\n"
     ]
    }
   ],
   "source": [
    "%%timeit\n",
    "disp = [panda_distance(*a) for a in apk_pairs]"
   ]
  },
  {
   "cell_type": "markdown",
   "metadata": {},
   "source": [
    "## Checking merging"
   ]
  },
  {
   "cell_type": "code",
   "execution_count": 10,
   "metadata": {},
   "outputs": [],
   "source": [
    "bigsam = get_sample(mw=mw, frac=0.1)"
   ]
  },
  {
   "cell_type": "code",
   "execution_count": 30,
   "metadata": {},
   "outputs": [],
   "source": [
    "import numpy as np\n",
    "\n",
    "def get_part_indexes(dfs, num_parts, size, seed=42):\n",
    "    permuted_indices = np.random.permutation(len(dfs))\n",
    "    return [permuted_indices[i:i+size] for i in range(0, size*num_parts, size)]"
   ]
  },
  {
   "cell_type": "code",
   "execution_count": 62,
   "metadata": {},
   "outputs": [],
   "source": [
    "p1 = get_part_indexes(bigsam['apk'].unique(), num_parts=2, size=100)"
   ]
  },
  {
   "cell_type": "markdown",
   "metadata": {},
   "source": [
    "## Notices\n",
    "1. convert hashes to ints?\n",
    "2. subsample\n"
   ]
  },
  {
   "cell_type": "code",
   "execution_count": 82,
   "metadata": {},
   "outputs": [],
   "source": [
    "apks = bigsam['apk'].unique()"
   ]
  },
  {
   "cell_type": "code",
   "execution_count": 106,
   "metadata": {},
   "outputs": [],
   "source": [
    "def get_sarray_parts(sa, num_parts, size):\n",
    "    permuted_indices = np.random.permutation(len(sa))\n",
    "    return [[sa[permuted_indices[j]] for j in range(i,i+size)] for i in range(0, size*num_parts, size)]"
   ]
  },
  {
   "cell_type": "code",
   "execution_count": 107,
   "metadata": {},
   "outputs": [],
   "source": [
    "parts = get_sarray_parts(apks, 5, 100)"
   ]
  },
  {
   "cell_type": "code",
   "execution_count": 108,
   "metadata": {},
   "outputs": [
    {
     "data": {
      "text/plain": [
       "(5, 100)"
      ]
     },
     "execution_count": 108,
     "metadata": {},
     "output_type": "execute_result"
    }
   ],
   "source": [
    "len(parts), len(parts[4])"
   ]
  },
  {
   "cell_type": "code",
   "execution_count": 119,
   "metadata": {},
   "outputs": [
    {
     "data": {
      "text/html": [
       "<pre>Recsys training: model = item_similarity</pre>"
      ],
      "text/plain": [
       "Recsys training: model = item_similarity"
      ]
     },
     "metadata": {},
     "output_type": "display_data"
    }
   ],
   "source": [
    "k,rec = get_recommender(bigsam)\n",
    "distance = lambda x,y: aio_distance(x,y,k, rec)"
   ]
  },
  {
   "cell_type": "code",
   "execution_count": 121,
   "metadata": {},
   "outputs": [],
   "source": [
    "nets = [create_voting_net_alt(gamma=0.6, apns=part, classifier=classifier, distance=distance) for part in parts]"
   ]
  },
  {
   "cell_type": "code",
   "execution_count": 128,
   "metadata": {},
   "outputs": [
    {
     "data": {
      "text/plain": [
       "100"
      ]
     },
     "execution_count": 128,
     "metadata": {},
     "output_type": "execute_result"
    }
   ],
   "source": [
    "sum(map(sum,nets[4].values()))"
   ]
  },
  {
   "cell_type": "code",
   "execution_count": 129,
   "metadata": {},
   "outputs": [
    {
     "name": "stdout",
     "output_type": "stream",
     "text": [
      "54\n",
      "49\n",
      "49\n",
      "52\n",
      "58\n"
     ]
    }
   ],
   "source": [
    "for n in nets:\n",
    "    print(len(n.keys()))"
   ]
  },
  {
   "cell_type": "code",
   "execution_count": 132,
   "metadata": {},
   "outputs": [],
   "source": [
    "def create_aggregating_net(gamma, apns, distance):\n",
    "    net = dict()\n",
    "\n",
    "    for a in apns:\n",
    "        insert = True\n",
    "        for n in net.keys():\n",
    "            if distance(a, n) <= gamma:\n",
    "                insert = False\n",
    "                net[n].append(a)\n",
    "                break  \n",
    "        if insert:\n",
    "            net[a] = list()\n",
    "\n",
    "    return net\n",
    "\n",
    "def merge_voting_nets(nets, distance, gamma):\n",
    "    apns = []\n",
    "    for net in nets:\n",
    "        apns += list(net.keys())\n",
    "\n",
    "    nn = create_aggregating_net(gamma=gamma,\n",
    "                                apns=apns,\n",
    "                                distance=distance)\n",
    "    \n",
    "    # transfer the \"votes\" from original networks to just created new anchors\n",
    "    targ = dict()\n",
    "    for k, v in nn.items():\n",
    "        for net in nets:\n",
    "            if k in net:\n",
    "                targ[k] = net.get(k)\n",
    "                break\n",
    "\n",
    "        for el in v:\n",
    "            for net in nets:\n",
    "                if el in net:\n",
    "                    targ[k] = list(np.add(targ[k], net[el]))\n",
    "                    break\n",
    "\n",
    "    return targ"
   ]
  },
  {
   "cell_type": "code",
   "execution_count": 133,
   "metadata": {},
   "outputs": [],
   "source": [
    "mr = merge_voting_nets(nets=nets, distance=distance, gamma=0.6)"
   ]
  },
  {
   "cell_type": "code",
   "execution_count": 137,
   "metadata": {},
   "outputs": [
    {
     "data": {
      "text/plain": [
       "(162, 262)"
      ]
     },
     "execution_count": 137,
     "metadata": {},
     "output_type": "execute_result"
    }
   ],
   "source": [
    "len(mr.keys()), sum(map(lambda x: len(x.keys()), nets))"
   ]
  },
  {
   "cell_type": "markdown",
   "metadata": {},
   "source": [
    "## Network creation straight from recommender"
   ]
  },
  {
   "cell_type": "code",
   "execution_count": 2,
   "metadata": {},
   "outputs": [],
   "source": [
    "mw = tc.load_sframe('../binarydata/sample_10000_vt_mal_2017_2020_az_2020_benign_hashed_md5.sframe')"
   ]
  },
  {
   "cell_type": "code",
   "execution_count": 5,
   "metadata": {},
   "outputs": [],
   "source": [
    "subsamp = get_sample(mw=mw, frac=0.1)"
   ]
  },
  {
   "cell_type": "code",
   "execution_count": 6,
   "metadata": {},
   "outputs": [],
   "source": [
    "apks = subsamp['apk'].unique()"
   ]
  },
  {
   "cell_type": "code",
   "execution_count": 7,
   "metadata": {},
   "outputs": [],
   "source": [
    "k = len(apks)"
   ]
  },
  {
   "cell_type": "code",
   "execution_count": 8,
   "metadata": {},
   "outputs": [],
   "source": [
    "sim_recom = tc.item_similarity_recommender.create(subsamp, \n",
    "                                                  user_id='function',\n",
    "                                                  item_id='apk',\n",
    "                                                  similarity_type='jaccard',\n",
    "                                                  verbose=False,only_top_k=k) #threshold=0.5"
   ]
  },
  {
   "cell_type": "code",
   "execution_count": 22,
   "metadata": {},
   "outputs": [],
   "source": [
    "itms = sim_recom.get_similar_items(apks, k=k)"
   ]
  },
  {
   "cell_type": "code",
   "execution_count": 73,
   "metadata": {},
   "outputs": [],
   "source": [
    "#itms.materialize()"
   ]
  },
  {
   "cell_type": "code",
   "execution_count": 24,
   "metadata": {},
   "outputs": [],
   "source": [
    "ngw=itms[itms['score']<1-0.3] "
   ]
  },
  {
   "cell_type": "code",
   "execution_count": 27,
   "metadata": {},
   "outputs": [],
   "source": [
    "appk = ngw['apk'][0]"
   ]
  },
  {
   "cell_type": "code",
   "execution_count": 47,
   "metadata": {},
   "outputs": [],
   "source": [
    "gw = ngw.groupby(key_column_names='apk', operations={'sims': agg.COUNT_DISTINCT('similar')})"
   ]
  },
  {
   "cell_type": "code",
   "execution_count": 51,
   "metadata": {},
   "outputs": [
    {
     "data": {
      "text/html": [
       "<div style=\"max-height:1000px;max-width:1500px;overflow:auto;\"><table frame=\"box\" rules=\"cols\">\n",
       "    <tr>\n",
       "        <th style=\"padding-left: 1em; padding-right: 1em; text-align: center\">apk</th>\n",
       "        <th style=\"padding-left: 1em; padding-right: 1em; text-align: center\">sims</th>\n",
       "    </tr>\n",
       "</table>\n",
       "[? rows x 2 columns]<br/>Note: Only the head of the SFrame is printed. This SFrame is lazily evaluated.<br/>You can use sf.materialize() to force materialization.\n",
       "</div>"
      ],
      "text/plain": [
       "Columns:\n",
       "\tapk\tstr\n",
       "\tsims\tint\n",
       "\n",
       "Rows: Unknown\n",
       "\n",
       "Data:\n",
       "\t[]"
      ]
     },
     "execution_count": 51,
     "metadata": {},
     "output_type": "execute_result"
    }
   ],
   "source": [
    "gw[gw['sims']<10]"
   ]
  },
  {
   "cell_type": "code",
   "execution_count": 52,
   "metadata": {},
   "outputs": [],
   "source": [
    "gw2=itms[itms['score']>=1-0.7] "
   ]
  },
  {
   "cell_type": "code",
   "execution_count": 53,
   "metadata": {},
   "outputs": [],
   "source": [
    "gwc = gw2.groupby(key_column_names='apk', operations={'sims': agg.COUNT_DISTINCT('similar')})"
   ]
  },
  {
   "cell_type": "code",
   "execution_count": 60,
   "metadata": {},
   "outputs": [],
   "source": [
    "npk = gwc[gwc['sims']<2][0]['apk']"
   ]
  },
  {
   "cell_type": "code",
   "execution_count": 63,
   "metadata": {},
   "outputs": [
    {
     "data": {
      "text/html": [
       "<div style=\"max-height:1000px;max-width:1500px;overflow:auto;\"><table frame=\"box\" rules=\"cols\">\n",
       "    <tr>\n",
       "        <th style=\"padding-left: 1em; padding-right: 1em; text-align: center\">apk</th>\n",
       "        <th style=\"padding-left: 1em; padding-right: 1em; text-align: center\">sims</th>\n",
       "    </tr>\n",
       "    <tr>\n",
       "        <td style=\"padding-left: 1em; padding-right: 1em; text-align: center; vertical-align: top\">62DC51A642A9FBB733E5A987B<br>7E44757119BF4E2653B5B ...</td>\n",
       "        <td style=\"padding-left: 1em; padding-right: 1em; text-align: center; vertical-align: top\">1</td>\n",
       "    </tr>\n",
       "</table>\n",
       "[? rows x 2 columns]<br/>Note: Only the head of the SFrame is printed. This SFrame is lazily evaluated.<br/>You can use sf.materialize() to force materialization.\n",
       "</div>"
      ],
      "text/plain": [
       "Columns:\n",
       "\tapk\tstr\n",
       "\tsims\tint\n",
       "\n",
       "Rows: Unknown\n",
       "\n",
       "Data:\n",
       "+-------------------------------+------+\n",
       "|              apk              | sims |\n",
       "+-------------------------------+------+\n",
       "| 62DC51A642A9FBB733E5A987B7... |  1   |\n",
       "+-------------------------------+------+\n",
       "[? rows x 2 columns]\n",
       "Note: Only the head of the SFrame is printed. This SFrame is lazily evaluated.\n",
       "You can use sf.materialize() to force materialization."
      ]
     },
     "execution_count": 63,
     "metadata": {},
     "output_type": "execute_result"
    }
   ],
   "source": []
  },
  {
   "cell_type": "code",
   "execution_count": 15,
   "metadata": {},
   "outputs": [],
   "source": [
    "def create_network(data, gamma):\n",
    "    apks = data['apk'].unique()\n",
    "    k = len(apks)\n",
    "    sim_recom = tc.item_similarity_recommender.create(data, \n",
    "                                                  user_id='function',\n",
    "                                                  item_id='apk',\n",
    "                                                  similarity_type='jaccard',\n",
    "                                                  verbose=False,only_top_k=k) #threshold=0.5\n",
    "    itms = sim_recom.get_similar_items(apks, k=k)\n",
    "#    itms = itms.remove_column('rank')\n",
    "    gw=itms[itms['score']>=1-gamma]\n",
    "\n",
    "    net = dict()\n",
    "    napks = set(apks)\n",
    "    while len(napks) > 0:\n",
    "        apk = napks.pop()\n",
    "        net[apk] = set(gw[gw['apk']==apk]['similar'])\n",
    "        napks = napks - net[apk]\n",
    "        \n",
    "    return net"
   ]
  },
  {
   "cell_type": "code",
   "execution_count": 80,
   "metadata": {},
   "outputs": [],
   "source": [
    "neti = create_network(data=subsamp, gamma=0.7)"
   ]
  },
  {
   "cell_type": "code",
   "execution_count": 81,
   "metadata": {},
   "outputs": [
    {
     "data": {
      "text/plain": [
       "199"
      ]
     },
     "execution_count": 81,
     "metadata": {},
     "output_type": "execute_result"
    }
   ],
   "source": [
    "len(neti)"
   ]
  },
  {
   "cell_type": "code",
   "execution_count": 101,
   "metadata": {},
   "outputs": [
    {
     "data": {
      "text/html": [
       "<div style=\"max-height:1000px;max-width:1500px;overflow:auto;\"><table frame=\"box\" rules=\"cols\">\n",
       "    <tr>\n",
       "        <th style=\"padding-left: 1em; padding-right: 1em; text-align: center\">apk</th>\n",
       "        <th style=\"padding-left: 1em; padding-right: 1em; text-align: center\">similar</th>\n",
       "        <th style=\"padding-left: 1em; padding-right: 1em; text-align: center\">score</th>\n",
       "    </tr>\n",
       "    <tr>\n",
       "        <td style=\"padding-left: 1em; padding-right: 1em; text-align: center; vertical-align: top\">2D151F82FA37F7E5234290974<br>7348C7613905B6CDB82CB ...</td>\n",
       "        <td style=\"padding-left: 1em; padding-right: 1em; text-align: center; vertical-align: top\">A12B8CE4DE8D33ED120BB48AB<br>C118FADEE3A16FF9F4C6B ...</td>\n",
       "        <td style=\"padding-left: 1em; padding-right: 1em; text-align: center; vertical-align: top\">0.6900672316551208</td>\n",
       "    </tr>\n",
       "</table>\n",
       "[1 rows x 3 columns]<br/>\n",
       "</div>"
      ],
      "text/plain": [
       "Columns:\n",
       "\tapk\tstr\n",
       "\tsimilar\tstr\n",
       "\tscore\tfloat\n",
       "\n",
       "Rows: 1\n",
       "\n",
       "Data:\n",
       "+-------------------------------+-------------------------------+\n",
       "|              apk              |            similar            |\n",
       "+-------------------------------+-------------------------------+\n",
       "| 2D151F82FA37F7E52342909747... | A12B8CE4DE8D33ED120BB48ABC... |\n",
       "+-------------------------------+-------------------------------+\n",
       "+--------------------+\n",
       "|       score        |\n",
       "+--------------------+\n",
       "| 0.6900672316551208 |\n",
       "+--------------------+\n",
       "[1 rows x 3 columns]"
      ]
     },
     "execution_count": 101,
     "metadata": {},
     "output_type": "execute_result"
    }
   ],
   "source": [
    "itms.head(1)"
   ]
  },
  {
   "cell_type": "code",
   "execution_count": 178,
   "metadata": {},
   "outputs": [],
   "source": [
    "def setup_rec(data):\n",
    "    apks = data['apk'].unique()\n",
    "    k = len(apks)\n",
    "    sim_recom = tc.item_similarity_recommender.create(data, \n",
    "                                                      user_id='function',\n",
    "                                                      item_id='apk',\n",
    "                                                      similarity_type='jaccard',\n",
    "                                                      verbose=False,only_top_k=k)\n",
    "    return apks, k, sim_recom"
   ]
  },
  {
   "cell_type": "code",
   "execution_count": 181,
   "metadata": {},
   "outputs": [],
   "source": [
    "def create_network_alt(data, gamma, apks, k, sim_recom):\n",
    "    itms = sim_recom.get_similar_items(apks, k=k)\n",
    "\n",
    "    # potentially loosing some anchors here? \n",
    "    gw=itms[itms['score']>=1-gamma] \n",
    "    gw = gw.groupby(key_column_names='apk', operations={'sims': agg.DISTINCT('similar')})\n",
    "    ws = set(gw['apk'])\n",
    "\n",
    "    net = dict()\n",
    "    already_added = set()\n",
    "    while len(ws)>0:\n",
    "        w= ws.pop()\n",
    "\n",
    "        simp = set(gw[gw['apk']==w]['sims'][0]) \n",
    "        # alt:        gw[(gw['apk']==w)&(gw['score']>=1-gamma)]\n",
    "        simp = simp - already_added\n",
    "\n",
    "        net[w] = simp\n",
    "        already_added.update(simp)\n",
    "        already_added.add(w)\n",
    "\n",
    "        ws = ws - simp\n",
    "    return net"
   ]
  },
  {
   "cell_type": "code",
   "execution_count": 179,
   "metadata": {},
   "outputs": [],
   "source": [
    "apks, k, sim_recom = setup_rec(subsamp)"
   ]
  },
  {
   "cell_type": "code",
   "execution_count": 182,
   "metadata": {},
   "outputs": [],
   "source": [
    "nn = create_network_alt(data=subsamp, gamma=.7, apks=apks, k=k, sim_recom=sim_recom)"
   ]
  },
  {
   "cell_type": "code",
   "execution_count": 183,
   "metadata": {},
   "outputs": [
    {
     "data": {
      "text/plain": [
       "(107, 794, 901)"
      ]
     },
     "execution_count": 183,
     "metadata": {},
     "output_type": "execute_result"
    }
   ],
   "source": [
    "len(nn), sum(map(len, nn.values())), len(nn)+ sum(map(len, nn.values()))"
   ]
  },
  {
   "cell_type": "code",
   "execution_count": 16,
   "metadata": {},
   "outputs": [],
   "source": [
    "nb = create_network(data=subsamp, gamma=.7)"
   ]
  },
  {
   "cell_type": "code",
   "execution_count": 35,
   "metadata": {},
   "outputs": [],
   "source": [
    "def check_net(net, distance, gamma):\n",
    "    ml = list(net.keys())\n",
    "    for i, a in tqdm(enumerate(ml)):\n",
    "        for b in ml[i:]:\n",
    "            if a==b:\n",
    "                continue\n",
    "\n",
    "            d = distance(a, b)\n",
    "            if d < gamma:\n",
    "                print(f\"d({a}, {b}) =={d}\")"
   ]
  },
  {
   "cell_type": "code",
   "execution_count": 171,
   "metadata": {},
   "outputs": [
    {
     "data": {
      "application/vnd.jupyter.widget-view+json": {
       "model_id": "396a1f4889924b769466499797979978",
       "version_major": 2,
       "version_minor": 0
      },
      "text/plain": [
       "HBox(children=(HTML(value=''), FloatProgress(value=1.0, bar_style='info', layout=Layout(width='20px'), max=1.0…"
      ]
     },
     "metadata": {},
     "output_type": "display_data"
    },
    {
     "name": "stdout",
     "output_type": "stream",
     "text": [
      "\n"
     ]
    }
   ],
   "source": [
    "check_net(net=nn, distance=lambda x,y: aio_distance(apk1=x, apk2=y, k=k, recommender=sim_recom), gamma=.7)"
   ]
  },
  {
   "cell_type": "code",
   "execution_count": 172,
   "metadata": {},
   "outputs": [],
   "source": [
    "def check_kys(net, distance, gamma):\n",
    "    for a, k in tqdm(net.items()):\n",
    "        for wr in k:\n",
    "            if distance(a, wr)> gamma:\n",
    "                print(f\"|{a}, {wr}| = {distance(a,wr)}\")"
   ]
  },
  {
   "cell_type": "code",
   "execution_count": 173,
   "metadata": {},
   "outputs": [
    {
     "data": {
      "application/vnd.jupyter.widget-view+json": {
       "model_id": "9b4eea0c37c744b29839213ce0dd46d2",
       "version_major": 2,
       "version_minor": 0
      },
      "text/plain": [
       "HBox(children=(HTML(value=''), FloatProgress(value=0.0, max=107.0), HTML(value='')))"
      ]
     },
     "metadata": {},
     "output_type": "display_data"
    },
    {
     "name": "stdout",
     "output_type": "stream",
     "text": [
      "\n"
     ]
    }
   ],
   "source": [
    "check_kys(net=nn, distance=lambda x,y: aio_distance(x,y, k=k, recommender=sim_recom), gamma=.7)"
   ]
  },
  {
   "cell_type": "code",
   "execution_count": 175,
   "metadata": {},
   "outputs": [
    {
     "data": {
      "text/plain": [
       "(794, 107, 901)"
      ]
     },
     "execution_count": 175,
     "metadata": {},
     "output_type": "execute_result"
    }
   ],
   "source": [
    "sum(map(len, nn.values())), len(nn), sum(map(len, nn.values())) + len(nn)"
   ]
  },
  {
   "cell_type": "code",
   "execution_count": 176,
   "metadata": {},
   "outputs": [
    {
     "data": {
      "text/plain": [
       "993"
      ]
     },
     "execution_count": 176,
     "metadata": {},
     "output_type": "execute_result"
    }
   ],
   "source": [
    "k"
   ]
  },
  {
   "cell_type": "code",
   "execution_count": null,
   "metadata": {},
   "outputs": [],
   "source": [
    "# Issues\n",
    "-> solitary nodes (no similarities at all?)\n"
   ]
  },
  {
   "cell_type": "code",
   "execution_count": 9,
   "metadata": {},
   "outputs": [],
   "source": [
    "nns = {1: [2, 3], 2: [1, 3, 4], 3: [2, 4], 4: [2, 3]}"
   ]
  },
  {
   "cell_type": "code",
   "execution_count": 20,
   "metadata": {},
   "outputs": [],
   "source": [
    "net = dict()\n",
    "already_added = set()\n",
    "for a, b in nns.items():\n",
    "    if a in already_added:\n",
    "        continue\n",
    "    net[a] = set(b) - already_added\n",
    "    already_added.update(set(b))\n",
    "    already_added.add(a)\n",
    "    "
   ]
  },
  {
   "cell_type": "code",
   "execution_count": 21,
   "metadata": {},
   "outputs": [
    {
     "data": {
      "text/plain": [
       "{1: {2, 3}, 4: set()}"
      ]
     },
     "execution_count": 21,
     "metadata": {},
     "output_type": "execute_result"
    }
   ],
   "source": [
    "net"
   ]
  },
  {
   "cell_type": "markdown",
   "metadata": {},
   "source": [
    "## artificial data"
   ]
  },
  {
   "cell_type": "code",
   "execution_count": 167,
   "metadata": {},
   "outputs": [],
   "source": [
    "def f_create_network(data, gamma):\n",
    "    apks = data['apk'].unique()\n",
    "    k = apks.shape[0]\n",
    "    sim_recom = tc.item_similarity_recommender.create(data, \n",
    "                                                      user_id='function', \n",
    "                                                      item_id='apk', \n",
    "                                                      similarity_type='jaccard', \n",
    "                                                      only_top_k=k, verbose=False)\n",
    "    itms = sim_recom.get_similar_items(art['apk'].unique(), k=k)\n",
    "    # 2. missing more \"distant nodes\", \"not aggregating nodes\"\n",
    "    gw=itms[itms['score']>=1-gamma].groupby(key_column_names='apk', operations={'sims': agg.DISTINCT('similar')})\n",
    "    \n",
    "    ws = set(gw['apk'])\n",
    "    net = dict()\n",
    "    already_added = set()\n",
    "    while len(ws)>0:\n",
    "        w= ws.pop()\n",
    "\n",
    "        simp = set(gw[gw['apk']==w]['sims'][0])\n",
    "        simp = simp - already_added\n",
    "\n",
    "        net[w] = list(simp)\n",
    "        already_added.update(simp)\n",
    "        already_added.add(w)\n",
    "\n",
    "        ws = ws - simp\n",
    "    \n",
    "        \n",
    "    # add solitary nodes & not-aggregating nodes\n",
    "    if len(already_added)> 0:\n",
    "        nds = apks.filter_by(list(already_added), exclude=True)\n",
    "    else:\n",
    "        nds = apks\n",
    "        \n",
    "    for n in nds:\n",
    "        net[n] = []\n",
    "        \n",
    "    return net\n",
    "    \n",
    "    "
   ]
  },
  {
   "cell_type": "code",
   "execution_count": 168,
   "metadata": {},
   "outputs": [],
   "source": [
    "cons = {'A': [1, 2, 3], 'B': [2, 5, 6], 'C': [1, 4, 3], 'D': [6, 5], 'E': [1, 2], 'F': [8], 'G': [9]}"
   ]
  },
  {
   "cell_type": "code",
   "execution_count": 169,
   "metadata": {},
   "outputs": [],
   "source": [
    "dat2 = {'apk': [], 'function': []}\n",
    "for apk, lsts in cons.items():\n",
    "    for fncs in lsts:\n",
    "        dat2['apk'].append(apk)\n",
    "        dat2['function'].append(fncs)"
   ]
  },
  {
   "cell_type": "code",
   "execution_count": 170,
   "metadata": {},
   "outputs": [],
   "source": [
    "art = tc.SFrame(data=dat2)"
   ]
  },
  {
   "cell_type": "code",
   "execution_count": 175,
   "metadata": {},
   "outputs": [
    {
     "data": {
      "text/plain": [
       "{'A': ['E', 'C'], 'B': ['D'], 'F': [], 'G': []}"
      ]
     },
     "execution_count": 175,
     "metadata": {},
     "output_type": "execute_result"
    }
   ],
   "source": [
    "f_create_network(data=art, gamma=.7)"
   ]
  }
 ],
 "metadata": {
  "kernelspec": {
   "display_name": "Python 3",
   "language": "python",
   "name": "python3"
  },
  "language_info": {
   "codemirror_mode": {
    "name": "ipython",
    "version": 3
   },
   "file_extension": ".py",
   "mimetype": "text/x-python",
   "name": "python",
   "nbconvert_exporter": "python",
   "pygments_lexer": "ipython3",
   "version": "3.8.6"
  }
 },
 "nbformat": 4,
 "nbformat_minor": 2
}
