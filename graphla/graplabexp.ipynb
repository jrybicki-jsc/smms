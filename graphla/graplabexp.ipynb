{
 "cells": [
  {
   "cell_type": "code",
   "execution_count": 1,
   "metadata": {},
   "outputs": [],
   "source": [
    "import pandas as pd\n",
    "import numpy as np\n",
    "import graphlab as gl"
   ]
  },
  {
   "cell_type": "code",
   "execution_count": 2,
   "metadata": {},
   "outputs": [],
   "source": [
    "def read_labels():\n",
    "    apk_label_ds1_path = '../data/labels_vt_mal_2017_2020_az_2020_benign_hashed.csv'\n",
    "    ds1_labels_df = pd.read_csv(apk_label_ds1_path)\n",
    "    ds1_labels_df.head(2)\n",
    "    print(\"Got data: \", len(ds1_labels_df))\n",
    "    return ds1_labels_df"
   ]
  },
  {
   "cell_type": "code",
   "execution_count": 76,
   "metadata": {},
   "outputs": [
    {
     "name": "stdout",
     "output_type": "stream",
     "text": [
      "('Unique APK:', 10003)\n",
      "('Unique functions:', 699854)\n"
     ]
    }
   ],
   "source": [
    "def transform_app_data(fname='../data/sample_10000_vt_mal_2017_2020_az_2020_benign_hashed_md5.csv'):\n",
    "    sf_ds1_full = gl.SFrame.read_csv(fname, header=False, verbose=False)\n",
    "    _=sf_ds1_full.rename({'X3':'fcount'})\n",
    "    sf_ds1_full['apk']=sf_ds1_full['X1'].apply(lambda x: x.upper())\n",
    "    sf_ds1_full['function'] = sf_ds1_full['X2'].apply(lambda x: x.upper())\n",
    "    \n",
    "    _=sf_ds1_full.remove_columns(['X1', 'X2'])\n",
    "    \n",
    "    print(\"Unique APK:\", len(set(sf_ds1_full['apk'].unique())))\n",
    "    print(\"Unique functions:\", len(set(sf_ds1_full['function'].unique())))\n",
    "\n",
    "    outname = fname.replace('data', 'binarydata').replace('.csv', '.sframe')\n",
    "    sf_ds1_full.save(outname, format='binary')\n",
    "\n",
    "transform_app_data()"
   ]
  },
  {
   "cell_type": "code",
   "execution_count": 78,
   "metadata": {},
   "outputs": [],
   "source": [
    "mw = gl.load_sframe('../binarydata/sample_10000_vt_mal_2017_2020_az_2020_benign_hashed_md5.sframe')"
   ]
  },
  {
   "cell_type": "code",
   "execution_count": 79,
   "metadata": {},
   "outputs": [
    {
     "data": {
      "text/html": [
       "<div style=\"max-height:1000px;max-width:1500px;overflow:auto;\"><table frame=\"box\" rules=\"cols\">\n",
       "    <tr>\n",
       "        <th style=\"padding-left: 1em; padding-right: 1em; text-align: center\">fcount</th>\n",
       "        <th style=\"padding-left: 1em; padding-right: 1em; text-align: center\">apk</th>\n",
       "        <th style=\"padding-left: 1em; padding-right: 1em; text-align: center\">function</th>\n",
       "    </tr>\n",
       "    <tr>\n",
       "        <td style=\"padding-left: 1em; padding-right: 1em; text-align: center; vertical-align: top\">1</td>\n",
       "        <td style=\"padding-left: 1em; padding-right: 1em; text-align: center; vertical-align: top\">3407F2E5AB21E8966BDFAF33D<br>805DE7AC97BED3A7454C1 ...</td>\n",
       "        <td style=\"padding-left: 1em; padding-right: 1em; text-align: center; vertical-align: top\">2D6877D28225C6E0F11527577<br>4CDA94C ...</td>\n",
       "    </tr>\n",
       "    <tr>\n",
       "        <td style=\"padding-left: 1em; padding-right: 1em; text-align: center; vertical-align: top\">1</td>\n",
       "        <td style=\"padding-left: 1em; padding-right: 1em; text-align: center; vertical-align: top\">006373DF53793664DDD73C7A9<br>6B18794A10DE6FAAD185B ...</td>\n",
       "        <td style=\"padding-left: 1em; padding-right: 1em; text-align: center; vertical-align: top\">4B673494945E9BF470675331F<br>C1D6B27 ...</td>\n",
       "    </tr>\n",
       "    <tr>\n",
       "        <td style=\"padding-left: 1em; padding-right: 1em; text-align: center; vertical-align: top\">2</td>\n",
       "        <td style=\"padding-left: 1em; padding-right: 1em; text-align: center; vertical-align: top\">238230D0B795F97E596FA7379<br>AF0769D74ED3810976092 ...</td>\n",
       "        <td style=\"padding-left: 1em; padding-right: 1em; text-align: center; vertical-align: top\">96D7A6B3A2BEA95CA0E3B74FE<br>3C4E7F8 ...</td>\n",
       "    </tr>\n",
       "    <tr>\n",
       "        <td style=\"padding-left: 1em; padding-right: 1em; text-align: center; vertical-align: top\">1</td>\n",
       "        <td style=\"padding-left: 1em; padding-right: 1em; text-align: center; vertical-align: top\">25A3382B3FAAAC9D5A14FE8DE<br>914D47B3BC6284599FD27 ...</td>\n",
       "        <td style=\"padding-left: 1em; padding-right: 1em; text-align: center; vertical-align: top\">A6D7D5D7968AE7BDC62AD696A<br>E7E6BD1 ...</td>\n",
       "    </tr>\n",
       "    <tr>\n",
       "        <td style=\"padding-left: 1em; padding-right: 1em; text-align: center; vertical-align: top\">1</td>\n",
       "        <td style=\"padding-left: 1em; padding-right: 1em; text-align: center; vertical-align: top\">4D0F5074E2A7579DBC87C0D84<br>83EFEB3D31B24E0008BD1 ...</td>\n",
       "        <td style=\"padding-left: 1em; padding-right: 1em; text-align: center; vertical-align: top\">20E0EB29F9F144A01276B87CF<br>C0AC2A1 ...</td>\n",
       "    </tr>\n",
       "    <tr>\n",
       "        <td style=\"padding-left: 1em; padding-right: 1em; text-align: center; vertical-align: top\">1</td>\n",
       "        <td style=\"padding-left: 1em; padding-right: 1em; text-align: center; vertical-align: top\">94F2FB12A21085764C85DB0E9<br>E4B381EEDD1DC65E4F2D7 ...</td>\n",
       "        <td style=\"padding-left: 1em; padding-right: 1em; text-align: center; vertical-align: top\">F66DB25FFCDEEB2D40CE70226<br>1BEEE83 ...</td>\n",
       "    </tr>\n",
       "    <tr>\n",
       "        <td style=\"padding-left: 1em; padding-right: 1em; text-align: center; vertical-align: top\">1</td>\n",
       "        <td style=\"padding-left: 1em; padding-right: 1em; text-align: center; vertical-align: top\">9AC8EDE1BF55180F0F90A8B12<br>7ACDF21AE9A8916FBE0E6 ...</td>\n",
       "        <td style=\"padding-left: 1em; padding-right: 1em; text-align: center; vertical-align: top\">B9AFD08C24947FE6E37A82672<br>795427B ...</td>\n",
       "    </tr>\n",
       "    <tr>\n",
       "        <td style=\"padding-left: 1em; padding-right: 1em; text-align: center; vertical-align: top\">1</td>\n",
       "        <td style=\"padding-left: 1em; padding-right: 1em; text-align: center; vertical-align: top\">005CDFD24DEF5924C91E68DC0<br>CF18D18B91D6118D4BE51 ...</td>\n",
       "        <td style=\"padding-left: 1em; padding-right: 1em; text-align: center; vertical-align: top\">4ABCBF64B57FAD928D0414890<br>D41CC95 ...</td>\n",
       "    </tr>\n",
       "    <tr>\n",
       "        <td style=\"padding-left: 1em; padding-right: 1em; text-align: center; vertical-align: top\">1</td>\n",
       "        <td style=\"padding-left: 1em; padding-right: 1em; text-align: center; vertical-align: top\">0461C5356AF1B678D91A87404<br>1AAF9978764BC8A3E1833 ...</td>\n",
       "        <td style=\"padding-left: 1em; padding-right: 1em; text-align: center; vertical-align: top\">7D72BE96A185F93BD36B92481<br>1C8EEC5 ...</td>\n",
       "    </tr>\n",
       "    <tr>\n",
       "        <td style=\"padding-left: 1em; padding-right: 1em; text-align: center; vertical-align: top\">1</td>\n",
       "        <td style=\"padding-left: 1em; padding-right: 1em; text-align: center; vertical-align: top\">4A69FD5D71F3010B08B2C2E51<br>CF942D2513D48ADD872C9 ...</td>\n",
       "        <td style=\"padding-left: 1em; padding-right: 1em; text-align: center; vertical-align: top\">4ABCBF64B57FAD928D0414890<br>D41CC95 ...</td>\n",
       "    </tr>\n",
       "</table>\n",
       "[10 rows x 3 columns]<br/>\n",
       "</div>"
      ],
      "text/plain": [
       "Columns:\n",
       "\tfcount\tint\n",
       "\tapk\tstr\n",
       "\tfunction\tstr\n",
       "\n",
       "Rows: 10\n",
       "\n",
       "Data:\n",
       "+--------+-------------------------------+-------------------------------+\n",
       "| fcount |              apk              |            function           |\n",
       "+--------+-------------------------------+-------------------------------+\n",
       "|   1    | 3407F2E5AB21E8966BDFAF33D8... | 2D6877D28225C6E0F115275774... |\n",
       "|   1    | 006373DF53793664DDD73C7A96... | 4B673494945E9BF470675331FC... |\n",
       "|   2    | 238230D0B795F97E596FA7379A... | 96D7A6B3A2BEA95CA0E3B74FE3... |\n",
       "|   1    | 25A3382B3FAAAC9D5A14FE8DE9... | A6D7D5D7968AE7BDC62AD696AE... |\n",
       "|   1    | 4D0F5074E2A7579DBC87C0D848... | 20E0EB29F9F144A01276B87CFC... |\n",
       "|   1    | 94F2FB12A21085764C85DB0E9E... | F66DB25FFCDEEB2D40CE702261... |\n",
       "|   1    | 9AC8EDE1BF55180F0F90A8B127... | B9AFD08C24947FE6E37A826727... |\n",
       "|   1    | 005CDFD24DEF5924C91E68DC0C... | 4ABCBF64B57FAD928D0414890D... |\n",
       "|   1    | 0461C5356AF1B678D91A874041... | 7D72BE96A185F93BD36B924811... |\n",
       "|   1    | 4A69FD5D71F3010B08B2C2E51C... | 4ABCBF64B57FAD928D0414890D... |\n",
       "+--------+-------------------------------+-------------------------------+\n",
       "[10 rows x 3 columns]"
      ]
     },
     "execution_count": 79,
     "metadata": {},
     "output_type": "execute_result"
    }
   ],
   "source": [
    "mw.head()"
   ]
  },
  {
   "cell_type": "code",
   "execution_count": 9,
   "metadata": {},
   "outputs": [
    {
     "name": "stdout",
     "output_type": "stream",
     "text": [
      "9389\n",
      "18329\n"
     ]
    }
   ],
   "source": [
    "benign_ds1 = ds1_labels_df[ds1_labels_df['malware_label'] == False]\n",
    "print(len(benign_ds1))\n",
    "malware_ds1 = ds1_labels_df[ds1_labels_df['malware_label'] == True]\n",
    "print(len(malware_ds1))"
   ]
  },
  {
   "cell_type": "code",
   "execution_count": null,
   "metadata": {},
   "outputs": [],
   "source": [
    "## jaccard\n",
    "## gl.item_similarity_recommender.create(train_dataset, user_id='function', item_id='apk', only_top_k=k, \n",
    "#similarity_type='jaccard', target='fcount', verbose=False)"
   ]
  },
  {
   "cell_type": "code",
   "execution_count": 28,
   "metadata": {},
   "outputs": [],
   "source": [
    "subsample = mw.sample(fraction=.02, seed=42)"
   ]
  },
  {
   "cell_type": "code",
   "execution_count": null,
   "metadata": {},
   "outputs": [],
   "source": [
    "## sample: \n",
    "#benign_ds1_sample1 = benign_ds1.sample(5540, random_state=1)"
   ]
  },
  {
   "cell_type": "code",
   "execution_count": 32,
   "metadata": {},
   "outputs": [
    {
     "data": {
      "text/html": [
       "<pre>Recsys training: model = item_similarity</pre>"
      ],
      "text/plain": [
       "Recsys training: model = item_similarity"
      ]
     },
     "metadata": {},
     "output_type": "display_data"
    }
   ],
   "source": [
    "reco = gl.item_similarity_recommender.create(subsample, user_id='function', item_id='apk', only_top_k=3, \n",
    "                                      similarity_type='jaccard', target='fcount', verbose=False)"
   ]
  },
  {
   "cell_type": "code",
   "execution_count": 45,
   "metadata": {},
   "outputs": [],
   "source": [
    "smitems = reco.get_similar_items(verbose=False)"
   ]
  },
  {
   "cell_type": "code",
   "execution_count": 48,
   "metadata": {},
   "outputs": [
    {
     "data": {
      "text/plain": [
       "((20481, 4), (702716, 3))"
      ]
     },
     "execution_count": 48,
     "metadata": {},
     "output_type": "execute_result"
    }
   ],
   "source": [
    "smitems.shape, subsample.shape"
   ]
  },
  {
   "cell_type": "code",
   "execution_count": null,
   "metadata": {},
   "outputs": [],
   "source": []
  },
  {
   "cell_type": "code",
   "execution_count": 36,
   "metadata": {},
   "outputs": [
    {
     "data": {
      "text/plain": [
       "['apk', 'similar', 'score', 'rank']"
      ]
     },
     "execution_count": 36,
     "metadata": {},
     "output_type": "execute_result"
    }
   ],
   "source": [
    "#smitems.sort(sort_columns=)\n",
    "smitems.column_names()"
   ]
  },
  {
   "cell_type": "code",
   "execution_count": 43,
   "metadata": {},
   "outputs": [
    {
     "data": {
      "text/html": [
       "<div style=\"max-height:1000px;max-width:1500px;overflow:auto;\"><table frame=\"box\" rules=\"cols\">\n",
       "    <tr>\n",
       "        <th style=\"padding-left: 1em; padding-right: 1em; text-align: center\">apk</th>\n",
       "        <th style=\"padding-left: 1em; padding-right: 1em; text-align: center\">similar</th>\n",
       "        <th style=\"padding-left: 1em; padding-right: 1em; text-align: center\">score</th>\n",
       "        <th style=\"padding-left: 1em; padding-right: 1em; text-align: center\">rank</th>\n",
       "    </tr>\n",
       "    <tr>\n",
       "        <td style=\"padding-left: 1em; padding-right: 1em; text-align: center; vertical-align: top\">ABCAE14B324338373D5108C83<br>4D17DCF3AF123D195052C ...</td>\n",
       "        <td style=\"padding-left: 1em; padding-right: 1em; text-align: center; vertical-align: top\">CB1B7D16667C89337B14F597C<br>DAFB4D3C0BD92511C83D1 ...</td>\n",
       "        <td style=\"padding-left: 1em; padding-right: 1em; text-align: center; vertical-align: top\">1.0</td>\n",
       "        <td style=\"padding-left: 1em; padding-right: 1em; text-align: center; vertical-align: top\">3</td>\n",
       "    </tr>\n",
       "    <tr>\n",
       "        <td style=\"padding-left: 1em; padding-right: 1em; text-align: center; vertical-align: top\">ABCAE14B324338373D5108C83<br>4D17DCF3AF123D195052C ...</td>\n",
       "        <td style=\"padding-left: 1em; padding-right: 1em; text-align: center; vertical-align: top\">0413FDBC2CDEBA91D85B2E91E<br>EC46492DA769CCCA930FF ...</td>\n",
       "        <td style=\"padding-left: 1em; padding-right: 1em; text-align: center; vertical-align: top\">1.0</td>\n",
       "        <td style=\"padding-left: 1em; padding-right: 1em; text-align: center; vertical-align: top\">2</td>\n",
       "    </tr>\n",
       "    <tr>\n",
       "        <td style=\"padding-left: 1em; padding-right: 1em; text-align: center; vertical-align: top\">ABCAE14B324338373D5108C83<br>4D17DCF3AF123D195052C ...</td>\n",
       "        <td style=\"padding-left: 1em; padding-right: 1em; text-align: center; vertical-align: top\">E2522F34A731B441C6CA975FC<br>C478D1EA7056022C46001 ...</td>\n",
       "        <td style=\"padding-left: 1em; padding-right: 1em; text-align: center; vertical-align: top\">1.0</td>\n",
       "        <td style=\"padding-left: 1em; padding-right: 1em; text-align: center; vertical-align: top\">1</td>\n",
       "    </tr>\n",
       "    <tr>\n",
       "        <td style=\"padding-left: 1em; padding-right: 1em; text-align: center; vertical-align: top\">89b773c6af0d8fa1ad0f4ebe5<br>e015b3f14f273eb55ed89 ...</td>\n",
       "        <td style=\"padding-left: 1em; padding-right: 1em; text-align: center; vertical-align: top\">1c192f03de4e4c7f7b9f2e92a<br>3e9d120cc73c82290bad4 ...</td>\n",
       "        <td style=\"padding-left: 1em; padding-right: 1em; text-align: center; vertical-align: top\">1.0</td>\n",
       "        <td style=\"padding-left: 1em; padding-right: 1em; text-align: center; vertical-align: top\">3</td>\n",
       "    </tr>\n",
       "    <tr>\n",
       "        <td style=\"padding-left: 1em; padding-right: 1em; text-align: center; vertical-align: top\">89b773c6af0d8fa1ad0f4ebe5<br>e015b3f14f273eb55ed89 ...</td>\n",
       "        <td style=\"padding-left: 1em; padding-right: 1em; text-align: center; vertical-align: top\">a53e486b95a3d01fa5ccb4b5d<br>4441c95b79778e040a2ad ...</td>\n",
       "        <td style=\"padding-left: 1em; padding-right: 1em; text-align: center; vertical-align: top\">1.0</td>\n",
       "        <td style=\"padding-left: 1em; padding-right: 1em; text-align: center; vertical-align: top\">2</td>\n",
       "    </tr>\n",
       "    <tr>\n",
       "        <td style=\"padding-left: 1em; padding-right: 1em; text-align: center; vertical-align: top\">89b773c6af0d8fa1ad0f4ebe5<br>e015b3f14f273eb55ed89 ...</td>\n",
       "        <td style=\"padding-left: 1em; padding-right: 1em; text-align: center; vertical-align: top\">83f25cbbb6f528239e984892c<br>38d68e1bc1cf4395a0cae ...</td>\n",
       "        <td style=\"padding-left: 1em; padding-right: 1em; text-align: center; vertical-align: top\">1.0</td>\n",
       "        <td style=\"padding-left: 1em; padding-right: 1em; text-align: center; vertical-align: top\">1</td>\n",
       "    </tr>\n",
       "    <tr>\n",
       "        <td style=\"padding-left: 1em; padding-right: 1em; text-align: center; vertical-align: top\">D28AC61FA68397D5792982EF3<br>93CD2B33DD84FEE20ABCD ...</td>\n",
       "        <td style=\"padding-left: 1em; padding-right: 1em; text-align: center; vertical-align: top\">1DBC5226CF759C06D3F618B05<br>BD817C5D02523AE6705E0 ...</td>\n",
       "        <td style=\"padding-left: 1em; padding-right: 1em; text-align: center; vertical-align: top\">1.0</td>\n",
       "        <td style=\"padding-left: 1em; padding-right: 1em; text-align: center; vertical-align: top\">3</td>\n",
       "    </tr>\n",
       "    <tr>\n",
       "        <td style=\"padding-left: 1em; padding-right: 1em; text-align: center; vertical-align: top\">D28AC61FA68397D5792982EF3<br>93CD2B33DD84FEE20ABCD ...</td>\n",
       "        <td style=\"padding-left: 1em; padding-right: 1em; text-align: center; vertical-align: top\">C2E087F165E0B3A112356FA60<br>33C1833250F60AB149CDD ...</td>\n",
       "        <td style=\"padding-left: 1em; padding-right: 1em; text-align: center; vertical-align: top\">1.0</td>\n",
       "        <td style=\"padding-left: 1em; padding-right: 1em; text-align: center; vertical-align: top\">2</td>\n",
       "    </tr>\n",
       "    <tr>\n",
       "        <td style=\"padding-left: 1em; padding-right: 1em; text-align: center; vertical-align: top\">D28AC61FA68397D5792982EF3<br>93CD2B33DD84FEE20ABCD ...</td>\n",
       "        <td style=\"padding-left: 1em; padding-right: 1em; text-align: center; vertical-align: top\">E446661738FD46A58905831D1<br>18A151EDF36C52AAE4D8E ...</td>\n",
       "        <td style=\"padding-left: 1em; padding-right: 1em; text-align: center; vertical-align: top\">1.0</td>\n",
       "        <td style=\"padding-left: 1em; padding-right: 1em; text-align: center; vertical-align: top\">1</td>\n",
       "    </tr>\n",
       "    <tr>\n",
       "        <td style=\"padding-left: 1em; padding-right: 1em; text-align: center; vertical-align: top\">6386b618cd5f18fcba5eaaf95<br>1ae09172d51d4f0da5872 ...</td>\n",
       "        <td style=\"padding-left: 1em; padding-right: 1em; text-align: center; vertical-align: top\">0ef8bb8c4285458248ae3638b<br>7e8eb6328b72523178700 ...</td>\n",
       "        <td style=\"padding-left: 1em; padding-right: 1em; text-align: center; vertical-align: top\">1.0</td>\n",
       "        <td style=\"padding-left: 1em; padding-right: 1em; text-align: center; vertical-align: top\">1</td>\n",
       "    </tr>\n",
       "</table>\n",
       "[20481 rows x 4 columns]<br/>Note: Only the head of the SFrame is printed.<br/>You can use print_rows(num_rows=m, num_columns=n) to print more rows and columns.\n",
       "</div>"
      ],
      "text/plain": [
       "Columns:\n",
       "\tapk\tstr\n",
       "\tsimilar\tstr\n",
       "\tscore\tfloat\n",
       "\trank\tint\n",
       "\n",
       "Rows: 20481\n",
       "\n",
       "Data:\n",
       "+-------------------------------+-------------------------------+-------+------+\n",
       "|              apk              |            similar            | score | rank |\n",
       "+-------------------------------+-------------------------------+-------+------+\n",
       "| ABCAE14B324338373D5108C834... | CB1B7D16667C89337B14F597CD... |  1.0  |  3   |\n",
       "| ABCAE14B324338373D5108C834... | 0413FDBC2CDEBA91D85B2E91EE... |  1.0  |  2   |\n",
       "| ABCAE14B324338373D5108C834... | E2522F34A731B441C6CA975FCC... |  1.0  |  1   |\n",
       "| 89b773c6af0d8fa1ad0f4ebe5e... | 1c192f03de4e4c7f7b9f2e92a3... |  1.0  |  3   |\n",
       "| 89b773c6af0d8fa1ad0f4ebe5e... | a53e486b95a3d01fa5ccb4b5d4... |  1.0  |  2   |\n",
       "| 89b773c6af0d8fa1ad0f4ebe5e... | 83f25cbbb6f528239e984892c3... |  1.0  |  1   |\n",
       "| D28AC61FA68397D5792982EF39... | 1DBC5226CF759C06D3F618B05B... |  1.0  |  3   |\n",
       "| D28AC61FA68397D5792982EF39... | C2E087F165E0B3A112356FA603... |  1.0  |  2   |\n",
       "| D28AC61FA68397D5792982EF39... | E446661738FD46A58905831D11... |  1.0  |  1   |\n",
       "| 6386b618cd5f18fcba5eaaf951... | 0ef8bb8c4285458248ae3638b7... |  1.0  |  1   |\n",
       "+-------------------------------+-------------------------------+-------+------+\n",
       "[20481 rows x 4 columns]\n",
       "Note: Only the head of the SFrame is printed.\n",
       "You can use print_rows(num_rows=m, num_columns=n) to print more rows and columns."
      ]
     },
     "execution_count": 43,
     "metadata": {},
     "output_type": "execute_result"
    }
   ],
   "source": [
    "smitems.sort(sort_columns='score', ascending=False)"
   ]
  },
  {
   "cell_type": "markdown",
   "metadata": {},
   "source": [
    "## Gamma network \n",
    "as implemented by Tataian"
   ]
  },
  {
   "cell_type": "code",
   "execution_count": 80,
   "metadata": {},
   "outputs": [],
   "source": [
    "mw = gl.load_sframe('../binarydata/sample_10000_vt_mal_2017_2020_az_2020_benign_hashed_md5.sframe')"
   ]
  },
  {
   "cell_type": "code",
   "execution_count": 86,
   "metadata": {},
   "outputs": [],
   "source": [
    "apks = mw['apk'].unique()"
   ]
  },
  {
   "cell_type": "code",
   "execution_count": 89,
   "metadata": {},
   "outputs": [],
   "source": [
    "sample_apks = apks.sample(fraction=0.02, seed=42)"
   ]
  },
  {
   "cell_type": "code",
   "execution_count": 97,
   "metadata": {},
   "outputs": [],
   "source": [
    "subsamp = mw.filter_by(sample_apks, column_name='apk')"
   ]
  },
  {
   "cell_type": "code",
   "execution_count": 98,
   "metadata": {},
   "outputs": [
    {
     "data": {
      "text/plain": [
       "(196, 196)"
      ]
     },
     "execution_count": 98,
     "metadata": {},
     "output_type": "execute_result"
    }
   ],
   "source": [
    "len(subsamp['apk'].unique()), len(sample_apks)"
   ]
  },
  {
   "cell_type": "markdown",
   "metadata": {},
   "source": [
    "## Right position for $k$\n",
    "\n",
    "it is not sufficient to set k for `get_similar_items`. The recomended performs a cut-off anyways. The $k$ has to be set in the `create` method (`only_top_k`). \n",
    "\n",
    "There is also a `threshold` in `create` initialization, but apparently this has less influece."
   ]
  },
  {
   "cell_type": "code",
   "execution_count": 99,
   "metadata": {},
   "outputs": [],
   "source": [
    "k = len(subsamp['apk'].unique())"
   ]
  },
  {
   "cell_type": "code",
   "execution_count": 220,
   "metadata": {
    "scrolled": true
   },
   "outputs": [
    {
     "data": {
      "text/html": [
       "<pre>Recsys training: model = item_similarity</pre>"
      ],
      "text/plain": [
       "Recsys training: model = item_similarity"
      ]
     },
     "metadata": {},
     "output_type": "display_data"
    }
   ],
   "source": [
    "\n",
    "sim_recom = gl.item_similarity_recommender.create(subsamp, \n",
    "                                                  user_id='function',\n",
    "                                                  item_id='apk',\n",
    "                                                  similarity_type='jaccard',\n",
    "                                                  verbose=False, only_top_k=k)"
   ]
  },
  {
   "cell_type": "code",
   "execution_count": 104,
   "metadata": {},
   "outputs": [],
   "source": [
    "apk1, apk2 = sample_apks[:2]"
   ]
  },
  {
   "cell_type": "code",
   "execution_count": 234,
   "metadata": {},
   "outputs": [],
   "source": [
    "#| for union.& for intersection.– for difference^ for symmetric difference\n",
    "#return 1 - len(p1 & p2)/len(p1|p2)\n",
    "\n",
    "def get_funcs(tab, apk):\n",
    "    return tab[tab['apk']==apk]['function']\n",
    "\n",
    "def alt_jaccard(apk1, apk2, tab):\n",
    "    ap1func = set(get_funcs(tab, apk1))\n",
    "    ap2func = set(get_funcs(tab, apk2))\n",
    "    \n",
    "    return float(len(ap1func & ap2func)) / float(len(ap1func| ap2func))"
   ]
  },
  {
   "cell_type": "code",
   "execution_count": 218,
   "metadata": {},
   "outputs": [],
   "source": [
    "def get_similar_apks(apk):\n",
    "    similar_items = sim_recom.get_similar_items([apk], k=k)['similar', 'score']\n",
    "    similar_items.materialize()\n",
    "    return similar_items\n",
    "\n",
    "def get_jaccard_sim(apk1, apk2):\n",
    "    similar_to_apk1 = get_similar_apks(apk1)\n",
    "    try:\n",
    "        return similar_to_apk1[similar_to_apk1['similar']==apk2]['score'][0]\n",
    "    except:\n",
    "        return 0\n"
   ]
  },
  {
   "cell_type": "markdown",
   "metadata": {},
   "source": [
    "### Precision issues"
   ]
  },
  {
   "cell_type": "code",
   "execution_count": 221,
   "metadata": {},
   "outputs": [
    {
     "data": {
      "text/plain": [
       "(0.002584218978881836, 0.002584194731577192)"
      ]
     },
     "execution_count": 221,
     "metadata": {},
     "output_type": "execute_result"
    }
   ],
   "source": [
    "get_jaccard_sim(apk1, apk2), alt_jaccard(apk1, apk2, subsamp)"
   ]
  },
  {
   "cell_type": "code",
   "execution_count": 223,
   "metadata": {},
   "outputs": [
    {
     "data": {
      "text/plain": [
       "(31, 11996)"
      ]
     },
     "execution_count": 223,
     "metadata": {},
     "output_type": "execute_result"
    }
   ],
   "source": [
    "ap1func = set(get_funcs(subsamp, apk1))\n",
    "ap2func = set(get_funcs(subsamp, apk2))\n",
    "\n",
    "len(ap1func & ap2func), len(ap1func | ap2func)"
   ]
  },
  {
   "cell_type": "code",
   "execution_count": 224,
   "metadata": {},
   "outputs": [
    {
     "data": {
      "text/plain": [
       "0.002584194731577192"
      ]
     },
     "execution_count": 224,
     "metadata": {},
     "output_type": "execute_result"
    }
   ],
   "source": [
    "31.0 / 11996.0"
   ]
  },
  {
   "cell_type": "code",
   "execution_count": 225,
   "metadata": {},
   "outputs": [],
   "source": [
    "apk1 = sample_apks[0]"
   ]
  },
  {
   "cell_type": "code",
   "execution_count": 229,
   "metadata": {},
   "outputs": [
    {
     "name": "stdout",
     "output_type": "stream",
     "text": [
      "1 loop, best of 3: 603 ms per loop\n"
     ]
    }
   ],
   "source": [
    "%%timeit\n",
    "for apks in sample_apks[1:100]:\n",
    "    dist = get_jaccard_sim(apk1=apk1, apk2=apks)"
   ]
  },
  {
   "cell_type": "markdown",
   "metadata": {},
   "source": [
    "## Notices\n",
    "1. convert hashes to ints?\n",
    "2. subsample\n"
   ]
  },
  {
   "cell_type": "code",
   "execution_count": 68,
   "metadata": {},
   "outputs": [
    {
     "ename": "TypeError",
     "evalue": "descriptor 'upper' of 'str' object needs an argument",
     "output_type": "error",
     "traceback": [
      "\u001b[0;31m---------------------------------------------------------------------------\u001b[0m",
      "\u001b[0;31mTypeError\u001b[0m                                 Traceback (most recent call last)",
      "\u001b[0;32m<ipython-input-68-d4e0aa2952b8>\u001b[0m in \u001b[0;36m<module>\u001b[0;34m()\u001b[0m\n\u001b[0;32m----> 1\u001b[0;31m \u001b[0mstr\u001b[0m\u001b[0;34m.\u001b[0m\u001b[0mupper\u001b[0m\u001b[0;34m(\u001b[0m\u001b[0;34m)\u001b[0m\u001b[0;34m\u001b[0m\u001b[0m\n\u001b[0m",
      "\u001b[0;31mTypeError\u001b[0m: descriptor 'upper' of 'str' object needs an argument"
     ]
    }
   ],
   "source": [
    "str.upper()"
   ]
  },
  {
   "cell_type": "code",
   "execution_count": null,
   "metadata": {},
   "outputs": [],
   "source": []
  }
 ],
 "metadata": {
  "kernelspec": {
   "display_name": "Python 2",
   "language": "python",
   "name": "python2"
  },
  "language_info": {
   "codemirror_mode": {
    "name": "ipython",
    "version": 2
   },
   "file_extension": ".py",
   "mimetype": "text/x-python",
   "name": "python",
   "nbconvert_exporter": "python",
   "pygments_lexer": "ipython2",
   "version": "2.7.15"
  }
 },
 "nbformat": 4,
 "nbformat_minor": 2
}
