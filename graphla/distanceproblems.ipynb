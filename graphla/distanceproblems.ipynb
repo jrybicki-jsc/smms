{
 "cells": [
  {
   "cell_type": "code",
   "execution_count": 1,
   "id": "double-edgar",
   "metadata": {},
   "outputs": [],
   "source": [
    "import turicreate as tc\n",
    "import pandas as pd\n",
    "import numpy as np"
   ]
  },
  {
   "cell_type": "code",
   "execution_count": 2,
   "id": "professional-renewal",
   "metadata": {},
   "outputs": [
    {
     "data": {
      "text/html": [
       "<div style=\"max-height:1000px;max-width:1500px;overflow:auto;\"><table frame=\"box\" rules=\"cols\">\n",
       "    <tr>\n",
       "        <th style=\"padding-left: 1em; padding-right: 1em; text-align: center\">apk</th>\n",
       "        <th style=\"padding-left: 1em; padding-right: 1em; text-align: center\">function</th>\n",
       "    </tr>\n",
       "    <tr>\n",
       "        <td style=\"padding-left: 1em; padding-right: 1em; text-align: center; vertical-align: top\">5868</td>\n",
       "        <td style=\"padding-left: 1em; padding-right: 1em; text-align: center; vertical-align: top\">124151</td>\n",
       "    </tr>\n",
       "    <tr>\n",
       "        <td style=\"padding-left: 1em; padding-right: 1em; text-align: center; vertical-align: top\">38</td>\n",
       "        <td style=\"padding-left: 1em; padding-right: 1em; text-align: center; vertical-align: top\">205926</td>\n",
       "    </tr>\n",
       "    <tr>\n",
       "        <td style=\"padding-left: 1em; padding-right: 1em; text-align: center; vertical-align: top\">3965</td>\n",
       "        <td style=\"padding-left: 1em; padding-right: 1em; text-align: center; vertical-align: top\">412019</td>\n",
       "    </tr>\n",
       "    <tr>\n",
       "        <td style=\"padding-left: 1em; padding-right: 1em; text-align: center; vertical-align: top\">4227</td>\n",
       "        <td style=\"padding-left: 1em; padding-right: 1em; text-align: center; vertical-align: top\">455698</td>\n",
       "    </tr>\n",
       "    <tr>\n",
       "        <td style=\"padding-left: 1em; padding-right: 1em; text-align: center; vertical-align: top\">8365</td>\n",
       "        <td style=\"padding-left: 1em; padding-right: 1em; text-align: center; vertical-align: top\">89728</td>\n",
       "    </tr>\n",
       "    <tr>\n",
       "        <td style=\"padding-left: 1em; padding-right: 1em; text-align: center; vertical-align: top\">16611</td>\n",
       "        <td style=\"padding-left: 1em; padding-right: 1em; text-align: center; vertical-align: top\">673605</td>\n",
       "    </tr>\n",
       "    <tr>\n",
       "        <td style=\"padding-left: 1em; padding-right: 1em; text-align: center; vertical-align: top\">17213</td>\n",
       "        <td style=\"padding-left: 1em; padding-right: 1em; text-align: center; vertical-align: top\">507119</td>\n",
       "    </tr>\n",
       "    <tr>\n",
       "        <td style=\"padding-left: 1em; padding-right: 1em; text-align: center; vertical-align: top\">33</td>\n",
       "        <td style=\"padding-left: 1em; padding-right: 1em; text-align: center; vertical-align: top\">204076</td>\n",
       "    </tr>\n",
       "    <tr>\n",
       "        <td style=\"padding-left: 1em; padding-right: 1em; text-align: center; vertical-align: top\">497</td>\n",
       "        <td style=\"padding-left: 1em; padding-right: 1em; text-align: center; vertical-align: top\">342467</td>\n",
       "    </tr>\n",
       "    <tr>\n",
       "        <td style=\"padding-left: 1em; padding-right: 1em; text-align: center; vertical-align: top\">8526</td>\n",
       "        <td style=\"padding-left: 1em; padding-right: 1em; text-align: center; vertical-align: top\">204076</td>\n",
       "    </tr>\n",
       "</table>\n",
       "[35170194 rows x 2 columns]<br/>Note: Only the head of the SFrame is printed.<br/>You can use print_rows(num_rows=m, num_columns=n) to print more rows and columns.\n",
       "</div>"
      ],
      "text/plain": [
       "Columns:\n",
       "\tapk\tint\n",
       "\tfunction\tint\n",
       "\n",
       "Rows: 35170194\n",
       "\n",
       "Data:\n",
       "+-------+----------+\n",
       "|  apk  | function |\n",
       "+-------+----------+\n",
       "|  5868 |  124151  |\n",
       "|   38  |  205926  |\n",
       "|  3965 |  412019  |\n",
       "|  4227 |  455698  |\n",
       "|  8365 |  89728   |\n",
       "| 16611 |  673605  |\n",
       "| 17213 |  507119  |\n",
       "|   33  |  204076  |\n",
       "|  497  |  342467  |\n",
       "|  8526 |  204076  |\n",
       "+-------+----------+\n",
       "[35170194 rows x 2 columns]\n",
       "Note: Only the head of the SFrame is printed.\n",
       "You can use print_rows(num_rows=m, num_columns=n) to print more rows and columns."
      ]
     },
     "execution_count": 2,
     "metadata": {},
     "output_type": "execute_result"
    }
   ],
   "source": [
    "mw = tc.load_sframe('../binarydata/funcs-encoded')\n",
    "mw.remove_column('fcount', inplace=True)"
   ]
  },
  {
   "cell_type": "code",
   "execution_count": 4,
   "id": "challenging-anger",
   "metadata": {},
   "outputs": [],
   "source": [
    "apks = mw['apk'].unique()\n",
    "k = apks.shape[0]"
   ]
  },
  {
   "cell_type": "code",
   "execution_count": 5,
   "id": "gothic-intranet",
   "metadata": {},
   "outputs": [],
   "source": [
    "sim_recom = tc.item_similarity_recommender.create(mw, user_id='function', item_id='apk', similarity_type='jaccard', \n",
    "                                                  only_top_k=k, threshold=0.0, verbose=False)"
   ]
  },
  {
   "cell_type": "code",
   "execution_count": 6,
   "id": "lovely-academy",
   "metadata": {},
   "outputs": [],
   "source": [
    "items = sim_recom.get_similar_items(apks, k=k)"
   ]
  },
  {
   "cell_type": "code",
   "execution_count": 8,
   "id": "level-enterprise",
   "metadata": {},
   "outputs": [
    {
     "data": {
      "text/html": [
       "<div style=\"max-height:1000px;max-width:1500px;overflow:auto;\"><table frame=\"box\" rules=\"cols\">\n",
       "    <tr>\n",
       "        <th style=\"padding-left: 1em; padding-right: 1em; text-align: center\">apk</th>\n",
       "        <th style=\"padding-left: 1em; padding-right: 1em; text-align: center\">similar</th>\n",
       "        <th style=\"padding-left: 1em; padding-right: 1em; text-align: center\">score</th>\n",
       "        <th style=\"padding-left: 1em; padding-right: 1em; text-align: center\">rank</th>\n",
       "    </tr>\n",
       "    <tr>\n",
       "        <td style=\"padding-left: 1em; padding-right: 1em; text-align: center; vertical-align: top\">21855</td>\n",
       "        <td style=\"padding-left: 1em; padding-right: 1em; text-align: center; vertical-align: top\">804</td>\n",
       "        <td style=\"padding-left: 1em; padding-right: 1em; text-align: center; vertical-align: top\">0.44979554414749146</td>\n",
       "        <td style=\"padding-left: 1em; padding-right: 1em; text-align: center; vertical-align: top\">1</td>\n",
       "    </tr>\n",
       "    <tr>\n",
       "        <td style=\"padding-left: 1em; padding-right: 1em; text-align: center; vertical-align: top\">21855</td>\n",
       "        <td style=\"padding-left: 1em; padding-right: 1em; text-align: center; vertical-align: top\">3977</td>\n",
       "        <td style=\"padding-left: 1em; padding-right: 1em; text-align: center; vertical-align: top\">0.42904841899871826</td>\n",
       "        <td style=\"padding-left: 1em; padding-right: 1em; text-align: center; vertical-align: top\">2</td>\n",
       "    </tr>\n",
       "    <tr>\n",
       "        <td style=\"padding-left: 1em; padding-right: 1em; text-align: center; vertical-align: top\">21855</td>\n",
       "        <td style=\"padding-left: 1em; padding-right: 1em; text-align: center; vertical-align: top\">9141</td>\n",
       "        <td style=\"padding-left: 1em; padding-right: 1em; text-align: center; vertical-align: top\">0.3600617051124573</td>\n",
       "        <td style=\"padding-left: 1em; padding-right: 1em; text-align: center; vertical-align: top\">3</td>\n",
       "    </tr>\n",
       "    <tr>\n",
       "        <td style=\"padding-left: 1em; padding-right: 1em; text-align: center; vertical-align: top\">21855</td>\n",
       "        <td style=\"padding-left: 1em; padding-right: 1em; text-align: center; vertical-align: top\">16802</td>\n",
       "        <td style=\"padding-left: 1em; padding-right: 1em; text-align: center; vertical-align: top\">0.22550606727600098</td>\n",
       "        <td style=\"padding-left: 1em; padding-right: 1em; text-align: center; vertical-align: top\">4</td>\n",
       "    </tr>\n",
       "    <tr>\n",
       "        <td style=\"padding-left: 1em; padding-right: 1em; text-align: center; vertical-align: top\">21855</td>\n",
       "        <td style=\"padding-left: 1em; padding-right: 1em; text-align: center; vertical-align: top\">3610</td>\n",
       "        <td style=\"padding-left: 1em; padding-right: 1em; text-align: center; vertical-align: top\">0.20764803886413574</td>\n",
       "        <td style=\"padding-left: 1em; padding-right: 1em; text-align: center; vertical-align: top\">5</td>\n",
       "    </tr>\n",
       "    <tr>\n",
       "        <td style=\"padding-left: 1em; padding-right: 1em; text-align: center; vertical-align: top\">21855</td>\n",
       "        <td style=\"padding-left: 1em; padding-right: 1em; text-align: center; vertical-align: top\">24303</td>\n",
       "        <td style=\"padding-left: 1em; padding-right: 1em; text-align: center; vertical-align: top\">0.20415878295898438</td>\n",
       "        <td style=\"padding-left: 1em; padding-right: 1em; text-align: center; vertical-align: top\">6</td>\n",
       "    </tr>\n",
       "    <tr>\n",
       "        <td style=\"padding-left: 1em; padding-right: 1em; text-align: center; vertical-align: top\">21855</td>\n",
       "        <td style=\"padding-left: 1em; padding-right: 1em; text-align: center; vertical-align: top\">22561</td>\n",
       "        <td style=\"padding-left: 1em; padding-right: 1em; text-align: center; vertical-align: top\">0.18196511268615723</td>\n",
       "        <td style=\"padding-left: 1em; padding-right: 1em; text-align: center; vertical-align: top\">7</td>\n",
       "    </tr>\n",
       "    <tr>\n",
       "        <td style=\"padding-left: 1em; padding-right: 1em; text-align: center; vertical-align: top\">21855</td>\n",
       "        <td style=\"padding-left: 1em; padding-right: 1em; text-align: center; vertical-align: top\">2422</td>\n",
       "        <td style=\"padding-left: 1em; padding-right: 1em; text-align: center; vertical-align: top\">0.1654706597328186</td>\n",
       "        <td style=\"padding-left: 1em; padding-right: 1em; text-align: center; vertical-align: top\">8</td>\n",
       "    </tr>\n",
       "    <tr>\n",
       "        <td style=\"padding-left: 1em; padding-right: 1em; text-align: center; vertical-align: top\">21855</td>\n",
       "        <td style=\"padding-left: 1em; padding-right: 1em; text-align: center; vertical-align: top\">27588</td>\n",
       "        <td style=\"padding-left: 1em; padding-right: 1em; text-align: center; vertical-align: top\">0.1622059941291809</td>\n",
       "        <td style=\"padding-left: 1em; padding-right: 1em; text-align: center; vertical-align: top\">9</td>\n",
       "    </tr>\n",
       "    <tr>\n",
       "        <td style=\"padding-left: 1em; padding-right: 1em; text-align: center; vertical-align: top\">21855</td>\n",
       "        <td style=\"padding-left: 1em; padding-right: 1em; text-align: center; vertical-align: top\">2903</td>\n",
       "        <td style=\"padding-left: 1em; padding-right: 1em; text-align: center; vertical-align: top\">0.16173487901687622</td>\n",
       "        <td style=\"padding-left: 1em; padding-right: 1em; text-align: center; vertical-align: top\">10</td>\n",
       "    </tr>\n",
       "</table>\n",
       "[10 rows x 4 columns]<br/>\n",
       "</div>"
      ],
      "text/plain": [
       "Columns:\n",
       "\tapk\tint\n",
       "\tsimilar\tint\n",
       "\tscore\tfloat\n",
       "\trank\tint\n",
       "\n",
       "Rows: 10\n",
       "\n",
       "Data:\n",
       "+-------+---------+---------------------+------+\n",
       "|  apk  | similar |        score        | rank |\n",
       "+-------+---------+---------------------+------+\n",
       "| 21855 |   804   | 0.44979554414749146 |  1   |\n",
       "| 21855 |   3977  | 0.42904841899871826 |  2   |\n",
       "| 21855 |   9141  |  0.3600617051124573 |  3   |\n",
       "| 21855 |  16802  | 0.22550606727600098 |  4   |\n",
       "| 21855 |   3610  | 0.20764803886413574 |  5   |\n",
       "| 21855 |  24303  | 0.20415878295898438 |  6   |\n",
       "| 21855 |  22561  | 0.18196511268615723 |  7   |\n",
       "| 21855 |   2422  |  0.1654706597328186 |  8   |\n",
       "| 21855 |  27588  |  0.1622059941291809 |  9   |\n",
       "| 21855 |   2903  | 0.16173487901687622 |  10  |\n",
       "+-------+---------+---------------------+------+\n",
       "[10 rows x 4 columns]"
      ]
     },
     "execution_count": 8,
     "metadata": {},
     "output_type": "execute_result"
    }
   ],
   "source": [
    "items.head()"
   ]
  },
  {
   "cell_type": "code",
   "execution_count": 7,
   "id": "amber-operations",
   "metadata": {},
   "outputs": [],
   "source": [
    "a = 8200\n",
    "b = 11365"
   ]
  },
  {
   "cell_type": "code",
   "execution_count": 9,
   "id": "strange-dress",
   "metadata": {},
   "outputs": [],
   "source": [
    "def d(a, b, items):\n",
    "    return items[(items['apk']==a)&(items['similar']==b)]"
   ]
  },
  {
   "cell_type": "code",
   "execution_count": 11,
   "id": "superb-beads",
   "metadata": {},
   "outputs": [
    {
     "data": {
      "text/html": [
       "<div style=\"max-height:1000px;max-width:1500px;overflow:auto;\"><table frame=\"box\" rules=\"cols\">\n",
       "    <tr>\n",
       "        <th style=\"padding-left: 1em; padding-right: 1em; text-align: center\">apk</th>\n",
       "        <th style=\"padding-left: 1em; padding-right: 1em; text-align: center\">similar</th>\n",
       "        <th style=\"padding-left: 1em; padding-right: 1em; text-align: center\">score</th>\n",
       "        <th style=\"padding-left: 1em; padding-right: 1em; text-align: center\">rank</th>\n",
       "    </tr>\n",
       "    <tr>\n",
       "        <td style=\"padding-left: 1em; padding-right: 1em; text-align: center; vertical-align: top\">8200</td>\n",
       "        <td style=\"padding-left: 1em; padding-right: 1em; text-align: center; vertical-align: top\">11365</td>\n",
       "        <td style=\"padding-left: 1em; padding-right: 1em; text-align: center; vertical-align: top\">0.1666666865348816</td>\n",
       "        <td style=\"padding-left: 1em; padding-right: 1em; text-align: center; vertical-align: top\">1800</td>\n",
       "    </tr>\n",
       "</table>\n",
       "[? rows x 4 columns]<br/>Note: Only the head of the SFrame is printed. This SFrame is lazily evaluated.<br/>You can use sf.materialize() to force materialization.\n",
       "</div>"
      ],
      "text/plain": [
       "Columns:\n",
       "\tapk\tint\n",
       "\tsimilar\tint\n",
       "\tscore\tfloat\n",
       "\trank\tint\n",
       "\n",
       "Rows: Unknown\n",
       "\n",
       "Data:\n",
       "+------+---------+--------------------+------+\n",
       "| apk  | similar |       score        | rank |\n",
       "+------+---------+--------------------+------+\n",
       "| 8200 |  11365  | 0.1666666865348816 | 1800 |\n",
       "+------+---------+--------------------+------+\n",
       "[? rows x 4 columns]\n",
       "Note: Only the head of the SFrame is printed. This SFrame is lazily evaluated.\n",
       "You can use sf.materialize() to force materialization."
      ]
     },
     "execution_count": 11,
     "metadata": {},
     "output_type": "execute_result"
    }
   ],
   "source": [
    "d(a, b, items)"
   ]
  },
  {
   "cell_type": "code",
   "execution_count": 13,
   "id": "governing-input",
   "metadata": {},
   "outputs": [],
   "source": [
    "rel = mw[(mw['apk']==a)|(mw['apk']==b)]"
   ]
  },
  {
   "cell_type": "code",
   "execution_count": 14,
   "id": "detected-despite",
   "metadata": {},
   "outputs": [],
   "source": [
    "rel.materialize()"
   ]
  },
  {
   "cell_type": "code",
   "execution_count": 18,
   "id": "tough-chemical",
   "metadata": {},
   "outputs": [
    {
     "data": {
      "text/html": [
       "<div style=\"max-height:1000px;max-width:1500px;overflow:auto;\"><table frame=\"box\" rules=\"cols\">\n",
       "    <tr>\n",
       "        <th style=\"padding-left: 1em; padding-right: 1em; text-align: center\">apk</th>\n",
       "        <th style=\"padding-left: 1em; padding-right: 1em; text-align: center\">function</th>\n",
       "    </tr>\n",
       "    <tr>\n",
       "        <td style=\"padding-left: 1em; padding-right: 1em; text-align: center; vertical-align: top\">8200</td>\n",
       "        <td style=\"padding-left: 1em; padding-right: 1em; text-align: center; vertical-align: top\">178583</td>\n",
       "    </tr>\n",
       "    <tr>\n",
       "        <td style=\"padding-left: 1em; padding-right: 1em; text-align: center; vertical-align: top\">11365</td>\n",
       "        <td style=\"padding-left: 1em; padding-right: 1em; text-align: center; vertical-align: top\">207973</td>\n",
       "    </tr>\n",
       "    <tr>\n",
       "        <td style=\"padding-left: 1em; padding-right: 1em; text-align: center; vertical-align: top\">11365</td>\n",
       "        <td style=\"padding-left: 1em; padding-right: 1em; text-align: center; vertical-align: top\">101925</td>\n",
       "    </tr>\n",
       "    <tr>\n",
       "        <td style=\"padding-left: 1em; padding-right: 1em; text-align: center; vertical-align: top\">11365</td>\n",
       "        <td style=\"padding-left: 1em; padding-right: 1em; text-align: center; vertical-align: top\">178583</td>\n",
       "    </tr>\n",
       "    <tr>\n",
       "        <td style=\"padding-left: 1em; padding-right: 1em; text-align: center; vertical-align: top\">8200</td>\n",
       "        <td style=\"padding-left: 1em; padding-right: 1em; text-align: center; vertical-align: top\">101925</td>\n",
       "    </tr>\n",
       "    <tr>\n",
       "        <td style=\"padding-left: 1em; padding-right: 1em; text-align: center; vertical-align: top\">11365</td>\n",
       "        <td style=\"padding-left: 1em; padding-right: 1em; text-align: center; vertical-align: top\">342566</td>\n",
       "    </tr>\n",
       "    <tr>\n",
       "        <td style=\"padding-left: 1em; padding-right: 1em; text-align: center; vertical-align: top\">11365</td>\n",
       "        <td style=\"padding-left: 1em; padding-right: 1em; text-align: center; vertical-align: top\">65996</td>\n",
       "    </tr>\n",
       "</table>\n",
       "[7 rows x 2 columns]<br/>\n",
       "</div>"
      ],
      "text/plain": [
       "Columns:\n",
       "\tapk\tint\n",
       "\tfunction\tint\n",
       "\n",
       "Rows: 7\n",
       "\n",
       "Data:\n",
       "+-------+----------+\n",
       "|  apk  | function |\n",
       "+-------+----------+\n",
       "|  8200 |  178583  |\n",
       "| 11365 |  207973  |\n",
       "| 11365 |  101925  |\n",
       "| 11365 |  178583  |\n",
       "|  8200 |  101925  |\n",
       "| 11365 |  342566  |\n",
       "| 11365 |  65996   |\n",
       "+-------+----------+\n",
       "[7 rows x 2 columns]"
      ]
     },
     "execution_count": 18,
     "metadata": {},
     "output_type": "execute_result"
    }
   ],
   "source": [
    "rel"
   ]
  },
  {
   "cell_type": "code",
   "execution_count": 19,
   "id": "instant-charlotte",
   "metadata": {},
   "outputs": [],
   "source": [
    "a_funcs = set(rel[rel['apk']==a]['function'])\n",
    "b_funcs = set(rel[rel['apk']==b]['function'])"
   ]
  },
  {
   "cell_type": "code",
   "execution_count": 20,
   "id": "banned-hayes",
   "metadata": {},
   "outputs": [
    {
     "data": {
      "text/plain": [
       "({101925, 178583}, {65996, 101925, 178583, 207973, 342566})"
      ]
     },
     "execution_count": 20,
     "metadata": {},
     "output_type": "execute_result"
    }
   ],
   "source": [
    "a_funcs, b_funcs"
   ]
  },
  {
   "cell_type": "code",
   "execution_count": 23,
   "id": "perceived-place",
   "metadata": {},
   "outputs": [
    {
     "data": {
      "text/plain": [
       "0.4"
      ]
     },
     "execution_count": 23,
     "metadata": {},
     "output_type": "execute_result"
    }
   ],
   "source": [
    "len(a_funcs.intersection(b_funcs))/len(a_funcs.union(b_funcs))"
   ]
  },
  {
   "cell_type": "code",
   "execution_count": 24,
   "id": "swiss-scientist",
   "metadata": {},
   "outputs": [],
   "source": [
    "sim_recom_s = tc.item_similarity_recommender.create(rel, user_id='function', item_id='apk', similarity_type='jaccard', \n",
    "                                                  only_top_k=k, threshold=0.0, verbose=False)"
   ]
  },
  {
   "cell_type": "code",
   "execution_count": 27,
   "id": "increased-nelson",
   "metadata": {},
   "outputs": [],
   "source": [
    "items2 = sim_recom_s.get_similar_items([a,b], k=k)"
   ]
  },
  {
   "cell_type": "code",
   "execution_count": 28,
   "id": "given-activity",
   "metadata": {},
   "outputs": [
    {
     "data": {
      "text/html": [
       "<div style=\"max-height:1000px;max-width:1500px;overflow:auto;\"><table frame=\"box\" rules=\"cols\">\n",
       "    <tr>\n",
       "        <th style=\"padding-left: 1em; padding-right: 1em; text-align: center\">apk</th>\n",
       "        <th style=\"padding-left: 1em; padding-right: 1em; text-align: center\">similar</th>\n",
       "        <th style=\"padding-left: 1em; padding-right: 1em; text-align: center\">score</th>\n",
       "        <th style=\"padding-left: 1em; padding-right: 1em; text-align: center\">rank</th>\n",
       "    </tr>\n",
       "    <tr>\n",
       "        <td style=\"padding-left: 1em; padding-right: 1em; text-align: center; vertical-align: top\">8200</td>\n",
       "        <td style=\"padding-left: 1em; padding-right: 1em; text-align: center; vertical-align: top\">11365</td>\n",
       "        <td style=\"padding-left: 1em; padding-right: 1em; text-align: center; vertical-align: top\">0.3999999761581421</td>\n",
       "        <td style=\"padding-left: 1em; padding-right: 1em; text-align: center; vertical-align: top\">1</td>\n",
       "    </tr>\n",
       "    <tr>\n",
       "        <td style=\"padding-left: 1em; padding-right: 1em; text-align: center; vertical-align: top\">11365</td>\n",
       "        <td style=\"padding-left: 1em; padding-right: 1em; text-align: center; vertical-align: top\">8200</td>\n",
       "        <td style=\"padding-left: 1em; padding-right: 1em; text-align: center; vertical-align: top\">0.3999999761581421</td>\n",
       "        <td style=\"padding-left: 1em; padding-right: 1em; text-align: center; vertical-align: top\">1</td>\n",
       "    </tr>\n",
       "</table>\n",
       "[2 rows x 4 columns]<br/>\n",
       "</div>"
      ],
      "text/plain": [
       "Columns:\n",
       "\tapk\tint\n",
       "\tsimilar\tint\n",
       "\tscore\tfloat\n",
       "\trank\tint\n",
       "\n",
       "Rows: 2\n",
       "\n",
       "Data:\n",
       "+-------+---------+--------------------+------+\n",
       "|  apk  | similar |       score        | rank |\n",
       "+-------+---------+--------------------+------+\n",
       "|  8200 |  11365  | 0.3999999761581421 |  1   |\n",
       "| 11365 |   8200  | 0.3999999761581421 |  1   |\n",
       "+-------+---------+--------------------+------+\n",
       "[2 rows x 4 columns]"
      ]
     },
     "execution_count": 28,
     "metadata": {},
     "output_type": "execute_result"
    }
   ],
   "source": [
    "items2"
   ]
  },
  {
   "cell_type": "code",
   "execution_count": 30,
   "id": "casual-reporter",
   "metadata": {},
   "outputs": [],
   "source": [
    "i8 = sim_recom.get_similar_items([8200], k=k)"
   ]
  },
  {
   "cell_type": "code",
   "execution_count": 31,
   "id": "usual-duration",
   "metadata": {},
   "outputs": [
    {
     "data": {
      "text/html": [
       "<div style=\"max-height:1000px;max-width:1500px;overflow:auto;\"><table frame=\"box\" rules=\"cols\">\n",
       "    <tr>\n",
       "        <th style=\"padding-left: 1em; padding-right: 1em; text-align: center\">apk</th>\n",
       "        <th style=\"padding-left: 1em; padding-right: 1em; text-align: center\">similar</th>\n",
       "        <th style=\"padding-left: 1em; padding-right: 1em; text-align: center\">score</th>\n",
       "        <th style=\"padding-left: 1em; padding-right: 1em; text-align: center\">rank</th>\n",
       "    </tr>\n",
       "    <tr>\n",
       "        <td style=\"padding-left: 1em; padding-right: 1em; text-align: center; vertical-align: top\">8200</td>\n",
       "        <td style=\"padding-left: 1em; padding-right: 1em; text-align: center; vertical-align: top\">11365</td>\n",
       "        <td style=\"padding-left: 1em; padding-right: 1em; text-align: center; vertical-align: top\">0.1666666865348816</td>\n",
       "        <td style=\"padding-left: 1em; padding-right: 1em; text-align: center; vertical-align: top\">1800</td>\n",
       "    </tr>\n",
       "</table>\n",
       "[? rows x 4 columns]<br/>Note: Only the head of the SFrame is printed. This SFrame is lazily evaluated.<br/>You can use sf.materialize() to force materialization.\n",
       "</div>"
      ],
      "text/plain": [
       "Columns:\n",
       "\tapk\tint\n",
       "\tsimilar\tint\n",
       "\tscore\tfloat\n",
       "\trank\tint\n",
       "\n",
       "Rows: Unknown\n",
       "\n",
       "Data:\n",
       "+------+---------+--------------------+------+\n",
       "| apk  | similar |       score        | rank |\n",
       "+------+---------+--------------------+------+\n",
       "| 8200 |  11365  | 0.1666666865348816 | 1800 |\n",
       "+------+---------+--------------------+------+\n",
       "[? rows x 4 columns]\n",
       "Note: Only the head of the SFrame is printed. This SFrame is lazily evaluated.\n",
       "You can use sf.materialize() to force materialization."
      ]
     },
     "execution_count": 31,
     "metadata": {},
     "output_type": "execute_result"
    }
   ],
   "source": [
    "i8[i8['similar']==b]"
   ]
  },
  {
   "cell_type": "code",
   "execution_count": 35,
   "id": "centered-bobby",
   "metadata": {},
   "outputs": [
    {
     "data": {
      "text/html": [
       "<div style=\"max-height:1000px;max-width:1500px;overflow:auto;\"><table frame=\"box\" rules=\"cols\">\n",
       "    <tr>\n",
       "        <th style=\"padding-left: 1em; padding-right: 1em; text-align: center\">apk</th>\n",
       "        <th style=\"padding-left: 1em; padding-right: 1em; text-align: center\">similar</th>\n",
       "        <th style=\"padding-left: 1em; padding-right: 1em; text-align: center\">score</th>\n",
       "        <th style=\"padding-left: 1em; padding-right: 1em; text-align: center\">rank</th>\n",
       "    </tr>\n",
       "    <tr>\n",
       "        <td style=\"padding-left: 1em; padding-right: 1em; text-align: center; vertical-align: top\">8200</td>\n",
       "        <td style=\"padding-left: 1em; padding-right: 1em; text-align: center; vertical-align: top\">2419</td>\n",
       "        <td style=\"padding-left: 1em; padding-right: 1em; text-align: center; vertical-align: top\">0.1666666865348816</td>\n",
       "        <td style=\"padding-left: 1em; padding-right: 1em; text-align: center; vertical-align: top\">1796</td>\n",
       "    </tr>\n",
       "    <tr>\n",
       "        <td style=\"padding-left: 1em; padding-right: 1em; text-align: center; vertical-align: top\">8200</td>\n",
       "        <td style=\"padding-left: 1em; padding-right: 1em; text-align: center; vertical-align: top\">20049</td>\n",
       "        <td style=\"padding-left: 1em; padding-right: 1em; text-align: center; vertical-align: top\">0.1666666865348816</td>\n",
       "        <td style=\"padding-left: 1em; padding-right: 1em; text-align: center; vertical-align: top\">1797</td>\n",
       "    </tr>\n",
       "    <tr>\n",
       "        <td style=\"padding-left: 1em; padding-right: 1em; text-align: center; vertical-align: top\">8200</td>\n",
       "        <td style=\"padding-left: 1em; padding-right: 1em; text-align: center; vertical-align: top\">11861</td>\n",
       "        <td style=\"padding-left: 1em; padding-right: 1em; text-align: center; vertical-align: top\">0.1666666865348816</td>\n",
       "        <td style=\"padding-left: 1em; padding-right: 1em; text-align: center; vertical-align: top\">1798</td>\n",
       "    </tr>\n",
       "    <tr>\n",
       "        <td style=\"padding-left: 1em; padding-right: 1em; text-align: center; vertical-align: top\">8200</td>\n",
       "        <td style=\"padding-left: 1em; padding-right: 1em; text-align: center; vertical-align: top\">6570</td>\n",
       "        <td style=\"padding-left: 1em; padding-right: 1em; text-align: center; vertical-align: top\">0.1666666865348816</td>\n",
       "        <td style=\"padding-left: 1em; padding-right: 1em; text-align: center; vertical-align: top\">1799</td>\n",
       "    </tr>\n",
       "    <tr>\n",
       "        <td style=\"padding-left: 1em; padding-right: 1em; text-align: center; vertical-align: top\">8200</td>\n",
       "        <td style=\"padding-left: 1em; padding-right: 1em; text-align: center; vertical-align: top\">11365</td>\n",
       "        <td style=\"padding-left: 1em; padding-right: 1em; text-align: center; vertical-align: top\">0.1666666865348816</td>\n",
       "        <td style=\"padding-left: 1em; padding-right: 1em; text-align: center; vertical-align: top\">1800</td>\n",
       "    </tr>\n",
       "    <tr>\n",
       "        <td style=\"padding-left: 1em; padding-right: 1em; text-align: center; vertical-align: top\">8200</td>\n",
       "        <td style=\"padding-left: 1em; padding-right: 1em; text-align: center; vertical-align: top\">20390</td>\n",
       "        <td style=\"padding-left: 1em; padding-right: 1em; text-align: center; vertical-align: top\">0.1666666865348816</td>\n",
       "        <td style=\"padding-left: 1em; padding-right: 1em; text-align: center; vertical-align: top\">1801</td>\n",
       "    </tr>\n",
       "    <tr>\n",
       "        <td style=\"padding-left: 1em; padding-right: 1em; text-align: center; vertical-align: top\">8200</td>\n",
       "        <td style=\"padding-left: 1em; padding-right: 1em; text-align: center; vertical-align: top\">16605</td>\n",
       "        <td style=\"padding-left: 1em; padding-right: 1em; text-align: center; vertical-align: top\">0.1666666865348816</td>\n",
       "        <td style=\"padding-left: 1em; padding-right: 1em; text-align: center; vertical-align: top\">1802</td>\n",
       "    </tr>\n",
       "    <tr>\n",
       "        <td style=\"padding-left: 1em; padding-right: 1em; text-align: center; vertical-align: top\">8200</td>\n",
       "        <td style=\"padding-left: 1em; padding-right: 1em; text-align: center; vertical-align: top\">1101</td>\n",
       "        <td style=\"padding-left: 1em; padding-right: 1em; text-align: center; vertical-align: top\">0.1666666865348816</td>\n",
       "        <td style=\"padding-left: 1em; padding-right: 1em; text-align: center; vertical-align: top\">1803</td>\n",
       "    </tr>\n",
       "    <tr>\n",
       "        <td style=\"padding-left: 1em; padding-right: 1em; text-align: center; vertical-align: top\">8200</td>\n",
       "        <td style=\"padding-left: 1em; padding-right: 1em; text-align: center; vertical-align: top\">9446</td>\n",
       "        <td style=\"padding-left: 1em; padding-right: 1em; text-align: center; vertical-align: top\">0.1666666865348816</td>\n",
       "        <td style=\"padding-left: 1em; padding-right: 1em; text-align: center; vertical-align: top\">1804</td>\n",
       "    </tr>\n",
       "    <tr>\n",
       "        <td style=\"padding-left: 1em; padding-right: 1em; text-align: center; vertical-align: top\">8200</td>\n",
       "        <td style=\"padding-left: 1em; padding-right: 1em; text-align: center; vertical-align: top\">29</td>\n",
       "        <td style=\"padding-left: 1em; padding-right: 1em; text-align: center; vertical-align: top\">0.1666666865348816</td>\n",
       "        <td style=\"padding-left: 1em; padding-right: 1em; text-align: center; vertical-align: top\">1805</td>\n",
       "    </tr>\n",
       "</table>\n",
       "[? rows x 4 columns]<br/>Note: Only the head of the SFrame is printed. This SFrame is lazily evaluated.<br/>You can use sf.materialize() to force materialization.\n",
       "</div>"
      ],
      "text/plain": [
       "Columns:\n",
       "\tapk\tint\n",
       "\tsimilar\tint\n",
       "\tscore\tfloat\n",
       "\trank\tint\n",
       "\n",
       "Rows: Unknown\n",
       "\n",
       "Data:\n",
       "+------+---------+--------------------+------+\n",
       "| apk  | similar |       score        | rank |\n",
       "+------+---------+--------------------+------+\n",
       "| 8200 |   2419  | 0.1666666865348816 | 1796 |\n",
       "| 8200 |  20049  | 0.1666666865348816 | 1797 |\n",
       "| 8200 |  11861  | 0.1666666865348816 | 1798 |\n",
       "| 8200 |   6570  | 0.1666666865348816 | 1799 |\n",
       "| 8200 |  11365  | 0.1666666865348816 | 1800 |\n",
       "| 8200 |  20390  | 0.1666666865348816 | 1801 |\n",
       "| 8200 |  16605  | 0.1666666865348816 | 1802 |\n",
       "| 8200 |   1101  | 0.1666666865348816 | 1803 |\n",
       "| 8200 |   9446  | 0.1666666865348816 | 1804 |\n",
       "| 8200 |    29   | 0.1666666865348816 | 1805 |\n",
       "+------+---------+--------------------+------+\n",
       "[? rows x 4 columns]\n",
       "Note: Only the head of the SFrame is printed. This SFrame is lazily evaluated.\n",
       "You can use sf.materialize() to force materialization."
      ]
     },
     "execution_count": 35,
     "metadata": {},
     "output_type": "execute_result"
    }
   ],
   "source": [
    "i8[(i8['rank']>1795)&(i8['rank']<1810)]"
   ]
  },
  {
   "cell_type": "code",
   "execution_count": 39,
   "id": "governmental-music",
   "metadata": {},
   "outputs": [
    {
     "data": {
      "text/html": [
       "<div style=\"max-height:1000px;max-width:1500px;overflow:auto;\"><table frame=\"box\" rules=\"cols\">\n",
       "    <tr>\n",
       "        <th style=\"padding-left: 1em; padding-right: 1em; text-align: center\">apk</th>\n",
       "        <th style=\"padding-left: 1em; padding-right: 1em; text-align: center\">similar</th>\n",
       "        <th style=\"padding-left: 1em; padding-right: 1em; text-align: center\">score</th>\n",
       "        <th style=\"padding-left: 1em; padding-right: 1em; text-align: center\">rank</th>\n",
       "    </tr>\n",
       "    <tr>\n",
       "        <td style=\"padding-left: 1em; padding-right: 1em; text-align: center; vertical-align: top\">8200</td>\n",
       "        <td style=\"padding-left: 1em; padding-right: 1em; text-align: center; vertical-align: top\">11365</td>\n",
       "        <td style=\"padding-left: 1em; padding-right: 1em; text-align: center; vertical-align: top\">0.1666666865348816</td>\n",
       "        <td style=\"padding-left: 1em; padding-right: 1em; text-align: center; vertical-align: top\">1835</td>\n",
       "    </tr>\n",
       "</table>\n",
       "[? rows x 4 columns]<br/>Note: Only the head of the SFrame is printed. This SFrame is lazily evaluated.<br/>You can use sf.materialize() to force materialization.\n",
       "</div>"
      ],
      "text/plain": [
       "Columns:\n",
       "\tapk\tint\n",
       "\tsimilar\tint\n",
       "\tscore\tfloat\n",
       "\trank\tint\n",
       "\n",
       "Rows: Unknown\n",
       "\n",
       "Data:\n",
       "+------+---------+--------------------+------+\n",
       "| apk  | similar |       score        | rank |\n",
       "+------+---------+--------------------+------+\n",
       "| 8200 |  11365  | 0.1666666865348816 | 1835 |\n",
       "+------+---------+--------------------+------+\n",
       "[? rows x 4 columns]\n",
       "Note: Only the head of the SFrame is printed. This SFrame is lazily evaluated.\n",
       "You can use sf.materialize() to force materialization."
      ]
     },
     "execution_count": 39,
     "metadata": {},
     "output_type": "execute_result"
    }
   ],
   "source": [
    "#seed_item_set_size = 0 \n",
    "#nearest_neighbors_interaction_proportion_threshold = 0.9\n",
    "#degree_approximation_threshold \n",
    "sim_recom = tc.item_similarity_recommender.create(mw, user_id='function', item_id='apk', similarity_type='jaccard', \n",
    "                                                  only_top_k=k,nearest_neighbors_interaction_proportion_threshold=1, threshold=0.0, verbose=False)\n",
    "it = sim_recom.get_similar_items([a], k=k)\n",
    "it[it['similar']==b]"
   ]
  },
  {
   "cell_type": "code",
   "execution_count": null,
   "id": "pregnant-uncle",
   "metadata": {},
   "outputs": [],
   "source": []
  },
  {
   "cell_type": "code",
   "execution_count": 40,
   "id": "english-trash",
   "metadata": {},
   "outputs": [],
   "source": [
    "m = pd.read_csv('../data/joined.csv', index_col='apn')\n",
    "m['nf'] = m['nf'].apply(eval)"
   ]
  },
  {
   "cell_type": "code",
   "execution_count": 41,
   "id": "sensitive-individual",
   "metadata": {},
   "outputs": [],
   "source": [
    "def jaccard(apid1: int, apid2: int, funcs) -> float:\n",
    "    p1 = funcs[apid1]\n",
    "    p2 = funcs[apid2]\n",
    "\n",
    "    return 1 - len(p1 & p2)/len(p1|p2)\n",
    "\n",
    "\n",
    "distance = lambda x,y: jaccard(x, y, m['nf'])"
   ]
  },
  {
   "cell_type": "code",
   "execution_count": 49,
   "id": "offensive-sport",
   "metadata": {},
   "outputs": [],
   "source": [
    "sim_recom = tc.item_similarity_recommender.create(mw, \n",
    "                                                  user_id='function', \n",
    "                                                  item_id='apk', \n",
    "                                                  similarity_type='jaccard', \n",
    "                                                  only_top_k=k,\n",
    "                                                  threshold=0.0, verbose=False)\n",
    "similars = sim_recom.get_similar_items(apks, k=k)\n",
    "\n",
    "def tc_dist(a, b, similars):\n",
    "    res = similars[(similars['apk']==a)&(similars['similar']==b)]['score']\n",
    "    return res"
   ]
  },
  {
   "cell_type": "code",
   "execution_count": 50,
   "id": "arabic-deposit",
   "metadata": {},
   "outputs": [
    {
     "data": {
      "text/plain": [
       "dtype: float\n",
       "Rows: ?\n",
       "[0.004075109958648682, ... ]"
      ]
     },
     "execution_count": 50,
     "metadata": {},
     "output_type": "execute_result"
    }
   ],
   "source": [
    "tc_dist(a, b, similars)"
   ]
  },
  {
   "cell_type": "code",
   "execution_count": 42,
   "id": "wooden-consultation",
   "metadata": {},
   "outputs": [],
   "source": [
    "import random"
   ]
  },
  {
   "cell_type": "code",
   "execution_count": 53,
   "id": "inside-andorra",
   "metadata": {},
   "outputs": [
    {
     "name": "stdout",
     "output_type": "stream",
     "text": [
      "26170 9902 0.9611650485436893 0.9616274833679199\n",
      "4769 17566 0.9530305646693145 0.9538434743881226\n",
      "4810 8893 0.8697354681517577 0.8699321150779724\n",
      "7776 14869 0.9754878629224178 0.9767054915428162\n",
      "15336 16904 0.9230895645028759 0.9235318303108215\n",
      "18119 18363 0.9915966386554622 0.9915966391563416\n",
      "27427 9130 0.9991235758106923 0.9992331862449646\n",
      "19696 18484 0.9730862748386014 0.973516583442688\n",
      "27559 25543 0.0 0.6666666865348816\n",
      "6563 16485 0.9917355371900827 0.9917355179786682\n",
      "9140 12109 0.998753738783649 0.9997509717941284\n",
      "21023 8288 0.9982653946227233 0.9991334676742554\n",
      "13331 13520 0.953421506612996 0.9534215331077576\n",
      "959 5996 0.8183900414937759 0.8190172910690308\n",
      "13160 10046 0.9985775248933144 0.9992892742156982\n",
      "19390 7099 0.9777948915415222 0.9784504771232605\n",
      "4849 18780 0.9878289649282016 0.9880450367927551\n",
      "6256 5722 0.9766108344650671 0.9772281646728516\n",
      "4115 23864 0.9990974729241877 0.999097466468811\n",
      "15971 4345 0.7842496528061433 0.7848452925682068\n",
      "7710 18226 0.9817347569046149 0.9822735786437988\n",
      "24641 23158 0.9977528089887641 0.9977527856826782\n",
      "14500 17387 0.6666666666666667 0.8571428656578064\n",
      "8264 25862 0.8682076066400504 0.8685404658317566\n",
      "2880 20180 0.9900052603892688 0.9901823401451111\n",
      "9357 5739 0.9992292128336063 0.9993256330490112\n",
      "15487 6506 0.9813068651778329 0.9819805026054382\n",
      "25110 26197 0.986505885730692 0.9866513609886169\n",
      "6957 23209 0.9647343919392896 0.9651963114738464\n",
      "11273 15367 0.9601990049751243 0.9607160687446594\n",
      "23207 15214 0.9971879731775903 0.9974048733711243\n",
      "19913 7299 0.9956245027844073 0.9957576394081116\n",
      "13882 8018 0.9410309278350515 0.9414674639701843\n",
      "4670 18616 0.9953201446500745 0.9953201413154602\n",
      "20301 14677 0.9987878787878788 0.9987878799438477\n",
      "3081 6895 0.901854587231249 0.9023950099945068\n",
      "4920 26602 0.9484422621063325 0.949065089225769\n",
      "18927 480 0.9685362517099864 0.9685362577438354\n",
      "9934 21519 0.963439404197698 0.9639070630073547\n",
      "6895 18215 0.9811851211072664 0.9815155267715454\n",
      "23426 11270 0.9987915407854985 0.9993961453437805\n",
      "11751 23856 0.9998501648186995 0.9998501539230347\n",
      "4840 16696 0.9824622451110029 0.9826746582984924\n",
      "1314 16901 0.980844856019282 0.9808448553085327\n",
      "18585 2126 0.9907834101382489 0.9907833933830261\n",
      "6620 13588 0.9905202821869489 0.9905202984809875\n",
      "3073 17394 0.982088689874332 0.9825295805931091\n",
      "13147 4620 0.9989975272338435 0.9992650747299194\n",
      "478 2695 0.9988170347003155 0.9996060132980347\n",
      "7291 15127 0.9293143943630466 0.9301519989967346\n",
      "6235 14387 0.6666666666666667 0.6666666865348816\n",
      "9277 6726 0.9925373134328358 0.9936102032661438\n",
      "7768 26858 0.7699081163859112 0.7703788876533508\n",
      "13380 18043 0.7048403193612774 0.7050557136535645\n",
      "8538 12440 0.9988021082894106 0.9990419149398804\n",
      "23815 18698 0.9983093829247676 0.9991554021835327\n",
      "4002 18600 0.606728866270851 0.607909619808197\n",
      "234 7267 0.9786193859591943 0.9790852069854736\n",
      "25365 11961 0.9153028997990238 0.916236400604248\n",
      "16414 7407 0.9995996263178967 0.9998666048049927\n",
      "13588 20514 0.9262206148282097 0.9266088008880615\n",
      "5996 17888 0.9991639871382637 0.9993570446968079\n",
      "2501 23083 0.9916861143523921 0.9918331503868103\n",
      "11759 1221 0.9766686355581807 0.9778761267662048\n",
      "21369 2047 0.9980109398309299 0.9983844757080078\n",
      "7202 6625 0.9977950904012935 0.9982368350028992\n",
      "8429 9403 0.994714926329276 0.9948759078979492\n",
      "11156 6121 0.9987950194135761 0.9993309378623962\n",
      "2909 22030 0.979185119574845 0.9805395603179932\n",
      "10583 19508 0.9993062781824489 0.9996532797813416\n",
      "12336 5620 0.9963533225283631 0.996759831905365\n",
      "12927 2575 0.9845391029975209 0.9854080080986023\n",
      "26632 18543 0.9874776386404294 0.9874776601791382\n",
      "3692 20142 0.9714285714285714 0.9714285731315613\n",
      "18590 4887 0.9668094218415417 0.9676546454429626\n",
      "21010 19436 0.993103448275862 0.9931034445762634\n"
     ]
    }
   ],
   "source": [
    "for _ in range(100):\n",
    "    (a, b) = random.choices(apks, k=2)\n",
    "    d = distance(a, b)\n",
    "    d2 = tc_dist(a, b, similars)\n",
    "    if any(d2):\n",
    "        if d!=(1-d2[0]):\n",
    "            print(a,b, d, (1-d2[0]))"
   ]
  },
  {
   "cell_type": "code",
   "execution_count": 104,
   "id": "impaired-stock",
   "metadata": {},
   "outputs": [],
   "source": [
    "pairs = list()\n",
    "for _ in range(1000):\n",
    "    (a, b) = random.choices(apks, k=2)\n",
    "    pairs.append((a,b))"
   ]
  },
  {
   "cell_type": "code",
   "execution_count": 105,
   "id": "hindu-wealth",
   "metadata": {},
   "outputs": [],
   "source": [
    "st, en = list(zip(*pairs))"
   ]
  },
  {
   "cell_type": "code",
   "execution_count": 106,
   "id": "thick-cleaners",
   "metadata": {},
   "outputs": [],
   "source": [
    "similars = sim_recom.get_similar_items(list(en), k=k)"
   ]
  },
  {
   "cell_type": "code",
   "execution_count": 107,
   "id": "broadband-favor",
   "metadata": {},
   "outputs": [],
   "source": [
    "dsts = list()\n",
    "for (a,b) in pairs:\n",
    "    dis = similars[(similars['apk']==b)&(similars['similar']==a)]\n",
    "    d = distance(a, b)\n",
    "    if any(dis):\n",
    "        dsts.append((a,b, 1-dis[0]['score'],d, dis[0]['rank']))"
   ]
  },
  {
   "cell_type": "code",
   "execution_count": 108,
   "id": "liked-candy",
   "metadata": {},
   "outputs": [],
   "source": [
    "df = pd.DataFrame(dsts, columns=['a', 'b', 'dist_tc', 'dist_pd', 'rank'])"
   ]
  },
  {
   "cell_type": "code",
   "execution_count": 109,
   "id": "tired-salvation",
   "metadata": {},
   "outputs": [
    {
     "data": {
      "text/html": [
       "<div>\n",
       "<style scoped>\n",
       "    .dataframe tbody tr th:only-of-type {\n",
       "        vertical-align: middle;\n",
       "    }\n",
       "\n",
       "    .dataframe tbody tr th {\n",
       "        vertical-align: top;\n",
       "    }\n",
       "\n",
       "    .dataframe thead th {\n",
       "        text-align: right;\n",
       "    }\n",
       "</style>\n",
       "<table border=\"1\" class=\"dataframe\">\n",
       "  <thead>\n",
       "    <tr style=\"text-align: right;\">\n",
       "      <th></th>\n",
       "      <th>a</th>\n",
       "      <th>b</th>\n",
       "      <th>dist_tc</th>\n",
       "      <th>dist_pd</th>\n",
       "      <th>rank</th>\n",
       "    </tr>\n",
       "  </thead>\n",
       "  <tbody>\n",
       "    <tr>\n",
       "      <th>0</th>\n",
       "      <td>18980</td>\n",
       "      <td>21351</td>\n",
       "      <td>0.763442</td>\n",
       "      <td>0.763094</td>\n",
       "      <td>1428</td>\n",
       "    </tr>\n",
       "    <tr>\n",
       "      <th>1</th>\n",
       "      <td>13746</td>\n",
       "      <td>4893</td>\n",
       "      <td>0.995302</td>\n",
       "      <td>0.995187</td>\n",
       "      <td>4829</td>\n",
       "    </tr>\n",
       "    <tr>\n",
       "      <th>2</th>\n",
       "      <td>1746</td>\n",
       "      <td>20603</td>\n",
       "      <td>0.999473</td>\n",
       "      <td>0.999341</td>\n",
       "      <td>6935</td>\n",
       "    </tr>\n",
       "    <tr>\n",
       "      <th>3</th>\n",
       "      <td>8364</td>\n",
       "      <td>2620</td>\n",
       "      <td>0.999741</td>\n",
       "      <td>0.999483</td>\n",
       "      <td>5176</td>\n",
       "    </tr>\n",
       "    <tr>\n",
       "      <th>4</th>\n",
       "      <td>26009</td>\n",
       "      <td>15227</td>\n",
       "      <td>0.998024</td>\n",
       "      <td>0.997694</td>\n",
       "      <td>6943</td>\n",
       "    </tr>\n",
       "    <tr>\n",
       "      <th>...</th>\n",
       "      <td>...</td>\n",
       "      <td>...</td>\n",
       "      <td>...</td>\n",
       "      <td>...</td>\n",
       "      <td>...</td>\n",
       "    </tr>\n",
       "    <tr>\n",
       "      <th>700</th>\n",
       "      <td>27069</td>\n",
       "      <td>27490</td>\n",
       "      <td>0.992806</td>\n",
       "      <td>0.992806</td>\n",
       "      <td>1904</td>\n",
       "    </tr>\n",
       "    <tr>\n",
       "      <th>701</th>\n",
       "      <td>3352</td>\n",
       "      <td>19597</td>\n",
       "      <td>0.998598</td>\n",
       "      <td>0.997895</td>\n",
       "      <td>3344</td>\n",
       "    </tr>\n",
       "    <tr>\n",
       "      <th>702</th>\n",
       "      <td>8380</td>\n",
       "      <td>11665</td>\n",
       "      <td>0.998807</td>\n",
       "      <td>0.998541</td>\n",
       "      <td>6505</td>\n",
       "    </tr>\n",
       "    <tr>\n",
       "      <th>703</th>\n",
       "      <td>23621</td>\n",
       "      <td>7336</td>\n",
       "      <td>0.000000</td>\n",
       "      <td>0.000000</td>\n",
       "      <td>97</td>\n",
       "    </tr>\n",
       "    <tr>\n",
       "      <th>704</th>\n",
       "      <td>4182</td>\n",
       "      <td>24138</td>\n",
       "      <td>0.989432</td>\n",
       "      <td>0.989194</td>\n",
       "      <td>1558</td>\n",
       "    </tr>\n",
       "  </tbody>\n",
       "</table>\n",
       "<p>705 rows × 5 columns</p>\n",
       "</div>"
      ],
      "text/plain": [
       "         a      b   dist_tc   dist_pd  rank\n",
       "0    18980  21351  0.763442  0.763094  1428\n",
       "1    13746   4893  0.995302  0.995187  4829\n",
       "2     1746  20603  0.999473  0.999341  6935\n",
       "3     8364   2620  0.999741  0.999483  5176\n",
       "4    26009  15227  0.998024  0.997694  6943\n",
       "..     ...    ...       ...       ...   ...\n",
       "700  27069  27490  0.992806  0.992806  1904\n",
       "701   3352  19597  0.998598  0.997895  3344\n",
       "702   8380  11665  0.998807  0.998541  6505\n",
       "703  23621   7336  0.000000  0.000000    97\n",
       "704   4182  24138  0.989432  0.989194  1558\n",
       "\n",
       "[705 rows x 5 columns]"
      ]
     },
     "execution_count": 109,
     "metadata": {},
     "output_type": "execute_result"
    }
   ],
   "source": [
    "df"
   ]
  },
  {
   "cell_type": "code",
   "execution_count": 110,
   "id": "specific-consequence",
   "metadata": {},
   "outputs": [],
   "source": [
    "df['err'] = df.apply(lambda x: (x[3] - x[2])**2, axis=1)"
   ]
  },
  {
   "cell_type": "code",
   "execution_count": 111,
   "id": "painted-tragedy",
   "metadata": {},
   "outputs": [
    {
     "data": {
      "text/html": [
       "<div>\n",
       "<style scoped>\n",
       "    .dataframe tbody tr th:only-of-type {\n",
       "        vertical-align: middle;\n",
       "    }\n",
       "\n",
       "    .dataframe tbody tr th {\n",
       "        vertical-align: top;\n",
       "    }\n",
       "\n",
       "    .dataframe thead th {\n",
       "        text-align: right;\n",
       "    }\n",
       "</style>\n",
       "<table border=\"1\" class=\"dataframe\">\n",
       "  <thead>\n",
       "    <tr style=\"text-align: right;\">\n",
       "      <th></th>\n",
       "      <th>a</th>\n",
       "      <th>b</th>\n",
       "      <th>dist_tc</th>\n",
       "      <th>dist_pd</th>\n",
       "      <th>rank</th>\n",
       "      <th>err</th>\n",
       "    </tr>\n",
       "  </thead>\n",
       "  <tbody>\n",
       "    <tr>\n",
       "      <th>267</th>\n",
       "      <td>27580</td>\n",
       "      <td>14066</td>\n",
       "      <td>0.000000</td>\n",
       "      <td>0.0000</td>\n",
       "      <td>444</td>\n",
       "      <td>0.000000</td>\n",
       "    </tr>\n",
       "    <tr>\n",
       "      <th>603</th>\n",
       "      <td>8774</td>\n",
       "      <td>4199</td>\n",
       "      <td>0.937500</td>\n",
       "      <td>0.9375</td>\n",
       "      <td>2371</td>\n",
       "      <td>0.000000</td>\n",
       "    </tr>\n",
       "    <tr>\n",
       "      <th>32</th>\n",
       "      <td>25154</td>\n",
       "      <td>20942</td>\n",
       "      <td>0.000000</td>\n",
       "      <td>0.0000</td>\n",
       "      <td>482</td>\n",
       "      <td>0.000000</td>\n",
       "    </tr>\n",
       "    <tr>\n",
       "      <th>376</th>\n",
       "      <td>15893</td>\n",
       "      <td>22888</td>\n",
       "      <td>0.500000</td>\n",
       "      <td>0.5000</td>\n",
       "      <td>474</td>\n",
       "      <td>0.000000</td>\n",
       "    </tr>\n",
       "    <tr>\n",
       "      <th>36</th>\n",
       "      <td>22113</td>\n",
       "      <td>881</td>\n",
       "      <td>0.000000</td>\n",
       "      <td>0.0000</td>\n",
       "      <td>427</td>\n",
       "      <td>0.000000</td>\n",
       "    </tr>\n",
       "    <tr>\n",
       "      <th>...</th>\n",
       "      <td>...</td>\n",
       "      <td>...</td>\n",
       "      <td>...</td>\n",
       "      <td>...</td>\n",
       "      <td>...</td>\n",
       "      <td>...</td>\n",
       "    </tr>\n",
       "    <tr>\n",
       "      <th>258</th>\n",
       "      <td>21449</td>\n",
       "      <td>13225</td>\n",
       "      <td>0.666667</td>\n",
       "      <td>0.0000</td>\n",
       "      <td>738</td>\n",
       "      <td>0.444444</td>\n",
       "    </tr>\n",
       "    <tr>\n",
       "      <th>432</th>\n",
       "      <td>26148</td>\n",
       "      <td>25105</td>\n",
       "      <td>0.666667</td>\n",
       "      <td>0.0000</td>\n",
       "      <td>873</td>\n",
       "      <td>0.444444</td>\n",
       "    </tr>\n",
       "    <tr>\n",
       "      <th>606</th>\n",
       "      <td>4524</td>\n",
       "      <td>8569</td>\n",
       "      <td>0.666667</td>\n",
       "      <td>0.0000</td>\n",
       "      <td>1469</td>\n",
       "      <td>0.444444</td>\n",
       "    </tr>\n",
       "    <tr>\n",
       "      <th>637</th>\n",
       "      <td>6027</td>\n",
       "      <td>3310</td>\n",
       "      <td>0.666667</td>\n",
       "      <td>0.0000</td>\n",
       "      <td>1339</td>\n",
       "      <td>0.444444</td>\n",
       "    </tr>\n",
       "    <tr>\n",
       "      <th>546</th>\n",
       "      <td>21298</td>\n",
       "      <td>3701</td>\n",
       "      <td>0.666667</td>\n",
       "      <td>0.0000</td>\n",
       "      <td>1015</td>\n",
       "      <td>0.444444</td>\n",
       "    </tr>\n",
       "  </tbody>\n",
       "</table>\n",
       "<p>705 rows × 6 columns</p>\n",
       "</div>"
      ],
      "text/plain": [
       "         a      b   dist_tc  dist_pd  rank       err\n",
       "267  27580  14066  0.000000   0.0000   444  0.000000\n",
       "603   8774   4199  0.937500   0.9375  2371  0.000000\n",
       "32   25154  20942  0.000000   0.0000   482  0.000000\n",
       "376  15893  22888  0.500000   0.5000   474  0.000000\n",
       "36   22113    881  0.000000   0.0000   427  0.000000\n",
       "..     ...    ...       ...      ...   ...       ...\n",
       "258  21449  13225  0.666667   0.0000   738  0.444444\n",
       "432  26148  25105  0.666667   0.0000   873  0.444444\n",
       "606   4524   8569  0.666667   0.0000  1469  0.444444\n",
       "637   6027   3310  0.666667   0.0000  1339  0.444444\n",
       "546  21298   3701  0.666667   0.0000  1015  0.444444\n",
       "\n",
       "[705 rows x 6 columns]"
      ]
     },
     "execution_count": 111,
     "metadata": {},
     "output_type": "execute_result"
    }
   ],
   "source": [
    "df.sort_values(by='err')"
   ]
  },
  {
   "cell_type": "code",
   "execution_count": null,
   "id": "operational-classroom",
   "metadata": {},
   "outputs": [],
   "source": []
  }
 ],
 "metadata": {
  "kernelspec": {
   "display_name": "Python 3",
   "language": "python",
   "name": "python3"
  },
  "language_info": {
   "codemirror_mode": {
    "name": "ipython",
    "version": 3
   },
   "file_extension": ".py",
   "mimetype": "text/x-python",
   "name": "python",
   "nbconvert_exporter": "python",
   "pygments_lexer": "ipython3",
   "version": "3.8.5"
  }
 },
 "nbformat": 4,
 "nbformat_minor": 5
}
