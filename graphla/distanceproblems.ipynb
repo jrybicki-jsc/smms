{
 "cells": [
  {
   "cell_type": "code",
   "execution_count": 1,
   "id": "progressive-aruba",
   "metadata": {},
   "outputs": [],
   "source": [
    "import turicreate as tc\n",
    "import pandas as pd\n",
    "import numpy as np"
   ]
  },
  {
   "cell_type": "code",
   "execution_count": 2,
   "id": "municipal-danish",
   "metadata": {},
   "outputs": [
    {
     "data": {
      "text/html": [
       "<div style=\"max-height:1000px;max-width:1500px;overflow:auto;\"><table frame=\"box\" rules=\"cols\">\n",
       "    <tr>\n",
       "        <th style=\"padding-left: 1em; padding-right: 1em; text-align: center\">apk</th>\n",
       "        <th style=\"padding-left: 1em; padding-right: 1em; text-align: center\">function</th>\n",
       "    </tr>\n",
       "    <tr>\n",
       "        <td style=\"padding-left: 1em; padding-right: 1em; text-align: center; vertical-align: top\">5868</td>\n",
       "        <td style=\"padding-left: 1em; padding-right: 1em; text-align: center; vertical-align: top\">124151</td>\n",
       "    </tr>\n",
       "    <tr>\n",
       "        <td style=\"padding-left: 1em; padding-right: 1em; text-align: center; vertical-align: top\">38</td>\n",
       "        <td style=\"padding-left: 1em; padding-right: 1em; text-align: center; vertical-align: top\">205926</td>\n",
       "    </tr>\n",
       "    <tr>\n",
       "        <td style=\"padding-left: 1em; padding-right: 1em; text-align: center; vertical-align: top\">3965</td>\n",
       "        <td style=\"padding-left: 1em; padding-right: 1em; text-align: center; vertical-align: top\">412019</td>\n",
       "    </tr>\n",
       "    <tr>\n",
       "        <td style=\"padding-left: 1em; padding-right: 1em; text-align: center; vertical-align: top\">4227</td>\n",
       "        <td style=\"padding-left: 1em; padding-right: 1em; text-align: center; vertical-align: top\">455698</td>\n",
       "    </tr>\n",
       "    <tr>\n",
       "        <td style=\"padding-left: 1em; padding-right: 1em; text-align: center; vertical-align: top\">8365</td>\n",
       "        <td style=\"padding-left: 1em; padding-right: 1em; text-align: center; vertical-align: top\">89728</td>\n",
       "    </tr>\n",
       "    <tr>\n",
       "        <td style=\"padding-left: 1em; padding-right: 1em; text-align: center; vertical-align: top\">16611</td>\n",
       "        <td style=\"padding-left: 1em; padding-right: 1em; text-align: center; vertical-align: top\">673605</td>\n",
       "    </tr>\n",
       "    <tr>\n",
       "        <td style=\"padding-left: 1em; padding-right: 1em; text-align: center; vertical-align: top\">17213</td>\n",
       "        <td style=\"padding-left: 1em; padding-right: 1em; text-align: center; vertical-align: top\">507119</td>\n",
       "    </tr>\n",
       "    <tr>\n",
       "        <td style=\"padding-left: 1em; padding-right: 1em; text-align: center; vertical-align: top\">33</td>\n",
       "        <td style=\"padding-left: 1em; padding-right: 1em; text-align: center; vertical-align: top\">204076</td>\n",
       "    </tr>\n",
       "    <tr>\n",
       "        <td style=\"padding-left: 1em; padding-right: 1em; text-align: center; vertical-align: top\">497</td>\n",
       "        <td style=\"padding-left: 1em; padding-right: 1em; text-align: center; vertical-align: top\">342467</td>\n",
       "    </tr>\n",
       "    <tr>\n",
       "        <td style=\"padding-left: 1em; padding-right: 1em; text-align: center; vertical-align: top\">8526</td>\n",
       "        <td style=\"padding-left: 1em; padding-right: 1em; text-align: center; vertical-align: top\">204076</td>\n",
       "    </tr>\n",
       "</table>\n",
       "[35170194 rows x 2 columns]<br/>Note: Only the head of the SFrame is printed.<br/>You can use print_rows(num_rows=m, num_columns=n) to print more rows and columns.\n",
       "</div>"
      ],
      "text/plain": [
       "Columns:\n",
       "\tapk\tint\n",
       "\tfunction\tint\n",
       "\n",
       "Rows: 35170194\n",
       "\n",
       "Data:\n",
       "+-------+----------+\n",
       "|  apk  | function |\n",
       "+-------+----------+\n",
       "|  5868 |  124151  |\n",
       "|   38  |  205926  |\n",
       "|  3965 |  412019  |\n",
       "|  4227 |  455698  |\n",
       "|  8365 |  89728   |\n",
       "| 16611 |  673605  |\n",
       "| 17213 |  507119  |\n",
       "|   33  |  204076  |\n",
       "|  497  |  342467  |\n",
       "|  8526 |  204076  |\n",
       "+-------+----------+\n",
       "[35170194 rows x 2 columns]\n",
       "Note: Only the head of the SFrame is printed.\n",
       "You can use print_rows(num_rows=m, num_columns=n) to print more rows and columns."
      ]
     },
     "execution_count": 2,
     "metadata": {},
     "output_type": "execute_result"
    }
   ],
   "source": [
    "mw = tc.load_sframe('../binarydata/funcs-encoded')\n",
    "mw.remove_column('fcount', inplace=True)"
   ]
  },
  {
   "cell_type": "code",
   "execution_count": 3,
   "id": "senior-paste",
   "metadata": {},
   "outputs": [],
   "source": [
    "apks = mw['apk'].unique()\n",
    "k = apks.shape[0]"
   ]
  },
  {
   "cell_type": "code",
   "execution_count": 6,
   "id": "infrared-adrian",
   "metadata": {},
   "outputs": [],
   "source": [
    "sim_recom = tc.item_similarity_recommender.create(mw, user_id='function', item_id='apk', similarity_type='jaccard', \n",
    "                                                  only_top_k=k, threshold=0.0, verbose=False)"
   ]
  },
  {
   "cell_type": "code",
   "execution_count": 7,
   "id": "brown-final",
   "metadata": {},
   "outputs": [],
   "source": [
    "items = sim_recom.get_similar_items(apks, k=k)"
   ]
  },
  {
   "cell_type": "code",
   "execution_count": 8,
   "id": "foreign-placement",
   "metadata": {},
   "outputs": [],
   "source": []
  },
  {
   "cell_type": "code",
   "execution_count": 9,
   "id": "acquired-gather",
   "metadata": {},
   "outputs": [],
   "source": [
    "def d(a, b, items):\n",
    "    return items[(items['apk']==a)&(items['similar']==b)]"
   ]
  },
  {
   "cell_type": "code",
   "execution_count": 10,
   "id": "domestic-invention",
   "metadata": {},
   "outputs": [
    {
     "data": {
      "text/html": [
       "<div style=\"max-height:1000px;max-width:1500px;overflow:auto;\"><table frame=\"box\" rules=\"cols\">\n",
       "    <tr>\n",
       "        <th style=\"padding-left: 1em; padding-right: 1em; text-align: center\">apk</th>\n",
       "        <th style=\"padding-left: 1em; padding-right: 1em; text-align: center\">similar</th>\n",
       "        <th style=\"padding-left: 1em; padding-right: 1em; text-align: center\">score</th>\n",
       "        <th style=\"padding-left: 1em; padding-right: 1em; text-align: center\">rank</th>\n",
       "    </tr>\n",
       "    <tr>\n",
       "        <td style=\"padding-left: 1em; padding-right: 1em; text-align: center; vertical-align: top\">8200</td>\n",
       "        <td style=\"padding-left: 1em; padding-right: 1em; text-align: center; vertical-align: top\">11365</td>\n",
       "        <td style=\"padding-left: 1em; padding-right: 1em; text-align: center; vertical-align: top\">0.1666666865348816</td>\n",
       "        <td style=\"padding-left: 1em; padding-right: 1em; text-align: center; vertical-align: top\">1831</td>\n",
       "    </tr>\n",
       "</table>\n",
       "[? rows x 4 columns]<br/>Note: Only the head of the SFrame is printed. This SFrame is lazily evaluated.<br/>You can use sf.materialize() to force materialization.\n",
       "</div>"
      ],
      "text/plain": [
       "Columns:\n",
       "\tapk\tint\n",
       "\tsimilar\tint\n",
       "\tscore\tfloat\n",
       "\trank\tint\n",
       "\n",
       "Rows: Unknown\n",
       "\n",
       "Data:\n",
       "+------+---------+--------------------+------+\n",
       "| apk  | similar |       score        | rank |\n",
       "+------+---------+--------------------+------+\n",
       "| 8200 |  11365  | 0.1666666865348816 | 1831 |\n",
       "+------+---------+--------------------+------+\n",
       "[? rows x 4 columns]\n",
       "Note: Only the head of the SFrame is printed. This SFrame is lazily evaluated.\n",
       "You can use sf.materialize() to force materialization."
      ]
     },
     "execution_count": 10,
     "metadata": {},
     "output_type": "execute_result"
    }
   ],
   "source": [
    "# distance between a and b a as calculated by turi:\n",
    "a = 8200\n",
    "b = 11365\n",
    "d(a, b, items)"
   ]
  },
  {
   "cell_type": "code",
   "execution_count": 12,
   "id": "communist-ireland",
   "metadata": {},
   "outputs": [],
   "source": [
    "# manually calculated distance\n",
    "a_funcs = set(rel[rel['apk']==a]['function'])\n",
    "b_funcs = set(rel[rel['apk']==b]['function'])"
   ]
  },
  {
   "cell_type": "code",
   "execution_count": 13,
   "id": "related-frost",
   "metadata": {},
   "outputs": [
    {
     "data": {
      "text/plain": [
       "({101925, 178583}, {65996, 101925, 178583, 207973, 342566})"
      ]
     },
     "execution_count": 13,
     "metadata": {},
     "output_type": "execute_result"
    }
   ],
   "source": [
    "a_funcs, b_funcs"
   ]
  },
  {
   "cell_type": "code",
   "execution_count": 14,
   "id": "civil-fleece",
   "metadata": {},
   "outputs": [
    {
     "data": {
      "text/plain": [
       "0.4"
      ]
     },
     "execution_count": 14,
     "metadata": {},
     "output_type": "execute_result"
    }
   ],
   "source": [
    "len(a_funcs.intersection(b_funcs))/len(a_funcs.union(b_funcs))"
   ]
  },
  {
   "cell_type": "code",
   "execution_count": 15,
   "id": "palestinian-couple",
   "metadata": {},
   "outputs": [
    {
     "data": {
      "text/html": [
       "<div style=\"max-height:1000px;max-width:1500px;overflow:auto;\"><table frame=\"box\" rules=\"cols\">\n",
       "    <tr>\n",
       "        <th style=\"padding-left: 1em; padding-right: 1em; text-align: center\">apk</th>\n",
       "        <th style=\"padding-left: 1em; padding-right: 1em; text-align: center\">similar</th>\n",
       "        <th style=\"padding-left: 1em; padding-right: 1em; text-align: center\">score</th>\n",
       "        <th style=\"padding-left: 1em; padding-right: 1em; text-align: center\">rank</th>\n",
       "    </tr>\n",
       "    <tr>\n",
       "        <td style=\"padding-left: 1em; padding-right: 1em; text-align: center; vertical-align: top\">8200</td>\n",
       "        <td style=\"padding-left: 1em; padding-right: 1em; text-align: center; vertical-align: top\">11365</td>\n",
       "        <td style=\"padding-left: 1em; padding-right: 1em; text-align: center; vertical-align: top\">0.1666666865348816</td>\n",
       "        <td style=\"padding-left: 1em; padding-right: 1em; text-align: center; vertical-align: top\">1831</td>\n",
       "    </tr>\n",
       "</table>\n",
       "[? rows x 4 columns]<br/>Note: Only the head of the SFrame is printed. This SFrame is lazily evaluated.<br/>You can use sf.materialize() to force materialization.\n",
       "</div>"
      ],
      "text/plain": [
       "Columns:\n",
       "\tapk\tint\n",
       "\tsimilar\tint\n",
       "\tscore\tfloat\n",
       "\trank\tint\n",
       "\n",
       "Rows: Unknown\n",
       "\n",
       "Data:\n",
       "+------+---------+--------------------+------+\n",
       "| apk  | similar |       score        | rank |\n",
       "+------+---------+--------------------+------+\n",
       "| 8200 |  11365  | 0.1666666865348816 | 1831 |\n",
       "+------+---------+--------------------+------+\n",
       "[? rows x 4 columns]\n",
       "Note: Only the head of the SFrame is printed. This SFrame is lazily evaluated.\n",
       "You can use sf.materialize() to force materialization."
      ]
     },
     "execution_count": 15,
     "metadata": {},
     "output_type": "execute_result"
    }
   ],
   "source": [
    "# does not help to calculate similarity only to one apk\n",
    "i8 = sim_recom.get_similar_items([8200], k=k)\n",
    "i8[i8['similar']==b]"
   ]
  },
  {
   "cell_type": "code",
   "execution_count": 39,
   "id": "cleared-alloy",
   "metadata": {},
   "outputs": [
    {
     "data": {
      "text/html": [
       "<div style=\"max-height:1000px;max-width:1500px;overflow:auto;\"><table frame=\"box\" rules=\"cols\">\n",
       "    <tr>\n",
       "        <th style=\"padding-left: 1em; padding-right: 1em; text-align: center\">apk</th>\n",
       "        <th style=\"padding-left: 1em; padding-right: 1em; text-align: center\">similar</th>\n",
       "        <th style=\"padding-left: 1em; padding-right: 1em; text-align: center\">score</th>\n",
       "        <th style=\"padding-left: 1em; padding-right: 1em; text-align: center\">rank</th>\n",
       "    </tr>\n",
       "    <tr>\n",
       "        <td style=\"padding-left: 1em; padding-right: 1em; text-align: center; vertical-align: top\">8200</td>\n",
       "        <td style=\"padding-left: 1em; padding-right: 1em; text-align: center; vertical-align: top\">11365</td>\n",
       "        <td style=\"padding-left: 1em; padding-right: 1em; text-align: center; vertical-align: top\">0.1666666865348816</td>\n",
       "        <td style=\"padding-left: 1em; padding-right: 1em; text-align: center; vertical-align: top\">1835</td>\n",
       "    </tr>\n",
       "</table>\n",
       "[? rows x 4 columns]<br/>Note: Only the head of the SFrame is printed. This SFrame is lazily evaluated.<br/>You can use sf.materialize() to force materialization.\n",
       "</div>"
      ],
      "text/plain": [
       "Columns:\n",
       "\tapk\tint\n",
       "\tsimilar\tint\n",
       "\tscore\tfloat\n",
       "\trank\tint\n",
       "\n",
       "Rows: Unknown\n",
       "\n",
       "Data:\n",
       "+------+---------+--------------------+------+\n",
       "| apk  | similar |       score        | rank |\n",
       "+------+---------+--------------------+------+\n",
       "| 8200 |  11365  | 0.1666666865348816 | 1835 |\n",
       "+------+---------+--------------------+------+\n",
       "[? rows x 4 columns]\n",
       "Note: Only the head of the SFrame is printed. This SFrame is lazily evaluated.\n",
       "You can use sf.materialize() to force materialization."
      ]
     },
     "execution_count": 39,
     "metadata": {},
     "output_type": "execute_result"
    }
   ],
   "source": [
    "# playing with some parameters: no fixes found? \n",
    "#seed_item_set_size = 0 \n",
    "#nearest_neighbors_interaction_proportion_threshold = 0.9\n",
    "#degree_approximation_threshold \n",
    "sim_recom = tc.item_similarity_recommender.create(mw, user_id='function', item_id='apk', similarity_type='jaccard', \n",
    "                                                  only_top_k=k,nearest_neighbors_interaction_proportion_threshold=1, threshold=0.0, verbose=False)\n",
    "it = sim_recom.get_similar_items([a], k=k)\n",
    "it[it['similar']==b]"
   ]
  },
  {
   "cell_type": "markdown",
   "id": "thirty-prior",
   "metadata": {},
   "source": [
    "## Distance error "
   ]
  },
  {
   "cell_type": "code",
   "execution_count": 112,
   "id": "living-emerald",
   "metadata": {},
   "outputs": [],
   "source": [
    "import random\n",
    "import matplotlib.pyplot as plt"
   ]
  },
  {
   "cell_type": "code",
   "execution_count": 4,
   "id": "fancy-jacksonville",
   "metadata": {},
   "outputs": [],
   "source": [
    "m = pd.read_csv('../data/joined.csv', index_col='apn')\n",
    "m['nf'] = m['nf'].apply(eval)"
   ]
  },
  {
   "cell_type": "code",
   "execution_count": 5,
   "id": "otherwise-parallel",
   "metadata": {},
   "outputs": [],
   "source": [
    "def jaccard(apid1: int, apid2: int, funcs) -> float:\n",
    "    p1 = funcs[apid1]\n",
    "    p2 = funcs[apid2]\n",
    "\n",
    "    return 1 - len(p1 & p2)/len(p1|p2)\n",
    "\n",
    "# good old panda based distance calculation:\n",
    "distance = lambda x,y: jaccard(x, y, m['nf'])"
   ]
  },
  {
   "cell_type": "code",
   "execution_count": 70,
   "id": "continental-hartford",
   "metadata": {},
   "outputs": [],
   "source": [
    "def get_similars(data, apks, degree_approximation_threshold = 4096):\n",
    "    k = apks.shape[0]\n",
    "    sim_recom = tc.item_similarity_recommender.create(data, \n",
    "                                                      user_id='function', \n",
    "                                                      item_id='apk', \n",
    "                                                      similarity_type='jaccard', \n",
    "                                                      only_top_k=k,\n",
    "                                                      degree_approximation_threshold = degree_approximation_threshold,\n",
    "                                                      threshold=0.0, verbose=False)\n",
    "    \n",
    "    return sim_recom.get_similar_items(apks, k=k)"
   ]
  },
  {
   "cell_type": "code",
   "execution_count": 30,
   "id": "entertaining-nurse",
   "metadata": {},
   "outputs": [],
   "source": [
    "def tc_dist(a, b, similars):\n",
    "    res = similars[(similars['apk']==a)&(similars['similar']==b)]['score']\n",
    "    return res"
   ]
  },
  {
   "cell_type": "code",
   "execution_count": 71,
   "id": "accompanied-georgia",
   "metadata": {},
   "outputs": [],
   "source": [
    "def get_pairs(n=1000):\n",
    "    pairs = list()\n",
    "    for _ in range(n):\n",
    "        (a, b) = random.choices(apks, k=2)\n",
    "        pairs.append((a,b))\n",
    "    return pairs"
   ]
  },
  {
   "cell_type": "code",
   "execution_count": 72,
   "id": "spatial-evolution",
   "metadata": {},
   "outputs": [],
   "source": [
    "def calculate_distances(pairs, similars):\n",
    "    dsts = list()\n",
    "    for (a,b) in pairs:\n",
    "        dis = similars[(similars['apk']==b)&(similars['similar']==a)]\n",
    "        d = distance(a, b)\n",
    "        if any(dis):\n",
    "            dsts.append((a,b, 1-dis[0]['score'],d, dis[0]['rank']))\n",
    "    return dsts"
   ]
  },
  {
   "cell_type": "code",
   "execution_count": 74,
   "id": "cardiovascular-victorian",
   "metadata": {},
   "outputs": [],
   "source": [
    "pairs = get_pairs()\n",
    "st, en = list(zip(*pairs))"
   ]
  },
  {
   "cell_type": "code",
   "execution_count": 75,
   "id": "accessory-equivalent",
   "metadata": {},
   "outputs": [],
   "source": [
    "similars = get_similars(data=mw, apks=apks, degree_approximation_threshold=4096)\n",
    "dsts = calculate_distances(pairs, similars)\n",
    "df = pd.DataFrame(dsts, columns=['a', 'b', 'dist_tc', 'dist_pd', 'rank'])\n",
    "df['err'] = df.apply(lambda x: (x[3] - x[2])**2, axis=1)\n",
    "\n",
    "similars = get_similars(data=mw, apks=apks, degree_approximation_threshold=5*4096)\n",
    "dsts2 = calculate_distances(pairs, similars)\n",
    "df2 = pd.DataFrame(dsts2, columns=['a', 'b', 'dist_tc', 'dist_pd', 'rank'])\n",
    "df2['err'] = df2.apply(lambda x: (x[3] - x[2])**2, axis=1)\n"
   ]
  },
  {
   "cell_type": "code",
   "execution_count": 76,
   "id": "informative-telephone",
   "metadata": {},
   "outputs": [],
   "source": [
    "errs = df.sort_values(by='err')['err']\n",
    "errs2 = df2.sort_values(by='err')['err']"
   ]
  },
  {
   "cell_type": "code",
   "execution_count": 81,
   "id": "bored-simple",
   "metadata": {},
   "outputs": [
    {
     "data": {
      "text/plain": [
       "<matplotlib.legend.Legend at 0x7facde356d30>"
      ]
     },
     "execution_count": 81,
     "metadata": {},
     "output_type": "execute_result"
    },
    {
     "data": {
      "image/png": "[encoded data removed]",
      "text/plain": [
       "<Figure size 432x288 with 1 Axes>"
      ]
     },
     "metadata": {
      "image/png": {
       "height": 263,
       "width": 385
      },
      "needs_background": "light"
     },
     "output_type": "display_data"
    }
   ],
   "source": [
    "plt.title('Error distribution for random apk pairs')\n",
    "plt.plot(range(0, len(errs)), errs, label='default thresh')\n",
    "plt.plot(range(0, len(errs2)), errs2, label='more thres')\n",
    "\n",
    "plt.ylabel('Error value');\n",
    "plt.legend()"
   ]
  },
  {
   "cell_type": "code",
   "execution_count": 82,
   "id": "applicable-sample",
   "metadata": {},
   "outputs": [],
   "source": [
    "df.to_csv('../res/distances-defaulttr.csv')\n",
    "df2.to_csv('../res/distances-multiplethre.csv')"
   ]
  },
  {
   "cell_type": "markdown",
   "id": "collected-jamaica",
   "metadata": {},
   "source": [
    "## what could be wrong?\n",
    "1. size of the data matters (larger is better?)\n",
    "1. correlation between rank and error?\n",
    "1. correlation between size of function set and error? "
   ]
  },
  {
   "cell_type": "code",
   "execution_count": 27,
   "id": "violent-housing",
   "metadata": {},
   "outputs": [],
   "source": [
    "def get_similars(data, apks, k=None):\n",
    "    if not k:\n",
    "        k = len(apks)\n",
    "        \n",
    "    sim_recom = tc.item_similarity_recommender.create(data, \n",
    "                                                  user_id='function', \n",
    "                                                  item_id='apk', \n",
    "                                                  similarity_type='jaccard', \n",
    "                                                  only_top_k=k,\n",
    "                                                  threshold=0.0, verbose=False)\n",
    "    return sim_recom.get_similar_items(apks, k=k)"
   ]
  },
  {
   "cell_type": "code",
   "execution_count": 39,
   "id": "close-california",
   "metadata": {},
   "outputs": [],
   "source": [
    "def get_tc(a, b, similars):\n",
    "    res = similars[(similars['apk']==a)&(similars['similar']==b)]\n",
    "    return res"
   ]
  },
  {
   "cell_type": "code",
   "execution_count": 53,
   "id": "fantastic-intake",
   "metadata": {},
   "outputs": [],
   "source": [
    "from collections import defaultdict"
   ]
  },
  {
   "cell_type": "code",
   "execution_count": 57,
   "id": "foreign-motivation",
   "metadata": {},
   "outputs": [],
   "source": [
    "distances = defaultdict(list)\n",
    "a = 8200\n",
    "b = 11365\n",
    "for r in range(3):\n",
    "    for size in [100, 200, 400, 1000,2000, 5000]:\n",
    "        sample = random.sample(list(apks), k=size)\n",
    "        sample.extend([a,b])\n",
    "\n",
    "        fu = mw.filter_by(values=sample, column_name='apk')\n",
    "        sims = get_similars(data=fu, apks=sample)\n",
    "\n",
    "        res = get_tc(a=a, b=b, similars=sims)\n",
    "        if any(res):\n",
    "            distances[size].extend([res[0]['score'], res[0]['rank'],fu.shape[0]])\n",
    "        \n"
   ]
  },
  {
   "cell_type": "code",
   "execution_count": 58,
   "id": "changed-economy",
   "metadata": {},
   "outputs": [
    {
     "data": {
      "text/plain": [
       "defaultdict(list,\n",
       "            {100: [0.3999999761581421,\n",
       "              17,\n",
       "              377038,\n",
       "              0.3999999761581421,\n",
       "              14,\n",
       "              399555,\n",
       "              0.3999999761581421,\n",
       "              30,\n",
       "              381147],\n",
       "             200: [0.3999999761581421,\n",
       "              44,\n",
       "              701794,\n",
       "              0.3999999761581421,\n",
       "              43,\n",
       "              653501,\n",
       "              0.3999999761581421,\n",
       "              49,\n",
       "              704987],\n",
       "             400: [0.3999999761581421,\n",
       "              81,\n",
       "              1308658,\n",
       "              0.3999999761581421,\n",
       "              78,\n",
       "              1380126,\n",
       "              0.3999999761581421,\n",
       "              79,\n",
       "              1325203],\n",
       "             1000: [0.3999999761581421,\n",
       "              178,\n",
       "              3167936,\n",
       "              0.3999999761581421,\n",
       "              162,\n",
       "              3785860,\n",
       "              0.3999999761581421,\n",
       "              169,\n",
       "              3610274],\n",
       "             2000: [0.3999999761581421,\n",
       "              356,\n",
       "              7472307,\n",
       "              0.3999999761581421,\n",
       "              341,\n",
       "              7381645,\n",
       "              0.3999999761581421,\n",
       "              360,\n",
       "              7231569],\n",
       "             5000: [0.1666666865348816,\n",
       "              1249,\n",
       "              18132449,\n",
       "              0.3999999761581421,\n",
       "              824,\n",
       "              17061487,\n",
       "              0.3999999761581421,\n",
       "              885,\n",
       "              17472204]})"
      ]
     },
     "execution_count": 58,
     "metadata": {},
     "output_type": "execute_result"
    }
   ],
   "source": [
    "distances"
   ]
  },
  {
   "cell_type": "code",
   "execution_count": 60,
   "id": "announced-liabilities",
   "metadata": {},
   "outputs": [
    {
     "data": {
      "text/html": [
       "<div>\n",
       "<style scoped>\n",
       "    .dataframe tbody tr th:only-of-type {\n",
       "        vertical-align: middle;\n",
       "    }\n",
       "\n",
       "    .dataframe tbody tr th {\n",
       "        vertical-align: top;\n",
       "    }\n",
       "\n",
       "    .dataframe thead th {\n",
       "        text-align: right;\n",
       "    }\n",
       "</style>\n",
       "<table border=\"1\" class=\"dataframe\">\n",
       "  <thead>\n",
       "    <tr style=\"text-align: right;\">\n",
       "      <th></th>\n",
       "      <th>0</th>\n",
       "      <th>1</th>\n",
       "      <th>2</th>\n",
       "      <th>3</th>\n",
       "      <th>4</th>\n",
       "      <th>5</th>\n",
       "      <th>6</th>\n",
       "      <th>7</th>\n",
       "      <th>8</th>\n",
       "    </tr>\n",
       "  </thead>\n",
       "  <tbody>\n",
       "    <tr>\n",
       "      <th>100</th>\n",
       "      <td>0.400000</td>\n",
       "      <td>17</td>\n",
       "      <td>377038</td>\n",
       "      <td>0.4</td>\n",
       "      <td>14</td>\n",
       "      <td>399555</td>\n",
       "      <td>0.4</td>\n",
       "      <td>30</td>\n",
       "      <td>381147</td>\n",
       "    </tr>\n",
       "    <tr>\n",
       "      <th>200</th>\n",
       "      <td>0.400000</td>\n",
       "      <td>44</td>\n",
       "      <td>701794</td>\n",
       "      <td>0.4</td>\n",
       "      <td>43</td>\n",
       "      <td>653501</td>\n",
       "      <td>0.4</td>\n",
       "      <td>49</td>\n",
       "      <td>704987</td>\n",
       "    </tr>\n",
       "    <tr>\n",
       "      <th>400</th>\n",
       "      <td>0.400000</td>\n",
       "      <td>81</td>\n",
       "      <td>1308658</td>\n",
       "      <td>0.4</td>\n",
       "      <td>78</td>\n",
       "      <td>1380126</td>\n",
       "      <td>0.4</td>\n",
       "      <td>79</td>\n",
       "      <td>1325203</td>\n",
       "    </tr>\n",
       "    <tr>\n",
       "      <th>1000</th>\n",
       "      <td>0.400000</td>\n",
       "      <td>178</td>\n",
       "      <td>3167936</td>\n",
       "      <td>0.4</td>\n",
       "      <td>162</td>\n",
       "      <td>3785860</td>\n",
       "      <td>0.4</td>\n",
       "      <td>169</td>\n",
       "      <td>3610274</td>\n",
       "    </tr>\n",
       "    <tr>\n",
       "      <th>2000</th>\n",
       "      <td>0.400000</td>\n",
       "      <td>356</td>\n",
       "      <td>7472307</td>\n",
       "      <td>0.4</td>\n",
       "      <td>341</td>\n",
       "      <td>7381645</td>\n",
       "      <td>0.4</td>\n",
       "      <td>360</td>\n",
       "      <td>7231569</td>\n",
       "    </tr>\n",
       "    <tr>\n",
       "      <th>5000</th>\n",
       "      <td>0.166667</td>\n",
       "      <td>1249</td>\n",
       "      <td>18132449</td>\n",
       "      <td>0.4</td>\n",
       "      <td>824</td>\n",
       "      <td>17061487</td>\n",
       "      <td>0.4</td>\n",
       "      <td>885</td>\n",
       "      <td>17472204</td>\n",
       "    </tr>\n",
       "  </tbody>\n",
       "</table>\n",
       "</div>"
      ],
      "text/plain": [
       "             0     1         2    3    4         5    6    7         8\n",
       "100   0.400000    17    377038  0.4   14    399555  0.4   30    381147\n",
       "200   0.400000    44    701794  0.4   43    653501  0.4   49    704987\n",
       "400   0.400000    81   1308658  0.4   78   1380126  0.4   79   1325203\n",
       "1000  0.400000   178   3167936  0.4  162   3785860  0.4  169   3610274\n",
       "2000  0.400000   356   7472307  0.4  341   7381645  0.4  360   7231569\n",
       "5000  0.166667  1249  18132449  0.4  824  17061487  0.4  885  17472204"
      ]
     },
     "execution_count": 60,
     "metadata": {},
     "output_type": "execute_result"
    }
   ],
   "source": [
    "pd.DataFrame.from_dict(distances, orient='index')"
   ]
  },
  {
   "cell_type": "code",
   "execution_count": null,
   "id": "compatible-allen",
   "metadata": {},
   "outputs": [],
   "source": []
  },
  {
   "cell_type": "code",
   "execution_count": null,
   "id": "certain-stupid",
   "metadata": {},
   "outputs": [],
   "source": []
  },
  {
   "cell_type": "code",
   "execution_count": null,
   "id": "bottom-hybrid",
   "metadata": {},
   "outputs": [],
   "source": []
  },
  {
   "cell_type": "code",
   "execution_count": null,
   "id": "handy-upset",
   "metadata": {},
   "outputs": [],
   "source": []
  },
  {
   "cell_type": "code",
   "execution_count": 63,
   "id": "located-fence",
   "metadata": {},
   "outputs": [
    {
     "data": {
      "text/html": [
       "<div style=\"max-height:1000px;max-width:1500px;overflow:auto;\"><table frame=\"box\" rules=\"cols\">\n",
       "    <tr>\n",
       "        <th style=\"padding-left: 1em; padding-right: 1em; text-align: center\">apk</th>\n",
       "        <th style=\"padding-left: 1em; padding-right: 1em; text-align: center\">similar</th>\n",
       "        <th style=\"padding-left: 1em; padding-right: 1em; text-align: center\">score</th>\n",
       "        <th style=\"padding-left: 1em; padding-right: 1em; text-align: center\">rank</th>\n",
       "    </tr>\n",
       "    <tr>\n",
       "        <td style=\"padding-left: 1em; padding-right: 1em; text-align: center; vertical-align: top\">8200</td>\n",
       "        <td style=\"padding-left: 1em; padding-right: 1em; text-align: center; vertical-align: top\">11365</td>\n",
       "        <td style=\"padding-left: 1em; padding-right: 1em; text-align: center; vertical-align: top\">0.3999999761581421</td>\n",
       "        <td style=\"padding-left: 1em; padding-right: 1em; text-align: center; vertical-align: top\">1671</td>\n",
       "    </tr>\n",
       "</table>\n",
       "[? rows x 4 columns]<br/>Note: Only the head of the SFrame is printed. This SFrame is lazily evaluated.<br/>You can use sf.materialize() to force materialization.\n",
       "</div>"
      ],
      "text/plain": [
       "Columns:\n",
       "\tapk\tint\n",
       "\tsimilar\tint\n",
       "\tscore\tfloat\n",
       "\trank\tint\n",
       "\n",
       "Rows: Unknown\n",
       "\n",
       "Data:\n",
       "+------+---------+--------------------+------+\n",
       "| apk  | similar |       score        | rank |\n",
       "+------+---------+--------------------+------+\n",
       "| 8200 |  11365  | 0.3999999761581421 | 1671 |\n",
       "+------+---------+--------------------+------+\n",
       "[? rows x 4 columns]\n",
       "Note: Only the head of the SFrame is printed. This SFrame is lazily evaluated.\n",
       "You can use sf.materialize() to force materialization."
      ]
     },
     "execution_count": 63,
     "metadata": {},
     "output_type": "execute_result"
    }
   ],
   "source": [
    "# playing with some parameters: no fixes found? \n",
    "#seed_item_set_size = 0 \n",
    "#nearest_neighbors_interaction_proportion_threshold = 0.9\n",
    "#degree_approximation_threshold \n",
    "#max_data_passes = (Default = 1024)\n",
    "#degree_approximation_threshold (Default = 4096) \n",
    "#\"Users with more than this many item interactions may be approximated. \"\n",
    "# -in our case users are functions\n",
    "sim_recom = tc.item_similarity_recommender.create(mw, user_id='function', \n",
    "                                                  item_id='apk', \n",
    "                                                  similarity_type='jaccard', \n",
    "                                                  only_top_k=k,\n",
    "                                                  nearest_neighbors_interaction_proportion_threshold=1, \n",
    "                                                  #max_data_passes = 5*1024,\n",
    "                                                  degree_approximation_threshold = 5 * 4096,\n",
    "                                                  threshold=0.0, verbose=False)\n",
    "it = sim_recom.get_similar_items(apks, k=k)\n",
    "it[it['similar']==b]"
   ]
  },
  {
   "cell_type": "code",
   "execution_count": 66,
   "id": "sweet-blood",
   "metadata": {},
   "outputs": [
    {
     "data": {
      "text/html": [
       "<div style=\"max-height:1000px;max-width:1500px;overflow:auto;\"><table frame=\"box\" rules=\"cols\">\n",
       "    <tr>\n",
       "        <th style=\"padding-left: 1em; padding-right: 1em; text-align: center\">apk</th>\n",
       "        <th style=\"padding-left: 1em; padding-right: 1em; text-align: center\">similar</th>\n",
       "        <th style=\"padding-left: 1em; padding-right: 1em; text-align: center\">score</th>\n",
       "        <th style=\"padding-left: 1em; padding-right: 1em; text-align: center\">rank</th>\n",
       "    </tr>\n",
       "    <tr>\n",
       "        <td style=\"padding-left: 1em; padding-right: 1em; text-align: center; vertical-align: top\">8200</td>\n",
       "        <td style=\"padding-left: 1em; padding-right: 1em; text-align: center; vertical-align: top\">11365</td>\n",
       "        <td style=\"padding-left: 1em; padding-right: 1em; text-align: center; vertical-align: top\">0.3999999761581421</td>\n",
       "        <td style=\"padding-left: 1em; padding-right: 1em; text-align: center; vertical-align: top\">1671</td>\n",
       "    </tr>\n",
       "</table>\n",
       "[? rows x 4 columns]<br/>Note: Only the head of the SFrame is printed. This SFrame is lazily evaluated.<br/>You can use sf.materialize() to force materialization.\n",
       "</div>"
      ],
      "text/plain": [
       "Columns:\n",
       "\tapk\tint\n",
       "\tsimilar\tint\n",
       "\tscore\tfloat\n",
       "\trank\tint\n",
       "\n",
       "Rows: Unknown\n",
       "\n",
       "Data:\n",
       "+------+---------+--------------------+------+\n",
       "| apk  | similar |       score        | rank |\n",
       "+------+---------+--------------------+------+\n",
       "| 8200 |  11365  | 0.3999999761581421 | 1671 |\n",
       "+------+---------+--------------------+------+\n",
       "[? rows x 4 columns]\n",
       "Note: Only the head of the SFrame is printed. This SFrame is lazily evaluated.\n",
       "You can use sf.materialize() to force materialization."
      ]
     },
     "execution_count": 66,
     "metadata": {},
     "output_type": "execute_result"
    }
   ],
   "source": [
    "it = sim_recom.get_similar_items(apks, k=k)\n",
    "it[(it['similar']==b)&(it['apk']==a)]"
   ]
  },
  {
   "cell_type": "code",
   "execution_count": null,
   "id": "intense-estonia",
   "metadata": {},
   "outputs": [],
   "source": []
  }
 ],
 "metadata": {
  "kernelspec": {
   "display_name": "Python 3",
   "language": "python",
   "name": "python3"
  }
 },
 "nbformat": 4,
 "nbformat_minor": 5
}
