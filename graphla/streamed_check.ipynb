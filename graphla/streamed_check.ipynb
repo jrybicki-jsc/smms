{
 "cells": [
  {
   "cell_type": "code",
   "execution_count": 1,
   "id": "revolutionary-mills",
   "metadata": {},
   "outputs": [],
   "source": [
    "import pandas as pd\n",
    "import numpy as np\n",
    "#import graphlab as tc\n",
    "import turicreate as tc\n",
    "from tqdm.notebook import tqdm\n",
    "import turicreate.aggregate as agg\n",
    "from sklearn.model_selection import train_test_split\n",
    "from numpy.random import default_rng\n",
    "\n",
    "from sklearn.metrics import precision_recall_curve, roc_curve, roc_auc_score, auc\n",
    "import pickle\n",
    "import matplotlib.pyplot as plt"
   ]
  },
  {
   "cell_type": "code",
   "execution_count": 2,
   "id": "bottom-region",
   "metadata": {},
   "outputs": [],
   "source": [
    "mw = tc.load_sframe('../binarydata/funcs-encoded')\n",
    "mw = mw.remove_column('fcount', inplace=True)"
   ]
  },
  {
   "cell_type": "code",
   "execution_count": 284,
   "id": "muslim-parcel",
   "metadata": {},
   "outputs": [],
   "source": [
    "# alt distance\n",
    "mlong = pd.read_csv('../data/joined.csv', index_col='apn')\n",
    "mlong['nf'] = mlong['nf'].apply(eval)\n",
    "def jaccard(apid1: int, apid2: int, funcs) -> float:\n",
    "    p1 = funcs[apid1]\n",
    "    p2 = funcs[apid2]\n",
    "\n",
    "    return 1 - len(p1 & p2)/len(p1|p2)\n",
    "\n",
    "# good old panda based distance calculation:\n",
    "distance = lambda x,y: jaccard(x, y, mlong['nf'])"
   ]
  },
  {
   "cell_type": "code",
   "execution_count": 77,
   "id": "operational-democracy",
   "metadata": {},
   "outputs": [
    {
     "name": "stdout",
     "output_type": "stream",
     "text": [
      "Reading in nets from ../res/streamed_nets.pickle\n"
     ]
    }
   ],
   "source": [
    "net_file_name = '../res/streamed_nets.pickle' #'../res/distances.new2_merged.pickle'\n",
    "print(f\"Reading in nets from {net_file_name}\")\n",
    "with open(net_file_name, 'rb') as f:\n",
    "    allthenet = pickle.load(f)"
   ]
  },
  {
   "cell_type": "code",
   "execution_count": 7,
   "id": "metric-glossary",
   "metadata": {},
   "outputs": [],
   "source": [
    "def get_outliers(net, gamma):\n",
    "    outl = list()\n",
    "    for an, agg in net.items():\n",
    "        if not agg:\n",
    "            continue\n",
    "        th = [(an, a, distance(a, an)) for a in agg]# if distance(a, an)> gamma]\n",
    "        outl = outl + th\n",
    "    return outl\n"
   ]
  },
  {
   "cell_type": "code",
   "execution_count": 8,
   "id": "fatal-probability",
   "metadata": {},
   "outputs": [
    {
     "data": {
      "application/vnd.jupyter.widget-view+json": {
       "model_id": "a74b5ea65a3542f5a40b0f18583b88ae",
       "version_major": 2,
       "version_minor": 0
      },
      "text/plain": [
       "  0%|          | 0/19 [00:00<?, ?it/s]"
      ]
     },
     "metadata": {},
     "output_type": "display_data"
    }
   ],
   "source": [
    "res = dict()\n",
    "for gamma, net in tqdm(allthenet.items()):\n",
    "    res[gamma] = get_outliers(net, gamma)"
   ]
  },
  {
   "cell_type": "markdown",
   "id": "greenhouse-certification",
   "metadata": {},
   "source": [
    "## Check if the network is well-made\n",
    "The aggregated apps should be in the closest anchors"
   ]
  },
  {
   "cell_type": "code",
   "execution_count": 78,
   "id": "actual-division",
   "metadata": {},
   "outputs": [
    {
     "data": {
      "application/vnd.jupyter.widget-view+json": {
       "model_id": "bc263890fb7445269732dda4dc4c6315",
       "version_major": 2,
       "version_minor": 0
      },
      "text/plain": [
       "  0%|          | 0/8467 [00:00<?, ?it/s]"
      ]
     },
     "metadata": {},
     "output_type": "display_data"
    },
    {
     "name": "stdout",
     "output_type": "stream",
     "text": [
      "16393 26000 [(2211, 0.4285714285714286), (21306, 0.4)]\n",
      "16393 18788 [(29, 0.19999999999999996)]\n"
     ]
    },
    {
     "ename": "KeyboardInterrupt",
     "evalue": "",
     "output_type": "error",
     "traceback": [
      "\u001b[0;31m---------------------------------------------------------------------------\u001b[0m",
      "\u001b[0;31mKeyboardInterrupt\u001b[0m                         Traceback (most recent call last)",
      "\u001b[0;32m<ipython-input-78-025f6b3e5ebb>\u001b[0m in \u001b[0;36m<module>\u001b[0;34m\u001b[0m\n\u001b[1;32m      4\u001b[0m \u001b[0;34m\u001b[0m\u001b[0m\n\u001b[1;32m      5\u001b[0m \u001b[0;32mfor\u001b[0m \u001b[0;34m(\u001b[0m\u001b[0man\u001b[0m\u001b[0;34m,\u001b[0m \u001b[0mapk\u001b[0m\u001b[0;34m,\u001b[0m \u001b[0md\u001b[0m\u001b[0;34m)\u001b[0m \u001b[0;32min\u001b[0m \u001b[0mtqdm\u001b[0m\u001b[0;34m(\u001b[0m\u001b[0mdsts\u001b[0m\u001b[0;34m)\u001b[0m\u001b[0;34m:\u001b[0m\u001b[0;34m\u001b[0m\u001b[0;34m\u001b[0m\u001b[0m\n\u001b[0;32m----> 6\u001b[0;31m     \u001b[0mdia\u001b[0m \u001b[0;34m=\u001b[0m \u001b[0;34m[\u001b[0m\u001b[0;34m(\u001b[0m\u001b[0mb\u001b[0m\u001b[0;34m,\u001b[0m \u001b[0mdistance\u001b[0m\u001b[0;34m(\u001b[0m\u001b[0mapk\u001b[0m\u001b[0;34m,\u001b[0m \u001b[0mb\u001b[0m\u001b[0;34m)\u001b[0m\u001b[0;34m)\u001b[0m \u001b[0;32mfor\u001b[0m \u001b[0mb\u001b[0m \u001b[0;32min\u001b[0m \u001b[0manet\u001b[0m\u001b[0;34m.\u001b[0m\u001b[0mkeys\u001b[0m\u001b[0;34m(\u001b[0m\u001b[0;34m)\u001b[0m \u001b[0;32mif\u001b[0m \u001b[0;34m(\u001b[0m\u001b[0mdistance\u001b[0m\u001b[0;34m(\u001b[0m\u001b[0mapk\u001b[0m\u001b[0;34m,\u001b[0m \u001b[0mb\u001b[0m\u001b[0;34m)\u001b[0m\u001b[0;34m<\u001b[0m\u001b[0md\u001b[0m\u001b[0;34m)\u001b[0m \u001b[0;34m&\u001b[0m \u001b[0;34m(\u001b[0m\u001b[0mb\u001b[0m\u001b[0;34m!=\u001b[0m\u001b[0man\u001b[0m\u001b[0;34m)\u001b[0m\u001b[0;34m]\u001b[0m\u001b[0;34m\u001b[0m\u001b[0;34m\u001b[0m\u001b[0m\n\u001b[0m\u001b[1;32m      7\u001b[0m     \u001b[0;32mif\u001b[0m \u001b[0mdia\u001b[0m\u001b[0;34m:\u001b[0m\u001b[0;34m\u001b[0m\u001b[0;34m\u001b[0m\u001b[0m\n\u001b[1;32m      8\u001b[0m         \u001b[0mprint\u001b[0m\u001b[0;34m(\u001b[0m\u001b[0man\u001b[0m\u001b[0;34m,\u001b[0m \u001b[0mapk\u001b[0m\u001b[0;34m,\u001b[0m \u001b[0mdia\u001b[0m\u001b[0;34m)\u001b[0m\u001b[0;34m\u001b[0m\u001b[0;34m\u001b[0m\u001b[0m\n",
      "\u001b[0;32m<ipython-input-78-025f6b3e5ebb>\u001b[0m in \u001b[0;36m<listcomp>\u001b[0;34m(.0)\u001b[0m\n\u001b[1;32m      4\u001b[0m \u001b[0;34m\u001b[0m\u001b[0m\n\u001b[1;32m      5\u001b[0m \u001b[0;32mfor\u001b[0m \u001b[0;34m(\u001b[0m\u001b[0man\u001b[0m\u001b[0;34m,\u001b[0m \u001b[0mapk\u001b[0m\u001b[0;34m,\u001b[0m \u001b[0md\u001b[0m\u001b[0;34m)\u001b[0m \u001b[0;32min\u001b[0m \u001b[0mtqdm\u001b[0m\u001b[0;34m(\u001b[0m\u001b[0mdsts\u001b[0m\u001b[0;34m)\u001b[0m\u001b[0;34m:\u001b[0m\u001b[0;34m\u001b[0m\u001b[0;34m\u001b[0m\u001b[0m\n\u001b[0;32m----> 6\u001b[0;31m     \u001b[0mdia\u001b[0m \u001b[0;34m=\u001b[0m \u001b[0;34m[\u001b[0m\u001b[0;34m(\u001b[0m\u001b[0mb\u001b[0m\u001b[0;34m,\u001b[0m \u001b[0mdistance\u001b[0m\u001b[0;34m(\u001b[0m\u001b[0mapk\u001b[0m\u001b[0;34m,\u001b[0m \u001b[0mb\u001b[0m\u001b[0;34m)\u001b[0m\u001b[0;34m)\u001b[0m \u001b[0;32mfor\u001b[0m \u001b[0mb\u001b[0m \u001b[0;32min\u001b[0m \u001b[0manet\u001b[0m\u001b[0;34m.\u001b[0m\u001b[0mkeys\u001b[0m\u001b[0;34m(\u001b[0m\u001b[0;34m)\u001b[0m \u001b[0;32mif\u001b[0m \u001b[0;34m(\u001b[0m\u001b[0mdistance\u001b[0m\u001b[0;34m(\u001b[0m\u001b[0mapk\u001b[0m\u001b[0;34m,\u001b[0m \u001b[0mb\u001b[0m\u001b[0;34m)\u001b[0m\u001b[0;34m<\u001b[0m\u001b[0md\u001b[0m\u001b[0;34m)\u001b[0m \u001b[0;34m&\u001b[0m \u001b[0;34m(\u001b[0m\u001b[0mb\u001b[0m\u001b[0;34m!=\u001b[0m\u001b[0man\u001b[0m\u001b[0;34m)\u001b[0m\u001b[0;34m]\u001b[0m\u001b[0;34m\u001b[0m\u001b[0;34m\u001b[0m\u001b[0m\n\u001b[0m\u001b[1;32m      7\u001b[0m     \u001b[0;32mif\u001b[0m \u001b[0mdia\u001b[0m\u001b[0;34m:\u001b[0m\u001b[0;34m\u001b[0m\u001b[0;34m\u001b[0m\u001b[0m\n\u001b[1;32m      8\u001b[0m         \u001b[0mprint\u001b[0m\u001b[0;34m(\u001b[0m\u001b[0man\u001b[0m\u001b[0;34m,\u001b[0m \u001b[0mapk\u001b[0m\u001b[0;34m,\u001b[0m \u001b[0mdia\u001b[0m\u001b[0;34m)\u001b[0m\u001b[0;34m\u001b[0m\u001b[0;34m\u001b[0m\u001b[0m\n",
      "\u001b[0;32m<ipython-input-4-957601428171>\u001b[0m in \u001b[0;36m<lambda>\u001b[0;34m(x, y)\u001b[0m\n\u001b[1;32m      9\u001b[0m \u001b[0;34m\u001b[0m\u001b[0m\n\u001b[1;32m     10\u001b[0m \u001b[0;31m# good old panda based distance calculation:\u001b[0m\u001b[0;34m\u001b[0m\u001b[0;34m\u001b[0m\u001b[0;34m\u001b[0m\u001b[0m\n\u001b[0;32m---> 11\u001b[0;31m \u001b[0mdistance\u001b[0m \u001b[0;34m=\u001b[0m \u001b[0;32mlambda\u001b[0m \u001b[0mx\u001b[0m\u001b[0;34m,\u001b[0m\u001b[0my\u001b[0m\u001b[0;34m:\u001b[0m \u001b[0mjaccard\u001b[0m\u001b[0;34m(\u001b[0m\u001b[0mx\u001b[0m\u001b[0;34m,\u001b[0m \u001b[0my\u001b[0m\u001b[0;34m,\u001b[0m \u001b[0mm\u001b[0m\u001b[0;34m[\u001b[0m\u001b[0;34m'nf'\u001b[0m\u001b[0;34m]\u001b[0m\u001b[0;34m)\u001b[0m\u001b[0;34m\u001b[0m\u001b[0;34m\u001b[0m\u001b[0m\n\u001b[0m",
      "\u001b[0;32m<ipython-input-4-957601428171>\u001b[0m in \u001b[0;36mjaccard\u001b[0;34m(apid1, apid2, funcs)\u001b[0m\n\u001b[1;32m      6\u001b[0m     \u001b[0mp2\u001b[0m \u001b[0;34m=\u001b[0m \u001b[0mfuncs\u001b[0m\u001b[0;34m[\u001b[0m\u001b[0mapid2\u001b[0m\u001b[0;34m]\u001b[0m\u001b[0;34m\u001b[0m\u001b[0;34m\u001b[0m\u001b[0m\n\u001b[1;32m      7\u001b[0m \u001b[0;34m\u001b[0m\u001b[0m\n\u001b[0;32m----> 8\u001b[0;31m     \u001b[0;32mreturn\u001b[0m \u001b[0;36m1\u001b[0m \u001b[0;34m-\u001b[0m \u001b[0mlen\u001b[0m\u001b[0;34m(\u001b[0m\u001b[0mp1\u001b[0m \u001b[0;34m&\u001b[0m \u001b[0mp2\u001b[0m\u001b[0;34m)\u001b[0m\u001b[0;34m/\u001b[0m\u001b[0mlen\u001b[0m\u001b[0;34m(\u001b[0m\u001b[0mp1\u001b[0m\u001b[0;34m|\u001b[0m\u001b[0mp2\u001b[0m\u001b[0;34m)\u001b[0m\u001b[0;34m\u001b[0m\u001b[0;34m\u001b[0m\u001b[0m\n\u001b[0m\u001b[1;32m      9\u001b[0m \u001b[0;34m\u001b[0m\u001b[0m\n\u001b[1;32m     10\u001b[0m \u001b[0;31m# good old panda based distance calculation:\u001b[0m\u001b[0;34m\u001b[0m\u001b[0;34m\u001b[0m\u001b[0;34m\u001b[0m\u001b[0m\n",
      "\u001b[0;31mKeyboardInterrupt\u001b[0m: "
     ]
    }
   ],
   "source": [
    "gamma = 0.5\n",
    "anet = allthenet[gamma]\n",
    "dsts = res[gamma]\n",
    "\n",
    "for (an, apk, d) in tqdm(dsts):\n",
    "    dia = [(b, distance(apk, b)) for b in anet.keys() if (distance(apk, b)<d) & (b!=an)]\n",
    "    if dia:\n",
    "        print(an, apk, dia)"
   ]
  },
  {
   "cell_type": "code",
   "execution_count": 9,
   "id": "intermediate-accuracy",
   "metadata": {},
   "outputs": [],
   "source": [
    "gamma = 0.5\n",
    "anet = allthenet[gamma]"
   ]
  },
  {
   "cell_type": "code",
   "execution_count": 79,
   "id": "advance-democracy",
   "metadata": {},
   "outputs": [
    {
     "data": {
      "application/vnd.jupyter.widget-view+json": {
       "model_id": "5d0c372b6c9040c4a057719a6ad2f843",
       "version_major": 2,
       "version_minor": 0
      },
      "text/plain": [
       "  0%|          | 0/536 [00:00<?, ?it/s]"
      ]
     },
     "metadata": {},
     "output_type": "display_data"
    },
    {
     "name": "stdout",
     "output_type": "stream",
     "text": [
      "[(26000, 2211, 16393, 0.4285714285714286, 0.5), (26000, 21306, 16393, 0.4, 0.5)]\n",
      "[(18788, 29, 16393, 0.19999999999999996, 0.5)]\n"
     ]
    },
    {
     "ename": "KeyboardInterrupt",
     "evalue": "",
     "output_type": "error",
     "traceback": [
      "\u001b[0;31m---------------------------------------------------------------------------\u001b[0m",
      "\u001b[0;31mKeyboardInterrupt\u001b[0m                         Traceback (most recent call last)",
      "\u001b[0;32m<ipython-input-79-610c27c995eb>\u001b[0m in \u001b[0;36m<module>\u001b[0;34m\u001b[0m\n\u001b[1;32m      2\u001b[0m     \u001b[0;32mfor\u001b[0m \u001b[0mvi\u001b[0m \u001b[0;32min\u001b[0m \u001b[0mv\u001b[0m\u001b[0;34m:\u001b[0m\u001b[0;34m\u001b[0m\u001b[0;34m\u001b[0m\u001b[0m\n\u001b[1;32m      3\u001b[0m         \u001b[0mcurr_dist\u001b[0m \u001b[0;34m=\u001b[0m \u001b[0mdistance\u001b[0m\u001b[0;34m(\u001b[0m\u001b[0mvi\u001b[0m\u001b[0;34m,\u001b[0m \u001b[0mk\u001b[0m\u001b[0;34m)\u001b[0m\u001b[0;34m\u001b[0m\u001b[0;34m\u001b[0m\u001b[0m\n\u001b[0;32m----> 4\u001b[0;31m         \u001b[0mdistances\u001b[0m \u001b[0;34m=\u001b[0m \u001b[0;34m[\u001b[0m\u001b[0;34m(\u001b[0m\u001b[0mvi\u001b[0m\u001b[0;34m,\u001b[0m \u001b[0mki\u001b[0m\u001b[0;34m,\u001b[0m \u001b[0mk\u001b[0m\u001b[0;34m,\u001b[0m \u001b[0mdistance\u001b[0m\u001b[0;34m(\u001b[0m\u001b[0mvi\u001b[0m\u001b[0;34m,\u001b[0m \u001b[0mki\u001b[0m\u001b[0;34m)\u001b[0m\u001b[0;34m,\u001b[0m \u001b[0mcurr_dist\u001b[0m\u001b[0;34m)\u001b[0m \u001b[0;32mfor\u001b[0m \u001b[0mki\u001b[0m \u001b[0;32min\u001b[0m \u001b[0manet\u001b[0m\u001b[0;34m.\u001b[0m\u001b[0mkeys\u001b[0m\u001b[0;34m(\u001b[0m\u001b[0;34m)\u001b[0m \u001b[0;32mif\u001b[0m \u001b[0mdistance\u001b[0m\u001b[0;34m(\u001b[0m\u001b[0mvi\u001b[0m\u001b[0;34m,\u001b[0m\u001b[0mki\u001b[0m\u001b[0;34m)\u001b[0m\u001b[0;34m<\u001b[0m\u001b[0mcurr_dist\u001b[0m\u001b[0;34m]\u001b[0m\u001b[0;34m\u001b[0m\u001b[0;34m\u001b[0m\u001b[0m\n\u001b[0m\u001b[1;32m      5\u001b[0m         \u001b[0;32mif\u001b[0m \u001b[0mdistances\u001b[0m\u001b[0;34m:\u001b[0m\u001b[0;34m\u001b[0m\u001b[0;34m\u001b[0m\u001b[0m\n\u001b[1;32m      6\u001b[0m             \u001b[0mprint\u001b[0m\u001b[0;34m(\u001b[0m\u001b[0mdistances\u001b[0m\u001b[0;34m)\u001b[0m\u001b[0;34m\u001b[0m\u001b[0;34m\u001b[0m\u001b[0m\n",
      "\u001b[0;32m<ipython-input-79-610c27c995eb>\u001b[0m in \u001b[0;36m<listcomp>\u001b[0;34m(.0)\u001b[0m\n\u001b[1;32m      2\u001b[0m     \u001b[0;32mfor\u001b[0m \u001b[0mvi\u001b[0m \u001b[0;32min\u001b[0m \u001b[0mv\u001b[0m\u001b[0;34m:\u001b[0m\u001b[0;34m\u001b[0m\u001b[0;34m\u001b[0m\u001b[0m\n\u001b[1;32m      3\u001b[0m         \u001b[0mcurr_dist\u001b[0m \u001b[0;34m=\u001b[0m \u001b[0mdistance\u001b[0m\u001b[0;34m(\u001b[0m\u001b[0mvi\u001b[0m\u001b[0;34m,\u001b[0m \u001b[0mk\u001b[0m\u001b[0;34m)\u001b[0m\u001b[0;34m\u001b[0m\u001b[0;34m\u001b[0m\u001b[0m\n\u001b[0;32m----> 4\u001b[0;31m         \u001b[0mdistances\u001b[0m \u001b[0;34m=\u001b[0m \u001b[0;34m[\u001b[0m\u001b[0;34m(\u001b[0m\u001b[0mvi\u001b[0m\u001b[0;34m,\u001b[0m \u001b[0mki\u001b[0m\u001b[0;34m,\u001b[0m \u001b[0mk\u001b[0m\u001b[0;34m,\u001b[0m \u001b[0mdistance\u001b[0m\u001b[0;34m(\u001b[0m\u001b[0mvi\u001b[0m\u001b[0;34m,\u001b[0m \u001b[0mki\u001b[0m\u001b[0;34m)\u001b[0m\u001b[0;34m,\u001b[0m \u001b[0mcurr_dist\u001b[0m\u001b[0;34m)\u001b[0m \u001b[0;32mfor\u001b[0m \u001b[0mki\u001b[0m \u001b[0;32min\u001b[0m \u001b[0manet\u001b[0m\u001b[0;34m.\u001b[0m\u001b[0mkeys\u001b[0m\u001b[0;34m(\u001b[0m\u001b[0;34m)\u001b[0m \u001b[0;32mif\u001b[0m \u001b[0mdistance\u001b[0m\u001b[0;34m(\u001b[0m\u001b[0mvi\u001b[0m\u001b[0;34m,\u001b[0m\u001b[0mki\u001b[0m\u001b[0;34m)\u001b[0m\u001b[0;34m<\u001b[0m\u001b[0mcurr_dist\u001b[0m\u001b[0;34m]\u001b[0m\u001b[0;34m\u001b[0m\u001b[0;34m\u001b[0m\u001b[0m\n\u001b[0m\u001b[1;32m      5\u001b[0m         \u001b[0;32mif\u001b[0m \u001b[0mdistances\u001b[0m\u001b[0;34m:\u001b[0m\u001b[0;34m\u001b[0m\u001b[0;34m\u001b[0m\u001b[0m\n\u001b[1;32m      6\u001b[0m             \u001b[0mprint\u001b[0m\u001b[0;34m(\u001b[0m\u001b[0mdistances\u001b[0m\u001b[0;34m)\u001b[0m\u001b[0;34m\u001b[0m\u001b[0;34m\u001b[0m\u001b[0m\n",
      "\u001b[0;32m<ipython-input-4-957601428171>\u001b[0m in \u001b[0;36m<lambda>\u001b[0;34m(x, y)\u001b[0m\n\u001b[1;32m      9\u001b[0m \u001b[0;34m\u001b[0m\u001b[0m\n\u001b[1;32m     10\u001b[0m \u001b[0;31m# good old panda based distance calculation:\u001b[0m\u001b[0;34m\u001b[0m\u001b[0;34m\u001b[0m\u001b[0;34m\u001b[0m\u001b[0m\n\u001b[0;32m---> 11\u001b[0;31m \u001b[0mdistance\u001b[0m \u001b[0;34m=\u001b[0m \u001b[0;32mlambda\u001b[0m \u001b[0mx\u001b[0m\u001b[0;34m,\u001b[0m\u001b[0my\u001b[0m\u001b[0;34m:\u001b[0m \u001b[0mjaccard\u001b[0m\u001b[0;34m(\u001b[0m\u001b[0mx\u001b[0m\u001b[0;34m,\u001b[0m \u001b[0my\u001b[0m\u001b[0;34m,\u001b[0m \u001b[0mm\u001b[0m\u001b[0;34m[\u001b[0m\u001b[0;34m'nf'\u001b[0m\u001b[0;34m]\u001b[0m\u001b[0;34m)\u001b[0m\u001b[0;34m\u001b[0m\u001b[0;34m\u001b[0m\u001b[0m\n\u001b[0m",
      "\u001b[0;32m<ipython-input-4-957601428171>\u001b[0m in \u001b[0;36mjaccard\u001b[0;34m(apid1, apid2, funcs)\u001b[0m\n\u001b[1;32m      6\u001b[0m     \u001b[0mp2\u001b[0m \u001b[0;34m=\u001b[0m \u001b[0mfuncs\u001b[0m\u001b[0;34m[\u001b[0m\u001b[0mapid2\u001b[0m\u001b[0;34m]\u001b[0m\u001b[0;34m\u001b[0m\u001b[0;34m\u001b[0m\u001b[0m\n\u001b[1;32m      7\u001b[0m \u001b[0;34m\u001b[0m\u001b[0m\n\u001b[0;32m----> 8\u001b[0;31m     \u001b[0;32mreturn\u001b[0m \u001b[0;36m1\u001b[0m \u001b[0;34m-\u001b[0m \u001b[0mlen\u001b[0m\u001b[0;34m(\u001b[0m\u001b[0mp1\u001b[0m \u001b[0;34m&\u001b[0m \u001b[0mp2\u001b[0m\u001b[0;34m)\u001b[0m\u001b[0;34m/\u001b[0m\u001b[0mlen\u001b[0m\u001b[0;34m(\u001b[0m\u001b[0mp1\u001b[0m\u001b[0;34m|\u001b[0m\u001b[0mp2\u001b[0m\u001b[0;34m)\u001b[0m\u001b[0;34m\u001b[0m\u001b[0;34m\u001b[0m\u001b[0m\n\u001b[0m\u001b[1;32m      9\u001b[0m \u001b[0;34m\u001b[0m\u001b[0m\n\u001b[1;32m     10\u001b[0m \u001b[0;31m# good old panda based distance calculation:\u001b[0m\u001b[0;34m\u001b[0m\u001b[0;34m\u001b[0m\u001b[0;34m\u001b[0m\u001b[0m\n",
      "\u001b[0;31mKeyboardInterrupt\u001b[0m: "
     ]
    }
   ],
   "source": [
    "for k, v in tqdm(anet.items()):\n",
    "    for vi in v:\n",
    "        curr_dist = distance(vi, k)\n",
    "        distances = [(vi, ki, distance(vi, ki),k, curr_dist) for ki in anet.keys() if distance(vi,ki)<curr_dist]\n",
    "        if distances:\n",
    "            print(distances)\n",
    "    "
   ]
  },
  {
   "cell_type": "code",
   "execution_count": 11,
   "id": "ultimate-volleyball",
   "metadata": {},
   "outputs": [],
   "source": [
    "#[(18788, 29, 16393, 0.19999999999999996, 0.5)]\n",
    "#(vi, ki, k, distance(vi, ki), curr_dist)"
   ]
  },
  {
   "cell_type": "code",
   "execution_count": 15,
   "id": "imposed-norfolk",
   "metadata": {},
   "outputs": [
    {
     "data": {
      "text/plain": [
       "(True, True)"
      ]
     },
     "execution_count": 15,
     "metadata": {},
     "output_type": "execute_result"
    }
   ],
   "source": [
    "18788 in anet[16393], 29 in anet"
   ]
  },
  {
   "cell_type": "code",
   "execution_count": 16,
   "id": "searching-milwaukee",
   "metadata": {},
   "outputs": [
    {
     "data": {
      "text/plain": [
       "(0.5, 0.19999999999999996)"
      ]
     },
     "execution_count": 16,
     "metadata": {},
     "output_type": "execute_result"
    }
   ],
   "source": [
    "distance(18788, 16393), distance(18788, 29)"
   ]
  },
  {
   "cell_type": "code",
   "execution_count": 22,
   "id": "chronic-springfield",
   "metadata": {},
   "outputs": [],
   "source": [
    "def tc_based_nn(net, apks, data):\n",
    "    anch = list(net.keys())\n",
    "    anch.extend(apks)\n",
    "    allt = data.filter_by(values=anch, column_name='apk')\n",
    "\n",
    "    m = len(anch)\n",
    "    sim_recom = tc.item_similarity_recommender.create(\n",
    "        allt, \n",
    "        user_id='function', \n",
    "        item_id='apk', \n",
    "        similarity_type='jaccard', \n",
    "        degree_approximation_threshold=15*4096,\n",
    "        only_top_k=m, verbose=False)\n",
    "    \n",
    "    # smaller k could be an optimization here\n",
    "    items =sim_recom.get_similar_items(apks, k=m)\n",
    "    # recomendations excluding similarity between apks\n",
    "    fitems = items.filter_by(values=apks, column_name='similar', exclude=True)\n",
    "    fitems['distance'] = 1.0 - fitems['score']\n",
    "    \n",
    "    return fitems #fitems.groupby(key_column_names=['apk'], operations={'nn': tc.aggregate.ARGMAX('score', 'similar')})\n",
    "\n",
    "\n"
   ]
  },
  {
   "cell_type": "code",
   "execution_count": 60,
   "id": "environmental-proceeding",
   "metadata": {},
   "outputs": [
    {
     "name": "stdout",
     "output_type": "stream",
     "text": [
      "8467\n"
     ]
    }
   ],
   "source": [
    "vals = list()\n",
    "for k,v in anet.items():\n",
    "    vals = vals + v\n",
    "    \n",
    "print(len(vals))"
   ]
  },
  {
   "cell_type": "code",
   "execution_count": 61,
   "id": "collaborative-convenience",
   "metadata": {},
   "outputs": [],
   "source": [
    "r = tc_based_nn(net=anet, apks=vals, data=mw)"
   ]
  },
  {
   "cell_type": "code",
   "execution_count": 62,
   "id": "considered-reflection",
   "metadata": {},
   "outputs": [],
   "source": [
    "gwrr = r.groupby(key_column_names=['apk'], \n",
    "          operations={'nn': tc.aggregate.ARGMIN('distance', 'similar'), \n",
    "                      'distan': tc.aggregate.ARGMIN('distance', 'distance')})\n",
    "#r"
   ]
  },
  {
   "cell_type": "code",
   "execution_count": 63,
   "id": "documentary-phrase",
   "metadata": {},
   "outputs": [
    {
     "data": {
      "text/html": [
       "<div style=\"max-height:1000px;max-width:1500px;overflow:auto;\"><table frame=\"box\" rules=\"cols\">\n",
       "    <tr>\n",
       "        <th style=\"padding-left: 1em; padding-right: 1em; text-align: center\">apk</th>\n",
       "        <th style=\"padding-left: 1em; padding-right: 1em; text-align: center\">nn</th>\n",
       "        <th style=\"padding-left: 1em; padding-right: 1em; text-align: center\">distan</th>\n",
       "    </tr>\n",
       "    <tr>\n",
       "        <td style=\"padding-left: 1em; padding-right: 1em; text-align: center; vertical-align: top\">18788</td>\n",
       "        <td style=\"padding-left: 1em; padding-right: 1em; text-align: center; vertical-align: top\">29</td>\n",
       "        <td style=\"padding-left: 1em; padding-right: 1em; text-align: center; vertical-align: top\">0.19999998807907104</td>\n",
       "    </tr>\n",
       "</table>\n",
       "[? rows x 3 columns]<br/>Note: Only the head of the SFrame is printed. This SFrame is lazily evaluated.<br/>You can use sf.materialize() to force materialization.\n",
       "</div>"
      ],
      "text/plain": [
       "Columns:\n",
       "\tapk\tint\n",
       "\tnn\tint\n",
       "\tdistan\tfloat\n",
       "\n",
       "Rows: Unknown\n",
       "\n",
       "Data:\n",
       "+-------+----+---------------------+\n",
       "|  apk  | nn |        distan       |\n",
       "+-------+----+---------------------+\n",
       "| 18788 | 29 | 0.19999998807907104 |\n",
       "+-------+----+---------------------+\n",
       "[? rows x 3 columns]\n",
       "Note: Only the head of the SFrame is printed. This SFrame is lazily evaluated.\n",
       "You can use sf.materialize() to force materialization."
      ]
     },
     "execution_count": 63,
     "metadata": {},
     "output_type": "execute_result"
    }
   ],
   "source": [
    "gwrr[gwrr['apk']==18788]"
   ]
  },
  {
   "cell_type": "code",
   "execution_count": 64,
   "id": "direct-blond",
   "metadata": {},
   "outputs": [],
   "source": [
    "gwrrd = r.groupby(key_column_names=['apk'], \n",
    "          operations={'nn': tc.aggregate.ARGMAX('score', 'similar'), \n",
    "                      'sim': tc.aggregate.ARGMAX('score', 'score')})\n"
   ]
  },
  {
   "cell_type": "code",
   "execution_count": 65,
   "id": "headed-duration",
   "metadata": {},
   "outputs": [
    {
     "data": {
      "text/html": [
       "<div style=\"max-height:1000px;max-width:1500px;overflow:auto;\"><table frame=\"box\" rules=\"cols\">\n",
       "    <tr>\n",
       "        <th style=\"padding-left: 1em; padding-right: 1em; text-align: center\">apk</th>\n",
       "        <th style=\"padding-left: 1em; padding-right: 1em; text-align: center\">nn</th>\n",
       "        <th style=\"padding-left: 1em; padding-right: 1em; text-align: center\">sim</th>\n",
       "    </tr>\n",
       "    <tr>\n",
       "        <td style=\"padding-left: 1em; padding-right: 1em; text-align: center; vertical-align: top\">18788</td>\n",
       "        <td style=\"padding-left: 1em; padding-right: 1em; text-align: center; vertical-align: top\">29</td>\n",
       "        <td style=\"padding-left: 1em; padding-right: 1em; text-align: center; vertical-align: top\">0.800000011920929</td>\n",
       "    </tr>\n",
       "</table>\n",
       "[? rows x 3 columns]<br/>Note: Only the head of the SFrame is printed. This SFrame is lazily evaluated.<br/>You can use sf.materialize() to force materialization.\n",
       "</div>"
      ],
      "text/plain": [
       "Columns:\n",
       "\tapk\tint\n",
       "\tnn\tint\n",
       "\tsim\tfloat\n",
       "\n",
       "Rows: Unknown\n",
       "\n",
       "Data:\n",
       "+-------+----+-------------------+\n",
       "|  apk  | nn |        sim        |\n",
       "+-------+----+-------------------+\n",
       "| 18788 | 29 | 0.800000011920929 |\n",
       "+-------+----+-------------------+\n",
       "[? rows x 3 columns]\n",
       "Note: Only the head of the SFrame is printed. This SFrame is lazily evaluated.\n",
       "You can use sf.materialize() to force materialization."
      ]
     },
     "execution_count": 65,
     "metadata": {},
     "output_type": "execute_result"
    }
   ],
   "source": [
    "gwrrd[gwrrd['apk']==18788]"
   ]
  },
  {
   "cell_type": "code",
   "execution_count": 66,
   "id": "chronic-holmes",
   "metadata": {},
   "outputs": [
    {
     "data": {
      "text/plain": [
       "False"
      ]
     },
     "execution_count": 66,
     "metadata": {},
     "output_type": "execute_result"
    }
   ],
   "source": [
    "18788 in anet[29]"
   ]
  },
  {
   "cell_type": "code",
   "execution_count": 67,
   "id": "closed-manitoba",
   "metadata": {},
   "outputs": [
    {
     "data": {
      "text/html": [
       "<div style=\"max-height:1000px;max-width:1500px;overflow:auto;\"><table frame=\"box\" rules=\"cols\">\n",
       "    <tr>\n",
       "        <th style=\"padding-left: 1em; padding-right: 1em; text-align: center\">nn</th>\n",
       "        <th style=\"padding-left: 1em; padding-right: 1em; text-align: center\">nodes</th>\n",
       "    </tr>\n",
       "    <tr>\n",
       "        <td style=\"padding-left: 1em; padding-right: 1em; text-align: center; vertical-align: top\">8324</td>\n",
       "        <td style=\"padding-left: 1em; padding-right: 1em; text-align: center; vertical-align: top\">[1334, 279, 6575, 10975,<br>12783, 14588, 14925, ...</td>\n",
       "    </tr>\n",
       "    <tr>\n",
       "        <td style=\"padding-left: 1em; padding-right: 1em; text-align: center; vertical-align: top\">15635</td>\n",
       "        <td style=\"padding-left: 1em; padding-right: 1em; text-align: center; vertical-align: top\">[15227, 1249, 25087,<br>14471] ...</td>\n",
       "    </tr>\n",
       "    <tr>\n",
       "        <td style=\"padding-left: 1em; padding-right: 1em; text-align: center; vertical-align: top\">14897</td>\n",
       "        <td style=\"padding-left: 1em; padding-right: 1em; text-align: center; vertical-align: top\">[19737, 11561, 2954,<br>19306, 13836, 18025] ...</td>\n",
       "    </tr>\n",
       "    <tr>\n",
       "        <td style=\"padding-left: 1em; padding-right: 1em; text-align: center; vertical-align: top\">11338</td>\n",
       "        <td style=\"padding-left: 1em; padding-right: 1em; text-align: center; vertical-align: top\">[11509, 6835]</td>\n",
       "    </tr>\n",
       "    <tr>\n",
       "        <td style=\"padding-left: 1em; padding-right: 1em; text-align: center; vertical-align: top\">18638</td>\n",
       "        <td style=\"padding-left: 1em; padding-right: 1em; text-align: center; vertical-align: top\">[18569, 16446, 9867]</td>\n",
       "    </tr>\n",
       "    <tr>\n",
       "        <td style=\"padding-left: 1em; padding-right: 1em; text-align: center; vertical-align: top\">25885</td>\n",
       "        <td style=\"padding-left: 1em; padding-right: 1em; text-align: center; vertical-align: top\">[596, 21196, 9974]</td>\n",
       "    </tr>\n",
       "    <tr>\n",
       "        <td style=\"padding-left: 1em; padding-right: 1em; text-align: center; vertical-align: top\">6314</td>\n",
       "        <td style=\"padding-left: 1em; padding-right: 1em; text-align: center; vertical-align: top\">[26198, 5551, 2363,<br>15910, 26494, 13362, ...</td>\n",
       "    </tr>\n",
       "    <tr>\n",
       "        <td style=\"padding-left: 1em; padding-right: 1em; text-align: center; vertical-align: top\">19581</td>\n",
       "        <td style=\"padding-left: 1em; padding-right: 1em; text-align: center; vertical-align: top\">[18994, 9405, 1078,<br>13316, 18712, 3685, ...</td>\n",
       "    </tr>\n",
       "    <tr>\n",
       "        <td style=\"padding-left: 1em; padding-right: 1em; text-align: center; vertical-align: top\">2211</td>\n",
       "        <td style=\"padding-left: 1em; padding-right: 1em; text-align: center; vertical-align: top\">[24284, 22838, 7304,<br>24787, 5127, 6213, 5319, ...</td>\n",
       "    </tr>\n",
       "    <tr>\n",
       "        <td style=\"padding-left: 1em; padding-right: 1em; text-align: center; vertical-align: top\">25650</td>\n",
       "        <td style=\"padding-left: 1em; padding-right: 1em; text-align: center; vertical-align: top\">[7071, 23743, 25856,<br>25900, 13255, 9151, ...</td>\n",
       "    </tr>\n",
       "</table>\n",
       "[457 rows x 2 columns]<br/>Note: Only the head of the SFrame is printed.<br/>You can use print_rows(num_rows=m, num_columns=n) to print more rows and columns.\n",
       "</div>"
      ],
      "text/plain": [
       "Columns:\n",
       "\tnn\tint\n",
       "\tnodes\tlist\n",
       "\n",
       "Rows: 457\n",
       "\n",
       "Data:\n",
       "+-------+-------------------------------+\n",
       "|   nn  |             nodes             |\n",
       "+-------+-------------------------------+\n",
       "|  8324 | [1334, 279, 6575, 10975, 1... |\n",
       "| 15635 |  [15227, 1249, 25087, 14471]  |\n",
       "| 14897 | [19737, 11561, 2954, 19306... |\n",
       "| 11338 |         [11509, 6835]         |\n",
       "| 18638 |      [18569, 16446, 9867]     |\n",
       "| 25885 |       [596, 21196, 9974]      |\n",
       "|  6314 | [26198, 5551, 2363, 15910,... |\n",
       "| 19581 | [18994, 9405, 1078, 13316,... |\n",
       "|  2211 | [24284, 22838, 7304, 24787... |\n",
       "| 25650 | [7071, 23743, 25856, 25900... |\n",
       "+-------+-------------------------------+\n",
       "[457 rows x 2 columns]\n",
       "Note: Only the head of the SFrame is printed.\n",
       "You can use print_rows(num_rows=m, num_columns=n) to print more rows and columns."
      ]
     },
     "execution_count": 67,
     "metadata": {},
     "output_type": "execute_result"
    }
   ],
   "source": [
    "gwrr.groupby(key_column_names='nn', operations={'nodes': agg.DISTINCT('apk')})\n",
    "#true_dicts = [{row['nn']: row['nodes'] for row in nep} for nep in dicts]"
   ]
  },
  {
   "cell_type": "code",
   "execution_count": 68,
   "id": "governmental-nudist",
   "metadata": {},
   "outputs": [],
   "source": [
    "mazza = gwrrd.groupby(key_column_names='nn', operations={'nodes': agg.DISTINCT('apk')})"
   ]
  },
  {
   "cell_type": "code",
   "execution_count": 69,
   "id": "driven-assault",
   "metadata": {},
   "outputs": [],
   "source": [
    "nnet = {row['nn']: row['nodes'] for row in mazza}"
   ]
  },
  {
   "cell_type": "code",
   "execution_count": 71,
   "id": "sensitive-piece",
   "metadata": {},
   "outputs": [
    {
     "data": {
      "text/plain": [
       "(457, 536)"
      ]
     },
     "execution_count": 71,
     "metadata": {},
     "output_type": "execute_result"
    }
   ],
   "source": [
    "len(nnet), len(anet)"
   ]
  },
  {
   "cell_type": "code",
   "execution_count": 73,
   "id": "asian-edwards",
   "metadata": {},
   "outputs": [
    {
     "data": {
      "text/plain": [
       "(8467, 8467)"
      ]
     },
     "execution_count": 73,
     "metadata": {},
     "output_type": "execute_result"
    }
   ],
   "source": [
    "sum(map(len, anet.values())), sum(map(len, nnet.values()))"
   ]
  },
  {
   "cell_type": "code",
   "execution_count": 74,
   "id": "cosmetic-huntington",
   "metadata": {},
   "outputs": [
    {
     "data": {
      "application/vnd.jupyter.widget-view+json": {
       "model_id": "bcc733e0d8e149e4b509d54e4c709925",
       "version_major": 2,
       "version_minor": 0
      },
      "text/plain": [
       "  0%|          | 0/457 [00:00<?, ?it/s]"
      ]
     },
     "metadata": {},
     "output_type": "display_data"
    },
    {
     "ename": "KeyboardInterrupt",
     "evalue": "",
     "output_type": "error",
     "traceback": [
      "\u001b[0;31m---------------------------------------------------------------------------\u001b[0m",
      "\u001b[0;31mKeyboardInterrupt\u001b[0m                         Traceback (most recent call last)",
      "\u001b[0;32m<ipython-input-74-157ddd8fd624>\u001b[0m in \u001b[0;36m<module>\u001b[0;34m\u001b[0m\n\u001b[1;32m      2\u001b[0m     \u001b[0;32mfor\u001b[0m \u001b[0mvi\u001b[0m \u001b[0;32min\u001b[0m \u001b[0mv\u001b[0m\u001b[0;34m:\u001b[0m\u001b[0;34m\u001b[0m\u001b[0;34m\u001b[0m\u001b[0m\n\u001b[1;32m      3\u001b[0m         \u001b[0mcurr_dist\u001b[0m \u001b[0;34m=\u001b[0m \u001b[0mdistance\u001b[0m\u001b[0;34m(\u001b[0m\u001b[0mvi\u001b[0m\u001b[0;34m,\u001b[0m \u001b[0mk\u001b[0m\u001b[0;34m)\u001b[0m\u001b[0;34m\u001b[0m\u001b[0;34m\u001b[0m\u001b[0m\n\u001b[0;32m----> 4\u001b[0;31m         \u001b[0mdistances\u001b[0m \u001b[0;34m=\u001b[0m \u001b[0;34m[\u001b[0m\u001b[0;34m(\u001b[0m\u001b[0mvi\u001b[0m\u001b[0;34m,\u001b[0m \u001b[0mki\u001b[0m\u001b[0;34m,\u001b[0m \u001b[0mk\u001b[0m\u001b[0;34m,\u001b[0m \u001b[0mdistance\u001b[0m\u001b[0;34m(\u001b[0m\u001b[0mvi\u001b[0m\u001b[0;34m,\u001b[0m \u001b[0mki\u001b[0m\u001b[0;34m)\u001b[0m\u001b[0;34m,\u001b[0m \u001b[0mcurr_dist\u001b[0m\u001b[0;34m)\u001b[0m \u001b[0;32mfor\u001b[0m \u001b[0mki\u001b[0m \u001b[0;32min\u001b[0m \u001b[0mnnet\u001b[0m\u001b[0;34m.\u001b[0m\u001b[0mkeys\u001b[0m\u001b[0;34m(\u001b[0m\u001b[0;34m)\u001b[0m \u001b[0;32mif\u001b[0m \u001b[0mdistance\u001b[0m\u001b[0;34m(\u001b[0m\u001b[0mvi\u001b[0m\u001b[0;34m,\u001b[0m\u001b[0mki\u001b[0m\u001b[0;34m)\u001b[0m\u001b[0;34m<\u001b[0m\u001b[0mcurr_dist\u001b[0m\u001b[0;34m]\u001b[0m\u001b[0;34m\u001b[0m\u001b[0;34m\u001b[0m\u001b[0m\n\u001b[0m\u001b[1;32m      5\u001b[0m         \u001b[0;32mif\u001b[0m \u001b[0mdistances\u001b[0m\u001b[0;34m:\u001b[0m\u001b[0;34m\u001b[0m\u001b[0;34m\u001b[0m\u001b[0m\n\u001b[1;32m      6\u001b[0m             \u001b[0mprint\u001b[0m\u001b[0;34m(\u001b[0m\u001b[0mdistances\u001b[0m\u001b[0;34m)\u001b[0m\u001b[0;34m\u001b[0m\u001b[0;34m\u001b[0m\u001b[0m\n",
      "\u001b[0;32m<ipython-input-74-157ddd8fd624>\u001b[0m in \u001b[0;36m<listcomp>\u001b[0;34m(.0)\u001b[0m\n\u001b[1;32m      2\u001b[0m     \u001b[0;32mfor\u001b[0m \u001b[0mvi\u001b[0m \u001b[0;32min\u001b[0m \u001b[0mv\u001b[0m\u001b[0;34m:\u001b[0m\u001b[0;34m\u001b[0m\u001b[0;34m\u001b[0m\u001b[0m\n\u001b[1;32m      3\u001b[0m         \u001b[0mcurr_dist\u001b[0m \u001b[0;34m=\u001b[0m \u001b[0mdistance\u001b[0m\u001b[0;34m(\u001b[0m\u001b[0mvi\u001b[0m\u001b[0;34m,\u001b[0m \u001b[0mk\u001b[0m\u001b[0;34m)\u001b[0m\u001b[0;34m\u001b[0m\u001b[0;34m\u001b[0m\u001b[0m\n\u001b[0;32m----> 4\u001b[0;31m         \u001b[0mdistances\u001b[0m \u001b[0;34m=\u001b[0m \u001b[0;34m[\u001b[0m\u001b[0;34m(\u001b[0m\u001b[0mvi\u001b[0m\u001b[0;34m,\u001b[0m \u001b[0mki\u001b[0m\u001b[0;34m,\u001b[0m \u001b[0mk\u001b[0m\u001b[0;34m,\u001b[0m \u001b[0mdistance\u001b[0m\u001b[0;34m(\u001b[0m\u001b[0mvi\u001b[0m\u001b[0;34m,\u001b[0m \u001b[0mki\u001b[0m\u001b[0;34m)\u001b[0m\u001b[0;34m,\u001b[0m \u001b[0mcurr_dist\u001b[0m\u001b[0;34m)\u001b[0m \u001b[0;32mfor\u001b[0m \u001b[0mki\u001b[0m \u001b[0;32min\u001b[0m \u001b[0mnnet\u001b[0m\u001b[0;34m.\u001b[0m\u001b[0mkeys\u001b[0m\u001b[0;34m(\u001b[0m\u001b[0;34m)\u001b[0m \u001b[0;32mif\u001b[0m \u001b[0mdistance\u001b[0m\u001b[0;34m(\u001b[0m\u001b[0mvi\u001b[0m\u001b[0;34m,\u001b[0m\u001b[0mki\u001b[0m\u001b[0;34m)\u001b[0m\u001b[0;34m<\u001b[0m\u001b[0mcurr_dist\u001b[0m\u001b[0;34m]\u001b[0m\u001b[0;34m\u001b[0m\u001b[0;34m\u001b[0m\u001b[0m\n\u001b[0m\u001b[1;32m      5\u001b[0m         \u001b[0;32mif\u001b[0m \u001b[0mdistances\u001b[0m\u001b[0;34m:\u001b[0m\u001b[0;34m\u001b[0m\u001b[0;34m\u001b[0m\u001b[0m\n\u001b[1;32m      6\u001b[0m             \u001b[0mprint\u001b[0m\u001b[0;34m(\u001b[0m\u001b[0mdistances\u001b[0m\u001b[0;34m)\u001b[0m\u001b[0;34m\u001b[0m\u001b[0;34m\u001b[0m\u001b[0m\n",
      "\u001b[0;32m<ipython-input-4-957601428171>\u001b[0m in \u001b[0;36m<lambda>\u001b[0;34m(x, y)\u001b[0m\n\u001b[1;32m      9\u001b[0m \u001b[0;34m\u001b[0m\u001b[0m\n\u001b[1;32m     10\u001b[0m \u001b[0;31m# good old panda based distance calculation:\u001b[0m\u001b[0;34m\u001b[0m\u001b[0;34m\u001b[0m\u001b[0;34m\u001b[0m\u001b[0m\n\u001b[0;32m---> 11\u001b[0;31m \u001b[0mdistance\u001b[0m \u001b[0;34m=\u001b[0m \u001b[0;32mlambda\u001b[0m \u001b[0mx\u001b[0m\u001b[0;34m,\u001b[0m\u001b[0my\u001b[0m\u001b[0;34m:\u001b[0m \u001b[0mjaccard\u001b[0m\u001b[0;34m(\u001b[0m\u001b[0mx\u001b[0m\u001b[0;34m,\u001b[0m \u001b[0my\u001b[0m\u001b[0;34m,\u001b[0m \u001b[0mm\u001b[0m\u001b[0;34m[\u001b[0m\u001b[0;34m'nf'\u001b[0m\u001b[0;34m]\u001b[0m\u001b[0;34m)\u001b[0m\u001b[0;34m\u001b[0m\u001b[0;34m\u001b[0m\u001b[0m\n\u001b[0m",
      "\u001b[0;32m<ipython-input-4-957601428171>\u001b[0m in \u001b[0;36mjaccard\u001b[0;34m(apid1, apid2, funcs)\u001b[0m\n\u001b[1;32m      6\u001b[0m     \u001b[0mp2\u001b[0m \u001b[0;34m=\u001b[0m \u001b[0mfuncs\u001b[0m\u001b[0;34m[\u001b[0m\u001b[0mapid2\u001b[0m\u001b[0;34m]\u001b[0m\u001b[0;34m\u001b[0m\u001b[0;34m\u001b[0m\u001b[0m\n\u001b[1;32m      7\u001b[0m \u001b[0;34m\u001b[0m\u001b[0m\n\u001b[0;32m----> 8\u001b[0;31m     \u001b[0;32mreturn\u001b[0m \u001b[0;36m1\u001b[0m \u001b[0;34m-\u001b[0m \u001b[0mlen\u001b[0m\u001b[0;34m(\u001b[0m\u001b[0mp1\u001b[0m \u001b[0;34m&\u001b[0m \u001b[0mp2\u001b[0m\u001b[0;34m)\u001b[0m\u001b[0;34m/\u001b[0m\u001b[0mlen\u001b[0m\u001b[0;34m(\u001b[0m\u001b[0mp1\u001b[0m\u001b[0;34m|\u001b[0m\u001b[0mp2\u001b[0m\u001b[0;34m)\u001b[0m\u001b[0;34m\u001b[0m\u001b[0;34m\u001b[0m\u001b[0m\n\u001b[0m\u001b[1;32m      9\u001b[0m \u001b[0;34m\u001b[0m\u001b[0m\n\u001b[1;32m     10\u001b[0m \u001b[0;31m# good old panda based distance calculation:\u001b[0m\u001b[0;34m\u001b[0m\u001b[0;34m\u001b[0m\u001b[0;34m\u001b[0m\u001b[0m\n",
      "\u001b[0;31mKeyboardInterrupt\u001b[0m: "
     ]
    }
   ],
   "source": [
    "for k, v in tqdm(nnet.items()):\n",
    "    for vi in v:\n",
    "        curr_dist = distance(vi, k)\n",
    "        distances = [(vi, ki, k, distance(vi, ki), curr_dist) for ki in nnet.keys() if distance(vi,ki)<curr_dist]\n",
    "        if distances:\n",
    "            print(distances)\n",
    "    "
   ]
  },
  {
   "cell_type": "code",
   "execution_count": null,
   "id": "pointed-symphony",
   "metadata": {},
   "outputs": [],
   "source": []
  },
  {
   "cell_type": "code",
   "execution_count": null,
   "id": "cordless-coaching",
   "metadata": {},
   "outputs": [],
   "source": []
  },
  {
   "cell_type": "code",
   "execution_count": null,
   "id": "stuck-adelaide",
   "metadata": {},
   "outputs": [],
   "source": []
  },
  {
   "cell_type": "code",
   "execution_count": 80,
   "id": "comparable-enough",
   "metadata": {},
   "outputs": [],
   "source": [
    "from grapm import partition_ndframe"
   ]
  },
  {
   "cell_type": "code",
   "execution_count": 81,
   "id": "express-example",
   "metadata": {},
   "outputs": [],
   "source": [
    "subsamp = mw\n",
    "napks = subsamp['apk'].unique().to_numpy()"
   ]
  },
  {
   "cell_type": "code",
   "execution_count": 82,
   "id": "mysterious-porcelain",
   "metadata": {},
   "outputs": [],
   "source": [
    "test_size = 1000\n",
    "train, test = train_test_split(napks, test_size=test_size, random_state=42)\n",
    "#np.save(f\"../res/test-tc-{test_size}\", test)\n",
    "\n",
    "parts = partition_ndframe(nd=train, n_parts=4)"
   ]
  },
  {
   "cell_type": "code",
   "execution_count": 90,
   "id": "signed-fault",
   "metadata": {},
   "outputs": [
    {
     "data": {
      "text/plain": [
       "(False, False, True)"
      ]
     },
     "execution_count": 90,
     "metadata": {},
     "output_type": "execute_result"
    }
   ],
   "source": [
    "# so this is not a problem with origin network calcluation\n",
    "18788 in parts[0], 29 in parts[0], 16393 in parts[0]"
   ]
  },
  {
   "cell_type": "code",
   "execution_count": 94,
   "id": "engaging-radiation",
   "metadata": {},
   "outputs": [
    {
     "data": {
      "text/plain": [
       "(True, True, False)"
      ]
     },
     "execution_count": 94,
     "metadata": {},
     "output_type": "execute_result"
    }
   ],
   "source": [
    "# but where this comes from then:\n",
    "29 in anet.keys(), 16393 in anet.keys(), 18788 in anet.keys()"
   ]
  },
  {
   "cell_type": "code",
   "execution_count": 87,
   "id": "athletic-hearing",
   "metadata": {},
   "outputs": [],
   "source": [
    "#[(18788, 29, 16393, 0.19999999999999996, 0.5)]"
   ]
  },
  {
   "cell_type": "code",
   "execution_count": 88,
   "id": "governmental-composition",
   "metadata": {},
   "outputs": [],
   "source": [
    "sparts = [subsamp.filter_by(values=part, column_name='apk') for part in parts]"
   ]
  },
  {
   "cell_type": "code",
   "execution_count": 100,
   "id": "mechanical-constant",
   "metadata": {},
   "outputs": [],
   "source": [
    "with open('/tmp/p1.txt', 'wb+') as f:\n",
    "    np.savetxt(f, parts[0], fmt='%d')"
   ]
  },
  {
   "cell_type": "code",
   "execution_count": 99,
   "id": "ordered-things",
   "metadata": {},
   "outputs": [],
   "source": [
    "np.savetxt?"
   ]
  },
  {
   "cell_type": "code",
   "execution_count": null,
   "id": "existing-tender",
   "metadata": {},
   "outputs": [],
   "source": []
  },
  {
   "cell_type": "code",
   "execution_count": null,
   "id": "unauthorized-logistics",
   "metadata": {},
   "outputs": [],
   "source": []
  },
  {
   "cell_type": "code",
   "execution_count": null,
   "id": "empirical-motorcycle",
   "metadata": {},
   "outputs": [],
   "source": []
  },
  {
   "cell_type": "code",
   "execution_count": null,
   "id": "precious-skill",
   "metadata": {},
   "outputs": [],
   "source": []
  },
  {
   "cell_type": "code",
   "execution_count": 101,
   "id": "sophisticated-combination",
   "metadata": {},
   "outputs": [],
   "source": [
    "# original network\n",
    "# apparently seting same seeds is not enough for reproducibility"
   ]
  },
  {
   "cell_type": "code",
   "execution_count": 104,
   "id": "informational-validity",
   "metadata": {},
   "outputs": [],
   "source": [
    "fname = '../res/0.5-stream-singleaggregating.pickle'"
   ]
  },
  {
   "cell_type": "code",
   "execution_count": 105,
   "id": "absent-greensboro",
   "metadata": {},
   "outputs": [],
   "source": [
    "with open(fname, 'rb') as f:\n",
    "    ann = pickle.load(f)"
   ]
  },
  {
   "cell_type": "code",
   "execution_count": 107,
   "id": "regulated-toronto",
   "metadata": {},
   "outputs": [],
   "source": [
    "ann = ann[0.5]"
   ]
  },
  {
   "cell_type": "code",
   "execution_count": 110,
   "id": "smart-consensus",
   "metadata": {},
   "outputs": [],
   "source": [
    "[true_dicts, origin_net] = ann"
   ]
  },
  {
   "cell_type": "code",
   "execution_count": 113,
   "id": "advisory-while",
   "metadata": {},
   "outputs": [
    {
     "data": {
      "text/plain": [
       "(True, True, False, True)"
      ]
     },
     "execution_count": 113,
     "metadata": {},
     "output_type": "execute_result"
    }
   ],
   "source": [
    "# but where this comes from then:\n",
    "29 in origin_net.keys(), 16393 in origin_net.keys(), 18788 in origin_net.keys(), 18788 in origin_net[16393]"
   ]
  },
  {
   "cell_type": "code",
   "execution_count": 114,
   "id": "metric-jurisdiction",
   "metadata": {},
   "outputs": [
    {
     "data": {
      "text/plain": [
       "(0.19999999999999996, 0.5)"
      ]
     },
     "execution_count": 114,
     "metadata": {},
     "output_type": "execute_result"
    }
   ],
   "source": [
    "# problem in the origin network (apk=18788) should be with anchor 29 is with 16393\n",
    "distance(29, 18788), distance(16393, 18788)"
   ]
  },
  {
   "cell_type": "code",
   "execution_count": 115,
   "id": "brown-adolescent",
   "metadata": {},
   "outputs": [
    {
     "data": {
      "application/vnd.jupyter.widget-view+json": {
       "model_id": "173f99d2572d4c36aec3ff347d085548",
       "version_major": 2,
       "version_minor": 0
      },
      "text/plain": [
       "  0%|          | 0/536 [00:00<?, ?it/s]"
      ]
     },
     "metadata": {},
     "output_type": "display_data"
    },
    {
     "name": "stdout",
     "output_type": "stream",
     "text": [
      "[(18788, 29, 0.19999999999999996, 16393, 0.5)]\n",
      "[(26000, 2211, 0.4285714285714286, 16393, 0.5), (26000, 21306, 0.4, 16393, 0.5)]\n",
      "[(15619, 3721, 0.45201041732833636, 4109, 0.4907125752378487), (15619, 19718, 0.41996204933586334, 4109, 0.4907125752378487), (15619, 5806, 0.4526655422746938, 4109, 0.4907125752378487)]\n",
      "[(18533, 19718, 0.4173242153252674, 4109, 0.49502123297700984)]\n",
      "[(11942, 8221, 0.3254882930971733, 4109, 0.49934428758774974), (11942, 19718, 0.4603506222181851, 4109, 0.49934428758774974)]\n",
      "[(8364, 8221, 0.32863564572955895, 4109, 0.4526391325147504)]\n",
      "[(5585, 3721, 0.46233917372470423, 4109, 0.4834556370913943), (5585, 19718, 0.3696002578981302, 4109, 0.4834556370913943)]\n",
      "[(12020, 8221, 0.32483302975106254, 4109, 0.4989192527404662), (12020, 19718, 0.46135682499318864, 4109, 0.4989192527404662)]\n",
      "[(9911, 3721, 0.46796589524969545, 4109, 0.47517237016889113), (9911, 19718, 0.3883169203222918, 4109, 0.47517237016889113)]\n",
      "[(7868, 19718, 0.36926082709215236, 4109, 0.42489690361361576)]\n",
      "[(10763, 24618, 0.39181351773366047, 12305, 0.41504112808460636)]\n",
      "[(21005, 24618, 0.3918615107913669, 12305, 0.4101985023178414)]\n",
      "[(23103, 6957, 0.3068547768747125, 12305, 0.43511450381679384)]\n",
      "[(17476, 6957, 0.2836288659793814, 12305, 0.37075138678769537)]\n",
      "[(21576, 6957, 0.2836288659793814, 12305, 0.37075138678769537)]\n",
      "[(11358, 6957, 0.2836288659793814, 12305, 0.37075138678769537)]\n",
      "[(4209, 6957, 0.2836288659793814, 12305, 0.37075138678769537)]\n",
      "[(17569, 6957, 0.2836288659793814, 12305, 0.37075138678769537)]\n",
      "[(206, 24618, 0.36717012059477816, 12305, 0.38463447933473993)]\n",
      "[(5840, 6957, 0.3068547768747125, 12305, 0.43511450381679384)]\n",
      "[(24272, 6957, 0.30435117443203696, 12305, 0.43269838403899974)]\n",
      "[(11487, 24618, 0.4472451483381664, 12305, 0.4846611454566663), (11487, 24722, 0.4478330658105939, 12305, 0.4846611454566663)]\n",
      "[(4326, 6957, 0.33223558244619744, 12305, 0.42380996225025325)]\n",
      "[(8940, 24618, 0.4178132549101985, 12305, 0.45100832967996496), (8940, 8254, 0.404662861565251, 12305, 0.45100832967996496)]\n",
      "[(6412, 6957, 0.2836288659793814, 12305, 0.37075138678769537)]\n",
      "[(18736, 8221, 0.3119837184245181, 12305, 0.4854577396056998), (18736, 15638, 0.4469386045732473, 12305, 0.4854577396056998)]\n",
      "[(21346, 6957, 0.2836288659793814, 12305, 0.37075138678769537)]\n",
      "[(26987, 6957, 0.3068547768747125, 12305, 0.43511450381679384)]\n",
      "[(21382, 6957, 0.33223558244619744, 12305, 0.42380996225025325)]\n",
      "[(1465, 6957, 0.3068547768747125, 12305, 0.43511450381679384)]\n",
      "[(7150, 24618, 0.4115759067080347, 12305, 0.44252937884723), (7150, 8254, 0.3990162321692081, 12305, 0.44252937884723)]\n",
      "[(1010, 24618, 0.3074299115232918, 12305, 0.4579593521097699)]\n",
      "[(10533, 7212, 0.4, 4115, 0.5)]\n",
      "[(19201, 18999, 0.326730518067044, 16406, 0.35030329289428075)]\n",
      "[(19266, 18999, 0.3821765209940017, 16406, 0.44361215147732)]\n",
      "[(4810, 2130, 0.44311177744461105, 16406, 0.48222409435551816), (4810, 18999, 0.4033761209776684, 16406, 0.48222409435551816), (4810, 4737, 0.35804892781636966, 16406, 0.48222409435551816)]\n",
      "[(2348, 2130, 0.4179515418502202, 16406, 0.4541721112563002), (2348, 18999, 0.39919509390571095, 16406, 0.4541721112563002), (2348, 4737, 0.36776061776061775, 16406, 0.4541721112563002)]\n",
      "[(9856, 19150, 0.4513600737667127, 8221, 0.4949629137606554)]\n",
      "[(20101, 16973, 0.37523613257770905, 8221, 0.38447741725093754), (20101, 10006, 0.35363057324840763, 8221, 0.38447741725093754)]\n",
      "[(10760, 10006, 0.3463715903242409, 8221, 0.37924807092431456)]\n",
      "[(17417, 14542, 0.41606655078222, 8221, 0.4987295825771325), (17417, 19150, 0.4465014432168807, 8221, 0.4987295825771325)]\n",
      "[(16270, 16973, 0.37523613257770905, 8221, 0.38447741725093754), (16270, 10006, 0.35363057324840763, 8221, 0.38447741725093754)]\n",
      "[(13844, 14542, 0.41606655078222, 8221, 0.4987295825771325), (13844, 19150, 0.4465014432168807, 8221, 0.4987295825771325)]\n",
      "[(3095, 2130, 0.4326023187596033, 8221, 0.4359130859375), (3095, 11170, 0.3826867519603797, 8221, 0.4359130859375)]\n",
      "[(19096, 19718, 0.4650436453912069, 8221, 0.4677187948350072)]\n",
      "[(9902, 19150, 0.4513600737667127, 8221, 0.4949629137606554)]\n",
      "[(2736, 19150, 0.4513600737667127, 8221, 0.4949629137606554)]\n",
      "[(11973, 16973, 0.37523613257770905, 8221, 0.38447741725093754), (11973, 10006, 0.35363057324840763, 8221, 0.38447741725093754)]\n",
      "[(8284, 6809, 0.4180157741801578, 8221, 0.4364165857717376)]\n",
      "[(19679, 14542, 0.39856670341786105, 8221, 0.42187062447493695)]\n",
      "[(13032, 16973, 0.35500851525003874, 8221, 0.4607257055470596)]\n",
      "[(14824, 19150, 0.4513600737667127, 8221, 0.4949629137606554)]\n",
      "[(17131, 16973, 0.4179785894206549, 8221, 0.47530505520046484)]\n",
      "[(19562, 2130, 0.37548360822643045, 8221, 0.4314046877561055)]\n",
      "[(6772, 2130, 0.4007866273352999, 8221, 0.44937011640886626), (6772, 18999, 0.42837162837162834, 8221, 0.44937011640886626)]\n",
      "[(13100, 14542, 0.41606655078222, 8221, 0.4987295825771325), (13100, 19150, 0.4465014432168807, 8221, 0.4987295825771325)]\n",
      "[(7290, 19150, 0.4502627454595741, 8221, 0.4958001768346596)]\n",
      "[(4732, 16973, 0.37523613257770905, 8221, 0.38447741725093754), (4732, 10006, 0.35363057324840763, 8221, 0.38447741725093754)]\n",
      "[(1154, 199, 0.439176967138981, 38, 0.4768653605669029)]\n",
      "[(12996, 15638, 0.4296726001271456, 38, 0.49157869766338513), (12996, 4918, 0.4106534229233616, 38, 0.49157869766338513)]\n",
      "[(17926, 17347, 0.14529914529914534, 38, 0.4963388837663394)]\n",
      "[(454, 199, 0.3812774256460263, 38, 0.43899895724713245)]\n",
      "[(525, 199, 0.2968809073724008, 38, 0.39236826165960026)]\n",
      "[(19154, 199, 0.3812774256460263, 38, 0.43899895724713245)]\n",
      "[(23542, 17843, 0.41930247861373104, 38, 0.4410949558691851)]\n",
      "[(286, 199, 0.439176967138981, 38, 0.4768653605669029)]\n",
      "[(22690, 24087, 0.35020314432079136, 24618, 0.3919616865433374)]\n",
      "[(15143, 8323, 0.27126741871267424, 24618, 0.498014382311903)]\n",
      "[(14376, 8323, 0.3208848405985686, 24618, 0.4898758981058132)]\n",
      "[(3815, 24722, 0.39835473015081635, 24618, 0.48736998514115903), (3815, 4627, 0.46673819742489275, 24618, 0.48736998514115903)]\n"
     ]
    },
    {
     "ename": "KeyboardInterrupt",
     "evalue": "",
     "output_type": "error",
     "traceback": [
      "\u001b[0;31m---------------------------------------------------------------------------\u001b[0m",
      "\u001b[0;31mKeyboardInterrupt\u001b[0m                         Traceback (most recent call last)",
      "\u001b[0;32m<ipython-input-115-5e5f3ee99e18>\u001b[0m in \u001b[0;36m<module>\u001b[0;34m\u001b[0m\n\u001b[1;32m      2\u001b[0m     \u001b[0;32mfor\u001b[0m \u001b[0mvi\u001b[0m \u001b[0;32min\u001b[0m \u001b[0mv\u001b[0m\u001b[0;34m:\u001b[0m\u001b[0;34m\u001b[0m\u001b[0;34m\u001b[0m\u001b[0m\n\u001b[1;32m      3\u001b[0m         \u001b[0mcurr_dist\u001b[0m \u001b[0;34m=\u001b[0m \u001b[0mdistance\u001b[0m\u001b[0;34m(\u001b[0m\u001b[0mvi\u001b[0m\u001b[0;34m,\u001b[0m \u001b[0mk\u001b[0m\u001b[0;34m)\u001b[0m\u001b[0;34m\u001b[0m\u001b[0;34m\u001b[0m\u001b[0m\n\u001b[0;32m----> 4\u001b[0;31m         \u001b[0mdistances\u001b[0m \u001b[0;34m=\u001b[0m \u001b[0;34m[\u001b[0m\u001b[0;34m(\u001b[0m\u001b[0mvi\u001b[0m\u001b[0;34m,\u001b[0m \u001b[0mki\u001b[0m\u001b[0;34m,\u001b[0m \u001b[0mdistance\u001b[0m\u001b[0;34m(\u001b[0m\u001b[0mvi\u001b[0m\u001b[0;34m,\u001b[0m \u001b[0mki\u001b[0m\u001b[0;34m)\u001b[0m\u001b[0;34m,\u001b[0m\u001b[0mk\u001b[0m\u001b[0;34m,\u001b[0m \u001b[0mcurr_dist\u001b[0m\u001b[0;34m)\u001b[0m \u001b[0;32mfor\u001b[0m \u001b[0mki\u001b[0m \u001b[0;32min\u001b[0m \u001b[0morigin_net\u001b[0m\u001b[0;34m.\u001b[0m\u001b[0mkeys\u001b[0m\u001b[0;34m(\u001b[0m\u001b[0;34m)\u001b[0m \u001b[0;32mif\u001b[0m \u001b[0mdistance\u001b[0m\u001b[0;34m(\u001b[0m\u001b[0mvi\u001b[0m\u001b[0;34m,\u001b[0m\u001b[0mki\u001b[0m\u001b[0;34m)\u001b[0m\u001b[0;34m<\u001b[0m\u001b[0mcurr_dist\u001b[0m\u001b[0;34m]\u001b[0m\u001b[0;34m\u001b[0m\u001b[0;34m\u001b[0m\u001b[0m\n\u001b[0m\u001b[1;32m      5\u001b[0m         \u001b[0;32mif\u001b[0m \u001b[0mdistances\u001b[0m\u001b[0;34m:\u001b[0m\u001b[0;34m\u001b[0m\u001b[0;34m\u001b[0m\u001b[0m\n\u001b[1;32m      6\u001b[0m             \u001b[0mprint\u001b[0m\u001b[0;34m(\u001b[0m\u001b[0mdistances\u001b[0m\u001b[0;34m)\u001b[0m\u001b[0;34m\u001b[0m\u001b[0;34m\u001b[0m\u001b[0m\n",
      "\u001b[0;32m<ipython-input-115-5e5f3ee99e18>\u001b[0m in \u001b[0;36m<listcomp>\u001b[0;34m(.0)\u001b[0m\n\u001b[1;32m      2\u001b[0m     \u001b[0;32mfor\u001b[0m \u001b[0mvi\u001b[0m \u001b[0;32min\u001b[0m \u001b[0mv\u001b[0m\u001b[0;34m:\u001b[0m\u001b[0;34m\u001b[0m\u001b[0;34m\u001b[0m\u001b[0m\n\u001b[1;32m      3\u001b[0m         \u001b[0mcurr_dist\u001b[0m \u001b[0;34m=\u001b[0m \u001b[0mdistance\u001b[0m\u001b[0;34m(\u001b[0m\u001b[0mvi\u001b[0m\u001b[0;34m,\u001b[0m \u001b[0mk\u001b[0m\u001b[0;34m)\u001b[0m\u001b[0;34m\u001b[0m\u001b[0;34m\u001b[0m\u001b[0m\n\u001b[0;32m----> 4\u001b[0;31m         \u001b[0mdistances\u001b[0m \u001b[0;34m=\u001b[0m \u001b[0;34m[\u001b[0m\u001b[0;34m(\u001b[0m\u001b[0mvi\u001b[0m\u001b[0;34m,\u001b[0m \u001b[0mki\u001b[0m\u001b[0;34m,\u001b[0m \u001b[0mdistance\u001b[0m\u001b[0;34m(\u001b[0m\u001b[0mvi\u001b[0m\u001b[0;34m,\u001b[0m \u001b[0mki\u001b[0m\u001b[0;34m)\u001b[0m\u001b[0;34m,\u001b[0m\u001b[0mk\u001b[0m\u001b[0;34m,\u001b[0m \u001b[0mcurr_dist\u001b[0m\u001b[0;34m)\u001b[0m \u001b[0;32mfor\u001b[0m \u001b[0mki\u001b[0m \u001b[0;32min\u001b[0m \u001b[0morigin_net\u001b[0m\u001b[0;34m.\u001b[0m\u001b[0mkeys\u001b[0m\u001b[0;34m(\u001b[0m\u001b[0;34m)\u001b[0m \u001b[0;32mif\u001b[0m \u001b[0mdistance\u001b[0m\u001b[0;34m(\u001b[0m\u001b[0mvi\u001b[0m\u001b[0;34m,\u001b[0m\u001b[0mki\u001b[0m\u001b[0;34m)\u001b[0m\u001b[0;34m<\u001b[0m\u001b[0mcurr_dist\u001b[0m\u001b[0;34m]\u001b[0m\u001b[0;34m\u001b[0m\u001b[0;34m\u001b[0m\u001b[0m\n\u001b[0m\u001b[1;32m      5\u001b[0m         \u001b[0;32mif\u001b[0m \u001b[0mdistances\u001b[0m\u001b[0;34m:\u001b[0m\u001b[0;34m\u001b[0m\u001b[0;34m\u001b[0m\u001b[0m\n\u001b[1;32m      6\u001b[0m             \u001b[0mprint\u001b[0m\u001b[0;34m(\u001b[0m\u001b[0mdistances\u001b[0m\u001b[0;34m)\u001b[0m\u001b[0;34m\u001b[0m\u001b[0;34m\u001b[0m\u001b[0m\n",
      "\u001b[0;32m<ipython-input-4-957601428171>\u001b[0m in \u001b[0;36m<lambda>\u001b[0;34m(x, y)\u001b[0m\n\u001b[1;32m      9\u001b[0m \u001b[0;34m\u001b[0m\u001b[0m\n\u001b[1;32m     10\u001b[0m \u001b[0;31m# good old panda based distance calculation:\u001b[0m\u001b[0;34m\u001b[0m\u001b[0;34m\u001b[0m\u001b[0;34m\u001b[0m\u001b[0m\n\u001b[0;32m---> 11\u001b[0;31m \u001b[0mdistance\u001b[0m \u001b[0;34m=\u001b[0m \u001b[0;32mlambda\u001b[0m \u001b[0mx\u001b[0m\u001b[0;34m,\u001b[0m\u001b[0my\u001b[0m\u001b[0;34m:\u001b[0m \u001b[0mjaccard\u001b[0m\u001b[0;34m(\u001b[0m\u001b[0mx\u001b[0m\u001b[0;34m,\u001b[0m \u001b[0my\u001b[0m\u001b[0;34m,\u001b[0m \u001b[0mm\u001b[0m\u001b[0;34m[\u001b[0m\u001b[0;34m'nf'\u001b[0m\u001b[0;34m]\u001b[0m\u001b[0;34m)\u001b[0m\u001b[0;34m\u001b[0m\u001b[0;34m\u001b[0m\u001b[0m\n\u001b[0m",
      "\u001b[0;32m<ipython-input-4-957601428171>\u001b[0m in \u001b[0;36mjaccard\u001b[0;34m(apid1, apid2, funcs)\u001b[0m\n\u001b[1;32m      6\u001b[0m     \u001b[0mp2\u001b[0m \u001b[0;34m=\u001b[0m \u001b[0mfuncs\u001b[0m\u001b[0;34m[\u001b[0m\u001b[0mapid2\u001b[0m\u001b[0;34m]\u001b[0m\u001b[0;34m\u001b[0m\u001b[0;34m\u001b[0m\u001b[0m\n\u001b[1;32m      7\u001b[0m \u001b[0;34m\u001b[0m\u001b[0m\n\u001b[0;32m----> 8\u001b[0;31m     \u001b[0;32mreturn\u001b[0m \u001b[0;36m1\u001b[0m \u001b[0;34m-\u001b[0m \u001b[0mlen\u001b[0m\u001b[0;34m(\u001b[0m\u001b[0mp1\u001b[0m \u001b[0;34m&\u001b[0m \u001b[0mp2\u001b[0m\u001b[0;34m)\u001b[0m\u001b[0;34m/\u001b[0m\u001b[0mlen\u001b[0m\u001b[0;34m(\u001b[0m\u001b[0mp1\u001b[0m\u001b[0;34m|\u001b[0m\u001b[0mp2\u001b[0m\u001b[0;34m)\u001b[0m\u001b[0;34m\u001b[0m\u001b[0;34m\u001b[0m\u001b[0m\n\u001b[0m\u001b[1;32m      9\u001b[0m \u001b[0;34m\u001b[0m\u001b[0m\n\u001b[1;32m     10\u001b[0m \u001b[0;31m# good old panda based distance calculation:\u001b[0m\u001b[0;34m\u001b[0m\u001b[0;34m\u001b[0m\u001b[0;34m\u001b[0m\u001b[0m\n",
      "\u001b[0;31mKeyboardInterrupt\u001b[0m: "
     ]
    }
   ],
   "source": [
    "\n",
    "for k, v in tqdm(origin_net.items()):\n",
    "    for vi in v:\n",
    "        curr_dist = distance(vi, k)\n",
    "        distances = [(vi, ki, distance(vi, ki),k, curr_dist) for ki in origin_net.keys() if distance(vi,ki)<curr_dist]\n",
    "        if distances:\n",
    "            print(distances)\n",
    "    "
   ]
  },
  {
   "cell_type": "code",
   "execution_count": 118,
   "id": "unauthorized-grove",
   "metadata": {},
   "outputs": [],
   "source": [
    "with open('../res/p0.txt', 'r') as f:\n",
    "    p0=np.loadtxt(f)\n",
    "    \n",
    "spart = mw.filter_by(values=list(map(int, p0)), column_name='apk')"
   ]
  },
  {
   "cell_type": "code",
   "execution_count": 119,
   "id": "coupled-dover",
   "metadata": {},
   "outputs": [
    {
     "data": {
      "text/plain": [
       "array([13929.,  3852.,  1352., ..., 17326.,  9722., 20043.])"
      ]
     },
     "execution_count": 119,
     "metadata": {},
     "output_type": "execute_result"
    }
   ],
   "source": [
    "p0"
   ]
  },
  {
   "cell_type": "code",
   "execution_count": 121,
   "id": "quantitative-bridal",
   "metadata": {},
   "outputs": [
    {
     "data": {
      "text/plain": [
       "(True, True, True)"
      ]
     },
     "execution_count": 121,
     "metadata": {},
     "output_type": "execute_result"
    }
   ],
   "source": [
    "29 in p0, 18788 in p0, 16393 in p0"
   ]
  },
  {
   "cell_type": "code",
   "execution_count": 122,
   "id": "complicated-breakdown",
   "metadata": {},
   "outputs": [],
   "source": [
    "from grapm import f_create_network"
   ]
  },
  {
   "cell_type": "code",
   "execution_count": 127,
   "id": "included-blood",
   "metadata": {},
   "outputs": [],
   "source": [
    "spart = mw.filter_by(values=list(map(int, p0)), column_name='apk')\n",
    "#f_create_network()"
   ]
  },
  {
   "cell_type": "code",
   "execution_count": 128,
   "id": "sustained-establishment",
   "metadata": {},
   "outputs": [],
   "source": [
    "locnet = f_create_network(data=spart, gamma=0.5)"
   ]
  },
  {
   "cell_type": "code",
   "execution_count": 130,
   "id": "blocked-acoustic",
   "metadata": {},
   "outputs": [
    {
     "data": {
      "text/plain": [
       "(True, False, True)"
      ]
     },
     "execution_count": 130,
     "metadata": {},
     "output_type": "execute_result"
    }
   ],
   "source": [
    "29 in locnet.keys(), 18788 in locnet.keys(), 16393 in locnet.keys()"
   ]
  },
  {
   "cell_type": "code",
   "execution_count": 133,
   "id": "australian-coordinate",
   "metadata": {},
   "outputs": [
    {
     "data": {
      "text/plain": [
       "(False, True)"
      ]
     },
     "execution_count": 133,
     "metadata": {},
     "output_type": "execute_result"
    }
   ],
   "source": [
    "18788 in locnet[29], 18788 in locnet[16393]"
   ]
  },
  {
   "cell_type": "code",
   "execution_count": 135,
   "id": "textile-correction",
   "metadata": {},
   "outputs": [
    {
     "data": {
      "text/plain": [
       "(0.19999999999999996, 0.5, 0.6)"
      ]
     },
     "execution_count": 135,
     "metadata": {},
     "output_type": "execute_result"
    }
   ],
   "source": [
    "distance(18788, 29), distance(18788, 16393), distance(29, 16393)"
   ]
  },
  {
   "cell_type": "code",
   "execution_count": 138,
   "id": "widespread-north",
   "metadata": {},
   "outputs": [],
   "source": [
    "def pn(data, gamma):\n",
    "    apks = data['apk'].unique()\n",
    "    k = apks.shape[0]\n",
    "    sim_recom = tc.item_similarity_recommender.create(data, \n",
    "                                                      user_id='function', \n",
    "                                                      item_id='apk', \n",
    "                                                      similarity_type='jaccard', \n",
    "                                                      only_top_k=k, \n",
    "                                                      degree_approximation_threshold=15*4096, \n",
    "                                                      threshold=0.0, verbose=False)\n",
    "    itms = sim_recom.get_similar_items(apks, k=k)\n",
    "    # missing more \"distant nodes\", \"not aggregating nodes\"\n",
    "    gw=itms[itms['score']>=1-gamma].groupby(key_column_names='apk', operations={'sims': agg.DISTINCT('similar')})\n",
    "    return gw, itms"
   ]
  },
  {
   "cell_type": "code",
   "execution_count": 228,
   "id": "numerical-creation",
   "metadata": {},
   "outputs": [
    {
     "data": {
      "text/html": [
       "<div style=\"max-height:1000px;max-width:1500px;overflow:auto;\"><table frame=\"box\" rules=\"cols\">\n",
       "    <tr>\n",
       "        <th style=\"padding-left: 1em; padding-right: 1em; text-align: center\">apk</th>\n",
       "        <th style=\"padding-left: 1em; padding-right: 1em; text-align: center\">similar</th>\n",
       "        <th style=\"padding-left: 1em; padding-right: 1em; text-align: center\">score</th>\n",
       "        <th style=\"padding-left: 1em; padding-right: 1em; text-align: center\">rank</th>\n",
       "        <th style=\"padding-left: 1em; padding-right: 1em; text-align: center\">distance</th>\n",
       "    </tr>\n",
       "    <tr>\n",
       "        <td style=\"padding-left: 1em; padding-right: 1em; text-align: center; vertical-align: top\">5783</td>\n",
       "        <td style=\"padding-left: 1em; padding-right: 1em; text-align: center; vertical-align: top\">24234</td>\n",
       "        <td style=\"padding-left: 1em; padding-right: 1em; text-align: center; vertical-align: top\">1.0</td>\n",
       "        <td style=\"padding-left: 1em; padding-right: 1em; text-align: center; vertical-align: top\">1</td>\n",
       "        <td style=\"padding-left: 1em; padding-right: 1em; text-align: center; vertical-align: top\">0.0</td>\n",
       "    </tr>\n",
       "    <tr>\n",
       "        <td style=\"padding-left: 1em; padding-right: 1em; text-align: center; vertical-align: top\">5783</td>\n",
       "        <td style=\"padding-left: 1em; padding-right: 1em; text-align: center; vertical-align: top\">10602</td>\n",
       "        <td style=\"padding-left: 1em; padding-right: 1em; text-align: center; vertical-align: top\">1.0</td>\n",
       "        <td style=\"padding-left: 1em; padding-right: 1em; text-align: center; vertical-align: top\">2</td>\n",
       "        <td style=\"padding-left: 1em; padding-right: 1em; text-align: center; vertical-align: top\">0.0</td>\n",
       "    </tr>\n",
       "    <tr>\n",
       "        <td style=\"padding-left: 1em; padding-right: 1em; text-align: center; vertical-align: top\">5783</td>\n",
       "        <td style=\"padding-left: 1em; padding-right: 1em; text-align: center; vertical-align: top\">6939</td>\n",
       "        <td style=\"padding-left: 1em; padding-right: 1em; text-align: center; vertical-align: top\">0.688034176826477</td>\n",
       "        <td style=\"padding-left: 1em; padding-right: 1em; text-align: center; vertical-align: top\">3</td>\n",
       "        <td style=\"padding-left: 1em; padding-right: 1em; text-align: center; vertical-align: top\">0.31196582317352295</td>\n",
       "    </tr>\n",
       "    <tr>\n",
       "        <td style=\"padding-left: 1em; padding-right: 1em; text-align: center; vertical-align: top\">5783</td>\n",
       "        <td style=\"padding-left: 1em; padding-right: 1em; text-align: center; vertical-align: top\">21088</td>\n",
       "        <td style=\"padding-left: 1em; padding-right: 1em; text-align: center; vertical-align: top\">0.6363636255264282</td>\n",
       "        <td style=\"padding-left: 1em; padding-right: 1em; text-align: center; vertical-align: top\">4</td>\n",
       "        <td style=\"padding-left: 1em; padding-right: 1em; text-align: center; vertical-align: top\">0.3636363744735718</td>\n",
       "    </tr>\n",
       "    <tr>\n",
       "        <td style=\"padding-left: 1em; padding-right: 1em; text-align: center; vertical-align: top\">5783</td>\n",
       "        <td style=\"padding-left: 1em; padding-right: 1em; text-align: center; vertical-align: top\">27647</td>\n",
       "        <td style=\"padding-left: 1em; padding-right: 1em; text-align: center; vertical-align: top\">0.5735294222831726</td>\n",
       "        <td style=\"padding-left: 1em; padding-right: 1em; text-align: center; vertical-align: top\">5</td>\n",
       "        <td style=\"padding-left: 1em; padding-right: 1em; text-align: center; vertical-align: top\">0.4264705777168274</td>\n",
       "    </tr>\n",
       "    <tr>\n",
       "        <td style=\"padding-left: 1em; padding-right: 1em; text-align: center; vertical-align: top\">5783</td>\n",
       "        <td style=\"padding-left: 1em; padding-right: 1em; text-align: center; vertical-align: top\">15935</td>\n",
       "        <td style=\"padding-left: 1em; padding-right: 1em; text-align: center; vertical-align: top\">0.016949176788330078</td>\n",
       "        <td style=\"padding-left: 1em; padding-right: 1em; text-align: center; vertical-align: top\">6</td>\n",
       "        <td style=\"padding-left: 1em; padding-right: 1em; text-align: center; vertical-align: top\">0.9830508232116699</td>\n",
       "    </tr>\n",
       "    <tr>\n",
       "        <td style=\"padding-left: 1em; padding-right: 1em; text-align: center; vertical-align: top\">5783</td>\n",
       "        <td style=\"padding-left: 1em; padding-right: 1em; text-align: center; vertical-align: top\">24095</td>\n",
       "        <td style=\"padding-left: 1em; padding-right: 1em; text-align: center; vertical-align: top\">0.016483545303344727</td>\n",
       "        <td style=\"padding-left: 1em; padding-right: 1em; text-align: center; vertical-align: top\">7</td>\n",
       "        <td style=\"padding-left: 1em; padding-right: 1em; text-align: center; vertical-align: top\">0.9835164546966553</td>\n",
       "    </tr>\n",
       "    <tr>\n",
       "        <td style=\"padding-left: 1em; padding-right: 1em; text-align: center; vertical-align: top\">5783</td>\n",
       "        <td style=\"padding-left: 1em; padding-right: 1em; text-align: center; vertical-align: top\">16668</td>\n",
       "        <td style=\"padding-left: 1em; padding-right: 1em; text-align: center; vertical-align: top\">0.01592355966567993</td>\n",
       "        <td style=\"padding-left: 1em; padding-right: 1em; text-align: center; vertical-align: top\">8</td>\n",
       "        <td style=\"padding-left: 1em; padding-right: 1em; text-align: center; vertical-align: top\">0.9840764403343201</td>\n",
       "    </tr>\n",
       "    <tr>\n",
       "        <td style=\"padding-left: 1em; padding-right: 1em; text-align: center; vertical-align: top\">5783</td>\n",
       "        <td style=\"padding-left: 1em; padding-right: 1em; text-align: center; vertical-align: top\">1820</td>\n",
       "        <td style=\"padding-left: 1em; padding-right: 1em; text-align: center; vertical-align: top\">0.015118777751922607</td>\n",
       "        <td style=\"padding-left: 1em; padding-right: 1em; text-align: center; vertical-align: top\">9</td>\n",
       "        <td style=\"padding-left: 1em; padding-right: 1em; text-align: center; vertical-align: top\">0.9848812222480774</td>\n",
       "    </tr>\n",
       "    <tr>\n",
       "        <td style=\"padding-left: 1em; padding-right: 1em; text-align: center; vertical-align: top\">5783</td>\n",
       "        <td style=\"padding-left: 1em; padding-right: 1em; text-align: center; vertical-align: top\">2388</td>\n",
       "        <td style=\"padding-left: 1em; padding-right: 1em; text-align: center; vertical-align: top\">0.014836788177490234</td>\n",
       "        <td style=\"padding-left: 1em; padding-right: 1em; text-align: center; vertical-align: top\">10</td>\n",
       "        <td style=\"padding-left: 1em; padding-right: 1em; text-align: center; vertical-align: top\">0.9851632118225098</td>\n",
       "    </tr>\n",
       "</table>\n",
       "[10 rows x 5 columns]<br/>\n",
       "</div>"
      ],
      "text/plain": [
       "Columns:\n",
       "\tapk\tint\n",
       "\tsimilar\tint\n",
       "\tscore\tfloat\n",
       "\trank\tint\n",
       "\tdistance\tfloat\n",
       "\n",
       "Rows: 10\n",
       "\n",
       "Data:\n",
       "+------+---------+----------------------+------+---------------------+\n",
       "| apk  | similar |        score         | rank |       distance      |\n",
       "+------+---------+----------------------+------+---------------------+\n",
       "| 5783 |  24234  |         1.0          |  1   |         0.0         |\n",
       "| 5783 |  10602  |         1.0          |  2   |         0.0         |\n",
       "| 5783 |   6939  |  0.688034176826477   |  3   | 0.31196582317352295 |\n",
       "| 5783 |  21088  |  0.6363636255264282  |  4   |  0.3636363744735718 |\n",
       "| 5783 |  27647  |  0.5735294222831726  |  5   |  0.4264705777168274 |\n",
       "| 5783 |  15935  | 0.016949176788330078 |  6   |  0.9830508232116699 |\n",
       "| 5783 |  24095  | 0.016483545303344727 |  7   |  0.9835164546966553 |\n",
       "| 5783 |  16668  | 0.01592355966567993  |  8   |  0.9840764403343201 |\n",
       "| 5783 |   1820  | 0.015118777751922607 |  9   |  0.9848812222480774 |\n",
       "| 5783 |   2388  | 0.014836788177490234 |  10  |  0.9851632118225098 |\n",
       "+------+---------+----------------------+------+---------------------+\n",
       "[10 rows x 5 columns]"
      ]
     },
     "execution_count": 228,
     "metadata": {},
     "output_type": "execute_result"
    }
   ],
   "source": [
    "itms.head()"
   ]
  },
  {
   "cell_type": "code",
   "execution_count": 151,
   "id": "rapid-motel",
   "metadata": {},
   "outputs": [
    {
     "data": {
      "text/plain": [
       "True"
      ]
     },
     "execution_count": 151,
     "metadata": {},
     "output_type": "execute_result"
    }
   ],
   "source": [
    "18788 in gw[gw['apk']==29]['sims'][0]"
   ]
  },
  {
   "cell_type": "code",
   "execution_count": 152,
   "id": "rural-canal",
   "metadata": {},
   "outputs": [
    {
     "data": {
      "text/plain": [
       "True"
      ]
     },
     "execution_count": 152,
     "metadata": {},
     "output_type": "execute_result"
    }
   ],
   "source": [
    "18788 in gw[gw['apk']==16393]['sims'][0]"
   ]
  },
  {
   "cell_type": "code",
   "execution_count": null,
   "id": "isolated-prophet",
   "metadata": {},
   "outputs": [],
   "source": [
    "# this is probably the problem apk=18788 is closer than gamma to both potential anchors (29 and 16393)"
   ]
  },
  {
   "cell_type": "code",
   "execution_count": null,
   "id": "toxic-sympathy",
   "metadata": {},
   "outputs": [],
   "source": [
    "ws = set(gw['apk'])\n",
    "    net = dict()\n",
    "    already_added = set()\n",
    "    while len(ws)>0:\n",
    "        w= ws.pop()\n",
    "\n",
    "        simp = set(gw[gw['apk']==w]['sims'][0])\n",
    "        simp = simp - already_added\n",
    "\n",
    "        net[w] = list(simp)\n",
    "        already_added.update(simp)\n",
    "        already_added.add(w)\n",
    "\n",
    "        ws = ws - simp"
   ]
  },
  {
   "cell_type": "code",
   "execution_count": 139,
   "id": "statistical-reason",
   "metadata": {},
   "outputs": [],
   "source": [
    "gw, itms = pn(data=spart, gamma=0.5)"
   ]
  },
  {
   "cell_type": "code",
   "execution_count": 141,
   "id": "young-watson",
   "metadata": {},
   "outputs": [],
   "source": [
    "itms['distance'] = 1.0 - itms['score']"
   ]
  },
  {
   "cell_type": "code",
   "execution_count": 145,
   "id": "composite-brooks",
   "metadata": {},
   "outputs": [
    {
     "data": {
      "text/html": [
       "<div style=\"max-height:1000px;max-width:1500px;overflow:auto;\"><table frame=\"box\" rules=\"cols\">\n",
       "    <tr>\n",
       "        <th style=\"padding-left: 1em; padding-right: 1em; text-align: center\">apk</th>\n",
       "        <th style=\"padding-left: 1em; padding-right: 1em; text-align: center\">similar</th>\n",
       "        <th style=\"padding-left: 1em; padding-right: 1em; text-align: center\">score</th>\n",
       "        <th style=\"padding-left: 1em; padding-right: 1em; text-align: center\">rank</th>\n",
       "        <th style=\"padding-left: 1em; padding-right: 1em; text-align: center\">distance</th>\n",
       "    </tr>\n",
       "    <tr>\n",
       "        <td style=\"padding-left: 1em; padding-right: 1em; text-align: center; vertical-align: top\">29</td>\n",
       "        <td style=\"padding-left: 1em; padding-right: 1em; text-align: center; vertical-align: top\">18788</td>\n",
       "        <td style=\"padding-left: 1em; padding-right: 1em; text-align: center; vertical-align: top\">0.800000011920929</td>\n",
       "        <td style=\"padding-left: 1em; padding-right: 1em; text-align: center; vertical-align: top\">130</td>\n",
       "        <td style=\"padding-left: 1em; padding-right: 1em; text-align: center; vertical-align: top\">0.19999998807907104</td>\n",
       "    </tr>\n",
       "</table>\n",
       "[? rows x 5 columns]<br/>Note: Only the head of the SFrame is printed. This SFrame is lazily evaluated.<br/>You can use sf.materialize() to force materialization.\n",
       "</div>"
      ],
      "text/plain": [
       "Columns:\n",
       "\tapk\tint\n",
       "\tsimilar\tint\n",
       "\tscore\tfloat\n",
       "\trank\tint\n",
       "\tdistance\tfloat\n",
       "\n",
       "Rows: Unknown\n",
       "\n",
       "Data:\n",
       "+-----+---------+-------------------+------+---------------------+\n",
       "| apk | similar |       score       | rank |       distance      |\n",
       "+-----+---------+-------------------+------+---------------------+\n",
       "|  29 |  18788  | 0.800000011920929 | 130  | 0.19999998807907104 |\n",
       "+-----+---------+-------------------+------+---------------------+\n",
       "[? rows x 5 columns]\n",
       "Note: Only the head of the SFrame is printed. This SFrame is lazily evaluated.\n",
       "You can use sf.materialize() to force materialization."
      ]
     },
     "execution_count": 145,
     "metadata": {},
     "output_type": "execute_result"
    }
   ],
   "source": [
    "itms[(itms['apk']==29)&(itms['similar']==18788)]"
   ]
  },
  {
   "cell_type": "code",
   "execution_count": 146,
   "id": "raising-eleven",
   "metadata": {},
   "outputs": [
    {
     "data": {
      "text/html": [
       "<div style=\"max-height:1000px;max-width:1500px;overflow:auto;\"><table frame=\"box\" rules=\"cols\">\n",
       "    <tr>\n",
       "        <th style=\"padding-left: 1em; padding-right: 1em; text-align: center\">apk</th>\n",
       "        <th style=\"padding-left: 1em; padding-right: 1em; text-align: center\">similar</th>\n",
       "        <th style=\"padding-left: 1em; padding-right: 1em; text-align: center\">score</th>\n",
       "        <th style=\"padding-left: 1em; padding-right: 1em; text-align: center\">rank</th>\n",
       "        <th style=\"padding-left: 1em; padding-right: 1em; text-align: center\">distance</th>\n",
       "    </tr>\n",
       "    <tr>\n",
       "        <td style=\"padding-left: 1em; padding-right: 1em; text-align: center; vertical-align: top\">16393</td>\n",
       "        <td style=\"padding-left: 1em; padding-right: 1em; text-align: center; vertical-align: top\">18788</td>\n",
       "        <td style=\"padding-left: 1em; padding-right: 1em; text-align: center; vertical-align: top\">0.5</td>\n",
       "        <td style=\"padding-left: 1em; padding-right: 1em; text-align: center; vertical-align: top\">377</td>\n",
       "        <td style=\"padding-left: 1em; padding-right: 1em; text-align: center; vertical-align: top\">0.5</td>\n",
       "    </tr>\n",
       "</table>\n",
       "[? rows x 5 columns]<br/>Note: Only the head of the SFrame is printed. This SFrame is lazily evaluated.<br/>You can use sf.materialize() to force materialization.\n",
       "</div>"
      ],
      "text/plain": [
       "Columns:\n",
       "\tapk\tint\n",
       "\tsimilar\tint\n",
       "\tscore\tfloat\n",
       "\trank\tint\n",
       "\tdistance\tfloat\n",
       "\n",
       "Rows: Unknown\n",
       "\n",
       "Data:\n",
       "+-------+---------+-------+------+----------+\n",
       "|  apk  | similar | score | rank | distance |\n",
       "+-------+---------+-------+------+----------+\n",
       "| 16393 |  18788  |  0.5  | 377  |   0.5    |\n",
       "+-------+---------+-------+------+----------+\n",
       "[? rows x 5 columns]\n",
       "Note: Only the head of the SFrame is printed. This SFrame is lazily evaluated.\n",
       "You can use sf.materialize() to force materialization."
      ]
     },
     "execution_count": 146,
     "metadata": {},
     "output_type": "execute_result"
    }
   ],
   "source": [
    "itms[(itms['apk']==16393)&(itms['similar']==18788)]"
   ]
  },
  {
   "cell_type": "code",
   "execution_count": null,
   "id": "numeric-christopher",
   "metadata": {},
   "outputs": [],
   "source": []
  },
  {
   "cell_type": "code",
   "execution_count": null,
   "id": "biblical-attempt",
   "metadata": {},
   "outputs": [],
   "source": []
  },
  {
   "cell_type": "code",
   "execution_count": null,
   "id": "interesting-language",
   "metadata": {},
   "outputs": [],
   "source": []
  },
  {
   "cell_type": "code",
   "execution_count": null,
   "id": "forced-bones",
   "metadata": {},
   "outputs": [],
   "source": []
  },
  {
   "cell_type": "code",
   "execution_count": 208,
   "id": "cutting-broadway",
   "metadata": {},
   "outputs": [],
   "source": [
    "\n",
    "def create_aggregating_net(gamma: float, apns, distance):\n",
    "    net = dict()\n",
    "\n",
    "    for a in apns:\n",
    "        insert = True\n",
    "        for n in net.keys():\n",
    "            # this is actually wrong, just because distance < gamma, does not mean that this is the closest anchor\n",
    "            if distance(a, n) <= gamma:\n",
    "                insert = False\n",
    "                net[n].append(a)\n",
    "                break  \n",
    "        if insert:\n",
    "            net[a] = list()\n",
    "\n",
    "    return net\n",
    "\n",
    "\n",
    "def create_aggregating_net2(gamma: float, apns, distance):\n",
    "    net = dict()\n",
    "    non_anchors = list()\n",
    "    for a in apns:\n",
    "        insert = True\n",
    "        for n in net.keys():\n",
    "            if distance(a, n) <= gamma:\n",
    "                insert = False\n",
    "                non_anchors.append(a)\n",
    "                break  \n",
    "        if insert:\n",
    "            net[a] = list()\n",
    "\n",
    "    for na in non_anchors:\n",
    "        byd = sorted(net.keys(), key=lambda x: distance(x, na))\n",
    "        #print(byd)\n",
    "        net[byd[0]].append(na)\n",
    "        \n",
    "            \n",
    "    return net\n"
   ]
  },
  {
   "cell_type": "code",
   "execution_count": null,
   "id": "national-cholesterol",
   "metadata": {},
   "outputs": [],
   "source": []
  },
  {
   "cell_type": "code",
   "execution_count": 156,
   "id": "constitutional-webmaster",
   "metadata": {},
   "outputs": [],
   "source": [
    "\n",
    "def d(p1, p2) -> float:\n",
    "    v = [(x-y)**2 for x,y in zip(p1, p2)]\n",
    "    return np.sqrt(sum(v))"
   ]
  },
  {
   "cell_type": "code",
   "execution_count": 157,
   "id": "satisfied-firmware",
   "metadata": {},
   "outputs": [],
   "source": [
    "from sklearn.datasets import make_blobs\n",
    "\n",
    "num_points = 50\n",
    "centers = [[1, 1], [-1, -1]]\n",
    "X, y = make_blobs(n_samples=num_points, centers=centers, n_features=2, cluster_std=0.8, random_state=42)\n",
    "\n",
    "points = list(zip(X[:, 0], X[:, 1]))\n",
    "labels=y"
   ]
  },
  {
   "cell_type": "code",
   "execution_count": 209,
   "id": "molecular-nightlife",
   "metadata": {},
   "outputs": [],
   "source": [
    "net = create_aggregating_net(gamma=1.5, apns = list(zip(X[:, 0], X[:, 1])), distance=d)\n",
    "net2 = create_aggregating_net2(gamma=1.5, apns=list(zip(X[:, 0], X[:, 1])), distance=d)"
   ]
  },
  {
   "cell_type": "code",
   "execution_count": 198,
   "id": "exotic-remove",
   "metadata": {},
   "outputs": [
    {
     "data": {
      "image/png": "[encoded data removed]",
      "text/plain": [
       "<Figure size 432x288 with 1 Axes>"
      ]
     },
     "metadata": {
      "image/png": {
       "height": 248,
       "width": 370
      },
      "needs_background": "light"
     },
     "output_type": "display_data"
    }
   ],
   "source": [
    "\n",
    "for k, v in net.items():\n",
    "    if any(v):\n",
    "        pc = plt.scatter(k[0], k[1], marker='*')\n",
    "        x, y =list(zip(*v))\n",
    "        plt.scatter(x, y, facecolor=pc.get_edgecolor())"
   ]
  },
  {
   "cell_type": "code",
   "execution_count": 225,
   "id": "mechanical-threshold",
   "metadata": {},
   "outputs": [
    {
     "data": {
      "image/png": "[encoded data removed]",
      "text/plain": [
       "<Figure size 432x288 with 1 Axes>"
      ]
     },
     "metadata": {
      "image/png": {
       "height": 248,
       "width": 370
      },
      "needs_background": "light"
     },
     "output_type": "display_data"
    }
   ],
   "source": [
    "\n",
    "for k, v in net2.items():\n",
    "    if any(v):\n",
    "        pc = plt.scatter(k[0], k[1], marker='*')\n",
    "        x, y =list(zip(*v))\n",
    "        plt.scatter(x, y, facecolor=pc.get_edgecolor())\n"
   ]
  },
  {
   "cell_type": "code",
   "execution_count": null,
   "id": "sufficient-israel",
   "metadata": {},
   "outputs": [],
   "source": []
  },
  {
   "cell_type": "code",
   "execution_count": null,
   "id": "solved-senate",
   "metadata": {},
   "outputs": [],
   "source": []
  },
  {
   "cell_type": "code",
   "execution_count": null,
   "id": "checked-mouse",
   "metadata": {},
   "outputs": [],
   "source": []
  },
  {
   "cell_type": "code",
   "execution_count": 226,
   "id": "interior-gathering",
   "metadata": {},
   "outputs": [],
   "source": [
    "# FIxing it for tc-based solution"
   ]
  },
  {
   "cell_type": "code",
   "execution_count": 254,
   "id": "chinese-afghanistan",
   "metadata": {},
   "outputs": [],
   "source": [
    "with open('../res/p0.txt', 'r') as f:\n",
    "    p0=np.loadtxt(f, dtype=int)\n",
    "    \n",
    "spart = mw.filter_by(values=list(map(int, p0)), column_name='apk')"
   ]
  },
  {
   "cell_type": "code",
   "execution_count": 338,
   "id": "advanced-construction",
   "metadata": {},
   "outputs": [],
   "source": [
    "def get_anchors(data, gamma):\n",
    "    apks = data['apk'].unique()\n",
    "    k = apks.shape[0]\n",
    "    sim_recom = tc.item_similarity_recommender.create(data, \n",
    "                                                      user_id='function', \n",
    "                                                      item_id='apk', \n",
    "                                                      similarity_type='jaccard', \n",
    "                                                      only_top_k=k, \n",
    "                                                      degree_approximation_threshold=15*4096, \n",
    "                                                      threshold=0.0, verbose=False)\n",
    "    itms = sim_recom.get_similar_items(apks, k=k)\n",
    "    # missing more \"distant nodes\", \"not aggregating nodes\"\n",
    "    # setup a list in form: apk [apk1, apk2,...]\n",
    "    # all aggregated items will be closer than given radius, ie, they are def. not anchors\n",
    "    # the list will be used to build network in a greedy way\n",
    "    gw=itms[itms['score']>=1-gamma].groupby(key_column_names='apk', operations={'sims': agg.DISTINCT('similar')})\n",
    "    \n",
    "    ws = set(gw['apk'])\n",
    "    anchors = list()\n",
    "    already_added = set()\n",
    "    # greedy building net\n",
    "    # start with first row apk1, [apk2, apk3, apk4...], \n",
    "    # apk1 is added to network, \n",
    "    # remove all apks that are closer than radius (ie. all from the list) from the following rows\n",
    "    while len(ws)>0:\n",
    "        w= ws.pop()\n",
    "        anchors.append(w)\n",
    "\n",
    "        # all apks closer than given radius to this anchors\n",
    "        simp = set(gw[gw['apk']==w]['sims'][0])\n",
    "        simp = simp - already_added\n",
    "            \n",
    "        already_added.update(simp)\n",
    "        already_added.add(w)\n",
    "\n",
    "        # remove its aggregates \n",
    "        ws = ws - simp\n",
    "    \n",
    "    # move to nodes pairs that are at distance > radius\n",
    "    # there should be no close nodes to that one, otherwise they\n",
    "    # would appear in the previous loop\n",
    "    if len(already_added)> 0:\n",
    "        nds = apks.filter_by(list(already_added), exclude=True)\n",
    "        \n",
    "    # special case for gamma=0\n",
    "    else:\n",
    "        nds = apks\n",
    "        \n",
    "    \n",
    "    anchors = anchors + list(nds)\n",
    "        \n",
    "    return anchors\n"
   ]
  },
  {
   "cell_type": "code",
   "execution_count": 339,
   "id": "neither-crime",
   "metadata": {},
   "outputs": [],
   "source": [
    "nn = new_f_create_network(data=spart, gamma=.5)"
   ]
  },
  {
   "cell_type": "code",
   "execution_count": 341,
   "id": "australian-couple",
   "metadata": {},
   "outputs": [
    {
     "data": {
      "text/plain": [
       "536"
      ]
     },
     "execution_count": 341,
     "metadata": {},
     "output_type": "execute_result"
    }
   ],
   "source": [
    "len(nn)"
   ]
  },
  {
   "cell_type": "code",
   "execution_count": 238,
   "id": "widespread-template",
   "metadata": {},
   "outputs": [],
   "source": [
    "# check if there are not anchors closer to each other than gamma=0.5\n"
   ]
  },
  {
   "cell_type": "code",
   "execution_count": 342,
   "id": "related-teach",
   "metadata": {},
   "outputs": [],
   "source": [
    "anchor_data = mw.filter_by(column_name='apk', values=nn)"
   ]
  },
  {
   "cell_type": "code",
   "execution_count": 343,
   "id": "bound-world",
   "metadata": {},
   "outputs": [],
   "source": [
    "sim_recom = tc.item_similarity_recommender.create(anchor_data, \n",
    "                                                      user_id='function', \n",
    "                                                      item_id='apk', \n",
    "                                                      similarity_type='jaccard', \n",
    "                                                      only_top_k=10000, \n",
    "                                                      degree_approximation_threshold=15*4096, \n",
    "                                                      threshold=0.0, verbose=False)\n"
   ]
  },
  {
   "cell_type": "code",
   "execution_count": 344,
   "id": "fuzzy-gilbert",
   "metadata": {},
   "outputs": [],
   "source": [
    "itms = sim_recom.get_similar_items(nn, k=10000)"
   ]
  },
  {
   "cell_type": "code",
   "execution_count": 345,
   "id": "compact-array",
   "metadata": {},
   "outputs": [],
   "source": [
    "itms['distance'] = 1.0 - itms['score']"
   ]
  },
  {
   "cell_type": "code",
   "execution_count": 346,
   "id": "timely-punishment",
   "metadata": {},
   "outputs": [
    {
     "data": {
      "text/html": [
       "<div style=\"max-height:1000px;max-width:1500px;overflow:auto;\"><table frame=\"box\" rules=\"cols\">\n",
       "    <tr>\n",
       "        <th style=\"padding-left: 1em; padding-right: 1em; text-align: center\">apk</th>\n",
       "        <th style=\"padding-left: 1em; padding-right: 1em; text-align: center\">similar</th>\n",
       "        <th style=\"padding-left: 1em; padding-right: 1em; text-align: center\">score</th>\n",
       "        <th style=\"padding-left: 1em; padding-right: 1em; text-align: center\">rank</th>\n",
       "        <th style=\"padding-left: 1em; padding-right: 1em; text-align: center\">distance</th>\n",
       "    </tr>\n",
       "</table>\n",
       "[? rows x 5 columns]<br/>Note: Only the head of the SFrame is printed. This SFrame is lazily evaluated.<br/>You can use sf.materialize() to force materialization.\n",
       "</div>"
      ],
      "text/plain": [
       "Columns:\n",
       "\tapk\tint\n",
       "\tsimilar\tint\n",
       "\tscore\tfloat\n",
       "\trank\tint\n",
       "\tdistance\tfloat\n",
       "\n",
       "Rows: Unknown\n",
       "\n",
       "Data:\n",
       "\t[]"
      ]
     },
     "execution_count": 346,
     "metadata": {},
     "output_type": "execute_result"
    }
   ],
   "source": [
    "itms[itms['distance']<.5]"
   ]
  },
  {
   "cell_type": "code",
   "execution_count": 247,
   "id": "engaging-solution",
   "metadata": {},
   "outputs": [],
   "source": [
    "# check if there are not apks farther than gamma\n",
    "# perform nn on the anchros if nn is > gamma it should have been an anchor"
   ]
  },
  {
   "cell_type": "code",
   "execution_count": 347,
   "id": "soviet-member",
   "metadata": {},
   "outputs": [],
   "source": [
    "apks = [a for a in p0 if a not in nn]"
   ]
  },
  {
   "cell_type": "code",
   "execution_count": 348,
   "id": "wireless-definition",
   "metadata": {},
   "outputs": [
    {
     "data": {
      "text/plain": [
       "(1715, 536, 2251)"
      ]
     },
     "execution_count": 348,
     "metadata": {},
     "output_type": "execute_result"
    }
   ],
   "source": [
    "len(apks), len(nn), len(p0)"
   ]
  },
  {
   "cell_type": "code",
   "execution_count": 349,
   "id": "exact-birthday",
   "metadata": {},
   "outputs": [],
   "source": [
    "#anch = nn.copy()x\n",
    "#anch.extend(apks)\n",
    "#allt = data.filter_by(values=anch, column_name='apk')\n",
    "\n",
    "m = len(p0)\n",
    "sim_recom = tc.item_similarity_recommender.create(\n",
    "    spart, \n",
    "    user_id='function', \n",
    "    item_id='apk', \n",
    "    similarity_type='jaccard', \n",
    "    degree_approximation_threshold=15*4096,\n",
    "    only_top_k=m, verbose=False)\n",
    "\n",
    "# smaller k could be an optimization here\n",
    "items =sim_recom.get_similar_items(apks, k=m)\n",
    "# recomendations excluding similarity between apks\n",
    "fitems = items.filter_by(values=apks, column_name='similar', exclude=True)\n",
    "fitems['distance'] = 1.0 - fitems['score']\n"
   ]
  },
  {
   "cell_type": "code",
   "execution_count": 350,
   "id": "democratic-portland",
   "metadata": {},
   "outputs": [],
   "source": [
    "gwrr = fitems.groupby(key_column_names=['apk'], \n",
    "          operations={'nn': tc.aggregate.ARGMIN('distance', 'similar'), \n",
    "                      'distan': tc.aggregate.ARGMIN('distance', 'distance')})\n"
   ]
  },
  {
   "cell_type": "code",
   "execution_count": 355,
   "id": "sporting-economy",
   "metadata": {},
   "outputs": [
    {
     "data": {
      "text/html": [
       "<div style=\"max-height:1000px;max-width:1500px;overflow:auto;\"><table frame=\"box\" rules=\"cols\">\n",
       "    <tr>\n",
       "        <th style=\"padding-left: 1em; padding-right: 1em; text-align: center\">apk</th>\n",
       "        <th style=\"padding-left: 1em; padding-right: 1em; text-align: center\">nn</th>\n",
       "        <th style=\"padding-left: 1em; padding-right: 1em; text-align: center\">distan</th>\n",
       "    </tr>\n",
       "    <tr>\n",
       "        <td style=\"padding-left: 1em; padding-right: 1em; text-align: center; vertical-align: top\">5783</td>\n",
       "        <td style=\"padding-left: 1em; padding-right: 1em; text-align: center; vertical-align: top\">21088</td>\n",
       "        <td style=\"padding-left: 1em; padding-right: 1em; text-align: center; vertical-align: top\">0.3636363744735718</td>\n",
       "    </tr>\n",
       "    <tr>\n",
       "        <td style=\"padding-left: 1em; padding-right: 1em; text-align: center; vertical-align: top\">11106</td>\n",
       "        <td style=\"padding-left: 1em; padding-right: 1em; text-align: center; vertical-align: top\">16507</td>\n",
       "        <td style=\"padding-left: 1em; padding-right: 1em; text-align: center; vertical-align: top\">0.002100825309753418</td>\n",
       "    </tr>\n",
       "    <tr>\n",
       "        <td style=\"padding-left: 1em; padding-right: 1em; text-align: center; vertical-align: top\">1517</td>\n",
       "        <td style=\"padding-left: 1em; padding-right: 1em; text-align: center; vertical-align: top\">12897</td>\n",
       "        <td style=\"padding-left: 1em; padding-right: 1em; text-align: center; vertical-align: top\">0.0009049773216247559</td>\n",
       "    </tr>\n",
       "    <tr>\n",
       "        <td style=\"padding-left: 1em; padding-right: 1em; text-align: center; vertical-align: top\">25944</td>\n",
       "        <td style=\"padding-left: 1em; padding-right: 1em; text-align: center; vertical-align: top\">13131</td>\n",
       "        <td style=\"padding-left: 1em; padding-right: 1em; text-align: center; vertical-align: top\">0.3333333134651184</td>\n",
       "    </tr>\n",
       "    <tr>\n",
       "        <td style=\"padding-left: 1em; padding-right: 1em; text-align: center; vertical-align: top\">11120</td>\n",
       "        <td style=\"padding-left: 1em; padding-right: 1em; text-align: center; vertical-align: top\">15412</td>\n",
       "        <td style=\"padding-left: 1em; padding-right: 1em; text-align: center; vertical-align: top\">0.006268739700317383</td>\n",
       "    </tr>\n",
       "    <tr>\n",
       "        <td style=\"padding-left: 1em; padding-right: 1em; text-align: center; vertical-align: top\">8272</td>\n",
       "        <td style=\"padding-left: 1em; padding-right: 1em; text-align: center; vertical-align: top\">4104</td>\n",
       "        <td style=\"padding-left: 1em; padding-right: 1em; text-align: center; vertical-align: top\">0.1937071681022644</td>\n",
       "    </tr>\n",
       "    <tr>\n",
       "        <td style=\"padding-left: 1em; padding-right: 1em; text-align: center; vertical-align: top\">23845</td>\n",
       "        <td style=\"padding-left: 1em; padding-right: 1em; text-align: center; vertical-align: top\">16393</td>\n",
       "        <td style=\"padding-left: 1em; padding-right: 1em; text-align: center; vertical-align: top\">0.0</td>\n",
       "    </tr>\n",
       "    <tr>\n",
       "        <td style=\"padding-left: 1em; padding-right: 1em; text-align: center; vertical-align: top\">14153</td>\n",
       "        <td style=\"padding-left: 1em; padding-right: 1em; text-align: center; vertical-align: top\">16393</td>\n",
       "        <td style=\"padding-left: 1em; padding-right: 1em; text-align: center; vertical-align: top\">0.0</td>\n",
       "    </tr>\n",
       "    <tr>\n",
       "        <td style=\"padding-left: 1em; padding-right: 1em; text-align: center; vertical-align: top\">6380</td>\n",
       "        <td style=\"padding-left: 1em; padding-right: 1em; text-align: center; vertical-align: top\">661</td>\n",
       "        <td style=\"padding-left: 1em; padding-right: 1em; text-align: center; vertical-align: top\">0.19860142469406128</td>\n",
       "    </tr>\n",
       "    <tr>\n",
       "        <td style=\"padding-left: 1em; padding-right: 1em; text-align: center; vertical-align: top\">21355</td>\n",
       "        <td style=\"padding-left: 1em; padding-right: 1em; text-align: center; vertical-align: top\">21522</td>\n",
       "        <td style=\"padding-left: 1em; padding-right: 1em; text-align: center; vertical-align: top\">0.0</td>\n",
       "    </tr>\n",
       "</table>\n",
       "[1715 rows x 3 columns]<br/>Note: Only the head of the SFrame is printed.<br/>You can use print_rows(num_rows=m, num_columns=n) to print more rows and columns.\n",
       "</div>"
      ],
      "text/plain": [
       "Columns:\n",
       "\tapk\tint\n",
       "\tnn\tint\n",
       "\tdistan\tfloat\n",
       "\n",
       "Rows: 1715\n",
       "\n",
       "Data:\n",
       "+-------+-------+-----------------------+\n",
       "|  apk  |   nn  |         distan        |\n",
       "+-------+-------+-----------------------+\n",
       "|  5783 | 21088 |   0.3636363744735718  |\n",
       "| 11106 | 16507 |  0.002100825309753418 |\n",
       "|  1517 | 12897 | 0.0009049773216247559 |\n",
       "| 25944 | 13131 |   0.3333333134651184  |\n",
       "| 11120 | 15412 |  0.006268739700317383 |\n",
       "|  8272 |  4104 |   0.1937071681022644  |\n",
       "| 23845 | 16393 |          0.0          |\n",
       "| 14153 | 16393 |          0.0          |\n",
       "|  6380 |  661  |  0.19860142469406128  |\n",
       "| 21355 | 21522 |          0.0          |\n",
       "+-------+-------+-----------------------+\n",
       "[1715 rows x 3 columns]\n",
       "Note: Only the head of the SFrame is printed.\n",
       "You can use print_rows(num_rows=m, num_columns=n) to print more rows and columns."
      ]
     },
     "execution_count": 355,
     "metadata": {},
     "output_type": "execute_result"
    }
   ],
   "source": [
    "gwrr"
   ]
  },
  {
   "cell_type": "code",
   "execution_count": 351,
   "id": "civilian-thermal",
   "metadata": {},
   "outputs": [
    {
     "data": {
      "text/html": [
       "<div style=\"max-height:1000px;max-width:1500px;overflow:auto;\"><table frame=\"box\" rules=\"cols\">\n",
       "    <tr>\n",
       "        <th style=\"padding-left: 1em; padding-right: 1em; text-align: center\">apk</th>\n",
       "        <th style=\"padding-left: 1em; padding-right: 1em; text-align: center\">nn</th>\n",
       "        <th style=\"padding-left: 1em; padding-right: 1em; text-align: center\">distan</th>\n",
       "    </tr>\n",
       "</table>\n",
       "[? rows x 3 columns]<br/>Note: Only the head of the SFrame is printed. This SFrame is lazily evaluated.<br/>You can use sf.materialize() to force materialization.\n",
       "</div>"
      ],
      "text/plain": [
       "Columns:\n",
       "\tapk\tint\n",
       "\tnn\tint\n",
       "\tdistan\tfloat\n",
       "\n",
       "Rows: Unknown\n",
       "\n",
       "Data:\n",
       "\t[]"
      ]
     },
     "execution_count": 351,
     "metadata": {},
     "output_type": "execute_result"
    }
   ],
   "source": [
    "gwrr[gwrr['distan']>0.5]"
   ]
  },
  {
   "cell_type": "code",
   "execution_count": 354,
   "id": "mobile-burner",
   "metadata": {},
   "outputs": [
    {
     "data": {
      "text/html": [
       "<div style=\"max-height:1000px;max-width:1500px;overflow:auto;\"><table frame=\"box\" rules=\"cols\">\n",
       "    <tr>\n",
       "        <th style=\"padding-left: 1em; padding-right: 1em; text-align: center\">apk</th>\n",
       "        <th style=\"padding-left: 1em; padding-right: 1em; text-align: center\">nn</th>\n",
       "        <th style=\"padding-left: 1em; padding-right: 1em; text-align: center\">distan</th>\n",
       "    </tr>\n",
       "    <tr>\n",
       "        <td style=\"padding-left: 1em; padding-right: 1em; text-align: center; vertical-align: top\">5783</td>\n",
       "        <td style=\"padding-left: 1em; padding-right: 1em; text-align: center; vertical-align: top\">21088</td>\n",
       "        <td style=\"padding-left: 1em; padding-right: 1em; text-align: center; vertical-align: top\">0.3636363744735718</td>\n",
       "    </tr>\n",
       "    <tr>\n",
       "        <td style=\"padding-left: 1em; padding-right: 1em; text-align: center; vertical-align: top\">11106</td>\n",
       "        <td style=\"padding-left: 1em; padding-right: 1em; text-align: center; vertical-align: top\">16507</td>\n",
       "        <td style=\"padding-left: 1em; padding-right: 1em; text-align: center; vertical-align: top\">0.002100825309753418</td>\n",
       "    </tr>\n",
       "    <tr>\n",
       "        <td style=\"padding-left: 1em; padding-right: 1em; text-align: center; vertical-align: top\">1517</td>\n",
       "        <td style=\"padding-left: 1em; padding-right: 1em; text-align: center; vertical-align: top\">12897</td>\n",
       "        <td style=\"padding-left: 1em; padding-right: 1em; text-align: center; vertical-align: top\">0.0009049773216247559</td>\n",
       "    </tr>\n",
       "    <tr>\n",
       "        <td style=\"padding-left: 1em; padding-right: 1em; text-align: center; vertical-align: top\">25944</td>\n",
       "        <td style=\"padding-left: 1em; padding-right: 1em; text-align: center; vertical-align: top\">13131</td>\n",
       "        <td style=\"padding-left: 1em; padding-right: 1em; text-align: center; vertical-align: top\">0.3333333134651184</td>\n",
       "    </tr>\n",
       "    <tr>\n",
       "        <td style=\"padding-left: 1em; padding-right: 1em; text-align: center; vertical-align: top\">11120</td>\n",
       "        <td style=\"padding-left: 1em; padding-right: 1em; text-align: center; vertical-align: top\">15412</td>\n",
       "        <td style=\"padding-left: 1em; padding-right: 1em; text-align: center; vertical-align: top\">0.006268739700317383</td>\n",
       "    </tr>\n",
       "    <tr>\n",
       "        <td style=\"padding-left: 1em; padding-right: 1em; text-align: center; vertical-align: top\">8272</td>\n",
       "        <td style=\"padding-left: 1em; padding-right: 1em; text-align: center; vertical-align: top\">4104</td>\n",
       "        <td style=\"padding-left: 1em; padding-right: 1em; text-align: center; vertical-align: top\">0.1937071681022644</td>\n",
       "    </tr>\n",
       "    <tr>\n",
       "        <td style=\"padding-left: 1em; padding-right: 1em; text-align: center; vertical-align: top\">23845</td>\n",
       "        <td style=\"padding-left: 1em; padding-right: 1em; text-align: center; vertical-align: top\">16393</td>\n",
       "        <td style=\"padding-left: 1em; padding-right: 1em; text-align: center; vertical-align: top\">0.0</td>\n",
       "    </tr>\n",
       "    <tr>\n",
       "        <td style=\"padding-left: 1em; padding-right: 1em; text-align: center; vertical-align: top\">14153</td>\n",
       "        <td style=\"padding-left: 1em; padding-right: 1em; text-align: center; vertical-align: top\">16393</td>\n",
       "        <td style=\"padding-left: 1em; padding-right: 1em; text-align: center; vertical-align: top\">0.0</td>\n",
       "    </tr>\n",
       "    <tr>\n",
       "        <td style=\"padding-left: 1em; padding-right: 1em; text-align: center; vertical-align: top\">6380</td>\n",
       "        <td style=\"padding-left: 1em; padding-right: 1em; text-align: center; vertical-align: top\">661</td>\n",
       "        <td style=\"padding-left: 1em; padding-right: 1em; text-align: center; vertical-align: top\">0.19860142469406128</td>\n",
       "    </tr>\n",
       "    <tr>\n",
       "        <td style=\"padding-left: 1em; padding-right: 1em; text-align: center; vertical-align: top\">21355</td>\n",
       "        <td style=\"padding-left: 1em; padding-right: 1em; text-align: center; vertical-align: top\">21522</td>\n",
       "        <td style=\"padding-left: 1em; padding-right: 1em; text-align: center; vertical-align: top\">0.0</td>\n",
       "    </tr>\n",
       "</table>\n",
       "[1715 rows x 3 columns]<br/>Note: Only the head of the SFrame is printed.<br/>You can use print_rows(num_rows=m, num_columns=n) to print more rows and columns.\n",
       "</div>"
      ],
      "text/plain": [
       "Columns:\n",
       "\tapk\tint\n",
       "\tnn\tint\n",
       "\tdistan\tfloat\n",
       "\n",
       "Rows: 1715\n",
       "\n",
       "Data:\n",
       "+-------+-------+-----------------------+\n",
       "|  apk  |   nn  |         distan        |\n",
       "+-------+-------+-----------------------+\n",
       "|  5783 | 21088 |   0.3636363744735718  |\n",
       "| 11106 | 16507 |  0.002100825309753418 |\n",
       "|  1517 | 12897 | 0.0009049773216247559 |\n",
       "| 25944 | 13131 |   0.3333333134651184  |\n",
       "| 11120 | 15412 |  0.006268739700317383 |\n",
       "|  8272 |  4104 |   0.1937071681022644  |\n",
       "| 23845 | 16393 |          0.0          |\n",
       "| 14153 | 16393 |          0.0          |\n",
       "|  6380 |  661  |  0.19860142469406128  |\n",
       "| 21355 | 21522 |          0.0          |\n",
       "+-------+-------+-----------------------+\n",
       "[1715 rows x 3 columns]\n",
       "Note: Only the head of the SFrame is printed.\n",
       "You can use print_rows(num_rows=m, num_columns=n) to print more rows and columns."
      ]
     },
     "execution_count": 354,
     "metadata": {},
     "output_type": "execute_result"
    }
   ],
   "source": [
    "gwrr"
   ]
  },
  {
   "cell_type": "code",
   "execution_count": null,
   "id": "golden-heaven",
   "metadata": {},
   "outputs": [],
   "source": []
  },
  {
   "cell_type": "code",
   "execution_count": null,
   "id": "ideal-validation",
   "metadata": {},
   "outputs": [],
   "source": []
  },
  {
   "cell_type": "code",
   "execution_count": null,
   "id": "norman-honduras",
   "metadata": {},
   "outputs": [],
   "source": []
  },
  {
   "cell_type": "code",
   "execution_count": 422,
   "id": "theoretical-force",
   "metadata": {},
   "outputs": [],
   "source": [
    "#all in one:\n",
    "def all_in_one_tc(data, gamma):\n",
    "    apks = data['apk'].unique()\n",
    "    k = apks.shape[0]\n",
    "    sim_recom = tc.item_similarity_recommender.create(data, \n",
    "                                                      user_id='function', \n",
    "                                                      item_id='apk', \n",
    "                                                      similarity_type='jaccard', \n",
    "                                                      only_top_k=k, \n",
    "                                                      degree_approximation_threshold=15*4096, \n",
    "                                                      threshold=0.0, verbose=False)\n",
    "    itms = sim_recom.get_similar_items(apks, k=k)\n",
    "    # missing more \"distant nodes\", \"not aggregating nodes\"\n",
    "    # setup a list in form: apk [apk1, apk2,...]\n",
    "    # all aggregated items will be closer than given radius, ie, they are def. not anchors\n",
    "    # the list will be used to build network in a greedy way\n",
    "    gw=itms[itms['score']>=1-gamma].groupby(key_column_names='apk', operations={'sims': agg.DISTINCT('similar')})\n",
    "    \n",
    "    ws = set(gw['apk'])\n",
    "    anchors = list()\n",
    "    already_added = set()\n",
    "    # greedy building net\n",
    "    # start with first row apk1, [apk2, apk3, apk4...], \n",
    "    # apk1 is added to network, \n",
    "    # remove all apks that are closer than radius (ie. all from the list) from the following rows\n",
    "    while len(ws)>0:\n",
    "        w= ws.pop()\n",
    "        anchors.append(w)\n",
    "\n",
    "        # all apks closer than given radius to this anchors\n",
    "        simp = set(gw[gw['apk']==w]['sims'][0])\n",
    "        simp = simp - already_added\n",
    "            \n",
    "        already_added.update(simp)\n",
    "        already_added.add(w)\n",
    "\n",
    "        # remove its aggregates \n",
    "        ws = ws - simp\n",
    "    \n",
    "    # move to nodes pairs that are at distance > radius\n",
    "    # there should be no close nodes to that one, otherwise they\n",
    "    # would appear in the previous loop\n",
    "    if len(already_added)> 0:\n",
    "        nds = apks.filter_by(list(already_added), exclude=True)\n",
    "        \n",
    "    # special case for gamma=0\n",
    "    else:\n",
    "        nds = apks\n",
    "        \n",
    "    \n",
    "    anchors = anchors + list(nds)\n",
    "    \n",
    "    #following is equivallent to NN search on just created anchors:\n",
    "    # done here to reuse existing recommender\n",
    "    \n",
    "    # recomendations excluding similarity between apks\n",
    "    fitems = itms.filter_by(values=anchors, column_name='apk',exclude=True).filter_by(values=anchors,column_name='similar')\n",
    "    \n",
    "    gwrrd = fitems.groupby(key_column_names=['apk'], operations={'nn': tc.aggregate.ARGMAX('score', 'similar')})\n",
    "    r = gwrrd.groupby(key_column_names=['nn'], operations={'aggregates': agg.DISTINCT('apk')})\n",
    "    net = r.to_dataframe().set_index('nn').to_dict(orient='dict')['aggregates']\n",
    "\n",
    "    # not used anchors added:\n",
    "    net.update({an:[] for an in anchors if an not in net})\n",
    "    return net"
   ]
  },
  {
   "cell_type": "code",
   "execution_count": 423,
   "id": "applicable-panic",
   "metadata": {},
   "outputs": [],
   "source": [
    "net = all_in_one_tc(data=spart, gamma=0.5)"
   ]
  },
  {
   "cell_type": "code",
   "execution_count": 424,
   "id": "earned-truck",
   "metadata": {},
   "outputs": [],
   "source": [
    "# some checks:"
   ]
  },
  {
   "cell_type": "code",
   "execution_count": 425,
   "id": "curious-jacksonville",
   "metadata": {},
   "outputs": [
    {
     "data": {
      "text/plain": [
       "(2251, 2251)"
      ]
     },
     "execution_count": 425,
     "metadata": {},
     "output_type": "execute_result"
    }
   ],
   "source": [
    "# is all data added:\n",
    "sum(map(len, net.values())) + len(net), len(p0)"
   ]
  },
  {
   "cell_type": "code",
   "execution_count": 426,
   "id": "convinced-desert",
   "metadata": {},
   "outputs": [],
   "source": [
    "# check if aggregates are close to thier anchors:\n",
    "gamma = 0.5\n",
    "for k,v in net.items():\n",
    "    for vi in v:\n",
    "        if distance(vi,k)>gamma:\n",
    "            print(\"Wrong assignment {k} {vi}\")"
   ]
  },
  {
   "cell_type": "code",
   "execution_count": 427,
   "id": "dated-guyana",
   "metadata": {},
   "outputs": [],
   "source": [
    "# check anchor distances:\n",
    "nk = list(net.keys())\n",
    "for i,e in enumerate(nk):\n",
    "    for f in nk[i+1:]:\n",
    "        if distance(e,f)<gamma:\n",
    "            print(\"Wrong anchors {e} {f}\")"
   ]
  },
  {
   "cell_type": "code",
   "execution_count": 433,
   "id": "israeli-costs",
   "metadata": {},
   "outputs": [],
   "source": [
    "# check if there is closer anchor:\n",
    "def closers(net):\n",
    "    nk = list(net.keys())\n",
    "    for k,v in tqdm(net.items()):\n",
    "        for vi in v:\n",
    "            for k2 in nk:\n",
    "                if k2==k:\n",
    "                    continue\n",
    "                if distance(vi, k2)<distance(vi, k):\n",
    "                    print(f\"Wrong attachement: {vi}-{k} should be {k2}\")"
   ]
  },
  {
   "cell_type": "code",
   "execution_count": null,
   "id": "express-covering",
   "metadata": {},
   "outputs": [],
   "source": []
  },
  {
   "cell_type": "code",
   "execution_count": null,
   "id": "gothic-valley",
   "metadata": {},
   "outputs": [],
   "source": []
  },
  {
   "cell_type": "code",
   "execution_count": null,
   "id": "respective-limit",
   "metadata": {},
   "outputs": [],
   "source": []
  },
  {
   "cell_type": "code",
   "execution_count": null,
   "id": "modified-market",
   "metadata": {},
   "outputs": [],
   "source": []
  },
  {
   "cell_type": "code",
   "execution_count": null,
   "id": "compact-composition",
   "metadata": {},
   "outputs": [],
   "source": []
  },
  {
   "cell_type": "code",
   "execution_count": 430,
   "id": "sharing-empty",
   "metadata": {},
   "outputs": [],
   "source": [
    "with open(\"../res/newres/0.25-stream-singleaggregating.pickle\", 'rb') as f:\n",
    "    anet = pickle.load(f)\n",
    "\n",
    "[true_dicts, origin_net] = anet[0.25]"
   ]
  },
  {
   "cell_type": "code",
   "execution_count": 434,
   "id": "typical-northern",
   "metadata": {},
   "outputs": [
    {
     "data": {
      "application/vnd.jupyter.widget-view+json": {
       "model_id": "41c405d9bc0549bc9d67d8e03560fd51",
       "version_major": 2,
       "version_minor": 0
      },
      "text/plain": [
       "  0%|          | 0/759 [00:00<?, ?it/s]"
      ]
     },
     "metadata": {},
     "output_type": "display_data"
    }
   ],
   "source": [
    "closers(net=origin_net)"
   ]
  },
  {
   "cell_type": "code",
   "execution_count": 435,
   "id": "tough-carol",
   "metadata": {},
   "outputs": [
    {
     "data": {
      "text/plain": [
       "3"
      ]
     },
     "execution_count": 435,
     "metadata": {},
     "output_type": "execute_result"
    }
   ],
   "source": [
    "len(true_dicts)"
   ]
  },
  {
   "cell_type": "code",
   "execution_count": 439,
   "id": "extensive-mixture",
   "metadata": {},
   "outputs": [
    {
     "data": {
      "application/vnd.jupyter.widget-view+json": {
       "model_id": "3a2e1c117c334dae8963140e8de96a86",
       "version_major": 2,
       "version_minor": 0
      },
      "text/plain": [
       "  0%|          | 0/453 [00:00<?, ?it/s]"
      ]
     },
     "metadata": {},
     "output_type": "display_data"
    }
   ],
   "source": [
    "closers(net=true_dicts[0])"
   ]
  },
  {
   "cell_type": "code",
   "execution_count": 440,
   "id": "placed-estonia",
   "metadata": {},
   "outputs": [
    {
     "data": {
      "application/vnd.jupyter.widget-view+json": {
       "model_id": "19d08c925ada41479eff6222d9ccd2dd",
       "version_major": 2,
       "version_minor": 0
      },
      "text/plain": [
       "  0%|          | 0/454 [00:00<?, ?it/s]"
      ]
     },
     "metadata": {},
     "output_type": "display_data"
    }
   ],
   "source": [
    "closers(net=true_dicts[1])"
   ]
  },
  {
   "cell_type": "code",
   "execution_count": null,
   "id": "dangerous-consensus",
   "metadata": {},
   "outputs": [],
   "source": []
  },
  {
   "cell_type": "code",
   "execution_count": null,
   "id": "fewer-pocket",
   "metadata": {},
   "outputs": [],
   "source": []
  },
  {
   "cell_type": "code",
   "execution_count": null,
   "id": "amazing-sydney",
   "metadata": {},
   "outputs": [],
   "source": []
  },
  {
   "cell_type": "code",
   "execution_count": 446,
   "id": "operating-volleyball",
   "metadata": {},
   "outputs": [],
   "source": [
    "# already for eps =0.0 we have seen distance = 1.0\n",
    "def load_nets(gamma = 0.0):\n",
    "    with open(f\"../res/newres/{gamma}-stream-singleaggregating.pickle\", 'rb') as f:\n",
    "        anet = pickle.load(f)\n",
    "\n",
    "    return anet[gamma]"
   ]
  },
  {
   "cell_type": "code",
   "execution_count": 447,
   "id": "electrical-sacramento",
   "metadata": {},
   "outputs": [],
   "source": [
    "[td, n] = load_nets(0.2)"
   ]
  },
  {
   "cell_type": "code",
   "execution_count": 458,
   "id": "invisible-milwaukee",
   "metadata": {},
   "outputs": [],
   "source": [
    "def get_dds(n):\n",
    "    res = dict()\n",
    "    for anchor, k in tqdm(n.items()):\n",
    "        if any(k):\n",
    "            res[anchor] = [distance(anchor, v) for v in k]\n",
    "    return res"
   ]
  },
  {
   "cell_type": "code",
   "execution_count": null,
   "id": "bizarre-barrier",
   "metadata": {},
   "outputs": [],
   "source": [
    "# network distances looks perfect (nothing > eps)"
   ]
  },
  {
   "cell_type": "code",
   "execution_count": 455,
   "id": "velvet-spain",
   "metadata": {},
   "outputs": [
    {
     "data": {
      "text/plain": [
       "{29: 0.19999999999999996,\n",
       " 14541: 0.19999999999999996,\n",
       " 20567: 0.19867549668874174,\n",
       " 661: 0.19860139860139858,\n",
       " 18549: 0.19756838905775076,\n",
       " 10134: 0.19697606047879046,\n",
       " 20560: 0.19427244582043346,\n",
       " 15132: 0.1941655941655942,\n",
       " 14428: 0.19000213629566332,\n",
       " 14376: 0.18827681448519262,\n",
       " 16466: 0.18367346938775508,\n",
       " 21017: 0.18181818181818177,\n",
       " 8873: 0.18079470198675496,\n",
       " 9897: 0.17880794701986757,\n",
       " 8296: 0.17871239961889207,\n",
       " 2435: 0.1785714285714286,\n",
       " 17551: 0.1777777777777778,\n",
       " 21583: 0.17730496453900713,\n",
       " 19679: 0.1720837847598411,\n",
       " 22596: 0.1697169002001716,\n",
       " 12305: 0.16797369086769542,\n",
       " 3187: 0.16666666666666663,\n",
       " 5585: 0.16416785325404137,\n",
       " 10873: 0.16410256410256407,\n",
       " 3073: 0.16306083926237835,\n",
       " 10246: 0.1585365853658537,\n",
       " 10760: 0.15726495726495726,\n",
       " 9246: 0.15517241379310343,\n",
       " 23903: 0.1549084359051336,\n",
       " 8236: 0.15347334410339253,\n",
       " 10245: 0.15257980325235898,\n",
       " 15439: 0.15151700888752684,\n",
       " 14: 0.15102613576565516,\n",
       " 25223: 0.1506024096385542,\n",
       " 10344: 0.15022222222222226,\n",
       " 22607: 0.14855072463768115,\n",
       " 2348: 0.14602060951545714,\n",
       " 17926: 0.14529914529914534,\n",
       " 11882: 0.14310344827586208,\n",
       " 27660: 0.14156144406900228,\n",
       " 8676: 0.14048980788971988,\n",
       " 38: 0.13680401540796083,\n",
       " 16469: 0.1362242663162505,\n",
       " 9794: 0.13587335658706734,\n",
       " 11849: 0.13449634214969053,\n",
       " 19008: 0.13433196424257066,\n",
       " 6249: 0.13414634146341464,\n",
       " 9368: 0.13075281926242,\n",
       " 18383: 0.1293103448275862,\n",
       " 206: 0.12810183693200128,\n",
       " 4209: 0.1273291925465838,\n",
       " 199: 0.12723610946570307,\n",
       " 8221: 0.12681212476204418,\n",
       " 2211: 0.125,\n",
       " 26054: 0.125,\n",
       " 1368: 0.12197909862834744,\n",
       " 19218: 0.12077202369577678,\n",
       " 15412: 0.1205800050877639,\n",
       " 15487: 0.11965998256320842,\n",
       " 17326: 0.11392405063291144,\n",
       " 577: 0.11154598825831707,\n",
       " 2094: 0.10928433268858806,\n",
       " 18456: 0.10712250712250715,\n",
       " 22890: 0.10708401976935744,\n",
       " 21088: 0.10555555555555551,\n",
       " 2047: 0.10500610500610497,\n",
       " 6726: 0.09643047416089501,\n",
       " 12925: 0.09625668449197866,\n",
       " 19938: 0.09619127050319709,\n",
       " 26742: 0.09185803757828814,\n",
       " 19581: 0.09166998804304505,\n",
       " 3232: 0.09102902374670185,\n",
       " 15470: 0.09090909090909094,\n",
       " 19562: 0.08562367864693443,\n",
       " 4104: 0.08478207639569046,\n",
       " 12502: 0.08446392541571002,\n",
       " 8392: 0.08083989501312339,\n",
       " 12515: 0.07692307692307687,\n",
       " 7264: 0.07475695608447874,\n",
       " 8286: 0.06623083859332735,\n",
       " 5143: 0.06411483253588512,\n",
       " 18606: 0.056386047731445066,\n",
       " 18545: 0.05598958333333337,\n",
       " 19033: 0.05339978640085441,\n",
       " 16919: 0.051273227804542354,\n",
       " 24662: 0.049613579906155114,\n",
       " 16507: 0.047131147540983576,\n",
       " 24626: 0.04674220963172804,\n",
       " 21571: 0.0462633451957295,\n",
       " 18475: 0.04586086280606294,\n",
       " 18748: 0.04440775897647542,\n",
       " 12478: 0.04440509669131687,\n",
       " 16925: 0.04207456779837537,\n",
       " 3978: 0.040000000000000036,\n",
       " 2077: 0.03395061728395066,\n",
       " 18701: 0.03348305430788079,\n",
       " 6420: 0.032745591939546626,\n",
       " 15585: 0.03273809523809523,\n",
       " 8940: 0.03243647234678626,\n",
       " 14448: 0.031132075471698162,\n",
       " 19017: 0.028835063437139596,\n",
       " 18588: 0.028625954198473247,\n",
       " 19574: 0.026666666666666616,\n",
       " 597: 0.025884068538096994,\n",
       " 11062: 0.023108665749656088,\n",
       " 11088: 0.022240663900414903,\n",
       " 21824: 0.02146690518783545,\n",
       " 24722: 0.018119068162208762,\n",
       " 12897: 0.014349775784753382,\n",
       " 25650: 0.005964214711729587,\n",
       " 8743: 0.0044543429844098315,\n",
       " 15469: 0.004330708661417271,\n",
       " 20591: 0.0041374122367101585,\n",
       " 24673: 0.004109589041095929,\n",
       " 16600: 0.004045734388742339,\n",
       " 16478: 0.0040322580645161255,\n",
       " 20605: 0.003894080996884708,\n",
       " 7290: 0.0019775873434410007,\n",
       " 11942: 0.0017992545945251237,\n",
       " 2242: 0.0016920473773265332,\n",
       " 25610: 0.001567791295622678,\n",
       " 19788: 0.0006105006105006083,\n",
       " 8324: 0.000549048316251799,\n",
       " 8339: 0.0002787068004459492,\n",
       " 4627: 0.0002692514808831925,\n",
       " 3641: 0.0001266464032421144,\n",
       " 18038: 8.663259118080191e-05,\n",
       " 3147: 7.727378100608195e-05,\n",
       " 454: 0.0,\n",
       " 3721: 0.0,\n",
       " 6957: 0.0,\n",
       " 15406: 0.0,\n",
       " 26713: 0.0,\n",
       " 25146: 0.0,\n",
       " 4366: 0.0,\n",
       " 23561: 0.0,\n",
       " 26649: 0.0,\n",
       " 27520: 0.0,\n",
       " 3112: 0.0,\n",
       " 10033: 0.0,\n",
       " 3174: 0.0,\n",
       " 11270: 0.0,\n",
       " 20279: 0.0,\n",
       " 16406: 0.0,\n",
       " 12570: 0.0,\n",
       " 22400: 0.0,\n",
       " 21713: 0.0,\n",
       " 7046: 0.0,\n",
       " 24725: 0.0,\n",
       " 16976: 0.0,\n",
       " 14394: 0.0,\n",
       " 1838: 0.0,\n",
       " 21522: 0.0,\n",
       " 7225: 0.0,\n",
       " 17417: 0.0,\n",
       " 854: 0.0,\n",
       " 1154: 0.0,\n",
       " 14626: 0.0,\n",
       " 18490: 0.0,\n",
       " 18639: 0.0,\n",
       " 5227: 0.0,\n",
       " 4190: 0.0,\n",
       " 3601: 0.0,\n",
       " 24208: 0.0,\n",
       " 24206: 0.0,\n",
       " 15968: 0.0,\n",
       " 18652: 0.0,\n",
       " 9253: 0.0,\n",
       " 25655: 0.0,\n",
       " 26218: 0.0,\n",
       " 13467: 0.0,\n",
       " 26768: 0.0,\n",
       " 13572: 0.0,\n",
       " 24472: 0.0,\n",
       " 24391: 0.0,\n",
       " 20561: 0.0,\n",
       " 9343: 0.0,\n",
       " 18494: 0.0,\n",
       " 24860: 0.0,\n",
       " 23823: 0.0,\n",
       " 18057: 0.0,\n",
       " 5800: 0.0,\n",
       " 11318: 0.0,\n",
       " 4059: 0.0,\n",
       " 11806: 0.0,\n",
       " 5783: 0.0,\n",
       " 6314: 0.0,\n",
       " 4109: 0.0,\n",
       " 12737: 0.0,\n",
       " 125: 0.0,\n",
       " 16393: 0.0,\n",
       " 18442: 0.0,\n",
       " 9742: 0.0,\n",
       " 7212: 0.0,\n",
       " 24666: 0.0,\n",
       " 24699: 0.0,\n",
       " 22631: 0.0,\n",
       " 16997: 0.0,\n",
       " 15511: 0.0,\n",
       " 18640: 0.0,\n",
       " 8323: 0.0,\n",
       " 7267: 0.0,\n",
       " 9248: 0.0,\n",
       " 11532: 0.0,\n",
       " 22668: 0.0,\n",
       " 9217: 0.0,\n",
       " 11286: 0.0,\n",
       " 630: 0.0,\n",
       " 4115: 0.0,\n",
       " 24061: 0.0}"
      ]
     },
     "execution_count": 455,
     "metadata": {},
     "output_type": "execute_result"
    }
   ],
   "source": [
    "maxes = {gamma: max(v) for gamma, v in res.items()}\n",
    "dict(sorted(maxes.items(), key=lambda x: x[1], reverse=True))"
   ]
  },
  {
   "cell_type": "code",
   "execution_count": 459,
   "id": "helpful-spelling",
   "metadata": {},
   "outputs": [
    {
     "data": {
      "application/vnd.jupyter.widget-view+json": {
       "model_id": "f9da1ab12d8d4598ac9926f824173923",
       "version_major": 2,
       "version_minor": 0
      },
      "text/plain": [
       "  0%|          | 0/475 [00:00<?, ?it/s]"
      ]
     },
     "metadata": {},
     "output_type": "display_data"
    }
   ],
   "source": [
    "res = get_dds(n=td[0])"
   ]
  },
  {
   "cell_type": "code",
   "execution_count": null,
   "id": "nasty-wagon",
   "metadata": {},
   "outputs": [],
   "source": [
    "# distances for nn results of partition 1, very bad (why?)"
   ]
  },
  {
   "cell_type": "code",
   "execution_count": 460,
   "id": "skilled-publicity",
   "metadata": {},
   "outputs": [
    {
     "data": {
      "text/plain": [
       "{26389: 0.9811320754716981,\n",
       " 2211: 0.9611650485436893,\n",
       " 16046: 0.9561281337047354,\n",
       " 6910: 0.9504663879060791,\n",
       " 22744: 0.9496402877697842,\n",
       " 10879: 0.9489795918367347,\n",
       " 11125: 0.946236559139785,\n",
       " 10594: 0.9444444444444444,\n",
       " 15935: 0.9410828025477707,\n",
       " 18638: 0.9325551232166018,\n",
       " 26749: 0.9296817172464841,\n",
       " 6505: 0.9285714285714286,\n",
       " 10805: 0.9248067463106113,\n",
       " 24232: 0.9230769230769231,\n",
       " 26178: 0.9211618257261411,\n",
       " 8738: 0.9193154034229829,\n",
       " 5504: 0.9135135135135135,\n",
       " 5784: 0.9090909090909091,\n",
       " 10871: 0.9027777777777778,\n",
       " 19156: 0.9,\n",
       " 2273: 0.8964705882352941,\n",
       " 24137: 0.8947368421052632,\n",
       " 17488: 0.8931016324381253,\n",
       " 26000: 0.8928571428571429,\n",
       " 7046: 0.8901960784313725,\n",
       " 13260: 0.8872711228766821,\n",
       " 626: 0.8827241899020346,\n",
       " 14422: 0.88,\n",
       " 4996: 0.8764940239043825,\n",
       " 23266: 0.8748481166464155,\n",
       " 4956: 0.874457622215794,\n",
       " 24087: 0.8729256013425322,\n",
       " 2047: 0.8716475095785441,\n",
       " 12635: 0.8671802773497689,\n",
       " 24673: 0.8602316602316602,\n",
       " 1182: 0.8598471059337459,\n",
       " 15470: 0.8571428571428572,\n",
       " 19938: 0.8563505268996118,\n",
       " 18594: 0.8555093555093555,\n",
       " 4950: 0.853515625,\n",
       " 7975: 0.8510324483775811,\n",
       " 9246: 0.8395061728395061,\n",
       " 24669: 0.8369565217391304,\n",
       " 24869: 0.8350676378772113,\n",
       " 9368: 0.8307840927386894,\n",
       " 3187: 0.8301886792452831,\n",
       " 18383: 0.8291956305858987,\n",
       " 2208: 0.8269230769230769,\n",
       " 1941: 0.8235294117647058,\n",
       " 25997: 0.8233319345362988,\n",
       " 21566: 0.8181818181818181,\n",
       " 3900: 0.8180987202925045,\n",
       " 18559: 0.8172628304821151,\n",
       " 21381: 0.8159133709981168,\n",
       " 7290: 0.8122964800744301,\n",
       " 25885: 0.8109243697478992,\n",
       " 10724: 0.8108705258506408,\n",
       " 9277: 0.8108108108108107,\n",
       " 6305: 0.8087005019520357,\n",
       " 26772: 0.8054545454545454,\n",
       " 17881: 0.799020979020979,\n",
       " 18701: 0.7970684862269396,\n",
       " 19581: 0.7945438465201714,\n",
       " 19788: 0.7938574188955558,\n",
       " 1478: 0.7933972310969116,\n",
       " 14113: 0.7885720481405183,\n",
       " 9724: 0.7880184331797235,\n",
       " 2037: 0.7877209595959596,\n",
       " 15184: 0.782067782067782,\n",
       " 16393: 0.7777777777777778,\n",
       " 15635: 0.7768060836501901,\n",
       " 1820: 0.7756286266924565,\n",
       " 15078: 0.7737006237006236,\n",
       " 16601: 0.7683830425811292,\n",
       " 19716: 0.7663280116110305,\n",
       " 8357: 0.7653429602888087,\n",
       " 5973: 0.7647058823529411,\n",
       " 10641: 0.7646315789473684,\n",
       " 10615: 0.7641390867197319,\n",
       " 5532: 0.7634043927648579,\n",
       " 16289: 0.7619047619047619,\n",
       " 21017: 0.76,\n",
       " 15799: 0.758957654723127,\n",
       " 4057: 0.7529411764705882,\n",
       " 6588: 0.7516996748448123,\n",
       " 14807: 0.7515019115237576,\n",
       " 12502: 0.747413040767984,\n",
       " 19771: 0.7466316413863232,\n",
       " 12006: 0.7464424320827943,\n",
       " 25610: 0.7443927432425368,\n",
       " 2525: 0.7419354838709677,\n",
       " 12630: 0.7380572092347901,\n",
       " 23903: 0.7343897377853235,\n",
       " 22973: 0.7333333333333334,\n",
       " 24208: 0.7319117158977764,\n",
       " 7666: 0.7277446808510638,\n",
       " 121: 0.7256920835356969,\n",
       " 3095: 0.7250970245795602,\n",
       " 24641: 0.7243491577335375,\n",
       " 16976: 0.7221365214037794,\n",
       " 15105: 0.7217111315547378,\n",
       " 9492: 0.721366128315306,\n",
       " 9762: 0.7185697808535179,\n",
       " 9078: 0.7182059739783764,\n",
       " 6626: 0.7138055222088835,\n",
       " 5800: 0.712021973378407,\n",
       " 23739: 0.7105263157894737,\n",
       " 597: 0.7093912511471399,\n",
       " 7264: 0.7048641542506573,\n",
       " 2954: 0.6991830065359477,\n",
       " 18521: 0.699119373776908,\n",
       " 242: 0.697997503663103,\n",
       " 11916: 0.6950104884626911,\n",
       " 6391: 0.6946365801111237,\n",
       " 15606: 0.6944458331250312,\n",
       " 15475: 0.6914267015706806,\n",
       " 24303: 0.689695550351288,\n",
       " 18710: 0.6864746627779803,\n",
       " 16469: 0.6802002224694105,\n",
       " 343: 0.6785714285714286,\n",
       " 2088: 0.677304964539007,\n",
       " 26176: 0.6772669662403503,\n",
       " 11631: 0.6768023540951447,\n",
       " 38: 0.6749975497402725,\n",
       " 5959: 0.6738159070598748,\n",
       " 21059: 0.673690932311622,\n",
       " 26531: 0.6710690515806988,\n",
       " 20108: 0.6627312081857537,\n",
       " 531: 0.6610760272287378,\n",
       " 1130: 0.6609548335974643,\n",
       " 13789: 0.6605721188162301,\n",
       " 1138: 0.6567468175388967,\n",
       " 17126: 0.6555441478439425,\n",
       " 25215: 0.652931323283082,\n",
       " 8767: 0.6474358974358974,\n",
       " 854: 0.6428571428571428,\n",
       " 18533: 0.6415082094879616,\n",
       " 3481: 0.641459661464058,\n",
       " 9381: 0.6411764705882352,\n",
       " 9141: 0.6394138064018511,\n",
       " 783: 0.6389065479974572,\n",
       " 2890: 0.6374246987951807,\n",
       " 9217: 0.6346637900035959,\n",
       " 5809: 0.6315737640338783,\n",
       " 16258: 0.6311417772699306,\n",
       " 4105: 0.6300881089346828,\n",
       " 20171: 0.6199490513000703,\n",
       " 3084: 0.6186693822131704,\n",
       " 14647: 0.6152782897161814,\n",
       " 26218: 0.6115702479338843,\n",
       " 18214: 0.6040937603169363,\n",
       " 20591: 0.602730297120569,\n",
       " 10636: 0.6018989162750552,\n",
       " 25365: 0.6010823347506764,\n",
       " 9106: 0.6,\n",
       " 13506: 0.5954790096878364,\n",
       " 777: 0.5920460933108488,\n",
       " 19574: 0.5895765472312704,\n",
       " 3117: 0.5864080731630401,\n",
       " 2094: 0.5860679332181923,\n",
       " 3091: 0.5852962169878658,\n",
       " 23003: 0.5819385824479697,\n",
       " 21571: 0.5816831683168318,\n",
       " 26742: 0.5776778413736713,\n",
       " 11653: 0.5764563106796117,\n",
       " 6256: 0.5746130030959753,\n",
       " 15364: 0.573108925869894,\n",
       " 19503: 0.5714285714285714,\n",
       " 14381: 0.5632626846499679,\n",
       " 454: 0.5576314319409099,\n",
       " 18765: 0.5544635544635544,\n",
       " 4737: 0.5537807737397421,\n",
       " 2348: 0.552665799739922,\n",
       " 3586: 0.5512163892445583,\n",
       " 18494: 0.5506106642835865,\n",
       " 6957: 0.5466245202077218,\n",
       " 19033: 0.5463650492142981,\n",
       " 1230: 0.5461010922021844,\n",
       " 25966: 0.5454545454545454,\n",
       " 23561: 0.5445544554455446,\n",
       " 24173: 0.5424733306993283,\n",
       " 4209: 0.5404773046326626,\n",
       " 19011: 0.5403532741290134,\n",
       " 19201: 0.5390096839027956,\n",
       " 13864: 0.5376023827252421,\n",
       " 23190: 0.5357142857142857,\n",
       " 14428: 0.5331972789115647,\n",
       " 21936: 0.5329270357203317,\n",
       " 7780: 0.5319949811794229,\n",
       " 18335: 0.5318802200040742,\n",
       " 199: 0.52728322586854,\n",
       " 11882: 0.5267918088737201,\n",
       " 22370: 0.5245710397122443,\n",
       " 3721: 0.5245397173108016,\n",
       " 20401: 0.5241248817407758,\n",
       " 24618: 0.5221164613661814,\n",
       " 18442: 0.5214650255178626,\n",
       " 12914: 0.5200362560824349,\n",
       " 19085: 0.5190821256038647,\n",
       " 8284: 0.519065681772809,\n",
       " 12864: 0.514823843976093,\n",
       " 4627: 0.5046382189239332,\n",
       " 2435: 0.5032679738562091,\n",
       " 16125: 0.5021591610117211,\n",
       " 2130: 0.5017907393195191,\n",
       " 11318: 0.5,\n",
       " 11286: 0.5,\n",
       " 5253: 0.5,\n",
       " 19266: 0.497598627787307,\n",
       " 18034: 0.4969171707771056,\n",
       " 18797: 0.49092480553154716,\n",
       " 18748: 0.4882029193586983,\n",
       " 17145: 0.4832167383351518,\n",
       " 8345: 0.48316517401655146,\n",
       " 780: 0.48028812640384166,\n",
       " 10233: 0.4793539793539794,\n",
       " 19562: 0.47884400447070097,\n",
       " 6420: 0.476462676529926,\n",
       " 22651: 0.47449166850179847,\n",
       " 18132: 0.4726506712367895,\n",
       " 10535: 0.4695739920150923,\n",
       " 1340: 0.4693333333333334,\n",
       " 10134: 0.45707494407158833,\n",
       " 22133: 0.4545454545454546,\n",
       " 6067: 0.4497760716570698,\n",
       " 20614: 0.44685486926866236,\n",
       " 6895: 0.4468134957825679,\n",
       " 206: 0.4429911481041089,\n",
       " 12478: 0.4405348821503343,\n",
       " 3232: 0.43897328444211625,\n",
       " 20563: 0.43687520447853434,\n",
       " 223: 0.43202491190690817,\n",
       " 4810: 0.43201861832435084,\n",
       " 19231: 0.43195785776997364,\n",
       " 9972: 0.4296028880866426,\n",
       " 7615: 0.4292438505921652,\n",
       " 6210: 0.4285714285714286,\n",
       " 13818: 0.4251870324189526,\n",
       " 19150: 0.42492766864626164,\n",
       " 18588: 0.4246947082767978,\n",
       " 6625: 0.42080544792767405,\n",
       " 15435: 0.4125575279421433,\n",
       " 18099: 0.41145833333333337,\n",
       " 18389: 0.4082617586912065,\n",
       " 12768: 0.4042256791270026,\n",
       " 8221: 0.4015052684395384,\n",
       " 20966: 0.4,\n",
       " 14376: 0.3908765652951699,\n",
       " 13332: 0.38710187724108835,\n",
       " 5383: 0.38257642693055305,\n",
       " 18639: 0.38180643076425913,\n",
       " 19709: 0.37641653905053596,\n",
       " 2526: 0.3713153724247227,\n",
       " 7514: 0.3666666666666667,\n",
       " 5673: 0.365201975433709,\n",
       " 24666: 0.3610823675496688,\n",
       " 271: 0.3576527947065994,\n",
       " 18606: 0.3575780654988576,\n",
       " 15372: 0.3570943652410048,\n",
       " 1838: 0.35625990491283677,\n",
       " 3073: 0.3550465282748747,\n",
       " 8323: 0.35325483225949794,\n",
       " 6426: 0.3529411764705882,\n",
       " 17326: 0.3457943925233645,\n",
       " 1368: 0.3428051001821494,\n",
       " 9911: 0.34058941728064296,\n",
       " 7395: 0.339663988312637,\n",
       " 4109: 0.3350642927794263,\n",
       " 10533: 0.33333333333333337,\n",
       " 6619: 0.33333333333333337,\n",
       " 7212: 0.33333333333333337,\n",
       " 21391: 0.33333333333333337,\n",
       " 21122: 0.3323699421965318,\n",
       " 27660: 0.32896532896532893,\n",
       " 17723: 0.3282215122470713,\n",
       " 11040: 0.3252561784207354,\n",
       " 22596: 0.3244181561013244,\n",
       " 13838: 0.3220404984423676,\n",
       " 2942: 0.31911704591906254,\n",
       " 27587: 0.31693363844393596,\n",
       " 18832: 0.31206607613119464,\n",
       " 10245: 0.3089665261165132,\n",
       " 8296: 0.3022059663961596,\n",
       " 4792: 0.29863828455157304,\n",
       " 15469: 0.2956455309396486,\n",
       " 4005: 0.2889352818371608,\n",
       " 12925: 0.2883642495784149,\n",
       " 27235: 0.2811361981063365,\n",
       " 525: 0.27903091060985796,\n",
       " 9876: 0.27748735244519396,\n",
       " 18670: 0.27098856247923686,\n",
       " 22607: 0.2569762598917118,\n",
       " 9794: 0.2524664501501317,\n",
       " 17946: 0.25148703307161546,\n",
       " 9248: 0.25,\n",
       " 20279: 0.2499674521546673,\n",
       " 8236: 0.24238227146814406,\n",
       " 370: 0.24125397546569738,\n",
       " 17380: 0.23945044160942097,\n",
       " 19050: 0.2391165172855314,\n",
       " 8676: 0.23559572434170506,\n",
       " 5585: 0.2327350167325829,\n",
       " 18374: 0.23271298368171156,\n",
       " 9742: 0.23076923076923073,\n",
       " 18545: 0.23019271948608133,\n",
       " 22690: 0.22693862550532895,\n",
       " 7285: 0.22613065326633164,\n",
       " 6726: 0.2258198422581984,\n",
       " 11613: 0.22384937238493718,\n",
       " 15453: 0.22142121524201852,\n",
       " 13837: 0.2162817743811264,\n",
       " 23430: 0.21568627450980393,\n",
       " 20567: 0.21324717285945072,\n",
       " 10760: 0.2109181141439206,\n",
       " 18168: 0.20546327959615696,\n",
       " 8392: 0.2038300104931794,\n",
       " 7267: 0.20064724919093846,\n",
       " 25661: 0.19999999999999996,\n",
       " 3601: 0.19999999999999996,\n",
       " 17843: 0.19899442694451175,\n",
       " 14711: 0.1988866396761133,\n",
       " 18549: 0.19790104947526233,\n",
       " 18736: 0.19625314142106465,\n",
       " 14122: 0.19228102611509124,\n",
       " 9443: 0.18181818181818177,\n",
       " 14541: 0.18181818181818177,\n",
       " 8873: 0.18079470198675496,\n",
       " 630: 0.17986351313452364,\n",
       " 17551: 0.1777777777777778,\n",
       " 10873: 0.17765326301911666,\n",
       " 21583: 0.17730496453900713,\n",
       " 22107: 0.17654171704957677,\n",
       " 19679: 0.1720837847598411,\n",
       " 6622: 0.17053013505341663,\n",
       " 15439: 0.17048955837042112,\n",
       " 12305: 0.16797369086769542,\n",
       " 10246: 0.16791044776119401,\n",
       " 14897: 0.16685001833516688,\n",
       " 29: 0.16666666666666663,\n",
       " 16925: 0.16610384128324185,\n",
       " 20560: 0.16099585062240662,\n",
       " 11649: 0.15735294117647058,\n",
       " 11446: 0.15608465608465605,\n",
       " 14: 0.15102613576565516,\n",
       " 5496: 0.14603419462655864,\n",
       " 17926: 0.14486398097220154,\n",
       " 12792: 0.14366471734892783,\n",
       " 4104: 0.14363191042687196,\n",
       " 15013: 0.1428571428571429,\n",
       " 10311: 0.13626634958382877,\n",
       " 15132: 0.13506036217303818,\n",
       " 1623: 0.1333333333333333,\n",
       " 20045: 0.12303577398863252,\n",
       " 19218: 0.12261632341723872,\n",
       " 15412: 0.1205800050877639,\n",
       " 6314: 0.11979166666666663,\n",
       " 15968: 0.11764705882352944,\n",
       " 27343: 0.11750000000000005,\n",
       " 577: 0.11154598825831707,\n",
       " 7645: 0.11111111111111116,\n",
       " 21088: 0.10555555555555551,\n",
       " 18456: 0.1028209860268916,\n",
       " 12349: 0.10256410256410253,\n",
       " 6992: 0.09667673716012082,\n",
       " 6375: 0.09516256938937351,\n",
       " 2242: 0.08333333333333337,\n",
       " 19124: 0.08266058266058263,\n",
       " 12515: 0.07692307692307687,\n",
       " 7872: 0.07636088709677424,\n",
       " 25958: 0.0714285714285714,\n",
       " 1262: 0.0706876680752977,\n",
       " 5143: 0.06411483253588512,\n",
       " 13572: 0.0625,\n",
       " 15638: 0.06243223707986989,\n",
       " 11487: 0.05694518360830225,\n",
       " 17047: 0.05391040242976464,\n",
       " 26649: 0.050771208226221054,\n",
       " 7851: 0.04906808672499052,\n",
       " 8324: 0.04791775570656909,\n",
       " 11062: 0.04783660306369253,\n",
       " 25223: 0.046979865771812124,\n",
       " 24626: 0.04674220963172804,\n",
       " 22890: 0.04415011037527594,\n",
       " 2077: 0.04375410194705753,\n",
       " 24699: 0.04166666666666663,\n",
       " 11566: 0.04054514480408855,\n",
       " 16507: 0.039256198347107474,\n",
       " 13762: 0.03843466107617055,\n",
       " 7494: 0.03418013856812929,\n",
       " 15585: 0.03273809523809523,\n",
       " 16600: 0.031303455354088294,\n",
       " 16478: 0.02824858757062143,\n",
       " 18852: 0.02510822510822508,\n",
       " 17625: 0.02182453077258839,\n",
       " 21824: 0.02146690518783545,\n",
       " 16466: 0.019015659955257225,\n",
       " 13417: 0.01805337519623229,\n",
       " 24722: 0.01654320987654323,\n",
       " 12897: 0.016143497757847514,\n",
       " 8874: 0.013567438148443745,\n",
       " 24662: 0.008223221816137216,\n",
       " 14186: 0.007968127490039834,\n",
       " 1809: 0.007217321571772239,\n",
       " 25650: 0.005964214711729587,\n",
       " 26713: 0.004201680672268893,\n",
       " 8743: 0.002788622420524245,\n",
       " 3929: 0.0026371842986103733,\n",
       " 20605: 0.0015612802498048417,\n",
       " 14448: 0.0009433962264151496,\n",
       " 15541: 0.0009134596290559793,\n",
       " 8339: 0.00027862914460852206,\n",
       " 18985: 0.00011032656663723106,\n",
       " 3147: 7.727378100608195e-05,\n",
       " 14542: 0.0,\n",
       " 23438: 0.0,\n",
       " 19705: 0.0,\n",
       " 15406: 0.0,\n",
       " 17059: 0.0,\n",
       " 5826: 0.0,\n",
       " 19100: 0.0,\n",
       " 25146: 0.0,\n",
       " 4366: 0.0,\n",
       " 11022: 0.0,\n",
       " 27520: 0.0,\n",
       " 22588: 0.0,\n",
       " 12759: 0.0,\n",
       " 10033: 0.0,\n",
       " 3174: 0.0,\n",
       " 4587: 0.0,\n",
       " 3575: 0.0,\n",
       " 11270: 0.0,\n",
       " 16406: 0.0,\n",
       " 12570: 0.0,\n",
       " 22400: 0.0,\n",
       " 19712: 0.0,\n",
       " 24725: 0.0,\n",
       " 14394: 0.0,\n",
       " 23465: 0.0,\n",
       " 7225: 0.0,\n",
       " 17417: 0.0,\n",
       " 14626: 0.0,\n",
       " 18490: 0.0,\n",
       " 15086: 0.0,\n",
       " 5227: 0.0,\n",
       " 4190: 0.0,\n",
       " 20284: 0.0,\n",
       " 24206: 0.0,\n",
       " 24095: 0.0,\n",
       " 18652: 0.0,\n",
       " 9253: 0.0,\n",
       " 16068: 0.0,\n",
       " 13467: 0.0,\n",
       " 3397: 0.0,\n",
       " 26768: 0.0,\n",
       " 1243: 0.0,\n",
       " 24391: 0.0,\n",
       " 20561: 0.0,\n",
       " 9343: 0.0,\n",
       " 5969: 0.0,\n",
       " 4255: 0.0,\n",
       " 7718: 0.0,\n",
       " 9180: 0.0,\n",
       " 23823: 0.0,\n",
       " 11806: 0.0,\n",
       " 12737: 0.0,\n",
       " 125: 0.0,\n",
       " 22631: 0.0,\n",
       " 16997: 0.0,\n",
       " 5026: 0.0,\n",
       " 24748: 0.0,\n",
       " 22668: 0.0,\n",
       " 17793: 0.0,\n",
       " 9700: 0.0,\n",
       " 6506: 0.0,\n",
       " 24061: 0.0}"
      ]
     },
     "execution_count": 460,
     "metadata": {},
     "output_type": "execute_result"
    }
   ],
   "source": [
    "maxes = {gamma: max(v) for gamma, v in res.items()}\n",
    "dict(sorted(maxes.items(), key=lambda x: x[1], reverse=True))"
   ]
  },
  {
   "cell_type": "code",
   "execution_count": 468,
   "id": "rolled-damages",
   "metadata": {},
   "outputs": [
    {
     "data": {
      "text/plain": [
       "{1559: 0.9811320754716981,\n",
       " 21826: 0.9662921348314607,\n",
       " 26082: 0.9206349206349207}"
      ]
     },
     "execution_count": 468,
     "metadata": {},
     "output_type": "execute_result"
    }
   ],
   "source": [
    "# an example for anchor: 26389, which bacame anchor for following 3 aps (despite very high distance)\n",
    "m = 26389\n",
    "zx = {a: distance(a, m) for a in td[0][m]}\n",
    "zx"
   ]
  },
  {
   "cell_type": "code",
   "execution_count": 476,
   "id": "indirect-investor",
   "metadata": {},
   "outputs": [
    {
     "name": "stdout",
     "output_type": "stream",
     "text": [
      "1559 0.9811320754716981\n",
      "21826 0.9811320754716981\n",
      "26082 0.9811320754716981\n"
     ]
    }
   ],
   "source": [
    "# are there better anchors for those 3? \n",
    "for k in zx.keys():\n",
    "    nnf = {anchor: distance(1559, anchor) for anchor in n.keys()}\n",
    "    print(k, min(nnf.values()))"
   ]
  },
  {
   "cell_type": "code",
   "execution_count": 478,
   "id": "conceptual-arabic",
   "metadata": {},
   "outputs": [],
   "source": [
    "# Conclusions so far:\n",
    "# origin network is built correctly\n",
    "# nearest neighbour calculation is done correctly\n",
    "# probably the merging plays no role as the distances in the partitions are already very high \n",
    "\n",
    "# problems with partitioning? "
   ]
  },
  {
   "cell_type": "code",
   "execution_count": 481,
   "id": "concerned-computer",
   "metadata": {},
   "outputs": [],
   "source": [
    "def partition_ndframe(nd, n_parts):\n",
    "    rn = default_rng(42)\n",
    "    permuted_indices = rn.permutation(len(nd))\n",
    "\n",
    "    dfs = []\n",
    "    for i in range(n_parts):\n",
    "        dfs.append(nd[permuted_indices[i::n_parts]])\n",
    "    return dfs"
   ]
  },
  {
   "cell_type": "code",
   "execution_count": 479,
   "id": "acquired-litigation",
   "metadata": {},
   "outputs": [],
   "source": [
    "napks = mw['apk'].unique().to_numpy()\n",
    "test_size = 1000\n",
    "train, test = train_test_split(napks, test_size=test_size, random_state=42)\n",
    "\n",
    "#parts = partition_ndframe(nd=train, n_parts=4)\n",
    "#sparts = [subsamp.filter_by(values=part, column_name='apk') for part in parts]\n",
    "#ftrain = subsamp.filter_by(values=train, column_name='apk')"
   ]
  },
  {
   "cell_type": "code",
   "execution_count": 480,
   "id": "particular-psychology",
   "metadata": {},
   "outputs": [
    {
     "data": {
      "text/plain": [
       "(10003, 9003, 1000)"
      ]
     },
     "execution_count": 480,
     "metadata": {},
     "output_type": "execute_result"
    }
   ],
   "source": [
    "len(napks), len(train), len(test)"
   ]
  },
  {
   "cell_type": "code",
   "execution_count": 482,
   "id": "seven-nelson",
   "metadata": {},
   "outputs": [],
   "source": [
    "parts = partition_ndframe(nd=test, n_parts=4)"
   ]
  },
  {
   "cell_type": "code",
   "execution_count": 486,
   "id": "intended-darkness",
   "metadata": {},
   "outputs": [
    {
     "data": {
      "text/plain": [
       "(250, 250)"
      ]
     },
     "execution_count": 486,
     "metadata": {},
     "output_type": "execute_result"
    }
   ],
   "source": [
    "len(parts[0]), len(parts[1])"
   ]
  },
  {
   "cell_type": "code",
   "execution_count": 494,
   "id": "internal-bhutan",
   "metadata": {},
   "outputs": [
    {
     "name": "stdout",
     "output_type": "stream",
     "text": [
      "3\n",
      "1\n",
      "1\n",
      "3\n",
      "2\n",
      "0\n",
      "2\n",
      "3\n",
      "0\n",
      "3\n"
     ]
    }
   ],
   "source": [
    "for a in test[:10]:\n",
    "    for i in range(0,4):\n",
    "        if a in parts[i]:\n",
    "            print(i)"
   ]
  },
  {
   "cell_type": "code",
   "execution_count": 495,
   "id": "aggressive-contact",
   "metadata": {},
   "outputs": [],
   "source": [
    "sparts = [mw.filter_by(values=part, column_name='apk') for part in parts]"
   ]
  },
  {
   "cell_type": "code",
   "execution_count": 499,
   "id": "charitable-economics",
   "metadata": {},
   "outputs": [
    {
     "data": {
      "text/plain": [
       "[803011, 948351, 787623, 806120]"
      ]
     },
     "execution_count": 499,
     "metadata": {},
     "output_type": "execute_result"
    }
   ],
   "source": [
    "[s.shape[0] for s in sparts]"
   ]
  },
  {
   "cell_type": "code",
   "execution_count": 500,
   "id": "adequate-distinction",
   "metadata": {},
   "outputs": [],
   "source": [
    "# Conclusion:\n",
    "# also no problem here... "
   ]
  },
  {
   "cell_type": "code",
   "execution_count": null,
   "id": "public-month",
   "metadata": {},
   "outputs": [],
   "source": []
  },
  {
   "cell_type": "code",
   "execution_count": null,
   "id": "productive-virgin",
   "metadata": {},
   "outputs": [],
   "source": []
  },
  {
   "cell_type": "code",
   "execution_count": 503,
   "id": "medium-heating",
   "metadata": {},
   "outputs": [
    {
     "data": {
      "text/html": [
       "<div style=\"max-height:1000px;max-width:1500px;overflow:auto;\"><table frame=\"box\" rules=\"cols\">\n",
       "    <tr>\n",
       "        <th style=\"padding-left: 1em; padding-right: 1em; text-align: center\">apk</th>\n",
       "        <th style=\"padding-left: 1em; padding-right: 1em; text-align: center\">function</th>\n",
       "    </tr>\n",
       "    <tr>\n",
       "        <td style=\"padding-left: 1em; padding-right: 1em; text-align: center; vertical-align: top\">1559</td>\n",
       "        <td style=\"padding-left: 1em; padding-right: 1em; text-align: center; vertical-align: top\">570233</td>\n",
       "    </tr>\n",
       "</table>\n",
       "[? rows x 2 columns]<br/>Note: Only the head of the SFrame is printed. This SFrame is lazily evaluated.<br/>You can use sf.materialize() to force materialization.\n",
       "</div>"
      ],
      "text/plain": [
       "Columns:\n",
       "\tapk\tint\n",
       "\tfunction\tint\n",
       "\n",
       "Rows: Unknown\n",
       "\n",
       "Data:\n",
       "+------+----------+\n",
       "| apk  | function |\n",
       "+------+----------+\n",
       "| 1559 |  570233  |\n",
       "+------+----------+\n",
       "[? rows x 2 columns]\n",
       "Note: Only the head of the SFrame is printed. This SFrame is lazily evaluated.\n",
       "You can use sf.materialize() to force materialization."
      ]
     },
     "execution_count": 503,
     "metadata": {},
     "output_type": "execute_result"
    }
   ],
   "source": [
    "mw[mw['apk']==1559]"
   ]
  },
  {
   "cell_type": "code",
   "execution_count": 509,
   "id": "modular-pharmacology",
   "metadata": {},
   "outputs": [],
   "source": [
    "potd = mw[mw['function']==570233]['apk']"
   ]
  },
  {
   "cell_type": "code",
   "execution_count": 511,
   "id": "drawn-orange",
   "metadata": {},
   "outputs": [],
   "source": [
    "possible_dist = {el: distance(1559, el) for el in potd}"
   ]
  },
  {
   "cell_type": "code",
   "execution_count": 514,
   "id": "worthy-thing",
   "metadata": {},
   "outputs": [
    {
     "data": {
      "text/plain": [
       "{1559: 0.0,\n",
       " 12192: 0.9473684210526316,\n",
       " 25688: 0.9615384615384616,\n",
       " 16890: 0.9787234042553191,\n",
       " 12383: 0.98,\n",
       " 26389: 0.9811320754716981,\n",
       " 15774: 0.9824561403508771,\n",
       " 24105: 0.9861111111111112,\n",
       " 16113: 0.9861111111111112,\n",
       " 27132: 0.9861111111111112,\n",
       " 25619: 0.9861111111111112,\n",
       " 22560: 0.9861111111111112,\n",
       " 26476: 0.9861111111111112,\n",
       " 25535: 0.9861111111111112,\n",
       " 5540: 0.9861111111111112,\n",
       " 6018: 0.9861111111111112,\n",
       " 26766: 0.9861111111111112,\n",
       " 17724: 0.9861111111111112,\n",
       " 12215: 0.9861111111111112,\n",
       " 504: 0.9861111111111112,\n",
       " 5365: 0.9861111111111112,\n",
       " 2604: 0.9861111111111112,\n",
       " 12157: 0.9861111111111112,\n",
       " 14791: 0.9861111111111112,\n",
       " 24699: 0.9861111111111112,\n",
       " 14283: 0.9861111111111112,\n",
       " 4259: 0.9861111111111112,\n",
       " 23158: 0.9861111111111112,\n",
       " 4495: 0.9861111111111112,\n",
       " 6521: 0.9861111111111112,\n",
       " 15712: 0.9861111111111112,\n",
       " 12601: 0.9861111111111112,\n",
       " 19547: 0.9921875,\n",
       " 6384: 0.9940119760479041,\n",
       " 19762: 0.9942528735632183,\n",
       " 6656: 0.9956521739130435,\n",
       " 17362: 0.996031746031746,\n",
       " 15243: 0.996031746031746,\n",
       " 4430: 0.9972067039106145,\n",
       " 16967: 0.9972144846796658,\n",
       " 12947: 0.9974226804123711,\n",
       " 19165: 0.9974226804123711,\n",
       " 3296: 0.9975845410628019,\n",
       " 22660: 0.9979338842975206,\n",
       " 10367: 0.997946611909651,\n",
       " 5959: 0.9982993197278912,\n",
       " 7935: 0.9983525535420099,\n",
       " 27285: 0.9984,\n",
       " 9213: 0.9984177215189873,\n",
       " 990: 0.9984447900466563,\n",
       " 25558: 0.9984472049689441,\n",
       " 17799: 0.9984472049689441,\n",
       " 25032: 0.9984496124031008,\n",
       " 957: 0.9984709480122325,\n",
       " 20036: 0.9984871406959153,\n",
       " 12006: 0.9986468200270636,\n",
       " 11446: 0.9986684420772304,\n",
       " 8356: 0.9987745098039216,\n",
       " 14354: 0.9988452655889145,\n",
       " 18401: 0.9989094874591058,\n",
       " 21907: 0.9989373007438895,\n",
       " 10805: 0.9989395546129375,\n",
       " 16802: 0.9989561586638831,\n",
       " 6099: 0.9989669421487604,\n",
       " 24911: 0.9989669421487604,\n",
       " 17806: 0.9989669421487604,\n",
       " 25655: 0.9989669421487604,\n",
       " 12135: 0.9989669421487604,\n",
       " 24938: 0.9989669421487604,\n",
       " 15033: 0.9989669421487604,\n",
       " 22652: 0.9989669421487604,\n",
       " 12737: 0.9989816700610998,\n",
       " 1898: 0.9989816700610998,\n",
       " 20443: 0.9989816700610998,\n",
       " 13633: 0.9989878542510121,\n",
       " 9320: 0.9989909182643795,\n",
       " 22962: 0.9990262901655307,\n",
       " 5576: 0.9990356798457087,\n",
       " 17394: 0.9990366088631984,\n",
       " 24951: 0.999054820415879,\n",
       " 2735: 0.9990557129367328,\n",
       " 4677: 0.9990566037735849,\n",
       " 7349: 0.9990566037735849,\n",
       " 10896: 0.9990566037735849,\n",
       " 14448: 0.9990566037735849,\n",
       " 1269: 0.9990574929311969,\n",
       " 16672: 0.9991289198606271,\n",
       " 6375: 0.9991589571068125,\n",
       " 19569: 0.9991645781119465,\n",
       " 5517: 0.9991755976916735,\n",
       " 20332: 0.9991803278688525,\n",
       " 15628: 0.9991816693944353,\n",
       " 11067: 0.9991869918699187,\n",
       " 4832: 0.9991909385113269,\n",
       " 18160: 0.999203187250996,\n",
       " 19601: 0.9992150706436421,\n",
       " 18061: 0.9992181391712275,\n",
       " 18266: 0.9992181391712275,\n",
       " 19833: 0.9992181391712275,\n",
       " 20605: 0.9992181391712275,\n",
       " 9169: 0.9992181391712275,\n",
       " 18098: 0.9992181391712275,\n",
       " 2463: 0.9992181391712275,\n",
       " 20233: 0.9992181391712275,\n",
       " 2336: 0.9992181391712275,\n",
       " 713: 0.9992181391712275,\n",
       " 18873: 0.9992181391712275,\n",
       " 4887: 0.9992181391712275,\n",
       " 14707: 0.9992181391712275,\n",
       " 19940: 0.9992181391712275,\n",
       " 10767: 0.99921875,\n",
       " 17294: 0.99921875,\n",
       " 8216: 0.9992193598750976,\n",
       " 2123: 0.9992193598750976,\n",
       " 15405: 0.9992193598750976,\n",
       " 11039: 0.9992193598750976,\n",
       " 5768: 0.9992211838006231,\n",
       " 13386: 0.9992429977289932,\n",
       " 15475: 0.9992603550295858,\n",
       " 4789: 0.9992706053975201,\n",
       " 13762: 0.9992821249102656,\n",
       " 10046: 0.9992846924177397,\n",
       " 2890: 0.9992862241256245,\n",
       " 19660: 0.9992917847025495,\n",
       " 27484: 0.9992922859164898,\n",
       " 19521: 0.9992922859164898,\n",
       " 9543: 0.9992927864214993,\n",
       " 6660: 0.9992927864214993,\n",
       " 27345: 0.9993089149965446,\n",
       " 19558: 0.9993103448275862,\n",
       " 19421: 0.9993108201240524,\n",
       " 9141: 0.9993145990404386,\n",
       " 19827: 0.9993174061433447,\n",
       " 3102: 0.9993252361673415,\n",
       " 17895: 0.9993284083277367,\n",
       " 17436: 0.9993429697766097,\n",
       " 26307: 0.9993540051679587,\n",
       " 2549: 0.9993682880606444,\n",
       " 9661: 0.9993815708101422,\n",
       " 12794: 0.9993979530403372,\n",
       " 7855: 0.9993983152827918,\n",
       " 10210: 0.9994044073853484,\n",
       " 3683: 0.9994047619047619,\n",
       " 19017: 0.9994089834515366,\n",
       " 3014: 0.9994206257242179,\n",
       " 7100: 0.9994206257242179,\n",
       " 18379: 0.9994206257242179,\n",
       " 11561: 0.9994246260069045,\n",
       " 15545: 0.9994385176866929,\n",
       " 18955: 0.9994493392070485,\n",
       " 17990: 0.9994499449944995,\n",
       " 18480: 0.9994632313472893,\n",
       " 19540: 0.9994669509594882,\n",
       " 13836: 0.9994708994708995,\n",
       " 2197: 0.9994767137624281,\n",
       " 11334: 0.9994788952579469,\n",
       " 11289: 0.999482936918304,\n",
       " 8016: 0.9994910941475827,\n",
       " 13242: 0.9994910941475827,\n",
       " 3112: 0.9994910941475827,\n",
       " 3120: 0.9994910941475827,\n",
       " 1221: 0.9994962216624685,\n",
       " 4802: 0.9995051954477981,\n",
       " 9498: 0.999507874015748,\n",
       " 21855: 0.9995166747220879,\n",
       " 7492: 0.9995231282784931,\n",
       " 10063: 0.9995238095238095,\n",
       " 4936: 0.9995316159250586,\n",
       " 15336: 0.999532273152479,\n",
       " 15598: 0.9995331465919701,\n",
       " 16021: 0.999537037037037,\n",
       " 18444: 0.9995458673932789,\n",
       " 18691: 0.9995471014492754,\n",
       " 13770: 0.9995473064735174,\n",
       " 12004: 0.9995473064735174,\n",
       " 344: 0.9995491433724075,\n",
       " 19716: 0.9995563442768411,\n",
       " 11509: 0.9995648389904265,\n",
       " 1244: 0.9995670995670995,\n",
       " 11631: 0.9995708154506437,\n",
       " 18469: 0.9995709995709996,\n",
       " 4695: 0.9995721009841677,\n",
       " 11957: 0.9995721009841677,\n",
       " 26536: 0.9995731967562953,\n",
       " 13707: 0.9995735607675906,\n",
       " 104: 0.9995759117896522,\n",
       " 18698: 0.9995766299745978,\n",
       " 18437: 0.9995773457311918,\n",
       " 17333: 0.9995778809624314,\n",
       " 13802: 0.9995803608896349,\n",
       " 14706: 0.9995803608896349,\n",
       " 19737: 0.9995803608896349,\n",
       " 25141: 0.9995805369127517,\n",
       " 10877: 0.9995819397993311,\n",
       " 12002: 0.9995845450768591,\n",
       " 532: 0.9995848899958489,\n",
       " 4820: 0.9995852343425964,\n",
       " 11207: 0.9995852343425964,\n",
       " 18199: 0.9995876288659794,\n",
       " 18857: 0.9995959595959596,\n",
       " 4785: 0.9995959595959596,\n",
       " 15791: 0.9996004794246903,\n",
       " 25086: 0.9996028594122319,\n",
       " 10436: 0.999603489294211,\n",
       " 24294: 0.999603489294211,\n",
       " 15484: 0.9996069182389937,\n",
       " 15449: 0.999609375,\n",
       " 15322: 0.9996131528046421,\n",
       " 20071: 0.9996131528046421,\n",
       " 7759: 0.9996131528046421,\n",
       " 8372: 0.9996131528046421,\n",
       " 10066: 0.9996144949884348,\n",
       " 14897: 0.9996177370030581,\n",
       " 9724: 0.9996184662342618,\n",
       " 4279: 0.9996204933586338,\n",
       " 14191: 0.9996210685865858,\n",
       " 6272: 0.9996216420734014,\n",
       " 2759: 0.9996222138269739,\n",
       " 23944: 0.9996251874062968,\n",
       " 19894: 0.999625468164794,\n",
       " 19239: 0.9996288047512992,\n",
       " 9453: 0.9996305873660879,\n",
       " 20277: 0.9996307237813885,\n",
       " 9454: 0.9996322177271055,\n",
       " 15085: 0.9996341017197219,\n",
       " 26146: 0.9996355685131195,\n",
       " 3813: 0.9996374184191443,\n",
       " 12325: 0.9996375498368975,\n",
       " 6208: 0.9996382054992764,\n",
       " 6771: 0.9996387283236994,\n",
       " 19033: 0.9996395097332372,\n",
       " 20438: 0.9996418338108882,\n",
       " 3676: 0.9996456413890857,\n",
       " 20222: 0.9996477632969355,\n",
       " 7501: 0.9996480112636396,\n",
       " 13597: 0.9996485061511423,\n",
       " 21582: 0.999649982499125,\n",
       " 16125: 0.9996516893068618,\n",
       " 19021: 0.9996527777777777,\n",
       " 12840: 0.9996528982992017,\n",
       " 7215: 0.9996545768566494,\n",
       " 10223: 0.9996549344375432,\n",
       " 4244: 0.9996582365003418,\n",
       " 4007: 0.9996582365003418,\n",
       " 13153: 0.9996584699453552,\n",
       " 15316: 0.9996635262449529,\n",
       " 13798: 0.9996677740863787,\n",
       " 8121: 0.9996685449121644,\n",
       " 15227: 0.9996696399074991,\n",
       " 24605: 0.999669749009247,\n",
       " 10485: 0.9996735226901731,\n",
       " 25207: 0.9996759559300065,\n",
       " 4798: 0.9996766892984158,\n",
       " 21533: 0.9996783531682213,\n",
       " 17946: 0.9996831432192649,\n",
       " 375: 0.9996856334486011,\n",
       " 23909: 0.9996856334486011,\n",
       " 9368: 0.9996856334486011,\n",
       " 23631: 0.9996856334486011,\n",
       " 21101: 0.9996856334486011,\n",
       " 15097: 0.9996856334486011,\n",
       " 22175: 0.9996856334486011,\n",
       " 12219: 0.9996856334486011,\n",
       " 16472: 0.9996856334486011,\n",
       " 26028: 0.9996856334486011,\n",
       " 15386: 0.9996856334486011,\n",
       " 11174: 0.9996856334486011,\n",
       " 13408: 0.9996856334486011,\n",
       " 21364: 0.9996856334486011,\n",
       " 3313: 0.9996856334486011,\n",
       " 24757: 0.9996856334486011,\n",
       " 24110: 0.9996857322438718,\n",
       " 22801: 0.9996857322438718,\n",
       " 26988: 0.9996857322438718,\n",
       " 25883: 0.9996857322438718,\n",
       " 2468: 0.9996857322438718,\n",
       " 10026: 0.9996857322438718,\n",
       " 11091: 0.9996857322438718,\n",
       " 2747: 0.9996857322438718,\n",
       " 128: 0.9996857322438718,\n",
       " 5788: 0.9996857322438718,\n",
       " 10702: 0.9996857322438718,\n",
       " 21004: 0.9996857322438718,\n",
       " 16245: 0.9996857322438718,\n",
       " 24083: 0.9996857322438718,\n",
       " 14415: 0.9996857322438718,\n",
       " 660: 0.9996857322438718,\n",
       " 12712: 0.9996857322438718,\n",
       " 17183: 0.9996857322438718,\n",
       " 14747: 0.9996857322438718,\n",
       " 8250: 0.9996857322438718,\n",
       " 25304: 0.9996857322438718,\n",
       " 8937: 0.9996857322438718,\n",
       " 13260: 0.9996858309770656,\n",
       " 14267: 0.9996931574102486,\n",
       " 479: 0.9996942830938551,\n",
       " 13469: 0.9996949359365467,\n",
       " 15101: 0.9996957712199575,\n",
       " 9111: 0.9996971532404604,\n",
       " 11299: 0.9996980676328503,\n",
       " 10148: 0.9997007779772591,\n",
       " 13779: 0.9997008674842955,\n",
       " 19266: 0.9997045790251108,\n",
       " 15635: 0.9997064866451424,\n",
       " 11847: 0.9997073456248171,\n",
       " 8334: 0.9997074312463429,\n",
       " 15488: 0.9997076878105817,\n",
       " 1297: 0.9997123130034522,\n",
       " 2954: 0.9997136311569301,\n",
       " 18025: 0.999715343011671,\n",
       " 16082: 0.9997155049786629,\n",
       " 19177: 0.9997156667614444,\n",
       " 18662: 0.999718785151856,\n",
       " 12483: 0.9997194163860831,\n",
       " 13630: 0.9997194163860831,\n",
       " 8359: 0.9997194163860831,\n",
       " 13088: 0.9997194163860831,\n",
       " 13218: 0.9997209042701647,\n",
       " 12678: 0.9997212155004181,\n",
       " 6504: 0.999721293199554,\n",
       " 10120: 0.999721293199554,\n",
       " 2309: 0.999721293199554,\n",
       " 7814: 0.999721293199554,\n",
       " 19965: 0.999721293199554,\n",
       " 11494: 0.999721293199554,\n",
       " 13035: 0.999721293199554,\n",
       " 18597: 0.999721293199554,\n",
       " 9189: 0.999721293199554,\n",
       " 16438: 0.999721293199554,\n",
       " 293: 0.999721293199554,\n",
       " 20098: 0.999721293199554,\n",
       " 18428: 0.999721293199554,\n",
       " 13011: 0.999721293199554,\n",
       " 19587: 0.999721293199554,\n",
       " 8339: 0.999721293199554,\n",
       " 10076: 0.999721293199554,\n",
       " 3674: 0.999721293199554,\n",
       " 9741: 0.999721293199554,\n",
       " 18425: 0.999721293199554,\n",
       " 17151: 0.999721293199554,\n",
       " 3021: 0.999721293199554,\n",
       " 18680: 0.999721293199554,\n",
       " 10039: 0.999721293199554,\n",
       " 18213: 0.999721293199554,\n",
       " 15111: 0.999721293199554,\n",
       " 19178: 0.999721293199554,\n",
       " 1231: 0.999721293199554,\n",
       " 15522: 0.999721293199554,\n",
       " 4626: 0.999721293199554,\n",
       " 2981: 0.999721293199554,\n",
       " 42: 0.999721293199554,\n",
       " 20019: 0.999721293199554,\n",
       " 16303: 0.999721293199554,\n",
       " 776: 0.999721293199554,\n",
       " 9318: 0.999721293199554,\n",
       " 3663: 0.9997213708553915,\n",
       " 14489: 0.9997213708553915,\n",
       " 15350: 0.9997213708553915,\n",
       " 16581: 0.9997213708553915,\n",
       " 18148: 0.9997214484679666,\n",
       " 8064: 0.9997215260373156,\n",
       " 15530: 0.9997215260373156,\n",
       " 859: 0.9997215260373156,\n",
       " 6729: 0.9997215260373156,\n",
       " 11889: 0.9997218358831711,\n",
       " 11734: 0.9997227612974772,\n",
       " 3069: 0.9997230684021047,\n",
       " 18369: 0.9997235277854576,\n",
       " 15367: 0.9997236805747444,\n",
       " 11062: 0.999723909442297,\n",
       " 10143: 0.999723909442297,\n",
       " 18741: 0.9997242900468707,\n",
       " 6558: 0.9997243660418964,\n",
       " 10112: 0.9997257268239166,\n",
       " 20262: 0.9997257268239166,\n",
       " 19256: 0.9997257268239166,\n",
       " 20340: 0.9997257268239166,\n",
       " 11120: 0.9997257268239166,\n",
       " 16999: 0.9997257268239166,\n",
       " 4865: 0.9997257268239166,\n",
       " 19098: 0.9997257268239166,\n",
       " 20399: 0.9997261774370209,\n",
       " 19728: 0.9997272231314784,\n",
       " 19235: 0.9997272975184074,\n",
       " 12005: 0.9997272975184074,\n",
       " 20043: 0.9997274461706187,\n",
       " 15412: 0.9997274461706187,\n",
       " 10069: 0.9997275946608554,\n",
       " 7486: 0.9997275946608554,\n",
       " 13578: 0.9997275946608554,\n",
       " 12860: 0.9997275946608554,\n",
       " 19468: 0.9997275946608554,\n",
       " 18606: 0.9997278170930866,\n",
       " 15491: 0.9997281870073389,\n",
       " 15091: 0.999728555917481,\n",
       " 4854: 0.9997289238275956,\n",
       " 20369: 0.9997308209959623,\n",
       " 20562: 0.9997308209959623,\n",
       " 18454: 0.9997308934337998,\n",
       " 8392: 0.9997309658326607,\n",
       " 6619: 0.9997309658326607,\n",
       " 18947: 0.9997309658326607,\n",
       " 14775: 0.9997311105135789,\n",
       " 11130: 0.9997311105135789,\n",
       " 11969: 0.9997311105135789,\n",
       " 19666: 0.9997313272434175,\n",
       " 18346: 0.9997315436241611,\n",
       " 6601: 0.9997318315902387,\n",
       " 5187: 0.9997321906802357,\n",
       " 10839: 0.9997322623828648,\n",
       " 8420: 0.9997324056729997,\n",
       " 20436: 0.9997328346246327,\n",
       " 5624: 0.9997332622032542,\n",
       " 22200: 0.9997344662772172,\n",
       " 18884: 0.9997345367666578,\n",
       " 10181: 0.9997353797300873,\n",
       " 20368: 0.999735519703782,\n",
       " 11605: 0.9997358689910195,\n",
       " 9729: 0.9997359387377872,\n",
       " 16371: 0.9997360084477297,\n",
       " 777: 0.9997369805365597,\n",
       " 8157: 0.9997369805365597,\n",
       " 19955: 0.9997372569626904,\n",
       " 15190: 0.999737739312877,\n",
       " 2728: 0.9997380141472361,\n",
       " 2328: 0.999738082765846,\n",
       " 13506: 0.999738082765846,\n",
       " 1204: 0.9997381513485205,\n",
       " 9435: 0.999738219895288,\n",
       " 19348: 0.999738219895288,\n",
       " 675: 0.9997386987196237,\n",
       " 19367: 0.9997406639004149,\n",
       " 9221: 0.9997411338338079,\n",
       " 14572: 0.9997413347128815,\n",
       " 19306: 0.999742864489586,\n",
       " 16223: 0.999743128692525,\n",
       " 17402: 0.9997451580020388,\n",
       " 10551: 0.999746063991874,\n",
       " 18174: 0.9997483643683945,\n",
       " 11746: 0.9997528423133959,\n",
       " 8295: 0.9997529033852236,\n",
       " 12743: 0.9997534516765286,\n",
       " 10946: 0.9997534516765286,\n",
       " 4968: 0.9997534516765286,\n",
       " 8173: 0.9997534516765286,\n",
       " 13796: 0.9997534516765286,\n",
       " 5911: 0.9997534516765286,\n",
       " 7348: 0.9997534516765286,\n",
       " 6612: 0.9997534516765286,\n",
       " 11689: 0.9997534516765286,\n",
       " 17234: 0.9997534516765286,\n",
       " 4632: 0.9997534516765286,\n",
       " 20561: 0.9997534516765286,\n",
       " 20450: 0.9997534516765286,\n",
       " 3760: 0.9997534516765286,\n",
       " 19037: 0.9997534516765286,\n",
       " 10088: 0.9997534516765286,\n",
       " 17146: 0.9997534516765286,\n",
       " 4758: 0.9997534516765286,\n",
       " 4041: 0.9997534516765286,\n",
       " 17386: 0.9997534516765286,\n",
       " 20570: 0.9997534516765286,\n",
       " 18172: 0.9997534516765286,\n",
       " 16155: 0.9997534516765286,\n",
       " 10152: 0.9997534516765286,\n",
       " 11987: 0.9997534516765286,\n",
       " 20456: 0.9997534516765286,\n",
       " 15371: 0.9997534516765286,\n",
       " 17356: 0.9997534516765286,\n",
       " 20578: 0.9997534516765286,\n",
       " 12719: 0.9997534516765286,\n",
       " 10126: 0.9997534516765286,\n",
       " 20187: 0.9997534516765286,\n",
       " 18484: 0.9997534516765286,\n",
       " 11954: 0.9997534516765286,\n",
       " 19481: 0.9997534516765286,\n",
       " 18926: 0.9997534516765286,\n",
       " 2342: 0.9997534516765286,\n",
       " 18940: 0.9997534516765286,\n",
       " 11986: 0.9997534516765286,\n",
       " 13639: 0.9997534516765286,\n",
       " 18786: 0.9997534516765286,\n",
       " 18077: 0.9997534516765286,\n",
       " 19782: 0.9997534516765286,\n",
       " 9105: 0.9997534516765286,\n",
       " 10180: 0.9997534516765286,\n",
       " 1251: 0.9997534516765286,\n",
       " 6189: 0.9997534516765286,\n",
       " 2451: 0.9997534516765286,\n",
       " 7426: 0.9997534516765286,\n",
       " 19703: 0.9997534516765286,\n",
       " 10745: 0.9997534516765286,\n",
       " 14366: 0.9997534516765286,\n",
       " 18272: 0.9997534516765286,\n",
       " 2952: 0.9997534516765286,\n",
       " 19300: 0.9997534516765286,\n",
       " 18631: 0.9997534516765286,\n",
       " 1218: 0.9997534516765286,\n",
       " 2772: 0.9997534516765286,\n",
       " 11306: 0.9997534516765286,\n",
       " 11642: 0.9997534516765286,\n",
       " 18210: 0.9997534516765286,\n",
       " 4302: 0.9997537552327013,\n",
       " 6247: 0.999754962019113,\n",
       " 20248: 0.9997551420176298,\n",
       " 20291: 0.9997553217518963,\n",
       " 19605: 0.9997556804300024,\n",
       " 15423: 0.9997557997557998,\n",
       " 20373: 0.9997557997557998,\n",
       " 14804: 0.9997557997557998,\n",
       " 18568: 0.9997557997557998,\n",
       " 16406: 0.9997557997557998,\n",
       " 5795: 0.9997557997557998,\n",
       " 19754: 0.9997557997557998,\n",
       " 1152: 0.9997557997557998,\n",
       " 4790: 0.9997557997557998,\n",
       " 18313: 0.9997557997557998,\n",
       " 11937: 0.9997557997557998,\n",
       " 19714: 0.9997557997557998,\n",
       " 17886: 0.9997557997557998,\n",
       " 11455: 0.9997557997557998,\n",
       " 14702: 0.9997557997557998,\n",
       " 16711: 0.9997557997557998,\n",
       " 19959: 0.9997557997557998,\n",
       " 10099: 0.9997557997557998,\n",
       " 18877: 0.9997557997557998,\n",
       " 4884: 0.9997557997557998,\n",
       " 18696: 0.9997557997557998,\n",
       " 17429: 0.9997557997557998,\n",
       " 15441: 0.9997557997557998,\n",
       " 3056: 0.9997557997557998,\n",
       " 4005: 0.9997566909975669,\n",
       " 13668: 0.9997581035316885,\n",
       " 18526: 0.9997587454764777,\n",
       " 15990: 0.9997588618278274,\n",
       " 18523: 0.9997595575859581,\n",
       " 20477: 0.9997602493406856,\n",
       " 11177: 0.9997615072740281,\n",
       " 15105: 0.9997625267157445,\n",
       " 9649: 0.9997629770087698,\n",
       " 4919: 0.9997633136094675,\n",
       " 13425: 0.9997633136094675,\n",
       " 492: 0.9997633696166588,\n",
       " 8331: 0.9997634255973503,\n",
       " 20387: 0.9997634255973503,\n",
       " 19160: 0.9997634255973503,\n",
       " 10881: 0.9997634255973503,\n",
       " 18534: 0.999763481551561,\n",
       " 18720: 0.999763481551561,\n",
       " 20253: 0.999763481551561,\n",
       " 1125: 0.9997643732327992,\n",
       " 12055: 0.9997653683716565,\n",
       " 26305: 0.9997656433091164,\n",
       " 19545: 0.9997660818713451,\n",
       " 6616: 0.9997665732959851,\n",
       " 3934: 0.9997673877645964,\n",
       " 27182: 0.9997688929974579,\n",
       " 4178: 0.9997689463955638,\n",
       " 4232: 0.9997689463955638,\n",
       " 15585: 0.9997709573980761,\n",
       " 14762: 0.9997709573980761,\n",
       " 18581: 0.9997720018239854,\n",
       " 16491: 0.9997721576668945,\n",
       " 19302: 0.9997739091114628,\n",
       " 398: 0.9997742663656884,\n",
       " 2130: 0.9997744191292578,\n",
       " 15189: 0.9997744700045106,\n",
       " 11988: 0.9997746224926752,\n",
       " 19296: 0.9997746224926752,\n",
       " 3071: 0.9997746732762506,\n",
       " 17311: 0.9997748254897546,\n",
       " 10134: 0.9997753818508536,\n",
       " 16147: 0.9997753818508536,\n",
       " 11: 0.9997753818508536,\n",
       " 3126: 0.9997753818508536,\n",
       " 9119: 0.9997753818508536,\n",
       " 10194: 0.9997758852532497,\n",
       " 10973: 0.9997758852532497,\n",
       " 5506: 0.9997759856630825,\n",
       " 15453: 0.9997759856630825,\n",
       " 17299: 0.9997761361092455,\n",
       " 1229: 0.999776236294473,\n",
       " 2580: 0.9997762863534676,\n",
       " 19560: 0.9997773324426631,\n",
       " 648: 0.9997781721384206,\n",
       " 19018: 0.9997784669915818,\n",
       " 12044: 0.9997797841885048,\n",
       " 19231: 0.9997799295774648,\n",
       " 8421: 0.9997807978956598,\n",
       " 6574: 0.9997814207650273,\n",
       " 15487: 0.9997817070508622,\n",
       " 4861: 0.999782182531039,\n",
       " 16323: 0.9997830802603037,\n",
       " 6622: 0.9997832683138275,\n",
       " 20204: 0.9997848074026253,\n",
       " 8961: 0.9997849462365591,\n",
       " 18994: 0.9997855457859747,\n",
       " 9405: 0.9997859130807107,\n",
       " 10157: 0.9997859130807107,\n",
       " 9796: 0.999786370433668,\n",
       " 10812: 0.9997864160615122,\n",
       " 1246: 0.9997865072587532,\n",
       " 18956: 0.9997897834769813,\n",
       " 5809: 0.9997901804448175,\n",
       " 16861: 0.9997906197654941,\n",
       " 9072: 0.9997906197654941,\n",
       " 2526: 0.9997906197654941,\n",
       " 18031: 0.9997906197654941,\n",
       " 16158: 0.9997908824759515,\n",
       " 8478: 0.999791492910759,\n",
       " 18712: 0.999791492910759,\n",
       " 9922: 0.9997917100604041,\n",
       " 10225: 0.9997919267582189,\n",
       " 26085: 0.999793559042114,\n",
       " 19969: 0.9997937719117344,\n",
       " 20558: 0.9997937719117344,\n",
       " 10133: 0.9997938144329896,\n",
       " 18903: 0.9997939843428101,\n",
       " 19474: 0.9997941115915174,\n",
       " 13080: 0.9997941539728283,\n",
       " 18101: 0.9997954173486089,\n",
       " 3685: 0.9997964169381107,\n",
       " 4810: 0.9997964583757378,\n",
       " 17250: 0.9997964583757378,\n",
       " 19581: 0.9997964583757378,\n",
       " 4667: 0.9997966239576977,\n",
       " 4322: 0.9997969130787977,\n",
       " 5887: 0.9997969543147208,\n",
       " 6048: 0.9997970367363507,\n",
       " 13521: 0.9997974888618874,\n",
       " 3097: 0.9997975708502024,\n",
       " 10153: 0.9997978981406629,\n",
       " 17334: 0.9997983057684551,\n",
       " 18771: 0.9997988736926791,\n",
       " 6149: 0.9997989949748743,\n",
       " 18039: 0.9997989949748743,\n",
       " 8480: 0.9997989949748743,\n",
       " 17217: 0.9997989949748743,\n",
       " 6132: 0.9997990353697749,\n",
       " 12792: 0.9997992773986351,\n",
       " 18577: 0.9997992773986351,\n",
       " 1160: 0.9997994786444756,\n",
       " 13710: 0.9997994786444756,\n",
       " 7714: 0.9998000799680128,\n",
       " 18133: 0.9998006776958341,\n",
       " 11205: 0.9998011137629276,\n",
       " 13032: 0.9998018624925699,\n",
       " 641: 0.9998036135113905,\n",
       " 19994: 0.9998038446449589,\n",
       " 18475: 0.9998038446449589,\n",
       " 19413: 0.9998041136141038,\n",
       " 3875: 0.999804228660924,\n",
       " 12652: 0.9998045729919874,\n",
       " 15559: 0.9998046111762408,\n",
       " 20352: 0.9998052959501558,\n",
       " 19025: 0.9998060135790494,\n",
       " 10880: 0.9998060135790494,\n",
       " 19461: 0.9998070243149363,\n",
       " 20018: 0.9998076553183305,\n",
       " 20423: 0.9998099220680479,\n",
       " 18090: 0.9998099220680479,\n",
       " 7672: 0.999809958190802,\n",
       " 19406: 0.999809958190802,\n",
       " 20102: 0.9998101746393319,\n",
       " 9647: 0.9998102106661606,\n",
       " 8311: 0.9998109283418416,\n",
       " 4879: 0.9998109640831758,\n",
       " 10: 0.9998111425873466,\n",
       " 7718: 0.9998115696250236,\n",
       " 19837: 0.9998115696250236,\n",
       " 4964: 0.9998117824204781,\n",
       " 17238: 0.9998121007140173,\n",
       " 18488: 0.9998124531132783,\n",
       " 121: 0.999813153961136,\n",
       " 15437: 0.9998133283554228,\n",
       " 13711: 0.9998139188686267,\n",
       " 3481: 0.999814367922777,\n",
       " 13818: 0.9998154981549815,\n",
       " 6588: 0.9998158040154724,\n",
       " 10101: 0.9998158379373849,\n",
       " 3106: 0.9998165474224913,\n",
       " 18390: 0.9998168162667155,\n",
       " 14754: 0.9998171177761521,\n",
       " 19800: 0.9998179169701383,\n",
       " 19979: 0.9998182148700236,\n",
       " 15626: 0.9998194945848375,\n",
       " 14477: 0.999819787349072,\n",
       " 18920: 0.9998203377650018,\n",
       " 18215: 0.9998205312275664,\n",
       " 16973: 0.9998207242739333,\n",
       " 9108: 0.9998216833095578,\n",
       " 5454: 0.999822695035461,\n",
       " 11771: 0.9998228206945429,\n",
       " 19124: 0.9998234463276836,\n",
       " 25087: 0.9998249606161387,\n",
       " 11044: 0.999825327510917,\n",
       " 20545: 0.999825814318063,\n",
       " 12680: 0.999825814318063,\n",
       " 15429: 0.9998259658893143,\n",
       " 4803: 0.9998268098372013,\n",
       " 9773: 0.9998268398268398,\n",
       " 508: 0.99982716902869,\n",
       " 20088: 0.9998272287491361,\n",
       " 4898: 0.9998275862068966,\n",
       " 17200: 0.9998279717873731,\n",
       " 11385: 0.9998294097577619,\n",
       " 11088: 0.9998302783435167,\n",
       " 600: 0.9998302783435167,\n",
       " 11941: 0.9998311096098632,\n",
       " 10994: 0.9998316498316498,\n",
       " 2674: 0.9998319327731092,\n",
       " 17986: 0.9998319892473119,\n",
       " 16378: 0.9998319892473119,\n",
       " 4737: 0.9998322147651006,\n",
       " 7535: 0.999832327297116,\n",
       " 1283: 0.9998328318288198,\n",
       " 19273: 0.9998329714381159,\n",
       " 3073: 0.999833582958895,\n",
       " 7666: 0.9998338870431893,\n",
       " 3038: 0.9998339973439575,\n",
       " 4781: 0.9998346287415247,\n",
       " 4965: 0.9998348472336912,\n",
       " 18312: 0.9998351467194198,\n",
       " 14863: 0.9998351467194198,\n",
       " 13842: 0.9998360118071499,\n",
       " 27448: 0.9998361461576274,\n",
       " 483: 0.9998364677023712,\n",
       " 11870: 0.9998366013071895,\n",
       " 10156: 0.9998366546880104,\n",
       " 20346: 0.9998369210697978,\n",
       " 16574: 0.9998369742419302,\n",
       " 19288: 0.9998374512353706,\n",
       " 13767: 0.9998376623376624,\n",
       " 18115: 0.9998379779650033,\n",
       " 2870: 0.9998380304502753,\n",
       " 19349: 0.9998381091144568,\n",
       " 4193: 0.9998383185125304,\n",
       " 8182: 0.9998391507157793,\n",
       " 16381: 0.9998393832316094,\n",
       " 19898: 0.9998393832316094,\n",
       " 8429: 0.9998397435897436,\n",
       " 20319: 0.9998401023345059,\n",
       " 2540: 0.9998402045381911,\n",
       " 12049: 0.9998402811052548,\n",
       " 10051: 0.9998409416255766,\n",
       " 20398: 0.9998410427594977,\n",
       " 13840: 0.9998411185255799,\n",
       " 9445: 0.9998411437648927,\n",
       " 19253: 0.9998413202158045,\n",
       " 6269: 0.9998415716096325,\n",
       " 4088: 0.9998415967052114,\n",
       " 23083: 0.9998421966230078,\n",
       " 19834: 0.9998422464111059,\n",
       " 4099: 0.9998425692695214,\n",
       " 16534: 0.9998426930942268,\n",
       " 12038: 0.999842940160201,\n",
       " 19971: 0.9998429894802952,\n",
       " 1296: 0.9998430387694239,\n",
       " 14542: 0.9998431126451208,\n",
       " 18049: 0.9998431126451208,\n",
       " 20286: 0.9998431126451208,\n",
       " 20582: 0.9998435054773083,\n",
       " 165: 0.9998436278342455,\n",
       " 19279: 0.9998436767234641,\n",
       " 1897: 0.999843847595253,\n",
       " 19861: 0.9998442852693865,\n",
       " 20351: 0.9998443095126888,\n",
       " 3152: 0.9998445031876847,\n",
       " 18233: 0.9998446239900559,\n",
       " 19570: 0.999844840961986,\n",
       " 8233: 0.9998449371995658,\n",
       " 18102: 0.999845009299442,\n",
       " 937: 0.999845009299442,\n",
       " 13739: 0.9998450333178367,\n",
       " 9463: 0.9998454643795395,\n",
       " 7150: 0.999845512127298,\n",
       " 23097: 0.9998456313677061,\n",
       " 17991: 0.9998459642637092,\n",
       " 19753: 0.9998460828074496,\n",
       " 18612: 0.9998461064943059,\n",
       " 27246: 0.9998462720983858,\n",
       " 19648: 0.9998466022396073,\n",
       " 19641: 0.9998471415469276,\n",
       " 18331: 0.9998471649090631,\n",
       " 8383: 0.9998473515493818,\n",
       " 16694: 0.9998473515493818,\n",
       " 18751: 0.9998473515493818,\n",
       " 16265: 0.9998473748473748,\n",
       " 13187: 0.9998474679682733,\n",
       " 19934: 0.9998477929984779,\n",
       " 17253: 0.9998478161619236,\n",
       " 2939: 0.9998478161619236,\n",
       " 19419: 0.9998480935743582,\n",
       " 4805: 0.9998482088646024,\n",
       " 9461: 0.9998484848484849,\n",
       " 20273: 0.9998488512696493,\n",
       " 19332: 0.9998488512696493,\n",
       " 3989: 0.9998488741121354,\n",
       " 14807: 0.9998489882210813,\n",
       " 18228: 0.9998491476844169,\n",
       " 7710: 0.9998492613807658,\n",
       " 20217: 0.9998496692723993,\n",
       " 9986: 0.9998496692723993,\n",
       " 9074: 0.9998496692723993,\n",
       " 19674: 0.9998496692723993,\n",
       " 2990: 0.9998496692723993,\n",
       " 6736: 0.9998496692723993,\n",
       " 20565: 0.999850007499625,\n",
       " 9625: 0.999850276987573,\n",
       " 11472: 0.9998505231689088,\n",
       " 8940: 0.9998505231689088,\n",
       " 5737: 0.9998505455088925,\n",
       " 18245: 0.9998505455088925,\n",
       " 11899: 0.9998506794086904,\n",
       " 13114: 0.999850723988655,\n",
       " 18517: 0.999850723988655,\n",
       " 8500: 0.9998512790005949,\n",
       " 8296: 0.9998513895080993,\n",
       " 19292: 0.9998515439429929,\n",
       " 20240: 0.9998520491196923,\n",
       " 2761: 0.9998520491196923,\n",
       " 11031: 0.9998520710059171,\n",
       " 8345: 0.9998521366257578,\n",
       " 6625: 0.9998523113277211,\n",
       " 7549: 0.9998523331364442,\n",
       " 5580: 0.9998525073746313,\n",
       " 3095: 0.9998526812021213,\n",
       " 14490: 0.9998534154206977,\n",
       " 11180: 0.9998537156231715,\n",
       " 4661: 0.9998542698921598,\n",
       " 11408: 0.9998543972044264,\n",
       " 6693: 0.9998545454545454,\n",
       " 16100: 0.9998545454545454,\n",
       " 11434: 0.9998552193426958,\n",
       " 21638: 0.9998553031399219,\n",
       " 10779: 0.9998558662438743,\n",
       " 17903: 0.9998559907834101,\n",
       " 18530: 0.9998561565017261,\n",
       " 7796: 0.9998561565017261,\n",
       " 17291: 0.9998562805403852,\n",
       " 4350: 0.9998566924620235,\n",
       " 6694: 0.9998567335243553,\n",
       " 4809: 0.9998568565702834,\n",
       " 2562: 0.999857163262391,\n",
       " 11458: 0.999857305936073,\n",
       " 3037: 0.9998576512455516,\n",
       " 15078: 0.9998579545454546,\n",
       " 20528: 0.9998580352072686,\n",
       " 24431: 0.9998583770004249,\n",
       " 2969: 0.9998586772187676,\n",
       " 19447: 0.9998587969500141,\n",
       " 251: 0.9998588766581993,\n",
       " 11865: 0.9998589363803075,\n",
       " 13310: 0.9998591747641177,\n",
       " 14331: 0.9998597278720718,\n",
       " 17881: 0.9998598458304134,\n",
       " 19011: 0.9998601594182632,\n",
       " 2827: 0.9998604910714286,\n",
       " 860: 0.9998604910714286,\n",
       " 4903: 0.9998605105314549,\n",
       " 11040: 0.9998609759488392,\n",
       " 20961: 0.9998612267554815,\n",
       " 7370: 0.9998612845054793,\n",
       " 22670: 0.9998613229787824,\n",
       " 18167: 0.9998613998613999,\n",
       " 16571: 0.9998619737750173,\n",
       " 22462: 0.9998620309050773,\n",
       " 6496: 0.9998626373626374,\n",
       " 20614: 0.9998627693152189,\n",
       " 14924: 0.9998630324613067,\n",
       " 4883: 0.9998630887185104,\n",
       " 13459: 0.9998635929613968,\n",
       " 13864: 0.9998640935036694,\n",
       " 10613: 0.9998642226748133,\n",
       " 26868: 0.9998642226748133,\n",
       " 8722: 0.9998642226748133,\n",
       " 24760: 0.9998642226748133,\n",
       " 5251: 0.9998642226748133,\n",
       " 22707: 0.9998642226748133,\n",
       " 24196: 0.9998642226748133,\n",
       " 9473: 0.9998642226748133,\n",
       " 26151: 0.9998642226748133,\n",
       " 7163: 0.9998642226748133,\n",
       " 8595: 0.9998642226748133,\n",
       " 5409: 0.9998642226748133,\n",
       " 357: 0.9998642226748133,\n",
       " 2597: 0.9998642226748133,\n",
       " 9474: 0.9998642226748133,\n",
       " 27103: 0.9998642226748133,\n",
       " 16481: 0.9998642226748133,\n",
       " 1995: 0.9998642226748133,\n",
       " 21231: 0.9998642226748133,\n",
       " 27706: 0.9998642226748133,\n",
       " 25744: 0.9998642226748133,\n",
       " 17043: 0.9998642226748133,\n",
       " 10781: 0.9998642226748133,\n",
       " 4568: 0.9998642226748133,\n",
       " 25486: 0.9998642226748133,\n",
       " 10740: 0.9998642226748133,\n",
       " 5549: 0.9998642226748133,\n",
       " 9943: 0.9998642226748133,\n",
       " 15277: 0.9998642226748133,\n",
       " 25107: 0.9998642226748133,\n",
       " 26860: 0.9998642226748133,\n",
       " 5769: 0.9998642226748133,\n",
       " 1775: 0.9998642226748133,\n",
       " 24015: 0.9998642226748133,\n",
       " 12171: 0.9998642226748133,\n",
       " 5653: 0.9998642226748133,\n",
       " 9069: 0.9998642226748133,\n",
       " 889: 0.9998642226748133,\n",
       " 1591: 0.9998642226748133,\n",
       " 6846: 0.9998642226748133,\n",
       " 27112: 0.9998642226748133,\n",
       " 7832: 0.9998651745988945,\n",
       " 8642: 0.9998651745988945,\n",
       " 6550: 0.9998651745988945,\n",
       " 16901: 0.9998651745988945,\n",
       " 21782: 0.9998651745988945,\n",
       " 5168: 0.9998651745988945,\n",
       " 21315: 0.9998651745988945,\n",
       " 24622: 0.9998656455730216,\n",
       " 14273: 0.9998656455730216,\n",
       " 10440: 0.9998656455730216,\n",
       " 24832: 0.9998656455730216,\n",
       " 6334: 0.9998656455730216,\n",
       " 6900: 0.9998656455730216,\n",
       " 31: 0.9998656455730216,\n",
       " 22276: 0.9998656455730216,\n",
       " 1568: 0.9998656455730216,\n",
       " 21362: 0.9998656455730216,\n",
       " 23066: 0.9998656455730216,\n",
       " 12340: 0.9998656455730216,\n",
       " 23278: 0.9998656455730216,\n",
       " 11665: 0.9998656455730216,\n",
       " 7099: 0.9998656455730216,\n",
       " 6999: 0.9998656455730216,\n",
       " 26157: 0.9998656455730216,\n",
       " 24867: 0.9998656455730216,\n",
       " 12699: 0.9998656455730216,\n",
       " 14155: 0.9998656455730216,\n",
       " 21432: 0.9998656455730216,\n",
       " 2287: 0.9998656455730216,\n",
       " 602: 0.9998656455730216,\n",
       " 24050: 0.9998656455730216,\n",
       " 3959: 0.9998656455730216,\n",
       " 12175: 0.9998656455730216,\n",
       " 933: 0.9998656455730216,\n",
       " 24607: 0.9998656455730216,\n",
       " 14152: 0.9998656455730216,\n",
       " 7631: 0.9998656455730216,\n",
       " 3388: 0.9998656455730216,\n",
       " 3360: 0.9998656455730216,\n",
       " 26482: 0.9998656455730216,\n",
       " 3517: 0.9998656455730216,\n",
       " 12305: 0.9998656455730216,\n",
       " 5220: 0.9998656455730216,\n",
       " 7255: 0.9998656455730216,\n",
       " 10603: 0.9998656455730216,\n",
       " 1494: 0.9998656455730216,\n",
       " 13557: 0.9998656455730216,\n",
       " 27171: 0.9998656455730216,\n",
       " 23638: 0.9998656455730216,\n",
       " 22326: 0.9998656455730216,\n",
       " 22931: 0.9998656455730216,\n",
       " 16681: 0.9998656455730216,\n",
       " 12414: 0.9998656455730216,\n",
       " 697: 0.9998656455730216,\n",
       " 25478: 0.9998656455730216,\n",
       " 6347: 0.9998656455730216,\n",
       " 15880: 0.9998656455730216,\n",
       " 8709: 0.9998656455730216,\n",
       " 27197: 0.9998656455730216,\n",
       " 12150: 0.9998656455730216,\n",
       " 4635: 0.9998656455730216,\n",
       " 5312: 0.9998656455730216,\n",
       " 13882: 0.9998656455730216,\n",
       " 10456: 0.9998656455730216,\n",
       " 1481: 0.9998656455730216,\n",
       " 2401: 0.9998656455730216,\n",
       " 17136: 0.9998656455730216,\n",
       " 22816: 0.9998656455730216,\n",
       " 8926: 0.9998656455730216,\n",
       " 6984: 0.9998657177386867,\n",
       " 24352: 0.9998657177386867,\n",
       " 24477: 0.9998657177386867,\n",
       " 8244: 0.9998657177386867,\n",
       " 11156: 0.9998657177386867,\n",
       " 27296: 0.9998657177386867,\n",
       " 12098: 0.9998657177386867,\n",
       " 27158: 0.9998657177386867,\n",
       " 6431: 0.9998657177386867,\n",
       " 12245: 0.9998657177386867,\n",
       " 21874: 0.9998657177386867,\n",
       " 26036: 0.9998657177386867,\n",
       " 10336: 0.9998657177386867,\n",
       " 24476: 0.9998657177386867,\n",
       " 22126: 0.9998657177386867,\n",
       " 2680: 0.9998657177386867,\n",
       " 27486: 0.9998657177386867,\n",
       " ...}"
      ]
     },
     "execution_count": 514,
     "metadata": {},
     "output_type": "execute_result"
    }
   ],
   "source": [
    "# what can you do with that? nothing? \n",
    "dict(sorted(possible_dist.items(), key=lambda x: x[1]))"
   ]
  },
  {
   "cell_type": "code",
   "execution_count": 517,
   "id": "infinite-presence",
   "metadata": {},
   "outputs": [
    {
     "data": {
      "text/plain": [
       "(83, 2)"
      ]
     },
     "execution_count": 517,
     "metadata": {},
     "output_type": "execute_result"
    }
   ],
   "source": [
    "mw[mw['apk']==26082].shape"
   ]
  },
  {
   "cell_type": "code",
   "execution_count": null,
   "id": "mexican-thumbnail",
   "metadata": {},
   "outputs": [],
   "source": [
    "# also possible fix:\n",
    "## include epsilon in merging, discard anchors that are further away? \n"
   ]
  }
 ],
 "metadata": {
  "kernelspec": {
   "display_name": "Python 3",
   "language": "python",
   "name": "python3"
  },
  "language_info": {
   "codemirror_mode": {
    "name": "ipython",
    "version": 3
   },
   "file_extension": ".py",
   "mimetype": "text/x-python",
   "name": "python",
   "nbconvert_exporter": "python",
   "pygments_lexer": "ipython3",
   "version": "3.8.6"
  }
 },
 "nbformat": 4,
 "nbformat_minor": 5
}
