{
 "cells": [
  {
   "cell_type": "code",
   "execution_count": 1,
   "id": "lasting-guide",
   "metadata": {},
   "outputs": [],
   "source": [
    "import pandas as pd\n",
    "import numpy as np\n",
    "#import graphlab as tc\n",
    "import turicreate as tc\n",
    "from tqdm.notebook import tqdm\n",
    "import turicreate.aggregate as agg\n",
    "from sklearn.model_selection import train_test_split\n",
    "from numpy.random import default_rng\n",
    "\n",
    "from sklearn.metrics import precision_recall_curve, roc_curve, roc_auc_score, auc\n",
    "import pickle\n",
    "import matplotlib.pyplot as plt"
   ]
  },
  {
   "cell_type": "code",
   "execution_count": 2,
   "id": "adverse-stadium",
   "metadata": {},
   "outputs": [],
   "source": [
    "mw = tc.load_sframe('../binarydata/funcs-encoded')\n",
    "mw = mw.remove_column('fcount', inplace=True)"
   ]
  },
  {
   "cell_type": "code",
   "execution_count": 284,
   "id": "amateur-reception",
   "metadata": {},
   "outputs": [],
   "source": [
    "# alt distance\n",
    "mlong = pd.read_csv('../data/joined.csv', index_col='apn')\n",
    "mlong['nf'] = mlong['nf'].apply(eval)\n",
    "def jaccard(apid1: int, apid2: int, funcs) -> float:\n",
    "    p1 = funcs[apid1]\n",
    "    p2 = funcs[apid2]\n",
    "\n",
    "    return 1 - len(p1 & p2)/len(p1|p2)\n",
    "\n",
    "# good old panda based distance calculation:\n",
    "distance = lambda x,y: jaccard(x, y, mlong['nf'])"
   ]
  },
  {
   "cell_type": "code",
   "execution_count": 77,
   "id": "joined-morris",
   "metadata": {},
   "outputs": [
    {
     "name": "stdout",
     "output_type": "stream",
     "text": [
      "Reading in nets from ../res/streamed_nets.pickle\n"
     ]
    }
   ],
   "source": [
    "net_file_name = '../res/streamed_nets.pickle' #'../res/distances.new2_merged.pickle'\n",
    "print(f\"Reading in nets from {net_file_name}\")\n",
    "with open(net_file_name, 'rb') as f:\n",
    "    allthenet = pickle.load(f)"
   ]
  },
  {
   "cell_type": "code",
   "execution_count": 7,
   "id": "dramatic-orange",
   "metadata": {},
   "outputs": [],
   "source": [
    "def get_outliers(net, gamma):\n",
    "    outl = list()\n",
    "    for an, agg in net.items():\n",
    "        if not agg:\n",
    "            continue\n",
    "        th = [(an, a, distance(a, an)) for a in agg]# if distance(a, an)> gamma]\n",
    "        outl = outl + th\n",
    "    return outl\n"
   ]
  },
  {
   "cell_type": "code",
   "execution_count": 8,
   "id": "trained-lindsay",
   "metadata": {},
   "outputs": [
    {
     "data": {
      "application/vnd.jupyter.widget-view+json": {
       "model_id": "a74b5ea65a3542f5a40b0f18583b88ae",
       "version_major": 2,
       "version_minor": 0
      },
      "text/plain": [
       "  0%|          | 0/19 [00:00<?, ?it/s]"
      ]
     },
     "metadata": {},
     "output_type": "display_data"
    }
   ],
   "source": [
    "res = dict()\n",
    "for gamma, net in tqdm(allthenet.items()):\n",
    "    res[gamma] = get_outliers(net, gamma)"
   ]
  },
  {
   "cell_type": "markdown",
   "id": "raised-walnut",
   "metadata": {},
   "source": [
    "## Check if the network is well-made\n",
    "The aggregated apps should be in the closest anchors"
   ]
  },
  {
   "cell_type": "code",
   "execution_count": 78,
   "id": "earlier-lobby",
   "metadata": {},
   "outputs": [
    {
     "data": {
      "application/vnd.jupyter.widget-view+json": {
       "model_id": "bc263890fb7445269732dda4dc4c6315",
       "version_major": 2,
       "version_minor": 0
      },
      "text/plain": [
       "  0%|          | 0/8467 [00:00<?, ?it/s]"
      ]
     },
     "metadata": {},
     "output_type": "display_data"
    },
    {
     "name": "stdout",
     "output_type": "stream",
     "text": [
      "16393 26000 [(2211, 0.4285714285714286), (21306, 0.4)]\n",
      "16393 18788 [(29, 0.19999999999999996)]\n"
     ]
    },
    {
     "ename": "KeyboardInterrupt",
     "evalue": "",
     "output_type": "error",
     "traceback": [
      "\u001b[0;31m---------------------------------------------------------------------------\u001b[0m",
      "\u001b[0;31mKeyboardInterrupt\u001b[0m                         Traceback (most recent call last)",
      "\u001b[0;32m<ipython-input-78-025f6b3e5ebb>\u001b[0m in \u001b[0;36m<module>\u001b[0;34m\u001b[0m\n\u001b[1;32m      4\u001b[0m \u001b[0;34m\u001b[0m\u001b[0m\n\u001b[1;32m      5\u001b[0m \u001b[0;32mfor\u001b[0m \u001b[0;34m(\u001b[0m\u001b[0man\u001b[0m\u001b[0;34m,\u001b[0m \u001b[0mapk\u001b[0m\u001b[0;34m,\u001b[0m \u001b[0md\u001b[0m\u001b[0;34m)\u001b[0m \u001b[0;32min\u001b[0m \u001b[0mtqdm\u001b[0m\u001b[0;34m(\u001b[0m\u001b[0mdsts\u001b[0m\u001b[0;34m)\u001b[0m\u001b[0;34m:\u001b[0m\u001b[0;34m\u001b[0m\u001b[0;34m\u001b[0m\u001b[0m\n\u001b[0;32m----> 6\u001b[0;31m     \u001b[0mdia\u001b[0m \u001b[0;34m=\u001b[0m \u001b[0;34m[\u001b[0m\u001b[0;34m(\u001b[0m\u001b[0mb\u001b[0m\u001b[0;34m,\u001b[0m \u001b[0mdistance\u001b[0m\u001b[0;34m(\u001b[0m\u001b[0mapk\u001b[0m\u001b[0;34m,\u001b[0m \u001b[0mb\u001b[0m\u001b[0;34m)\u001b[0m\u001b[0;34m)\u001b[0m \u001b[0;32mfor\u001b[0m \u001b[0mb\u001b[0m \u001b[0;32min\u001b[0m \u001b[0manet\u001b[0m\u001b[0;34m.\u001b[0m\u001b[0mkeys\u001b[0m\u001b[0;34m(\u001b[0m\u001b[0;34m)\u001b[0m \u001b[0;32mif\u001b[0m \u001b[0;34m(\u001b[0m\u001b[0mdistance\u001b[0m\u001b[0;34m(\u001b[0m\u001b[0mapk\u001b[0m\u001b[0;34m,\u001b[0m \u001b[0mb\u001b[0m\u001b[0;34m)\u001b[0m\u001b[0;34m<\u001b[0m\u001b[0md\u001b[0m\u001b[0;34m)\u001b[0m \u001b[0;34m&\u001b[0m \u001b[0;34m(\u001b[0m\u001b[0mb\u001b[0m\u001b[0;34m!=\u001b[0m\u001b[0man\u001b[0m\u001b[0;34m)\u001b[0m\u001b[0;34m]\u001b[0m\u001b[0;34m\u001b[0m\u001b[0;34m\u001b[0m\u001b[0m\n\u001b[0m\u001b[1;32m      7\u001b[0m     \u001b[0;32mif\u001b[0m \u001b[0mdia\u001b[0m\u001b[0;34m:\u001b[0m\u001b[0;34m\u001b[0m\u001b[0;34m\u001b[0m\u001b[0m\n\u001b[1;32m      8\u001b[0m         \u001b[0mprint\u001b[0m\u001b[0;34m(\u001b[0m\u001b[0man\u001b[0m\u001b[0;34m,\u001b[0m \u001b[0mapk\u001b[0m\u001b[0;34m,\u001b[0m \u001b[0mdia\u001b[0m\u001b[0;34m)\u001b[0m\u001b[0;34m\u001b[0m\u001b[0;34m\u001b[0m\u001b[0m\n",
      "\u001b[0;32m<ipython-input-78-025f6b3e5ebb>\u001b[0m in \u001b[0;36m<listcomp>\u001b[0;34m(.0)\u001b[0m\n\u001b[1;32m      4\u001b[0m \u001b[0;34m\u001b[0m\u001b[0m\n\u001b[1;32m      5\u001b[0m \u001b[0;32mfor\u001b[0m \u001b[0;34m(\u001b[0m\u001b[0man\u001b[0m\u001b[0;34m,\u001b[0m \u001b[0mapk\u001b[0m\u001b[0;34m,\u001b[0m \u001b[0md\u001b[0m\u001b[0;34m)\u001b[0m \u001b[0;32min\u001b[0m \u001b[0mtqdm\u001b[0m\u001b[0;34m(\u001b[0m\u001b[0mdsts\u001b[0m\u001b[0;34m)\u001b[0m\u001b[0;34m:\u001b[0m\u001b[0;34m\u001b[0m\u001b[0;34m\u001b[0m\u001b[0m\n\u001b[0;32m----> 6\u001b[0;31m     \u001b[0mdia\u001b[0m \u001b[0;34m=\u001b[0m \u001b[0;34m[\u001b[0m\u001b[0;34m(\u001b[0m\u001b[0mb\u001b[0m\u001b[0;34m,\u001b[0m \u001b[0mdistance\u001b[0m\u001b[0;34m(\u001b[0m\u001b[0mapk\u001b[0m\u001b[0;34m,\u001b[0m \u001b[0mb\u001b[0m\u001b[0;34m)\u001b[0m\u001b[0;34m)\u001b[0m \u001b[0;32mfor\u001b[0m \u001b[0mb\u001b[0m \u001b[0;32min\u001b[0m \u001b[0manet\u001b[0m\u001b[0;34m.\u001b[0m\u001b[0mkeys\u001b[0m\u001b[0;34m(\u001b[0m\u001b[0;34m)\u001b[0m \u001b[0;32mif\u001b[0m \u001b[0;34m(\u001b[0m\u001b[0mdistance\u001b[0m\u001b[0;34m(\u001b[0m\u001b[0mapk\u001b[0m\u001b[0;34m,\u001b[0m \u001b[0mb\u001b[0m\u001b[0;34m)\u001b[0m\u001b[0;34m<\u001b[0m\u001b[0md\u001b[0m\u001b[0;34m)\u001b[0m \u001b[0;34m&\u001b[0m \u001b[0;34m(\u001b[0m\u001b[0mb\u001b[0m\u001b[0;34m!=\u001b[0m\u001b[0man\u001b[0m\u001b[0;34m)\u001b[0m\u001b[0;34m]\u001b[0m\u001b[0;34m\u001b[0m\u001b[0;34m\u001b[0m\u001b[0m\n\u001b[0m\u001b[1;32m      7\u001b[0m     \u001b[0;32mif\u001b[0m \u001b[0mdia\u001b[0m\u001b[0;34m:\u001b[0m\u001b[0;34m\u001b[0m\u001b[0;34m\u001b[0m\u001b[0m\n\u001b[1;32m      8\u001b[0m         \u001b[0mprint\u001b[0m\u001b[0;34m(\u001b[0m\u001b[0man\u001b[0m\u001b[0;34m,\u001b[0m \u001b[0mapk\u001b[0m\u001b[0;34m,\u001b[0m \u001b[0mdia\u001b[0m\u001b[0;34m)\u001b[0m\u001b[0;34m\u001b[0m\u001b[0;34m\u001b[0m\u001b[0m\n",
      "\u001b[0;32m<ipython-input-4-957601428171>\u001b[0m in \u001b[0;36m<lambda>\u001b[0;34m(x, y)\u001b[0m\n\u001b[1;32m      9\u001b[0m \u001b[0;34m\u001b[0m\u001b[0m\n\u001b[1;32m     10\u001b[0m \u001b[0;31m# good old panda based distance calculation:\u001b[0m\u001b[0;34m\u001b[0m\u001b[0;34m\u001b[0m\u001b[0;34m\u001b[0m\u001b[0m\n\u001b[0;32m---> 11\u001b[0;31m \u001b[0mdistance\u001b[0m \u001b[0;34m=\u001b[0m \u001b[0;32mlambda\u001b[0m \u001b[0mx\u001b[0m\u001b[0;34m,\u001b[0m\u001b[0my\u001b[0m\u001b[0;34m:\u001b[0m \u001b[0mjaccard\u001b[0m\u001b[0;34m(\u001b[0m\u001b[0mx\u001b[0m\u001b[0;34m,\u001b[0m \u001b[0my\u001b[0m\u001b[0;34m,\u001b[0m \u001b[0mm\u001b[0m\u001b[0;34m[\u001b[0m\u001b[0;34m'nf'\u001b[0m\u001b[0;34m]\u001b[0m\u001b[0;34m)\u001b[0m\u001b[0;34m\u001b[0m\u001b[0;34m\u001b[0m\u001b[0m\n\u001b[0m",
      "\u001b[0;32m<ipython-input-4-957601428171>\u001b[0m in \u001b[0;36mjaccard\u001b[0;34m(apid1, apid2, funcs)\u001b[0m\n\u001b[1;32m      6\u001b[0m     \u001b[0mp2\u001b[0m \u001b[0;34m=\u001b[0m \u001b[0mfuncs\u001b[0m\u001b[0;34m[\u001b[0m\u001b[0mapid2\u001b[0m\u001b[0;34m]\u001b[0m\u001b[0;34m\u001b[0m\u001b[0;34m\u001b[0m\u001b[0m\n\u001b[1;32m      7\u001b[0m \u001b[0;34m\u001b[0m\u001b[0m\n\u001b[0;32m----> 8\u001b[0;31m     \u001b[0;32mreturn\u001b[0m \u001b[0;36m1\u001b[0m \u001b[0;34m-\u001b[0m \u001b[0mlen\u001b[0m\u001b[0;34m(\u001b[0m\u001b[0mp1\u001b[0m \u001b[0;34m&\u001b[0m \u001b[0mp2\u001b[0m\u001b[0;34m)\u001b[0m\u001b[0;34m/\u001b[0m\u001b[0mlen\u001b[0m\u001b[0;34m(\u001b[0m\u001b[0mp1\u001b[0m\u001b[0;34m|\u001b[0m\u001b[0mp2\u001b[0m\u001b[0;34m)\u001b[0m\u001b[0;34m\u001b[0m\u001b[0;34m\u001b[0m\u001b[0m\n\u001b[0m\u001b[1;32m      9\u001b[0m \u001b[0;34m\u001b[0m\u001b[0m\n\u001b[1;32m     10\u001b[0m \u001b[0;31m# good old panda based distance calculation:\u001b[0m\u001b[0;34m\u001b[0m\u001b[0;34m\u001b[0m\u001b[0;34m\u001b[0m\u001b[0m\n",
      "\u001b[0;31mKeyboardInterrupt\u001b[0m: "
     ]
    }
   ],
   "source": [
    "gamma = 0.5\n",
    "anet = allthenet[gamma]\n",
    "dsts = res[gamma]\n",
    "\n",
    "for (an, apk, d) in tqdm(dsts):\n",
    "    dia = [(b, distance(apk, b)) for b in anet.keys() if (distance(apk, b)<d) & (b!=an)]\n",
    "    if dia:\n",
    "        print(an, apk, dia)"
   ]
  },
  {
   "cell_type": "code",
   "execution_count": 9,
   "id": "emerging-playing",
   "metadata": {},
   "outputs": [],
   "source": [
    "gamma = 0.5\n",
    "anet = allthenet[gamma]"
   ]
  },
  {
   "cell_type": "code",
   "execution_count": 79,
   "id": "neither-gender",
   "metadata": {},
   "outputs": [
    {
     "data": {
      "application/vnd.jupyter.widget-view+json": {
       "model_id": "5d0c372b6c9040c4a057719a6ad2f843",
       "version_major": 2,
       "version_minor": 0
      },
      "text/plain": [
       "  0%|          | 0/536 [00:00<?, ?it/s]"
      ]
     },
     "metadata": {},
     "output_type": "display_data"
    },
    {
     "name": "stdout",
     "output_type": "stream",
     "text": [
      "[(26000, 2211, 16393, 0.4285714285714286, 0.5), (26000, 21306, 16393, 0.4, 0.5)]\n",
      "[(18788, 29, 16393, 0.19999999999999996, 0.5)]\n"
     ]
    },
    {
     "ename": "KeyboardInterrupt",
     "evalue": "",
     "output_type": "error",
     "traceback": [
      "\u001b[0;31m---------------------------------------------------------------------------\u001b[0m",
      "\u001b[0;31mKeyboardInterrupt\u001b[0m                         Traceback (most recent call last)",
      "\u001b[0;32m<ipython-input-79-610c27c995eb>\u001b[0m in \u001b[0;36m<module>\u001b[0;34m\u001b[0m\n\u001b[1;32m      2\u001b[0m     \u001b[0;32mfor\u001b[0m \u001b[0mvi\u001b[0m \u001b[0;32min\u001b[0m \u001b[0mv\u001b[0m\u001b[0;34m:\u001b[0m\u001b[0;34m\u001b[0m\u001b[0;34m\u001b[0m\u001b[0m\n\u001b[1;32m      3\u001b[0m         \u001b[0mcurr_dist\u001b[0m \u001b[0;34m=\u001b[0m \u001b[0mdistance\u001b[0m\u001b[0;34m(\u001b[0m\u001b[0mvi\u001b[0m\u001b[0;34m,\u001b[0m \u001b[0mk\u001b[0m\u001b[0;34m)\u001b[0m\u001b[0;34m\u001b[0m\u001b[0;34m\u001b[0m\u001b[0m\n\u001b[0;32m----> 4\u001b[0;31m         \u001b[0mdistances\u001b[0m \u001b[0;34m=\u001b[0m \u001b[0;34m[\u001b[0m\u001b[0;34m(\u001b[0m\u001b[0mvi\u001b[0m\u001b[0;34m,\u001b[0m \u001b[0mki\u001b[0m\u001b[0;34m,\u001b[0m \u001b[0mk\u001b[0m\u001b[0;34m,\u001b[0m \u001b[0mdistance\u001b[0m\u001b[0;34m(\u001b[0m\u001b[0mvi\u001b[0m\u001b[0;34m,\u001b[0m \u001b[0mki\u001b[0m\u001b[0;34m)\u001b[0m\u001b[0;34m,\u001b[0m \u001b[0mcurr_dist\u001b[0m\u001b[0;34m)\u001b[0m \u001b[0;32mfor\u001b[0m \u001b[0mki\u001b[0m \u001b[0;32min\u001b[0m \u001b[0manet\u001b[0m\u001b[0;34m.\u001b[0m\u001b[0mkeys\u001b[0m\u001b[0;34m(\u001b[0m\u001b[0;34m)\u001b[0m \u001b[0;32mif\u001b[0m \u001b[0mdistance\u001b[0m\u001b[0;34m(\u001b[0m\u001b[0mvi\u001b[0m\u001b[0;34m,\u001b[0m\u001b[0mki\u001b[0m\u001b[0;34m)\u001b[0m\u001b[0;34m<\u001b[0m\u001b[0mcurr_dist\u001b[0m\u001b[0;34m]\u001b[0m\u001b[0;34m\u001b[0m\u001b[0;34m\u001b[0m\u001b[0m\n\u001b[0m\u001b[1;32m      5\u001b[0m         \u001b[0;32mif\u001b[0m \u001b[0mdistances\u001b[0m\u001b[0;34m:\u001b[0m\u001b[0;34m\u001b[0m\u001b[0;34m\u001b[0m\u001b[0m\n\u001b[1;32m      6\u001b[0m             \u001b[0mprint\u001b[0m\u001b[0;34m(\u001b[0m\u001b[0mdistances\u001b[0m\u001b[0;34m)\u001b[0m\u001b[0;34m\u001b[0m\u001b[0;34m\u001b[0m\u001b[0m\n",
      "\u001b[0;32m<ipython-input-79-610c27c995eb>\u001b[0m in \u001b[0;36m<listcomp>\u001b[0;34m(.0)\u001b[0m\n\u001b[1;32m      2\u001b[0m     \u001b[0;32mfor\u001b[0m \u001b[0mvi\u001b[0m \u001b[0;32min\u001b[0m \u001b[0mv\u001b[0m\u001b[0;34m:\u001b[0m\u001b[0;34m\u001b[0m\u001b[0;34m\u001b[0m\u001b[0m\n\u001b[1;32m      3\u001b[0m         \u001b[0mcurr_dist\u001b[0m \u001b[0;34m=\u001b[0m \u001b[0mdistance\u001b[0m\u001b[0;34m(\u001b[0m\u001b[0mvi\u001b[0m\u001b[0;34m,\u001b[0m \u001b[0mk\u001b[0m\u001b[0;34m)\u001b[0m\u001b[0;34m\u001b[0m\u001b[0;34m\u001b[0m\u001b[0m\n\u001b[0;32m----> 4\u001b[0;31m         \u001b[0mdistances\u001b[0m \u001b[0;34m=\u001b[0m \u001b[0;34m[\u001b[0m\u001b[0;34m(\u001b[0m\u001b[0mvi\u001b[0m\u001b[0;34m,\u001b[0m \u001b[0mki\u001b[0m\u001b[0;34m,\u001b[0m \u001b[0mk\u001b[0m\u001b[0;34m,\u001b[0m \u001b[0mdistance\u001b[0m\u001b[0;34m(\u001b[0m\u001b[0mvi\u001b[0m\u001b[0;34m,\u001b[0m \u001b[0mki\u001b[0m\u001b[0;34m)\u001b[0m\u001b[0;34m,\u001b[0m \u001b[0mcurr_dist\u001b[0m\u001b[0;34m)\u001b[0m \u001b[0;32mfor\u001b[0m \u001b[0mki\u001b[0m \u001b[0;32min\u001b[0m \u001b[0manet\u001b[0m\u001b[0;34m.\u001b[0m\u001b[0mkeys\u001b[0m\u001b[0;34m(\u001b[0m\u001b[0;34m)\u001b[0m \u001b[0;32mif\u001b[0m \u001b[0mdistance\u001b[0m\u001b[0;34m(\u001b[0m\u001b[0mvi\u001b[0m\u001b[0;34m,\u001b[0m\u001b[0mki\u001b[0m\u001b[0;34m)\u001b[0m\u001b[0;34m<\u001b[0m\u001b[0mcurr_dist\u001b[0m\u001b[0;34m]\u001b[0m\u001b[0;34m\u001b[0m\u001b[0;34m\u001b[0m\u001b[0m\n\u001b[0m\u001b[1;32m      5\u001b[0m         \u001b[0;32mif\u001b[0m \u001b[0mdistances\u001b[0m\u001b[0;34m:\u001b[0m\u001b[0;34m\u001b[0m\u001b[0;34m\u001b[0m\u001b[0m\n\u001b[1;32m      6\u001b[0m             \u001b[0mprint\u001b[0m\u001b[0;34m(\u001b[0m\u001b[0mdistances\u001b[0m\u001b[0;34m)\u001b[0m\u001b[0;34m\u001b[0m\u001b[0;34m\u001b[0m\u001b[0m\n",
      "\u001b[0;32m<ipython-input-4-957601428171>\u001b[0m in \u001b[0;36m<lambda>\u001b[0;34m(x, y)\u001b[0m\n\u001b[1;32m      9\u001b[0m \u001b[0;34m\u001b[0m\u001b[0m\n\u001b[1;32m     10\u001b[0m \u001b[0;31m# good old panda based distance calculation:\u001b[0m\u001b[0;34m\u001b[0m\u001b[0;34m\u001b[0m\u001b[0;34m\u001b[0m\u001b[0m\n\u001b[0;32m---> 11\u001b[0;31m \u001b[0mdistance\u001b[0m \u001b[0;34m=\u001b[0m \u001b[0;32mlambda\u001b[0m \u001b[0mx\u001b[0m\u001b[0;34m,\u001b[0m\u001b[0my\u001b[0m\u001b[0;34m:\u001b[0m \u001b[0mjaccard\u001b[0m\u001b[0;34m(\u001b[0m\u001b[0mx\u001b[0m\u001b[0;34m,\u001b[0m \u001b[0my\u001b[0m\u001b[0;34m,\u001b[0m \u001b[0mm\u001b[0m\u001b[0;34m[\u001b[0m\u001b[0;34m'nf'\u001b[0m\u001b[0;34m]\u001b[0m\u001b[0;34m)\u001b[0m\u001b[0;34m\u001b[0m\u001b[0;34m\u001b[0m\u001b[0m\n\u001b[0m",
      "\u001b[0;32m<ipython-input-4-957601428171>\u001b[0m in \u001b[0;36mjaccard\u001b[0;34m(apid1, apid2, funcs)\u001b[0m\n\u001b[1;32m      6\u001b[0m     \u001b[0mp2\u001b[0m \u001b[0;34m=\u001b[0m \u001b[0mfuncs\u001b[0m\u001b[0;34m[\u001b[0m\u001b[0mapid2\u001b[0m\u001b[0;34m]\u001b[0m\u001b[0;34m\u001b[0m\u001b[0;34m\u001b[0m\u001b[0m\n\u001b[1;32m      7\u001b[0m \u001b[0;34m\u001b[0m\u001b[0m\n\u001b[0;32m----> 8\u001b[0;31m     \u001b[0;32mreturn\u001b[0m \u001b[0;36m1\u001b[0m \u001b[0;34m-\u001b[0m \u001b[0mlen\u001b[0m\u001b[0;34m(\u001b[0m\u001b[0mp1\u001b[0m \u001b[0;34m&\u001b[0m \u001b[0mp2\u001b[0m\u001b[0;34m)\u001b[0m\u001b[0;34m/\u001b[0m\u001b[0mlen\u001b[0m\u001b[0;34m(\u001b[0m\u001b[0mp1\u001b[0m\u001b[0;34m|\u001b[0m\u001b[0mp2\u001b[0m\u001b[0;34m)\u001b[0m\u001b[0;34m\u001b[0m\u001b[0;34m\u001b[0m\u001b[0m\n\u001b[0m\u001b[1;32m      9\u001b[0m \u001b[0;34m\u001b[0m\u001b[0m\n\u001b[1;32m     10\u001b[0m \u001b[0;31m# good old panda based distance calculation:\u001b[0m\u001b[0;34m\u001b[0m\u001b[0;34m\u001b[0m\u001b[0;34m\u001b[0m\u001b[0m\n",
      "\u001b[0;31mKeyboardInterrupt\u001b[0m: "
     ]
    }
   ],
   "source": [
    "for k, v in tqdm(anet.items()):\n",
    "    for vi in v:\n",
    "        curr_dist = distance(vi, k)\n",
    "        distances = [(vi, ki, distance(vi, ki),k, curr_dist) for ki in anet.keys() if distance(vi,ki)<curr_dist]\n",
    "        if distances:\n",
    "            print(distances)\n",
    "    "
   ]
  },
  {
   "cell_type": "code",
   "execution_count": 11,
   "id": "printable-invite",
   "metadata": {},
   "outputs": [],
   "source": [
    "#[(18788, 29, 16393, 0.19999999999999996, 0.5)]\n",
    "#(vi, ki, k, distance(vi, ki), curr_dist)"
   ]
  },
  {
   "cell_type": "code",
   "execution_count": 15,
   "id": "driving-irrigation",
   "metadata": {},
   "outputs": [
    {
     "data": {
      "text/plain": [
       "(True, True)"
      ]
     },
     "execution_count": 15,
     "metadata": {},
     "output_type": "execute_result"
    }
   ],
   "source": [
    "18788 in anet[16393], 29 in anet"
   ]
  },
  {
   "cell_type": "code",
   "execution_count": 16,
   "id": "formal-bahamas",
   "metadata": {},
   "outputs": [
    {
     "data": {
      "text/plain": [
       "(0.5, 0.19999999999999996)"
      ]
     },
     "execution_count": 16,
     "metadata": {},
     "output_type": "execute_result"
    }
   ],
   "source": [
    "distance(18788, 16393), distance(18788, 29)"
   ]
  },
  {
   "cell_type": "code",
   "execution_count": 22,
   "id": "wooden-catalyst",
   "metadata": {},
   "outputs": [],
   "source": [
    "def tc_based_nn(net, apks, data):\n",
    "    anch = list(net.keys())\n",
    "    anch.extend(apks)\n",
    "    allt = data.filter_by(values=anch, column_name='apk')\n",
    "\n",
    "    m = len(anch)\n",
    "    sim_recom = tc.item_similarity_recommender.create(\n",
    "        allt, \n",
    "        user_id='function', \n",
    "        item_id='apk', \n",
    "        similarity_type='jaccard', \n",
    "        degree_approximation_threshold=15*4096,\n",
    "        only_top_k=m, verbose=False)\n",
    "    \n",
    "    # smaller k could be an optimization here\n",
    "    items =sim_recom.get_similar_items(apks, k=m)\n",
    "    # recomendations excluding similarity between apks\n",
    "    fitems = items.filter_by(values=apks, column_name='similar', exclude=True)\n",
    "    fitems['distance'] = 1.0 - fitems['score']\n",
    "    \n",
    "    return fitems #fitems.groupby(key_column_names=['apk'], operations={'nn': tc.aggregate.ARGMAX('score', 'similar')})\n",
    "\n",
    "\n"
   ]
  },
  {
   "cell_type": "code",
   "execution_count": 60,
   "id": "outside-allah",
   "metadata": {},
   "outputs": [
    {
     "name": "stdout",
     "output_type": "stream",
     "text": [
      "8467\n"
     ]
    }
   ],
   "source": [
    "vals = list()\n",
    "for k,v in anet.items():\n",
    "    vals = vals + v\n",
    "    \n",
    "print(len(vals))"
   ]
  },
  {
   "cell_type": "code",
   "execution_count": 61,
   "id": "simple-scientist",
   "metadata": {},
   "outputs": [],
   "source": [
    "r = tc_based_nn(net=anet, apks=vals, data=mw)"
   ]
  },
  {
   "cell_type": "code",
   "execution_count": 62,
   "id": "sexual-principle",
   "metadata": {},
   "outputs": [],
   "source": [
    "gwrr = r.groupby(key_column_names=['apk'], \n",
    "          operations={'nn': tc.aggregate.ARGMIN('distance', 'similar'), \n",
    "                      'distan': tc.aggregate.ARGMIN('distance', 'distance')})\n",
    "#r"
   ]
  },
  {
   "cell_type": "code",
   "execution_count": 63,
   "id": "coupled-resort",
   "metadata": {},
   "outputs": [
    {
     "data": {
      "text/html": [
       "<div style=\"max-height:1000px;max-width:1500px;overflow:auto;\"><table frame=\"box\" rules=\"cols\">\n",
       "    <tr>\n",
       "        <th style=\"padding-left: 1em; padding-right: 1em; text-align: center\">apk</th>\n",
       "        <th style=\"padding-left: 1em; padding-right: 1em; text-align: center\">nn</th>\n",
       "        <th style=\"padding-left: 1em; padding-right: 1em; text-align: center\">distan</th>\n",
       "    </tr>\n",
       "    <tr>\n",
       "        <td style=\"padding-left: 1em; padding-right: 1em; text-align: center; vertical-align: top\">18788</td>\n",
       "        <td style=\"padding-left: 1em; padding-right: 1em; text-align: center; vertical-align: top\">29</td>\n",
       "        <td style=\"padding-left: 1em; padding-right: 1em; text-align: center; vertical-align: top\">0.19999998807907104</td>\n",
       "    </tr>\n",
       "</table>\n",
       "[? rows x 3 columns]<br/>Note: Only the head of the SFrame is printed. This SFrame is lazily evaluated.<br/>You can use sf.materialize() to force materialization.\n",
       "</div>"
      ],
      "text/plain": [
       "Columns:\n",
       "\tapk\tint\n",
       "\tnn\tint\n",
       "\tdistan\tfloat\n",
       "\n",
       "Rows: Unknown\n",
       "\n",
       "Data:\n",
       "+-------+----+---------------------+\n",
       "|  apk  | nn |        distan       |\n",
       "+-------+----+---------------------+\n",
       "| 18788 | 29 | 0.19999998807907104 |\n",
       "+-------+----+---------------------+\n",
       "[? rows x 3 columns]\n",
       "Note: Only the head of the SFrame is printed. This SFrame is lazily evaluated.\n",
       "You can use sf.materialize() to force materialization."
      ]
     },
     "execution_count": 63,
     "metadata": {},
     "output_type": "execute_result"
    }
   ],
   "source": [
    "gwrr[gwrr['apk']==18788]"
   ]
  },
  {
   "cell_type": "code",
   "execution_count": 64,
   "id": "cooperative-wholesale",
   "metadata": {},
   "outputs": [],
   "source": [
    "gwrrd = r.groupby(key_column_names=['apk'], \n",
    "          operations={'nn': tc.aggregate.ARGMAX('score', 'similar'), \n",
    "                      'sim': tc.aggregate.ARGMAX('score', 'score')})\n"
   ]
  },
  {
   "cell_type": "code",
   "execution_count": 65,
   "id": "executive-lending",
   "metadata": {},
   "outputs": [
    {
     "data": {
      "text/html": [
       "<div style=\"max-height:1000px;max-width:1500px;overflow:auto;\"><table frame=\"box\" rules=\"cols\">\n",
       "    <tr>\n",
       "        <th style=\"padding-left: 1em; padding-right: 1em; text-align: center\">apk</th>\n",
       "        <th style=\"padding-left: 1em; padding-right: 1em; text-align: center\">nn</th>\n",
       "        <th style=\"padding-left: 1em; padding-right: 1em; text-align: center\">sim</th>\n",
       "    </tr>\n",
       "    <tr>\n",
       "        <td style=\"padding-left: 1em; padding-right: 1em; text-align: center; vertical-align: top\">18788</td>\n",
       "        <td style=\"padding-left: 1em; padding-right: 1em; text-align: center; vertical-align: top\">29</td>\n",
       "        <td style=\"padding-left: 1em; padding-right: 1em; text-align: center; vertical-align: top\">0.800000011920929</td>\n",
       "    </tr>\n",
       "</table>\n",
       "[? rows x 3 columns]<br/>Note: Only the head of the SFrame is printed. This SFrame is lazily evaluated.<br/>You can use sf.materialize() to force materialization.\n",
       "</div>"
      ],
      "text/plain": [
       "Columns:\n",
       "\tapk\tint\n",
       "\tnn\tint\n",
       "\tsim\tfloat\n",
       "\n",
       "Rows: Unknown\n",
       "\n",
       "Data:\n",
       "+-------+----+-------------------+\n",
       "|  apk  | nn |        sim        |\n",
       "+-------+----+-------------------+\n",
       "| 18788 | 29 | 0.800000011920929 |\n",
       "+-------+----+-------------------+\n",
       "[? rows x 3 columns]\n",
       "Note: Only the head of the SFrame is printed. This SFrame is lazily evaluated.\n",
       "You can use sf.materialize() to force materialization."
      ]
     },
     "execution_count": 65,
     "metadata": {},
     "output_type": "execute_result"
    }
   ],
   "source": [
    "gwrrd[gwrrd['apk']==18788]"
   ]
  },
  {
   "cell_type": "code",
   "execution_count": 66,
   "id": "diverse-length",
   "metadata": {},
   "outputs": [
    {
     "data": {
      "text/plain": [
       "False"
      ]
     },
     "execution_count": 66,
     "metadata": {},
     "output_type": "execute_result"
    }
   ],
   "source": [
    "18788 in anet[29]"
   ]
  },
  {
   "cell_type": "code",
   "execution_count": 67,
   "id": "confidential-appeal",
   "metadata": {},
   "outputs": [
    {
     "data": {
      "text/html": [
       "<div style=\"max-height:1000px;max-width:1500px;overflow:auto;\"><table frame=\"box\" rules=\"cols\">\n",
       "    <tr>\n",
       "        <th style=\"padding-left: 1em; padding-right: 1em; text-align: center\">nn</th>\n",
       "        <th style=\"padding-left: 1em; padding-right: 1em; text-align: center\">nodes</th>\n",
       "    </tr>\n",
       "    <tr>\n",
       "        <td style=\"padding-left: 1em; padding-right: 1em; text-align: center; vertical-align: top\">8324</td>\n",
       "        <td style=\"padding-left: 1em; padding-right: 1em; text-align: center; vertical-align: top\">[1334, 279, 6575, 10975,<br>12783, 14588, 14925, ...</td>\n",
       "    </tr>\n",
       "    <tr>\n",
       "        <td style=\"padding-left: 1em; padding-right: 1em; text-align: center; vertical-align: top\">15635</td>\n",
       "        <td style=\"padding-left: 1em; padding-right: 1em; text-align: center; vertical-align: top\">[15227, 1249, 25087,<br>14471] ...</td>\n",
       "    </tr>\n",
       "    <tr>\n",
       "        <td style=\"padding-left: 1em; padding-right: 1em; text-align: center; vertical-align: top\">14897</td>\n",
       "        <td style=\"padding-left: 1em; padding-right: 1em; text-align: center; vertical-align: top\">[19737, 11561, 2954,<br>19306, 13836, 18025] ...</td>\n",
       "    </tr>\n",
       "    <tr>\n",
       "        <td style=\"padding-left: 1em; padding-right: 1em; text-align: center; vertical-align: top\">11338</td>\n",
       "        <td style=\"padding-left: 1em; padding-right: 1em; text-align: center; vertical-align: top\">[11509, 6835]</td>\n",
       "    </tr>\n",
       "    <tr>\n",
       "        <td style=\"padding-left: 1em; padding-right: 1em; text-align: center; vertical-align: top\">18638</td>\n",
       "        <td style=\"padding-left: 1em; padding-right: 1em; text-align: center; vertical-align: top\">[18569, 16446, 9867]</td>\n",
       "    </tr>\n",
       "    <tr>\n",
       "        <td style=\"padding-left: 1em; padding-right: 1em; text-align: center; vertical-align: top\">25885</td>\n",
       "        <td style=\"padding-left: 1em; padding-right: 1em; text-align: center; vertical-align: top\">[596, 21196, 9974]</td>\n",
       "    </tr>\n",
       "    <tr>\n",
       "        <td style=\"padding-left: 1em; padding-right: 1em; text-align: center; vertical-align: top\">6314</td>\n",
       "        <td style=\"padding-left: 1em; padding-right: 1em; text-align: center; vertical-align: top\">[26198, 5551, 2363,<br>15910, 26494, 13362, ...</td>\n",
       "    </tr>\n",
       "    <tr>\n",
       "        <td style=\"padding-left: 1em; padding-right: 1em; text-align: center; vertical-align: top\">19581</td>\n",
       "        <td style=\"padding-left: 1em; padding-right: 1em; text-align: center; vertical-align: top\">[18994, 9405, 1078,<br>13316, 18712, 3685, ...</td>\n",
       "    </tr>\n",
       "    <tr>\n",
       "        <td style=\"padding-left: 1em; padding-right: 1em; text-align: center; vertical-align: top\">2211</td>\n",
       "        <td style=\"padding-left: 1em; padding-right: 1em; text-align: center; vertical-align: top\">[24284, 22838, 7304,<br>24787, 5127, 6213, 5319, ...</td>\n",
       "    </tr>\n",
       "    <tr>\n",
       "        <td style=\"padding-left: 1em; padding-right: 1em; text-align: center; vertical-align: top\">25650</td>\n",
       "        <td style=\"padding-left: 1em; padding-right: 1em; text-align: center; vertical-align: top\">[7071, 23743, 25856,<br>25900, 13255, 9151, ...</td>\n",
       "    </tr>\n",
       "</table>\n",
       "[457 rows x 2 columns]<br/>Note: Only the head of the SFrame is printed.<br/>You can use print_rows(num_rows=m, num_columns=n) to print more rows and columns.\n",
       "</div>"
      ],
      "text/plain": [
       "Columns:\n",
       "\tnn\tint\n",
       "\tnodes\tlist\n",
       "\n",
       "Rows: 457\n",
       "\n",
       "Data:\n",
       "+-------+-------------------------------+\n",
       "|   nn  |             nodes             |\n",
       "+-------+-------------------------------+\n",
       "|  8324 | [1334, 279, 6575, 10975, 1... |\n",
       "| 15635 |  [15227, 1249, 25087, 14471]  |\n",
       "| 14897 | [19737, 11561, 2954, 19306... |\n",
       "| 11338 |         [11509, 6835]         |\n",
       "| 18638 |      [18569, 16446, 9867]     |\n",
       "| 25885 |       [596, 21196, 9974]      |\n",
       "|  6314 | [26198, 5551, 2363, 15910,... |\n",
       "| 19581 | [18994, 9405, 1078, 13316,... |\n",
       "|  2211 | [24284, 22838, 7304, 24787... |\n",
       "| 25650 | [7071, 23743, 25856, 25900... |\n",
       "+-------+-------------------------------+\n",
       "[457 rows x 2 columns]\n",
       "Note: Only the head of the SFrame is printed.\n",
       "You can use print_rows(num_rows=m, num_columns=n) to print more rows and columns."
      ]
     },
     "execution_count": 67,
     "metadata": {},
     "output_type": "execute_result"
    }
   ],
   "source": [
    "gwrr.groupby(key_column_names='nn', operations={'nodes': agg.DISTINCT('apk')})\n",
    "#true_dicts = [{row['nn']: row['nodes'] for row in nep} for nep in dicts]"
   ]
  },
  {
   "cell_type": "code",
   "execution_count": 68,
   "id": "selected-chase",
   "metadata": {},
   "outputs": [],
   "source": [
    "mazza = gwrrd.groupby(key_column_names='nn', operations={'nodes': agg.DISTINCT('apk')})"
   ]
  },
  {
   "cell_type": "code",
   "execution_count": 69,
   "id": "affiliated-sodium",
   "metadata": {},
   "outputs": [],
   "source": [
    "nnet = {row['nn']: row['nodes'] for row in mazza}"
   ]
  },
  {
   "cell_type": "code",
   "execution_count": 71,
   "id": "finnish-lobby",
   "metadata": {},
   "outputs": [
    {
     "data": {
      "text/plain": [
       "(457, 536)"
      ]
     },
     "execution_count": 71,
     "metadata": {},
     "output_type": "execute_result"
    }
   ],
   "source": [
    "len(nnet), len(anet)"
   ]
  },
  {
   "cell_type": "code",
   "execution_count": 73,
   "id": "fifteen-apartment",
   "metadata": {},
   "outputs": [
    {
     "data": {
      "text/plain": [
       "(8467, 8467)"
      ]
     },
     "execution_count": 73,
     "metadata": {},
     "output_type": "execute_result"
    }
   ],
   "source": [
    "sum(map(len, anet.values())), sum(map(len, nnet.values()))"
   ]
  },
  {
   "cell_type": "code",
   "execution_count": 74,
   "id": "olympic-vatican",
   "metadata": {},
   "outputs": [
    {
     "data": {
      "application/vnd.jupyter.widget-view+json": {
       "model_id": "bcc733e0d8e149e4b509d54e4c709925",
       "version_major": 2,
       "version_minor": 0
      },
      "text/plain": [
       "  0%|          | 0/457 [00:00<?, ?it/s]"
      ]
     },
     "metadata": {},
     "output_type": "display_data"
    },
    {
     "ename": "KeyboardInterrupt",
     "evalue": "",
     "output_type": "error",
     "traceback": [
      "\u001b[0;31m---------------------------------------------------------------------------\u001b[0m",
      "\u001b[0;31mKeyboardInterrupt\u001b[0m                         Traceback (most recent call last)",
      "\u001b[0;32m<ipython-input-74-157ddd8fd624>\u001b[0m in \u001b[0;36m<module>\u001b[0;34m\u001b[0m\n\u001b[1;32m      2\u001b[0m     \u001b[0;32mfor\u001b[0m \u001b[0mvi\u001b[0m \u001b[0;32min\u001b[0m \u001b[0mv\u001b[0m\u001b[0;34m:\u001b[0m\u001b[0;34m\u001b[0m\u001b[0;34m\u001b[0m\u001b[0m\n\u001b[1;32m      3\u001b[0m         \u001b[0mcurr_dist\u001b[0m \u001b[0;34m=\u001b[0m \u001b[0mdistance\u001b[0m\u001b[0;34m(\u001b[0m\u001b[0mvi\u001b[0m\u001b[0;34m,\u001b[0m \u001b[0mk\u001b[0m\u001b[0;34m)\u001b[0m\u001b[0;34m\u001b[0m\u001b[0;34m\u001b[0m\u001b[0m\n\u001b[0;32m----> 4\u001b[0;31m         \u001b[0mdistances\u001b[0m \u001b[0;34m=\u001b[0m \u001b[0;34m[\u001b[0m\u001b[0;34m(\u001b[0m\u001b[0mvi\u001b[0m\u001b[0;34m,\u001b[0m \u001b[0mki\u001b[0m\u001b[0;34m,\u001b[0m \u001b[0mk\u001b[0m\u001b[0;34m,\u001b[0m \u001b[0mdistance\u001b[0m\u001b[0;34m(\u001b[0m\u001b[0mvi\u001b[0m\u001b[0;34m,\u001b[0m \u001b[0mki\u001b[0m\u001b[0;34m)\u001b[0m\u001b[0;34m,\u001b[0m \u001b[0mcurr_dist\u001b[0m\u001b[0;34m)\u001b[0m \u001b[0;32mfor\u001b[0m \u001b[0mki\u001b[0m \u001b[0;32min\u001b[0m \u001b[0mnnet\u001b[0m\u001b[0;34m.\u001b[0m\u001b[0mkeys\u001b[0m\u001b[0;34m(\u001b[0m\u001b[0;34m)\u001b[0m \u001b[0;32mif\u001b[0m \u001b[0mdistance\u001b[0m\u001b[0;34m(\u001b[0m\u001b[0mvi\u001b[0m\u001b[0;34m,\u001b[0m\u001b[0mki\u001b[0m\u001b[0;34m)\u001b[0m\u001b[0;34m<\u001b[0m\u001b[0mcurr_dist\u001b[0m\u001b[0;34m]\u001b[0m\u001b[0;34m\u001b[0m\u001b[0;34m\u001b[0m\u001b[0m\n\u001b[0m\u001b[1;32m      5\u001b[0m         \u001b[0;32mif\u001b[0m \u001b[0mdistances\u001b[0m\u001b[0;34m:\u001b[0m\u001b[0;34m\u001b[0m\u001b[0;34m\u001b[0m\u001b[0m\n\u001b[1;32m      6\u001b[0m             \u001b[0mprint\u001b[0m\u001b[0;34m(\u001b[0m\u001b[0mdistances\u001b[0m\u001b[0;34m)\u001b[0m\u001b[0;34m\u001b[0m\u001b[0;34m\u001b[0m\u001b[0m\n",
      "\u001b[0;32m<ipython-input-74-157ddd8fd624>\u001b[0m in \u001b[0;36m<listcomp>\u001b[0;34m(.0)\u001b[0m\n\u001b[1;32m      2\u001b[0m     \u001b[0;32mfor\u001b[0m \u001b[0mvi\u001b[0m \u001b[0;32min\u001b[0m \u001b[0mv\u001b[0m\u001b[0;34m:\u001b[0m\u001b[0;34m\u001b[0m\u001b[0;34m\u001b[0m\u001b[0m\n\u001b[1;32m      3\u001b[0m         \u001b[0mcurr_dist\u001b[0m \u001b[0;34m=\u001b[0m \u001b[0mdistance\u001b[0m\u001b[0;34m(\u001b[0m\u001b[0mvi\u001b[0m\u001b[0;34m,\u001b[0m \u001b[0mk\u001b[0m\u001b[0;34m)\u001b[0m\u001b[0;34m\u001b[0m\u001b[0;34m\u001b[0m\u001b[0m\n\u001b[0;32m----> 4\u001b[0;31m         \u001b[0mdistances\u001b[0m \u001b[0;34m=\u001b[0m \u001b[0;34m[\u001b[0m\u001b[0;34m(\u001b[0m\u001b[0mvi\u001b[0m\u001b[0;34m,\u001b[0m \u001b[0mki\u001b[0m\u001b[0;34m,\u001b[0m \u001b[0mk\u001b[0m\u001b[0;34m,\u001b[0m \u001b[0mdistance\u001b[0m\u001b[0;34m(\u001b[0m\u001b[0mvi\u001b[0m\u001b[0;34m,\u001b[0m \u001b[0mki\u001b[0m\u001b[0;34m)\u001b[0m\u001b[0;34m,\u001b[0m \u001b[0mcurr_dist\u001b[0m\u001b[0;34m)\u001b[0m \u001b[0;32mfor\u001b[0m \u001b[0mki\u001b[0m \u001b[0;32min\u001b[0m \u001b[0mnnet\u001b[0m\u001b[0;34m.\u001b[0m\u001b[0mkeys\u001b[0m\u001b[0;34m(\u001b[0m\u001b[0;34m)\u001b[0m \u001b[0;32mif\u001b[0m \u001b[0mdistance\u001b[0m\u001b[0;34m(\u001b[0m\u001b[0mvi\u001b[0m\u001b[0;34m,\u001b[0m\u001b[0mki\u001b[0m\u001b[0;34m)\u001b[0m\u001b[0;34m<\u001b[0m\u001b[0mcurr_dist\u001b[0m\u001b[0;34m]\u001b[0m\u001b[0;34m\u001b[0m\u001b[0;34m\u001b[0m\u001b[0m\n\u001b[0m\u001b[1;32m      5\u001b[0m         \u001b[0;32mif\u001b[0m \u001b[0mdistances\u001b[0m\u001b[0;34m:\u001b[0m\u001b[0;34m\u001b[0m\u001b[0;34m\u001b[0m\u001b[0m\n\u001b[1;32m      6\u001b[0m             \u001b[0mprint\u001b[0m\u001b[0;34m(\u001b[0m\u001b[0mdistances\u001b[0m\u001b[0;34m)\u001b[0m\u001b[0;34m\u001b[0m\u001b[0;34m\u001b[0m\u001b[0m\n",
      "\u001b[0;32m<ipython-input-4-957601428171>\u001b[0m in \u001b[0;36m<lambda>\u001b[0;34m(x, y)\u001b[0m\n\u001b[1;32m      9\u001b[0m \u001b[0;34m\u001b[0m\u001b[0m\n\u001b[1;32m     10\u001b[0m \u001b[0;31m# good old panda based distance calculation:\u001b[0m\u001b[0;34m\u001b[0m\u001b[0;34m\u001b[0m\u001b[0;34m\u001b[0m\u001b[0m\n\u001b[0;32m---> 11\u001b[0;31m \u001b[0mdistance\u001b[0m \u001b[0;34m=\u001b[0m \u001b[0;32mlambda\u001b[0m \u001b[0mx\u001b[0m\u001b[0;34m,\u001b[0m\u001b[0my\u001b[0m\u001b[0;34m:\u001b[0m \u001b[0mjaccard\u001b[0m\u001b[0;34m(\u001b[0m\u001b[0mx\u001b[0m\u001b[0;34m,\u001b[0m \u001b[0my\u001b[0m\u001b[0;34m,\u001b[0m \u001b[0mm\u001b[0m\u001b[0;34m[\u001b[0m\u001b[0;34m'nf'\u001b[0m\u001b[0;34m]\u001b[0m\u001b[0;34m)\u001b[0m\u001b[0;34m\u001b[0m\u001b[0;34m\u001b[0m\u001b[0m\n\u001b[0m",
      "\u001b[0;32m<ipython-input-4-957601428171>\u001b[0m in \u001b[0;36mjaccard\u001b[0;34m(apid1, apid2, funcs)\u001b[0m\n\u001b[1;32m      6\u001b[0m     \u001b[0mp2\u001b[0m \u001b[0;34m=\u001b[0m \u001b[0mfuncs\u001b[0m\u001b[0;34m[\u001b[0m\u001b[0mapid2\u001b[0m\u001b[0;34m]\u001b[0m\u001b[0;34m\u001b[0m\u001b[0;34m\u001b[0m\u001b[0m\n\u001b[1;32m      7\u001b[0m \u001b[0;34m\u001b[0m\u001b[0m\n\u001b[0;32m----> 8\u001b[0;31m     \u001b[0;32mreturn\u001b[0m \u001b[0;36m1\u001b[0m \u001b[0;34m-\u001b[0m \u001b[0mlen\u001b[0m\u001b[0;34m(\u001b[0m\u001b[0mp1\u001b[0m \u001b[0;34m&\u001b[0m \u001b[0mp2\u001b[0m\u001b[0;34m)\u001b[0m\u001b[0;34m/\u001b[0m\u001b[0mlen\u001b[0m\u001b[0;34m(\u001b[0m\u001b[0mp1\u001b[0m\u001b[0;34m|\u001b[0m\u001b[0mp2\u001b[0m\u001b[0;34m)\u001b[0m\u001b[0;34m\u001b[0m\u001b[0;34m\u001b[0m\u001b[0m\n\u001b[0m\u001b[1;32m      9\u001b[0m \u001b[0;34m\u001b[0m\u001b[0m\n\u001b[1;32m     10\u001b[0m \u001b[0;31m# good old panda based distance calculation:\u001b[0m\u001b[0;34m\u001b[0m\u001b[0;34m\u001b[0m\u001b[0;34m\u001b[0m\u001b[0m\n",
      "\u001b[0;31mKeyboardInterrupt\u001b[0m: "
     ]
    }
   ],
   "source": [
    "for k, v in tqdm(nnet.items()):\n",
    "    for vi in v:\n",
    "        curr_dist = distance(vi, k)\n",
    "        distances = [(vi, ki, k, distance(vi, ki), curr_dist) for ki in nnet.keys() if distance(vi,ki)<curr_dist]\n",
    "        if distances:\n",
    "            print(distances)\n",
    "    "
   ]
  },
  {
   "cell_type": "code",
   "execution_count": null,
   "id": "invisible-think",
   "metadata": {},
   "outputs": [],
   "source": []
  },
  {
   "cell_type": "code",
   "execution_count": null,
   "id": "environmental-evidence",
   "metadata": {},
   "outputs": [],
   "source": []
  },
  {
   "cell_type": "code",
   "execution_count": null,
   "id": "taken-status",
   "metadata": {},
   "outputs": [],
   "source": []
  },
  {
   "cell_type": "code",
   "execution_count": 80,
   "id": "temporal-algorithm",
   "metadata": {},
   "outputs": [],
   "source": [
    "from grapm import partition_ndframe"
   ]
  },
  {
   "cell_type": "code",
   "execution_count": 81,
   "id": "unlimited-folder",
   "metadata": {},
   "outputs": [],
   "source": [
    "subsamp = mw\n",
    "napks = subsamp['apk'].unique().to_numpy()"
   ]
  },
  {
   "cell_type": "code",
   "execution_count": 82,
   "id": "spiritual-weight",
   "metadata": {},
   "outputs": [],
   "source": [
    "test_size = 1000\n",
    "train, test = train_test_split(napks, test_size=test_size, random_state=42)\n",
    "#np.save(f\"../res/test-tc-{test_size}\", test)\n",
    "\n",
    "parts = partition_ndframe(nd=train, n_parts=4)"
   ]
  },
  {
   "cell_type": "code",
   "execution_count": 90,
   "id": "bound-external",
   "metadata": {},
   "outputs": [
    {
     "data": {
      "text/plain": [
       "(False, False, True)"
      ]
     },
     "execution_count": 90,
     "metadata": {},
     "output_type": "execute_result"
    }
   ],
   "source": [
    "# so this is not a problem with origin network calcluation\n",
    "18788 in parts[0], 29 in parts[0], 16393 in parts[0]"
   ]
  },
  {
   "cell_type": "code",
   "execution_count": 94,
   "id": "religious-outdoors",
   "metadata": {},
   "outputs": [
    {
     "data": {
      "text/plain": [
       "(True, True, False)"
      ]
     },
     "execution_count": 94,
     "metadata": {},
     "output_type": "execute_result"
    }
   ],
   "source": [
    "# but where this comes from then:\n",
    "29 in anet.keys(), 16393 in anet.keys(), 18788 in anet.keys()"
   ]
  },
  {
   "cell_type": "code",
   "execution_count": 87,
   "id": "conceptual-concert",
   "metadata": {},
   "outputs": [],
   "source": [
    "#[(18788, 29, 16393, 0.19999999999999996, 0.5)]"
   ]
  },
  {
   "cell_type": "code",
   "execution_count": 88,
   "id": "authorized-roberts",
   "metadata": {},
   "outputs": [],
   "source": [
    "sparts = [subsamp.filter_by(values=part, column_name='apk') for part in parts]"
   ]
  },
  {
   "cell_type": "code",
   "execution_count": 100,
   "id": "laughing-roots",
   "metadata": {},
   "outputs": [],
   "source": [
    "with open('/tmp/p1.txt', 'wb+') as f:\n",
    "    np.savetxt(f, parts[0], fmt='%d')"
   ]
  },
  {
   "cell_type": "code",
   "execution_count": 99,
   "id": "natural-kuwait",
   "metadata": {},
   "outputs": [],
   "source": [
    "np.savetxt?"
   ]
  },
  {
   "cell_type": "code",
   "execution_count": null,
   "id": "alpine-protection",
   "metadata": {},
   "outputs": [],
   "source": []
  },
  {
   "cell_type": "code",
   "execution_count": null,
   "id": "spanish-mozambique",
   "metadata": {},
   "outputs": [],
   "source": []
  },
  {
   "cell_type": "code",
   "execution_count": null,
   "id": "organized-voice",
   "metadata": {},
   "outputs": [],
   "source": []
  },
  {
   "cell_type": "code",
   "execution_count": null,
   "id": "optical-armor",
   "metadata": {},
   "outputs": [],
   "source": []
  },
  {
   "cell_type": "code",
   "execution_count": 101,
   "id": "unsigned-jewel",
   "metadata": {},
   "outputs": [],
   "source": [
    "# original network\n",
    "# apparently seting same seeds is not enough for reproducibility"
   ]
  },
  {
   "cell_type": "code",
   "execution_count": 104,
   "id": "medieval-paradise",
   "metadata": {},
   "outputs": [],
   "source": [
    "fname = '../res/0.5-stream-singleaggregating.pickle'"
   ]
  },
  {
   "cell_type": "code",
   "execution_count": 105,
   "id": "thermal-marijuana",
   "metadata": {},
   "outputs": [],
   "source": [
    "with open(fname, 'rb') as f:\n",
    "    ann = pickle.load(f)"
   ]
  },
  {
   "cell_type": "code",
   "execution_count": 107,
   "id": "everyday-opinion",
   "metadata": {},
   "outputs": [],
   "source": [
    "ann = ann[0.5]"
   ]
  },
  {
   "cell_type": "code",
   "execution_count": 110,
   "id": "demanding-henry",
   "metadata": {},
   "outputs": [],
   "source": [
    "[true_dicts, origin_net] = ann"
   ]
  },
  {
   "cell_type": "code",
   "execution_count": 113,
   "id": "considerable-fellowship",
   "metadata": {},
   "outputs": [
    {
     "data": {
      "text/plain": [
       "(True, True, False, True)"
      ]
     },
     "execution_count": 113,
     "metadata": {},
     "output_type": "execute_result"
    }
   ],
   "source": [
    "# but where this comes from then:\n",
    "29 in origin_net.keys(), 16393 in origin_net.keys(), 18788 in origin_net.keys(), 18788 in origin_net[16393]"
   ]
  },
  {
   "cell_type": "code",
   "execution_count": 114,
   "id": "senior-ghost",
   "metadata": {},
   "outputs": [
    {
     "data": {
      "text/plain": [
       "(0.19999999999999996, 0.5)"
      ]
     },
     "execution_count": 114,
     "metadata": {},
     "output_type": "execute_result"
    }
   ],
   "source": [
    "# problem in the origin network (apk=18788) should be with anchor 29 is with 16393\n",
    "distance(29, 18788), distance(16393, 18788)"
   ]
  },
  {
   "cell_type": "code",
   "execution_count": 115,
   "id": "timely-moral",
   "metadata": {},
   "outputs": [
    {
     "data": {
      "application/vnd.jupyter.widget-view+json": {
       "model_id": "173f99d2572d4c36aec3ff347d085548",
       "version_major": 2,
       "version_minor": 0
      },
      "text/plain": [
       "  0%|          | 0/536 [00:00<?, ?it/s]"
      ]
     },
     "metadata": {},
     "output_type": "display_data"
    },
    {
     "name": "stdout",
     "output_type": "stream",
     "text": [
      "[(18788, 29, 0.19999999999999996, 16393, 0.5)]\n",
      "[(26000, 2211, 0.4285714285714286, 16393, 0.5), (26000, 21306, 0.4, 16393, 0.5)]\n",
      "[(15619, 3721, 0.45201041732833636, 4109, 0.4907125752378487), (15619, 19718, 0.41996204933586334, 4109, 0.4907125752378487), (15619, 5806, 0.4526655422746938, 4109, 0.4907125752378487)]\n",
      "[(18533, 19718, 0.4173242153252674, 4109, 0.49502123297700984)]\n",
      "[(11942, 8221, 0.3254882930971733, 4109, 0.49934428758774974), (11942, 19718, 0.4603506222181851, 4109, 0.49934428758774974)]\n",
      "[(8364, 8221, 0.32863564572955895, 4109, 0.4526391325147504)]\n",
      "[(5585, 3721, 0.46233917372470423, 4109, 0.4834556370913943), (5585, 19718, 0.3696002578981302, 4109, 0.4834556370913943)]\n",
      "[(12020, 8221, 0.32483302975106254, 4109, 0.4989192527404662), (12020, 19718, 0.46135682499318864, 4109, 0.4989192527404662)]\n",
      "[(9911, 3721, 0.46796589524969545, 4109, 0.47517237016889113), (9911, 19718, 0.3883169203222918, 4109, 0.47517237016889113)]\n",
      "[(7868, 19718, 0.36926082709215236, 4109, 0.42489690361361576)]\n",
      "[(10763, 24618, 0.39181351773366047, 12305, 0.41504112808460636)]\n",
      "[(21005, 24618, 0.3918615107913669, 12305, 0.4101985023178414)]\n",
      "[(23103, 6957, 0.3068547768747125, 12305, 0.43511450381679384)]\n",
      "[(17476, 6957, 0.2836288659793814, 12305, 0.37075138678769537)]\n",
      "[(21576, 6957, 0.2836288659793814, 12305, 0.37075138678769537)]\n",
      "[(11358, 6957, 0.2836288659793814, 12305, 0.37075138678769537)]\n",
      "[(4209, 6957, 0.2836288659793814, 12305, 0.37075138678769537)]\n",
      "[(17569, 6957, 0.2836288659793814, 12305, 0.37075138678769537)]\n",
      "[(206, 24618, 0.36717012059477816, 12305, 0.38463447933473993)]\n",
      "[(5840, 6957, 0.3068547768747125, 12305, 0.43511450381679384)]\n",
      "[(24272, 6957, 0.30435117443203696, 12305, 0.43269838403899974)]\n",
      "[(11487, 24618, 0.4472451483381664, 12305, 0.4846611454566663), (11487, 24722, 0.4478330658105939, 12305, 0.4846611454566663)]\n",
      "[(4326, 6957, 0.33223558244619744, 12305, 0.42380996225025325)]\n",
      "[(8940, 24618, 0.4178132549101985, 12305, 0.45100832967996496), (8940, 8254, 0.404662861565251, 12305, 0.45100832967996496)]\n",
      "[(6412, 6957, 0.2836288659793814, 12305, 0.37075138678769537)]\n",
      "[(18736, 8221, 0.3119837184245181, 12305, 0.4854577396056998), (18736, 15638, 0.4469386045732473, 12305, 0.4854577396056998)]\n",
      "[(21346, 6957, 0.2836288659793814, 12305, 0.37075138678769537)]\n",
      "[(26987, 6957, 0.3068547768747125, 12305, 0.43511450381679384)]\n",
      "[(21382, 6957, 0.33223558244619744, 12305, 0.42380996225025325)]\n",
      "[(1465, 6957, 0.3068547768747125, 12305, 0.43511450381679384)]\n",
      "[(7150, 24618, 0.4115759067080347, 12305, 0.44252937884723), (7150, 8254, 0.3990162321692081, 12305, 0.44252937884723)]\n",
      "[(1010, 24618, 0.3074299115232918, 12305, 0.4579593521097699)]\n",
      "[(10533, 7212, 0.4, 4115, 0.5)]\n",
      "[(19201, 18999, 0.326730518067044, 16406, 0.35030329289428075)]\n",
      "[(19266, 18999, 0.3821765209940017, 16406, 0.44361215147732)]\n",
      "[(4810, 2130, 0.44311177744461105, 16406, 0.48222409435551816), (4810, 18999, 0.4033761209776684, 16406, 0.48222409435551816), (4810, 4737, 0.35804892781636966, 16406, 0.48222409435551816)]\n",
      "[(2348, 2130, 0.4179515418502202, 16406, 0.4541721112563002), (2348, 18999, 0.39919509390571095, 16406, 0.4541721112563002), (2348, 4737, 0.36776061776061775, 16406, 0.4541721112563002)]\n",
      "[(9856, 19150, 0.4513600737667127, 8221, 0.4949629137606554)]\n",
      "[(20101, 16973, 0.37523613257770905, 8221, 0.38447741725093754), (20101, 10006, 0.35363057324840763, 8221, 0.38447741725093754)]\n",
      "[(10760, 10006, 0.3463715903242409, 8221, 0.37924807092431456)]\n",
      "[(17417, 14542, 0.41606655078222, 8221, 0.4987295825771325), (17417, 19150, 0.4465014432168807, 8221, 0.4987295825771325)]\n",
      "[(16270, 16973, 0.37523613257770905, 8221, 0.38447741725093754), (16270, 10006, 0.35363057324840763, 8221, 0.38447741725093754)]\n",
      "[(13844, 14542, 0.41606655078222, 8221, 0.4987295825771325), (13844, 19150, 0.4465014432168807, 8221, 0.4987295825771325)]\n",
      "[(3095, 2130, 0.4326023187596033, 8221, 0.4359130859375), (3095, 11170, 0.3826867519603797, 8221, 0.4359130859375)]\n",
      "[(19096, 19718, 0.4650436453912069, 8221, 0.4677187948350072)]\n",
      "[(9902, 19150, 0.4513600737667127, 8221, 0.4949629137606554)]\n",
      "[(2736, 19150, 0.4513600737667127, 8221, 0.4949629137606554)]\n",
      "[(11973, 16973, 0.37523613257770905, 8221, 0.38447741725093754), (11973, 10006, 0.35363057324840763, 8221, 0.38447741725093754)]\n",
      "[(8284, 6809, 0.4180157741801578, 8221, 0.4364165857717376)]\n",
      "[(19679, 14542, 0.39856670341786105, 8221, 0.42187062447493695)]\n",
      "[(13032, 16973, 0.35500851525003874, 8221, 0.4607257055470596)]\n",
      "[(14824, 19150, 0.4513600737667127, 8221, 0.4949629137606554)]\n",
      "[(17131, 16973, 0.4179785894206549, 8221, 0.47530505520046484)]\n",
      "[(19562, 2130, 0.37548360822643045, 8221, 0.4314046877561055)]\n",
      "[(6772, 2130, 0.4007866273352999, 8221, 0.44937011640886626), (6772, 18999, 0.42837162837162834, 8221, 0.44937011640886626)]\n",
      "[(13100, 14542, 0.41606655078222, 8221, 0.4987295825771325), (13100, 19150, 0.4465014432168807, 8221, 0.4987295825771325)]\n",
      "[(7290, 19150, 0.4502627454595741, 8221, 0.4958001768346596)]\n",
      "[(4732, 16973, 0.37523613257770905, 8221, 0.38447741725093754), (4732, 10006, 0.35363057324840763, 8221, 0.38447741725093754)]\n",
      "[(1154, 199, 0.439176967138981, 38, 0.4768653605669029)]\n",
      "[(12996, 15638, 0.4296726001271456, 38, 0.49157869766338513), (12996, 4918, 0.4106534229233616, 38, 0.49157869766338513)]\n",
      "[(17926, 17347, 0.14529914529914534, 38, 0.4963388837663394)]\n",
      "[(454, 199, 0.3812774256460263, 38, 0.43899895724713245)]\n",
      "[(525, 199, 0.2968809073724008, 38, 0.39236826165960026)]\n",
      "[(19154, 199, 0.3812774256460263, 38, 0.43899895724713245)]\n",
      "[(23542, 17843, 0.41930247861373104, 38, 0.4410949558691851)]\n",
      "[(286, 199, 0.439176967138981, 38, 0.4768653605669029)]\n",
      "[(22690, 24087, 0.35020314432079136, 24618, 0.3919616865433374)]\n",
      "[(15143, 8323, 0.27126741871267424, 24618, 0.498014382311903)]\n",
      "[(14376, 8323, 0.3208848405985686, 24618, 0.4898758981058132)]\n",
      "[(3815, 24722, 0.39835473015081635, 24618, 0.48736998514115903), (3815, 4627, 0.46673819742489275, 24618, 0.48736998514115903)]\n"
     ]
    },
    {
     "ename": "KeyboardInterrupt",
     "evalue": "",
     "output_type": "error",
     "traceback": [
      "\u001b[0;31m---------------------------------------------------------------------------\u001b[0m",
      "\u001b[0;31mKeyboardInterrupt\u001b[0m                         Traceback (most recent call last)",
      "\u001b[0;32m<ipython-input-115-5e5f3ee99e18>\u001b[0m in \u001b[0;36m<module>\u001b[0;34m\u001b[0m\n\u001b[1;32m      2\u001b[0m     \u001b[0;32mfor\u001b[0m \u001b[0mvi\u001b[0m \u001b[0;32min\u001b[0m \u001b[0mv\u001b[0m\u001b[0;34m:\u001b[0m\u001b[0;34m\u001b[0m\u001b[0;34m\u001b[0m\u001b[0m\n\u001b[1;32m      3\u001b[0m         \u001b[0mcurr_dist\u001b[0m \u001b[0;34m=\u001b[0m \u001b[0mdistance\u001b[0m\u001b[0;34m(\u001b[0m\u001b[0mvi\u001b[0m\u001b[0;34m,\u001b[0m \u001b[0mk\u001b[0m\u001b[0;34m)\u001b[0m\u001b[0;34m\u001b[0m\u001b[0;34m\u001b[0m\u001b[0m\n\u001b[0;32m----> 4\u001b[0;31m         \u001b[0mdistances\u001b[0m \u001b[0;34m=\u001b[0m \u001b[0;34m[\u001b[0m\u001b[0;34m(\u001b[0m\u001b[0mvi\u001b[0m\u001b[0;34m,\u001b[0m \u001b[0mki\u001b[0m\u001b[0;34m,\u001b[0m \u001b[0mdistance\u001b[0m\u001b[0;34m(\u001b[0m\u001b[0mvi\u001b[0m\u001b[0;34m,\u001b[0m \u001b[0mki\u001b[0m\u001b[0;34m)\u001b[0m\u001b[0;34m,\u001b[0m\u001b[0mk\u001b[0m\u001b[0;34m,\u001b[0m \u001b[0mcurr_dist\u001b[0m\u001b[0;34m)\u001b[0m \u001b[0;32mfor\u001b[0m \u001b[0mki\u001b[0m \u001b[0;32min\u001b[0m \u001b[0morigin_net\u001b[0m\u001b[0;34m.\u001b[0m\u001b[0mkeys\u001b[0m\u001b[0;34m(\u001b[0m\u001b[0;34m)\u001b[0m \u001b[0;32mif\u001b[0m \u001b[0mdistance\u001b[0m\u001b[0;34m(\u001b[0m\u001b[0mvi\u001b[0m\u001b[0;34m,\u001b[0m\u001b[0mki\u001b[0m\u001b[0;34m)\u001b[0m\u001b[0;34m<\u001b[0m\u001b[0mcurr_dist\u001b[0m\u001b[0;34m]\u001b[0m\u001b[0;34m\u001b[0m\u001b[0;34m\u001b[0m\u001b[0m\n\u001b[0m\u001b[1;32m      5\u001b[0m         \u001b[0;32mif\u001b[0m \u001b[0mdistances\u001b[0m\u001b[0;34m:\u001b[0m\u001b[0;34m\u001b[0m\u001b[0;34m\u001b[0m\u001b[0m\n\u001b[1;32m      6\u001b[0m             \u001b[0mprint\u001b[0m\u001b[0;34m(\u001b[0m\u001b[0mdistances\u001b[0m\u001b[0;34m)\u001b[0m\u001b[0;34m\u001b[0m\u001b[0;34m\u001b[0m\u001b[0m\n",
      "\u001b[0;32m<ipython-input-115-5e5f3ee99e18>\u001b[0m in \u001b[0;36m<listcomp>\u001b[0;34m(.0)\u001b[0m\n\u001b[1;32m      2\u001b[0m     \u001b[0;32mfor\u001b[0m \u001b[0mvi\u001b[0m \u001b[0;32min\u001b[0m \u001b[0mv\u001b[0m\u001b[0;34m:\u001b[0m\u001b[0;34m\u001b[0m\u001b[0;34m\u001b[0m\u001b[0m\n\u001b[1;32m      3\u001b[0m         \u001b[0mcurr_dist\u001b[0m \u001b[0;34m=\u001b[0m \u001b[0mdistance\u001b[0m\u001b[0;34m(\u001b[0m\u001b[0mvi\u001b[0m\u001b[0;34m,\u001b[0m \u001b[0mk\u001b[0m\u001b[0;34m)\u001b[0m\u001b[0;34m\u001b[0m\u001b[0;34m\u001b[0m\u001b[0m\n\u001b[0;32m----> 4\u001b[0;31m         \u001b[0mdistances\u001b[0m \u001b[0;34m=\u001b[0m \u001b[0;34m[\u001b[0m\u001b[0;34m(\u001b[0m\u001b[0mvi\u001b[0m\u001b[0;34m,\u001b[0m \u001b[0mki\u001b[0m\u001b[0;34m,\u001b[0m \u001b[0mdistance\u001b[0m\u001b[0;34m(\u001b[0m\u001b[0mvi\u001b[0m\u001b[0;34m,\u001b[0m \u001b[0mki\u001b[0m\u001b[0;34m)\u001b[0m\u001b[0;34m,\u001b[0m\u001b[0mk\u001b[0m\u001b[0;34m,\u001b[0m \u001b[0mcurr_dist\u001b[0m\u001b[0;34m)\u001b[0m \u001b[0;32mfor\u001b[0m \u001b[0mki\u001b[0m \u001b[0;32min\u001b[0m \u001b[0morigin_net\u001b[0m\u001b[0;34m.\u001b[0m\u001b[0mkeys\u001b[0m\u001b[0;34m(\u001b[0m\u001b[0;34m)\u001b[0m \u001b[0;32mif\u001b[0m \u001b[0mdistance\u001b[0m\u001b[0;34m(\u001b[0m\u001b[0mvi\u001b[0m\u001b[0;34m,\u001b[0m\u001b[0mki\u001b[0m\u001b[0;34m)\u001b[0m\u001b[0;34m<\u001b[0m\u001b[0mcurr_dist\u001b[0m\u001b[0;34m]\u001b[0m\u001b[0;34m\u001b[0m\u001b[0;34m\u001b[0m\u001b[0m\n\u001b[0m\u001b[1;32m      5\u001b[0m         \u001b[0;32mif\u001b[0m \u001b[0mdistances\u001b[0m\u001b[0;34m:\u001b[0m\u001b[0;34m\u001b[0m\u001b[0;34m\u001b[0m\u001b[0m\n\u001b[1;32m      6\u001b[0m             \u001b[0mprint\u001b[0m\u001b[0;34m(\u001b[0m\u001b[0mdistances\u001b[0m\u001b[0;34m)\u001b[0m\u001b[0;34m\u001b[0m\u001b[0;34m\u001b[0m\u001b[0m\n",
      "\u001b[0;32m<ipython-input-4-957601428171>\u001b[0m in \u001b[0;36m<lambda>\u001b[0;34m(x, y)\u001b[0m\n\u001b[1;32m      9\u001b[0m \u001b[0;34m\u001b[0m\u001b[0m\n\u001b[1;32m     10\u001b[0m \u001b[0;31m# good old panda based distance calculation:\u001b[0m\u001b[0;34m\u001b[0m\u001b[0;34m\u001b[0m\u001b[0;34m\u001b[0m\u001b[0m\n\u001b[0;32m---> 11\u001b[0;31m \u001b[0mdistance\u001b[0m \u001b[0;34m=\u001b[0m \u001b[0;32mlambda\u001b[0m \u001b[0mx\u001b[0m\u001b[0;34m,\u001b[0m\u001b[0my\u001b[0m\u001b[0;34m:\u001b[0m \u001b[0mjaccard\u001b[0m\u001b[0;34m(\u001b[0m\u001b[0mx\u001b[0m\u001b[0;34m,\u001b[0m \u001b[0my\u001b[0m\u001b[0;34m,\u001b[0m \u001b[0mm\u001b[0m\u001b[0;34m[\u001b[0m\u001b[0;34m'nf'\u001b[0m\u001b[0;34m]\u001b[0m\u001b[0;34m)\u001b[0m\u001b[0;34m\u001b[0m\u001b[0;34m\u001b[0m\u001b[0m\n\u001b[0m",
      "\u001b[0;32m<ipython-input-4-957601428171>\u001b[0m in \u001b[0;36mjaccard\u001b[0;34m(apid1, apid2, funcs)\u001b[0m\n\u001b[1;32m      6\u001b[0m     \u001b[0mp2\u001b[0m \u001b[0;34m=\u001b[0m \u001b[0mfuncs\u001b[0m\u001b[0;34m[\u001b[0m\u001b[0mapid2\u001b[0m\u001b[0;34m]\u001b[0m\u001b[0;34m\u001b[0m\u001b[0;34m\u001b[0m\u001b[0m\n\u001b[1;32m      7\u001b[0m \u001b[0;34m\u001b[0m\u001b[0m\n\u001b[0;32m----> 8\u001b[0;31m     \u001b[0;32mreturn\u001b[0m \u001b[0;36m1\u001b[0m \u001b[0;34m-\u001b[0m \u001b[0mlen\u001b[0m\u001b[0;34m(\u001b[0m\u001b[0mp1\u001b[0m \u001b[0;34m&\u001b[0m \u001b[0mp2\u001b[0m\u001b[0;34m)\u001b[0m\u001b[0;34m/\u001b[0m\u001b[0mlen\u001b[0m\u001b[0;34m(\u001b[0m\u001b[0mp1\u001b[0m\u001b[0;34m|\u001b[0m\u001b[0mp2\u001b[0m\u001b[0;34m)\u001b[0m\u001b[0;34m\u001b[0m\u001b[0;34m\u001b[0m\u001b[0m\n\u001b[0m\u001b[1;32m      9\u001b[0m \u001b[0;34m\u001b[0m\u001b[0m\n\u001b[1;32m     10\u001b[0m \u001b[0;31m# good old panda based distance calculation:\u001b[0m\u001b[0;34m\u001b[0m\u001b[0;34m\u001b[0m\u001b[0;34m\u001b[0m\u001b[0m\n",
      "\u001b[0;31mKeyboardInterrupt\u001b[0m: "
     ]
    }
   ],
   "source": [
    "\n",
    "for k, v in tqdm(origin_net.items()):\n",
    "    for vi in v:\n",
    "        curr_dist = distance(vi, k)\n",
    "        distances = [(vi, ki, distance(vi, ki),k, curr_dist) for ki in origin_net.keys() if distance(vi,ki)<curr_dist]\n",
    "        if distances:\n",
    "            print(distances)\n",
    "    "
   ]
  },
  {
   "cell_type": "code",
   "execution_count": 118,
   "id": "decreased-australia",
   "metadata": {},
   "outputs": [],
   "source": [
    "with open('../res/p0.txt', 'r') as f:\n",
    "    p0=np.loadtxt(f)\n",
    "    \n",
    "spart = mw.filter_by(values=list(map(int, p0)), column_name='apk')"
   ]
  },
  {
   "cell_type": "code",
   "execution_count": 119,
   "id": "inclusive-fabric",
   "metadata": {},
   "outputs": [
    {
     "data": {
      "text/plain": [
       "array([13929.,  3852.,  1352., ..., 17326.,  9722., 20043.])"
      ]
     },
     "execution_count": 119,
     "metadata": {},
     "output_type": "execute_result"
    }
   ],
   "source": [
    "p0"
   ]
  },
  {
   "cell_type": "code",
   "execution_count": 121,
   "id": "acting-landscape",
   "metadata": {},
   "outputs": [
    {
     "data": {
      "text/plain": [
       "(True, True, True)"
      ]
     },
     "execution_count": 121,
     "metadata": {},
     "output_type": "execute_result"
    }
   ],
   "source": [
    "29 in p0, 18788 in p0, 16393 in p0"
   ]
  },
  {
   "cell_type": "code",
   "execution_count": 122,
   "id": "cleared-thread",
   "metadata": {},
   "outputs": [],
   "source": [
    "from grapm import f_create_network"
   ]
  },
  {
   "cell_type": "code",
   "execution_count": 127,
   "id": "mexican-dealer",
   "metadata": {},
   "outputs": [],
   "source": [
    "spart = mw.filter_by(values=list(map(int, p0)), column_name='apk')\n",
    "#f_create_network()"
   ]
  },
  {
   "cell_type": "code",
   "execution_count": 128,
   "id": "fundamental-replication",
   "metadata": {},
   "outputs": [],
   "source": [
    "locnet = f_create_network(data=spart, gamma=0.5)"
   ]
  },
  {
   "cell_type": "code",
   "execution_count": 130,
   "id": "sacred-belarus",
   "metadata": {},
   "outputs": [
    {
     "data": {
      "text/plain": [
       "(True, False, True)"
      ]
     },
     "execution_count": 130,
     "metadata": {},
     "output_type": "execute_result"
    }
   ],
   "source": [
    "29 in locnet.keys(), 18788 in locnet.keys(), 16393 in locnet.keys()"
   ]
  },
  {
   "cell_type": "code",
   "execution_count": 133,
   "id": "african-morocco",
   "metadata": {},
   "outputs": [
    {
     "data": {
      "text/plain": [
       "(False, True)"
      ]
     },
     "execution_count": 133,
     "metadata": {},
     "output_type": "execute_result"
    }
   ],
   "source": [
    "18788 in locnet[29], 18788 in locnet[16393]"
   ]
  },
  {
   "cell_type": "code",
   "execution_count": 135,
   "id": "usual-kentucky",
   "metadata": {},
   "outputs": [
    {
     "data": {
      "text/plain": [
       "(0.19999999999999996, 0.5, 0.6)"
      ]
     },
     "execution_count": 135,
     "metadata": {},
     "output_type": "execute_result"
    }
   ],
   "source": [
    "distance(18788, 29), distance(18788, 16393), distance(29, 16393)"
   ]
  },
  {
   "cell_type": "code",
   "execution_count": 138,
   "id": "aware-lawyer",
   "metadata": {},
   "outputs": [],
   "source": [
    "def pn(data, gamma):\n",
    "    apks = data['apk'].unique()\n",
    "    k = apks.shape[0]\n",
    "    sim_recom = tc.item_similarity_recommender.create(data, \n",
    "                                                      user_id='function', \n",
    "                                                      item_id='apk', \n",
    "                                                      similarity_type='jaccard', \n",
    "                                                      only_top_k=k, \n",
    "                                                      degree_approximation_threshold=15*4096, \n",
    "                                                      threshold=0.0, verbose=False)\n",
    "    itms = sim_recom.get_similar_items(apks, k=k)\n",
    "    # missing more \"distant nodes\", \"not aggregating nodes\"\n",
    "    gw=itms[itms['score']>=1-gamma].groupby(key_column_names='apk', operations={'sims': agg.DISTINCT('similar')})\n",
    "    return gw, itms"
   ]
  },
  {
   "cell_type": "code",
   "execution_count": 228,
   "id": "anticipated-worcester",
   "metadata": {},
   "outputs": [
    {
     "data": {
      "text/html": [
       "<div style=\"max-height:1000px;max-width:1500px;overflow:auto;\"><table frame=\"box\" rules=\"cols\">\n",
       "    <tr>\n",
       "        <th style=\"padding-left: 1em; padding-right: 1em; text-align: center\">apk</th>\n",
       "        <th style=\"padding-left: 1em; padding-right: 1em; text-align: center\">similar</th>\n",
       "        <th style=\"padding-left: 1em; padding-right: 1em; text-align: center\">score</th>\n",
       "        <th style=\"padding-left: 1em; padding-right: 1em; text-align: center\">rank</th>\n",
       "        <th style=\"padding-left: 1em; padding-right: 1em; text-align: center\">distance</th>\n",
       "    </tr>\n",
       "    <tr>\n",
       "        <td style=\"padding-left: 1em; padding-right: 1em; text-align: center; vertical-align: top\">5783</td>\n",
       "        <td style=\"padding-left: 1em; padding-right: 1em; text-align: center; vertical-align: top\">24234</td>\n",
       "        <td style=\"padding-left: 1em; padding-right: 1em; text-align: center; vertical-align: top\">1.0</td>\n",
       "        <td style=\"padding-left: 1em; padding-right: 1em; text-align: center; vertical-align: top\">1</td>\n",
       "        <td style=\"padding-left: 1em; padding-right: 1em; text-align: center; vertical-align: top\">0.0</td>\n",
       "    </tr>\n",
       "    <tr>\n",
       "        <td style=\"padding-left: 1em; padding-right: 1em; text-align: center; vertical-align: top\">5783</td>\n",
       "        <td style=\"padding-left: 1em; padding-right: 1em; text-align: center; vertical-align: top\">10602</td>\n",
       "        <td style=\"padding-left: 1em; padding-right: 1em; text-align: center; vertical-align: top\">1.0</td>\n",
       "        <td style=\"padding-left: 1em; padding-right: 1em; text-align: center; vertical-align: top\">2</td>\n",
       "        <td style=\"padding-left: 1em; padding-right: 1em; text-align: center; vertical-align: top\">0.0</td>\n",
       "    </tr>\n",
       "    <tr>\n",
       "        <td style=\"padding-left: 1em; padding-right: 1em; text-align: center; vertical-align: top\">5783</td>\n",
       "        <td style=\"padding-left: 1em; padding-right: 1em; text-align: center; vertical-align: top\">6939</td>\n",
       "        <td style=\"padding-left: 1em; padding-right: 1em; text-align: center; vertical-align: top\">0.688034176826477</td>\n",
       "        <td style=\"padding-left: 1em; padding-right: 1em; text-align: center; vertical-align: top\">3</td>\n",
       "        <td style=\"padding-left: 1em; padding-right: 1em; text-align: center; vertical-align: top\">0.31196582317352295</td>\n",
       "    </tr>\n",
       "    <tr>\n",
       "        <td style=\"padding-left: 1em; padding-right: 1em; text-align: center; vertical-align: top\">5783</td>\n",
       "        <td style=\"padding-left: 1em; padding-right: 1em; text-align: center; vertical-align: top\">21088</td>\n",
       "        <td style=\"padding-left: 1em; padding-right: 1em; text-align: center; vertical-align: top\">0.6363636255264282</td>\n",
       "        <td style=\"padding-left: 1em; padding-right: 1em; text-align: center; vertical-align: top\">4</td>\n",
       "        <td style=\"padding-left: 1em; padding-right: 1em; text-align: center; vertical-align: top\">0.3636363744735718</td>\n",
       "    </tr>\n",
       "    <tr>\n",
       "        <td style=\"padding-left: 1em; padding-right: 1em; text-align: center; vertical-align: top\">5783</td>\n",
       "        <td style=\"padding-left: 1em; padding-right: 1em; text-align: center; vertical-align: top\">27647</td>\n",
       "        <td style=\"padding-left: 1em; padding-right: 1em; text-align: center; vertical-align: top\">0.5735294222831726</td>\n",
       "        <td style=\"padding-left: 1em; padding-right: 1em; text-align: center; vertical-align: top\">5</td>\n",
       "        <td style=\"padding-left: 1em; padding-right: 1em; text-align: center; vertical-align: top\">0.4264705777168274</td>\n",
       "    </tr>\n",
       "    <tr>\n",
       "        <td style=\"padding-left: 1em; padding-right: 1em; text-align: center; vertical-align: top\">5783</td>\n",
       "        <td style=\"padding-left: 1em; padding-right: 1em; text-align: center; vertical-align: top\">15935</td>\n",
       "        <td style=\"padding-left: 1em; padding-right: 1em; text-align: center; vertical-align: top\">0.016949176788330078</td>\n",
       "        <td style=\"padding-left: 1em; padding-right: 1em; text-align: center; vertical-align: top\">6</td>\n",
       "        <td style=\"padding-left: 1em; padding-right: 1em; text-align: center; vertical-align: top\">0.9830508232116699</td>\n",
       "    </tr>\n",
       "    <tr>\n",
       "        <td style=\"padding-left: 1em; padding-right: 1em; text-align: center; vertical-align: top\">5783</td>\n",
       "        <td style=\"padding-left: 1em; padding-right: 1em; text-align: center; vertical-align: top\">24095</td>\n",
       "        <td style=\"padding-left: 1em; padding-right: 1em; text-align: center; vertical-align: top\">0.016483545303344727</td>\n",
       "        <td style=\"padding-left: 1em; padding-right: 1em; text-align: center; vertical-align: top\">7</td>\n",
       "        <td style=\"padding-left: 1em; padding-right: 1em; text-align: center; vertical-align: top\">0.9835164546966553</td>\n",
       "    </tr>\n",
       "    <tr>\n",
       "        <td style=\"padding-left: 1em; padding-right: 1em; text-align: center; vertical-align: top\">5783</td>\n",
       "        <td style=\"padding-left: 1em; padding-right: 1em; text-align: center; vertical-align: top\">16668</td>\n",
       "        <td style=\"padding-left: 1em; padding-right: 1em; text-align: center; vertical-align: top\">0.01592355966567993</td>\n",
       "        <td style=\"padding-left: 1em; padding-right: 1em; text-align: center; vertical-align: top\">8</td>\n",
       "        <td style=\"padding-left: 1em; padding-right: 1em; text-align: center; vertical-align: top\">0.9840764403343201</td>\n",
       "    </tr>\n",
       "    <tr>\n",
       "        <td style=\"padding-left: 1em; padding-right: 1em; text-align: center; vertical-align: top\">5783</td>\n",
       "        <td style=\"padding-left: 1em; padding-right: 1em; text-align: center; vertical-align: top\">1820</td>\n",
       "        <td style=\"padding-left: 1em; padding-right: 1em; text-align: center; vertical-align: top\">0.015118777751922607</td>\n",
       "        <td style=\"padding-left: 1em; padding-right: 1em; text-align: center; vertical-align: top\">9</td>\n",
       "        <td style=\"padding-left: 1em; padding-right: 1em; text-align: center; vertical-align: top\">0.9848812222480774</td>\n",
       "    </tr>\n",
       "    <tr>\n",
       "        <td style=\"padding-left: 1em; padding-right: 1em; text-align: center; vertical-align: top\">5783</td>\n",
       "        <td style=\"padding-left: 1em; padding-right: 1em; text-align: center; vertical-align: top\">2388</td>\n",
       "        <td style=\"padding-left: 1em; padding-right: 1em; text-align: center; vertical-align: top\">0.014836788177490234</td>\n",
       "        <td style=\"padding-left: 1em; padding-right: 1em; text-align: center; vertical-align: top\">10</td>\n",
       "        <td style=\"padding-left: 1em; padding-right: 1em; text-align: center; vertical-align: top\">0.9851632118225098</td>\n",
       "    </tr>\n",
       "</table>\n",
       "[10 rows x 5 columns]<br/>\n",
       "</div>"
      ],
      "text/plain": [
       "Columns:\n",
       "\tapk\tint\n",
       "\tsimilar\tint\n",
       "\tscore\tfloat\n",
       "\trank\tint\n",
       "\tdistance\tfloat\n",
       "\n",
       "Rows: 10\n",
       "\n",
       "Data:\n",
       "+------+---------+----------------------+------+---------------------+\n",
       "| apk  | similar |        score         | rank |       distance      |\n",
       "+------+---------+----------------------+------+---------------------+\n",
       "| 5783 |  24234  |         1.0          |  1   |         0.0         |\n",
       "| 5783 |  10602  |         1.0          |  2   |         0.0         |\n",
       "| 5783 |   6939  |  0.688034176826477   |  3   | 0.31196582317352295 |\n",
       "| 5783 |  21088  |  0.6363636255264282  |  4   |  0.3636363744735718 |\n",
       "| 5783 |  27647  |  0.5735294222831726  |  5   |  0.4264705777168274 |\n",
       "| 5783 |  15935  | 0.016949176788330078 |  6   |  0.9830508232116699 |\n",
       "| 5783 |  24095  | 0.016483545303344727 |  7   |  0.9835164546966553 |\n",
       "| 5783 |  16668  | 0.01592355966567993  |  8   |  0.9840764403343201 |\n",
       "| 5783 |   1820  | 0.015118777751922607 |  9   |  0.9848812222480774 |\n",
       "| 5783 |   2388  | 0.014836788177490234 |  10  |  0.9851632118225098 |\n",
       "+------+---------+----------------------+------+---------------------+\n",
       "[10 rows x 5 columns]"
      ]
     },
     "execution_count": 228,
     "metadata": {},
     "output_type": "execute_result"
    }
   ],
   "source": [
    "itms.head()"
   ]
  },
  {
   "cell_type": "code",
   "execution_count": 151,
   "id": "loved-treasurer",
   "metadata": {},
   "outputs": [
    {
     "data": {
      "text/plain": [
       "True"
      ]
     },
     "execution_count": 151,
     "metadata": {},
     "output_type": "execute_result"
    }
   ],
   "source": [
    "18788 in gw[gw['apk']==29]['sims'][0]"
   ]
  },
  {
   "cell_type": "code",
   "execution_count": 152,
   "id": "fundamental-defense",
   "metadata": {},
   "outputs": [
    {
     "data": {
      "text/plain": [
       "True"
      ]
     },
     "execution_count": 152,
     "metadata": {},
     "output_type": "execute_result"
    }
   ],
   "source": [
    "18788 in gw[gw['apk']==16393]['sims'][0]"
   ]
  },
  {
   "cell_type": "code",
   "execution_count": null,
   "id": "metropolitan-staff",
   "metadata": {},
   "outputs": [],
   "source": [
    "# this is probably the problem apk=18788 is closer than gamma to both potential anchors (29 and 16393)"
   ]
  },
  {
   "cell_type": "code",
   "execution_count": null,
   "id": "light-florence",
   "metadata": {},
   "outputs": [],
   "source": [
    "ws = set(gw['apk'])\n",
    "    net = dict()\n",
    "    already_added = set()\n",
    "    while len(ws)>0:\n",
    "        w= ws.pop()\n",
    "\n",
    "        simp = set(gw[gw['apk']==w]['sims'][0])\n",
    "        simp = simp - already_added\n",
    "\n",
    "        net[w] = list(simp)\n",
    "        already_added.update(simp)\n",
    "        already_added.add(w)\n",
    "\n",
    "        ws = ws - simp"
   ]
  },
  {
   "cell_type": "code",
   "execution_count": 139,
   "id": "medieval-timing",
   "metadata": {},
   "outputs": [],
   "source": [
    "gw, itms = pn(data=spart, gamma=0.5)"
   ]
  },
  {
   "cell_type": "code",
   "execution_count": 141,
   "id": "central-bachelor",
   "metadata": {},
   "outputs": [],
   "source": [
    "itms['distance'] = 1.0 - itms['score']"
   ]
  },
  {
   "cell_type": "code",
   "execution_count": 145,
   "id": "environmental-wildlife",
   "metadata": {},
   "outputs": [
    {
     "data": {
      "text/html": [
       "<div style=\"max-height:1000px;max-width:1500px;overflow:auto;\"><table frame=\"box\" rules=\"cols\">\n",
       "    <tr>\n",
       "        <th style=\"padding-left: 1em; padding-right: 1em; text-align: center\">apk</th>\n",
       "        <th style=\"padding-left: 1em; padding-right: 1em; text-align: center\">similar</th>\n",
       "        <th style=\"padding-left: 1em; padding-right: 1em; text-align: center\">score</th>\n",
       "        <th style=\"padding-left: 1em; padding-right: 1em; text-align: center\">rank</th>\n",
       "        <th style=\"padding-left: 1em; padding-right: 1em; text-align: center\">distance</th>\n",
       "    </tr>\n",
       "    <tr>\n",
       "        <td style=\"padding-left: 1em; padding-right: 1em; text-align: center; vertical-align: top\">29</td>\n",
       "        <td style=\"padding-left: 1em; padding-right: 1em; text-align: center; vertical-align: top\">18788</td>\n",
       "        <td style=\"padding-left: 1em; padding-right: 1em; text-align: center; vertical-align: top\">0.800000011920929</td>\n",
       "        <td style=\"padding-left: 1em; padding-right: 1em; text-align: center; vertical-align: top\">130</td>\n",
       "        <td style=\"padding-left: 1em; padding-right: 1em; text-align: center; vertical-align: top\">0.19999998807907104</td>\n",
       "    </tr>\n",
       "</table>\n",
       "[? rows x 5 columns]<br/>Note: Only the head of the SFrame is printed. This SFrame is lazily evaluated.<br/>You can use sf.materialize() to force materialization.\n",
       "</div>"
      ],
      "text/plain": [
       "Columns:\n",
       "\tapk\tint\n",
       "\tsimilar\tint\n",
       "\tscore\tfloat\n",
       "\trank\tint\n",
       "\tdistance\tfloat\n",
       "\n",
       "Rows: Unknown\n",
       "\n",
       "Data:\n",
       "+-----+---------+-------------------+------+---------------------+\n",
       "| apk | similar |       score       | rank |       distance      |\n",
       "+-----+---------+-------------------+------+---------------------+\n",
       "|  29 |  18788  | 0.800000011920929 | 130  | 0.19999998807907104 |\n",
       "+-----+---------+-------------------+------+---------------------+\n",
       "[? rows x 5 columns]\n",
       "Note: Only the head of the SFrame is printed. This SFrame is lazily evaluated.\n",
       "You can use sf.materialize() to force materialization."
      ]
     },
     "execution_count": 145,
     "metadata": {},
     "output_type": "execute_result"
    }
   ],
   "source": [
    "itms[(itms['apk']==29)&(itms['similar']==18788)]"
   ]
  },
  {
   "cell_type": "code",
   "execution_count": 146,
   "id": "theoretical-chick",
   "metadata": {},
   "outputs": [
    {
     "data": {
      "text/html": [
       "<div style=\"max-height:1000px;max-width:1500px;overflow:auto;\"><table frame=\"box\" rules=\"cols\">\n",
       "    <tr>\n",
       "        <th style=\"padding-left: 1em; padding-right: 1em; text-align: center\">apk</th>\n",
       "        <th style=\"padding-left: 1em; padding-right: 1em; text-align: center\">similar</th>\n",
       "        <th style=\"padding-left: 1em; padding-right: 1em; text-align: center\">score</th>\n",
       "        <th style=\"padding-left: 1em; padding-right: 1em; text-align: center\">rank</th>\n",
       "        <th style=\"padding-left: 1em; padding-right: 1em; text-align: center\">distance</th>\n",
       "    </tr>\n",
       "    <tr>\n",
       "        <td style=\"padding-left: 1em; padding-right: 1em; text-align: center; vertical-align: top\">16393</td>\n",
       "        <td style=\"padding-left: 1em; padding-right: 1em; text-align: center; vertical-align: top\">18788</td>\n",
       "        <td style=\"padding-left: 1em; padding-right: 1em; text-align: center; vertical-align: top\">0.5</td>\n",
       "        <td style=\"padding-left: 1em; padding-right: 1em; text-align: center; vertical-align: top\">377</td>\n",
       "        <td style=\"padding-left: 1em; padding-right: 1em; text-align: center; vertical-align: top\">0.5</td>\n",
       "    </tr>\n",
       "</table>\n",
       "[? rows x 5 columns]<br/>Note: Only the head of the SFrame is printed. This SFrame is lazily evaluated.<br/>You can use sf.materialize() to force materialization.\n",
       "</div>"
      ],
      "text/plain": [
       "Columns:\n",
       "\tapk\tint\n",
       "\tsimilar\tint\n",
       "\tscore\tfloat\n",
       "\trank\tint\n",
       "\tdistance\tfloat\n",
       "\n",
       "Rows: Unknown\n",
       "\n",
       "Data:\n",
       "+-------+---------+-------+------+----------+\n",
       "|  apk  | similar | score | rank | distance |\n",
       "+-------+---------+-------+------+----------+\n",
       "| 16393 |  18788  |  0.5  | 377  |   0.5    |\n",
       "+-------+---------+-------+------+----------+\n",
       "[? rows x 5 columns]\n",
       "Note: Only the head of the SFrame is printed. This SFrame is lazily evaluated.\n",
       "You can use sf.materialize() to force materialization."
      ]
     },
     "execution_count": 146,
     "metadata": {},
     "output_type": "execute_result"
    }
   ],
   "source": [
    "itms[(itms['apk']==16393)&(itms['similar']==18788)]"
   ]
  },
  {
   "cell_type": "code",
   "execution_count": null,
   "id": "planned-challenge",
   "metadata": {},
   "outputs": [],
   "source": []
  },
  {
   "cell_type": "code",
   "execution_count": null,
   "id": "reported-original",
   "metadata": {},
   "outputs": [],
   "source": []
  },
  {
   "cell_type": "code",
   "execution_count": null,
   "id": "representative-manor",
   "metadata": {},
   "outputs": [],
   "source": []
  },
  {
   "cell_type": "code",
   "execution_count": null,
   "id": "identical-calcium",
   "metadata": {},
   "outputs": [],
   "source": []
  },
  {
   "cell_type": "code",
   "execution_count": 208,
   "id": "coordinate-break",
   "metadata": {},
   "outputs": [],
   "source": [
    "\n",
    "def create_aggregating_net(gamma: float, apns, distance):\n",
    "    net = dict()\n",
    "\n",
    "    for a in apns:\n",
    "        insert = True\n",
    "        for n in net.keys():\n",
    "            # this is actually wrong, just because distance < gamma, does not mean that this is the closest anchor\n",
    "            if distance(a, n) <= gamma:\n",
    "                insert = False\n",
    "                net[n].append(a)\n",
    "                break  \n",
    "        if insert:\n",
    "            net[a] = list()\n",
    "\n",
    "    return net\n",
    "\n",
    "\n",
    "def create_aggregating_net2(gamma: float, apns, distance):\n",
    "    net = dict()\n",
    "    non_anchors = list()\n",
    "    for a in apns:\n",
    "        insert = True\n",
    "        for n in net.keys():\n",
    "            if distance(a, n) <= gamma:\n",
    "                insert = False\n",
    "                non_anchors.append(a)\n",
    "                break  \n",
    "        if insert:\n",
    "            net[a] = list()\n",
    "\n",
    "    for na in non_anchors:\n",
    "        byd = sorted(net.keys(), key=lambda x: distance(x, na))\n",
    "        #print(byd)\n",
    "        net[byd[0]].append(na)\n",
    "        \n",
    "            \n",
    "    return net\n"
   ]
  },
  {
   "cell_type": "code",
   "execution_count": null,
   "id": "secret-understanding",
   "metadata": {},
   "outputs": [],
   "source": []
  },
  {
   "cell_type": "code",
   "execution_count": 156,
   "id": "experimental-marking",
   "metadata": {},
   "outputs": [],
   "source": [
    "\n",
    "def d(p1, p2) -> float:\n",
    "    v = [(x-y)**2 for x,y in zip(p1, p2)]\n",
    "    return np.sqrt(sum(v))"
   ]
  },
  {
   "cell_type": "code",
   "execution_count": 157,
   "id": "ordinary-relationship",
   "metadata": {},
   "outputs": [],
   "source": [
    "from sklearn.datasets import make_blobs\n",
    "\n",
    "num_points = 50\n",
    "centers = [[1, 1], [-1, -1]]\n",
    "X, y = make_blobs(n_samples=num_points, centers=centers, n_features=2, cluster_std=0.8, random_state=42)\n",
    "\n",
    "points = list(zip(X[:, 0], X[:, 1]))\n",
    "labels=y"
   ]
  },
  {
   "cell_type": "code",
   "execution_count": 209,
   "id": "conscious-triumph",
   "metadata": {},
   "outputs": [],
   "source": [
    "net = create_aggregating_net(gamma=1.5, apns = list(zip(X[:, 0], X[:, 1])), distance=d)\n",
    "net2 = create_aggregating_net2(gamma=1.5, apns=list(zip(X[:, 0], X[:, 1])), distance=d)"
   ]
  },
  {
   "cell_type": "code",
   "execution_count": 198,
   "id": "single-symposium",
   "metadata": {},
   "outputs": [
    {
     "data": {
      "image/png": "[encoded data removed]",
      "text/plain": [
       "<Figure size 432x288 with 1 Axes>"
      ]
     },
     "metadata": {
      "image/png": {
       "height": 248,
       "width": 370
      },
      "needs_background": "light"
     },
     "output_type": "display_data"
    }
   ],
   "source": [
    "\n",
    "for k, v in net.items():\n",
    "    if any(v):\n",
    "        pc = plt.scatter(k[0], k[1], marker='*')\n",
    "        x, y =list(zip(*v))\n",
    "        plt.scatter(x, y, facecolor=pc.get_edgecolor())"
   ]
  },
  {
   "cell_type": "code",
   "execution_count": 225,
   "id": "adjusted-shark",
   "metadata": {},
   "outputs": [
    {
     "data": {
      "image/png": "[encoded data removed]",
      "text/plain": [
       "<Figure size 432x288 with 1 Axes>"
      ]
     },
     "metadata": {
      "image/png": {
       "height": 248,
       "width": 370
      },
      "needs_background": "light"
     },
     "output_type": "display_data"
    }
   ],
   "source": [
    "\n",
    "for k, v in net2.items():\n",
    "    if any(v):\n",
    "        pc = plt.scatter(k[0], k[1], marker='*')\n",
    "        x, y =list(zip(*v))\n",
    "        plt.scatter(x, y, facecolor=pc.get_edgecolor())\n"
   ]
  },
  {
   "cell_type": "code",
   "execution_count": null,
   "id": "opening-newman",
   "metadata": {},
   "outputs": [],
   "source": []
  },
  {
   "cell_type": "code",
   "execution_count": null,
   "id": "weekly-driving",
   "metadata": {},
   "outputs": [],
   "source": []
  },
  {
   "cell_type": "code",
   "execution_count": null,
   "id": "boolean-programming",
   "metadata": {},
   "outputs": [],
   "source": []
  },
  {
   "cell_type": "code",
   "execution_count": 226,
   "id": "arabic-address",
   "metadata": {},
   "outputs": [],
   "source": [
    "# FIxing it for tc-based solution"
   ]
  },
  {
   "cell_type": "code",
   "execution_count": 254,
   "id": "aboriginal-arctic",
   "metadata": {},
   "outputs": [],
   "source": [
    "with open('../res/p0.txt', 'r') as f:\n",
    "    p0=np.loadtxt(f, dtype=int)\n",
    "    \n",
    "spart = mw.filter_by(values=list(map(int, p0)), column_name='apk')"
   ]
  },
  {
   "cell_type": "code",
   "execution_count": 338,
   "id": "angry-costume",
   "metadata": {},
   "outputs": [],
   "source": [
    "def get_anchors(data, gamma):\n",
    "    apks = data['apk'].unique()\n",
    "    k = apks.shape[0]\n",
    "    sim_recom = tc.item_similarity_recommender.create(data, \n",
    "                                                      user_id='function', \n",
    "                                                      item_id='apk', \n",
    "                                                      similarity_type='jaccard', \n",
    "                                                      only_top_k=k, \n",
    "                                                      degree_approximation_threshold=15*4096, \n",
    "                                                      threshold=0.0, verbose=False)\n",
    "    itms = sim_recom.get_similar_items(apks, k=k)\n",
    "    # missing more \"distant nodes\", \"not aggregating nodes\"\n",
    "    # setup a list in form: apk [apk1, apk2,...]\n",
    "    # all aggregated items will be closer than given radius, ie, they are def. not anchors\n",
    "    # the list will be used to build network in a greedy way\n",
    "    gw=itms[itms['score']>=1-gamma].groupby(key_column_names='apk', operations={'sims': agg.DISTINCT('similar')})\n",
    "    \n",
    "    ws = set(gw['apk'])\n",
    "    anchors = list()\n",
    "    already_added = set()\n",
    "    # greedy building net\n",
    "    # start with first row apk1, [apk2, apk3, apk4...], \n",
    "    # apk1 is added to network, \n",
    "    # remove all apks that are closer than radius (ie. all from the list) from the following rows\n",
    "    while len(ws)>0:\n",
    "        w= ws.pop()\n",
    "        anchors.append(w)\n",
    "\n",
    "        # all apks closer than given radius to this anchors\n",
    "        simp = set(gw[gw['apk']==w]['sims'][0])\n",
    "        simp = simp - already_added\n",
    "            \n",
    "        already_added.update(simp)\n",
    "        already_added.add(w)\n",
    "\n",
    "        # remove its aggregates \n",
    "        ws = ws - simp\n",
    "    \n",
    "    # move to nodes pairs that are at distance > radius\n",
    "    # there should be no close nodes to that one, otherwise they\n",
    "    # would appear in the previous loop\n",
    "    if len(already_added)> 0:\n",
    "        nds = apks.filter_by(list(already_added), exclude=True)\n",
    "        \n",
    "    # special case for gamma=0\n",
    "    else:\n",
    "        nds = apks\n",
    "        \n",
    "    \n",
    "    anchors = anchors + list(nds)\n",
    "        \n",
    "    return anchors\n"
   ]
  },
  {
   "cell_type": "code",
   "execution_count": 339,
   "id": "dynamic-sussex",
   "metadata": {},
   "outputs": [],
   "source": [
    "nn = new_f_create_network(data=spart, gamma=.5)"
   ]
  },
  {
   "cell_type": "code",
   "execution_count": 341,
   "id": "distinct-uncle",
   "metadata": {},
   "outputs": [
    {
     "data": {
      "text/plain": [
       "536"
      ]
     },
     "execution_count": 341,
     "metadata": {},
     "output_type": "execute_result"
    }
   ],
   "source": [
    "len(nn)"
   ]
  },
  {
   "cell_type": "code",
   "execution_count": 238,
   "id": "loaded-maria",
   "metadata": {},
   "outputs": [],
   "source": [
    "# check if there are not anchors closer to each other than gamma=0.5\n"
   ]
  },
  {
   "cell_type": "code",
   "execution_count": 342,
   "id": "bacterial-chest",
   "metadata": {},
   "outputs": [],
   "source": [
    "anchor_data = mw.filter_by(column_name='apk', values=nn)"
   ]
  },
  {
   "cell_type": "code",
   "execution_count": 343,
   "id": "verified-feature",
   "metadata": {},
   "outputs": [],
   "source": [
    "sim_recom = tc.item_similarity_recommender.create(anchor_data, \n",
    "                                                      user_id='function', \n",
    "                                                      item_id='apk', \n",
    "                                                      similarity_type='jaccard', \n",
    "                                                      only_top_k=10000, \n",
    "                                                      degree_approximation_threshold=15*4096, \n",
    "                                                      threshold=0.0, verbose=False)\n"
   ]
  },
  {
   "cell_type": "code",
   "execution_count": 344,
   "id": "seventh-indian",
   "metadata": {},
   "outputs": [],
   "source": [
    "itms = sim_recom.get_similar_items(nn, k=10000)"
   ]
  },
  {
   "cell_type": "code",
   "execution_count": 345,
   "id": "naughty-difference",
   "metadata": {},
   "outputs": [],
   "source": [
    "itms['distance'] = 1.0 - itms['score']"
   ]
  },
  {
   "cell_type": "code",
   "execution_count": 346,
   "id": "alive-length",
   "metadata": {},
   "outputs": [
    {
     "data": {
      "text/html": [
       "<div style=\"max-height:1000px;max-width:1500px;overflow:auto;\"><table frame=\"box\" rules=\"cols\">\n",
       "    <tr>\n",
       "        <th style=\"padding-left: 1em; padding-right: 1em; text-align: center\">apk</th>\n",
       "        <th style=\"padding-left: 1em; padding-right: 1em; text-align: center\">similar</th>\n",
       "        <th style=\"padding-left: 1em; padding-right: 1em; text-align: center\">score</th>\n",
       "        <th style=\"padding-left: 1em; padding-right: 1em; text-align: center\">rank</th>\n",
       "        <th style=\"padding-left: 1em; padding-right: 1em; text-align: center\">distance</th>\n",
       "    </tr>\n",
       "</table>\n",
       "[? rows x 5 columns]<br/>Note: Only the head of the SFrame is printed. This SFrame is lazily evaluated.<br/>You can use sf.materialize() to force materialization.\n",
       "</div>"
      ],
      "text/plain": [
       "Columns:\n",
       "\tapk\tint\n",
       "\tsimilar\tint\n",
       "\tscore\tfloat\n",
       "\trank\tint\n",
       "\tdistance\tfloat\n",
       "\n",
       "Rows: Unknown\n",
       "\n",
       "Data:\n",
       "\t[]"
      ]
     },
     "execution_count": 346,
     "metadata": {},
     "output_type": "execute_result"
    }
   ],
   "source": [
    "itms[itms['distance']<.5]"
   ]
  },
  {
   "cell_type": "code",
   "execution_count": 247,
   "id": "pursuant-pulse",
   "metadata": {},
   "outputs": [],
   "source": [
    "# check if there are not apks farther than gamma\n",
    "# perform nn on the anchros if nn is > gamma it should have been an anchor"
   ]
  },
  {
   "cell_type": "code",
   "execution_count": 347,
   "id": "lonely-trash",
   "metadata": {},
   "outputs": [],
   "source": [
    "apks = [a for a in p0 if a not in nn]"
   ]
  },
  {
   "cell_type": "code",
   "execution_count": 348,
   "id": "equivalent-acrobat",
   "metadata": {},
   "outputs": [
    {
     "data": {
      "text/plain": [
       "(1715, 536, 2251)"
      ]
     },
     "execution_count": 348,
     "metadata": {},
     "output_type": "execute_result"
    }
   ],
   "source": [
    "len(apks), len(nn), len(p0)"
   ]
  },
  {
   "cell_type": "code",
   "execution_count": 349,
   "id": "grateful-terrorist",
   "metadata": {},
   "outputs": [],
   "source": [
    "#anch = nn.copy()x\n",
    "#anch.extend(apks)\n",
    "#allt = data.filter_by(values=anch, column_name='apk')\n",
    "\n",
    "m = len(p0)\n",
    "sim_recom = tc.item_similarity_recommender.create(\n",
    "    spart, \n",
    "    user_id='function', \n",
    "    item_id='apk', \n",
    "    similarity_type='jaccard', \n",
    "    degree_approximation_threshold=15*4096,\n",
    "    only_top_k=m, verbose=False)\n",
    "\n",
    "# smaller k could be an optimization here\n",
    "items =sim_recom.get_similar_items(apks, k=m)\n",
    "# recomendations excluding similarity between apks\n",
    "fitems = items.filter_by(values=apks, column_name='similar', exclude=True)\n",
    "fitems['distance'] = 1.0 - fitems['score']\n"
   ]
  },
  {
   "cell_type": "code",
   "execution_count": 350,
   "id": "active-browse",
   "metadata": {},
   "outputs": [],
   "source": [
    "gwrr = fitems.groupby(key_column_names=['apk'], \n",
    "          operations={'nn': tc.aggregate.ARGMIN('distance', 'similar'), \n",
    "                      'distan': tc.aggregate.ARGMIN('distance', 'distance')})\n"
   ]
  },
  {
   "cell_type": "code",
   "execution_count": 355,
   "id": "resistant-latin",
   "metadata": {},
   "outputs": [
    {
     "data": {
      "text/html": [
       "<div style=\"max-height:1000px;max-width:1500px;overflow:auto;\"><table frame=\"box\" rules=\"cols\">\n",
       "    <tr>\n",
       "        <th style=\"padding-left: 1em; padding-right: 1em; text-align: center\">apk</th>\n",
       "        <th style=\"padding-left: 1em; padding-right: 1em; text-align: center\">nn</th>\n",
       "        <th style=\"padding-left: 1em; padding-right: 1em; text-align: center\">distan</th>\n",
       "    </tr>\n",
       "    <tr>\n",
       "        <td style=\"padding-left: 1em; padding-right: 1em; text-align: center; vertical-align: top\">5783</td>\n",
       "        <td style=\"padding-left: 1em; padding-right: 1em; text-align: center; vertical-align: top\">21088</td>\n",
       "        <td style=\"padding-left: 1em; padding-right: 1em; text-align: center; vertical-align: top\">0.3636363744735718</td>\n",
       "    </tr>\n",
       "    <tr>\n",
       "        <td style=\"padding-left: 1em; padding-right: 1em; text-align: center; vertical-align: top\">11106</td>\n",
       "        <td style=\"padding-left: 1em; padding-right: 1em; text-align: center; vertical-align: top\">16507</td>\n",
       "        <td style=\"padding-left: 1em; padding-right: 1em; text-align: center; vertical-align: top\">0.002100825309753418</td>\n",
       "    </tr>\n",
       "    <tr>\n",
       "        <td style=\"padding-left: 1em; padding-right: 1em; text-align: center; vertical-align: top\">1517</td>\n",
       "        <td style=\"padding-left: 1em; padding-right: 1em; text-align: center; vertical-align: top\">12897</td>\n",
       "        <td style=\"padding-left: 1em; padding-right: 1em; text-align: center; vertical-align: top\">0.0009049773216247559</td>\n",
       "    </tr>\n",
       "    <tr>\n",
       "        <td style=\"padding-left: 1em; padding-right: 1em; text-align: center; vertical-align: top\">25944</td>\n",
       "        <td style=\"padding-left: 1em; padding-right: 1em; text-align: center; vertical-align: top\">13131</td>\n",
       "        <td style=\"padding-left: 1em; padding-right: 1em; text-align: center; vertical-align: top\">0.3333333134651184</td>\n",
       "    </tr>\n",
       "    <tr>\n",
       "        <td style=\"padding-left: 1em; padding-right: 1em; text-align: center; vertical-align: top\">11120</td>\n",
       "        <td style=\"padding-left: 1em; padding-right: 1em; text-align: center; vertical-align: top\">15412</td>\n",
       "        <td style=\"padding-left: 1em; padding-right: 1em; text-align: center; vertical-align: top\">0.006268739700317383</td>\n",
       "    </tr>\n",
       "    <tr>\n",
       "        <td style=\"padding-left: 1em; padding-right: 1em; text-align: center; vertical-align: top\">8272</td>\n",
       "        <td style=\"padding-left: 1em; padding-right: 1em; text-align: center; vertical-align: top\">4104</td>\n",
       "        <td style=\"padding-left: 1em; padding-right: 1em; text-align: center; vertical-align: top\">0.1937071681022644</td>\n",
       "    </tr>\n",
       "    <tr>\n",
       "        <td style=\"padding-left: 1em; padding-right: 1em; text-align: center; vertical-align: top\">23845</td>\n",
       "        <td style=\"padding-left: 1em; padding-right: 1em; text-align: center; vertical-align: top\">16393</td>\n",
       "        <td style=\"padding-left: 1em; padding-right: 1em; text-align: center; vertical-align: top\">0.0</td>\n",
       "    </tr>\n",
       "    <tr>\n",
       "        <td style=\"padding-left: 1em; padding-right: 1em; text-align: center; vertical-align: top\">14153</td>\n",
       "        <td style=\"padding-left: 1em; padding-right: 1em; text-align: center; vertical-align: top\">16393</td>\n",
       "        <td style=\"padding-left: 1em; padding-right: 1em; text-align: center; vertical-align: top\">0.0</td>\n",
       "    </tr>\n",
       "    <tr>\n",
       "        <td style=\"padding-left: 1em; padding-right: 1em; text-align: center; vertical-align: top\">6380</td>\n",
       "        <td style=\"padding-left: 1em; padding-right: 1em; text-align: center; vertical-align: top\">661</td>\n",
       "        <td style=\"padding-left: 1em; padding-right: 1em; text-align: center; vertical-align: top\">0.19860142469406128</td>\n",
       "    </tr>\n",
       "    <tr>\n",
       "        <td style=\"padding-left: 1em; padding-right: 1em; text-align: center; vertical-align: top\">21355</td>\n",
       "        <td style=\"padding-left: 1em; padding-right: 1em; text-align: center; vertical-align: top\">21522</td>\n",
       "        <td style=\"padding-left: 1em; padding-right: 1em; text-align: center; vertical-align: top\">0.0</td>\n",
       "    </tr>\n",
       "</table>\n",
       "[1715 rows x 3 columns]<br/>Note: Only the head of the SFrame is printed.<br/>You can use print_rows(num_rows=m, num_columns=n) to print more rows and columns.\n",
       "</div>"
      ],
      "text/plain": [
       "Columns:\n",
       "\tapk\tint\n",
       "\tnn\tint\n",
       "\tdistan\tfloat\n",
       "\n",
       "Rows: 1715\n",
       "\n",
       "Data:\n",
       "+-------+-------+-----------------------+\n",
       "|  apk  |   nn  |         distan        |\n",
       "+-------+-------+-----------------------+\n",
       "|  5783 | 21088 |   0.3636363744735718  |\n",
       "| 11106 | 16507 |  0.002100825309753418 |\n",
       "|  1517 | 12897 | 0.0009049773216247559 |\n",
       "| 25944 | 13131 |   0.3333333134651184  |\n",
       "| 11120 | 15412 |  0.006268739700317383 |\n",
       "|  8272 |  4104 |   0.1937071681022644  |\n",
       "| 23845 | 16393 |          0.0          |\n",
       "| 14153 | 16393 |          0.0          |\n",
       "|  6380 |  661  |  0.19860142469406128  |\n",
       "| 21355 | 21522 |          0.0          |\n",
       "+-------+-------+-----------------------+\n",
       "[1715 rows x 3 columns]\n",
       "Note: Only the head of the SFrame is printed.\n",
       "You can use print_rows(num_rows=m, num_columns=n) to print more rows and columns."
      ]
     },
     "execution_count": 355,
     "metadata": {},
     "output_type": "execute_result"
    }
   ],
   "source": [
    "gwrr"
   ]
  },
  {
   "cell_type": "code",
   "execution_count": 351,
   "id": "greek-activation",
   "metadata": {},
   "outputs": [
    {
     "data": {
      "text/html": [
       "<div style=\"max-height:1000px;max-width:1500px;overflow:auto;\"><table frame=\"box\" rules=\"cols\">\n",
       "    <tr>\n",
       "        <th style=\"padding-left: 1em; padding-right: 1em; text-align: center\">apk</th>\n",
       "        <th style=\"padding-left: 1em; padding-right: 1em; text-align: center\">nn</th>\n",
       "        <th style=\"padding-left: 1em; padding-right: 1em; text-align: center\">distan</th>\n",
       "    </tr>\n",
       "</table>\n",
       "[? rows x 3 columns]<br/>Note: Only the head of the SFrame is printed. This SFrame is lazily evaluated.<br/>You can use sf.materialize() to force materialization.\n",
       "</div>"
      ],
      "text/plain": [
       "Columns:\n",
       "\tapk\tint\n",
       "\tnn\tint\n",
       "\tdistan\tfloat\n",
       "\n",
       "Rows: Unknown\n",
       "\n",
       "Data:\n",
       "\t[]"
      ]
     },
     "execution_count": 351,
     "metadata": {},
     "output_type": "execute_result"
    }
   ],
   "source": [
    "gwrr[gwrr['distan']>0.5]"
   ]
  },
  {
   "cell_type": "code",
   "execution_count": 354,
   "id": "vital-brave",
   "metadata": {},
   "outputs": [
    {
     "data": {
      "text/html": [
       "<div style=\"max-height:1000px;max-width:1500px;overflow:auto;\"><table frame=\"box\" rules=\"cols\">\n",
       "    <tr>\n",
       "        <th style=\"padding-left: 1em; padding-right: 1em; text-align: center\">apk</th>\n",
       "        <th style=\"padding-left: 1em; padding-right: 1em; text-align: center\">nn</th>\n",
       "        <th style=\"padding-left: 1em; padding-right: 1em; text-align: center\">distan</th>\n",
       "    </tr>\n",
       "    <tr>\n",
       "        <td style=\"padding-left: 1em; padding-right: 1em; text-align: center; vertical-align: top\">5783</td>\n",
       "        <td style=\"padding-left: 1em; padding-right: 1em; text-align: center; vertical-align: top\">21088</td>\n",
       "        <td style=\"padding-left: 1em; padding-right: 1em; text-align: center; vertical-align: top\">0.3636363744735718</td>\n",
       "    </tr>\n",
       "    <tr>\n",
       "        <td style=\"padding-left: 1em; padding-right: 1em; text-align: center; vertical-align: top\">11106</td>\n",
       "        <td style=\"padding-left: 1em; padding-right: 1em; text-align: center; vertical-align: top\">16507</td>\n",
       "        <td style=\"padding-left: 1em; padding-right: 1em; text-align: center; vertical-align: top\">0.002100825309753418</td>\n",
       "    </tr>\n",
       "    <tr>\n",
       "        <td style=\"padding-left: 1em; padding-right: 1em; text-align: center; vertical-align: top\">1517</td>\n",
       "        <td style=\"padding-left: 1em; padding-right: 1em; text-align: center; vertical-align: top\">12897</td>\n",
       "        <td style=\"padding-left: 1em; padding-right: 1em; text-align: center; vertical-align: top\">0.0009049773216247559</td>\n",
       "    </tr>\n",
       "    <tr>\n",
       "        <td style=\"padding-left: 1em; padding-right: 1em; text-align: center; vertical-align: top\">25944</td>\n",
       "        <td style=\"padding-left: 1em; padding-right: 1em; text-align: center; vertical-align: top\">13131</td>\n",
       "        <td style=\"padding-left: 1em; padding-right: 1em; text-align: center; vertical-align: top\">0.3333333134651184</td>\n",
       "    </tr>\n",
       "    <tr>\n",
       "        <td style=\"padding-left: 1em; padding-right: 1em; text-align: center; vertical-align: top\">11120</td>\n",
       "        <td style=\"padding-left: 1em; padding-right: 1em; text-align: center; vertical-align: top\">15412</td>\n",
       "        <td style=\"padding-left: 1em; padding-right: 1em; text-align: center; vertical-align: top\">0.006268739700317383</td>\n",
       "    </tr>\n",
       "    <tr>\n",
       "        <td style=\"padding-left: 1em; padding-right: 1em; text-align: center; vertical-align: top\">8272</td>\n",
       "        <td style=\"padding-left: 1em; padding-right: 1em; text-align: center; vertical-align: top\">4104</td>\n",
       "        <td style=\"padding-left: 1em; padding-right: 1em; text-align: center; vertical-align: top\">0.1937071681022644</td>\n",
       "    </tr>\n",
       "    <tr>\n",
       "        <td style=\"padding-left: 1em; padding-right: 1em; text-align: center; vertical-align: top\">23845</td>\n",
       "        <td style=\"padding-left: 1em; padding-right: 1em; text-align: center; vertical-align: top\">16393</td>\n",
       "        <td style=\"padding-left: 1em; padding-right: 1em; text-align: center; vertical-align: top\">0.0</td>\n",
       "    </tr>\n",
       "    <tr>\n",
       "        <td style=\"padding-left: 1em; padding-right: 1em; text-align: center; vertical-align: top\">14153</td>\n",
       "        <td style=\"padding-left: 1em; padding-right: 1em; text-align: center; vertical-align: top\">16393</td>\n",
       "        <td style=\"padding-left: 1em; padding-right: 1em; text-align: center; vertical-align: top\">0.0</td>\n",
       "    </tr>\n",
       "    <tr>\n",
       "        <td style=\"padding-left: 1em; padding-right: 1em; text-align: center; vertical-align: top\">6380</td>\n",
       "        <td style=\"padding-left: 1em; padding-right: 1em; text-align: center; vertical-align: top\">661</td>\n",
       "        <td style=\"padding-left: 1em; padding-right: 1em; text-align: center; vertical-align: top\">0.19860142469406128</td>\n",
       "    </tr>\n",
       "    <tr>\n",
       "        <td style=\"padding-left: 1em; padding-right: 1em; text-align: center; vertical-align: top\">21355</td>\n",
       "        <td style=\"padding-left: 1em; padding-right: 1em; text-align: center; vertical-align: top\">21522</td>\n",
       "        <td style=\"padding-left: 1em; padding-right: 1em; text-align: center; vertical-align: top\">0.0</td>\n",
       "    </tr>\n",
       "</table>\n",
       "[1715 rows x 3 columns]<br/>Note: Only the head of the SFrame is printed.<br/>You can use print_rows(num_rows=m, num_columns=n) to print more rows and columns.\n",
       "</div>"
      ],
      "text/plain": [
       "Columns:\n",
       "\tapk\tint\n",
       "\tnn\tint\n",
       "\tdistan\tfloat\n",
       "\n",
       "Rows: 1715\n",
       "\n",
       "Data:\n",
       "+-------+-------+-----------------------+\n",
       "|  apk  |   nn  |         distan        |\n",
       "+-------+-------+-----------------------+\n",
       "|  5783 | 21088 |   0.3636363744735718  |\n",
       "| 11106 | 16507 |  0.002100825309753418 |\n",
       "|  1517 | 12897 | 0.0009049773216247559 |\n",
       "| 25944 | 13131 |   0.3333333134651184  |\n",
       "| 11120 | 15412 |  0.006268739700317383 |\n",
       "|  8272 |  4104 |   0.1937071681022644  |\n",
       "| 23845 | 16393 |          0.0          |\n",
       "| 14153 | 16393 |          0.0          |\n",
       "|  6380 |  661  |  0.19860142469406128  |\n",
       "| 21355 | 21522 |          0.0          |\n",
       "+-------+-------+-----------------------+\n",
       "[1715 rows x 3 columns]\n",
       "Note: Only the head of the SFrame is printed.\n",
       "You can use print_rows(num_rows=m, num_columns=n) to print more rows and columns."
      ]
     },
     "execution_count": 354,
     "metadata": {},
     "output_type": "execute_result"
    }
   ],
   "source": [
    "gwrr"
   ]
  },
  {
   "cell_type": "code",
   "execution_count": null,
   "id": "cleared-beach",
   "metadata": {},
   "outputs": [],
   "source": []
  },
  {
   "cell_type": "code",
   "execution_count": null,
   "id": "digital-cannon",
   "metadata": {},
   "outputs": [],
   "source": []
  },
  {
   "cell_type": "code",
   "execution_count": null,
   "id": "alpine-failure",
   "metadata": {},
   "outputs": [],
   "source": []
  },
  {
   "cell_type": "code",
   "execution_count": 422,
   "id": "directed-taxation",
   "metadata": {},
   "outputs": [],
   "source": [
    "#all in one:\n",
    "def all_in_one_tc(data, gamma):\n",
    "    apks = data['apk'].unique()\n",
    "    k = apks.shape[0]\n",
    "    sim_recom = tc.item_similarity_recommender.create(data, \n",
    "                                                      user_id='function', \n",
    "                                                      item_id='apk', \n",
    "                                                      similarity_type='jaccard', \n",
    "                                                      only_top_k=k, \n",
    "                                                      degree_approximation_threshold=15*4096, \n",
    "                                                      threshold=0.0, verbose=False)\n",
    "    itms = sim_recom.get_similar_items(apks, k=k)\n",
    "    # missing more \"distant nodes\", \"not aggregating nodes\"\n",
    "    # setup a list in form: apk [apk1, apk2,...]\n",
    "    # all aggregated items will be closer than given radius, ie, they are def. not anchors\n",
    "    # the list will be used to build network in a greedy way\n",
    "    gw=itms[itms['score']>=1-gamma].groupby(key_column_names='apk', operations={'sims': agg.DISTINCT('similar')})\n",
    "    \n",
    "    ws = set(gw['apk'])\n",
    "    anchors = list()\n",
    "    already_added = set()\n",
    "    # greedy building net\n",
    "    # start with first row apk1, [apk2, apk3, apk4...], \n",
    "    # apk1 is added to network, \n",
    "    # remove all apks that are closer than radius (ie. all from the list) from the following rows\n",
    "    while len(ws)>0:\n",
    "        w= ws.pop()\n",
    "        anchors.append(w)\n",
    "\n",
    "        # all apks closer than given radius to this anchors\n",
    "        simp = set(gw[gw['apk']==w]['sims'][0])\n",
    "        simp = simp - already_added\n",
    "            \n",
    "        already_added.update(simp)\n",
    "        already_added.add(w)\n",
    "\n",
    "        # remove its aggregates \n",
    "        ws = ws - simp\n",
    "    \n",
    "    # move to nodes pairs that are at distance > radius\n",
    "    # there should be no close nodes to that one, otherwise they\n",
    "    # would appear in the previous loop\n",
    "    if len(already_added)> 0:\n",
    "        nds = apks.filter_by(list(already_added), exclude=True)\n",
    "        \n",
    "    # special case for gamma=0\n",
    "    else:\n",
    "        nds = apks\n",
    "        \n",
    "    \n",
    "    anchors = anchors + list(nds)\n",
    "    \n",
    "    #following is equivallent to NN search on just created anchors:\n",
    "    # done here to reuse existing recommender\n",
    "    \n",
    "    # recomendations excluding similarity between apks\n",
    "    fitems = itms.filter_by(values=anchors, column_name='apk',exclude=True).filter_by(values=anchors,column_name='similar')\n",
    "    \n",
    "    gwrrd = fitems.groupby(key_column_names=['apk'], operations={'nn': tc.aggregate.ARGMAX('score', 'similar')})\n",
    "    r = gwrrd.groupby(key_column_names=['nn'], operations={'aggregates': agg.DISTINCT('apk')})\n",
    "    net = r.to_dataframe().set_index('nn').to_dict(orient='dict')['aggregates']\n",
    "\n",
    "    # not used anchors added:\n",
    "    net.update({an:[] for an in nw if an not in net})\n",
    "    return net"
   ]
  },
  {
   "cell_type": "code",
   "execution_count": 423,
   "id": "stopped-sodium",
   "metadata": {},
   "outputs": [],
   "source": [
    "net = all_in_one_tc(data=spart, gamma=0.5)"
   ]
  },
  {
   "cell_type": "code",
   "execution_count": 424,
   "id": "intended-delaware",
   "metadata": {},
   "outputs": [],
   "source": [
    "# some checks:"
   ]
  },
  {
   "cell_type": "code",
   "execution_count": 425,
   "id": "offshore-lancaster",
   "metadata": {},
   "outputs": [
    {
     "data": {
      "text/plain": [
       "(2251, 2251)"
      ]
     },
     "execution_count": 425,
     "metadata": {},
     "output_type": "execute_result"
    }
   ],
   "source": [
    "# is all data added:\n",
    "sum(map(len, net.values())) + len(net), len(p0)"
   ]
  },
  {
   "cell_type": "code",
   "execution_count": 426,
   "id": "changed-librarian",
   "metadata": {},
   "outputs": [],
   "source": [
    "# check if aggregates are close to thier anchors:\n",
    "gamma = 0.5\n",
    "for k,v in net.items():\n",
    "    for vi in v:\n",
    "        if distance(vi,k)>gamma:\n",
    "            print(\"Wrong assignment {k} {vi}\")"
   ]
  },
  {
   "cell_type": "code",
   "execution_count": 427,
   "id": "automatic-advantage",
   "metadata": {},
   "outputs": [],
   "source": [
    "# check anchor distances:\n",
    "nk = list(net.keys())\n",
    "for i,e in enumerate(nk):\n",
    "    for f in nk[i+1:]:\n",
    "        if distance(e,f)<gamma:\n",
    "            print(\"Wrong anchors {e} {f}\")"
   ]
  },
  {
   "cell_type": "code",
   "execution_count": 428,
   "id": "innocent-repeat",
   "metadata": {},
   "outputs": [
    {
     "data": {
      "application/vnd.jupyter.widget-view+json": {
       "model_id": "d62f9211a9234b7ab6d016311757d2cc",
       "version_major": 2,
       "version_minor": 0
      },
      "text/plain": [
       "  0%|          | 0/536 [00:00<?, ?it/s]"
      ]
     },
     "metadata": {},
     "output_type": "display_data"
    }
   ],
   "source": [
    "# check if there is closer anchor:\n",
    "for k,v in tqdm(net.items()):\n",
    "    for vi in v:\n",
    "        for k2 in nk:\n",
    "            if k2==k:\n",
    "                continue\n",
    "            if distance(vi, k2)<distance(vi, k):\n",
    "                print(f\"Wrong attachement: {vi}-{k} should be {k2}\")"
   ]
  },
  {
   "cell_type": "code",
   "execution_count": null,
   "id": "traditional-slope",
   "metadata": {},
   "outputs": [],
   "source": []
  }
 ],
 "metadata": {
  "kernelspec": {
   "display_name": "Python 3",
   "language": "python",
   "name": "python3"
  },
  "language_info": {
   "codemirror_mode": {
    "name": "ipython",
    "version": 3
   },
   "file_extension": ".py",
   "mimetype": "text/x-python",
   "name": "python",
   "nbconvert_exporter": "python",
   "pygments_lexer": "ipython3",
   "version": "3.8.6"
  }
 },
 "nbformat": 4,
 "nbformat_minor": 5
}
