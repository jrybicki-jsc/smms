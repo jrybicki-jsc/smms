{
 "cells": [
  {
   "cell_type": "code",
   "execution_count": 1,
   "id": "legal-dakota",
   "metadata": {},
   "outputs": [],
   "source": [
    "import plotly.express as px\n",
    "import numpy as np\n",
    "import pandas as pd\n",
    "import pickle\n",
    "from sklearn.metrics import precision_recall_curve, roc_curve, roc_auc_score, auc\n",
    "import pickle\n",
    "import turicreate as tc\n",
    "import re\n",
    "import glob\n",
    "from utils import load_net\n",
    "import plotly.graph_objects as go"
   ]
  },
  {
   "cell_type": "code",
   "execution_count": 2,
   "id": "dutch-festival",
   "metadata": {},
   "outputs": [],
   "source": [
    "labels = pd.read_csv('../res/newclusterres/apks_labels_hashed.csv', index_col=0)"
   ]
  },
  {
   "cell_type": "code",
   "execution_count": 18,
   "id": "green-literature",
   "metadata": {},
   "outputs": [],
   "source": [
    "def read_and_conv(fname, labels):\n",
    "    with open(fname, 'rb') as f:\n",
    "        eres = pickle.load(f)\n",
    "    tblre = dict()\n",
    "    for r, val in eres:\n",
    "        tblre[r['apk']] = [r['nn'], val, not labels.loc[r['apk']]['malware_label']]\n",
    "    return pd.DataFrame.from_dict(tblre, orient='index', columns=[ 'nearest', 'prob', 'true_val'])\n",
    "f_size = 189452\n",
    "#glob.glob('../res/newclusterres/streamed-0.65-0.2/')\n",
    "\n",
    "def get_file_names(gamma, p_size):\n",
    "    eval_name = f\"../res/newclusterres/2ndrun/streamed-{gamma}-{p_size}/{gamma}-{p_size}-evalresults.pickle\"\n",
    "    net_name = f\"../res/newclusterres/2ndrun/streamed-{gamma}-{p_size}/merged-{gamma}-0-tc-nets-voting.pickle\"\n",
    "    return eval_name, net_name\n",
    "    \n",
    "def read_go(gammas, p_sizes, get_file_names=get_file_names):\n",
    "    fnames = dict()\n",
    "    aucs = dict()\n",
    "    sizes = dict()\n",
    "    for p_size in p_sizes: # list(range(2,10,2)):\n",
    "        a = list()\n",
    "        b = list()\n",
    "        c = list()\n",
    "        for gamma in gammas:\n",
    "            eval_name, net_name = get_file_names(gamma=gamma, p_size=p_size)\n",
    "            _, net = load_net(net_name)\n",
    "            c.append(len(net))\n",
    "            a.append(eval_name)\n",
    "            df = read_and_conv(eval_name, labels)\n",
    "            [p1, r1, thresholds] = precision_recall_curve(df['true_val'], df['prob'])\n",
    "            b.append(auc(r1, p1))\n",
    "\n",
    "        fnames[p_size] = a\n",
    "        aucs[p_size] = b\n",
    "        sizes[p_size] = c\n",
    "        \n",
    "    return aucs, sizes\n",
    "\n",
    "def fix_keys(di):\n",
    "    cvt = lambda x: x*10 if x>1 else x\n",
    "    return {cvt(float(k)): v for k,v in di.items()}\n",
    "    "
   ]
  },
  {
   "cell_type": "code",
   "execution_count": 38,
   "id": "adaptive-lending",
   "metadata": {},
   "outputs": [],
   "source": [
    "gammas = [ 0.65, 0.75, 0.85, 0.95] # 0.3, 0.35, 0.4, 0.45, 0.5,0.6,\n",
    "p_sizes_new = [f\"0.0{a}\" for a in range(2,10,2)] + ['0.10', '0.15']\n",
    "\n",
    "aucs_new, sizes_new = read_go(gammas=gammas, p_sizes=p_sizes_new)\n",
    "\n",
    "p_sizes_old = [a for a in range(2,10,2)]\n",
    "aucs_old, sizes_old = read_go(gammas=gammas, p_sizes=p_sizes_old)\n",
    "\n",
    "sizes = fix_keys(dict(sizes_old, **sizes_new))\n",
    "aucs = fix_keys(dict(aucs_old, **aucs_new))\n"
   ]
  },
  {
   "cell_type": "code",
   "execution_count": 25,
   "id": "dutch-iraqi",
   "metadata": {},
   "outputs": [
    {
     "data": {
      "application/vnd.plotly.v1+json": {
       "config": {
        "plotlyServerURL": "https://plot.ly"
       },
       "data": [
        {
         "hovertemplate": "AuC: %{y:.3f}<br>Comp: %{x}<br>Epsilon: %{text}",
         "name": "0.02 %",
         "text": [
          "0.65",
          "0.75",
          "0.85",
          "0.95"
         ],
         "type": "scatter",
         "x": [
          0.0006386842049701244,
          0.0005225598040664653,
          0.00040115702130354917,
          0.00022697041994806073
         ],
         "y": [
          0.9640900573373125,
          0.9587324604370825,
          0.9532155740076259,
          0.9072548272358472
         ]
        },
        {
         "hovertemplate": "AuC: %{y:.3f}<br>Comp: %{x}<br>Epsilon: %{text}",
         "name": "0.04 %",
         "text": [
          "0.65",
          "0.75",
          "0.85",
          "0.95"
         ],
         "type": "scatter",
         "x": [
          0.0011137385723032746,
          0.0008973249160737284,
          0.0006228490593923527,
          0.00031670291155543354
         ],
         "y": [
          0.9644625791523597,
          0.9535253141743312,
          0.9412875591824481,
          0.9373816417869416
         ]
        },
        {
         "hovertemplate": "AuC: %{y:.3f}<br>Comp: %{x}<br>Epsilon: %{text}",
         "name": "0.06 %",
         "text": [
          "0.65",
          "0.75",
          "0.85",
          "0.95"
         ],
         "type": "scatter",
         "x": [
          0.0014304414838587083,
          0.0011559656271773325,
          0.0008287059519033845,
          0.00038004349386652026
         ],
         "y": [
          0.9713706260288089,
          0.9652098563521174,
          0.951777243581922,
          0.9178981165890701
         ]
        },
        {
         "hovertemplate": "AuC: %{y:.3f}<br>Comp: %{x}<br>Epsilon: %{text}",
         "name": "0.08 %",
         "text": [
          "0.65",
          "0.75",
          "0.85",
          "0.95"
         ],
         "type": "scatter",
         "x": [
          0.0017260308679771129,
          0.001377657665266136,
          0.0009501087346663007,
          0.00041699216688132086
         ],
         "y": [
          0.9738387376724518,
          0.9662475463920043,
          0.9570215017708206,
          0.9240688584288139
         ]
        },
        {
         "hovertemplate": "AuC: %{y:.3f}<br>Comp: %{x}<br>Epsilon: %{text}",
         "name": "0.1 %",
         "text": [
          "0.65",
          "0.75",
          "0.85",
          "0.95"
         ],
         "type": "scatter",
         "x": [
          0.0020638473069695754,
          0.0015729577940586533,
          0.001076789899288474,
          0.0004856111310516648
         ],
         "y": [
          0.9746783211072219,
          0.9646377248237223,
          0.9579048556570452,
          0.9029768898345998
         ]
        },
        {
         "hovertemplate": "AuC: %{y:.3f}<br>Comp: %{x}<br>Epsilon: %{text}",
         "name": "0.15 %",
         "text": [
          "0.65",
          "0.75",
          "0.85",
          "0.95"
         ],
         "type": "scatter",
         "x": [
          0.002707809893798957,
          0.0019899499609399743,
          0.0012932035555180204,
          0.0005911787682368093
         ],
         "y": [
          0.9776017544588833,
          0.9704311859033268,
          0.9597992058533937,
          0.9095686492915117
         ]
        },
        {
         "hovertemplate": "AuC: %{y:.3f}<br>Comp: %{x}<br>Epsilon: %{text}",
         "name": "20.0 %",
         "text": [
          "0.65",
          "0.75",
          "0.85",
          "0.95"
         ],
         "type": "scatter",
         "x": [
          0.0033464940987690812,
          0.0024544475645546103,
          0.00163629837636974,
          0.0006756328779849249
         ],
         "y": [
          0.9795756542668582,
          0.9740168264373068,
          0.9678238700010833,
          0.9439114579490893
         ]
        },
        {
         "hovertemplate": "AuC: %{y:.3f}<br>Comp: %{x}<br>Epsilon: %{text}",
         "name": "40.0 %",
         "text": [
          "0.65",
          "0.75",
          "0.85",
          "0.95"
         ],
         "type": "scatter",
         "x": [
          0.005183370985790596,
          0.0035892996642949136,
          0.0022591474357620926,
          0.0008445410974811562
         ],
         "y": [
          0.9803634320554648,
          0.9755436536541195,
          0.9732007533929042,
          0.9387437112114805
         ]
        },
        {
         "hovertemplate": "AuC: %{y:.3f}<br>Comp: %{x}<br>Epsilon: %{text}",
         "name": "60.0 %",
         "text": [
          "0.65",
          "0.75",
          "0.85",
          "0.95"
         ],
         "type": "scatter",
         "x": [
          0.006830226125878851,
          0.004634419272427845,
          0.0026550260752063845,
          0.0009606654983848152
         ],
         "y": [
          0.9791080640575174,
          0.9800957175707685,
          0.9706398759578949,
          0.9315948761684003
         ]
        },
        {
         "hovertemplate": "AuC: %{y:.3f}<br>Comp: %{x}<br>Epsilon: %{text}",
         "name": "80.0 %",
         "text": [
          "0.65",
          "0.75",
          "0.85",
          "0.95"
         ],
         "type": "scatter",
         "x": [
          0.008281781137174588,
          0.005394506260160885,
          0.003050904714650677,
          0.0010609547537107024
         ],
         "y": [
          0.9823092325046172,
          0.9811168407575404,
          0.9754726017098004,
          0.9452643571786422
         ]
        }
       ],
       "layout": {
        "hovermode": "x unified",
        "legend": {
         "title": {
          "text": "Size of the origin partition"
         }
        },
        "template": {
         "data": {
          "bar": [
           {
            "error_x": {
             "color": "#2a3f5f"
            },
            "error_y": {
             "color": "#2a3f5f"
            },
            "marker": {
             "line": {
              "color": "#E5ECF6",
              "width": 0.5
             }
            },
            "type": "bar"
           }
          ],
          "barpolar": [
           {
            "marker": {
             "line": {
              "color": "#E5ECF6",
              "width": 0.5
             }
            },
            "type": "barpolar"
           }
          ],
          "carpet": [
           {
            "aaxis": {
             "endlinecolor": "#2a3f5f",
             "gridcolor": "white",
             "linecolor": "white",
             "minorgridcolor": "white",
             "startlinecolor": "#2a3f5f"
            },
            "baxis": {
             "endlinecolor": "#2a3f5f",
             "gridcolor": "white",
             "linecolor": "white",
             "minorgridcolor": "white",
             "startlinecolor": "#2a3f5f"
            },
            "type": "carpet"
           }
          ],
          "choropleth": [
           {
            "colorbar": {
             "outlinewidth": 0,
             "ticks": ""
            },
            "type": "choropleth"
           }
          ],
          "contour": [
           {
            "colorbar": {
             "outlinewidth": 0,
             "ticks": ""
            },
            "colorscale": [
             [
              0,
              "#0d0887"
             ],
             [
              0.1111111111111111,
              "#46039f"
             ],
             [
              0.2222222222222222,
              "#7201a8"
             ],
             [
              0.3333333333333333,
              "#9c179e"
             ],
             [
              0.4444444444444444,
              "#bd3786"
             ],
             [
              0.5555555555555556,
              "#d8576b"
             ],
             [
              0.6666666666666666,
              "#ed7953"
             ],
             [
              0.7777777777777778,
              "#fb9f3a"
             ],
             [
              0.8888888888888888,
              "#fdca26"
             ],
             [
              1,
              "#f0f921"
             ]
            ],
            "type": "contour"
           }
          ],
          "contourcarpet": [
           {
            "colorbar": {
             "outlinewidth": 0,
             "ticks": ""
            },
            "type": "contourcarpet"
           }
          ],
          "heatmap": [
           {
            "colorbar": {
             "outlinewidth": 0,
             "ticks": ""
            },
            "colorscale": [
             [
              0,
              "#0d0887"
             ],
             [
              0.1111111111111111,
              "#46039f"
             ],
             [
              0.2222222222222222,
              "#7201a8"
             ],
             [
              0.3333333333333333,
              "#9c179e"
             ],
             [
              0.4444444444444444,
              "#bd3786"
             ],
             [
              0.5555555555555556,
              "#d8576b"
             ],
             [
              0.6666666666666666,
              "#ed7953"
             ],
             [
              0.7777777777777778,
              "#fb9f3a"
             ],
             [
              0.8888888888888888,
              "#fdca26"
             ],
             [
              1,
              "#f0f921"
             ]
            ],
            "type": "heatmap"
           }
          ],
          "heatmapgl": [
           {
            "colorbar": {
             "outlinewidth": 0,
             "ticks": ""
            },
            "colorscale": [
             [
              0,
              "#0d0887"
             ],
             [
              0.1111111111111111,
              "#46039f"
             ],
             [
              0.2222222222222222,
              "#7201a8"
             ],
             [
              0.3333333333333333,
              "#9c179e"
             ],
             [
              0.4444444444444444,
              "#bd3786"
             ],
             [
              0.5555555555555556,
              "#d8576b"
             ],
             [
              0.6666666666666666,
              "#ed7953"
             ],
             [
              0.7777777777777778,
              "#fb9f3a"
             ],
             [
              0.8888888888888888,
              "#fdca26"
             ],
             [
              1,
              "#f0f921"
             ]
            ],
            "type": "heatmapgl"
           }
          ],
          "histogram": [
           {
            "marker": {
             "colorbar": {
              "outlinewidth": 0,
              "ticks": ""
             }
            },
            "type": "histogram"
           }
          ],
          "histogram2d": [
           {
            "colorbar": {
             "outlinewidth": 0,
             "ticks": ""
            },
            "colorscale": [
             [
              0,
              "#0d0887"
             ],
             [
              0.1111111111111111,
              "#46039f"
             ],
             [
              0.2222222222222222,
              "#7201a8"
             ],
             [
              0.3333333333333333,
              "#9c179e"
             ],
             [
              0.4444444444444444,
              "#bd3786"
             ],
             [
              0.5555555555555556,
              "#d8576b"
             ],
             [
              0.6666666666666666,
              "#ed7953"
             ],
             [
              0.7777777777777778,
              "#fb9f3a"
             ],
             [
              0.8888888888888888,
              "#fdca26"
             ],
             [
              1,
              "#f0f921"
             ]
            ],
            "type": "histogram2d"
           }
          ],
          "histogram2dcontour": [
           {
            "colorbar": {
             "outlinewidth": 0,
             "ticks": ""
            },
            "colorscale": [
             [
              0,
              "#0d0887"
             ],
             [
              0.1111111111111111,
              "#46039f"
             ],
             [
              0.2222222222222222,
              "#7201a8"
             ],
             [
              0.3333333333333333,
              "#9c179e"
             ],
             [
              0.4444444444444444,
              "#bd3786"
             ],
             [
              0.5555555555555556,
              "#d8576b"
             ],
             [
              0.6666666666666666,
              "#ed7953"
             ],
             [
              0.7777777777777778,
              "#fb9f3a"
             ],
             [
              0.8888888888888888,
              "#fdca26"
             ],
             [
              1,
              "#f0f921"
             ]
            ],
            "type": "histogram2dcontour"
           }
          ],
          "mesh3d": [
           {
            "colorbar": {
             "outlinewidth": 0,
             "ticks": ""
            },
            "type": "mesh3d"
           }
          ],
          "parcoords": [
           {
            "line": {
             "colorbar": {
              "outlinewidth": 0,
              "ticks": ""
             }
            },
            "type": "parcoords"
           }
          ],
          "pie": [
           {
            "automargin": true,
            "type": "pie"
           }
          ],
          "scatter": [
           {
            "marker": {
             "colorbar": {
              "outlinewidth": 0,
              "ticks": ""
             }
            },
            "type": "scatter"
           }
          ],
          "scatter3d": [
           {
            "line": {
             "colorbar": {
              "outlinewidth": 0,
              "ticks": ""
             }
            },
            "marker": {
             "colorbar": {
              "outlinewidth": 0,
              "ticks": ""
             }
            },
            "type": "scatter3d"
           }
          ],
          "scattercarpet": [
           {
            "marker": {
             "colorbar": {
              "outlinewidth": 0,
              "ticks": ""
             }
            },
            "type": "scattercarpet"
           }
          ],
          "scattergeo": [
           {
            "marker": {
             "colorbar": {
              "outlinewidth": 0,
              "ticks": ""
             }
            },
            "type": "scattergeo"
           }
          ],
          "scattergl": [
           {
            "marker": {
             "colorbar": {
              "outlinewidth": 0,
              "ticks": ""
             }
            },
            "type": "scattergl"
           }
          ],
          "scattermapbox": [
           {
            "marker": {
             "colorbar": {
              "outlinewidth": 0,
              "ticks": ""
             }
            },
            "type": "scattermapbox"
           }
          ],
          "scatterpolar": [
           {
            "marker": {
             "colorbar": {
              "outlinewidth": 0,
              "ticks": ""
             }
            },
            "type": "scatterpolar"
           }
          ],
          "scatterpolargl": [
           {
            "marker": {
             "colorbar": {
              "outlinewidth": 0,
              "ticks": ""
             }
            },
            "type": "scatterpolargl"
           }
          ],
          "scatterternary": [
           {
            "marker": {
             "colorbar": {
              "outlinewidth": 0,
              "ticks": ""
             }
            },
            "type": "scatterternary"
           }
          ],
          "surface": [
           {
            "colorbar": {
             "outlinewidth": 0,
             "ticks": ""
            },
            "colorscale": [
             [
              0,
              "#0d0887"
             ],
             [
              0.1111111111111111,
              "#46039f"
             ],
             [
              0.2222222222222222,
              "#7201a8"
             ],
             [
              0.3333333333333333,
              "#9c179e"
             ],
             [
              0.4444444444444444,
              "#bd3786"
             ],
             [
              0.5555555555555556,
              "#d8576b"
             ],
             [
              0.6666666666666666,
              "#ed7953"
             ],
             [
              0.7777777777777778,
              "#fb9f3a"
             ],
             [
              0.8888888888888888,
              "#fdca26"
             ],
             [
              1,
              "#f0f921"
             ]
            ],
            "type": "surface"
           }
          ],
          "table": [
           {
            "cells": {
             "fill": {
              "color": "#EBF0F8"
             },
             "line": {
              "color": "white"
             }
            },
            "header": {
             "fill": {
              "color": "#C8D4E3"
             },
             "line": {
              "color": "white"
             }
            },
            "type": "table"
           }
          ]
         },
         "layout": {
          "annotationdefaults": {
           "arrowcolor": "#2a3f5f",
           "arrowhead": 0,
           "arrowwidth": 1
          },
          "autotypenumbers": "strict",
          "coloraxis": {
           "colorbar": {
            "outlinewidth": 0,
            "ticks": ""
           }
          },
          "colorscale": {
           "diverging": [
            [
             0,
             "#8e0152"
            ],
            [
             0.1,
             "#c51b7d"
            ],
            [
             0.2,
             "#de77ae"
            ],
            [
             0.3,
             "#f1b6da"
            ],
            [
             0.4,
             "#fde0ef"
            ],
            [
             0.5,
             "#f7f7f7"
            ],
            [
             0.6,
             "#e6f5d0"
            ],
            [
             0.7,
             "#b8e186"
            ],
            [
             0.8,
             "#7fbc41"
            ],
            [
             0.9,
             "#4d9221"
            ],
            [
             1,
             "#276419"
            ]
           ],
           "sequential": [
            [
             0,
             "#0d0887"
            ],
            [
             0.1111111111111111,
             "#46039f"
            ],
            [
             0.2222222222222222,
             "#7201a8"
            ],
            [
             0.3333333333333333,
             "#9c179e"
            ],
            [
             0.4444444444444444,
             "#bd3786"
            ],
            [
             0.5555555555555556,
             "#d8576b"
            ],
            [
             0.6666666666666666,
             "#ed7953"
            ],
            [
             0.7777777777777778,
             "#fb9f3a"
            ],
            [
             0.8888888888888888,
             "#fdca26"
            ],
            [
             1,
             "#f0f921"
            ]
           ],
           "sequentialminus": [
            [
             0,
             "#0d0887"
            ],
            [
             0.1111111111111111,
             "#46039f"
            ],
            [
             0.2222222222222222,
             "#7201a8"
            ],
            [
             0.3333333333333333,
             "#9c179e"
            ],
            [
             0.4444444444444444,
             "#bd3786"
            ],
            [
             0.5555555555555556,
             "#d8576b"
            ],
            [
             0.6666666666666666,
             "#ed7953"
            ],
            [
             0.7777777777777778,
             "#fb9f3a"
            ],
            [
             0.8888888888888888,
             "#fdca26"
            ],
            [
             1,
             "#f0f921"
            ]
           ]
          },
          "colorway": [
           "#636efa",
           "#EF553B",
           "#00cc96",
           "#ab63fa",
           "#FFA15A",
           "#19d3f3",
           "#FF6692",
           "#B6E880",
           "#FF97FF",
           "#FECB52"
          ],
          "font": {
           "color": "#2a3f5f"
          },
          "geo": {
           "bgcolor": "white",
           "lakecolor": "white",
           "landcolor": "#E5ECF6",
           "showlakes": true,
           "showland": true,
           "subunitcolor": "white"
          },
          "hoverlabel": {
           "align": "left"
          },
          "hovermode": "closest",
          "mapbox": {
           "style": "light"
          },
          "paper_bgcolor": "white",
          "plot_bgcolor": "#E5ECF6",
          "polar": {
           "angularaxis": {
            "gridcolor": "white",
            "linecolor": "white",
            "ticks": ""
           },
           "bgcolor": "#E5ECF6",
           "radialaxis": {
            "gridcolor": "white",
            "linecolor": "white",
            "ticks": ""
           }
          },
          "scene": {
           "xaxis": {
            "backgroundcolor": "#E5ECF6",
            "gridcolor": "white",
            "gridwidth": 2,
            "linecolor": "white",
            "showbackground": true,
            "ticks": "",
            "zerolinecolor": "white"
           },
           "yaxis": {
            "backgroundcolor": "#E5ECF6",
            "gridcolor": "white",
            "gridwidth": 2,
            "linecolor": "white",
            "showbackground": true,
            "ticks": "",
            "zerolinecolor": "white"
           },
           "zaxis": {
            "backgroundcolor": "#E5ECF6",
            "gridcolor": "white",
            "gridwidth": 2,
            "linecolor": "white",
            "showbackground": true,
            "ticks": "",
            "zerolinecolor": "white"
           }
          },
          "shapedefaults": {
           "line": {
            "color": "#2a3f5f"
           }
          },
          "ternary": {
           "aaxis": {
            "gridcolor": "white",
            "linecolor": "white",
            "ticks": ""
           },
           "baxis": {
            "gridcolor": "white",
            "linecolor": "white",
            "ticks": ""
           },
           "bgcolor": "#E5ECF6",
           "caxis": {
            "gridcolor": "white",
            "linecolor": "white",
            "ticks": ""
           }
          },
          "title": {
           "x": 0.05
          },
          "xaxis": {
           "automargin": true,
           "gridcolor": "white",
           "linecolor": "white",
           "ticks": "",
           "title": {
            "standoff": 15
           },
           "zerolinecolor": "white",
           "zerolinewidth": 2
          },
          "yaxis": {
           "automargin": true,
           "gridcolor": "white",
           "linecolor": "white",
           "ticks": "",
           "title": {
            "standoff": 15
           },
           "zerolinecolor": "white",
           "zerolinewidth": 2
          }
         }
        },
        "title": {
         "text": "Compression vs. PRAuC"
        },
        "xaxis": {
         "title": {
          "text": "Compression"
         }
        },
        "yaxis": {
         "title": {
          "text": "PRAuC"
         }
        }
       }
      },
      "text/html": [
       "<div>                            <div id=\"4268529f-1dbc-4402-8cc5-dd5ad6708a47\" class=\"plotly-graph-div\" style=\"height:525px; width:100%;\"></div>            <script type=\"text/javascript\">                require([\"plotly\"], function(Plotly) {                    window.PLOTLYENV=window.PLOTLYENV || {};                                    if (document.getElementById(\"4268529f-1dbc-4402-8cc5-dd5ad6708a47\")) {                    Plotly.newPlot(                        \"4268529f-1dbc-4402-8cc5-dd5ad6708a47\",                        [{\"hovertemplate\": \"AuC: %{y:.3f}<br>Comp: %{x}<br>Epsilon: %{text}\", \"name\": \"0.02 %\", \"text\": [\"0.65\", \"0.75\", \"0.85\", \"0.95\"], \"type\": \"scatter\", \"x\": [0.0006386842049701244, 0.0005225598040664653, 0.00040115702130354917, 0.00022697041994806073], \"y\": [0.9640900573373125, 0.9587324604370825, 0.9532155740076259, 0.9072548272358472]}, {\"hovertemplate\": \"AuC: %{y:.3f}<br>Comp: %{x}<br>Epsilon: %{text}\", \"name\": \"0.04 %\", \"text\": [\"0.65\", \"0.75\", \"0.85\", \"0.95\"], \"type\": \"scatter\", \"x\": [0.0011137385723032746, 0.0008973249160737284, 0.0006228490593923527, 0.00031670291155543354], \"y\": [0.9644625791523597, 0.9535253141743312, 0.9412875591824481, 0.9373816417869416]}, {\"hovertemplate\": \"AuC: %{y:.3f}<br>Comp: %{x}<br>Epsilon: %{text}\", \"name\": \"0.06 %\", \"text\": [\"0.65\", \"0.75\", \"0.85\", \"0.95\"], \"type\": \"scatter\", \"x\": [0.0014304414838587083, 0.0011559656271773325, 0.0008287059519033845, 0.00038004349386652026], \"y\": [0.9713706260288089, 0.9652098563521174, 0.951777243581922, 0.9178981165890701]}, {\"hovertemplate\": \"AuC: %{y:.3f}<br>Comp: %{x}<br>Epsilon: %{text}\", \"name\": \"0.08 %\", \"text\": [\"0.65\", \"0.75\", \"0.85\", \"0.95\"], \"type\": \"scatter\", \"x\": [0.0017260308679771129, 0.001377657665266136, 0.0009501087346663007, 0.00041699216688132086], \"y\": [0.9738387376724518, 0.9662475463920043, 0.9570215017708206, 0.9240688584288139]}, {\"hovertemplate\": \"AuC: %{y:.3f}<br>Comp: %{x}<br>Epsilon: %{text}\", \"name\": \"0.1 %\", \"text\": [\"0.65\", \"0.75\", \"0.85\", \"0.95\"], \"type\": \"scatter\", \"x\": [0.0020638473069695754, 0.0015729577940586533, 0.001076789899288474, 0.0004856111310516648], \"y\": [0.9746783211072219, 0.9646377248237223, 0.9579048556570452, 0.9029768898345998]}, {\"hovertemplate\": \"AuC: %{y:.3f}<br>Comp: %{x}<br>Epsilon: %{text}\", \"name\": \"0.15 %\", \"text\": [\"0.65\", \"0.75\", \"0.85\", \"0.95\"], \"type\": \"scatter\", \"x\": [0.002707809893798957, 0.0019899499609399743, 0.0012932035555180204, 0.0005911787682368093], \"y\": [0.9776017544588833, 0.9704311859033268, 0.9597992058533937, 0.9095686492915117]}, {\"hovertemplate\": \"AuC: %{y:.3f}<br>Comp: %{x}<br>Epsilon: %{text}\", \"name\": \"20.0 %\", \"text\": [\"0.65\", \"0.75\", \"0.85\", \"0.95\"], \"type\": \"scatter\", \"x\": [0.0033464940987690812, 0.0024544475645546103, 0.00163629837636974, 0.0006756328779849249], \"y\": [0.9795756542668582, 0.9740168264373068, 0.9678238700010833, 0.9439114579490893]}, {\"hovertemplate\": \"AuC: %{y:.3f}<br>Comp: %{x}<br>Epsilon: %{text}\", \"name\": \"40.0 %\", \"text\": [\"0.65\", \"0.75\", \"0.85\", \"0.95\"], \"type\": \"scatter\", \"x\": [0.005183370985790596, 0.0035892996642949136, 0.0022591474357620926, 0.0008445410974811562], \"y\": [0.9803634320554648, 0.9755436536541195, 0.9732007533929042, 0.9387437112114805]}, {\"hovertemplate\": \"AuC: %{y:.3f}<br>Comp: %{x}<br>Epsilon: %{text}\", \"name\": \"60.0 %\", \"text\": [\"0.65\", \"0.75\", \"0.85\", \"0.95\"], \"type\": \"scatter\", \"x\": [0.006830226125878851, 0.004634419272427845, 0.0026550260752063845, 0.0009606654983848152], \"y\": [0.9791080640575174, 0.9800957175707685, 0.9706398759578949, 0.9315948761684003]}, {\"hovertemplate\": \"AuC: %{y:.3f}<br>Comp: %{x}<br>Epsilon: %{text}\", \"name\": \"80.0 %\", \"text\": [\"0.65\", \"0.75\", \"0.85\", \"0.95\"], \"type\": \"scatter\", \"x\": [0.008281781137174588, 0.005394506260160885, 0.003050904714650677, 0.0010609547537107024], \"y\": [0.9823092325046172, 0.9811168407575404, 0.9754726017098004, 0.9452643571786422]}],                        {\"hovermode\": \"x unified\", \"legend\": {\"title\": {\"text\": \"Size of the origin partition\"}}, \"template\": {\"data\": {\"bar\": [{\"error_x\": {\"color\": \"#2a3f5f\"}, \"error_y\": {\"color\": \"#2a3f5f\"}, \"marker\": {\"line\": {\"color\": \"#E5ECF6\", \"width\": 0.5}}, \"type\": \"bar\"}], \"barpolar\": [{\"marker\": {\"line\": {\"color\": \"#E5ECF6\", \"width\": 0.5}}, \"type\": \"barpolar\"}], \"carpet\": [{\"aaxis\": {\"endlinecolor\": \"#2a3f5f\", \"gridcolor\": \"white\", \"linecolor\": \"white\", \"minorgridcolor\": \"white\", \"startlinecolor\": \"#2a3f5f\"}, \"baxis\": {\"endlinecolor\": \"#2a3f5f\", \"gridcolor\": \"white\", \"linecolor\": \"white\", \"minorgridcolor\": \"white\", \"startlinecolor\": \"#2a3f5f\"}, \"type\": \"carpet\"}], \"choropleth\": [{\"colorbar\": {\"outlinewidth\": 0, \"ticks\": \"\"}, \"type\": \"choropleth\"}], \"contour\": [{\"colorbar\": {\"outlinewidth\": 0, \"ticks\": \"\"}, \"colorscale\": [[0.0, \"#0d0887\"], [0.1111111111111111, \"#46039f\"], [0.2222222222222222, \"#7201a8\"], [0.3333333333333333, \"#9c179e\"], [0.4444444444444444, \"#bd3786\"], [0.5555555555555556, \"#d8576b\"], [0.6666666666666666, \"#ed7953\"], [0.7777777777777778, \"#fb9f3a\"], [0.8888888888888888, \"#fdca26\"], [1.0, \"#f0f921\"]], \"type\": \"contour\"}], \"contourcarpet\": [{\"colorbar\": {\"outlinewidth\": 0, \"ticks\": \"\"}, \"type\": \"contourcarpet\"}], \"heatmap\": [{\"colorbar\": {\"outlinewidth\": 0, \"ticks\": \"\"}, \"colorscale\": [[0.0, \"#0d0887\"], [0.1111111111111111, \"#46039f\"], [0.2222222222222222, \"#7201a8\"], [0.3333333333333333, \"#9c179e\"], [0.4444444444444444, \"#bd3786\"], [0.5555555555555556, \"#d8576b\"], [0.6666666666666666, \"#ed7953\"], [0.7777777777777778, \"#fb9f3a\"], [0.8888888888888888, \"#fdca26\"], [1.0, \"#f0f921\"]], \"type\": \"heatmap\"}], \"heatmapgl\": [{\"colorbar\": {\"outlinewidth\": 0, \"ticks\": \"\"}, \"colorscale\": [[0.0, \"#0d0887\"], [0.1111111111111111, \"#46039f\"], [0.2222222222222222, \"#7201a8\"], [0.3333333333333333, \"#9c179e\"], [0.4444444444444444, \"#bd3786\"], [0.5555555555555556, \"#d8576b\"], [0.6666666666666666, \"#ed7953\"], [0.7777777777777778, \"#fb9f3a\"], [0.8888888888888888, \"#fdca26\"], [1.0, \"#f0f921\"]], \"type\": \"heatmapgl\"}], \"histogram\": [{\"marker\": {\"colorbar\": {\"outlinewidth\": 0, \"ticks\": \"\"}}, \"type\": \"histogram\"}], \"histogram2d\": [{\"colorbar\": {\"outlinewidth\": 0, \"ticks\": \"\"}, \"colorscale\": [[0.0, \"#0d0887\"], [0.1111111111111111, \"#46039f\"], [0.2222222222222222, \"#7201a8\"], [0.3333333333333333, \"#9c179e\"], [0.4444444444444444, \"#bd3786\"], [0.5555555555555556, \"#d8576b\"], [0.6666666666666666, \"#ed7953\"], [0.7777777777777778, \"#fb9f3a\"], [0.8888888888888888, \"#fdca26\"], [1.0, \"#f0f921\"]], \"type\": \"histogram2d\"}], \"histogram2dcontour\": [{\"colorbar\": {\"outlinewidth\": 0, \"ticks\": \"\"}, \"colorscale\": [[0.0, \"#0d0887\"], [0.1111111111111111, \"#46039f\"], [0.2222222222222222, \"#7201a8\"], [0.3333333333333333, \"#9c179e\"], [0.4444444444444444, \"#bd3786\"], [0.5555555555555556, \"#d8576b\"], [0.6666666666666666, \"#ed7953\"], [0.7777777777777778, \"#fb9f3a\"], [0.8888888888888888, \"#fdca26\"], [1.0, \"#f0f921\"]], \"type\": \"histogram2dcontour\"}], \"mesh3d\": [{\"colorbar\": {\"outlinewidth\": 0, \"ticks\": \"\"}, \"type\": \"mesh3d\"}], \"parcoords\": [{\"line\": {\"colorbar\": {\"outlinewidth\": 0, \"ticks\": \"\"}}, \"type\": \"parcoords\"}], \"pie\": [{\"automargin\": true, \"type\": \"pie\"}], \"scatter\": [{\"marker\": {\"colorbar\": {\"outlinewidth\": 0, \"ticks\": \"\"}}, \"type\": \"scatter\"}], \"scatter3d\": [{\"line\": {\"colorbar\": {\"outlinewidth\": 0, \"ticks\": \"\"}}, \"marker\": {\"colorbar\": {\"outlinewidth\": 0, \"ticks\": \"\"}}, \"type\": \"scatter3d\"}], \"scattercarpet\": [{\"marker\": {\"colorbar\": {\"outlinewidth\": 0, \"ticks\": \"\"}}, \"type\": \"scattercarpet\"}], \"scattergeo\": [{\"marker\": {\"colorbar\": {\"outlinewidth\": 0, \"ticks\": \"\"}}, \"type\": \"scattergeo\"}], \"scattergl\": [{\"marker\": {\"colorbar\": {\"outlinewidth\": 0, \"ticks\": \"\"}}, \"type\": \"scattergl\"}], \"scattermapbox\": [{\"marker\": {\"colorbar\": {\"outlinewidth\": 0, \"ticks\": \"\"}}, \"type\": \"scattermapbox\"}], \"scatterpolar\": [{\"marker\": {\"colorbar\": {\"outlinewidth\": 0, \"ticks\": \"\"}}, \"type\": \"scatterpolar\"}], \"scatterpolargl\": [{\"marker\": {\"colorbar\": {\"outlinewidth\": 0, \"ticks\": \"\"}}, \"type\": \"scatterpolargl\"}], \"scatterternary\": [{\"marker\": {\"colorbar\": {\"outlinewidth\": 0, \"ticks\": \"\"}}, \"type\": \"scatterternary\"}], \"surface\": [{\"colorbar\": {\"outlinewidth\": 0, \"ticks\": \"\"}, \"colorscale\": [[0.0, \"#0d0887\"], [0.1111111111111111, \"#46039f\"], [0.2222222222222222, \"#7201a8\"], [0.3333333333333333, \"#9c179e\"], [0.4444444444444444, \"#bd3786\"], [0.5555555555555556, \"#d8576b\"], [0.6666666666666666, \"#ed7953\"], [0.7777777777777778, \"#fb9f3a\"], [0.8888888888888888, \"#fdca26\"], [1.0, \"#f0f921\"]], \"type\": \"surface\"}], \"table\": [{\"cells\": {\"fill\": {\"color\": \"#EBF0F8\"}, \"line\": {\"color\": \"white\"}}, \"header\": {\"fill\": {\"color\": \"#C8D4E3\"}, \"line\": {\"color\": \"white\"}}, \"type\": \"table\"}]}, \"layout\": {\"annotationdefaults\": {\"arrowcolor\": \"#2a3f5f\", \"arrowhead\": 0, \"arrowwidth\": 1}, \"autotypenumbers\": \"strict\", \"coloraxis\": {\"colorbar\": {\"outlinewidth\": 0, \"ticks\": \"\"}}, \"colorscale\": {\"diverging\": [[0, \"#8e0152\"], [0.1, \"#c51b7d\"], [0.2, \"#de77ae\"], [0.3, \"#f1b6da\"], [0.4, \"#fde0ef\"], [0.5, \"#f7f7f7\"], [0.6, \"#e6f5d0\"], [0.7, \"#b8e186\"], [0.8, \"#7fbc41\"], [0.9, \"#4d9221\"], [1, \"#276419\"]], \"sequential\": [[0.0, \"#0d0887\"], [0.1111111111111111, \"#46039f\"], [0.2222222222222222, \"#7201a8\"], [0.3333333333333333, \"#9c179e\"], [0.4444444444444444, \"#bd3786\"], [0.5555555555555556, \"#d8576b\"], [0.6666666666666666, \"#ed7953\"], [0.7777777777777778, \"#fb9f3a\"], [0.8888888888888888, \"#fdca26\"], [1.0, \"#f0f921\"]], \"sequentialminus\": [[0.0, \"#0d0887\"], [0.1111111111111111, \"#46039f\"], [0.2222222222222222, \"#7201a8\"], [0.3333333333333333, \"#9c179e\"], [0.4444444444444444, \"#bd3786\"], [0.5555555555555556, \"#d8576b\"], [0.6666666666666666, \"#ed7953\"], [0.7777777777777778, \"#fb9f3a\"], [0.8888888888888888, \"#fdca26\"], [1.0, \"#f0f921\"]]}, \"colorway\": [\"#636efa\", \"#EF553B\", \"#00cc96\", \"#ab63fa\", \"#FFA15A\", \"#19d3f3\", \"#FF6692\", \"#B6E880\", \"#FF97FF\", \"#FECB52\"], \"font\": {\"color\": \"#2a3f5f\"}, \"geo\": {\"bgcolor\": \"white\", \"lakecolor\": \"white\", \"landcolor\": \"#E5ECF6\", \"showlakes\": true, \"showland\": true, \"subunitcolor\": \"white\"}, \"hoverlabel\": {\"align\": \"left\"}, \"hovermode\": \"closest\", \"mapbox\": {\"style\": \"light\"}, \"paper_bgcolor\": \"white\", \"plot_bgcolor\": \"#E5ECF6\", \"polar\": {\"angularaxis\": {\"gridcolor\": \"white\", \"linecolor\": \"white\", \"ticks\": \"\"}, \"bgcolor\": \"#E5ECF6\", \"radialaxis\": {\"gridcolor\": \"white\", \"linecolor\": \"white\", \"ticks\": \"\"}}, \"scene\": {\"xaxis\": {\"backgroundcolor\": \"#E5ECF6\", \"gridcolor\": \"white\", \"gridwidth\": 2, \"linecolor\": \"white\", \"showbackground\": true, \"ticks\": \"\", \"zerolinecolor\": \"white\"}, \"yaxis\": {\"backgroundcolor\": \"#E5ECF6\", \"gridcolor\": \"white\", \"gridwidth\": 2, \"linecolor\": \"white\", \"showbackground\": true, \"ticks\": \"\", \"zerolinecolor\": \"white\"}, \"zaxis\": {\"backgroundcolor\": \"#E5ECF6\", \"gridcolor\": \"white\", \"gridwidth\": 2, \"linecolor\": \"white\", \"showbackground\": true, \"ticks\": \"\", \"zerolinecolor\": \"white\"}}, \"shapedefaults\": {\"line\": {\"color\": \"#2a3f5f\"}}, \"ternary\": {\"aaxis\": {\"gridcolor\": \"white\", \"linecolor\": \"white\", \"ticks\": \"\"}, \"baxis\": {\"gridcolor\": \"white\", \"linecolor\": \"white\", \"ticks\": \"\"}, \"bgcolor\": \"#E5ECF6\", \"caxis\": {\"gridcolor\": \"white\", \"linecolor\": \"white\", \"ticks\": \"\"}}, \"title\": {\"x\": 0.05}, \"xaxis\": {\"automargin\": true, \"gridcolor\": \"white\", \"linecolor\": \"white\", \"ticks\": \"\", \"title\": {\"standoff\": 15}, \"zerolinecolor\": \"white\", \"zerolinewidth\": 2}, \"yaxis\": {\"automargin\": true, \"gridcolor\": \"white\", \"linecolor\": \"white\", \"ticks\": \"\", \"title\": {\"standoff\": 15}, \"zerolinecolor\": \"white\", \"zerolinewidth\": 2}}}, \"title\": {\"text\": \"Compression vs. PRAuC\"}, \"xaxis\": {\"title\": {\"text\": \"Compression\"}}, \"yaxis\": {\"title\": {\"text\": \"PRAuC\"}}},                        {\"responsive\": true}                    ).then(function(){\n",
       "                            \n",
       "var gd = document.getElementById('4268529f-1dbc-4402-8cc5-dd5ad6708a47');\n",
       "var x = new MutationObserver(function (mutations, observer) {{\n",
       "        var display = window.getComputedStyle(gd).display;\n",
       "        if (!display || display === 'none') {{\n",
       "            console.log([gd, 'removed!']);\n",
       "            Plotly.purge(gd);\n",
       "            observer.disconnect();\n",
       "        }}\n",
       "}});\n",
       "\n",
       "// Listen for the removal of the full notebook cells\n",
       "var notebookContainer = gd.closest('#notebook-container');\n",
       "if (notebookContainer) {{\n",
       "    x.observe(notebookContainer, {childList: true});\n",
       "}}\n",
       "\n",
       "// Listen for the clearing of the current output cell\n",
       "var outputEl = gd.closest('.output');\n",
       "if (outputEl) {{\n",
       "    x.observe(outputEl, {childList: true});\n",
       "}}\n",
       "\n",
       "                        })                };                });            </script>        </div>"
      ]
     },
     "metadata": {},
     "output_type": "display_data"
    }
   ],
   "source": [
    "\n",
    "fig = go.Figure() \n",
    "\n",
    "for k, ss in sorted(sizes.items()):\n",
    "\n",
    "    fig = fig.add_trace(go.Scatter(x = list(map(lambda x: x/f_size, ss)),\n",
    "                                   y = aucs[k], \n",
    "                                   name = f\"{k} %\", text=gammas, \n",
    "                                   hovertemplate = 'AuC: %{y:.3f}<br>Comp: %{x}<br>Epsilon: %{text}'))\n",
    "    \n",
    "fig.update_layout(\n",
    "    title=\"Compression vs. PRAuC\",\n",
    "    xaxis_title=\"Compression\",\n",
    "    yaxis_title=\"PRAuC\",\n",
    "    legend_title=\"Size of the origin partition\"\n",
    ")\n",
    "    \n",
    "fig.update_layout(hovermode=\"x unified\")\n",
    "\n",
    "fig.show()"
   ]
  },
  {
   "cell_type": "code",
   "execution_count": null,
   "id": "opposed-characterization",
   "metadata": {},
   "outputs": [],
   "source": [
    "Claim: randomness is better than network \n",
    "    \n",
    "Test even smaller networks (smaller initial sets)\n",
    "\n",
    "Look for a case where they become \"worst\" than the larger orgin network\n",
    "\n",
    "Perhaps rerun: selection of apks should be randomized (not necessary the network creation)\n",
    "\n",
    "base line prediction with origin network?"
   ]
  },
  {
   "cell_type": "code",
   "execution_count": 28,
   "id": "internal-devices",
   "metadata": {},
   "outputs": [],
   "source": [
    "## Just origins"
   ]
  },
  {
   "cell_type": "code",
   "execution_count": 35,
   "id": "underlying-raising",
   "metadata": {},
   "outputs": [],
   "source": [
    "def get_origin_file_names(gamma, p_size):\n",
    "    eval_name = f\"../res/newclusterres/ori/complete_nets/streamed-{gamma}-{p_size}/{gamma}-evalresults.pickle\"\n",
    "    net_name = f\"../res/newclusterres/ori/complete_nets/streamed-{gamma}-{p_size}/{gamma}-streamed-0-voting.pickle\"\n",
    "    return eval_name, net_name\n",
    "\n",
    "gammas = [ 0.65, 0.75, 0.85, 0.95] # 0.3, 0.35, 0.4, 0.45, 0.5,0.6,\n",
    "p_sizes_new = [f\"0.0{a}\" for a in range(2,10,2)] + ['0.10', '0.15'] + list(range(2,10,2))\n",
    "\n",
    "aucs_ori, sizes_ori = read_go(gammas=gammas, p_sizes=p_sizes_new, get_file_names=get_origin_file_names)\n",
    "sizes_ori = fix_keys(sizes_ori)\n",
    "aucs_ori = fix_keys(aucs_ori)"
   ]
  },
  {
   "cell_type": "code",
   "execution_count": 40,
   "id": "pressing-vitamin",
   "metadata": {},
   "outputs": [
    {
     "data": {
      "application/vnd.plotly.v1+json": {
       "config": {
        "plotlyServerURL": "https://plot.ly"
       },
       "data": [
        {
         "hovertemplate": "AuC: %{y:.3f}<br>Comp: %{x}<br>Epsilon: %{text}",
         "name": "ori 0.02 %",
         "text": [
          "0.65",
          "0.75",
          "0.85",
          "0.95"
         ],
         "type": "scatter",
         "x": [
          0.0006386842049701244,
          0.0005225598040664653,
          0.00040115702130354917,
          0.00022697041994806073
         ],
         "y": [
          0.8994411407558063,
          0.8918769708783723,
          0.8743013791159642,
          0.8524064094455466
         ]
        },
        {
         "hovertemplate": "AuC: %{y:.3f}<br>Comp: %{x}<br>Epsilon: %{text}",
         "name": "ori 0.04 %",
         "text": [
          "0.65",
          "0.75",
          "0.85",
          "0.95"
         ],
         "type": "scatter",
         "x": [
          0.0011137385723032746,
          0.0008973249160737284,
          0.0006228490593923527,
          0.00031670291155543354
         ],
         "y": [
          0.8984894743733576,
          0.8942751371022452,
          0.8688224778479645,
          0.8895590182605426
         ]
        },
        {
         "hovertemplate": "AuC: %{y:.3f}<br>Comp: %{x}<br>Epsilon: %{text}",
         "name": "ori 0.06 %",
         "text": [
          "0.65",
          "0.75",
          "0.85",
          "0.95"
         ],
         "type": "scatter",
         "x": [
          0.0014304414838587083,
          0.0011559656271773325,
          0.0008287059519033845,
          0.00038004349386652026
         ],
         "y": [
          0.9097264478293619,
          0.9058111229591731,
          0.9071432200490778,
          0.88966248624927
         ]
        },
        {
         "hovertemplate": "AuC: %{y:.3f}<br>Comp: %{x}<br>Epsilon: %{text}",
         "name": "ori 0.08 %",
         "text": [
          "0.65",
          "0.75",
          "0.85",
          "0.95"
         ],
         "type": "scatter",
         "x": [
          0.0017260308679771129,
          0.001377657665266136,
          0.0009501087346663007,
          0.00041699216688132086
         ],
         "y": [
          0.93250250736889,
          0.9228825372249964,
          0.9279006345689166,
          0.8958215084657276
         ]
        },
        {
         "hovertemplate": "AuC: %{y:.3f}<br>Comp: %{x}<br>Epsilon: %{text}",
         "name": "ori 0.1 %",
         "text": [
          "0.65",
          "0.75",
          "0.85",
          "0.95"
         ],
         "type": "scatter",
         "x": [
          0.0020638473069695754,
          0.0015729577940586533,
          0.001076789899288474,
          0.0004856111310516648
         ],
         "y": [
          0.9291231443610348,
          0.9246420349059191,
          0.9260510267164892,
          0.8765091973760699
         ]
        },
        {
         "hovertemplate": "AuC: %{y:.3f}<br>Comp: %{x}<br>Epsilon: %{text}",
         "name": "ori 0.15 %",
         "text": [
          "0.65",
          "0.75",
          "0.85",
          "0.95"
         ],
         "type": "scatter",
         "x": [
          0.002707809893798957,
          0.0019899499609399743,
          0.0012932035555180204,
          0.0005911787682368093
         ],
         "y": [
          0.9329803281307886,
          0.9255842839372015,
          0.9290207891993261,
          0.8885443035781119
         ]
        },
        {
         "hovertemplate": "AuC: %{y:.3f}<br>Comp: %{x}<br>Epsilon: %{text}",
         "name": "ori 20.0 %",
         "text": [
          "0.65",
          "0.75",
          "0.85",
          "0.95"
         ],
         "type": "scatter",
         "x": [
          0.0033464940987690812,
          0.0024544475645546103,
          0.00163629837636974,
          0.0006756328779849249
         ],
         "y": [
          0.9364491745949576,
          0.9385839839646879,
          0.9424045186185301,
          0.9176628222386227
         ]
        },
        {
         "hovertemplate": "AuC: %{y:.3f}<br>Comp: %{x}<br>Epsilon: %{text}",
         "name": "ori 40.0 %",
         "text": [
          "0.65",
          "0.75",
          "0.85",
          "0.95"
         ],
         "type": "scatter",
         "x": [
          0.005183370985790596,
          0.0035892996642949136,
          0.0022591474357620926,
          0.0008445410974811562
         ],
         "y": [
          0.939141643753338,
          0.939826992882691,
          0.9484494889828592,
          0.9135235978463366
         ]
        },
        {
         "hovertemplate": "AuC: %{y:.3f}<br>Comp: %{x}<br>Epsilon: %{text}",
         "name": "ori 60.0 %",
         "text": [
          "0.65",
          "0.75",
          "0.85",
          "0.95"
         ],
         "type": "scatter",
         "x": [
          0.006830226125878851,
          0.004634419272427845,
          0.0026550260752063845,
          0.0009606654983848152
         ],
         "y": [
          0.9422178961079357,
          0.9501494681826823,
          0.9511561592302646,
          0.9062122517018378
         ]
        },
        {
         "hovertemplate": "AuC: %{y:.3f}<br>Comp: %{x}<br>Epsilon: %{text}",
         "name": "ori 80.0 %",
         "text": [
          "0.65",
          "0.75",
          "0.85",
          "0.95"
         ],
         "type": "scatter",
         "x": [
          0.008281781137174588,
          0.005394506260160885,
          0.003050904714650677,
          0.0010609547537107024
         ],
         "y": [
          0.9506423251583829,
          0.9588492951419627,
          0.9496577965557098,
          0.9296845781583671
         ]
        },
        {
         "hovertemplate": "AuC: %{y:.3f}<br>Comp: %{x}<br>Epsilon: %{text}",
         "name": "0.02 %",
         "text": [
          "0.65",
          "0.75",
          "0.85",
          "0.95"
         ],
         "type": "scatter",
         "x": [
          0.0006386842049701244,
          0.0005225598040664653,
          0.00040115702130354917,
          0.00022697041994806073
         ],
         "y": [
          0.9640900573373125,
          0.9587324604370825,
          0.9532155740076259,
          0.9072548272358472
         ]
        },
        {
         "hovertemplate": "AuC: %{y:.3f}<br>Comp: %{x}<br>Epsilon: %{text}",
         "name": "0.04 %",
         "text": [
          "0.65",
          "0.75",
          "0.85",
          "0.95"
         ],
         "type": "scatter",
         "x": [
          0.0011137385723032746,
          0.0008973249160737284,
          0.0006228490593923527,
          0.00031670291155543354
         ],
         "y": [
          0.9644625791523597,
          0.9535253141743312,
          0.9412875591824481,
          0.9373816417869416
         ]
        },
        {
         "hovertemplate": "AuC: %{y:.3f}<br>Comp: %{x}<br>Epsilon: %{text}",
         "name": "0.06 %",
         "text": [
          "0.65",
          "0.75",
          "0.85",
          "0.95"
         ],
         "type": "scatter",
         "x": [
          0.0014304414838587083,
          0.0011559656271773325,
          0.0008287059519033845,
          0.00038004349386652026
         ],
         "y": [
          0.9713706260288089,
          0.9652098563521174,
          0.951777243581922,
          0.9178981165890701
         ]
        },
        {
         "hovertemplate": "AuC: %{y:.3f}<br>Comp: %{x}<br>Epsilon: %{text}",
         "name": "0.08 %",
         "text": [
          "0.65",
          "0.75",
          "0.85",
          "0.95"
         ],
         "type": "scatter",
         "x": [
          0.0017260308679771129,
          0.001377657665266136,
          0.0009501087346663007,
          0.00041699216688132086
         ],
         "y": [
          0.9738387376724518,
          0.9662475463920043,
          0.9570215017708206,
          0.9240688584288139
         ]
        },
        {
         "hovertemplate": "AuC: %{y:.3f}<br>Comp: %{x}<br>Epsilon: %{text}",
         "name": "0.1 %",
         "text": [
          "0.65",
          "0.75",
          "0.85",
          "0.95"
         ],
         "type": "scatter",
         "x": [
          0.0020638473069695754,
          0.0015729577940586533,
          0.001076789899288474,
          0.0004856111310516648
         ],
         "y": [
          0.9746783211072219,
          0.9646377248237223,
          0.9579048556570452,
          0.9029768898345998
         ]
        },
        {
         "hovertemplate": "AuC: %{y:.3f}<br>Comp: %{x}<br>Epsilon: %{text}",
         "name": "0.15 %",
         "text": [
          "0.65",
          "0.75",
          "0.85",
          "0.95"
         ],
         "type": "scatter",
         "x": [
          0.002707809893798957,
          0.0019899499609399743,
          0.0012932035555180204,
          0.0005911787682368093
         ],
         "y": [
          0.9776017544588833,
          0.9704311859033268,
          0.9597992058533937,
          0.9095686492915117
         ]
        },
        {
         "hovertemplate": "AuC: %{y:.3f}<br>Comp: %{x}<br>Epsilon: %{text}",
         "name": "20.0 %",
         "text": [
          "0.65",
          "0.75",
          "0.85",
          "0.95"
         ],
         "type": "scatter",
         "x": [
          0.0033464940987690812,
          0.0024544475645546103,
          0.00163629837636974,
          0.0006756328779849249
         ],
         "y": [
          0.9795756542668582,
          0.9740168264373068,
          0.9678238700010833,
          0.9439114579490893
         ]
        },
        {
         "hovertemplate": "AuC: %{y:.3f}<br>Comp: %{x}<br>Epsilon: %{text}",
         "name": "40.0 %",
         "text": [
          "0.65",
          "0.75",
          "0.85",
          "0.95"
         ],
         "type": "scatter",
         "x": [
          0.005183370985790596,
          0.0035892996642949136,
          0.0022591474357620926,
          0.0008445410974811562
         ],
         "y": [
          0.9803634320554648,
          0.9755436536541195,
          0.9732007533929042,
          0.9387437112114805
         ]
        },
        {
         "hovertemplate": "AuC: %{y:.3f}<br>Comp: %{x}<br>Epsilon: %{text}",
         "name": "60.0 %",
         "text": [
          "0.65",
          "0.75",
          "0.85",
          "0.95"
         ],
         "type": "scatter",
         "x": [
          0.006830226125878851,
          0.004634419272427845,
          0.0026550260752063845,
          0.0009606654983848152
         ],
         "y": [
          0.9791080640575174,
          0.9800957175707685,
          0.9706398759578949,
          0.9315948761684003
         ]
        },
        {
         "hovertemplate": "AuC: %{y:.3f}<br>Comp: %{x}<br>Epsilon: %{text}",
         "name": "80.0 %",
         "text": [
          "0.65",
          "0.75",
          "0.85",
          "0.95"
         ],
         "type": "scatter",
         "x": [
          0.008281781137174588,
          0.005394506260160885,
          0.003050904714650677,
          0.0010609547537107024
         ],
         "y": [
          0.9823092325046172,
          0.9811168407575404,
          0.9754726017098004,
          0.9452643571786422
         ]
        }
       ],
       "layout": {
        "hovermode": "x unified",
        "legend": {
         "title": {
          "text": "Size of the origin partition"
         }
        },
        "template": {
         "data": {
          "bar": [
           {
            "error_x": {
             "color": "#2a3f5f"
            },
            "error_y": {
             "color": "#2a3f5f"
            },
            "marker": {
             "line": {
              "color": "#E5ECF6",
              "width": 0.5
             }
            },
            "type": "bar"
           }
          ],
          "barpolar": [
           {
            "marker": {
             "line": {
              "color": "#E5ECF6",
              "width": 0.5
             }
            },
            "type": "barpolar"
           }
          ],
          "carpet": [
           {
            "aaxis": {
             "endlinecolor": "#2a3f5f",
             "gridcolor": "white",
             "linecolor": "white",
             "minorgridcolor": "white",
             "startlinecolor": "#2a3f5f"
            },
            "baxis": {
             "endlinecolor": "#2a3f5f",
             "gridcolor": "white",
             "linecolor": "white",
             "minorgridcolor": "white",
             "startlinecolor": "#2a3f5f"
            },
            "type": "carpet"
           }
          ],
          "choropleth": [
           {
            "colorbar": {
             "outlinewidth": 0,
             "ticks": ""
            },
            "type": "choropleth"
           }
          ],
          "contour": [
           {
            "colorbar": {
             "outlinewidth": 0,
             "ticks": ""
            },
            "colorscale": [
             [
              0,
              "#0d0887"
             ],
             [
              0.1111111111111111,
              "#46039f"
             ],
             [
              0.2222222222222222,
              "#7201a8"
             ],
             [
              0.3333333333333333,
              "#9c179e"
             ],
             [
              0.4444444444444444,
              "#bd3786"
             ],
             [
              0.5555555555555556,
              "#d8576b"
             ],
             [
              0.6666666666666666,
              "#ed7953"
             ],
             [
              0.7777777777777778,
              "#fb9f3a"
             ],
             [
              0.8888888888888888,
              "#fdca26"
             ],
             [
              1,
              "#f0f921"
             ]
            ],
            "type": "contour"
           }
          ],
          "contourcarpet": [
           {
            "colorbar": {
             "outlinewidth": 0,
             "ticks": ""
            },
            "type": "contourcarpet"
           }
          ],
          "heatmap": [
           {
            "colorbar": {
             "outlinewidth": 0,
             "ticks": ""
            },
            "colorscale": [
             [
              0,
              "#0d0887"
             ],
             [
              0.1111111111111111,
              "#46039f"
             ],
             [
              0.2222222222222222,
              "#7201a8"
             ],
             [
              0.3333333333333333,
              "#9c179e"
             ],
             [
              0.4444444444444444,
              "#bd3786"
             ],
             [
              0.5555555555555556,
              "#d8576b"
             ],
             [
              0.6666666666666666,
              "#ed7953"
             ],
             [
              0.7777777777777778,
              "#fb9f3a"
             ],
             [
              0.8888888888888888,
              "#fdca26"
             ],
             [
              1,
              "#f0f921"
             ]
            ],
            "type": "heatmap"
           }
          ],
          "heatmapgl": [
           {
            "colorbar": {
             "outlinewidth": 0,
             "ticks": ""
            },
            "colorscale": [
             [
              0,
              "#0d0887"
             ],
             [
              0.1111111111111111,
              "#46039f"
             ],
             [
              0.2222222222222222,
              "#7201a8"
             ],
             [
              0.3333333333333333,
              "#9c179e"
             ],
             [
              0.4444444444444444,
              "#bd3786"
             ],
             [
              0.5555555555555556,
              "#d8576b"
             ],
             [
              0.6666666666666666,
              "#ed7953"
             ],
             [
              0.7777777777777778,
              "#fb9f3a"
             ],
             [
              0.8888888888888888,
              "#fdca26"
             ],
             [
              1,
              "#f0f921"
             ]
            ],
            "type": "heatmapgl"
           }
          ],
          "histogram": [
           {
            "marker": {
             "colorbar": {
              "outlinewidth": 0,
              "ticks": ""
             }
            },
            "type": "histogram"
           }
          ],
          "histogram2d": [
           {
            "colorbar": {
             "outlinewidth": 0,
             "ticks": ""
            },
            "colorscale": [
             [
              0,
              "#0d0887"
             ],
             [
              0.1111111111111111,
              "#46039f"
             ],
             [
              0.2222222222222222,
              "#7201a8"
             ],
             [
              0.3333333333333333,
              "#9c179e"
             ],
             [
              0.4444444444444444,
              "#bd3786"
             ],
             [
              0.5555555555555556,
              "#d8576b"
             ],
             [
              0.6666666666666666,
              "#ed7953"
             ],
             [
              0.7777777777777778,
              "#fb9f3a"
             ],
             [
              0.8888888888888888,
              "#fdca26"
             ],
             [
              1,
              "#f0f921"
             ]
            ],
            "type": "histogram2d"
           }
          ],
          "histogram2dcontour": [
           {
            "colorbar": {
             "outlinewidth": 0,
             "ticks": ""
            },
            "colorscale": [
             [
              0,
              "#0d0887"
             ],
             [
              0.1111111111111111,
              "#46039f"
             ],
             [
              0.2222222222222222,
              "#7201a8"
             ],
             [
              0.3333333333333333,
              "#9c179e"
             ],
             [
              0.4444444444444444,
              "#bd3786"
             ],
             [
              0.5555555555555556,
              "#d8576b"
             ],
             [
              0.6666666666666666,
              "#ed7953"
             ],
             [
              0.7777777777777778,
              "#fb9f3a"
             ],
             [
              0.8888888888888888,
              "#fdca26"
             ],
             [
              1,
              "#f0f921"
             ]
            ],
            "type": "histogram2dcontour"
           }
          ],
          "mesh3d": [
           {
            "colorbar": {
             "outlinewidth": 0,
             "ticks": ""
            },
            "type": "mesh3d"
           }
          ],
          "parcoords": [
           {
            "line": {
             "colorbar": {
              "outlinewidth": 0,
              "ticks": ""
             }
            },
            "type": "parcoords"
           }
          ],
          "pie": [
           {
            "automargin": true,
            "type": "pie"
           }
          ],
          "scatter": [
           {
            "marker": {
             "colorbar": {
              "outlinewidth": 0,
              "ticks": ""
             }
            },
            "type": "scatter"
           }
          ],
          "scatter3d": [
           {
            "line": {
             "colorbar": {
              "outlinewidth": 0,
              "ticks": ""
             }
            },
            "marker": {
             "colorbar": {
              "outlinewidth": 0,
              "ticks": ""
             }
            },
            "type": "scatter3d"
           }
          ],
          "scattercarpet": [
           {
            "marker": {
             "colorbar": {
              "outlinewidth": 0,
              "ticks": ""
             }
            },
            "type": "scattercarpet"
           }
          ],
          "scattergeo": [
           {
            "marker": {
             "colorbar": {
              "outlinewidth": 0,
              "ticks": ""
             }
            },
            "type": "scattergeo"
           }
          ],
          "scattergl": [
           {
            "marker": {
             "colorbar": {
              "outlinewidth": 0,
              "ticks": ""
             }
            },
            "type": "scattergl"
           }
          ],
          "scattermapbox": [
           {
            "marker": {
             "colorbar": {
              "outlinewidth": 0,
              "ticks": ""
             }
            },
            "type": "scattermapbox"
           }
          ],
          "scatterpolar": [
           {
            "marker": {
             "colorbar": {
              "outlinewidth": 0,
              "ticks": ""
             }
            },
            "type": "scatterpolar"
           }
          ],
          "scatterpolargl": [
           {
            "marker": {
             "colorbar": {
              "outlinewidth": 0,
              "ticks": ""
             }
            },
            "type": "scatterpolargl"
           }
          ],
          "scatterternary": [
           {
            "marker": {
             "colorbar": {
              "outlinewidth": 0,
              "ticks": ""
             }
            },
            "type": "scatterternary"
           }
          ],
          "surface": [
           {
            "colorbar": {
             "outlinewidth": 0,
             "ticks": ""
            },
            "colorscale": [
             [
              0,
              "#0d0887"
             ],
             [
              0.1111111111111111,
              "#46039f"
             ],
             [
              0.2222222222222222,
              "#7201a8"
             ],
             [
              0.3333333333333333,
              "#9c179e"
             ],
             [
              0.4444444444444444,
              "#bd3786"
             ],
             [
              0.5555555555555556,
              "#d8576b"
             ],
             [
              0.6666666666666666,
              "#ed7953"
             ],
             [
              0.7777777777777778,
              "#fb9f3a"
             ],
             [
              0.8888888888888888,
              "#fdca26"
             ],
             [
              1,
              "#f0f921"
             ]
            ],
            "type": "surface"
           }
          ],
          "table": [
           {
            "cells": {
             "fill": {
              "color": "#EBF0F8"
             },
             "line": {
              "color": "white"
             }
            },
            "header": {
             "fill": {
              "color": "#C8D4E3"
             },
             "line": {
              "color": "white"
             }
            },
            "type": "table"
           }
          ]
         },
         "layout": {
          "annotationdefaults": {
           "arrowcolor": "#2a3f5f",
           "arrowhead": 0,
           "arrowwidth": 1
          },
          "autotypenumbers": "strict",
          "coloraxis": {
           "colorbar": {
            "outlinewidth": 0,
            "ticks": ""
           }
          },
          "colorscale": {
           "diverging": [
            [
             0,
             "#8e0152"
            ],
            [
             0.1,
             "#c51b7d"
            ],
            [
             0.2,
             "#de77ae"
            ],
            [
             0.3,
             "#f1b6da"
            ],
            [
             0.4,
             "#fde0ef"
            ],
            [
             0.5,
             "#f7f7f7"
            ],
            [
             0.6,
             "#e6f5d0"
            ],
            [
             0.7,
             "#b8e186"
            ],
            [
             0.8,
             "#7fbc41"
            ],
            [
             0.9,
             "#4d9221"
            ],
            [
             1,
             "#276419"
            ]
           ],
           "sequential": [
            [
             0,
             "#0d0887"
            ],
            [
             0.1111111111111111,
             "#46039f"
            ],
            [
             0.2222222222222222,
             "#7201a8"
            ],
            [
             0.3333333333333333,
             "#9c179e"
            ],
            [
             0.4444444444444444,
             "#bd3786"
            ],
            [
             0.5555555555555556,
             "#d8576b"
            ],
            [
             0.6666666666666666,
             "#ed7953"
            ],
            [
             0.7777777777777778,
             "#fb9f3a"
            ],
            [
             0.8888888888888888,
             "#fdca26"
            ],
            [
             1,
             "#f0f921"
            ]
           ],
           "sequentialminus": [
            [
             0,
             "#0d0887"
            ],
            [
             0.1111111111111111,
             "#46039f"
            ],
            [
             0.2222222222222222,
             "#7201a8"
            ],
            [
             0.3333333333333333,
             "#9c179e"
            ],
            [
             0.4444444444444444,
             "#bd3786"
            ],
            [
             0.5555555555555556,
             "#d8576b"
            ],
            [
             0.6666666666666666,
             "#ed7953"
            ],
            [
             0.7777777777777778,
             "#fb9f3a"
            ],
            [
             0.8888888888888888,
             "#fdca26"
            ],
            [
             1,
             "#f0f921"
            ]
           ]
          },
          "colorway": [
           "#636efa",
           "#EF553B",
           "#00cc96",
           "#ab63fa",
           "#FFA15A",
           "#19d3f3",
           "#FF6692",
           "#B6E880",
           "#FF97FF",
           "#FECB52"
          ],
          "font": {
           "color": "#2a3f5f"
          },
          "geo": {
           "bgcolor": "white",
           "lakecolor": "white",
           "landcolor": "#E5ECF6",
           "showlakes": true,
           "showland": true,
           "subunitcolor": "white"
          },
          "hoverlabel": {
           "align": "left"
          },
          "hovermode": "closest",
          "mapbox": {
           "style": "light"
          },
          "paper_bgcolor": "white",
          "plot_bgcolor": "#E5ECF6",
          "polar": {
           "angularaxis": {
            "gridcolor": "white",
            "linecolor": "white",
            "ticks": ""
           },
           "bgcolor": "#E5ECF6",
           "radialaxis": {
            "gridcolor": "white",
            "linecolor": "white",
            "ticks": ""
           }
          },
          "scene": {
           "xaxis": {
            "backgroundcolor": "#E5ECF6",
            "gridcolor": "white",
            "gridwidth": 2,
            "linecolor": "white",
            "showbackground": true,
            "ticks": "",
            "zerolinecolor": "white"
           },
           "yaxis": {
            "backgroundcolor": "#E5ECF6",
            "gridcolor": "white",
            "gridwidth": 2,
            "linecolor": "white",
            "showbackground": true,
            "ticks": "",
            "zerolinecolor": "white"
           },
           "zaxis": {
            "backgroundcolor": "#E5ECF6",
            "gridcolor": "white",
            "gridwidth": 2,
            "linecolor": "white",
            "showbackground": true,
            "ticks": "",
            "zerolinecolor": "white"
           }
          },
          "shapedefaults": {
           "line": {
            "color": "#2a3f5f"
           }
          },
          "ternary": {
           "aaxis": {
            "gridcolor": "white",
            "linecolor": "white",
            "ticks": ""
           },
           "baxis": {
            "gridcolor": "white",
            "linecolor": "white",
            "ticks": ""
           },
           "bgcolor": "#E5ECF6",
           "caxis": {
            "gridcolor": "white",
            "linecolor": "white",
            "ticks": ""
           }
          },
          "title": {
           "x": 0.05
          },
          "xaxis": {
           "automargin": true,
           "gridcolor": "white",
           "linecolor": "white",
           "ticks": "",
           "title": {
            "standoff": 15
           },
           "zerolinecolor": "white",
           "zerolinewidth": 2
          },
          "yaxis": {
           "automargin": true,
           "gridcolor": "white",
           "linecolor": "white",
           "ticks": "",
           "title": {
            "standoff": 15
           },
           "zerolinecolor": "white",
           "zerolinewidth": 2
          }
         }
        },
        "title": {
         "text": "Origins and full networks Compression vs. PRAuC"
        },
        "xaxis": {
         "title": {
          "text": "Compression"
         }
        },
        "yaxis": {
         "title": {
          "text": "PRAuC"
         }
        }
       }
      },
      "text/html": [
       "<div>                            <div id=\"6e7c9105-0e86-4091-8b1e-a12fe14cacc3\" class=\"plotly-graph-div\" style=\"height:525px; width:100%;\"></div>            <script type=\"text/javascript\">                require([\"plotly\"], function(Plotly) {                    window.PLOTLYENV=window.PLOTLYENV || {};                                    if (document.getElementById(\"6e7c9105-0e86-4091-8b1e-a12fe14cacc3\")) {                    Plotly.newPlot(                        \"6e7c9105-0e86-4091-8b1e-a12fe14cacc3\",                        [{\"hovertemplate\": \"AuC: %{y:.3f}<br>Comp: %{x}<br>Epsilon: %{text}\", \"name\": \"ori 0.02 %\", \"text\": [\"0.65\", \"0.75\", \"0.85\", \"0.95\"], \"type\": \"scatter\", \"x\": [0.0006386842049701244, 0.0005225598040664653, 0.00040115702130354917, 0.00022697041994806073], \"y\": [0.8994411407558063, 0.8918769708783723, 0.8743013791159642, 0.8524064094455466]}, {\"hovertemplate\": \"AuC: %{y:.3f}<br>Comp: %{x}<br>Epsilon: %{text}\", \"name\": \"ori 0.04 %\", \"text\": [\"0.65\", \"0.75\", \"0.85\", \"0.95\"], \"type\": \"scatter\", \"x\": [0.0011137385723032746, 0.0008973249160737284, 0.0006228490593923527, 0.00031670291155543354], \"y\": [0.8984894743733576, 0.8942751371022452, 0.8688224778479645, 0.8895590182605426]}, {\"hovertemplate\": \"AuC: %{y:.3f}<br>Comp: %{x}<br>Epsilon: %{text}\", \"name\": \"ori 0.06 %\", \"text\": [\"0.65\", \"0.75\", \"0.85\", \"0.95\"], \"type\": \"scatter\", \"x\": [0.0014304414838587083, 0.0011559656271773325, 0.0008287059519033845, 0.00038004349386652026], \"y\": [0.9097264478293619, 0.9058111229591731, 0.9071432200490778, 0.88966248624927]}, {\"hovertemplate\": \"AuC: %{y:.3f}<br>Comp: %{x}<br>Epsilon: %{text}\", \"name\": \"ori 0.08 %\", \"text\": [\"0.65\", \"0.75\", \"0.85\", \"0.95\"], \"type\": \"scatter\", \"x\": [0.0017260308679771129, 0.001377657665266136, 0.0009501087346663007, 0.00041699216688132086], \"y\": [0.93250250736889, 0.9228825372249964, 0.9279006345689166, 0.8958215084657276]}, {\"hovertemplate\": \"AuC: %{y:.3f}<br>Comp: %{x}<br>Epsilon: %{text}\", \"name\": \"ori 0.1 %\", \"text\": [\"0.65\", \"0.75\", \"0.85\", \"0.95\"], \"type\": \"scatter\", \"x\": [0.0020638473069695754, 0.0015729577940586533, 0.001076789899288474, 0.0004856111310516648], \"y\": [0.9291231443610348, 0.9246420349059191, 0.9260510267164892, 0.8765091973760699]}, {\"hovertemplate\": \"AuC: %{y:.3f}<br>Comp: %{x}<br>Epsilon: %{text}\", \"name\": \"ori 0.15 %\", \"text\": [\"0.65\", \"0.75\", \"0.85\", \"0.95\"], \"type\": \"scatter\", \"x\": [0.002707809893798957, 0.0019899499609399743, 0.0012932035555180204, 0.0005911787682368093], \"y\": [0.9329803281307886, 0.9255842839372015, 0.9290207891993261, 0.8885443035781119]}, {\"hovertemplate\": \"AuC: %{y:.3f}<br>Comp: %{x}<br>Epsilon: %{text}\", \"name\": \"ori 20.0 %\", \"text\": [\"0.65\", \"0.75\", \"0.85\", \"0.95\"], \"type\": \"scatter\", \"x\": [0.0033464940987690812, 0.0024544475645546103, 0.00163629837636974, 0.0006756328779849249], \"y\": [0.9364491745949576, 0.9385839839646879, 0.9424045186185301, 0.9176628222386227]}, {\"hovertemplate\": \"AuC: %{y:.3f}<br>Comp: %{x}<br>Epsilon: %{text}\", \"name\": \"ori 40.0 %\", \"text\": [\"0.65\", \"0.75\", \"0.85\", \"0.95\"], \"type\": \"scatter\", \"x\": [0.005183370985790596, 0.0035892996642949136, 0.0022591474357620926, 0.0008445410974811562], \"y\": [0.939141643753338, 0.939826992882691, 0.9484494889828592, 0.9135235978463366]}, {\"hovertemplate\": \"AuC: %{y:.3f}<br>Comp: %{x}<br>Epsilon: %{text}\", \"name\": \"ori 60.0 %\", \"text\": [\"0.65\", \"0.75\", \"0.85\", \"0.95\"], \"type\": \"scatter\", \"x\": [0.006830226125878851, 0.004634419272427845, 0.0026550260752063845, 0.0009606654983848152], \"y\": [0.9422178961079357, 0.9501494681826823, 0.9511561592302646, 0.9062122517018378]}, {\"hovertemplate\": \"AuC: %{y:.3f}<br>Comp: %{x}<br>Epsilon: %{text}\", \"name\": \"ori 80.0 %\", \"text\": [\"0.65\", \"0.75\", \"0.85\", \"0.95\"], \"type\": \"scatter\", \"x\": [0.008281781137174588, 0.005394506260160885, 0.003050904714650677, 0.0010609547537107024], \"y\": [0.9506423251583829, 0.9588492951419627, 0.9496577965557098, 0.9296845781583671]}, {\"hovertemplate\": \"AuC: %{y:.3f}<br>Comp: %{x}<br>Epsilon: %{text}\", \"name\": \"0.02 %\", \"text\": [\"0.65\", \"0.75\", \"0.85\", \"0.95\"], \"type\": \"scatter\", \"x\": [0.0006386842049701244, 0.0005225598040664653, 0.00040115702130354917, 0.00022697041994806073], \"y\": [0.9640900573373125, 0.9587324604370825, 0.9532155740076259, 0.9072548272358472]}, {\"hovertemplate\": \"AuC: %{y:.3f}<br>Comp: %{x}<br>Epsilon: %{text}\", \"name\": \"0.04 %\", \"text\": [\"0.65\", \"0.75\", \"0.85\", \"0.95\"], \"type\": \"scatter\", \"x\": [0.0011137385723032746, 0.0008973249160737284, 0.0006228490593923527, 0.00031670291155543354], \"y\": [0.9644625791523597, 0.9535253141743312, 0.9412875591824481, 0.9373816417869416]}, {\"hovertemplate\": \"AuC: %{y:.3f}<br>Comp: %{x}<br>Epsilon: %{text}\", \"name\": \"0.06 %\", \"text\": [\"0.65\", \"0.75\", \"0.85\", \"0.95\"], \"type\": \"scatter\", \"x\": [0.0014304414838587083, 0.0011559656271773325, 0.0008287059519033845, 0.00038004349386652026], \"y\": [0.9713706260288089, 0.9652098563521174, 0.951777243581922, 0.9178981165890701]}, {\"hovertemplate\": \"AuC: %{y:.3f}<br>Comp: %{x}<br>Epsilon: %{text}\", \"name\": \"0.08 %\", \"text\": [\"0.65\", \"0.75\", \"0.85\", \"0.95\"], \"type\": \"scatter\", \"x\": [0.0017260308679771129, 0.001377657665266136, 0.0009501087346663007, 0.00041699216688132086], \"y\": [0.9738387376724518, 0.9662475463920043, 0.9570215017708206, 0.9240688584288139]}, {\"hovertemplate\": \"AuC: %{y:.3f}<br>Comp: %{x}<br>Epsilon: %{text}\", \"name\": \"0.1 %\", \"text\": [\"0.65\", \"0.75\", \"0.85\", \"0.95\"], \"type\": \"scatter\", \"x\": [0.0020638473069695754, 0.0015729577940586533, 0.001076789899288474, 0.0004856111310516648], \"y\": [0.9746783211072219, 0.9646377248237223, 0.9579048556570452, 0.9029768898345998]}, {\"hovertemplate\": \"AuC: %{y:.3f}<br>Comp: %{x}<br>Epsilon: %{text}\", \"name\": \"0.15 %\", \"text\": [\"0.65\", \"0.75\", \"0.85\", \"0.95\"], \"type\": \"scatter\", \"x\": [0.002707809893798957, 0.0019899499609399743, 0.0012932035555180204, 0.0005911787682368093], \"y\": [0.9776017544588833, 0.9704311859033268, 0.9597992058533937, 0.9095686492915117]}, {\"hovertemplate\": \"AuC: %{y:.3f}<br>Comp: %{x}<br>Epsilon: %{text}\", \"name\": \"20.0 %\", \"text\": [\"0.65\", \"0.75\", \"0.85\", \"0.95\"], \"type\": \"scatter\", \"x\": [0.0033464940987690812, 0.0024544475645546103, 0.00163629837636974, 0.0006756328779849249], \"y\": [0.9795756542668582, 0.9740168264373068, 0.9678238700010833, 0.9439114579490893]}, {\"hovertemplate\": \"AuC: %{y:.3f}<br>Comp: %{x}<br>Epsilon: %{text}\", \"name\": \"40.0 %\", \"text\": [\"0.65\", \"0.75\", \"0.85\", \"0.95\"], \"type\": \"scatter\", \"x\": [0.005183370985790596, 0.0035892996642949136, 0.0022591474357620926, 0.0008445410974811562], \"y\": [0.9803634320554648, 0.9755436536541195, 0.9732007533929042, 0.9387437112114805]}, {\"hovertemplate\": \"AuC: %{y:.3f}<br>Comp: %{x}<br>Epsilon: %{text}\", \"name\": \"60.0 %\", \"text\": [\"0.65\", \"0.75\", \"0.85\", \"0.95\"], \"type\": \"scatter\", \"x\": [0.006830226125878851, 0.004634419272427845, 0.0026550260752063845, 0.0009606654983848152], \"y\": [0.9791080640575174, 0.9800957175707685, 0.9706398759578949, 0.9315948761684003]}, {\"hovertemplate\": \"AuC: %{y:.3f}<br>Comp: %{x}<br>Epsilon: %{text}\", \"name\": \"80.0 %\", \"text\": [\"0.65\", \"0.75\", \"0.85\", \"0.95\"], \"type\": \"scatter\", \"x\": [0.008281781137174588, 0.005394506260160885, 0.003050904714650677, 0.0010609547537107024], \"y\": [0.9823092325046172, 0.9811168407575404, 0.9754726017098004, 0.9452643571786422]}],                        {\"hovermode\": \"x unified\", \"legend\": {\"title\": {\"text\": \"Size of the origin partition\"}}, \"template\": {\"data\": {\"bar\": [{\"error_x\": {\"color\": \"#2a3f5f\"}, \"error_y\": {\"color\": \"#2a3f5f\"}, \"marker\": {\"line\": {\"color\": \"#E5ECF6\", \"width\": 0.5}}, \"type\": \"bar\"}], \"barpolar\": [{\"marker\": {\"line\": {\"color\": \"#E5ECF6\", \"width\": 0.5}}, \"type\": \"barpolar\"}], \"carpet\": [{\"aaxis\": {\"endlinecolor\": \"#2a3f5f\", \"gridcolor\": \"white\", \"linecolor\": \"white\", \"minorgridcolor\": \"white\", \"startlinecolor\": \"#2a3f5f\"}, \"baxis\": {\"endlinecolor\": \"#2a3f5f\", \"gridcolor\": \"white\", \"linecolor\": \"white\", \"minorgridcolor\": \"white\", \"startlinecolor\": \"#2a3f5f\"}, \"type\": \"carpet\"}], \"choropleth\": [{\"colorbar\": {\"outlinewidth\": 0, \"ticks\": \"\"}, \"type\": \"choropleth\"}], \"contour\": [{\"colorbar\": {\"outlinewidth\": 0, \"ticks\": \"\"}, \"colorscale\": [[0.0, \"#0d0887\"], [0.1111111111111111, \"#46039f\"], [0.2222222222222222, \"#7201a8\"], [0.3333333333333333, \"#9c179e\"], [0.4444444444444444, \"#bd3786\"], [0.5555555555555556, \"#d8576b\"], [0.6666666666666666, \"#ed7953\"], [0.7777777777777778, \"#fb9f3a\"], [0.8888888888888888, \"#fdca26\"], [1.0, \"#f0f921\"]], \"type\": \"contour\"}], \"contourcarpet\": [{\"colorbar\": {\"outlinewidth\": 0, \"ticks\": \"\"}, \"type\": \"contourcarpet\"}], \"heatmap\": [{\"colorbar\": {\"outlinewidth\": 0, \"ticks\": \"\"}, \"colorscale\": [[0.0, \"#0d0887\"], [0.1111111111111111, \"#46039f\"], [0.2222222222222222, \"#7201a8\"], [0.3333333333333333, \"#9c179e\"], [0.4444444444444444, \"#bd3786\"], [0.5555555555555556, \"#d8576b\"], [0.6666666666666666, \"#ed7953\"], [0.7777777777777778, \"#fb9f3a\"], [0.8888888888888888, \"#fdca26\"], [1.0, \"#f0f921\"]], \"type\": \"heatmap\"}], \"heatmapgl\": [{\"colorbar\": {\"outlinewidth\": 0, \"ticks\": \"\"}, \"colorscale\": [[0.0, \"#0d0887\"], [0.1111111111111111, \"#46039f\"], [0.2222222222222222, \"#7201a8\"], [0.3333333333333333, \"#9c179e\"], [0.4444444444444444, \"#bd3786\"], [0.5555555555555556, \"#d8576b\"], [0.6666666666666666, \"#ed7953\"], [0.7777777777777778, \"#fb9f3a\"], [0.8888888888888888, \"#fdca26\"], [1.0, \"#f0f921\"]], \"type\": \"heatmapgl\"}], \"histogram\": [{\"marker\": {\"colorbar\": {\"outlinewidth\": 0, \"ticks\": \"\"}}, \"type\": \"histogram\"}], \"histogram2d\": [{\"colorbar\": {\"outlinewidth\": 0, \"ticks\": \"\"}, \"colorscale\": [[0.0, \"#0d0887\"], [0.1111111111111111, \"#46039f\"], [0.2222222222222222, \"#7201a8\"], [0.3333333333333333, \"#9c179e\"], [0.4444444444444444, \"#bd3786\"], [0.5555555555555556, \"#d8576b\"], [0.6666666666666666, \"#ed7953\"], [0.7777777777777778, \"#fb9f3a\"], [0.8888888888888888, \"#fdca26\"], [1.0, \"#f0f921\"]], \"type\": \"histogram2d\"}], \"histogram2dcontour\": [{\"colorbar\": {\"outlinewidth\": 0, \"ticks\": \"\"}, \"colorscale\": [[0.0, \"#0d0887\"], [0.1111111111111111, \"#46039f\"], [0.2222222222222222, \"#7201a8\"], [0.3333333333333333, \"#9c179e\"], [0.4444444444444444, \"#bd3786\"], [0.5555555555555556, \"#d8576b\"], [0.6666666666666666, \"#ed7953\"], [0.7777777777777778, \"#fb9f3a\"], [0.8888888888888888, \"#fdca26\"], [1.0, \"#f0f921\"]], \"type\": \"histogram2dcontour\"}], \"mesh3d\": [{\"colorbar\": {\"outlinewidth\": 0, \"ticks\": \"\"}, \"type\": \"mesh3d\"}], \"parcoords\": [{\"line\": {\"colorbar\": {\"outlinewidth\": 0, \"ticks\": \"\"}}, \"type\": \"parcoords\"}], \"pie\": [{\"automargin\": true, \"type\": \"pie\"}], \"scatter\": [{\"marker\": {\"colorbar\": {\"outlinewidth\": 0, \"ticks\": \"\"}}, \"type\": \"scatter\"}], \"scatter3d\": [{\"line\": {\"colorbar\": {\"outlinewidth\": 0, \"ticks\": \"\"}}, \"marker\": {\"colorbar\": {\"outlinewidth\": 0, \"ticks\": \"\"}}, \"type\": \"scatter3d\"}], \"scattercarpet\": [{\"marker\": {\"colorbar\": {\"outlinewidth\": 0, \"ticks\": \"\"}}, \"type\": \"scattercarpet\"}], \"scattergeo\": [{\"marker\": {\"colorbar\": {\"outlinewidth\": 0, \"ticks\": \"\"}}, \"type\": \"scattergeo\"}], \"scattergl\": [{\"marker\": {\"colorbar\": {\"outlinewidth\": 0, \"ticks\": \"\"}}, \"type\": \"scattergl\"}], \"scattermapbox\": [{\"marker\": {\"colorbar\": {\"outlinewidth\": 0, \"ticks\": \"\"}}, \"type\": \"scattermapbox\"}], \"scatterpolar\": [{\"marker\": {\"colorbar\": {\"outlinewidth\": 0, \"ticks\": \"\"}}, \"type\": \"scatterpolar\"}], \"scatterpolargl\": [{\"marker\": {\"colorbar\": {\"outlinewidth\": 0, \"ticks\": \"\"}}, \"type\": \"scatterpolargl\"}], \"scatterternary\": [{\"marker\": {\"colorbar\": {\"outlinewidth\": 0, \"ticks\": \"\"}}, \"type\": \"scatterternary\"}], \"surface\": [{\"colorbar\": {\"outlinewidth\": 0, \"ticks\": \"\"}, \"colorscale\": [[0.0, \"#0d0887\"], [0.1111111111111111, \"#46039f\"], [0.2222222222222222, \"#7201a8\"], [0.3333333333333333, \"#9c179e\"], [0.4444444444444444, \"#bd3786\"], [0.5555555555555556, \"#d8576b\"], [0.6666666666666666, \"#ed7953\"], [0.7777777777777778, \"#fb9f3a\"], [0.8888888888888888, \"#fdca26\"], [1.0, \"#f0f921\"]], \"type\": \"surface\"}], \"table\": [{\"cells\": {\"fill\": {\"color\": \"#EBF0F8\"}, \"line\": {\"color\": \"white\"}}, \"header\": {\"fill\": {\"color\": \"#C8D4E3\"}, \"line\": {\"color\": \"white\"}}, \"type\": \"table\"}]}, \"layout\": {\"annotationdefaults\": {\"arrowcolor\": \"#2a3f5f\", \"arrowhead\": 0, \"arrowwidth\": 1}, \"autotypenumbers\": \"strict\", \"coloraxis\": {\"colorbar\": {\"outlinewidth\": 0, \"ticks\": \"\"}}, \"colorscale\": {\"diverging\": [[0, \"#8e0152\"], [0.1, \"#c51b7d\"], [0.2, \"#de77ae\"], [0.3, \"#f1b6da\"], [0.4, \"#fde0ef\"], [0.5, \"#f7f7f7\"], [0.6, \"#e6f5d0\"], [0.7, \"#b8e186\"], [0.8, \"#7fbc41\"], [0.9, \"#4d9221\"], [1, \"#276419\"]], \"sequential\": [[0.0, \"#0d0887\"], [0.1111111111111111, \"#46039f\"], [0.2222222222222222, \"#7201a8\"], [0.3333333333333333, \"#9c179e\"], [0.4444444444444444, \"#bd3786\"], [0.5555555555555556, \"#d8576b\"], [0.6666666666666666, \"#ed7953\"], [0.7777777777777778, \"#fb9f3a\"], [0.8888888888888888, \"#fdca26\"], [1.0, \"#f0f921\"]], \"sequentialminus\": [[0.0, \"#0d0887\"], [0.1111111111111111, \"#46039f\"], [0.2222222222222222, \"#7201a8\"], [0.3333333333333333, \"#9c179e\"], [0.4444444444444444, \"#bd3786\"], [0.5555555555555556, \"#d8576b\"], [0.6666666666666666, \"#ed7953\"], [0.7777777777777778, \"#fb9f3a\"], [0.8888888888888888, \"#fdca26\"], [1.0, \"#f0f921\"]]}, \"colorway\": [\"#636efa\", \"#EF553B\", \"#00cc96\", \"#ab63fa\", \"#FFA15A\", \"#19d3f3\", \"#FF6692\", \"#B6E880\", \"#FF97FF\", \"#FECB52\"], \"font\": {\"color\": \"#2a3f5f\"}, \"geo\": {\"bgcolor\": \"white\", \"lakecolor\": \"white\", \"landcolor\": \"#E5ECF6\", \"showlakes\": true, \"showland\": true, \"subunitcolor\": \"white\"}, \"hoverlabel\": {\"align\": \"left\"}, \"hovermode\": \"closest\", \"mapbox\": {\"style\": \"light\"}, \"paper_bgcolor\": \"white\", \"plot_bgcolor\": \"#E5ECF6\", \"polar\": {\"angularaxis\": {\"gridcolor\": \"white\", \"linecolor\": \"white\", \"ticks\": \"\"}, \"bgcolor\": \"#E5ECF6\", \"radialaxis\": {\"gridcolor\": \"white\", \"linecolor\": \"white\", \"ticks\": \"\"}}, \"scene\": {\"xaxis\": {\"backgroundcolor\": \"#E5ECF6\", \"gridcolor\": \"white\", \"gridwidth\": 2, \"linecolor\": \"white\", \"showbackground\": true, \"ticks\": \"\", \"zerolinecolor\": \"white\"}, \"yaxis\": {\"backgroundcolor\": \"#E5ECF6\", \"gridcolor\": \"white\", \"gridwidth\": 2, \"linecolor\": \"white\", \"showbackground\": true, \"ticks\": \"\", \"zerolinecolor\": \"white\"}, \"zaxis\": {\"backgroundcolor\": \"#E5ECF6\", \"gridcolor\": \"white\", \"gridwidth\": 2, \"linecolor\": \"white\", \"showbackground\": true, \"ticks\": \"\", \"zerolinecolor\": \"white\"}}, \"shapedefaults\": {\"line\": {\"color\": \"#2a3f5f\"}}, \"ternary\": {\"aaxis\": {\"gridcolor\": \"white\", \"linecolor\": \"white\", \"ticks\": \"\"}, \"baxis\": {\"gridcolor\": \"white\", \"linecolor\": \"white\", \"ticks\": \"\"}, \"bgcolor\": \"#E5ECF6\", \"caxis\": {\"gridcolor\": \"white\", \"linecolor\": \"white\", \"ticks\": \"\"}}, \"title\": {\"x\": 0.05}, \"xaxis\": {\"automargin\": true, \"gridcolor\": \"white\", \"linecolor\": \"white\", \"ticks\": \"\", \"title\": {\"standoff\": 15}, \"zerolinecolor\": \"white\", \"zerolinewidth\": 2}, \"yaxis\": {\"automargin\": true, \"gridcolor\": \"white\", \"linecolor\": \"white\", \"ticks\": \"\", \"title\": {\"standoff\": 15}, \"zerolinecolor\": \"white\", \"zerolinewidth\": 2}}}, \"title\": {\"text\": \"Origins and full networks Compression vs. PRAuC\"}, \"xaxis\": {\"title\": {\"text\": \"Compression\"}}, \"yaxis\": {\"title\": {\"text\": \"PRAuC\"}}},                        {\"responsive\": true}                    ).then(function(){\n",
       "                            \n",
       "var gd = document.getElementById('6e7c9105-0e86-4091-8b1e-a12fe14cacc3');\n",
       "var x = new MutationObserver(function (mutations, observer) {{\n",
       "        var display = window.getComputedStyle(gd).display;\n",
       "        if (!display || display === 'none') {{\n",
       "            console.log([gd, 'removed!']);\n",
       "            Plotly.purge(gd);\n",
       "            observer.disconnect();\n",
       "        }}\n",
       "}});\n",
       "\n",
       "// Listen for the removal of the full notebook cells\n",
       "var notebookContainer = gd.closest('#notebook-container');\n",
       "if (notebookContainer) {{\n",
       "    x.observe(notebookContainer, {childList: true});\n",
       "}}\n",
       "\n",
       "// Listen for the clearing of the current output cell\n",
       "var outputEl = gd.closest('.output');\n",
       "if (outputEl) {{\n",
       "    x.observe(outputEl, {childList: true});\n",
       "}}\n",
       "\n",
       "                        })                };                });            </script>        </div>"
      ]
     },
     "metadata": {},
     "output_type": "display_data"
    }
   ],
   "source": [
    "\n",
    "fig = go.Figure() \n",
    "\n",
    "for k, ss in sorted(sizes_ori.items()):\n",
    "\n",
    "    fig = fig.add_trace(go.Scatter(x = list(map(lambda x: x/f_size, ss)),\n",
    "                                   y = aucs_ori[k], \n",
    "                                   name = f\"ori {k} %\", text=gammas, \n",
    "                                   hovertemplate = 'AuC: %{y:.3f}<br>Comp: %{x}<br>Epsilon: %{text}'))\n",
    "    \n",
    "\n",
    "\n",
    "for k, ss in sorted(sizes.items()):\n",
    "\n",
    "    fig = fig.add_trace(go.Scatter(x = list(map(lambda x: x/f_size, ss)),\n",
    "                                   y = aucs[k], \n",
    "                                   name = f\"{k} %\", text=gammas, \n",
    "                                   hovertemplate = 'AuC: %{y:.3f}<br>Comp: %{x}<br>Epsilon: %{text}'))\n",
    "    \n",
    "fig.update_layout(\n",
    "    title=\"Origins and full networks Compression vs. PRAuC\",\n",
    "    xaxis_title=\"Compression\",\n",
    "    yaxis_title=\"PRAuC\",\n",
    "    legend_title=\"Size of the origin partition\"\n",
    ")\n",
    "    \n",
    "fig.update_layout(hovermode=\"x unified\")\n",
    "\n",
    "fig.show()"
   ]
  }
 ],
 "metadata": {
  "kernelspec": {
   "display_name": "Python 3",
   "language": "python",
   "name": "python3"
  },
  "language_info": {
   "codemirror_mode": {
    "name": "ipython",
    "version": 3
   },
   "file_extension": ".py",
   "mimetype": "text/x-python",
   "name": "python",
   "nbconvert_exporter": "python",
   "pygments_lexer": "ipython3",
   "version": "3.8.6"
  }
 },
 "nbformat": 4,
 "nbformat_minor": 5
}
