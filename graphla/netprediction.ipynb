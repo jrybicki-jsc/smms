{
 "cells": [
  {
   "cell_type": "code",
   "execution_count": 1,
   "metadata": {},
   "outputs": [],
   "source": [
    "import pandas as pd\n",
    "import numpy as np\n",
    "#import graphlab as tc\n",
    "import turicreate as tc\n",
    "from tqdm.notebook import tqdm\n",
    "import turicreate.aggregate as agg"
   ]
  },
  {
   "cell_type": "code",
   "execution_count": 2,
   "metadata": {},
   "outputs": [],
   "source": [
    "def f_create_network(data, gamma):\n",
    "    apks = data['apk'].unique()\n",
    "    k = apks.shape[0]\n",
    "    sim_recom = tc.item_similarity_recommender.create(data, \n",
    "                                                      user_id='function', \n",
    "                                                      item_id='apk', \n",
    "                                                      similarity_type='jaccard', \n",
    "                                                      only_top_k=k, verbose=False)\n",
    "    itms = sim_recom.get_similar_items(apks, k=k)\n",
    "    # missing more \"distant nodes\", \"not aggregating nodes\"\n",
    "    gw=itms[itms['score']>=1-gamma].groupby(key_column_names='apk', operations={'sims': agg.DISTINCT('similar')})\n",
    "    \n",
    "    \n",
    "\n",
    "    \n",
    "    ws = set(gw['apk'])\n",
    "    net = dict()\n",
    "    already_added = set()\n",
    "    while len(ws)>0:\n",
    "        w= ws.pop()\n",
    "\n",
    "        simp = set(gw[gw['apk']==w]['sims'][0])\n",
    "        simp = simp - already_added\n",
    "\n",
    "        net[w] = list(simp)\n",
    "        already_added.update(simp)\n",
    "        already_added.add(w)\n",
    "\n",
    "        ws = ws - simp\n",
    "    \n",
    "        \n",
    "    # add solitary nodes & not-aggregating nodes\n",
    "    if len(already_added)> 0:\n",
    "        nds = apks.filter_by(list(already_added), exclude=True)\n",
    "    else:\n",
    "        nds = apks\n",
    "        \n",
    "    for n in nds:\n",
    "        net[n] = []\n",
    "        \n",
    "    return net"
   ]
  },
  {
   "cell_type": "code",
   "execution_count": 4,
   "metadata": {},
   "outputs": [],
   "source": [
    "mw = tc.load_sframe('../binarydata/funcs-encoded')\n",
    "mw = mw.remove_column('fcount', inplace=True)"
   ]
  },
  {
   "cell_type": "code",
   "execution_count": 5,
   "metadata": {},
   "outputs": [],
   "source": [
    "test_apns = np.load('../res/test-tc-1000.npy')"
   ]
  },
  {
   "cell_type": "code",
   "execution_count": 6,
   "metadata": {},
   "outputs": [],
   "source": [
    "import pickle\n",
    "\n",
    "net_file = '../res/9003-tc-jaccard-votingnets.pickle'\n",
    "with open(net_file, 'rb') as f:\n",
    "    nets = pickle.load(f)"
   ]
  },
  {
   "cell_type": "code",
   "execution_count": 7,
   "metadata": {},
   "outputs": [],
   "source": [
    "ref, mer = nets[0.0]"
   ]
  },
  {
   "cell_type": "code",
   "execution_count": 10,
   "metadata": {},
   "outputs": [],
   "source": [
    "dds = mw.filter_by(values=ref.keys(), column_name='apk')"
   ]
  },
  {
   "cell_type": "code",
   "execution_count": 15,
   "metadata": {},
   "outputs": [],
   "source": [
    "tts = mw.filter_by(values=test_apns, column_name='apk')"
   ]
  },
  {
   "cell_type": "code",
   "execution_count": 12,
   "metadata": {},
   "outputs": [],
   "source": [
    "k = 1000\n",
    "sim_recom = tc.item_similarity_recommender.create(dds, \n",
    "                                                      user_id='function', \n",
    "                                                      item_id='apk', \n",
    "                                                      similarity_type='jaccard', \n",
    "                                                      only_top_k=k, verbose=False)"
   ]
  },
  {
   "cell_type": "code",
   "execution_count": 16,
   "metadata": {},
   "outputs": [],
   "source": [
    "preds = sim_recom.predict(tts)"
   ]
  },
  {
   "cell_type": "code",
   "execution_count": 17,
   "metadata": {},
   "outputs": [
    {
     "data": {
      "text/plain": [
       "dtype: float\n",
       "Rows: 3540071\n",
       "[0.24805590386192003, 0.3312299860866743, 0.0, 0.15946469704310098, 0.27580193110874723, 0.17563376497866504, 0.0, 0.7718316104964934, 0.14815204085842257, 0.0, 0.277665376663208, 0.14829435315359465, 0.30063122639924417, 0.21498892933218178, 0.7718316104964934, 0.2186064122922378, 0.3312671161317206, 0.6268826273904331, 0.0, 0.15847103794415793, 0.0, 0.08293630463627581, 0.0, 0.0, 0.0, 0.0, 0.0, 0.10194328014240708, 0.0, 0.44885062336921694, 0.040303671244278694, 0.2597382295162972, 0.0, 0.22999340295791626, 0.0, 0.005476392431737669, 0.08148811165278642, 0.14125619754565888, 0.46017616987228394, 0.0759665963439206, 0.0, 0.7816644064103714, 0.20437913571715985, 0.1558559122404836, 0.0030576510145931663, 0.7580290678618611, 0.0, 0.21955888072649637, 0.0, 0.2063053173690357, 0.471559683318998, 0.0, 0.7942552974029463, 0.0, 0.5369575983948178, 0.14458289691670376, 0.7249521190921465, 0.1759323957804087, 0.14817800231882045, 0.5681439788654598, 0.0, 0.20968792905584413, 0.34417722090868885, 0.17621175430119487, 0.0, 0.07035262390499201, 0.0, 0.23808138370513915, 0.13317797023696004, 0.6816045667814172, 0.733161469723316, 0.4189814346678117, 0.6723899990320206, 0.0, 0.0524564523145972, 0.04608582867406945, 0.14032224108036556, 0.33983634276823566, 0.0, 0.25802956468108074, 0.3157442319038311, 0.14660122273843498, 0.14660194325954357, 0.006839684169617058, 0.16615952804786008, 0.0, 0.0, 0.0, 0.34789435601815943, 0.7595070319763129, 0.0, 0.22346866577328506, 0.0, 0.19605489008333507, 0.0, 0.09614544663400877, 0.03820054003825554, 0.0190158629151772, 0.18537554052221314, 0.0, ... ]"
      ]
     },
     "execution_count": 17,
     "metadata": {},
     "output_type": "execute_result"
    }
   ],
   "source": [
    "preds"
   ]
  },
  {
   "cell_type": "code",
   "execution_count": 20,
   "metadata": {},
   "outputs": [
    {
     "data": {
      "text/plain": [
       "dtype: float\n",
       "Rows: 1\n",
       "[0.27580193110874723]"
      ]
     },
     "execution_count": 20,
     "metadata": {},
     "output_type": "execute_result"
    }
   ],
   "source": [
    "sim_recom.predict(tts[4])"
   ]
  },
  {
   "cell_type": "code",
   "execution_count": 22,
   "metadata": {},
   "outputs": [
    {
     "data": {
      "text/plain": [
       "dtype: float\n",
       "Rows: 18516\n",
       "[0.24805590386192003, 0.27090784931971024, 0.5270429154237112, 0.028318852846130425, 0.5270429154237112, 0.37883143804290076, 0.21037665196249442, 0.22858889999790727, 0.5270429154237112, 0.2741177305348517, 0.1993709589363238, 0.10766640582153102, 0.16128995571986282, 0.16744171902537347, 0.28320428891615435, 0.07200670116364984, 0.4092070900875589, 0.20954668313419264, 0.5270429154237112, 0.09538969340597749, 0.25282739187506115, 0.5270429154237112, 0.27031389291469865, 0.39438218162173316, 0.2688381314277649, 0.07082994438197515, 0.5270429154237112, 0.07183114196255, 0.5270429154237112, 0.09561769129255208, 0.5270429154237112, 0.31768674002243924, 0.5270429154237112, 0.5270429154237112, 0.05962337746610955, 0.24828219413757324, 0.25520707088068495, 0.046019640093144305, 0.06946651347271808, 0.2964508142322302, 0.08787228085182525, 0.11464953550270625, 0.25873138046846156, 0.5270429154237112, 0.2760086269445822, 0.23746347242622937, 0.055303460426544875, 0.06632644721874428, 0.5270429154237112, 0.2176763036034324, 0.5270429154237112, 0.3694604145629065, 0.3694604145629065, 0.08120627451733894, 0.09422790133742286, 0.5270429154237112, 0.16271510750356347, 0.5270429154237112, 0.23979703269221567, 0.5270429154237112, 0.09416091270099769, 0.5270429154237112, 0.2760086269445822, 0.2718726359307766, 0.0864207710324939, 0.5270429154237112, 0.5270429154237112, 0.20458537584001368, 0.2539058488878337, 0.5270429154237112, 0.07104772855172807, 0.21045731736597212, 0.20983137800204044, 0.08472831733209275, 0.2176763036034324, 0.10630244353084677, 0.11550274712980287, 0.24278583364053205, 0.22709598452800575, 0.21037665196249442, 0.3286445063929404, 0.23979703269221567, 0.45175107036318096, 0.5270429154237112, 0.21509284794410388, 0.5270429154237112, 0.22222477939140284, 0.5270429154237112, 0.05663177969934847, 0.20939186534711293, 0.20954668313419264, 0.30976255373521283, 0.25559009820961753, 0.208247370394316, 0.04801158304694745, 0.5270429154237112, 0.5270429154237112, 0.2222413228486072, 0.2732080035943251, 0.3694604145629065, ... ]"
      ]
     },
     "execution_count": 22,
     "metadata": {},
     "output_type": "execute_result"
    }
   ],
   "source": [
    "sim_recom.predict(mw[mw['apk']==4227])"
   ]
  },
  {
   "cell_type": "code",
   "execution_count": null,
   "metadata": {},
   "outputs": [],
   "source": []
  }
 ],
 "metadata": {
  "kernelspec": {
   "display_name": "Python 3",
   "language": "python",
   "name": "python3"
  },
  "language_info": {
   "codemirror_mode": {
    "name": "ipython",
    "version": 3
   },
   "file_extension": ".py",
   "mimetype": "text/x-python",
   "name": "python",
   "nbconvert_exporter": "python",
   "pygments_lexer": "ipython3",
   "version": "3.8.6"
  }
 },
 "nbformat": 4,
 "nbformat_minor": 4
}
