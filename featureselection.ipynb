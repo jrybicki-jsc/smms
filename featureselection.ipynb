{
 "cells": [
  {
   "cell_type": "code",
   "execution_count": 1,
   "metadata": {},
   "outputs": [],
   "source": [
    "import pandas as pd\n",
    "import numpy as np\n",
    "import pickle\n",
    "from appknn import classify_using_voting, vote, adf, lcl, calculate_metrics, jaccard, eval_net, create_voting_net\n",
    "from evaluate import get_data\n",
    "from dataprep import get_part_indexes"
   ]
  },
  {
   "cell_type": "code",
   "execution_count": 2,
   "metadata": {},
   "outputs": [],
   "source": [
    "d = get_data()"
   ]
  },
  {
   "cell_type": "code",
   "execution_count": 51,
   "metadata": {},
   "outputs": [],
   "source": [
    "nafs = d['nf'].to_numpy()\n",
    "nlabs = d['ml'].to_numpy()\n",
    "nc = lambda x: lcl(x, d['ml'])\n",
    "\n",
    "distance = lambda x,y: jaccard(x,y, nafs)"
   ]
  },
  {
   "cell_type": "code",
   "execution_count": 65,
   "metadata": {},
   "outputs": [],
   "source": [
    "def mjaccard(x,y, nafs):\n",
    "    if len(nafs[x]) == 0 == len(nafs[y]):\n",
    "        return 1\n",
    "    return jaccard(x,y, nafs)"
   ]
  },
  {
   "cell_type": "code",
   "execution_count": 7,
   "metadata": {},
   "outputs": [
    {
     "data": {
      "text/plain": [
       "0.9836065573770492"
      ]
     },
     "execution_count": 7,
     "metadata": {},
     "output_type": "execute_result"
    }
   ],
   "source": [
    "distance(0, 2)"
   ]
  },
  {
   "cell_type": "code",
   "execution_count": 19,
   "metadata": {},
   "outputs": [],
   "source": [
    "a, _ = get_part_indexes(d['nf'], 2, 100, 1)"
   ]
  },
  {
   "cell_type": "code",
   "execution_count": 23,
   "metadata": {},
   "outputs": [],
   "source": [
    "smallset = d['nf'].iloc[a]"
   ]
  },
  {
   "cell_type": "code",
   "execution_count": 45,
   "metadata": {},
   "outputs": [],
   "source": [
    "allfeatures = list(set(smallset.values[0]))"
   ]
  },
  {
   "cell_type": "code",
   "execution_count": 59,
   "metadata": {},
   "outputs": [],
   "source": [
    "def enable_feature(di, feature, fullset):\n",
    "    for apn, functions in di.items():\n",
    "        if feature in fullset[apn]:\n",
    "            functions.add(feature)"
   ]
  },
  {
   "cell_type": "code",
   "execution_count": 60,
   "metadata": {},
   "outputs": [],
   "source": [
    "star = {apn: set() for apn in smallset.index}"
   ]
  },
  {
   "cell_type": "code",
   "execution_count": 61,
   "metadata": {},
   "outputs": [],
   "source": [
    "enable_feature(star,allfeatures[0] , smallset)"
   ]
  },
  {
   "cell_type": "code",
   "execution_count": 66,
   "metadata": {},
   "outputs": [
    {
     "data": {
      "text/plain": [
       "{19934: [6, 19],\n",
       " 24329: [1, 0],\n",
       " 8191: [1, 0],\n",
       " 20488: [0, 1],\n",
       " 21443: [1, 0],\n",
       " 25328: [1, 0],\n",
       " 27292: [1, 0],\n",
       " 27647: [1, 0],\n",
       " 10878: [0, 1],\n",
       " 19548: [0, 1],\n",
       " 5576: [0, 1],\n",
       " 13621: [1, 0],\n",
       " 1964: [1, 0],\n",
       " 1249: [0, 1],\n",
       " 23465: [1, 0],\n",
       " 7696: [0, 1],\n",
       " 25146: [1, 0],\n",
       " 6116: [1, 0],\n",
       " 2976: [0, 1],\n",
       " 3830: [1, 0],\n",
       " 21266: [1, 0],\n",
       " 11705: [1, 0],\n",
       " 22003: [1, 0],\n",
       " 9130: [1, 0],\n",
       " 23720: [1, 0],\n",
       " 18078: [0, 1],\n",
       " 5954: [0, 1],\n",
       " 25384: [1, 0],\n",
       " 14495: [1, 0],\n",
       " 765: [0, 1],\n",
       " 14770: [1, 0],\n",
       " 5869: [1, 0],\n",
       " 12709: [1, 0],\n",
       " 2347: [0, 1],\n",
       " 6233: [0, 1],\n",
       " 14031: [1, 0],\n",
       " 1222: [0, 1],\n",
       " 23631: [1, 0],\n",
       " 4936: [0, 1],\n",
       " 15425: [0, 1],\n",
       " 9642: [0, 1],\n",
       " 22080: [1, 0],\n",
       " 7800: [1, 0],\n",
       " 21893: [1, 0],\n",
       " 13813: [0, 1],\n",
       " 20306: [0, 1],\n",
       " 16663: [1, 0],\n",
       " 2725: [1, 0],\n",
       " 339: [1, 0],\n",
       " 8287: [0, 1],\n",
       " 12759: [1, 0],\n",
       " 7158: [1, 0],\n",
       " 21381: [1, 0],\n",
       " 2740: [1, 0],\n",
       " 1448: [1, 0],\n",
       " 13201: [1, 0],\n",
       " 628: [0, 1],\n",
       " 11689: [0, 1],\n",
       " 19852: [0, 1],\n",
       " 25087: [1, 0],\n",
       " 15471: [0, 1],\n",
       " 2258: [1, 0],\n",
       " 23787: [1, 0],\n",
       " 11692: [1, 0],\n",
       " 9274: [1, 0],\n",
       " 15992: [1, 0],\n",
       " 11860: [0, 1],\n",
       " 3690: [0, 1],\n",
       " 18962: [0, 1],\n",
       " 26548: [1, 0],\n",
       " 21784: [1, 0],\n",
       " 8932: [1, 0],\n",
       " 25387: [1, 0],\n",
       " 267: [1, 0],\n",
       " 24752: [1, 0],\n",
       " 20558: [0, 1]}"
      ]
     },
     "execution_count": 66,
     "metadata": {},
     "output_type": "execute_result"
    }
   ],
   "source": [
    "create_voting_net(gamma=0.7, apns=list(star.keys()), distance=lambda x,y: mjaccard(x,y, star), classifier=nc)"
   ]
  },
  {
   "cell_type": "code",
   "execution_count": 53,
   "metadata": {},
   "outputs": [],
   "source": [
    "z = set()"
   ]
  },
  {
   "cell_type": "code",
   "execution_count": 58,
   "metadata": {},
   "outputs": [],
   "source": [
    "z.add(1)"
   ]
  },
  {
   "cell_type": "code",
   "execution_count": 56,
   "metadata": {},
   "outputs": [],
   "source": [
    "z?"
   ]
  },
  {
   "cell_type": "code",
   "execution_count": null,
   "metadata": {},
   "outputs": [],
   "source": []
  }
 ],
 "metadata": {
  "kernelspec": {
   "display_name": "Python 3",
   "language": "python",
   "name": "python3"
  },
  "language_info": {
   "codemirror_mode": {
    "name": "ipython",
    "version": 3
   },
   "file_extension": ".py",
   "mimetype": "text/x-python",
   "name": "python",
   "nbconvert_exporter": "python",
   "pygments_lexer": "ipython3",
   "version": "3.8.6"
  }
 },
 "nbformat": 4,
 "nbformat_minor": 4
}
