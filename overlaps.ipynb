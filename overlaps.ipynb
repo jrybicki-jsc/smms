{
 "cells": [
  {
   "cell_type": "code",
   "execution_count": 1,
   "metadata": {},
   "outputs": [],
   "source": [
    "import pandas as pd"
   ]
  },
  {
   "cell_type": "code",
   "execution_count": 2,
   "metadata": {},
   "outputs": [],
   "source": [
    "v = pd.read_csv('data/functions_encoded.csv')"
   ]
  },
  {
   "cell_type": "code",
   "execution_count": 3,
   "metadata": {},
   "outputs": [
    {
     "data": {
      "text/html": [
       "<div>\n",
       "<style scoped>\n",
       "    .dataframe tbody tr th:only-of-type {\n",
       "        vertical-align: middle;\n",
       "    }\n",
       "\n",
       "    .dataframe tbody tr th {\n",
       "        vertical-align: top;\n",
       "    }\n",
       "\n",
       "    .dataframe thead th {\n",
       "        text-align: right;\n",
       "    }\n",
       "</style>\n",
       "<table border=\"1\" class=\"dataframe\">\n",
       "  <thead>\n",
       "    <tr style=\"text-align: right;\">\n",
       "      <th></th>\n",
       "      <th>app</th>\n",
       "      <th>len</th>\n",
       "    </tr>\n",
       "    <tr>\n",
       "      <th>nf</th>\n",
       "      <th></th>\n",
       "      <th></th>\n",
       "    </tr>\n",
       "  </thead>\n",
       "  <tbody>\n",
       "    <tr>\n",
       "      <th>8012912229855683430</th>\n",
       "      <td>{23880, 13194}</td>\n",
       "      <td>2</td>\n",
       "    </tr>\n",
       "    <tr>\n",
       "      <th>-422259408315111154</th>\n",
       "      <td>{915, 5319}</td>\n",
       "      <td>2</td>\n",
       "    </tr>\n",
       "    <tr>\n",
       "      <th>7755423834457723112</th>\n",
       "      <td>{17087, 13007}</td>\n",
       "      <td>2</td>\n",
       "    </tr>\n",
       "    <tr>\n",
       "      <th>-551400906288077784</th>\n",
       "      <td>{15665, 16094}</td>\n",
       "      <td>2</td>\n",
       "    </tr>\n",
       "    <tr>\n",
       "      <th>-563837305747888398</th>\n",
       "      <td>{19418, 19100}</td>\n",
       "      <td>2</td>\n",
       "    </tr>\n",
       "    <tr>\n",
       "      <th>...</th>\n",
       "      <td>...</td>\n",
       "      <td>...</td>\n",
       "    </tr>\n",
       "    <tr>\n",
       "      <th>-59448698893629519</th>\n",
       "      <td>{22017, 4100, 5645, 12315, 22052, 9253, 21541,...</td>\n",
       "      <td>80</td>\n",
       "    </tr>\n",
       "    <tr>\n",
       "      <th>-7392556630586546686</th>\n",
       "      <td>{3072, 5632, 2564, 3082, 9226, 10765, 10770, 1...</td>\n",
       "      <td>90</td>\n",
       "    </tr>\n",
       "    <tr>\n",
       "      <th>7035570435439634449</th>\n",
       "      <td>{17410, 18436, 18948, 3086, 6158, 17935, 10261...</td>\n",
       "      <td>188</td>\n",
       "    </tr>\n",
       "    <tr>\n",
       "      <th>-1774380794773726553</th>\n",
       "      <td>{12800, 509, 17409, 18949, 6, 11272, 10761, 14...</td>\n",
       "      <td>210</td>\n",
       "    </tr>\n",
       "    <tr>\n",
       "      <th>6768993199488181299</th>\n",
       "      <td>{3, 8200, 16393, 16395, 24590, 16, 8210, 24594...</td>\n",
       "      <td>1450</td>\n",
       "    </tr>\n",
       "  </tbody>\n",
       "</table>\n",
       "<p>140 rows × 2 columns</p>\n",
       "</div>"
      ],
      "text/plain": [
       "                                                                    app   len\n",
       "nf                                                                           \n",
       " 8012912229855683430                                     {23880, 13194}     2\n",
       "-422259408315111154                                         {915, 5319}     2\n",
       " 7755423834457723112                                     {17087, 13007}     2\n",
       "-551400906288077784                                      {15665, 16094}     2\n",
       "-563837305747888398                                      {19418, 19100}     2\n",
       "...                                                                 ...   ...\n",
       "-59448698893629519    {22017, 4100, 5645, 12315, 22052, 9253, 21541,...    80\n",
       "-7392556630586546686  {3072, 5632, 2564, 3082, 9226, 10765, 10770, 1...    90\n",
       " 7035570435439634449  {17410, 18436, 18948, 3086, 6158, 17935, 10261...   188\n",
       "-1774380794773726553  {12800, 509, 17409, 18949, 6, 11272, 10761, 14...   210\n",
       " 6768993199488181299  {3, 8200, 16393, 16395, 24590, 16, 8210, 24594...  1450\n",
       "\n",
       "[140 rows x 2 columns]"
      ]
     },
     "execution_count": 3,
     "metadata": {},
     "output_type": "execute_result"
    }
   ],
   "source": [
    "# group by apn, make a set of funcitons used, and calculate its hash\n",
    "hashes = v.groupby(by='apn')['nf'].apply(lambda x: hash(tuple(set(x))))\n",
    "df = pd.DataFrame(hashes)\n",
    "\n",
    "# now for each hash of funciton set, create a list of applications\n",
    "df['app'] = df.index\n",
    "merged = df.groupby(by='nf')['app'].apply(set)\n",
    "mm = pd.DataFrame(merged)\n",
    "\n",
    "# how many applicaitons \n",
    "mm['len'] = mm.app.apply(len)\n",
    "\n",
    "# all function sets used by more than one application\n",
    "mm[mm.len>1].sort_values(by='len')"
   ]
  },
  {
   "cell_type": "code",
   "execution_count": 5,
   "metadata": {},
   "outputs": [
    {
     "data": {
      "text/plain": [
       "0.2804158752374288"
      ]
     },
     "execution_count": 5,
     "metadata": {},
     "output_type": "execute_result"
    }
   ],
   "source": [
    "mm[mm.len>1].len.sum() / mm.len.sum()"
   ]
  },
  {
   "cell_type": "code",
   "execution_count": 4,
   "metadata": {},
   "outputs": [
    {
     "data": {
      "text/plain": [
       "10003"
      ]
     },
     "execution_count": 4,
     "metadata": {},
     "output_type": "execute_result"
    }
   ],
   "source": [
    "mm.len.sum()"
   ]
  },
  {
   "cell_type": "code",
   "execution_count": null,
   "metadata": {},
   "outputs": [],
   "source": []
  }
 ],
 "metadata": {
  "kernelspec": {
   "display_name": "Python 3",
   "language": "python",
   "name": "python3"
  },
  "language_info": {
   "codemirror_mode": {
    "name": "ipython",
    "version": 3
   },
   "file_extension": ".py",
   "mimetype": "text/x-python",
   "name": "python",
   "nbconvert_exporter": "python",
   "pygments_lexer": "ipython3",
   "version": "3.8.6"
  }
 },
 "nbformat": 4,
 "nbformat_minor": 4
}
