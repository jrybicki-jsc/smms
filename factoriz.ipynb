{
 "cells": [
  {
   "cell_type": "code",
   "execution_count": 18,
   "metadata": {},
   "outputs": [],
   "source": [
    "import csv\n",
    "import re"
   ]
  },
  {
   "cell_type": "code",
   "execution_count": 11,
   "metadata": {},
   "outputs": [
    {
     "name": "stdout",
     "output_type": "stream",
     "text": [
      "README       u.genre      u.user       u2.test      u4.test      ua.test\r\n",
      "\u001b[31mallbut.pl\u001b[m\u001b[m    u.info       u1.base      u3.base      u5.base      ub.base\r\n",
      "\u001b[31mmku.sh\u001b[m\u001b[m       u.item       u1.test      u3.test      u5.test      ub.test\r\n",
      "u.data       u.occupation u2.base      u4.base      ua.base\r\n"
     ]
    }
   ],
   "source": [
    "#http://files.grouplens.org/datasets/movielens/ml-100k.zip\n",
    "! ls data/ml-100k"
   ]
  },
  {
   "cell_type": "code",
   "execution_count": 12,
   "metadata": {},
   "outputs": [],
   "source": [
    "MOVIES = \"data/ml-100k/u.item\"\n",
    "RATINGS = \"data/ml-100k/u.data\""
   ]
  },
  {
   "cell_type": "code",
   "execution_count": 13,
   "metadata": {},
   "outputs": [],
   "source": [
    "with open(MOVIES, encoding='iso-8859-1') as f:\n",
    "    reader = csv.reader(f, delimiter='|')\n",
    "    movies = {movie_id: title for movie_id, title, *_ in reader}"
   ]
  },
  {
   "cell_type": "code",
   "execution_count": 14,
   "metadata": {},
   "outputs": [],
   "source": [
    "with open(RATINGS, encoding='iso-8859-1') as f:\n",
    "    reader = csv.reader(f, delimiter='\\t')\n",
    "    ratings = [(user_id, movie_id, float(rating)) for user_id, movie_id, rating, _ in reader]"
   ]
  },
  {
   "cell_type": "markdown",
   "metadata": {},
   "source": [
    "## Star Wars only"
   ]
  },
  {
   "cell_type": "code",
   "execution_count": 25,
   "metadata": {},
   "outputs": [],
   "source": [
    "swars = {movie_id:[] for movie_id, title in movies.items() if re.search(\"Star Wars|Empire Strikes|Jedi\", title)}"
   ]
  },
  {
   "cell_type": "code",
   "execution_count": 27,
   "metadata": {},
   "outputs": [],
   "source": [
    "for (user_id, movie_id, rating) in ratings:\n",
    "    if movie_id in swars:\n",
    "        swars[movie_id].append(rating)"
   ]
  },
  {
   "cell_type": "code",
   "execution_count": 37,
   "metadata": {},
   "outputs": [
    {
     "name": "stdout",
     "output_type": "stream",
     "text": [
      "Star Wars (1977)  4.36\n",
      "Empire Strikes Back, The (1980)  4.20\n",
      "Return of the Jedi (1983)  4.01\n"
     ]
    }
   ],
   "source": [
    "for movie_id, rats in swars.items():\n",
    "    avg = sum(rats)/len(rats)\n",
    "    print(f\"{movies[movie_id]}  {avg:.2f}\")"
   ]
  },
  {
   "cell_type": "code",
   "execution_count": null,
   "metadata": {},
   "outputs": [],
   "source": []
  }
 ],
 "metadata": {
  "kernelspec": {
   "display_name": "Python 3",
   "language": "python",
   "name": "python3"
  },
  "language_info": {
   "codemirror_mode": {
    "name": "ipython",
    "version": 3
   },
   "file_extension": ".py",
   "mimetype": "text/x-python",
   "name": "python",
   "nbconvert_exporter": "python",
   "pygments_lexer": "ipython3",
   "version": "3.7.6"
  }
 },
 "nbformat": 4,
 "nbformat_minor": 4
}
